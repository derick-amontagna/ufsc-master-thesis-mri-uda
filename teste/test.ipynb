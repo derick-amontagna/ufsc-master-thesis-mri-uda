{
 "cells": [
  {
   "cell_type": "code",
   "execution_count": 1,
   "metadata": {},
   "outputs": [
    {
     "name": "stderr",
     "output_type": "stream",
     "text": [
      "/root/anaconda3/envs/lapixdl/lib/python3.11/site-packages/transformers/utils/generic.py:441: UserWarning: torch.utils._pytree._register_pytree_node is deprecated. Please use torch.utils._pytree.register_pytree_node instead.\n",
      "  _torch_pytree._register_pytree_node(\n",
      "/root/anaconda3/envs/lapixdl/lib/python3.11/site-packages/torchvision/transforms/v2/_deprecated.py:41: UserWarning: The transform `ToTensor()` is deprecated and will be removed in a future release. Instead, please use `v2.Compose([v2.ToImage(), v2.ToDtype(torch.float32, scale=True)])`.\n",
      "  warnings.warn(\n"
     ]
    },
    {
     "name": "stdout",
     "output_type": "stream",
     "text": [
      "cuda:5\n"
     ]
    }
   ],
   "source": [
    "import os\n",
    "import random\n",
    "import pickle\n",
    "\n",
    "import comet_ml\n",
    "from comet_ml import Artifact\n",
    "\n",
    "import numpy as np\n",
    "import torch\n",
    "import torch.nn as nn\n",
    "from torch.utils.data import DataLoader\n",
    "from torchvision import transforms\n",
    "from torch.optim.lr_scheduler import CyclicLR, ReduceLROnPlateau\n",
    "\n",
    "from teste import engine, utils\n",
    "from common.CustomData import MRI_NII_2D\n",
    "from common.data_setup import data_transforms, DOMAINS\n",
    "from common.networks import (\n",
    "    ARCHITECTURES,\n",
    "    Classifier,\n",
    "    DenseNet201WithCustomClassifierDropout,\n",
    "    DenseNet169WithCustomClassifierDropout,\n",
    "    DAMS,\n",
    ")\n",
    "\n",
    "from torchinfo import summary\n",
    "\n",
    "# Setup target device\n",
    "device = \"cuda:5\" if torch.cuda.is_available() else \"cpu\"\n",
    "print(device)"
   ]
  },
  {
   "cell_type": "code",
   "execution_count": 2,
   "metadata": {},
   "outputs": [],
   "source": [
    "def contar_arquivos_em_subpastas(caminho):\n",
    "    for pasta, subpastas, arquivos in os.walk(caminho):\n",
    "        if len(arquivos) != 0:\n",
    "            try:\n",
    "                DOMAIN, SLIT, CLASS = rf\"{pasta}\".split(\"/\")[-3:]\n",
    "                print(f\"{DOMAIN}/{SLIT}/{CLASS} contém {len(arquivos)} arquivos\")\n",
    "            except:\n",
    "                print(pasta.split(\"/\"))\n",
    "\n",
    "\n",
    "# Exemplo de uso:\n",
    "caminho = r\"data/ADNI1-T1-AD-CN/Image/Preprocess/6_step_nifti_2d\"\n",
    "contar_arquivos_em_subpastas(caminho)"
   ]
  },
  {
   "cell_type": "code",
   "execution_count": 3,
   "metadata": {},
   "outputs": [
    {
     "data": {
      "text/plain": [
       "224"
      ]
     },
     "execution_count": 3,
     "metadata": {},
     "output_type": "execute_result"
    }
   ],
   "source": [
    "import multiprocessing\n",
    "\n",
    "multiprocessing.cpu_count()"
   ]
  },
  {
   "cell_type": "code",
   "execution_count": 4,
   "metadata": {},
   "outputs": [],
   "source": [
    "# Setup hyperparameters\n",
    "NUM_EPOCHS = 50\n",
    "NUM_WORKES = 16\n",
    "SOURCE = \"Siemens\"\n",
    "TARGET_1 = \"Philips\"\n",
    "TARGET_2 = \"GE\"\n",
    "EXP_NUMBER = \"DAMS-SGD-8\"\n",
    "config = {\n",
    "    # Pick the algorithm:\n",
    "    \"algorithm\": \"grid\",\n",
    "    # Declare your hyperparameters:\n",
    "    \"parameters\": {\n",
    "        \"lr\": {\"type\": \"discrete\", \"values\": [0.001, 0.0009, 0.0007]},  # 0.001,\n",
    "        \"batch_size\": {\"type\": \"discrete\", \"values\": [16, 32, 64]},\n",
    "        \"dropout\": {\"type\": \"discrete\", \"values\": [0.2, 0.3, 0.4]},\n",
    "        \"momentum\": {\n",
    "            \"type\": \"discrete\",\n",
    "            \"values\": [0.9],\n",
    "        },  # [0.0005, 0.0001, 0.005, 0.001]\n",
    "        \"weight_decay\": {\n",
    "            \"type\": \"discrete\",\n",
    "            \"values\": [0.03, 0.02],\n",
    "        },  # [0, 0.01, 0.001] - [0.0001, 0.001, 0.01]\n",
    "        \"model\": {\n",
    "            \"type\": \"categorical\",\n",
    "            \"values\": [\"DAMS\"],\n",
    "        },\n",
    "        # \"transform\": {\"type\": \"categorical\", \"values\": [\"train\", \"train_alt\"]},\n",
    "        \"source\": {\"type\": \"categorical\", \"values\": [SOURCE]},\n",
    "        \"target_1\": {\"type\": \"categorical\", \"values\": [TARGET_1]},\n",
    "        \"target_2\": {\"type\": \"categorical\", \"values\": [TARGET_2]},\n",
    "        \"seed\": {\"type\": \"discrete\", \"values\": [42]},\n",
    "    },\n",
    "    # Declare what to optimize, and how:\n",
    "    \"spec\": {\n",
    "        \"metric\": \"val_auc\",\n",
    "        \"objective\": \"maximize\",\n",
    "    },\n",
    "    \"name\": f\"SOURCE_{SOURCE}\",\n",
    "    \"trials\": 1,\n",
    "}"
   ]
  },
  {
   "cell_type": "code",
   "execution_count": 5,
   "metadata": {},
   "outputs": [],
   "source": [
    "def seed_everything(seed: int):\n",
    "    os.environ[\"PYTHONHASHSEED\"] = str(seed)\n",
    "    random.seed(seed)\n",
    "    np.random.seed(seed)\n",
    "    torch.manual_seed(seed)\n",
    "    torch.cuda.manual_seed(seed)\n",
    "    torch.backends.cudnn.deterministic = True\n",
    "    torch.backends.cudnn.benchmark = False\n",
    "    # g = torch.Generator()\n",
    "    # g.manual_seed(0)\n",
    "    # return g"
   ]
  },
  {
   "cell_type": "code",
   "execution_count": null,
   "metadata": {},
   "outputs": [
    {
     "name": "stderr",
     "output_type": "stream",
     "text": [
      "\u001b[1;38;5;39mCOMET INFO:\u001b[0m a6175d5da17447a2a07d393e335bcde5\n",
      "\u001b[1;38;5;39mCOMET INFO:\u001b[0m Using optimizer config: {'algorithm': 'grid', 'configSpaceSize': 54, 'endTime': None, 'id': 'a6175d5da17447a2a07d393e335bcde5', 'lastUpdateTime': None, 'maxCombo': 0, 'name': 'SOURCE_Siemens', 'parameters': {'batch_size': {'type': 'discrete', 'values': [16, 32, 64]}, 'dropout': {'type': 'discrete', 'values': [0.2, 0.3, 0.4]}, 'lr': {'type': 'discrete', 'values': [0.001, 0.0009, 0.0007]}, 'model': {'type': 'categorical', 'values': ['DAMS']}, 'momentum': {'type': 'discrete', 'values': [0.9]}, 'seed': {'type': 'discrete', 'values': [42]}, 'source': {'type': 'categorical', 'values': ['Siemens']}, 'target_1': {'type': 'categorical', 'values': ['Philips']}, 'target_2': {'type': 'categorical', 'values': ['GE']}, 'weight_decay': {'type': 'discrete', 'values': [0.03, 0.02]}}, 'predictor': None, 'spec': {'gridSize': 10, 'maxCombo': 0, 'metric': 'val_auc', 'minSampleSize': 100, 'objective': 'maximize', 'randomize': False, 'retryAssignLimit': 0, 'retryLimit': 1000}, 'startTime': 2732165943, 'state': {'mode': None, 'seed': None, 'sequence': [], 'sequence_i': 0, 'sequence_pid': None, 'sequence_retry': 0, 'sequence_retry_count': 0}, 'status': 'running', 'suggestion_count': 0, 'trials': 1, 'version': '2.1.4'}\n",
      "\u001b[1;38;5;214mCOMET WARNING:\u001b[0m As you are running in a Jupyter environment, you will need to call `experiment.end()` when finished to ensure all metrics and code are logged before exiting.\n",
      "\u001b[1;38;5;39mCOMET INFO:\u001b[0m Experiment is live on comet.com https://www.comet.com/derick-amontagna/adni1-s-siemens-dams-sgd-8/71f696dae71140538f317c84e702091b\n",
      "\n"
     ]
    },
    {
     "name": "stdout",
     "output_type": "stream",
     "text": [
      "Treinando esse modelo: DAMS\n",
      "Treinando com o source: Siemens/target: Philips/GE\n"
     ]
    },
    {
     "name": "stderr",
     "output_type": "stream",
     "text": [
      "\u001b[1;38;5;39mCOMET INFO:\u001b[0m Artifact 'Engine' version 77.0.0 created (previous was: 76.0.0)\n",
      "\u001b[1;38;5;39mCOMET INFO:\u001b[0m Scheduling the upload of 1 assets: 1 local assets for a size of 8.21 KB, and 0 remote assets (will be linked, not uploaded). This can take some time.\n",
      "\u001b[1;38;5;39mCOMET INFO:\u001b[0m Artifact 'derick-amontagna/Engine:77.0.0' has started uploading asynchronously\n",
      "\u001b[1;38;5;39mCOMET INFO:\u001b[0m Artifact 'Networks' version 77.0.0 created (previous was: 76.0.0)\n",
      "\u001b[1;38;5;39mCOMET INFO:\u001b[0m Scheduling the upload of 1 assets: 1 local assets for a size of 5.82 KB, and 0 remote assets (will be linked, not uploaded). This can take some time.\n",
      "\u001b[1;38;5;39mCOMET INFO:\u001b[0m Artifact 'derick-amontagna/Networks:77.0.0' has started uploading asynchronously\n",
      "\u001b[1;38;5;39mCOMET INFO:\u001b[0m Artifact 'DataSetup' version 79.0.0 created (previous was: 78.0.0)\n",
      "\u001b[1;38;5;39mCOMET INFO:\u001b[0m Scheduling the upload of 1 assets: 1 local assets for a size of 7.72 KB, and 0 remote assets (will be linked, not uploaded). This can take some time.\n",
      "\u001b[1;38;5;39mCOMET INFO:\u001b[0m Artifact 'derick-amontagna/DataSetup:79.0.0' has started uploading asynchronously\n"
     ]
    },
    {
     "name": "stdout",
     "output_type": "stream",
     "text": [
      "Loading Dataloader\n",
      "Use DAMS Basic\n",
      "Create model\n",
      "Start Train\n"
     ]
    },
    {
     "data": {
      "application/vnd.jupyter.widget-view+json": {
       "model_id": "2b0dce1ec1c84fb4b952453cd6c6c60f",
       "version_major": 2,
       "version_minor": 0
      },
      "text/plain": [
       "  0%|          | 0/50 [00:00<?, ?it/s]"
      ]
     },
     "metadata": {},
     "output_type": "display_data"
    },
    {
     "name": "stderr",
     "output_type": "stream",
     "text": [
      "/root/anaconda3/envs/lapixdl/lib/python3.11/site-packages/torchmetrics/utilities/prints.py:36: UserWarning: Metric `AUROC` will save all targets and predictions in buffer. For large datasets this may lead to large memory footprint.\n",
      "  warnings.warn(*args, **kwargs)\n",
      "\u001b[1;38;5;39mCOMET INFO:\u001b[0m Artifact 'derick-amontagna/Networks:77.0.0' has been fully uploaded successfully\n",
      "\u001b[1;38;5;39mCOMET INFO:\u001b[0m Artifact 'derick-amontagna/Engine:77.0.0' has been fully uploaded successfully\n",
      "\u001b[1;38;5;39mCOMET INFO:\u001b[0m Artifact 'derick-amontagna/DataSetup:79.0.0' has been fully uploaded successfully\n",
      "/root/anaconda3/envs/lapixdl/lib/python3.11/site-packages/torchmetrics/utilities/prints.py:36: UserWarning: Metric `AUROC` will save all targets and predictions in buffer. For large datasets this may lead to large memory footprint.\n",
      "  warnings.warn(*args, **kwargs)\n"
     ]
    },
    {
     "name": "stdout",
     "output_type": "stream",
     "text": [
      "terminating because of early stopping!\n",
      "Loaded model from epoch 12 with best validation auc: 0.94%\n",
      "DONE\n"
     ]
    },
    {
     "name": "stderr",
     "output_type": "stream",
     "text": [
      "\u001b[1;38;5;39mCOMET INFO:\u001b[0m ---------------------------------------------------------------------------------------\n",
      "\u001b[1;38;5;39mCOMET INFO:\u001b[0m Comet.ml Experiment Summary\n",
      "\u001b[1;38;5;39mCOMET INFO:\u001b[0m ---------------------------------------------------------------------------------------\n",
      "\u001b[1;38;5;39mCOMET INFO:\u001b[0m   Data:\n",
      "\u001b[1;38;5;39mCOMET INFO:\u001b[0m     display_summary_level : 1\n",
      "\u001b[1;38;5;39mCOMET INFO:\u001b[0m     name                  : aware_muntin_3198\n",
      "\u001b[1;38;5;39mCOMET INFO:\u001b[0m     url                   : https://www.comet.com/derick-amontagna/adni1-s-siemens-dams-sgd-8/71f696dae71140538f317c84e702091b\n",
      "\u001b[1;38;5;39mCOMET INFO:\u001b[0m   Metrics [count] (min, max):\n",
      "\u001b[1;38;5;39mCOMET INFO:\u001b[0m     epoch [32]         : (0, 31)\n",
      "\u001b[1;38;5;39mCOMET INFO:\u001b[0m     loss [2522]        : (0.02169828861951828, 0.7976313829421997)\n",
      "\u001b[1;38;5;39mCOMET INFO:\u001b[0m     test_acc           : 0.8117843511450382\n",
      "\u001b[1;38;5;39mCOMET INFO:\u001b[0m     test_acc_target    : 0.73828125\n",
      "\u001b[1;38;5;39mCOMET INFO:\u001b[0m     test_acc_target_2  : 0.7827292899408284\n",
      "\u001b[1;38;5;39mCOMET INFO:\u001b[0m     test_auc           : 0.8941942453384399\n",
      "\u001b[1;38;5;39mCOMET INFO:\u001b[0m     test_auc_target    : 0.7772047519683838\n",
      "\u001b[1;38;5;39mCOMET INFO:\u001b[0m     test_auc_target_2  : 0.8497472405433655\n",
      "\u001b[1;38;5;39mCOMET INFO:\u001b[0m     test_loss          : 0.32536713214491614\n",
      "\u001b[1;38;5;39mCOMET INFO:\u001b[0m     test_loss_target   : 0.49137143651023507\n",
      "\u001b[1;38;5;39mCOMET INFO:\u001b[0m     test_loss_target_2 : 0.40923141396036866\n",
      "\u001b[1;38;5;39mCOMET INFO:\u001b[0m     train_acc [32]     : (0.596367385786802, 0.9799333756345178)\n",
      "\u001b[1;38;5;39mCOMET INFO:\u001b[0m     train_auc [32]     : (0.633468747138977, 0.9976592063903809)\n",
      "\u001b[1;38;5;39mCOMET INFO:\u001b[0m     train_loss [32]    : (0.0626419865346613, 0.48937958660464603)\n",
      "\u001b[1;38;5;39mCOMET INFO:\u001b[0m     val_acc [32]       : (0.379375, 0.8690625)\n",
      "\u001b[1;38;5;39mCOMET INFO:\u001b[0m     val_auc [32]       : (0.6264123916625977, 0.9445651769638062)\n",
      "\u001b[1;38;5;39mCOMET INFO:\u001b[0m     val_loss [32]      : (0.2491323752887547, 0.8745717702890397)\n",
      "\u001b[1;38;5;39mCOMET INFO:\u001b[0m   Others:\n",
      "\u001b[1;38;5;39mCOMET INFO:\u001b[0m     best_epoch             : 12\n",
      "\u001b[1;38;5;39mCOMET INFO:\u001b[0m     best_val_metric        : 0.9445651769638062\n",
      "\u001b[1;38;5;39mCOMET INFO:\u001b[0m     optimizer_count        : 1\n",
      "\u001b[1;38;5;39mCOMET INFO:\u001b[0m     optimizer_id           : a6175d5da17447a2a07d393e335bcde5\n",
      "\u001b[1;38;5;39mCOMET INFO:\u001b[0m     optimizer_metric       : val_auc\n",
      "\u001b[1;38;5;39mCOMET INFO:\u001b[0m     optimizer_metric_value : 0.9445651769638062\n",
      "\u001b[1;38;5;39mCOMET INFO:\u001b[0m     optimizer_name         : SOURCE_Siemens\n",
      "\u001b[1;38;5;39mCOMET INFO:\u001b[0m     optimizer_objective    : maximize\n",
      "\u001b[1;38;5;39mCOMET INFO:\u001b[0m     optimizer_parameters   : {\"batch_size\": 16, \"dropout\": 0.2, \"lr\": 0.0007, \"model\": \"DAMS\", \"momentum\": 0.9, \"seed\": 42, \"source\": \"Siemens\", \"target_1\": \"Philips\", \"target_2\": \"GE\", \"weight_decay\": 0.02}\n",
      "\u001b[1;38;5;39mCOMET INFO:\u001b[0m     optimizer_pid          : bc51ae862ad63f8c336345b15e5fae63180a057c\n",
      "\u001b[1;38;5;39mCOMET INFO:\u001b[0m     optimizer_process      : 544623\n",
      "\u001b[1;38;5;39mCOMET INFO:\u001b[0m     optimizer_trial        : 1\n",
      "\u001b[1;38;5;39mCOMET INFO:\u001b[0m     optimizer_version      : 2.1.4\n",
      "\u001b[1;38;5;39mCOMET INFO:\u001b[0m   Parameters:\n",
      "\u001b[1;38;5;39mCOMET INFO:\u001b[0m     batch_size   : 16\n",
      "\u001b[1;38;5;39mCOMET INFO:\u001b[0m     dropout      : 0.2\n",
      "\u001b[1;38;5;39mCOMET INFO:\u001b[0m     lr           : 0.0007\n",
      "\u001b[1;38;5;39mCOMET INFO:\u001b[0m     model        : DAMS\n",
      "\u001b[1;38;5;39mCOMET INFO:\u001b[0m     momentum     : 0.9\n",
      "\u001b[1;38;5;39mCOMET INFO:\u001b[0m     pos_weight   : 0.576\n",
      "\u001b[1;38;5;39mCOMET INFO:\u001b[0m     seed         : 42\n",
      "\u001b[1;38;5;39mCOMET INFO:\u001b[0m     source       : Siemens\n",
      "\u001b[1;38;5;39mCOMET INFO:\u001b[0m     target_1     : Philips\n",
      "\u001b[1;38;5;39mCOMET INFO:\u001b[0m     target_2     : GE\n",
      "\u001b[1;38;5;39mCOMET INFO:\u001b[0m     weight_decay : 0.02\n",
      "\u001b[1;38;5;39mCOMET INFO:\u001b[0m   Uploads:\n",
      "\u001b[1;38;5;39mCOMET INFO:\u001b[0m     artifact assets              : 3 (21.76 KB)\n",
      "\u001b[1;38;5;39mCOMET INFO:\u001b[0m     artifacts                    : 3\n",
      "\u001b[1;38;5;39mCOMET INFO:\u001b[0m     conda-environment-definition : 1\n",
      "\u001b[1;38;5;39mCOMET INFO:\u001b[0m     conda-info                   : 1\n",
      "\u001b[1;38;5;39mCOMET INFO:\u001b[0m     conda-specification          : 1\n",
      "\u001b[1;38;5;39mCOMET INFO:\u001b[0m     environment details          : 1\n",
      "\u001b[1;38;5;39mCOMET INFO:\u001b[0m     filename                     : 1\n",
      "\u001b[1;38;5;39mCOMET INFO:\u001b[0m     git metadata                 : 1\n",
      "\u001b[1;38;5;39mCOMET INFO:\u001b[0m     git-patch (uncompressed)     : 1 (653.52 KB)\n",
      "\u001b[1;38;5;39mCOMET INFO:\u001b[0m     installed packages           : 1\n",
      "\u001b[1;38;5;39mCOMET INFO:\u001b[0m     model graph                  : 1\n",
      "\u001b[1;38;5;39mCOMET INFO:\u001b[0m     model-element                : 1 (183.72 MB)\n",
      "\u001b[1;38;5;39mCOMET INFO:\u001b[0m     notebook                     : 1\n",
      "\u001b[1;38;5;39mCOMET INFO:\u001b[0m     os packages                  : 1\n",
      "\u001b[1;38;5;39mCOMET INFO:\u001b[0m     source_code                  : 1\n",
      "\u001b[1;38;5;39mCOMET INFO:\u001b[0m \n",
      "\u001b[1;38;5;39mCOMET INFO:\u001b[0m Please wait for assets to finish uploading (timeout is 10800 seconds)\n",
      "\u001b[1;38;5;39mCOMET INFO:\u001b[0m Still uploading 1 file(s), remaining 108.72 MB/183.72 MB\n",
      "\u001b[1;38;5;214mCOMET WARNING:\u001b[0m As you are running in a Jupyter environment, you will need to call `experiment.end()` when finished to ensure all metrics and code are logged before exiting.\n",
      "\u001b[1;38;5;39mCOMET INFO:\u001b[0m Experiment is live on comet.com https://www.comet.com/derick-amontagna/adni1-s-siemens-dams-sgd-8/50edc7430da3420ba227a42fa570585e\n",
      "\n",
      "\u001b[1;38;5;39mCOMET INFO:\u001b[0m Artifact 'Engine' version 78.0.0 created (previous was: 77.0.0)\n"
     ]
    },
    {
     "name": "stdout",
     "output_type": "stream",
     "text": [
      "Treinando esse modelo: DAMS\n",
      "Treinando com o source: Siemens/target: Philips/GE\n"
     ]
    },
    {
     "name": "stderr",
     "output_type": "stream",
     "text": [
      "\u001b[1;38;5;39mCOMET INFO:\u001b[0m Scheduling the upload of 1 assets: 1 local assets for a size of 8.21 KB, and 0 remote assets (will be linked, not uploaded). This can take some time.\n",
      "\u001b[1;38;5;39mCOMET INFO:\u001b[0m Artifact 'derick-amontagna/Engine:78.0.0' has started uploading asynchronously\n",
      "\u001b[1;38;5;39mCOMET INFO:\u001b[0m Artifact 'Networks' version 78.0.0 created (previous was: 77.0.0)\n",
      "\u001b[1;38;5;39mCOMET INFO:\u001b[0m Scheduling the upload of 1 assets: 1 local assets for a size of 5.82 KB, and 0 remote assets (will be linked, not uploaded). This can take some time.\n",
      "\u001b[1;38;5;39mCOMET INFO:\u001b[0m Artifact 'derick-amontagna/Networks:78.0.0' has started uploading asynchronously\n",
      "\u001b[1;38;5;39mCOMET INFO:\u001b[0m Artifact 'DataSetup' version 80.0.0 created (previous was: 79.0.0)\n",
      "\u001b[1;38;5;39mCOMET INFO:\u001b[0m Scheduling the upload of 1 assets: 1 local assets for a size of 7.72 KB, and 0 remote assets (will be linked, not uploaded). This can take some time.\n",
      "\u001b[1;38;5;39mCOMET INFO:\u001b[0m Artifact 'derick-amontagna/DataSetup:80.0.0' has started uploading asynchronously\n"
     ]
    },
    {
     "name": "stdout",
     "output_type": "stream",
     "text": [
      "Loading Dataloader\n",
      "Use DAMS Basic\n",
      "Create model\n",
      "Start Train\n"
     ]
    },
    {
     "data": {
      "application/vnd.jupyter.widget-view+json": {
       "model_id": "06d62fa55b3e4cceba4bbc31bacae567",
       "version_major": 2,
       "version_minor": 0
      },
      "text/plain": [
       "  0%|          | 0/50 [00:00<?, ?it/s]"
      ]
     },
     "metadata": {},
     "output_type": "display_data"
    },
    {
     "name": "stderr",
     "output_type": "stream",
     "text": [
      "/root/anaconda3/envs/lapixdl/lib/python3.11/site-packages/torchmetrics/utilities/prints.py:36: UserWarning: Metric `AUROC` will save all targets and predictions in buffer. For large datasets this may lead to large memory footprint.\n",
      "  warnings.warn(*args, **kwargs)\n",
      "\u001b[1;38;5;39mCOMET INFO:\u001b[0m Artifact 'derick-amontagna/Engine:78.0.0' has been fully uploaded successfully\n",
      "\u001b[1;38;5;39mCOMET INFO:\u001b[0m Artifact 'derick-amontagna/DataSetup:80.0.0' has been fully uploaded successfully\n",
      "\u001b[1;38;5;39mCOMET INFO:\u001b[0m Artifact 'derick-amontagna/Networks:78.0.0' has been fully uploaded successfully\n",
      "/root/anaconda3/envs/lapixdl/lib/python3.11/site-packages/torchmetrics/utilities/prints.py:36: UserWarning: Metric `AUROC` will save all targets and predictions in buffer. For large datasets this may lead to large memory footprint.\n",
      "  warnings.warn(*args, **kwargs)\n"
     ]
    },
    {
     "name": "stdout",
     "output_type": "stream",
     "text": [
      "Loaded model from epoch 48 with best validation auc: 0.95%\n",
      "DONE\n"
     ]
    },
    {
     "name": "stderr",
     "output_type": "stream",
     "text": [
      "\u001b[1;38;5;39mCOMET INFO:\u001b[0m ---------------------------------------------------------------------------------------\n",
      "\u001b[1;38;5;39mCOMET INFO:\u001b[0m Comet.ml Experiment Summary\n",
      "\u001b[1;38;5;39mCOMET INFO:\u001b[0m ---------------------------------------------------------------------------------------\n",
      "\u001b[1;38;5;39mCOMET INFO:\u001b[0m   Data:\n",
      "\u001b[1;38;5;39mCOMET INFO:\u001b[0m     display_summary_level : 1\n",
      "\u001b[1;38;5;39mCOMET INFO:\u001b[0m     name                  : invisible_cicada_7512\n",
      "\u001b[1;38;5;39mCOMET INFO:\u001b[0m     url                   : https://www.comet.com/derick-amontagna/adni1-s-siemens-dams-sgd-8/50edc7430da3420ba227a42fa570585e\n",
      "\u001b[1;38;5;39mCOMET INFO:\u001b[0m   Metrics [count] (min, max):\n",
      "\u001b[1;38;5;39mCOMET INFO:\u001b[0m     epoch [50]         : (0, 49)\n",
      "\u001b[1;38;5;39mCOMET INFO:\u001b[0m     loss [3940]        : (0.03568067401647568, 0.9289057850837708)\n",
      "\u001b[1;38;5;39mCOMET INFO:\u001b[0m     test_acc           : 0.42604961832061067\n",
      "\u001b[1;38;5;39mCOMET INFO:\u001b[0m     test_acc_target    : 0.546875\n",
      "\u001b[1;38;5;39mCOMET INFO:\u001b[0m     test_acc_target_2  : 0.4511834319526627\n",
      "\u001b[1;38;5;39mCOMET INFO:\u001b[0m     test_auc           : 0.8162723183631897\n",
      "\u001b[1;38;5;39mCOMET INFO:\u001b[0m     test_auc_target    : 0.7789967060089111\n",
      "\u001b[1;38;5;39mCOMET INFO:\u001b[0m     test_auc_target_2  : 0.7172582149505615\n",
      "\u001b[1;38;5;39mCOMET INFO:\u001b[0m     test_loss          : 0.9204492686415902\n",
      "\u001b[1;38;5;39mCOMET INFO:\u001b[0m     test_loss_target   : 0.7596187044012671\n",
      "\u001b[1;38;5;39mCOMET INFO:\u001b[0m     test_loss_target_2 : 1.0546329747665035\n",
      "\u001b[1;38;5;39mCOMET INFO:\u001b[0m     train_acc [50]     : (0.5967639593908629, 0.9670843908629442)\n",
      "\u001b[1;38;5;39mCOMET INFO:\u001b[0m     train_auc [50]     : (0.628555417060852, 0.9934135675430298)\n",
      "\u001b[1;38;5;39mCOMET INFO:\u001b[0m     train_loss [50]    : (0.09812482062557022, 0.4930818854325314)\n",
      "\u001b[1;38;5;39mCOMET INFO:\u001b[0m     val_acc [50]       : (0.550625, 0.89)\n",
      "\u001b[1;38;5;39mCOMET INFO:\u001b[0m     val_auc [50]       : (0.7060254812240601, 0.9488369822502136)\n",
      "\u001b[1;38;5;39mCOMET INFO:\u001b[0m     val_loss [50]      : (0.2314311229996383, 0.8275697597302496)\n",
      "\u001b[1;38;5;39mCOMET INFO:\u001b[0m   Others:\n",
      "\u001b[1;38;5;39mCOMET INFO:\u001b[0m     best_epoch             : 48\n",
      "\u001b[1;38;5;39mCOMET INFO:\u001b[0m     best_val_metric        : 0.9488369822502136\n",
      "\u001b[1;38;5;39mCOMET INFO:\u001b[0m     optimizer_count        : 2\n",
      "\u001b[1;38;5;39mCOMET INFO:\u001b[0m     optimizer_id           : a6175d5da17447a2a07d393e335bcde5\n",
      "\u001b[1;38;5;39mCOMET INFO:\u001b[0m     optimizer_metric       : val_auc\n",
      "\u001b[1;38;5;39mCOMET INFO:\u001b[0m     optimizer_metric_value : 0.9488369822502136\n",
      "\u001b[1;38;5;39mCOMET INFO:\u001b[0m     optimizer_name         : SOURCE_Siemens\n",
      "\u001b[1;38;5;39mCOMET INFO:\u001b[0m     optimizer_objective    : maximize\n",
      "\u001b[1;38;5;39mCOMET INFO:\u001b[0m     optimizer_parameters   : {\"batch_size\": 16, \"dropout\": 0.2, \"lr\": 0.0007, \"model\": \"DAMS\", \"momentum\": 0.9, \"seed\": 42, \"source\": \"Siemens\", \"target_1\": \"Philips\", \"target_2\": \"GE\", \"weight_decay\": 0.03}\n",
      "\u001b[1;38;5;39mCOMET INFO:\u001b[0m     optimizer_pid          : 617f8c9c7c3725744261d77ec3c2d1ce409d1429\n",
      "\u001b[1;38;5;39mCOMET INFO:\u001b[0m     optimizer_process      : 544623\n",
      "\u001b[1;38;5;39mCOMET INFO:\u001b[0m     optimizer_trial        : 1\n",
      "\u001b[1;38;5;39mCOMET INFO:\u001b[0m     optimizer_version      : 2.1.4\n",
      "\u001b[1;38;5;39mCOMET INFO:\u001b[0m   Parameters:\n",
      "\u001b[1;38;5;39mCOMET INFO:\u001b[0m     batch_size   : 16\n",
      "\u001b[1;38;5;39mCOMET INFO:\u001b[0m     dropout      : 0.2\n",
      "\u001b[1;38;5;39mCOMET INFO:\u001b[0m     lr           : 0.0007\n",
      "\u001b[1;38;5;39mCOMET INFO:\u001b[0m     model        : DAMS\n",
      "\u001b[1;38;5;39mCOMET INFO:\u001b[0m     momentum     : 0.9\n",
      "\u001b[1;38;5;39mCOMET INFO:\u001b[0m     pos_weight   : 0.576\n",
      "\u001b[1;38;5;39mCOMET INFO:\u001b[0m     seed         : 42\n",
      "\u001b[1;38;5;39mCOMET INFO:\u001b[0m     source       : Siemens\n",
      "\u001b[1;38;5;39mCOMET INFO:\u001b[0m     target_1     : Philips\n",
      "\u001b[1;38;5;39mCOMET INFO:\u001b[0m     target_2     : GE\n",
      "\u001b[1;38;5;39mCOMET INFO:\u001b[0m     weight_decay : 0.03\n",
      "\u001b[1;38;5;39mCOMET INFO:\u001b[0m   Uploads:\n",
      "\u001b[1;38;5;39mCOMET INFO:\u001b[0m     artifact assets              : 3 (21.76 KB)\n",
      "\u001b[1;38;5;39mCOMET INFO:\u001b[0m     artifacts                    : 3\n",
      "\u001b[1;38;5;39mCOMET INFO:\u001b[0m     conda-environment-definition : 1\n",
      "\u001b[1;38;5;39mCOMET INFO:\u001b[0m     conda-info                   : 1\n",
      "\u001b[1;38;5;39mCOMET INFO:\u001b[0m     conda-specification          : 1\n",
      "\u001b[1;38;5;39mCOMET INFO:\u001b[0m     environment details          : 1\n",
      "\u001b[1;38;5;39mCOMET INFO:\u001b[0m     filename                     : 1\n",
      "\u001b[1;38;5;39mCOMET INFO:\u001b[0m     git metadata                 : 1\n",
      "\u001b[1;38;5;39mCOMET INFO:\u001b[0m     git-patch (uncompressed)     : 1 (656.32 KB)\n",
      "\u001b[1;38;5;39mCOMET INFO:\u001b[0m     installed packages           : 1\n",
      "\u001b[1;38;5;39mCOMET INFO:\u001b[0m     model graph                  : 1\n",
      "\u001b[1;38;5;39mCOMET INFO:\u001b[0m     model-element                : 1 (183.72 MB)\n",
      "\u001b[1;38;5;39mCOMET INFO:\u001b[0m     notebook                     : 1\n",
      "\u001b[1;38;5;39mCOMET INFO:\u001b[0m     os packages                  : 1\n",
      "\u001b[1;38;5;39mCOMET INFO:\u001b[0m     source_code                  : 1\n",
      "\u001b[1;38;5;39mCOMET INFO:\u001b[0m \n",
      "\u001b[1;38;5;39mCOMET INFO:\u001b[0m Please wait for assets to finish uploading (timeout is 10800 seconds)\n",
      "\u001b[1;38;5;39mCOMET INFO:\u001b[0m Still uploading 1 file(s), remaining 88.72 MB/183.72 MB\n",
      "\u001b[1;38;5;214mCOMET WARNING:\u001b[0m As you are running in a Jupyter environment, you will need to call `experiment.end()` when finished to ensure all metrics and code are logged before exiting.\n",
      "\u001b[1;38;5;39mCOMET INFO:\u001b[0m Experiment is live on comet.com https://www.comet.com/derick-amontagna/adni1-s-siemens-dams-sgd-8/de1f91f0d91e437aaa7cefe01484e474\n",
      "\n",
      "\u001b[1;38;5;39mCOMET INFO:\u001b[0m Artifact 'Engine' version 79.0.0 created (previous was: 78.0.0)\n"
     ]
    },
    {
     "name": "stdout",
     "output_type": "stream",
     "text": [
      "Treinando esse modelo: DAMS\n",
      "Treinando com o source: Siemens/target: Philips/GE\n"
     ]
    },
    {
     "name": "stderr",
     "output_type": "stream",
     "text": [
      "\u001b[1;38;5;39mCOMET INFO:\u001b[0m Scheduling the upload of 1 assets: 1 local assets for a size of 8.21 KB, and 0 remote assets (will be linked, not uploaded). This can take some time.\n",
      "\u001b[1;38;5;39mCOMET INFO:\u001b[0m Artifact 'derick-amontagna/Engine:79.0.0' has started uploading asynchronously\n",
      "\u001b[1;38;5;39mCOMET INFO:\u001b[0m Artifact 'Networks' version 79.0.0 created (previous was: 78.0.0)\n",
      "\u001b[1;38;5;39mCOMET INFO:\u001b[0m Scheduling the upload of 1 assets: 1 local assets for a size of 5.82 KB, and 0 remote assets (will be linked, not uploaded). This can take some time.\n",
      "\u001b[1;38;5;39mCOMET INFO:\u001b[0m Artifact 'derick-amontagna/Networks:79.0.0' has started uploading asynchronously\n",
      "\u001b[1;38;5;39mCOMET INFO:\u001b[0m Artifact 'DataSetup' version 81.0.0 created (previous was: 80.0.0)\n",
      "\u001b[1;38;5;39mCOMET INFO:\u001b[0m Scheduling the upload of 1 assets: 1 local assets for a size of 7.72 KB, and 0 remote assets (will be linked, not uploaded). This can take some time.\n",
      "\u001b[1;38;5;39mCOMET INFO:\u001b[0m Artifact 'derick-amontagna/DataSetup:81.0.0' has started uploading asynchronously\n"
     ]
    },
    {
     "name": "stdout",
     "output_type": "stream",
     "text": [
      "Loading Dataloader\n",
      "Use DAMS Basic\n",
      "Create model\n",
      "Start Train\n"
     ]
    },
    {
     "data": {
      "application/vnd.jupyter.widget-view+json": {
       "model_id": "1f95534639f340ec8a90313beac337ed",
       "version_major": 2,
       "version_minor": 0
      },
      "text/plain": [
       "  0%|          | 0/50 [00:00<?, ?it/s]"
      ]
     },
     "metadata": {},
     "output_type": "display_data"
    },
    {
     "name": "stderr",
     "output_type": "stream",
     "text": [
      "/root/anaconda3/envs/lapixdl/lib/python3.11/site-packages/torchmetrics/utilities/prints.py:36: UserWarning: Metric `AUROC` will save all targets and predictions in buffer. For large datasets this may lead to large memory footprint.\n",
      "  warnings.warn(*args, **kwargs)\n",
      "\u001b[1;38;5;39mCOMET INFO:\u001b[0m Artifact 'derick-amontagna/Engine:79.0.0' has been fully uploaded successfully\n",
      "\u001b[1;38;5;39mCOMET INFO:\u001b[0m Artifact 'derick-amontagna/DataSetup:81.0.0' has been fully uploaded successfully\n",
      "\u001b[1;38;5;39mCOMET INFO:\u001b[0m Artifact 'derick-amontagna/Networks:79.0.0' has been fully uploaded successfully\n",
      "/root/anaconda3/envs/lapixdl/lib/python3.11/site-packages/torchmetrics/utilities/prints.py:36: UserWarning: Metric `AUROC` will save all targets and predictions in buffer. For large datasets this may lead to large memory footprint.\n",
      "  warnings.warn(*args, **kwargs)\n"
     ]
    },
    {
     "name": "stdout",
     "output_type": "stream",
     "text": [
      "terminating because of early stopping!\n",
      "Loaded model from epoch 21 with best validation auc: 0.94%\n",
      "DONE\n"
     ]
    },
    {
     "name": "stderr",
     "output_type": "stream",
     "text": [
      "\u001b[1;38;5;39mCOMET INFO:\u001b[0m ---------------------------------------------------------------------------------------\n",
      "\u001b[1;38;5;39mCOMET INFO:\u001b[0m Comet.ml Experiment Summary\n",
      "\u001b[1;38;5;39mCOMET INFO:\u001b[0m ---------------------------------------------------------------------------------------\n",
      "\u001b[1;38;5;39mCOMET INFO:\u001b[0m   Data:\n",
      "\u001b[1;38;5;39mCOMET INFO:\u001b[0m     display_summary_level : 1\n",
      "\u001b[1;38;5;39mCOMET INFO:\u001b[0m     name                  : convincing_bison_6447\n",
      "\u001b[1;38;5;39mCOMET INFO:\u001b[0m     url                   : https://www.comet.com/derick-amontagna/adni1-s-siemens-dams-sgd-8/de1f91f0d91e437aaa7cefe01484e474\n",
      "\u001b[1;38;5;39mCOMET INFO:\u001b[0m   Metrics [count] (min, max):\n",
      "\u001b[1;38;5;39mCOMET INFO:\u001b[0m     epoch [41]         : (0, 40)\n",
      "\u001b[1;38;5;39mCOMET INFO:\u001b[0m     loss [3231]        : (0.019893307238817215, 0.8759996891021729)\n",
      "\u001b[1;38;5;39mCOMET INFO:\u001b[0m     test_acc           : 0.8413645038167938\n",
      "\u001b[1;38;5;39mCOMET INFO:\u001b[0m     test_acc_target    : 0.697265625\n",
      "\u001b[1;38;5;39mCOMET INFO:\u001b[0m     test_acc_target_2  : 0.7827292899408284\n",
      "\u001b[1;38;5;39mCOMET INFO:\u001b[0m     test_auc           : 0.901597261428833\n",
      "\u001b[1;38;5;39mCOMET INFO:\u001b[0m     test_auc_target    : 0.6863585114479065\n",
      "\u001b[1;38;5;39mCOMET INFO:\u001b[0m     test_auc_target_2  : 0.8441520929336548\n",
      "\u001b[1;38;5;39mCOMET INFO:\u001b[0m     test_loss          : 0.3173181898749739\n",
      "\u001b[1;38;5;39mCOMET INFO:\u001b[0m     test_loss_target   : 0.7025768163924416\n",
      "\u001b[1;38;5;39mCOMET INFO:\u001b[0m     test_loss_target_2 : 0.4872713882101358\n",
      "\u001b[1;38;5;39mCOMET INFO:\u001b[0m     train_acc [41]     : (0.5983502538071066, 0.9781884517766497)\n",
      "\u001b[1;38;5;39mCOMET INFO:\u001b[0m     train_auc [41]     : (0.6314511299133301, 0.9967243671417236)\n",
      "\u001b[1;38;5;39mCOMET INFO:\u001b[0m     train_loss [41]    : (0.06752048297619759, 0.49287651978470953)\n",
      "\u001b[1;38;5;39mCOMET INFO:\u001b[0m     val_acc [41]       : (0.385625, 0.8765625)\n",
      "\u001b[1;38;5;39mCOMET INFO:\u001b[0m     val_auc [41]       : (0.6775976419448853, 0.9416947364807129)\n",
      "\u001b[1;38;5;39mCOMET INFO:\u001b[0m     val_loss [41]      : (0.25580875104293227, 0.5802615959150716)\n",
      "\u001b[1;38;5;39mCOMET INFO:\u001b[0m   Others:\n",
      "\u001b[1;38;5;39mCOMET INFO:\u001b[0m     best_epoch             : 21\n",
      "\u001b[1;38;5;39mCOMET INFO:\u001b[0m     best_val_metric        : 0.9416947364807129\n",
      "\u001b[1;38;5;39mCOMET INFO:\u001b[0m     optimizer_count        : 3\n",
      "\u001b[1;38;5;39mCOMET INFO:\u001b[0m     optimizer_id           : a6175d5da17447a2a07d393e335bcde5\n",
      "\u001b[1;38;5;39mCOMET INFO:\u001b[0m     optimizer_metric       : val_auc\n",
      "\u001b[1;38;5;39mCOMET INFO:\u001b[0m     optimizer_metric_value : 0.9416947364807129\n",
      "\u001b[1;38;5;39mCOMET INFO:\u001b[0m     optimizer_name         : SOURCE_Siemens\n",
      "\u001b[1;38;5;39mCOMET INFO:\u001b[0m     optimizer_objective    : maximize\n",
      "\u001b[1;38;5;39mCOMET INFO:\u001b[0m     optimizer_parameters   : {\"batch_size\": 16, \"dropout\": 0.3, \"lr\": 0.0007, \"model\": \"DAMS\", \"momentum\": 0.9, \"seed\": 42, \"source\": \"Siemens\", \"target_1\": \"Philips\", \"target_2\": \"GE\", \"weight_decay\": 0.02}\n",
      "\u001b[1;38;5;39mCOMET INFO:\u001b[0m     optimizer_pid          : 4ecfd36e2f50248f0d25c17d6a832f002996b0ac\n",
      "\u001b[1;38;5;39mCOMET INFO:\u001b[0m     optimizer_process      : 544623\n",
      "\u001b[1;38;5;39mCOMET INFO:\u001b[0m     optimizer_trial        : 1\n",
      "\u001b[1;38;5;39mCOMET INFO:\u001b[0m     optimizer_version      : 2.1.4\n",
      "\u001b[1;38;5;39mCOMET INFO:\u001b[0m   Parameters:\n",
      "\u001b[1;38;5;39mCOMET INFO:\u001b[0m     batch_size   : 16\n",
      "\u001b[1;38;5;39mCOMET INFO:\u001b[0m     dropout      : 0.3\n",
      "\u001b[1;38;5;39mCOMET INFO:\u001b[0m     lr           : 0.0007\n",
      "\u001b[1;38;5;39mCOMET INFO:\u001b[0m     model        : DAMS\n",
      "\u001b[1;38;5;39mCOMET INFO:\u001b[0m     momentum     : 0.9\n",
      "\u001b[1;38;5;39mCOMET INFO:\u001b[0m     pos_weight   : 0.576\n",
      "\u001b[1;38;5;39mCOMET INFO:\u001b[0m     seed         : 42\n",
      "\u001b[1;38;5;39mCOMET INFO:\u001b[0m     source       : Siemens\n",
      "\u001b[1;38;5;39mCOMET INFO:\u001b[0m     target_1     : Philips\n",
      "\u001b[1;38;5;39mCOMET INFO:\u001b[0m     target_2     : GE\n",
      "\u001b[1;38;5;39mCOMET INFO:\u001b[0m     weight_decay : 0.02\n",
      "\u001b[1;38;5;39mCOMET INFO:\u001b[0m   Uploads:\n",
      "\u001b[1;38;5;39mCOMET INFO:\u001b[0m     artifact assets              : 3 (21.76 KB)\n",
      "\u001b[1;38;5;39mCOMET INFO:\u001b[0m     artifacts                    : 3\n",
      "\u001b[1;38;5;39mCOMET INFO:\u001b[0m     conda-environment-definition : 1\n",
      "\u001b[1;38;5;39mCOMET INFO:\u001b[0m     conda-info                   : 1\n",
      "\u001b[1;38;5;39mCOMET INFO:\u001b[0m     conda-specification          : 1\n",
      "\u001b[1;38;5;39mCOMET INFO:\u001b[0m     environment details          : 1\n",
      "\u001b[1;38;5;39mCOMET INFO:\u001b[0m     filename                     : 1\n",
      "\u001b[1;38;5;39mCOMET INFO:\u001b[0m     git metadata                 : 1\n",
      "\u001b[1;38;5;39mCOMET INFO:\u001b[0m     git-patch (uncompressed)     : 1 (673.65 KB)\n",
      "\u001b[1;38;5;39mCOMET INFO:\u001b[0m     installed packages           : 1\n",
      "\u001b[1;38;5;39mCOMET INFO:\u001b[0m     model graph                  : 1\n",
      "\u001b[1;38;5;39mCOMET INFO:\u001b[0m     model-element                : 1 (183.72 MB)\n",
      "\u001b[1;38;5;39mCOMET INFO:\u001b[0m     notebook                     : 1\n",
      "\u001b[1;38;5;39mCOMET INFO:\u001b[0m     os packages                  : 1\n",
      "\u001b[1;38;5;39mCOMET INFO:\u001b[0m     source_code                  : 1\n",
      "\u001b[1;38;5;39mCOMET INFO:\u001b[0m \n",
      "\u001b[1;38;5;39mCOMET INFO:\u001b[0m Please wait for metadata to finish uploading (timeout is 3600 seconds)\n",
      "\u001b[1;38;5;39mCOMET INFO:\u001b[0m Uploading 74 metrics, params and output messages\n",
      "\u001b[1;38;5;39mCOMET INFO:\u001b[0m Please wait for assets to finish uploading (timeout is 10800 seconds)\n",
      "\u001b[1;38;5;39mCOMET INFO:\u001b[0m Still uploading 2 file(s), remaining 98.74 MB/183.74 MB\n",
      "\u001b[1;38;5;214mCOMET WARNING:\u001b[0m As you are running in a Jupyter environment, you will need to call `experiment.end()` when finished to ensure all metrics and code are logged before exiting.\n",
      "\u001b[1;38;5;39mCOMET INFO:\u001b[0m Experiment is live on comet.com https://www.comet.com/derick-amontagna/adni1-s-siemens-dams-sgd-8/fbac6469ee4c4f9db67b67b9f965484e\n",
      "\n",
      "\u001b[1;38;5;39mCOMET INFO:\u001b[0m Artifact 'Engine' version 80.0.0 created (previous was: 79.0.0)\n"
     ]
    },
    {
     "name": "stdout",
     "output_type": "stream",
     "text": [
      "Treinando esse modelo: DAMS\n",
      "Treinando com o source: Siemens/target: Philips/GE\n"
     ]
    },
    {
     "name": "stderr",
     "output_type": "stream",
     "text": [
      "\u001b[1;38;5;39mCOMET INFO:\u001b[0m Scheduling the upload of 1 assets: 1 local assets for a size of 8.21 KB, and 0 remote assets (will be linked, not uploaded). This can take some time.\n",
      "\u001b[1;38;5;39mCOMET INFO:\u001b[0m Artifact 'derick-amontagna/Engine:80.0.0' has started uploading asynchronously\n",
      "\u001b[1;38;5;39mCOMET INFO:\u001b[0m Artifact 'Networks' version 80.0.0 created (previous was: 79.0.0)\n",
      "\u001b[1;38;5;39mCOMET INFO:\u001b[0m Scheduling the upload of 1 assets: 1 local assets for a size of 5.82 KB, and 0 remote assets (will be linked, not uploaded). This can take some time.\n",
      "\u001b[1;38;5;39mCOMET INFO:\u001b[0m Artifact 'derick-amontagna/Networks:80.0.0' has started uploading asynchronously\n",
      "\u001b[1;38;5;39mCOMET INFO:\u001b[0m Artifact 'DataSetup' version 82.0.0 created (previous was: 81.0.0)\n",
      "\u001b[1;38;5;39mCOMET INFO:\u001b[0m Scheduling the upload of 1 assets: 1 local assets for a size of 7.72 KB, and 0 remote assets (will be linked, not uploaded). This can take some time.\n",
      "\u001b[1;38;5;39mCOMET INFO:\u001b[0m Artifact 'derick-amontagna/DataSetup:82.0.0' has started uploading asynchronously\n"
     ]
    },
    {
     "name": "stdout",
     "output_type": "stream",
     "text": [
      "Loading Dataloader\n",
      "Use DAMS Basic\n",
      "Create model\n",
      "Start Train\n"
     ]
    },
    {
     "data": {
      "application/vnd.jupyter.widget-view+json": {
       "model_id": "cc6653811327453bb8b8611c4ea3c71b",
       "version_major": 2,
       "version_minor": 0
      },
      "text/plain": [
       "  0%|          | 0/50 [00:00<?, ?it/s]"
      ]
     },
     "metadata": {},
     "output_type": "display_data"
    },
    {
     "name": "stderr",
     "output_type": "stream",
     "text": [
      "/root/anaconda3/envs/lapixdl/lib/python3.11/site-packages/torchmetrics/utilities/prints.py:36: UserWarning: Metric `AUROC` will save all targets and predictions in buffer. For large datasets this may lead to large memory footprint.\n",
      "  warnings.warn(*args, **kwargs)\n",
      "\u001b[1;38;5;39mCOMET INFO:\u001b[0m Artifact 'derick-amontagna/Networks:80.0.0' has been fully uploaded successfully\n",
      "\u001b[1;38;5;39mCOMET INFO:\u001b[0m Artifact 'derick-amontagna/Engine:80.0.0' has been fully uploaded successfully\n",
      "\u001b[1;38;5;39mCOMET INFO:\u001b[0m Artifact 'derick-amontagna/DataSetup:82.0.0' has been fully uploaded successfully\n"
     ]
    },
    {
     "name": "stdout",
     "output_type": "stream",
     "text": [
      "terminating because of early stopping!\n",
      "Loaded model from epoch 21 with best validation auc: 0.95%\n",
      "DONE\n"
     ]
    },
    {
     "name": "stderr",
     "output_type": "stream",
     "text": [
      "\u001b[1;38;5;39mCOMET INFO:\u001b[0m ---------------------------------------------------------------------------------------\n",
      "\u001b[1;38;5;39mCOMET INFO:\u001b[0m Comet.ml Experiment Summary\n",
      "\u001b[1;38;5;39mCOMET INFO:\u001b[0m ---------------------------------------------------------------------------------------\n",
      "\u001b[1;38;5;39mCOMET INFO:\u001b[0m   Data:\n",
      "\u001b[1;38;5;39mCOMET INFO:\u001b[0m     display_summary_level : 1\n",
      "\u001b[1;38;5;39mCOMET INFO:\u001b[0m     name                  : sensitive_light_2689\n",
      "\u001b[1;38;5;39mCOMET INFO:\u001b[0m     url                   : https://www.comet.com/derick-amontagna/adni1-s-siemens-dams-sgd-8/fbac6469ee4c4f9db67b67b9f965484e\n",
      "\u001b[1;38;5;39mCOMET INFO:\u001b[0m   Metrics [count] (min, max):\n",
      "\u001b[1;38;5;39mCOMET INFO:\u001b[0m     epoch [41]         : (0, 40)\n",
      "\u001b[1;38;5;39mCOMET INFO:\u001b[0m     loss [3231]        : (0.04092103987932205, 0.8168389797210693)\n",
      "\u001b[1;38;5;39mCOMET INFO:\u001b[0m     test_acc           : 0.6123568702290076\n",
      "\u001b[1;38;5;39mCOMET INFO:\u001b[0m     test_acc_target    : 0.6510416666666666\n",
      "\u001b[1;38;5;39mCOMET INFO:\u001b[0m     test_acc_target_2  : 0.5231139053254438\n",
      "\u001b[1;38;5;39mCOMET INFO:\u001b[0m     test_auc           : 0.8505551815032959\n",
      "\u001b[1;38;5;39mCOMET INFO:\u001b[0m     test_auc_target    : 0.8005884885787964\n",
      "\u001b[1;38;5;39mCOMET INFO:\u001b[0m     test_auc_target_2  : 0.7713117599487305\n",
      "\u001b[1;38;5;39mCOMET INFO:\u001b[0m     test_loss          : 0.5711171598322974\n",
      "\u001b[1;38;5;39mCOMET INFO:\u001b[0m     test_loss_target   : 0.510765104709814\n",
      "\u001b[1;38;5;39mCOMET INFO:\u001b[0m     test_loss_target_2 : 0.7163227254734237\n",
      "\u001b[1;38;5;39mCOMET INFO:\u001b[0m     train_acc [41]     : (0.5888324873096447, 0.9657360406091371)\n",
      "\u001b[1;38;5;39mCOMET INFO:\u001b[0m     train_auc [41]     : (0.624284029006958, 0.9931361079216003)\n",
      "\u001b[1;38;5;39mCOMET INFO:\u001b[0m     train_loss [41]    : (0.09982179348749406, 0.4936728878750414)\n",
      "\u001b[1;38;5;39mCOMET INFO:\u001b[0m     val_acc [41]       : (0.38, 0.880625)\n",
      "\u001b[1;38;5;39mCOMET INFO:\u001b[0m     val_auc [41]       : (0.5615133047103882, 0.9457544088363647)\n",
      "\u001b[1;38;5;39mCOMET INFO:\u001b[0m     val_loss [41]      : (0.26445836739614603, 1.0372660571709276)\n",
      "\u001b[1;38;5;39mCOMET INFO:\u001b[0m   Others:\n",
      "\u001b[1;38;5;39mCOMET INFO:\u001b[0m     best_epoch             : 21\n",
      "\u001b[1;38;5;39mCOMET INFO:\u001b[0m     best_val_metric        : 0.9457544088363647\n",
      "\u001b[1;38;5;39mCOMET INFO:\u001b[0m     optimizer_count        : 4\n",
      "\u001b[1;38;5;39mCOMET INFO:\u001b[0m     optimizer_id           : a6175d5da17447a2a07d393e335bcde5\n",
      "\u001b[1;38;5;39mCOMET INFO:\u001b[0m     optimizer_metric       : val_auc\n",
      "\u001b[1;38;5;39mCOMET INFO:\u001b[0m     optimizer_metric_value : 0.9457544088363647\n",
      "\u001b[1;38;5;39mCOMET INFO:\u001b[0m     optimizer_name         : SOURCE_Siemens\n",
      "\u001b[1;38;5;39mCOMET INFO:\u001b[0m     optimizer_objective    : maximize\n",
      "\u001b[1;38;5;39mCOMET INFO:\u001b[0m     optimizer_parameters   : {\"batch_size\": 16, \"dropout\": 0.3, \"lr\": 0.0007, \"model\": \"DAMS\", \"momentum\": 0.9, \"seed\": 42, \"source\": \"Siemens\", \"target_1\": \"Philips\", \"target_2\": \"GE\", \"weight_decay\": 0.03}\n",
      "\u001b[1;38;5;39mCOMET INFO:\u001b[0m     optimizer_pid          : ff8f19ed538c4005fc42a6ac5b103fe0bcc0bdae\n",
      "\u001b[1;38;5;39mCOMET INFO:\u001b[0m     optimizer_process      : 544623\n",
      "\u001b[1;38;5;39mCOMET INFO:\u001b[0m     optimizer_trial        : 1\n",
      "\u001b[1;38;5;39mCOMET INFO:\u001b[0m     optimizer_version      : 2.1.4\n",
      "\u001b[1;38;5;39mCOMET INFO:\u001b[0m   Parameters:\n",
      "\u001b[1;38;5;39mCOMET INFO:\u001b[0m     batch_size   : 16\n",
      "\u001b[1;38;5;39mCOMET INFO:\u001b[0m     dropout      : 0.3\n",
      "\u001b[1;38;5;39mCOMET INFO:\u001b[0m     lr           : 0.0007\n",
      "\u001b[1;38;5;39mCOMET INFO:\u001b[0m     model        : DAMS\n",
      "\u001b[1;38;5;39mCOMET INFO:\u001b[0m     momentum     : 0.9\n",
      "\u001b[1;38;5;39mCOMET INFO:\u001b[0m     pos_weight   : 0.576\n",
      "\u001b[1;38;5;39mCOMET INFO:\u001b[0m     seed         : 42\n",
      "\u001b[1;38;5;39mCOMET INFO:\u001b[0m     source       : Siemens\n",
      "\u001b[1;38;5;39mCOMET INFO:\u001b[0m     target_1     : Philips\n",
      "\u001b[1;38;5;39mCOMET INFO:\u001b[0m     target_2     : GE\n",
      "\u001b[1;38;5;39mCOMET INFO:\u001b[0m     weight_decay : 0.03\n",
      "\u001b[1;38;5;39mCOMET INFO:\u001b[0m   Uploads:\n",
      "\u001b[1;38;5;39mCOMET INFO:\u001b[0m     artifact assets              : 3 (21.76 KB)\n",
      "\u001b[1;38;5;39mCOMET INFO:\u001b[0m     artifacts                    : 3\n",
      "\u001b[1;38;5;39mCOMET INFO:\u001b[0m     conda-environment-definition : 1\n",
      "\u001b[1;38;5;39mCOMET INFO:\u001b[0m     conda-info                   : 1\n",
      "\u001b[1;38;5;39mCOMET INFO:\u001b[0m     conda-specification          : 1\n",
      "\u001b[1;38;5;39mCOMET INFO:\u001b[0m     environment details          : 1\n",
      "\u001b[1;38;5;39mCOMET INFO:\u001b[0m     filename                     : 1\n",
      "\u001b[1;38;5;39mCOMET INFO:\u001b[0m     git metadata                 : 1\n",
      "\u001b[1;38;5;39mCOMET INFO:\u001b[0m     git-patch (uncompressed)     : 1 (677.44 KB)\n",
      "\u001b[1;38;5;39mCOMET INFO:\u001b[0m     installed packages           : 1\n",
      "\u001b[1;38;5;39mCOMET INFO:\u001b[0m     model graph                  : 1\n",
      "\u001b[1;38;5;39mCOMET INFO:\u001b[0m     model-element                : 1 (183.72 MB)\n",
      "\u001b[1;38;5;39mCOMET INFO:\u001b[0m     notebook                     : 1\n",
      "\u001b[1;38;5;39mCOMET INFO:\u001b[0m     os packages                  : 1\n",
      "\u001b[1;38;5;39mCOMET INFO:\u001b[0m     source_code                  : 1\n",
      "\u001b[1;38;5;39mCOMET INFO:\u001b[0m \n",
      "\u001b[1;38;5;39mCOMET INFO:\u001b[0m Uploading 70 metrics, params and output messages\n",
      "\u001b[1;38;5;39mCOMET INFO:\u001b[0m Please wait for assets to finish uploading (timeout is 10800 seconds)\n",
      "\u001b[1;38;5;39mCOMET INFO:\u001b[0m Still uploading 1 file(s), remaining 98.72 MB/183.72 MB\n",
      "\u001b[1;38;5;214mCOMET WARNING:\u001b[0m As you are running in a Jupyter environment, you will need to call `experiment.end()` when finished to ensure all metrics and code are logged before exiting.\n",
      "\u001b[1;38;5;39mCOMET INFO:\u001b[0m Experiment is live on comet.com https://www.comet.com/derick-amontagna/adni1-s-siemens-dams-sgd-8/6a531204d3474248a2f5d4cb9c54f719\n",
      "\n",
      "\u001b[1;38;5;39mCOMET INFO:\u001b[0m Artifact 'Engine' version 81.0.0 created (previous was: 80.0.0)\n"
     ]
    },
    {
     "name": "stdout",
     "output_type": "stream",
     "text": [
      "Treinando esse modelo: DAMS\n",
      "Treinando com o source: Siemens/target: Philips/GE\n"
     ]
    },
    {
     "name": "stderr",
     "output_type": "stream",
     "text": [
      "\u001b[1;38;5;39mCOMET INFO:\u001b[0m Scheduling the upload of 1 assets: 1 local assets for a size of 8.21 KB, and 0 remote assets (will be linked, not uploaded). This can take some time.\n",
      "\u001b[1;38;5;39mCOMET INFO:\u001b[0m Artifact 'derick-amontagna/Engine:81.0.0' has started uploading asynchronously\n",
      "\u001b[1;38;5;39mCOMET INFO:\u001b[0m Artifact 'Networks' version 81.0.0 created (previous was: 80.0.0)\n",
      "\u001b[1;38;5;39mCOMET INFO:\u001b[0m Scheduling the upload of 1 assets: 1 local assets for a size of 5.82 KB, and 0 remote assets (will be linked, not uploaded). This can take some time.\n",
      "\u001b[1;38;5;39mCOMET INFO:\u001b[0m Artifact 'derick-amontagna/Networks:81.0.0' has started uploading asynchronously\n",
      "\u001b[1;38;5;39mCOMET INFO:\u001b[0m Artifact 'DataSetup' version 83.0.0 created (previous was: 82.0.0)\n",
      "\u001b[1;38;5;39mCOMET INFO:\u001b[0m Scheduling the upload of 1 assets: 1 local assets for a size of 7.72 KB, and 0 remote assets (will be linked, not uploaded). This can take some time.\n",
      "\u001b[1;38;5;39mCOMET INFO:\u001b[0m Artifact 'derick-amontagna/DataSetup:83.0.0' has started uploading asynchronously\n"
     ]
    },
    {
     "name": "stdout",
     "output_type": "stream",
     "text": [
      "Loading Dataloader\n",
      "Use DAMS Basic\n",
      "Create model\n",
      "Start Train\n"
     ]
    },
    {
     "data": {
      "application/vnd.jupyter.widget-view+json": {
       "model_id": "dfbd4b8fa9a34aee940fc7f0c3382d89",
       "version_major": 2,
       "version_minor": 0
      },
      "text/plain": [
       "  0%|          | 0/50 [00:00<?, ?it/s]"
      ]
     },
     "metadata": {},
     "output_type": "display_data"
    },
    {
     "name": "stderr",
     "output_type": "stream",
     "text": [
      "/root/anaconda3/envs/lapixdl/lib/python3.11/site-packages/torchmetrics/utilities/prints.py:36: UserWarning: Metric `AUROC` will save all targets and predictions in buffer. For large datasets this may lead to large memory footprint.\n",
      "  warnings.warn(*args, **kwargs)\n",
      "\u001b[1;38;5;39mCOMET INFO:\u001b[0m Artifact 'derick-amontagna/Networks:81.0.0' has been fully uploaded successfully\n",
      "\u001b[1;38;5;39mCOMET INFO:\u001b[0m Artifact 'derick-amontagna/DataSetup:83.0.0' has been fully uploaded successfully\n",
      "\u001b[1;38;5;39mCOMET INFO:\u001b[0m Artifact 'derick-amontagna/Engine:81.0.0' has been fully uploaded successfully\n",
      "/root/anaconda3/envs/lapixdl/lib/python3.11/site-packages/torchmetrics/utilities/prints.py:36: UserWarning: Metric `AUROC` will save all targets and predictions in buffer. For large datasets this may lead to large memory footprint.\n",
      "  warnings.warn(*args, **kwargs)\n"
     ]
    },
    {
     "name": "stdout",
     "output_type": "stream",
     "text": [
      "terminating because of early stopping!\n",
      "Loaded model from epoch 26 with best validation auc: 0.95%\n",
      "DONE\n"
     ]
    },
    {
     "name": "stderr",
     "output_type": "stream",
     "text": [
      "\u001b[1;38;5;39mCOMET INFO:\u001b[0m ---------------------------------------------------------------------------------------\n",
      "\u001b[1;38;5;39mCOMET INFO:\u001b[0m Comet.ml Experiment Summary\n",
      "\u001b[1;38;5;39mCOMET INFO:\u001b[0m ---------------------------------------------------------------------------------------\n",
      "\u001b[1;38;5;39mCOMET INFO:\u001b[0m   Data:\n",
      "\u001b[1;38;5;39mCOMET INFO:\u001b[0m     display_summary_level : 1\n",
      "\u001b[1;38;5;39mCOMET INFO:\u001b[0m     name                  : light_jay_9023\n",
      "\u001b[1;38;5;39mCOMET INFO:\u001b[0m     url                   : https://www.comet.com/derick-amontagna/adni1-s-siemens-dams-sgd-8/6a531204d3474248a2f5d4cb9c54f719\n",
      "\u001b[1;38;5;39mCOMET INFO:\u001b[0m   Metrics [count] (min, max):\n",
      "\u001b[1;38;5;39mCOMET INFO:\u001b[0m     epoch [46]         : (0, 45)\n",
      "\u001b[1;38;5;39mCOMET INFO:\u001b[0m     loss [3625]        : (0.020659461617469788, 0.7854171395301819)\n",
      "\u001b[1;38;5;39mCOMET INFO:\u001b[0m     test_acc           : 0.7602576335877863\n",
      "\u001b[1;38;5;39mCOMET INFO:\u001b[0m     test_acc_target    : 0.6790364583333334\n",
      "\u001b[1;38;5;39mCOMET INFO:\u001b[0m     test_acc_target_2  : 0.6880547337278107\n",
      "\u001b[1;38;5;39mCOMET INFO:\u001b[0m     test_auc           : 0.8886915445327759\n",
      "\u001b[1;38;5;39mCOMET INFO:\u001b[0m     test_auc_target    : 0.7537301778793335\n",
      "\u001b[1;38;5;39mCOMET INFO:\u001b[0m     test_auc_target_2  : 0.7780760526657104\n",
      "\u001b[1;38;5;39mCOMET INFO:\u001b[0m     test_loss          : 0.4023230809661496\n",
      "\u001b[1;38;5;39mCOMET INFO:\u001b[0m     test_loss_target   : 0.5377481916608909\n",
      "\u001b[1;38;5;39mCOMET INFO:\u001b[0m     test_loss_target_2 : 0.5004300906725184\n",
      "\u001b[1;38;5;39mCOMET INFO:\u001b[0m     train_acc [46]     : (0.5954156091370558, 0.9783470812182741)\n",
      "\u001b[1;38;5;39mCOMET INFO:\u001b[0m     train_auc [46]     : (0.6328893899917603, 0.997249186038971)\n",
      "\u001b[1;38;5;39mCOMET INFO:\u001b[0m     train_loss [46]    : (0.06730059005064785, 0.4912528157385473)\n",
      "\u001b[1;38;5;39mCOMET INFO:\u001b[0m     val_acc [46]       : (0.59375, 0.8725)\n",
      "\u001b[1;38;5;39mCOMET INFO:\u001b[0m     val_auc [46]       : (0.45115259289741516, 0.9495806097984314)\n",
      "\u001b[1;38;5;39mCOMET INFO:\u001b[0m     val_loss [46]      : (0.23425952592864632, 1.4861686751479284)\n",
      "\u001b[1;38;5;39mCOMET INFO:\u001b[0m   Others:\n",
      "\u001b[1;38;5;39mCOMET INFO:\u001b[0m     best_epoch             : 26\n",
      "\u001b[1;38;5;39mCOMET INFO:\u001b[0m     best_val_metric        : 0.9495806097984314\n",
      "\u001b[1;38;5;39mCOMET INFO:\u001b[0m     optimizer_count        : 5\n",
      "\u001b[1;38;5;39mCOMET INFO:\u001b[0m     optimizer_id           : a6175d5da17447a2a07d393e335bcde5\n",
      "\u001b[1;38;5;39mCOMET INFO:\u001b[0m     optimizer_metric       : val_auc\n",
      "\u001b[1;38;5;39mCOMET INFO:\u001b[0m     optimizer_metric_value : 0.9495806097984314\n",
      "\u001b[1;38;5;39mCOMET INFO:\u001b[0m     optimizer_name         : SOURCE_Siemens\n",
      "\u001b[1;38;5;39mCOMET INFO:\u001b[0m     optimizer_objective    : maximize\n",
      "\u001b[1;38;5;39mCOMET INFO:\u001b[0m     optimizer_parameters   : {\"batch_size\": 16, \"dropout\": 0.4, \"lr\": 0.0007, \"model\": \"DAMS\", \"momentum\": 0.9, \"seed\": 42, \"source\": \"Siemens\", \"target_1\": \"Philips\", \"target_2\": \"GE\", \"weight_decay\": 0.02}\n",
      "\u001b[1;38;5;39mCOMET INFO:\u001b[0m     optimizer_pid          : b6f92242c3a6f6ecc5320a230726ff80b4186380\n",
      "\u001b[1;38;5;39mCOMET INFO:\u001b[0m     optimizer_process      : 544623\n",
      "\u001b[1;38;5;39mCOMET INFO:\u001b[0m     optimizer_trial        : 1\n",
      "\u001b[1;38;5;39mCOMET INFO:\u001b[0m     optimizer_version      : 2.1.4\n",
      "\u001b[1;38;5;39mCOMET INFO:\u001b[0m   Parameters:\n",
      "\u001b[1;38;5;39mCOMET INFO:\u001b[0m     batch_size   : 16\n",
      "\u001b[1;38;5;39mCOMET INFO:\u001b[0m     dropout      : 0.4\n",
      "\u001b[1;38;5;39mCOMET INFO:\u001b[0m     lr           : 0.0007\n",
      "\u001b[1;38;5;39mCOMET INFO:\u001b[0m     model        : DAMS\n",
      "\u001b[1;38;5;39mCOMET INFO:\u001b[0m     momentum     : 0.9\n",
      "\u001b[1;38;5;39mCOMET INFO:\u001b[0m     pos_weight   : 0.576\n",
      "\u001b[1;38;5;39mCOMET INFO:\u001b[0m     seed         : 42\n",
      "\u001b[1;38;5;39mCOMET INFO:\u001b[0m     source       : Siemens\n",
      "\u001b[1;38;5;39mCOMET INFO:\u001b[0m     target_1     : Philips\n",
      "\u001b[1;38;5;39mCOMET INFO:\u001b[0m     target_2     : GE\n",
      "\u001b[1;38;5;39mCOMET INFO:\u001b[0m     weight_decay : 0.02\n",
      "\u001b[1;38;5;39mCOMET INFO:\u001b[0m   Uploads:\n",
      "\u001b[1;38;5;39mCOMET INFO:\u001b[0m     artifact assets              : 3 (21.76 KB)\n",
      "\u001b[1;38;5;39mCOMET INFO:\u001b[0m     artifacts                    : 3\n",
      "\u001b[1;38;5;39mCOMET INFO:\u001b[0m     conda-environment-definition : 1\n",
      "\u001b[1;38;5;39mCOMET INFO:\u001b[0m     conda-info                   : 1\n",
      "\u001b[1;38;5;39mCOMET INFO:\u001b[0m     conda-specification          : 1\n",
      "\u001b[1;38;5;39mCOMET INFO:\u001b[0m     environment details          : 1\n",
      "\u001b[1;38;5;39mCOMET INFO:\u001b[0m     filename                     : 1\n",
      "\u001b[1;38;5;39mCOMET INFO:\u001b[0m     git metadata                 : 1\n",
      "\u001b[1;38;5;39mCOMET INFO:\u001b[0m     git-patch (uncompressed)     : 1 (687.68 KB)\n",
      "\u001b[1;38;5;39mCOMET INFO:\u001b[0m     installed packages           : 1\n",
      "\u001b[1;38;5;39mCOMET INFO:\u001b[0m     model graph                  : 1\n",
      "\u001b[1;38;5;39mCOMET INFO:\u001b[0m     model-element                : 1 (183.72 MB)\n",
      "\u001b[1;38;5;39mCOMET INFO:\u001b[0m     notebook                     : 1\n",
      "\u001b[1;38;5;39mCOMET INFO:\u001b[0m     os packages                  : 1\n",
      "\u001b[1;38;5;39mCOMET INFO:\u001b[0m     source_code                  : 1\n",
      "\u001b[1;38;5;39mCOMET INFO:\u001b[0m \n",
      "\u001b[1;38;5;39mCOMET INFO:\u001b[0m Uploading 73 metrics, params and output messages\n",
      "\u001b[1;38;5;39mCOMET INFO:\u001b[0m Please wait for assets to finish uploading (timeout is 10800 seconds)\n",
      "\u001b[1;38;5;39mCOMET INFO:\u001b[0m Still uploading 1 file(s), remaining 93.72 MB/183.72 MB\n",
      "\u001b[1;38;5;214mCOMET WARNING:\u001b[0m As you are running in a Jupyter environment, you will need to call `experiment.end()` when finished to ensure all metrics and code are logged before exiting.\n",
      "\u001b[1;38;5;39mCOMET INFO:\u001b[0m Experiment is live on comet.com https://www.comet.com/derick-amontagna/adni1-s-siemens-dams-sgd-8/e61615df95644ca8b78ac716a0735766\n",
      "\n",
      "\u001b[1;38;5;39mCOMET INFO:\u001b[0m Artifact 'Engine' version 82.0.0 created (previous was: 81.0.0)\n"
     ]
    },
    {
     "name": "stdout",
     "output_type": "stream",
     "text": [
      "Treinando esse modelo: DAMS\n",
      "Treinando com o source: Siemens/target: Philips/GE\n"
     ]
    },
    {
     "name": "stderr",
     "output_type": "stream",
     "text": [
      "\u001b[1;38;5;39mCOMET INFO:\u001b[0m Scheduling the upload of 1 assets: 1 local assets for a size of 8.21 KB, and 0 remote assets (will be linked, not uploaded). This can take some time.\n",
      "\u001b[1;38;5;39mCOMET INFO:\u001b[0m Artifact 'derick-amontagna/Engine:82.0.0' has started uploading asynchronously\n",
      "\u001b[1;38;5;39mCOMET INFO:\u001b[0m Artifact 'Networks' version 82.0.0 created (previous was: 81.0.0)\n",
      "\u001b[1;38;5;39mCOMET INFO:\u001b[0m Scheduling the upload of 1 assets: 1 local assets for a size of 5.82 KB, and 0 remote assets (will be linked, not uploaded). This can take some time.\n",
      "\u001b[1;38;5;39mCOMET INFO:\u001b[0m Artifact 'derick-amontagna/Networks:82.0.0' has started uploading asynchronously\n",
      "\u001b[1;38;5;39mCOMET INFO:\u001b[0m Artifact 'DataSetup' version 84.0.0 created (previous was: 83.0.0)\n",
      "\u001b[1;38;5;39mCOMET INFO:\u001b[0m Scheduling the upload of 1 assets: 1 local assets for a size of 7.72 KB, and 0 remote assets (will be linked, not uploaded). This can take some time.\n",
      "\u001b[1;38;5;39mCOMET INFO:\u001b[0m Artifact 'derick-amontagna/DataSetup:84.0.0' has started uploading asynchronously\n",
      "\u001b[1;38;5;39mCOMET INFO:\u001b[0m Artifact 'derick-amontagna/DataSetup:84.0.0' has been fully uploaded successfully\n",
      "\u001b[1;38;5;39mCOMET INFO:\u001b[0m Artifact 'derick-amontagna/Engine:82.0.0' has been fully uploaded successfully\n",
      "\u001b[1;38;5;39mCOMET INFO:\u001b[0m Artifact 'derick-amontagna/Networks:82.0.0' has been fully uploaded successfully\n"
     ]
    },
    {
     "name": "stdout",
     "output_type": "stream",
     "text": [
      "Loading Dataloader\n",
      "Use DAMS Basic\n",
      "Create model\n",
      "Start Train\n"
     ]
    },
    {
     "data": {
      "application/vnd.jupyter.widget-view+json": {
       "model_id": "9b7bc88cfa694455bc31c2f51858d24e",
       "version_major": 2,
       "version_minor": 0
      },
      "text/plain": [
       "  0%|          | 0/50 [00:00<?, ?it/s]"
      ]
     },
     "metadata": {},
     "output_type": "display_data"
    },
    {
     "name": "stderr",
     "output_type": "stream",
     "text": [
      "/root/anaconda3/envs/lapixdl/lib/python3.11/site-packages/torchmetrics/utilities/prints.py:36: UserWarning: Metric `AUROC` will save all targets and predictions in buffer. For large datasets this may lead to large memory footprint.\n",
      "  warnings.warn(*args, **kwargs)\n"
     ]
    },
    {
     "name": "stdout",
     "output_type": "stream",
     "text": [
      "terminating because of early stopping!\n",
      "Loaded model from epoch 9 with best validation auc: 0.95%\n",
      "DONE\n"
     ]
    },
    {
     "name": "stderr",
     "output_type": "stream",
     "text": [
      "\u001b[1;38;5;39mCOMET INFO:\u001b[0m ---------------------------------------------------------------------------------------\n",
      "\u001b[1;38;5;39mCOMET INFO:\u001b[0m Comet.ml Experiment Summary\n",
      "\u001b[1;38;5;39mCOMET INFO:\u001b[0m ---------------------------------------------------------------------------------------\n",
      "\u001b[1;38;5;39mCOMET INFO:\u001b[0m   Data:\n",
      "\u001b[1;38;5;39mCOMET INFO:\u001b[0m     display_summary_level : 1\n",
      "\u001b[1;38;5;39mCOMET INFO:\u001b[0m     name                  : administrative_country_7104\n",
      "\u001b[1;38;5;39mCOMET INFO:\u001b[0m     url                   : https://www.comet.com/derick-amontagna/adni1-s-siemens-dams-sgd-8/e61615df95644ca8b78ac716a0735766\n",
      "\u001b[1;38;5;39mCOMET INFO:\u001b[0m   Metrics [count] (min, max):\n",
      "\u001b[1;38;5;39mCOMET INFO:\u001b[0m     epoch [29]         : (0, 28)\n",
      "\u001b[1;38;5;39mCOMET INFO:\u001b[0m     loss [2286]        : (0.043272964656353, 0.9170093536376953)\n",
      "\u001b[1;38;5;39mCOMET INFO:\u001b[0m     test_acc           : 0.8048664122137404\n",
      "\u001b[1;38;5;39mCOMET INFO:\u001b[0m     test_acc_target    : 0.681640625\n",
      "\u001b[1;38;5;39mCOMET INFO:\u001b[0m     test_acc_target_2  : 0.7198594674556213\n",
      "\u001b[1;38;5;39mCOMET INFO:\u001b[0m     test_auc           : 0.9140368700027466\n",
      "\u001b[1;38;5;39mCOMET INFO:\u001b[0m     test_auc_target    : 0.7319706082344055\n",
      "\u001b[1;38;5;39mCOMET INFO:\u001b[0m     test_auc_target_2  : 0.7999801635742188\n",
      "\u001b[1;38;5;39mCOMET INFO:\u001b[0m     test_loss          : 0.4894513029406089\n",
      "\u001b[1;38;5;39mCOMET INFO:\u001b[0m     test_loss_target   : 0.829834880734173\n",
      "\u001b[1;38;5;39mCOMET INFO:\u001b[0m     test_loss_target_2 : 0.7338810933715273\n",
      "\u001b[1;38;5;39mCOMET INFO:\u001b[0m     train_acc [29]     : (0.5889118020304569, 0.9654980964467005)\n",
      "\u001b[1;38;5;39mCOMET INFO:\u001b[0m     train_auc [29]     : (0.6179319620132446, 0.9930657148361206)\n",
      "\u001b[1;38;5;39mCOMET INFO:\u001b[0m     train_loss [29]    : (0.10259508979766804, 0.4957393101856188)\n",
      "\u001b[1;38;5;39mCOMET INFO:\u001b[0m     val_acc [29]       : (0.38, 0.88375)\n",
      "\u001b[1;38;5;39mCOMET INFO:\u001b[0m     val_auc [29]       : (0.46901920437812805, 0.9463211894035339)\n",
      "\u001b[1;38;5;39mCOMET INFO:\u001b[0m     val_loss [29]      : (0.2667179549485445, 1.2129606926441192)\n",
      "\u001b[1;38;5;39mCOMET INFO:\u001b[0m   Others:\n",
      "\u001b[1;38;5;39mCOMET INFO:\u001b[0m     best_epoch             : 9\n",
      "\u001b[1;38;5;39mCOMET INFO:\u001b[0m     best_val_metric        : 0.9463211894035339\n",
      "\u001b[1;38;5;39mCOMET INFO:\u001b[0m     optimizer_count        : 6\n",
      "\u001b[1;38;5;39mCOMET INFO:\u001b[0m     optimizer_id           : a6175d5da17447a2a07d393e335bcde5\n",
      "\u001b[1;38;5;39mCOMET INFO:\u001b[0m     optimizer_metric       : val_auc\n",
      "\u001b[1;38;5;39mCOMET INFO:\u001b[0m     optimizer_metric_value : 0.9463211894035339\n",
      "\u001b[1;38;5;39mCOMET INFO:\u001b[0m     optimizer_name         : SOURCE_Siemens\n",
      "\u001b[1;38;5;39mCOMET INFO:\u001b[0m     optimizer_objective    : maximize\n",
      "\u001b[1;38;5;39mCOMET INFO:\u001b[0m     optimizer_parameters   : {\"batch_size\": 16, \"dropout\": 0.4, \"lr\": 0.0007, \"model\": \"DAMS\", \"momentum\": 0.9, \"seed\": 42, \"source\": \"Siemens\", \"target_1\": \"Philips\", \"target_2\": \"GE\", \"weight_decay\": 0.03}\n",
      "\u001b[1;38;5;39mCOMET INFO:\u001b[0m     optimizer_pid          : 6070629c6c05b983214cc10c61928cf17d255585\n",
      "\u001b[1;38;5;39mCOMET INFO:\u001b[0m     optimizer_process      : 544623\n",
      "\u001b[1;38;5;39mCOMET INFO:\u001b[0m     optimizer_trial        : 1\n",
      "\u001b[1;38;5;39mCOMET INFO:\u001b[0m     optimizer_version      : 2.1.4\n",
      "\u001b[1;38;5;39mCOMET INFO:\u001b[0m   Parameters:\n",
      "\u001b[1;38;5;39mCOMET INFO:\u001b[0m     batch_size   : 16\n",
      "\u001b[1;38;5;39mCOMET INFO:\u001b[0m     dropout      : 0.4\n",
      "\u001b[1;38;5;39mCOMET INFO:\u001b[0m     lr           : 0.0007\n",
      "\u001b[1;38;5;39mCOMET INFO:\u001b[0m     model        : DAMS\n",
      "\u001b[1;38;5;39mCOMET INFO:\u001b[0m     momentum     : 0.9\n",
      "\u001b[1;38;5;39mCOMET INFO:\u001b[0m     pos_weight   : 0.576\n",
      "\u001b[1;38;5;39mCOMET INFO:\u001b[0m     seed         : 42\n",
      "\u001b[1;38;5;39mCOMET INFO:\u001b[0m     source       : Siemens\n",
      "\u001b[1;38;5;39mCOMET INFO:\u001b[0m     target_1     : Philips\n",
      "\u001b[1;38;5;39mCOMET INFO:\u001b[0m     target_2     : GE\n",
      "\u001b[1;38;5;39mCOMET INFO:\u001b[0m     weight_decay : 0.03\n",
      "\u001b[1;38;5;39mCOMET INFO:\u001b[0m   Uploads:\n",
      "\u001b[1;38;5;39mCOMET INFO:\u001b[0m     artifact assets              : 3 (21.76 KB)\n",
      "\u001b[1;38;5;39mCOMET INFO:\u001b[0m     artifacts                    : 3\n",
      "\u001b[1;38;5;39mCOMET INFO:\u001b[0m     conda-environment-definition : 1\n",
      "\u001b[1;38;5;39mCOMET INFO:\u001b[0m     conda-info                   : 1\n",
      "\u001b[1;38;5;39mCOMET INFO:\u001b[0m     conda-specification          : 1\n",
      "\u001b[1;38;5;39mCOMET INFO:\u001b[0m     environment details          : 1\n",
      "\u001b[1;38;5;39mCOMET INFO:\u001b[0m     filename                     : 1\n",
      "\u001b[1;38;5;39mCOMET INFO:\u001b[0m     git metadata                 : 1\n",
      "\u001b[1;38;5;39mCOMET INFO:\u001b[0m     git-patch (uncompressed)     : 1 (698.30 KB)\n",
      "\u001b[1;38;5;39mCOMET INFO:\u001b[0m     installed packages           : 1\n",
      "\u001b[1;38;5;39mCOMET INFO:\u001b[0m     model graph                  : 1\n",
      "\u001b[1;38;5;39mCOMET INFO:\u001b[0m     model-element                : 1 (183.73 MB)\n",
      "\u001b[1;38;5;39mCOMET INFO:\u001b[0m     notebook                     : 1\n",
      "\u001b[1;38;5;39mCOMET INFO:\u001b[0m     os packages                  : 1\n",
      "\u001b[1;38;5;39mCOMET INFO:\u001b[0m     source_code                  : 1\n",
      "\u001b[1;38;5;39mCOMET INFO:\u001b[0m \n",
      "\u001b[1;38;5;39mCOMET INFO:\u001b[0m Uploading 73 metrics, params and output messages\n",
      "\u001b[1;38;5;39mCOMET INFO:\u001b[0m Please wait for assets to finish uploading (timeout is 10800 seconds)\n",
      "\u001b[1;38;5;39mCOMET INFO:\u001b[0m Still uploading 3 file(s), remaining 93.73 MB/183.75 MB\n",
      "\u001b[1;38;5;214mCOMET WARNING:\u001b[0m As you are running in a Jupyter environment, you will need to call `experiment.end()` when finished to ensure all metrics and code are logged before exiting.\n",
      "\u001b[1;38;5;39mCOMET INFO:\u001b[0m Experiment is live on comet.com https://www.comet.com/derick-amontagna/adni1-s-siemens-dams-sgd-8/8559475df7ab4dd58086e461c1b67a06\n",
      "\n",
      "\u001b[1;38;5;39mCOMET INFO:\u001b[0m Artifact 'Engine' version 83.0.0 created (previous was: 82.0.0)\n"
     ]
    },
    {
     "name": "stdout",
     "output_type": "stream",
     "text": [
      "Treinando esse modelo: DAMS\n",
      "Treinando com o source: Siemens/target: Philips/GE\n"
     ]
    },
    {
     "name": "stderr",
     "output_type": "stream",
     "text": [
      "\u001b[1;38;5;39mCOMET INFO:\u001b[0m Scheduling the upload of 1 assets: 1 local assets for a size of 8.21 KB, and 0 remote assets (will be linked, not uploaded). This can take some time.\n",
      "\u001b[1;38;5;39mCOMET INFO:\u001b[0m Artifact 'derick-amontagna/Engine:83.0.0' has started uploading asynchronously\n",
      "\u001b[1;38;5;39mCOMET INFO:\u001b[0m Artifact 'Networks' version 83.0.0 created (previous was: 82.0.0)\n",
      "\u001b[1;38;5;39mCOMET INFO:\u001b[0m Scheduling the upload of 1 assets: 1 local assets for a size of 5.82 KB, and 0 remote assets (will be linked, not uploaded). This can take some time.\n",
      "\u001b[1;38;5;39mCOMET INFO:\u001b[0m Artifact 'derick-amontagna/Networks:83.0.0' has started uploading asynchronously\n",
      "\u001b[1;38;5;39mCOMET INFO:\u001b[0m Artifact 'DataSetup' version 85.0.0 created (previous was: 84.0.0)\n",
      "\u001b[1;38;5;39mCOMET INFO:\u001b[0m Scheduling the upload of 1 assets: 1 local assets for a size of 7.72 KB, and 0 remote assets (will be linked, not uploaded). This can take some time.\n",
      "\u001b[1;38;5;39mCOMET INFO:\u001b[0m Artifact 'derick-amontagna/DataSetup:85.0.0' has started uploading asynchronously\n",
      "\u001b[1;38;5;39mCOMET INFO:\u001b[0m Artifact 'derick-amontagna/DataSetup:85.0.0' has been fully uploaded successfully\n",
      "\u001b[1;38;5;39mCOMET INFO:\u001b[0m Artifact 'derick-amontagna/Networks:83.0.0' has been fully uploaded successfully\n",
      "\u001b[1;38;5;39mCOMET INFO:\u001b[0m Artifact 'derick-amontagna/Engine:83.0.0' has been fully uploaded successfully\n"
     ]
    },
    {
     "name": "stdout",
     "output_type": "stream",
     "text": [
      "Loading Dataloader\n",
      "Use DAMS Basic\n",
      "Create model\n",
      "Start Train\n"
     ]
    },
    {
     "data": {
      "application/vnd.jupyter.widget-view+json": {
       "model_id": "59a7b8b5d1a74b37a1079f72d40b60fe",
       "version_major": 2,
       "version_minor": 0
      },
      "text/plain": [
       "  0%|          | 0/50 [00:00<?, ?it/s]"
      ]
     },
     "metadata": {},
     "output_type": "display_data"
    },
    {
     "name": "stderr",
     "output_type": "stream",
     "text": [
      "/root/anaconda3/envs/lapixdl/lib/python3.11/site-packages/torchmetrics/utilities/prints.py:36: UserWarning: Metric `AUROC` will save all targets and predictions in buffer. For large datasets this may lead to large memory footprint.\n",
      "  warnings.warn(*args, **kwargs)\n"
     ]
    },
    {
     "name": "stdout",
     "output_type": "stream",
     "text": [
      "terminating because of early stopping!\n",
      "Loaded model from epoch 11 with best validation auc: 0.94%\n",
      "DONE\n"
     ]
    },
    {
     "name": "stderr",
     "output_type": "stream",
     "text": [
      "\u001b[1;38;5;39mCOMET INFO:\u001b[0m ---------------------------------------------------------------------------------------\n",
      "\u001b[1;38;5;39mCOMET INFO:\u001b[0m Comet.ml Experiment Summary\n",
      "\u001b[1;38;5;39mCOMET INFO:\u001b[0m ---------------------------------------------------------------------------------------\n",
      "\u001b[1;38;5;39mCOMET INFO:\u001b[0m   Data:\n",
      "\u001b[1;38;5;39mCOMET INFO:\u001b[0m     display_summary_level : 1\n",
      "\u001b[1;38;5;39mCOMET INFO:\u001b[0m     name                  : net_piles_3208\n",
      "\u001b[1;38;5;39mCOMET INFO:\u001b[0m     url                   : https://www.comet.com/derick-amontagna/adni1-s-siemens-dams-sgd-8/8559475df7ab4dd58086e461c1b67a06\n",
      "\u001b[1;38;5;39mCOMET INFO:\u001b[0m   Metrics [count] (min, max):\n",
      "\u001b[1;38;5;39mCOMET INFO:\u001b[0m     epoch [31]         : (0, 30)\n",
      "\u001b[1;38;5;39mCOMET INFO:\u001b[0m     loss [1222]        : (0.016585445031523705, 0.5905413627624512)\n",
      "\u001b[1;38;5;39mCOMET INFO:\u001b[0m     test_acc           : 0.8036736641221374\n",
      "\u001b[1;38;5;39mCOMET INFO:\u001b[0m     test_acc_target    : 0.6985677083333334\n",
      "\u001b[1;38;5;39mCOMET INFO:\u001b[0m     test_acc_target_2  : 0.7302144970414202\n",
      "\u001b[1;38;5;39mCOMET INFO:\u001b[0m     test_auc           : 0.8933601379394531\n",
      "\u001b[1;38;5;39mCOMET INFO:\u001b[0m     test_auc_target    : 0.7411349415779114\n",
      "\u001b[1;38;5;39mCOMET INFO:\u001b[0m     test_auc_target_2  : 0.7908540368080139\n",
      "\u001b[1;38;5;39mCOMET INFO:\u001b[0m     test_loss          : 0.5504087880751445\n",
      "\u001b[1;38;5;39mCOMET INFO:\u001b[0m     test_loss_target   : 0.8750701957227042\n",
      "\u001b[1;38;5;39mCOMET INFO:\u001b[0m     test_loss_target_2 : 0.7694489810031635\n",
      "\u001b[1;38;5;39mCOMET INFO:\u001b[0m     train_acc [31]     : (0.5665450507614214, 0.9911167512690355)\n",
      "\u001b[1;38;5;39mCOMET INFO:\u001b[0m     train_auc [31]     : (0.5858073830604553, 0.9994691610336304)\n",
      "\u001b[1;38;5;39mCOMET INFO:\u001b[0m     train_loss [31]    : (0.04007307858901278, 0.5012447138123101)\n",
      "\u001b[1;38;5;39mCOMET INFO:\u001b[0m     val_acc [31]       : (0.391875, 0.8859375)\n",
      "\u001b[1;38;5;39mCOMET INFO:\u001b[0m     val_auc [31]       : (0.45353639125823975, 0.9413515329360962)\n",
      "\u001b[1;38;5;39mCOMET INFO:\u001b[0m     val_loss [31]      : (0.2795637343265116, 0.5909584446018562)\n",
      "\u001b[1;38;5;39mCOMET INFO:\u001b[0m   Others:\n",
      "\u001b[1;38;5;39mCOMET INFO:\u001b[0m     best_epoch             : 11\n",
      "\u001b[1;38;5;39mCOMET INFO:\u001b[0m     best_val_metric        : 0.9413515329360962\n",
      "\u001b[1;38;5;39mCOMET INFO:\u001b[0m     optimizer_count        : 7\n",
      "\u001b[1;38;5;39mCOMET INFO:\u001b[0m     optimizer_id           : a6175d5da17447a2a07d393e335bcde5\n",
      "\u001b[1;38;5;39mCOMET INFO:\u001b[0m     optimizer_metric       : val_auc\n",
      "\u001b[1;38;5;39mCOMET INFO:\u001b[0m     optimizer_metric_value : 0.9413515329360962\n",
      "\u001b[1;38;5;39mCOMET INFO:\u001b[0m     optimizer_name         : SOURCE_Siemens\n",
      "\u001b[1;38;5;39mCOMET INFO:\u001b[0m     optimizer_objective    : maximize\n",
      "\u001b[1;38;5;39mCOMET INFO:\u001b[0m     optimizer_parameters   : {\"batch_size\": 32, \"dropout\": 0.2, \"lr\": 0.0007, \"model\": \"DAMS\", \"momentum\": 0.9, \"seed\": 42, \"source\": \"Siemens\", \"target_1\": \"Philips\", \"target_2\": \"GE\", \"weight_decay\": 0.02}\n",
      "\u001b[1;38;5;39mCOMET INFO:\u001b[0m     optimizer_pid          : db2c3d77a3553550c8907a3fde56d6650edc49b1\n",
      "\u001b[1;38;5;39mCOMET INFO:\u001b[0m     optimizer_process      : 544623\n",
      "\u001b[1;38;5;39mCOMET INFO:\u001b[0m     optimizer_trial        : 1\n",
      "\u001b[1;38;5;39mCOMET INFO:\u001b[0m     optimizer_version      : 2.1.4\n",
      "\u001b[1;38;5;39mCOMET INFO:\u001b[0m   Parameters:\n",
      "\u001b[1;38;5;39mCOMET INFO:\u001b[0m     batch_size   : 32\n",
      "\u001b[1;38;5;39mCOMET INFO:\u001b[0m     dropout      : 0.2\n",
      "\u001b[1;38;5;39mCOMET INFO:\u001b[0m     lr           : 0.0007\n",
      "\u001b[1;38;5;39mCOMET INFO:\u001b[0m     model        : DAMS\n",
      "\u001b[1;38;5;39mCOMET INFO:\u001b[0m     momentum     : 0.9\n",
      "\u001b[1;38;5;39mCOMET INFO:\u001b[0m     pos_weight   : 0.576\n",
      "\u001b[1;38;5;39mCOMET INFO:\u001b[0m     seed         : 42\n",
      "\u001b[1;38;5;39mCOMET INFO:\u001b[0m     source       : Siemens\n",
      "\u001b[1;38;5;39mCOMET INFO:\u001b[0m     target_1     : Philips\n",
      "\u001b[1;38;5;39mCOMET INFO:\u001b[0m     target_2     : GE\n",
      "\u001b[1;38;5;39mCOMET INFO:\u001b[0m     weight_decay : 0.02\n",
      "\u001b[1;38;5;39mCOMET INFO:\u001b[0m   Uploads:\n",
      "\u001b[1;38;5;39mCOMET INFO:\u001b[0m     artifact assets              : 3 (21.76 KB)\n",
      "\u001b[1;38;5;39mCOMET INFO:\u001b[0m     artifacts                    : 3\n",
      "\u001b[1;38;5;39mCOMET INFO:\u001b[0m     conda-environment-definition : 1\n",
      "\u001b[1;38;5;39mCOMET INFO:\u001b[0m     conda-info                   : 1\n",
      "\u001b[1;38;5;39mCOMET INFO:\u001b[0m     conda-specification          : 1\n",
      "\u001b[1;38;5;39mCOMET INFO:\u001b[0m     environment details          : 1\n",
      "\u001b[1;38;5;39mCOMET INFO:\u001b[0m     filename                     : 1\n",
      "\u001b[1;38;5;39mCOMET INFO:\u001b[0m     git metadata                 : 1\n",
      "\u001b[1;38;5;39mCOMET INFO:\u001b[0m     git-patch (uncompressed)     : 1 (708.21 KB)\n",
      "\u001b[1;38;5;39mCOMET INFO:\u001b[0m     installed packages           : 1\n",
      "\u001b[1;38;5;39mCOMET INFO:\u001b[0m     model graph                  : 1\n",
      "\u001b[1;38;5;39mCOMET INFO:\u001b[0m     model-element                : 1 (183.72 MB)\n",
      "\u001b[1;38;5;39mCOMET INFO:\u001b[0m     notebook                     : 1\n",
      "\u001b[1;38;5;39mCOMET INFO:\u001b[0m     os packages                  : 1\n",
      "\u001b[1;38;5;39mCOMET INFO:\u001b[0m     source_code                  : 1\n",
      "\u001b[1;38;5;39mCOMET INFO:\u001b[0m \n",
      "\u001b[1;38;5;39mCOMET INFO:\u001b[0m Please wait for assets to finish uploading (timeout is 10800 seconds)\n",
      "\u001b[1;38;5;39mCOMET INFO:\u001b[0m Still uploading 1 file(s), remaining 98.72 MB/183.72 MB\n",
      "\u001b[1;38;5;214mCOMET WARNING:\u001b[0m As you are running in a Jupyter environment, you will need to call `experiment.end()` when finished to ensure all metrics and code are logged before exiting.\n",
      "\u001b[1;38;5;39mCOMET INFO:\u001b[0m Experiment is live on comet.com https://www.comet.com/derick-amontagna/adni1-s-siemens-dams-sgd-8/49833de273aa44cc883b4ee41722cf25\n",
      "\n",
      "\u001b[1;38;5;39mCOMET INFO:\u001b[0m Artifact 'Engine' version 84.0.0 created (previous was: 83.0.0)\n"
     ]
    },
    {
     "name": "stdout",
     "output_type": "stream",
     "text": [
      "Treinando esse modelo: DAMS\n",
      "Treinando com o source: Siemens/target: Philips/GE\n"
     ]
    },
    {
     "name": "stderr",
     "output_type": "stream",
     "text": [
      "\u001b[1;38;5;39mCOMET INFO:\u001b[0m Scheduling the upload of 1 assets: 1 local assets for a size of 8.21 KB, and 0 remote assets (will be linked, not uploaded). This can take some time.\n",
      "\u001b[1;38;5;39mCOMET INFO:\u001b[0m Artifact 'derick-amontagna/Engine:84.0.0' has started uploading asynchronously\n",
      "\u001b[1;38;5;39mCOMET INFO:\u001b[0m Artifact 'Networks' version 84.0.0 created (previous was: 83.0.0)\n",
      "\u001b[1;38;5;39mCOMET INFO:\u001b[0m Scheduling the upload of 1 assets: 1 local assets for a size of 5.82 KB, and 0 remote assets (will be linked, not uploaded). This can take some time.\n",
      "\u001b[1;38;5;39mCOMET INFO:\u001b[0m Artifact 'derick-amontagna/Networks:84.0.0' has started uploading asynchronously\n",
      "\u001b[1;38;5;39mCOMET INFO:\u001b[0m Artifact 'DataSetup' version 86.0.0 created (previous was: 85.0.0)\n",
      "\u001b[1;38;5;39mCOMET INFO:\u001b[0m Scheduling the upload of 1 assets: 1 local assets for a size of 7.72 KB, and 0 remote assets (will be linked, not uploaded). This can take some time.\n",
      "\u001b[1;38;5;39mCOMET INFO:\u001b[0m Artifact 'derick-amontagna/DataSetup:86.0.0' has started uploading asynchronously\n"
     ]
    },
    {
     "name": "stdout",
     "output_type": "stream",
     "text": [
      "Loading Dataloader\n",
      "Use DAMS Basic\n",
      "Create model\n",
      "Start Train\n"
     ]
    },
    {
     "data": {
      "application/vnd.jupyter.widget-view+json": {
       "model_id": "97cae22470ed4739a75801b0d243187d",
       "version_major": 2,
       "version_minor": 0
      },
      "text/plain": [
       "  0%|          | 0/50 [00:00<?, ?it/s]"
      ]
     },
     "metadata": {},
     "output_type": "display_data"
    },
    {
     "name": "stderr",
     "output_type": "stream",
     "text": [
      "/root/anaconda3/envs/lapixdl/lib/python3.11/site-packages/torchmetrics/utilities/prints.py:36: UserWarning: Metric `AUROC` will save all targets and predictions in buffer. For large datasets this may lead to large memory footprint.\n",
      "  warnings.warn(*args, **kwargs)\n",
      "\u001b[1;38;5;39mCOMET INFO:\u001b[0m Artifact 'derick-amontagna/Engine:84.0.0' has been fully uploaded successfully\n",
      "\u001b[1;38;5;39mCOMET INFO:\u001b[0m Artifact 'derick-amontagna/Networks:84.0.0' has been fully uploaded successfully\n",
      "\u001b[1;38;5;39mCOMET INFO:\u001b[0m Artifact 'derick-amontagna/DataSetup:86.0.0' has been fully uploaded successfully\n",
      "/root/anaconda3/envs/lapixdl/lib/python3.11/site-packages/torchmetrics/utilities/prints.py:36: UserWarning: Metric `AUROC` will save all targets and predictions in buffer. For large datasets this may lead to large memory footprint.\n",
      "  warnings.warn(*args, **kwargs)\n"
     ]
    },
    {
     "name": "stdout",
     "output_type": "stream",
     "text": [
      "Loaded model from epoch 44 with best validation auc: 0.92%\n",
      "DONE\n"
     ]
    },
    {
     "name": "stderr",
     "output_type": "stream",
     "text": [
      "\u001b[1;38;5;39mCOMET INFO:\u001b[0m ---------------------------------------------------------------------------------------\n",
      "\u001b[1;38;5;39mCOMET INFO:\u001b[0m Comet.ml Experiment Summary\n",
      "\u001b[1;38;5;39mCOMET INFO:\u001b[0m ---------------------------------------------------------------------------------------\n",
      "\u001b[1;38;5;39mCOMET INFO:\u001b[0m   Data:\n",
      "\u001b[1;38;5;39mCOMET INFO:\u001b[0m     display_summary_level : 1\n",
      "\u001b[1;38;5;39mCOMET INFO:\u001b[0m     name                  : current_yeast_8089\n",
      "\u001b[1;38;5;39mCOMET INFO:\u001b[0m     url                   : https://www.comet.com/derick-amontagna/adni1-s-siemens-dams-sgd-8/49833de273aa44cc883b4ee41722cf25\n",
      "\u001b[1;38;5;39mCOMET INFO:\u001b[0m   Metrics [count] (min, max):\n",
      "\u001b[1;38;5;39mCOMET INFO:\u001b[0m     epoch [50]         : (0, 49)\n",
      "\u001b[1;38;5;39mCOMET INFO:\u001b[0m     loss [1970]        : (0.03164372220635414, 0.5963865518569946)\n",
      "\u001b[1;38;5;39mCOMET INFO:\u001b[0m     test_acc           : 0.8196564885496184\n",
      "\u001b[1;38;5;39mCOMET INFO:\u001b[0m     test_acc_target    : 0.642578125\n",
      "\u001b[1;38;5;39mCOMET INFO:\u001b[0m     test_acc_target_2  : 0.7431582840236687\n",
      "\u001b[1;38;5;39mCOMET INFO:\u001b[0m     test_auc           : 0.8584775328636169\n",
      "\u001b[1;38;5;39mCOMET INFO:\u001b[0m     test_auc_target    : 0.5763386487960815\n",
      "\u001b[1;38;5;39mCOMET INFO:\u001b[0m     test_auc_target_2  : 0.7917443513870239\n",
      "\u001b[1;38;5;39mCOMET INFO:\u001b[0m     test_loss          : 0.33923083549464933\n",
      "\u001b[1;38;5;39mCOMET INFO:\u001b[0m     test_loss_target   : 0.6832761159166694\n",
      "\u001b[1;38;5;39mCOMET INFO:\u001b[0m     test_loss_target_2 : 0.4707565267939539\n",
      "\u001b[1;38;5;39mCOMET INFO:\u001b[0m     train_acc [50]     : (0.5608343908629442, 0.9876269035532995)\n",
      "\u001b[1;38;5;39mCOMET INFO:\u001b[0m     train_auc [50]     : (0.5831520557403564, 0.9987098574638367)\n",
      "\u001b[1;38;5;39mCOMET INFO:\u001b[0m     train_loss [50]    : (0.06095348491432703, 0.5015517240248356)\n",
      "\u001b[1;38;5;39mCOMET INFO:\u001b[0m     val_acc [50]       : (0.595, 0.8796875)\n",
      "\u001b[1;38;5;39mCOMET INFO:\u001b[0m     val_auc [50]       : (0.5275275707244873, 0.9248024225234985)\n",
      "\u001b[1;38;5;39mCOMET INFO:\u001b[0m     val_loss [50]      : (0.26851286113262174, 0.7058689981512726)\n",
      "\u001b[1;38;5;39mCOMET INFO:\u001b[0m   Others:\n",
      "\u001b[1;38;5;39mCOMET INFO:\u001b[0m     best_epoch             : 44\n",
      "\u001b[1;38;5;39mCOMET INFO:\u001b[0m     best_val_metric        : 0.9248024225234985\n",
      "\u001b[1;38;5;39mCOMET INFO:\u001b[0m     optimizer_count        : 8\n",
      "\u001b[1;38;5;39mCOMET INFO:\u001b[0m     optimizer_id           : a6175d5da17447a2a07d393e335bcde5\n",
      "\u001b[1;38;5;39mCOMET INFO:\u001b[0m     optimizer_metric       : val_auc\n",
      "\u001b[1;38;5;39mCOMET INFO:\u001b[0m     optimizer_metric_value : 0.9248024225234985\n",
      "\u001b[1;38;5;39mCOMET INFO:\u001b[0m     optimizer_name         : SOURCE_Siemens\n",
      "\u001b[1;38;5;39mCOMET INFO:\u001b[0m     optimizer_objective    : maximize\n",
      "\u001b[1;38;5;39mCOMET INFO:\u001b[0m     optimizer_parameters   : {\"batch_size\": 32, \"dropout\": 0.2, \"lr\": 0.0007, \"model\": \"DAMS\", \"momentum\": 0.9, \"seed\": 42, \"source\": \"Siemens\", \"target_1\": \"Philips\", \"target_2\": \"GE\", \"weight_decay\": 0.03}\n",
      "\u001b[1;38;5;39mCOMET INFO:\u001b[0m     optimizer_pid          : ec2320d0ebefd9c6796cd7a2c212619f0dd59b42\n",
      "\u001b[1;38;5;39mCOMET INFO:\u001b[0m     optimizer_process      : 544623\n",
      "\u001b[1;38;5;39mCOMET INFO:\u001b[0m     optimizer_trial        : 1\n",
      "\u001b[1;38;5;39mCOMET INFO:\u001b[0m     optimizer_version      : 2.1.4\n",
      "\u001b[1;38;5;39mCOMET INFO:\u001b[0m   Parameters:\n",
      "\u001b[1;38;5;39mCOMET INFO:\u001b[0m     batch_size   : 32\n",
      "\u001b[1;38;5;39mCOMET INFO:\u001b[0m     dropout      : 0.2\n",
      "\u001b[1;38;5;39mCOMET INFO:\u001b[0m     lr           : 0.0007\n",
      "\u001b[1;38;5;39mCOMET INFO:\u001b[0m     model        : DAMS\n",
      "\u001b[1;38;5;39mCOMET INFO:\u001b[0m     momentum     : 0.9\n",
      "\u001b[1;38;5;39mCOMET INFO:\u001b[0m     pos_weight   : 0.576\n",
      "\u001b[1;38;5;39mCOMET INFO:\u001b[0m     seed         : 42\n",
      "\u001b[1;38;5;39mCOMET INFO:\u001b[0m     source       : Siemens\n",
      "\u001b[1;38;5;39mCOMET INFO:\u001b[0m     target_1     : Philips\n",
      "\u001b[1;38;5;39mCOMET INFO:\u001b[0m     target_2     : GE\n",
      "\u001b[1;38;5;39mCOMET INFO:\u001b[0m     weight_decay : 0.03\n",
      "\u001b[1;38;5;39mCOMET INFO:\u001b[0m   Uploads:\n",
      "\u001b[1;38;5;39mCOMET INFO:\u001b[0m     artifact assets              : 3 (21.76 KB)\n",
      "\u001b[1;38;5;39mCOMET INFO:\u001b[0m     artifacts                    : 3\n",
      "\u001b[1;38;5;39mCOMET INFO:\u001b[0m     conda-environment-definition : 1\n",
      "\u001b[1;38;5;39mCOMET INFO:\u001b[0m     conda-info                   : 1\n",
      "\u001b[1;38;5;39mCOMET INFO:\u001b[0m     conda-specification          : 1\n",
      "\u001b[1;38;5;39mCOMET INFO:\u001b[0m     environment details          : 1\n",
      "\u001b[1;38;5;39mCOMET INFO:\u001b[0m     filename                     : 1\n",
      "\u001b[1;38;5;39mCOMET INFO:\u001b[0m     git metadata                 : 1\n",
      "\u001b[1;38;5;39mCOMET INFO:\u001b[0m     git-patch (uncompressed)     : 1 (717.64 KB)\n",
      "\u001b[1;38;5;39mCOMET INFO:\u001b[0m     installed packages           : 1\n",
      "\u001b[1;38;5;39mCOMET INFO:\u001b[0m     model graph                  : 1\n",
      "\u001b[1;38;5;39mCOMET INFO:\u001b[0m     model-element                : 1 (183.72 MB)\n",
      "\u001b[1;38;5;39mCOMET INFO:\u001b[0m     notebook                     : 1\n",
      "\u001b[1;38;5;39mCOMET INFO:\u001b[0m     os packages                  : 1\n",
      "\u001b[1;38;5;39mCOMET INFO:\u001b[0m     source_code                  : 1\n",
      "\u001b[1;38;5;39mCOMET INFO:\u001b[0m \n",
      "\u001b[1;38;5;39mCOMET INFO:\u001b[0m Please wait for assets to finish uploading (timeout is 10800 seconds)\n",
      "\u001b[1;38;5;39mCOMET INFO:\u001b[0m Still uploading 1 file(s), remaining 83.72 MB/183.72 MB\n",
      "\u001b[1;38;5;214mCOMET WARNING:\u001b[0m As you are running in a Jupyter environment, you will need to call `experiment.end()` when finished to ensure all metrics and code are logged before exiting.\n",
      "\u001b[1;38;5;39mCOMET INFO:\u001b[0m Experiment is live on comet.com https://www.comet.com/derick-amontagna/adni1-s-siemens-dams-sgd-8/9f8245812fac47eabd336e09ab8929bd\n",
      "\n",
      "\u001b[1;38;5;39mCOMET INFO:\u001b[0m Artifact 'Engine' version 85.0.0 created (previous was: 84.0.0)\n"
     ]
    },
    {
     "name": "stdout",
     "output_type": "stream",
     "text": [
      "Treinando esse modelo: DAMS\n",
      "Treinando com o source: Siemens/target: Philips/GE\n"
     ]
    },
    {
     "name": "stderr",
     "output_type": "stream",
     "text": [
      "\u001b[1;38;5;39mCOMET INFO:\u001b[0m Scheduling the upload of 1 assets: 1 local assets for a size of 8.21 KB, and 0 remote assets (will be linked, not uploaded). This can take some time.\n",
      "\u001b[1;38;5;39mCOMET INFO:\u001b[0m Artifact 'derick-amontagna/Engine:85.0.0' has started uploading asynchronously\n",
      "\u001b[1;38;5;39mCOMET INFO:\u001b[0m Artifact 'Networks' version 85.0.0 created (previous was: 84.0.0)\n",
      "\u001b[1;38;5;39mCOMET INFO:\u001b[0m Scheduling the upload of 1 assets: 1 local assets for a size of 5.82 KB, and 0 remote assets (will be linked, not uploaded). This can take some time.\n",
      "\u001b[1;38;5;39mCOMET INFO:\u001b[0m Artifact 'derick-amontagna/Networks:85.0.0' has started uploading asynchronously\n",
      "\u001b[1;38;5;39mCOMET INFO:\u001b[0m Artifact 'DataSetup' version 87.0.0 created (previous was: 86.0.0)\n",
      "\u001b[1;38;5;39mCOMET INFO:\u001b[0m Scheduling the upload of 1 assets: 1 local assets for a size of 7.72 KB, and 0 remote assets (will be linked, not uploaded). This can take some time.\n",
      "\u001b[1;38;5;39mCOMET INFO:\u001b[0m Artifact 'derick-amontagna/DataSetup:87.0.0' has started uploading asynchronously\n"
     ]
    },
    {
     "name": "stdout",
     "output_type": "stream",
     "text": [
      "Loading Dataloader\n",
      "Use DAMS Basic\n",
      "Create model\n",
      "Start Train\n"
     ]
    },
    {
     "data": {
      "application/vnd.jupyter.widget-view+json": {
       "model_id": "6191f6ae10134c62b9a6cec7f7e56564",
       "version_major": 2,
       "version_minor": 0
      },
      "text/plain": [
       "  0%|          | 0/50 [00:00<?, ?it/s]"
      ]
     },
     "metadata": {},
     "output_type": "display_data"
    },
    {
     "name": "stderr",
     "output_type": "stream",
     "text": [
      "/root/anaconda3/envs/lapixdl/lib/python3.11/site-packages/torchmetrics/utilities/prints.py:36: UserWarning: Metric `AUROC` will save all targets and predictions in buffer. For large datasets this may lead to large memory footprint.\n",
      "  warnings.warn(*args, **kwargs)\n",
      "\u001b[1;38;5;39mCOMET INFO:\u001b[0m Artifact 'derick-amontagna/Engine:85.0.0' has been fully uploaded successfully\n",
      "\u001b[1;38;5;39mCOMET INFO:\u001b[0m Artifact 'derick-amontagna/DataSetup:87.0.0' has been fully uploaded successfully\n",
      "\u001b[1;38;5;39mCOMET INFO:\u001b[0m Artifact 'derick-amontagna/Networks:85.0.0' has been fully uploaded successfully\n",
      "/root/anaconda3/envs/lapixdl/lib/python3.11/site-packages/torchmetrics/utilities/prints.py:36: UserWarning: Metric `AUROC` will save all targets and predictions in buffer. For large datasets this may lead to large memory footprint.\n",
      "  warnings.warn(*args, **kwargs)\n"
     ]
    },
    {
     "name": "stdout",
     "output_type": "stream",
     "text": [
      "terminating because of early stopping!\n",
      "Loaded model from epoch 6 with best validation auc: 0.91%\n",
      "DONE\n"
     ]
    },
    {
     "name": "stderr",
     "output_type": "stream",
     "text": [
      "\u001b[1;38;5;39mCOMET INFO:\u001b[0m ---------------------------------------------------------------------------------------\n",
      "\u001b[1;38;5;39mCOMET INFO:\u001b[0m Comet.ml Experiment Summary\n",
      "\u001b[1;38;5;39mCOMET INFO:\u001b[0m ---------------------------------------------------------------------------------------\n",
      "\u001b[1;38;5;39mCOMET INFO:\u001b[0m   Data:\n",
      "\u001b[1;38;5;39mCOMET INFO:\u001b[0m     display_summary_level : 1\n",
      "\u001b[1;38;5;39mCOMET INFO:\u001b[0m     name                  : vague_cost_857\n",
      "\u001b[1;38;5;39mCOMET INFO:\u001b[0m     url                   : https://www.comet.com/derick-amontagna/adni1-s-siemens-dams-sgd-8/9f8245812fac47eabd336e09ab8929bd\n",
      "\u001b[1;38;5;39mCOMET INFO:\u001b[0m   Metrics [count] (min, max):\n",
      "\u001b[1;38;5;39mCOMET INFO:\u001b[0m     epoch [26]         : (0, 25)\n",
      "\u001b[1;38;5;39mCOMET INFO:\u001b[0m     loss [1025]        : (0.016008440405130386, 0.5864310264587402)\n",
      "\u001b[1;38;5;39mCOMET INFO:\u001b[0m     test_acc           : 0.7562022900763359\n",
      "\u001b[1;38;5;39mCOMET INFO:\u001b[0m     test_acc_target    : 0.623046875\n",
      "\u001b[1;38;5;39mCOMET INFO:\u001b[0m     test_acc_target_2  : 0.696560650887574\n",
      "\u001b[1;38;5;39mCOMET INFO:\u001b[0m     test_auc           : 0.8686419725418091\n",
      "\u001b[1;38;5;39mCOMET INFO:\u001b[0m     test_auc_target    : 0.7265939712524414\n",
      "\u001b[1;38;5;39mCOMET INFO:\u001b[0m     test_auc_target_2  : 0.7728594541549683\n",
      "\u001b[1;38;5;39mCOMET INFO:\u001b[0m     test_loss          : 0.5172292792757276\n",
      "\u001b[1;38;5;39mCOMET INFO:\u001b[0m     test_loss_target   : 0.7314769518561661\n",
      "\u001b[1;38;5;39mCOMET INFO:\u001b[0m     test_loss_target_2 : 0.703482117592054\n",
      "\u001b[1;38;5;39mCOMET INFO:\u001b[0m     train_acc [26]     : (0.5543305837563451, 0.9921478426395939)\n",
      "\u001b[1;38;5;39mCOMET INFO:\u001b[0m     train_auc [26]     : (0.5788549184799194, 0.9995379447937012)\n",
      "\u001b[1;38;5;39mCOMET INFO:\u001b[0m     train_loss [26]    : (0.04042452215902545, 0.501689158266571)\n",
      "\u001b[1;38;5;39mCOMET INFO:\u001b[0m     val_acc [26]       : (0.5928125, 0.8653125)\n",
      "\u001b[1;38;5;39mCOMET INFO:\u001b[0m     val_auc [26]       : (0.6686779260635376, 0.9136293530464172)\n",
      "\u001b[1;38;5;39mCOMET INFO:\u001b[0m     val_loss [26]      : (0.3510364258661866, 0.613489764938131)\n",
      "\u001b[1;38;5;39mCOMET INFO:\u001b[0m   Others:\n",
      "\u001b[1;38;5;39mCOMET INFO:\u001b[0m     best_epoch             : 6\n",
      "\u001b[1;38;5;39mCOMET INFO:\u001b[0m     best_val_metric        : 0.9136293530464172\n",
      "\u001b[1;38;5;39mCOMET INFO:\u001b[0m     optimizer_count        : 9\n",
      "\u001b[1;38;5;39mCOMET INFO:\u001b[0m     optimizer_id           : a6175d5da17447a2a07d393e335bcde5\n",
      "\u001b[1;38;5;39mCOMET INFO:\u001b[0m     optimizer_metric       : val_auc\n",
      "\u001b[1;38;5;39mCOMET INFO:\u001b[0m     optimizer_metric_value : 0.9136293530464172\n",
      "\u001b[1;38;5;39mCOMET INFO:\u001b[0m     optimizer_name         : SOURCE_Siemens\n",
      "\u001b[1;38;5;39mCOMET INFO:\u001b[0m     optimizer_objective    : maximize\n",
      "\u001b[1;38;5;39mCOMET INFO:\u001b[0m     optimizer_parameters   : {\"batch_size\": 32, \"dropout\": 0.3, \"lr\": 0.0007, \"model\": \"DAMS\", \"momentum\": 0.9, \"seed\": 42, \"source\": \"Siemens\", \"target_1\": \"Philips\", \"target_2\": \"GE\", \"weight_decay\": 0.02}\n",
      "\u001b[1;38;5;39mCOMET INFO:\u001b[0m     optimizer_pid          : 6f4b942b7557f60e35972a72df6332471e2975d9\n",
      "\u001b[1;38;5;39mCOMET INFO:\u001b[0m     optimizer_process      : 544623\n",
      "\u001b[1;38;5;39mCOMET INFO:\u001b[0m     optimizer_trial        : 1\n",
      "\u001b[1;38;5;39mCOMET INFO:\u001b[0m     optimizer_version      : 2.1.4\n",
      "\u001b[1;38;5;39mCOMET INFO:\u001b[0m   Parameters:\n",
      "\u001b[1;38;5;39mCOMET INFO:\u001b[0m     batch_size   : 32\n",
      "\u001b[1;38;5;39mCOMET INFO:\u001b[0m     dropout      : 0.3\n",
      "\u001b[1;38;5;39mCOMET INFO:\u001b[0m     lr           : 0.0007\n",
      "\u001b[1;38;5;39mCOMET INFO:\u001b[0m     model        : DAMS\n",
      "\u001b[1;38;5;39mCOMET INFO:\u001b[0m     momentum     : 0.9\n",
      "\u001b[1;38;5;39mCOMET INFO:\u001b[0m     pos_weight   : 0.576\n",
      "\u001b[1;38;5;39mCOMET INFO:\u001b[0m     seed         : 42\n",
      "\u001b[1;38;5;39mCOMET INFO:\u001b[0m     source       : Siemens\n",
      "\u001b[1;38;5;39mCOMET INFO:\u001b[0m     target_1     : Philips\n",
      "\u001b[1;38;5;39mCOMET INFO:\u001b[0m     target_2     : GE\n",
      "\u001b[1;38;5;39mCOMET INFO:\u001b[0m     weight_decay : 0.02\n",
      "\u001b[1;38;5;39mCOMET INFO:\u001b[0m   Uploads:\n",
      "\u001b[1;38;5;39mCOMET INFO:\u001b[0m     artifact assets              : 3 (21.76 KB)\n",
      "\u001b[1;38;5;39mCOMET INFO:\u001b[0m     artifacts                    : 3\n",
      "\u001b[1;38;5;39mCOMET INFO:\u001b[0m     conda-environment-definition : 1\n",
      "\u001b[1;38;5;39mCOMET INFO:\u001b[0m     conda-info                   : 1\n",
      "\u001b[1;38;5;39mCOMET INFO:\u001b[0m     conda-specification          : 1\n",
      "\u001b[1;38;5;39mCOMET INFO:\u001b[0m     environment details          : 1\n",
      "\u001b[1;38;5;39mCOMET INFO:\u001b[0m     filename                     : 1\n",
      "\u001b[1;38;5;39mCOMET INFO:\u001b[0m     git metadata                 : 1\n",
      "\u001b[1;38;5;39mCOMET INFO:\u001b[0m     git-patch (uncompressed)     : 1 (727.95 KB)\n",
      "\u001b[1;38;5;39mCOMET INFO:\u001b[0m     installed packages           : 1\n",
      "\u001b[1;38;5;39mCOMET INFO:\u001b[0m     model graph                  : 1\n",
      "\u001b[1;38;5;39mCOMET INFO:\u001b[0m     model-element                : 1 (183.72 MB)\n",
      "\u001b[1;38;5;39mCOMET INFO:\u001b[0m     notebook                     : 1\n",
      "\u001b[1;38;5;39mCOMET INFO:\u001b[0m     os packages                  : 1\n",
      "\u001b[1;38;5;39mCOMET INFO:\u001b[0m     source_code                  : 1\n",
      "\u001b[1;38;5;39mCOMET INFO:\u001b[0m \n",
      "\u001b[1;38;5;39mCOMET INFO:\u001b[0m Uploading 74 metrics, params and output messages\n",
      "\u001b[1;38;5;39mCOMET INFO:\u001b[0m Please wait for assets to finish uploading (timeout is 10800 seconds)\n",
      "\u001b[1;38;5;39mCOMET INFO:\u001b[0m Still uploading 1 file(s), remaining 103.72 MB/183.72 MB\n",
      "\u001b[1;38;5;214mCOMET WARNING:\u001b[0m As you are running in a Jupyter environment, you will need to call `experiment.end()` when finished to ensure all metrics and code are logged before exiting.\n",
      "\u001b[1;38;5;39mCOMET INFO:\u001b[0m Experiment is live on comet.com https://www.comet.com/derick-amontagna/adni1-s-siemens-dams-sgd-8/edeb75a97e3041e3989ef61b55ace542\n",
      "\n",
      "\u001b[1;38;5;39mCOMET INFO:\u001b[0m Artifact 'Engine' version 86.0.0 created (previous was: 85.0.0)\n"
     ]
    },
    {
     "name": "stdout",
     "output_type": "stream",
     "text": [
      "Treinando esse modelo: DAMS\n",
      "Treinando com o source: Siemens/target: Philips/GE\n"
     ]
    },
    {
     "name": "stderr",
     "output_type": "stream",
     "text": [
      "\u001b[1;38;5;39mCOMET INFO:\u001b[0m Scheduling the upload of 1 assets: 1 local assets for a size of 8.21 KB, and 0 remote assets (will be linked, not uploaded). This can take some time.\n",
      "\u001b[1;38;5;39mCOMET INFO:\u001b[0m Artifact 'derick-amontagna/Engine:86.0.0' has started uploading asynchronously\n",
      "\u001b[1;38;5;39mCOMET INFO:\u001b[0m Artifact 'Networks' version 86.0.0 created (previous was: 85.0.0)\n",
      "\u001b[1;38;5;39mCOMET INFO:\u001b[0m Scheduling the upload of 1 assets: 1 local assets for a size of 5.82 KB, and 0 remote assets (will be linked, not uploaded). This can take some time.\n",
      "\u001b[1;38;5;39mCOMET INFO:\u001b[0m Artifact 'derick-amontagna/Networks:86.0.0' has started uploading asynchronously\n",
      "\u001b[1;38;5;39mCOMET INFO:\u001b[0m Artifact 'DataSetup' version 88.0.0 created (previous was: 87.0.0)\n",
      "\u001b[1;38;5;39mCOMET INFO:\u001b[0m Scheduling the upload of 1 assets: 1 local assets for a size of 7.72 KB, and 0 remote assets (will be linked, not uploaded). This can take some time.\n",
      "\u001b[1;38;5;39mCOMET INFO:\u001b[0m Artifact 'derick-amontagna/DataSetup:88.0.0' has started uploading asynchronously\n"
     ]
    },
    {
     "name": "stdout",
     "output_type": "stream",
     "text": [
      "Loading Dataloader\n"
     ]
    },
    {
     "name": "stderr",
     "output_type": "stream",
     "text": [
      "\u001b[1;38;5;39mCOMET INFO:\u001b[0m Artifact 'derick-amontagna/Engine:86.0.0' has been fully uploaded successfully\n"
     ]
    },
    {
     "name": "stdout",
     "output_type": "stream",
     "text": [
      "Use DAMS Basic\n",
      "Create model\n",
      "Start Train\n"
     ]
    },
    {
     "data": {
      "application/vnd.jupyter.widget-view+json": {
       "model_id": "cbe52e7471314d19a4511c686aa37b6d",
       "version_major": 2,
       "version_minor": 0
      },
      "text/plain": [
       "  0%|          | 0/50 [00:00<?, ?it/s]"
      ]
     },
     "metadata": {},
     "output_type": "display_data"
    },
    {
     "name": "stderr",
     "output_type": "stream",
     "text": [
      "/root/anaconda3/envs/lapixdl/lib/python3.11/site-packages/torchmetrics/utilities/prints.py:36: UserWarning: Metric `AUROC` will save all targets and predictions in buffer. For large datasets this may lead to large memory footprint.\n",
      "  warnings.warn(*args, **kwargs)\n",
      "\u001b[1;38;5;39mCOMET INFO:\u001b[0m Artifact 'derick-amontagna/Networks:86.0.0' has been fully uploaded successfully\n",
      "\u001b[1;38;5;39mCOMET INFO:\u001b[0m Artifact 'derick-amontagna/DataSetup:88.0.0' has been fully uploaded successfully\n"
     ]
    },
    {
     "name": "stdout",
     "output_type": "stream",
     "text": [
      "terminating because of early stopping!\n",
      "Loaded model from epoch 16 with best validation auc: 0.91%\n",
      "DONE\n"
     ]
    },
    {
     "name": "stderr",
     "output_type": "stream",
     "text": [
      "\u001b[1;38;5;39mCOMET INFO:\u001b[0m ---------------------------------------------------------------------------------------\n",
      "\u001b[1;38;5;39mCOMET INFO:\u001b[0m Comet.ml Experiment Summary\n",
      "\u001b[1;38;5;39mCOMET INFO:\u001b[0m ---------------------------------------------------------------------------------------\n",
      "\u001b[1;38;5;39mCOMET INFO:\u001b[0m   Data:\n",
      "\u001b[1;38;5;39mCOMET INFO:\u001b[0m     display_summary_level : 1\n",
      "\u001b[1;38;5;39mCOMET INFO:\u001b[0m     name                  : uncertain_title_8520\n",
      "\u001b[1;38;5;39mCOMET INFO:\u001b[0m     url                   : https://www.comet.com/derick-amontagna/adni1-s-siemens-dams-sgd-8/edeb75a97e3041e3989ef61b55ace542\n",
      "\u001b[1;38;5;39mCOMET INFO:\u001b[0m   Metrics [count] (min, max):\n",
      "\u001b[1;38;5;39mCOMET INFO:\u001b[0m     epoch [36]         : (0, 35)\n",
      "\u001b[1;38;5;39mCOMET INFO:\u001b[0m     loss [1419]        : (0.030427640303969383, 0.5951428413391113)\n",
      "\u001b[1;38;5;39mCOMET INFO:\u001b[0m     test_acc           : 0.8506679389312977\n",
      "\u001b[1;38;5;39mCOMET INFO:\u001b[0m     test_acc_target    : 0.7552083333333334\n",
      "\u001b[1;38;5;39mCOMET INFO:\u001b[0m     test_acc_target_2  : 0.7986316568047337\n",
      "\u001b[1;38;5;39mCOMET INFO:\u001b[0m     test_auc           : 0.9130784273147583\n",
      "\u001b[1;38;5;39mCOMET INFO:\u001b[0m     test_auc_target    : 0.74379962682724\n",
      "\u001b[1;38;5;39mCOMET INFO:\u001b[0m     test_auc_target_2  : 0.82811039686203\n",
      "\u001b[1;38;5;39mCOMET INFO:\u001b[0m     test_loss          : 0.3016485817844176\n",
      "\u001b[1;38;5;39mCOMET INFO:\u001b[0m     test_loss_target   : 0.5415933120530099\n",
      "\u001b[1;38;5;39mCOMET INFO:\u001b[0m     test_loss_target_2 : 0.4858925554614801\n",
      "\u001b[1;38;5;39mCOMET INFO:\u001b[0m     train_acc [36]     : (0.5619447969543148, 0.9877062182741116)\n",
      "\u001b[1;38;5;39mCOMET INFO:\u001b[0m     train_auc [36]     : (0.5790596604347229, 0.9987933039665222)\n",
      "\u001b[1;38;5;39mCOMET INFO:\u001b[0m     train_loss [36]    : (0.056743899927602204, 0.5021255490592289)\n",
      "\u001b[1;38;5;39mCOMET INFO:\u001b[0m     val_acc [36]       : (0.4034375, 0.873125)\n",
      "\u001b[1;38;5;39mCOMET INFO:\u001b[0m     val_auc [36]       : (0.6904993057250977, 0.9081969261169434)\n",
      "\u001b[1;38;5;39mCOMET INFO:\u001b[0m     val_loss [36]      : (0.28513263508677483, 0.8667525390721857)\n",
      "\u001b[1;38;5;39mCOMET INFO:\u001b[0m   Others:\n",
      "\u001b[1;38;5;39mCOMET INFO:\u001b[0m     best_epoch             : 16\n",
      "\u001b[1;38;5;39mCOMET INFO:\u001b[0m     best_val_metric        : 0.9081969261169434\n",
      "\u001b[1;38;5;39mCOMET INFO:\u001b[0m     optimizer_count        : 10\n",
      "\u001b[1;38;5;39mCOMET INFO:\u001b[0m     optimizer_id           : a6175d5da17447a2a07d393e335bcde5\n",
      "\u001b[1;38;5;39mCOMET INFO:\u001b[0m     optimizer_metric       : val_auc\n",
      "\u001b[1;38;5;39mCOMET INFO:\u001b[0m     optimizer_metric_value : 0.9081969261169434\n",
      "\u001b[1;38;5;39mCOMET INFO:\u001b[0m     optimizer_name         : SOURCE_Siemens\n",
      "\u001b[1;38;5;39mCOMET INFO:\u001b[0m     optimizer_objective    : maximize\n",
      "\u001b[1;38;5;39mCOMET INFO:\u001b[0m     optimizer_parameters   : {\"batch_size\": 32, \"dropout\": 0.3, \"lr\": 0.0007, \"model\": \"DAMS\", \"momentum\": 0.9, \"seed\": 42, \"source\": \"Siemens\", \"target_1\": \"Philips\", \"target_2\": \"GE\", \"weight_decay\": 0.03}\n",
      "\u001b[1;38;5;39mCOMET INFO:\u001b[0m     optimizer_pid          : 9ac57e6a4cd7cdea3c851bfab5a7c50006cb664a\n",
      "\u001b[1;38;5;39mCOMET INFO:\u001b[0m     optimizer_process      : 544623\n",
      "\u001b[1;38;5;39mCOMET INFO:\u001b[0m     optimizer_trial        : 1\n",
      "\u001b[1;38;5;39mCOMET INFO:\u001b[0m     optimizer_version      : 2.1.4\n",
      "\u001b[1;38;5;39mCOMET INFO:\u001b[0m   Parameters:\n",
      "\u001b[1;38;5;39mCOMET INFO:\u001b[0m     batch_size   : 32\n",
      "\u001b[1;38;5;39mCOMET INFO:\u001b[0m     dropout      : 0.3\n",
      "\u001b[1;38;5;39mCOMET INFO:\u001b[0m     lr           : 0.0007\n",
      "\u001b[1;38;5;39mCOMET INFO:\u001b[0m     model        : DAMS\n",
      "\u001b[1;38;5;39mCOMET INFO:\u001b[0m     momentum     : 0.9\n",
      "\u001b[1;38;5;39mCOMET INFO:\u001b[0m     pos_weight   : 0.576\n",
      "\u001b[1;38;5;39mCOMET INFO:\u001b[0m     seed         : 42\n",
      "\u001b[1;38;5;39mCOMET INFO:\u001b[0m     source       : Siemens\n",
      "\u001b[1;38;5;39mCOMET INFO:\u001b[0m     target_1     : Philips\n",
      "\u001b[1;38;5;39mCOMET INFO:\u001b[0m     target_2     : GE\n",
      "\u001b[1;38;5;39mCOMET INFO:\u001b[0m     weight_decay : 0.03\n",
      "\u001b[1;38;5;39mCOMET INFO:\u001b[0m   Uploads:\n",
      "\u001b[1;38;5;39mCOMET INFO:\u001b[0m     artifact assets              : 3 (21.76 KB)\n",
      "\u001b[1;38;5;39mCOMET INFO:\u001b[0m     artifacts                    : 3\n",
      "\u001b[1;38;5;39mCOMET INFO:\u001b[0m     conda-environment-definition : 1\n",
      "\u001b[1;38;5;39mCOMET INFO:\u001b[0m     conda-info                   : 1\n",
      "\u001b[1;38;5;39mCOMET INFO:\u001b[0m     conda-specification          : 1\n",
      "\u001b[1;38;5;39mCOMET INFO:\u001b[0m     environment details          : 1\n",
      "\u001b[1;38;5;39mCOMET INFO:\u001b[0m     filename                     : 1\n",
      "\u001b[1;38;5;39mCOMET INFO:\u001b[0m     git metadata                 : 1\n",
      "\u001b[1;38;5;39mCOMET INFO:\u001b[0m     git-patch (uncompressed)     : 1 (738.21 KB)\n",
      "\u001b[1;38;5;39mCOMET INFO:\u001b[0m     installed packages           : 1\n",
      "\u001b[1;38;5;39mCOMET INFO:\u001b[0m     model graph                  : 1\n",
      "\u001b[1;38;5;39mCOMET INFO:\u001b[0m     model-element                : 1 (183.72 MB)\n",
      "\u001b[1;38;5;39mCOMET INFO:\u001b[0m     notebook                     : 1\n",
      "\u001b[1;38;5;39mCOMET INFO:\u001b[0m     os packages                  : 1\n",
      "\u001b[1;38;5;39mCOMET INFO:\u001b[0m     source_code                  : 1\n",
      "\u001b[1;38;5;39mCOMET INFO:\u001b[0m \n",
      "\u001b[1;38;5;39mCOMET INFO:\u001b[0m Uploading 70 metrics, params and output messages\n",
      "\u001b[1;38;5;39mCOMET INFO:\u001b[0m Please wait for assets to finish uploading (timeout is 10800 seconds)\n",
      "\u001b[1;38;5;39mCOMET INFO:\u001b[0m Still uploading 1 file(s), remaining 98.72 MB/183.72 MB\n",
      "\u001b[1;38;5;214mCOMET WARNING:\u001b[0m As you are running in a Jupyter environment, you will need to call `experiment.end()` when finished to ensure all metrics and code are logged before exiting.\n",
      "\u001b[1;38;5;39mCOMET INFO:\u001b[0m Experiment is live on comet.com https://www.comet.com/derick-amontagna/adni1-s-siemens-dams-sgd-8/ca6a0471b84045f78cf0dcc725459caa\n",
      "\n",
      "\u001b[1;38;5;39mCOMET INFO:\u001b[0m Artifact 'Engine' version 87.0.0 created (previous was: 86.0.0)\n"
     ]
    },
    {
     "name": "stdout",
     "output_type": "stream",
     "text": [
      "Treinando esse modelo: DAMS\n",
      "Treinando com o source: Siemens/target: Philips/GE\n"
     ]
    },
    {
     "name": "stderr",
     "output_type": "stream",
     "text": [
      "\u001b[1;38;5;39mCOMET INFO:\u001b[0m Scheduling the upload of 1 assets: 1 local assets for a size of 8.21 KB, and 0 remote assets (will be linked, not uploaded). This can take some time.\n",
      "\u001b[1;38;5;39mCOMET INFO:\u001b[0m Artifact 'derick-amontagna/Engine:87.0.0' has started uploading asynchronously\n",
      "\u001b[1;38;5;39mCOMET INFO:\u001b[0m Artifact 'Networks' version 87.0.0 created (previous was: 86.0.0)\n",
      "\u001b[1;38;5;39mCOMET INFO:\u001b[0m Scheduling the upload of 1 assets: 1 local assets for a size of 5.82 KB, and 0 remote assets (will be linked, not uploaded). This can take some time.\n",
      "\u001b[1;38;5;39mCOMET INFO:\u001b[0m Artifact 'derick-amontagna/Networks:87.0.0' has started uploading asynchronously\n",
      "\u001b[1;38;5;39mCOMET INFO:\u001b[0m Artifact 'DataSetup' version 89.0.0 created (previous was: 88.0.0)\n",
      "\u001b[1;38;5;39mCOMET INFO:\u001b[0m Scheduling the upload of 1 assets: 1 local assets for a size of 7.72 KB, and 0 remote assets (will be linked, not uploaded). This can take some time.\n",
      "\u001b[1;38;5;39mCOMET INFO:\u001b[0m Artifact 'derick-amontagna/DataSetup:89.0.0' has started uploading asynchronously\n"
     ]
    },
    {
     "name": "stdout",
     "output_type": "stream",
     "text": [
      "Loading Dataloader\n",
      "Use DAMS Basic\n",
      "Create model\n",
      "Start Train\n"
     ]
    },
    {
     "data": {
      "application/vnd.jupyter.widget-view+json": {
       "model_id": "4a01a88e7067430d9985b55dcd5ae8eb",
       "version_major": 2,
       "version_minor": 0
      },
      "text/plain": [
       "  0%|          | 0/50 [00:00<?, ?it/s]"
      ]
     },
     "metadata": {},
     "output_type": "display_data"
    },
    {
     "name": "stderr",
     "output_type": "stream",
     "text": [
      "/root/anaconda3/envs/lapixdl/lib/python3.11/site-packages/torchmetrics/utilities/prints.py:36: UserWarning: Metric `AUROC` will save all targets and predictions in buffer. For large datasets this may lead to large memory footprint.\n",
      "  warnings.warn(*args, **kwargs)\n",
      "\u001b[1;38;5;39mCOMET INFO:\u001b[0m Artifact 'derick-amontagna/Networks:87.0.0' has been fully uploaded successfully\n",
      "\u001b[1;38;5;39mCOMET INFO:\u001b[0m Artifact 'derick-amontagna/DataSetup:89.0.0' has been fully uploaded successfully\n",
      "\u001b[1;38;5;39mCOMET INFO:\u001b[0m Artifact 'derick-amontagna/Engine:87.0.0' has been fully uploaded successfully\n",
      "/root/anaconda3/envs/lapixdl/lib/python3.11/site-packages/torchmetrics/utilities/prints.py:36: UserWarning: Metric `AUROC` will save all targets and predictions in buffer. For large datasets this may lead to large memory footprint.\n",
      "  warnings.warn(*args, **kwargs)\n"
     ]
    },
    {
     "name": "stdout",
     "output_type": "stream",
     "text": [
      "terminating because of early stopping!\n",
      "Loaded model from epoch 13 with best validation auc: 0.92%\n",
      "DONE\n"
     ]
    },
    {
     "name": "stderr",
     "output_type": "stream",
     "text": [
      "\u001b[1;38;5;39mCOMET INFO:\u001b[0m ---------------------------------------------------------------------------------------\n",
      "\u001b[1;38;5;39mCOMET INFO:\u001b[0m Comet.ml Experiment Summary\n",
      "\u001b[1;38;5;39mCOMET INFO:\u001b[0m ---------------------------------------------------------------------------------------\n",
      "\u001b[1;38;5;39mCOMET INFO:\u001b[0m   Data:\n",
      "\u001b[1;38;5;39mCOMET INFO:\u001b[0m     display_summary_level : 1\n",
      "\u001b[1;38;5;39mCOMET INFO:\u001b[0m     name                  : outside_van_5405\n",
      "\u001b[1;38;5;39mCOMET INFO:\u001b[0m     url                   : https://www.comet.com/derick-amontagna/adni1-s-siemens-dams-sgd-8/ca6a0471b84045f78cf0dcc725459caa\n",
      "\u001b[1;38;5;39mCOMET INFO:\u001b[0m   Metrics [count] (min, max):\n",
      "\u001b[1;38;5;39mCOMET INFO:\u001b[0m     epoch [33]         : (0, 32)\n",
      "\u001b[1;38;5;39mCOMET INFO:\u001b[0m     loss [1301]        : (0.017491895705461502, 0.5980281829833984)\n",
      "\u001b[1;38;5;39mCOMET INFO:\u001b[0m     test_acc           : 0.8523377862595419\n",
      "\u001b[1;38;5;39mCOMET INFO:\u001b[0m     test_acc_target    : 0.7252604166666666\n",
      "\u001b[1;38;5;39mCOMET INFO:\u001b[0m     test_acc_target_2  : 0.7823594674556213\n",
      "\u001b[1;38;5;39mCOMET INFO:\u001b[0m     test_auc           : 0.9098689556121826\n",
      "\u001b[1;38;5;39mCOMET INFO:\u001b[0m     test_auc_target    : 0.765728771686554\n",
      "\u001b[1;38;5;39mCOMET INFO:\u001b[0m     test_auc_target_2  : 0.8266255259513855\n",
      "\u001b[1;38;5;39mCOMET INFO:\u001b[0m     test_loss          : 0.37821502457479483\n",
      "\u001b[1;38;5;39mCOMET INFO:\u001b[0m     test_loss_target   : 0.7049391284429779\n",
      "\u001b[1;38;5;39mCOMET INFO:\u001b[0m     test_loss_target_2 : 0.5869566012262064\n",
      "\u001b[1;38;5;39mCOMET INFO:\u001b[0m     train_acc [33]     : (0.5601205583756346, 0.9938927664974619)\n",
      "\u001b[1;38;5;39mCOMET INFO:\u001b[0m     train_auc [33]     : (0.5853099226951599, 0.9996588230133057)\n",
      "\u001b[1;38;5;39mCOMET INFO:\u001b[0m     train_loss [33]    : (0.038949476375343836, 0.5010338001293579)\n",
      "\u001b[1;38;5;39mCOMET INFO:\u001b[0m     val_acc [33]       : (0.6221875, 0.8615625)\n",
      "\u001b[1;38;5;39mCOMET INFO:\u001b[0m     val_auc [33]       : (0.7416093349456787, 0.9197885990142822)\n",
      "\u001b[1;38;5;39mCOMET INFO:\u001b[0m     val_loss [33]      : (0.3564426729083061, 0.667977569787763)\n",
      "\u001b[1;38;5;39mCOMET INFO:\u001b[0m   Others:\n",
      "\u001b[1;38;5;39mCOMET INFO:\u001b[0m     best_epoch             : 13\n",
      "\u001b[1;38;5;39mCOMET INFO:\u001b[0m     best_val_metric        : 0.9197885990142822\n",
      "\u001b[1;38;5;39mCOMET INFO:\u001b[0m     optimizer_count        : 11\n",
      "\u001b[1;38;5;39mCOMET INFO:\u001b[0m     optimizer_id           : a6175d5da17447a2a07d393e335bcde5\n",
      "\u001b[1;38;5;39mCOMET INFO:\u001b[0m     optimizer_metric       : val_auc\n",
      "\u001b[1;38;5;39mCOMET INFO:\u001b[0m     optimizer_metric_value : 0.9197885990142822\n",
      "\u001b[1;38;5;39mCOMET INFO:\u001b[0m     optimizer_name         : SOURCE_Siemens\n",
      "\u001b[1;38;5;39mCOMET INFO:\u001b[0m     optimizer_objective    : maximize\n",
      "\u001b[1;38;5;39mCOMET INFO:\u001b[0m     optimizer_parameters   : {\"batch_size\": 32, \"dropout\": 0.4, \"lr\": 0.0007, \"model\": \"DAMS\", \"momentum\": 0.9, \"seed\": 42, \"source\": \"Siemens\", \"target_1\": \"Philips\", \"target_2\": \"GE\", \"weight_decay\": 0.02}\n",
      "\u001b[1;38;5;39mCOMET INFO:\u001b[0m     optimizer_pid          : 5603f5c4264e412dcb17d4e9d0b6879df15674b0\n",
      "\u001b[1;38;5;39mCOMET INFO:\u001b[0m     optimizer_process      : 544623\n",
      "\u001b[1;38;5;39mCOMET INFO:\u001b[0m     optimizer_trial        : 1\n",
      "\u001b[1;38;5;39mCOMET INFO:\u001b[0m     optimizer_version      : 2.1.4\n",
      "\u001b[1;38;5;39mCOMET INFO:\u001b[0m   Parameters:\n",
      "\u001b[1;38;5;39mCOMET INFO:\u001b[0m     batch_size   : 32\n",
      "\u001b[1;38;5;39mCOMET INFO:\u001b[0m     dropout      : 0.4\n",
      "\u001b[1;38;5;39mCOMET INFO:\u001b[0m     lr           : 0.0007\n",
      "\u001b[1;38;5;39mCOMET INFO:\u001b[0m     model        : DAMS\n",
      "\u001b[1;38;5;39mCOMET INFO:\u001b[0m     momentum     : 0.9\n",
      "\u001b[1;38;5;39mCOMET INFO:\u001b[0m     pos_weight   : 0.576\n",
      "\u001b[1;38;5;39mCOMET INFO:\u001b[0m     seed         : 42\n",
      "\u001b[1;38;5;39mCOMET INFO:\u001b[0m     source       : Siemens\n",
      "\u001b[1;38;5;39mCOMET INFO:\u001b[0m     target_1     : Philips\n",
      "\u001b[1;38;5;39mCOMET INFO:\u001b[0m     target_2     : GE\n",
      "\u001b[1;38;5;39mCOMET INFO:\u001b[0m     weight_decay : 0.02\n",
      "\u001b[1;38;5;39mCOMET INFO:\u001b[0m   Uploads:\n",
      "\u001b[1;38;5;39mCOMET INFO:\u001b[0m     artifact assets              : 3 (21.76 KB)\n",
      "\u001b[1;38;5;39mCOMET INFO:\u001b[0m     artifacts                    : 3\n",
      "\u001b[1;38;5;39mCOMET INFO:\u001b[0m     conda-environment-definition : 1\n",
      "\u001b[1;38;5;39mCOMET INFO:\u001b[0m     conda-info                   : 1\n",
      "\u001b[1;38;5;39mCOMET INFO:\u001b[0m     conda-specification          : 1\n",
      "\u001b[1;38;5;39mCOMET INFO:\u001b[0m     environment details          : 1\n",
      "\u001b[1;38;5;39mCOMET INFO:\u001b[0m     filename                     : 1\n",
      "\u001b[1;38;5;39mCOMET INFO:\u001b[0m     git metadata                 : 1\n",
      "\u001b[1;38;5;39mCOMET INFO:\u001b[0m     git-patch (uncompressed)     : 1 (748.50 KB)\n",
      "\u001b[1;38;5;39mCOMET INFO:\u001b[0m     installed packages           : 1\n",
      "\u001b[1;38;5;39mCOMET INFO:\u001b[0m     model graph                  : 1\n",
      "\u001b[1;38;5;39mCOMET INFO:\u001b[0m     model-element                : 1 (183.72 MB)\n",
      "\u001b[1;38;5;39mCOMET INFO:\u001b[0m     notebook                     : 1\n",
      "\u001b[1;38;5;39mCOMET INFO:\u001b[0m     os packages                  : 1\n",
      "\u001b[1;38;5;39mCOMET INFO:\u001b[0m     source_code                  : 1\n",
      "\u001b[1;38;5;39mCOMET INFO:\u001b[0m \n",
      "\u001b[1;38;5;39mCOMET INFO:\u001b[0m Please wait for assets to finish uploading (timeout is 10800 seconds)\n",
      "\u001b[1;38;5;39mCOMET INFO:\u001b[0m Still uploading 1 file(s), remaining 98.72 MB/183.72 MB\n",
      "\u001b[1;38;5;214mCOMET WARNING:\u001b[0m As you are running in a Jupyter environment, you will need to call `experiment.end()` when finished to ensure all metrics and code are logged before exiting.\n",
      "\u001b[1;38;5;39mCOMET INFO:\u001b[0m Experiment is live on comet.com https://www.comet.com/derick-amontagna/adni1-s-siemens-dams-sgd-8/4883a489b73f4f9bb4e46d9e2f74ae44\n",
      "\n",
      "\u001b[1;38;5;39mCOMET INFO:\u001b[0m Artifact 'Engine' version 88.0.0 created (previous was: 87.0.0)\n"
     ]
    },
    {
     "name": "stdout",
     "output_type": "stream",
     "text": [
      "Treinando esse modelo: DAMS\n",
      "Treinando com o source: Siemens/target: Philips/GE\n"
     ]
    },
    {
     "name": "stderr",
     "output_type": "stream",
     "text": [
      "\u001b[1;38;5;39mCOMET INFO:\u001b[0m Scheduling the upload of 1 assets: 1 local assets for a size of 8.21 KB, and 0 remote assets (will be linked, not uploaded). This can take some time.\n",
      "\u001b[1;38;5;39mCOMET INFO:\u001b[0m Artifact 'derick-amontagna/Engine:88.0.0' has started uploading asynchronously\n",
      "\u001b[1;38;5;39mCOMET INFO:\u001b[0m Artifact 'Networks' version 88.0.0 created (previous was: 87.0.0)\n",
      "\u001b[1;38;5;39mCOMET INFO:\u001b[0m Scheduling the upload of 1 assets: 1 local assets for a size of 5.82 KB, and 0 remote assets (will be linked, not uploaded). This can take some time.\n",
      "\u001b[1;38;5;39mCOMET INFO:\u001b[0m Artifact 'derick-amontagna/Networks:88.0.0' has started uploading asynchronously\n",
      "\u001b[1;38;5;39mCOMET INFO:\u001b[0m Artifact 'DataSetup' version 90.0.0 created (previous was: 89.0.0)\n",
      "\u001b[1;38;5;39mCOMET INFO:\u001b[0m Scheduling the upload of 1 assets: 1 local assets for a size of 7.72 KB, and 0 remote assets (will be linked, not uploaded). This can take some time.\n",
      "\u001b[1;38;5;39mCOMET INFO:\u001b[0m Artifact 'derick-amontagna/DataSetup:90.0.0' has started uploading asynchronously\n"
     ]
    },
    {
     "name": "stdout",
     "output_type": "stream",
     "text": [
      "Loading Dataloader\n",
      "Use DAMS Basic\n",
      "Create model\n",
      "Start Train\n"
     ]
    },
    {
     "data": {
      "application/vnd.jupyter.widget-view+json": {
       "model_id": "6d969df5e8424faeb62220b70d38323d",
       "version_major": 2,
       "version_minor": 0
      },
      "text/plain": [
       "  0%|          | 0/50 [00:00<?, ?it/s]"
      ]
     },
     "metadata": {},
     "output_type": "display_data"
    },
    {
     "name": "stderr",
     "output_type": "stream",
     "text": [
      "/root/anaconda3/envs/lapixdl/lib/python3.11/site-packages/torchmetrics/utilities/prints.py:36: UserWarning: Metric `AUROC` will save all targets and predictions in buffer. For large datasets this may lead to large memory footprint.\n",
      "  warnings.warn(*args, **kwargs)\n",
      "\u001b[1;38;5;39mCOMET INFO:\u001b[0m Artifact 'derick-amontagna/DataSetup:90.0.0' has been fully uploaded successfully\n",
      "\u001b[1;38;5;39mCOMET INFO:\u001b[0m Artifact 'derick-amontagna/Engine:88.0.0' has been fully uploaded successfully\n",
      "\u001b[1;38;5;39mCOMET INFO:\u001b[0m Artifact 'derick-amontagna/Networks:88.0.0' has been fully uploaded successfully\n",
      "/root/anaconda3/envs/lapixdl/lib/python3.11/site-packages/torchmetrics/utilities/prints.py:36: UserWarning: Metric `AUROC` will save all targets and predictions in buffer. For large datasets this may lead to large memory footprint.\n",
      "  warnings.warn(*args, **kwargs)\n"
     ]
    },
    {
     "name": "stdout",
     "output_type": "stream",
     "text": [
      "terminating because of early stopping!\n",
      "Loaded model from epoch 10 with best validation auc: 0.92%\n",
      "DONE\n"
     ]
    },
    {
     "name": "stderr",
     "output_type": "stream",
     "text": [
      "\u001b[1;38;5;39mCOMET INFO:\u001b[0m ---------------------------------------------------------------------------------------\n",
      "\u001b[1;38;5;39mCOMET INFO:\u001b[0m Comet.ml Experiment Summary\n",
      "\u001b[1;38;5;39mCOMET INFO:\u001b[0m ---------------------------------------------------------------------------------------\n",
      "\u001b[1;38;5;39mCOMET INFO:\u001b[0m   Data:\n",
      "\u001b[1;38;5;39mCOMET INFO:\u001b[0m     display_summary_level : 1\n",
      "\u001b[1;38;5;39mCOMET INFO:\u001b[0m     name                  : double_country_3574\n",
      "\u001b[1;38;5;39mCOMET INFO:\u001b[0m     url                   : https://www.comet.com/derick-amontagna/adni1-s-siemens-dams-sgd-8/4883a489b73f4f9bb4e46d9e2f74ae44\n",
      "\u001b[1;38;5;39mCOMET INFO:\u001b[0m   Metrics [count] (min, max):\n",
      "\u001b[1;38;5;39mCOMET INFO:\u001b[0m     epoch [30]         : (0, 29)\n",
      "\u001b[1;38;5;39mCOMET INFO:\u001b[0m     loss [1182]        : (0.032844237983226776, 0.5864026546478271)\n",
      "\u001b[1;38;5;39mCOMET INFO:\u001b[0m     test_acc           : 0.8229961832061069\n",
      "\u001b[1;38;5;39mCOMET INFO:\u001b[0m     test_acc_target    : 0.6868489583333334\n",
      "\u001b[1;38;5;39mCOMET INFO:\u001b[0m     test_acc_target_2  : 0.7768121301775148\n",
      "\u001b[1;38;5;39mCOMET INFO:\u001b[0m     test_auc           : 0.8977768421173096\n",
      "\u001b[1;38;5;39mCOMET INFO:\u001b[0m     test_auc_target    : 0.7424895763397217\n",
      "\u001b[1;38;5;39mCOMET INFO:\u001b[0m     test_auc_target_2  : 0.8085386157035828\n",
      "\u001b[1;38;5;39mCOMET INFO:\u001b[0m     test_loss          : 0.42349234539020153\n",
      "\u001b[1;38;5;39mCOMET INFO:\u001b[0m     test_loss_target   : 0.7354285970019797\n",
      "\u001b[1;38;5;39mCOMET INFO:\u001b[0m     test_loss_target_2 : 0.576195572607616\n",
      "\u001b[1;38;5;39mCOMET INFO:\u001b[0m     train_acc [30]     : (0.5621827411167513, 0.9865958121827412)\n",
      "\u001b[1;38;5;39mCOMET INFO:\u001b[0m     train_auc [30]     : (0.5805822610855103, 0.9986796379089355)\n",
      "\u001b[1;38;5;39mCOMET INFO:\u001b[0m     train_loss [30]    : (0.0610562221236943, 0.5016491019029907)\n",
      "\u001b[1;38;5;39mCOMET INFO:\u001b[0m     val_acc [30]       : (0.3825, 0.8709375)\n",
      "\u001b[1;38;5;39mCOMET INFO:\u001b[0m     val_auc [30]       : (0.6487019062042236, 0.9214992523193359)\n",
      "\u001b[1;38;5;39mCOMET INFO:\u001b[0m     val_loss [30]      : (0.2968359755724668, 0.7353329128492624)\n",
      "\u001b[1;38;5;39mCOMET INFO:\u001b[0m   Others:\n",
      "\u001b[1;38;5;39mCOMET INFO:\u001b[0m     best_epoch             : 10\n",
      "\u001b[1;38;5;39mCOMET INFO:\u001b[0m     best_val_metric        : 0.9214992523193359\n",
      "\u001b[1;38;5;39mCOMET INFO:\u001b[0m     optimizer_count        : 12\n",
      "\u001b[1;38;5;39mCOMET INFO:\u001b[0m     optimizer_id           : a6175d5da17447a2a07d393e335bcde5\n",
      "\u001b[1;38;5;39mCOMET INFO:\u001b[0m     optimizer_metric       : val_auc\n",
      "\u001b[1;38;5;39mCOMET INFO:\u001b[0m     optimizer_metric_value : 0.9214992523193359\n",
      "\u001b[1;38;5;39mCOMET INFO:\u001b[0m     optimizer_name         : SOURCE_Siemens\n",
      "\u001b[1;38;5;39mCOMET INFO:\u001b[0m     optimizer_objective    : maximize\n",
      "\u001b[1;38;5;39mCOMET INFO:\u001b[0m     optimizer_parameters   : {\"batch_size\": 32, \"dropout\": 0.4, \"lr\": 0.0007, \"model\": \"DAMS\", \"momentum\": 0.9, \"seed\": 42, \"source\": \"Siemens\", \"target_1\": \"Philips\", \"target_2\": \"GE\", \"weight_decay\": 0.03}\n",
      "\u001b[1;38;5;39mCOMET INFO:\u001b[0m     optimizer_pid          : 5be13d742498da5302db2456b0b333d750c7a1de\n",
      "\u001b[1;38;5;39mCOMET INFO:\u001b[0m     optimizer_process      : 544623\n",
      "\u001b[1;38;5;39mCOMET INFO:\u001b[0m     optimizer_trial        : 1\n",
      "\u001b[1;38;5;39mCOMET INFO:\u001b[0m     optimizer_version      : 2.1.4\n",
      "\u001b[1;38;5;39mCOMET INFO:\u001b[0m   Parameters:\n",
      "\u001b[1;38;5;39mCOMET INFO:\u001b[0m     batch_size   : 32\n",
      "\u001b[1;38;5;39mCOMET INFO:\u001b[0m     dropout      : 0.4\n",
      "\u001b[1;38;5;39mCOMET INFO:\u001b[0m     lr           : 0.0007\n",
      "\u001b[1;38;5;39mCOMET INFO:\u001b[0m     model        : DAMS\n",
      "\u001b[1;38;5;39mCOMET INFO:\u001b[0m     momentum     : 0.9\n",
      "\u001b[1;38;5;39mCOMET INFO:\u001b[0m     pos_weight   : 0.576\n",
      "\u001b[1;38;5;39mCOMET INFO:\u001b[0m     seed         : 42\n",
      "\u001b[1;38;5;39mCOMET INFO:\u001b[0m     source       : Siemens\n",
      "\u001b[1;38;5;39mCOMET INFO:\u001b[0m     target_1     : Philips\n",
      "\u001b[1;38;5;39mCOMET INFO:\u001b[0m     target_2     : GE\n",
      "\u001b[1;38;5;39mCOMET INFO:\u001b[0m     weight_decay : 0.03\n",
      "\u001b[1;38;5;39mCOMET INFO:\u001b[0m   Uploads:\n",
      "\u001b[1;38;5;39mCOMET INFO:\u001b[0m     artifact assets              : 3 (21.76 KB)\n",
      "\u001b[1;38;5;39mCOMET INFO:\u001b[0m     artifacts                    : 3\n",
      "\u001b[1;38;5;39mCOMET INFO:\u001b[0m     conda-environment-definition : 1\n",
      "\u001b[1;38;5;39mCOMET INFO:\u001b[0m     conda-info                   : 1\n",
      "\u001b[1;38;5;39mCOMET INFO:\u001b[0m     conda-specification          : 1\n",
      "\u001b[1;38;5;39mCOMET INFO:\u001b[0m     environment details          : 1\n",
      "\u001b[1;38;5;39mCOMET INFO:\u001b[0m     filename                     : 1\n",
      "\u001b[1;38;5;39mCOMET INFO:\u001b[0m     git metadata                 : 1\n",
      "\u001b[1;38;5;39mCOMET INFO:\u001b[0m     git-patch (uncompressed)     : 1 (758.91 KB)\n",
      "\u001b[1;38;5;39mCOMET INFO:\u001b[0m     installed packages           : 1\n",
      "\u001b[1;38;5;39mCOMET INFO:\u001b[0m     model graph                  : 1\n",
      "\u001b[1;38;5;39mCOMET INFO:\u001b[0m     model-element                : 1 (183.72 MB)\n",
      "\u001b[1;38;5;39mCOMET INFO:\u001b[0m     notebook                     : 1\n",
      "\u001b[1;38;5;39mCOMET INFO:\u001b[0m     os packages                  : 1\n",
      "\u001b[1;38;5;39mCOMET INFO:\u001b[0m     source_code                  : 1\n",
      "\u001b[1;38;5;39mCOMET INFO:\u001b[0m \n",
      "\u001b[1;38;5;39mCOMET INFO:\u001b[0m Please wait for assets to finish uploading (timeout is 10800 seconds)\n",
      "\u001b[1;38;5;39mCOMET INFO:\u001b[0m Still uploading 1 file(s), remaining 103.72 MB/183.72 MB\n",
      "\u001b[1;38;5;214mCOMET WARNING:\u001b[0m As you are running in a Jupyter environment, you will need to call `experiment.end()` when finished to ensure all metrics and code are logged before exiting.\n",
      "\u001b[1;38;5;39mCOMET INFO:\u001b[0m Experiment is live on comet.com https://www.comet.com/derick-amontagna/adni1-s-siemens-dams-sgd-8/875da24a506c40508f6872ff7636fade\n",
      "\n",
      "\u001b[1;38;5;39mCOMET INFO:\u001b[0m Artifact 'Engine' version 89.0.0 created (previous was: 88.0.0)\n"
     ]
    },
    {
     "name": "stdout",
     "output_type": "stream",
     "text": [
      "Treinando esse modelo: DAMS\n",
      "Treinando com o source: Siemens/target: Philips/GE\n"
     ]
    },
    {
     "name": "stderr",
     "output_type": "stream",
     "text": [
      "\u001b[1;38;5;39mCOMET INFO:\u001b[0m Scheduling the upload of 1 assets: 1 local assets for a size of 8.21 KB, and 0 remote assets (will be linked, not uploaded). This can take some time.\n",
      "\u001b[1;38;5;39mCOMET INFO:\u001b[0m Artifact 'derick-amontagna/Engine:89.0.0' has started uploading asynchronously\n",
      "\u001b[1;38;5;39mCOMET INFO:\u001b[0m Artifact 'Networks' version 89.0.0 created (previous was: 88.0.0)\n",
      "\u001b[1;38;5;39mCOMET INFO:\u001b[0m Scheduling the upload of 1 assets: 1 local assets for a size of 5.82 KB, and 0 remote assets (will be linked, not uploaded). This can take some time.\n",
      "\u001b[1;38;5;39mCOMET INFO:\u001b[0m Artifact 'derick-amontagna/Networks:89.0.0' has started uploading asynchronously\n",
      "\u001b[1;38;5;39mCOMET INFO:\u001b[0m Artifact 'DataSetup' version 91.0.0 created (previous was: 90.0.0)\n",
      "\u001b[1;38;5;39mCOMET INFO:\u001b[0m Scheduling the upload of 1 assets: 1 local assets for a size of 7.72 KB, and 0 remote assets (will be linked, not uploaded). This can take some time.\n",
      "\u001b[1;38;5;39mCOMET INFO:\u001b[0m Artifact 'derick-amontagna/DataSetup:91.0.0' has started uploading asynchronously\n"
     ]
    },
    {
     "name": "stdout",
     "output_type": "stream",
     "text": [
      "Loading Dataloader\n",
      "Use DAMS Basic\n",
      "Create model\n",
      "Start Train\n"
     ]
    },
    {
     "data": {
      "application/vnd.jupyter.widget-view+json": {
       "model_id": "689bc2efa38e482e9ed6707b79b828fe",
       "version_major": 2,
       "version_minor": 0
      },
      "text/plain": [
       "  0%|          | 0/50 [00:00<?, ?it/s]"
      ]
     },
     "metadata": {},
     "output_type": "display_data"
    },
    {
     "name": "stderr",
     "output_type": "stream",
     "text": [
      "/root/anaconda3/envs/lapixdl/lib/python3.11/site-packages/torchmetrics/utilities/prints.py:36: UserWarning: Metric `AUROC` will save all targets and predictions in buffer. For large datasets this may lead to large memory footprint.\n",
      "  warnings.warn(*args, **kwargs)\n",
      "\u001b[1;38;5;39mCOMET INFO:\u001b[0m Artifact 'derick-amontagna/DataSetup:91.0.0' has been fully uploaded successfully\n",
      "\u001b[1;38;5;39mCOMET INFO:\u001b[0m Artifact 'derick-amontagna/Networks:89.0.0' has been fully uploaded successfully\n",
      "\u001b[1;38;5;39mCOMET INFO:\u001b[0m Artifact 'derick-amontagna/Engine:89.0.0' has been fully uploaded successfully\n",
      "/root/anaconda3/envs/lapixdl/lib/python3.11/site-packages/torchmetrics/utilities/prints.py:36: UserWarning: Metric `AUROC` will save all targets and predictions in buffer. For large datasets this may lead to large memory footprint.\n",
      "  warnings.warn(*args, **kwargs)\n"
     ]
    },
    {
     "name": "stdout",
     "output_type": "stream",
     "text": [
      "terminating because of early stopping!\n",
      "Loaded model from epoch 12 with best validation auc: 0.90%\n",
      "DONE\n"
     ]
    },
    {
     "name": "stderr",
     "output_type": "stream",
     "text": [
      "\u001b[1;38;5;39mCOMET INFO:\u001b[0m ---------------------------------------------------------------------------------------\n",
      "\u001b[1;38;5;39mCOMET INFO:\u001b[0m Comet.ml Experiment Summary\n",
      "\u001b[1;38;5;39mCOMET INFO:\u001b[0m ---------------------------------------------------------------------------------------\n",
      "\u001b[1;38;5;39mCOMET INFO:\u001b[0m   Data:\n",
      "\u001b[1;38;5;39mCOMET INFO:\u001b[0m     display_summary_level : 1\n",
      "\u001b[1;38;5;39mCOMET INFO:\u001b[0m     name                  : physical_budget_1392\n",
      "\u001b[1;38;5;39mCOMET INFO:\u001b[0m     url                   : https://www.comet.com/derick-amontagna/adni1-s-siemens-dams-sgd-8/875da24a506c40508f6872ff7636fade\n",
      "\u001b[1;38;5;39mCOMET INFO:\u001b[0m   Metrics [count] (min, max):\n",
      "\u001b[1;38;5;39mCOMET INFO:\u001b[0m     epoch [32]         : (0, 31)\n",
      "\u001b[1;38;5;39mCOMET INFO:\u001b[0m     loss [631]         : (0.01670638471841812, 0.5463862419128418)\n",
      "\u001b[1;38;5;39mCOMET INFO:\u001b[0m     test_acc           : 0.7779356060606061\n",
      "\u001b[1;38;5;39mCOMET INFO:\u001b[0m     test_acc_target    : 0.7154947916666666\n",
      "\u001b[1;38;5;39mCOMET INFO:\u001b[0m     test_acc_target_2  : 0.7113970588235294\n",
      "\u001b[1;38;5;39mCOMET INFO:\u001b[0m     test_auc           : 0.8628650307655334\n",
      "\u001b[1;38;5;39mCOMET INFO:\u001b[0m     test_auc_target    : 0.801969051361084\n",
      "\u001b[1;38;5;39mCOMET INFO:\u001b[0m     test_auc_target_2  : 0.7504920363426208\n",
      "\u001b[1;38;5;39mCOMET INFO:\u001b[0m     test_loss          : 0.5657926023175771\n",
      "\u001b[1;38;5;39mCOMET INFO:\u001b[0m     test_loss_target   : 0.5079768765717745\n",
      "\u001b[1;38;5;39mCOMET INFO:\u001b[0m     test_loss_target_2 : 0.6584292485433466\n",
      "\u001b[1;38;5;39mCOMET INFO:\u001b[0m     train_acc [32]     : (0.5268083756345178, 0.9901649746192893)\n",
      "\u001b[1;38;5;39mCOMET INFO:\u001b[0m     train_auc [32]     : (0.5475279092788696, 0.9995096921920776)\n",
      "\u001b[1;38;5;39mCOMET INFO:\u001b[0m     train_loss [32]    : (0.03522829920393864, 0.5055416382206273)\n",
      "\u001b[1;38;5;39mCOMET INFO:\u001b[0m     val_acc [32]       : (0.38, 0.860625)\n",
      "\u001b[1;38;5;39mCOMET INFO:\u001b[0m     val_auc [32]       : (0.49977409839630127, 0.9042867422103882)\n",
      "\u001b[1;38;5;39mCOMET INFO:\u001b[0m     val_loss [32]      : (0.3384704498946667, 0.836406282056123)\n",
      "\u001b[1;38;5;39mCOMET INFO:\u001b[0m   Others:\n",
      "\u001b[1;38;5;39mCOMET INFO:\u001b[0m     best_epoch             : 12\n",
      "\u001b[1;38;5;39mCOMET INFO:\u001b[0m     best_val_metric        : 0.9042867422103882\n",
      "\u001b[1;38;5;39mCOMET INFO:\u001b[0m     optimizer_count        : 13\n",
      "\u001b[1;38;5;39mCOMET INFO:\u001b[0m     optimizer_id           : a6175d5da17447a2a07d393e335bcde5\n",
      "\u001b[1;38;5;39mCOMET INFO:\u001b[0m     optimizer_metric       : val_auc\n",
      "\u001b[1;38;5;39mCOMET INFO:\u001b[0m     optimizer_metric_value : 0.9042867422103882\n",
      "\u001b[1;38;5;39mCOMET INFO:\u001b[0m     optimizer_name         : SOURCE_Siemens\n",
      "\u001b[1;38;5;39mCOMET INFO:\u001b[0m     optimizer_objective    : maximize\n",
      "\u001b[1;38;5;39mCOMET INFO:\u001b[0m     optimizer_parameters   : {\"batch_size\": 64, \"dropout\": 0.2, \"lr\": 0.0007, \"model\": \"DAMS\", \"momentum\": 0.9, \"seed\": 42, \"source\": \"Siemens\", \"target_1\": \"Philips\", \"target_2\": \"GE\", \"weight_decay\": 0.02}\n",
      "\u001b[1;38;5;39mCOMET INFO:\u001b[0m     optimizer_pid          : 191bb3e356285c0e5ff5b4304e7ccb5b351d4e97\n",
      "\u001b[1;38;5;39mCOMET INFO:\u001b[0m     optimizer_process      : 544623\n",
      "\u001b[1;38;5;39mCOMET INFO:\u001b[0m     optimizer_trial        : 1\n",
      "\u001b[1;38;5;39mCOMET INFO:\u001b[0m     optimizer_version      : 2.1.4\n",
      "\u001b[1;38;5;39mCOMET INFO:\u001b[0m   Parameters:\n",
      "\u001b[1;38;5;39mCOMET INFO:\u001b[0m     batch_size   : 64\n",
      "\u001b[1;38;5;39mCOMET INFO:\u001b[0m     dropout      : 0.2\n",
      "\u001b[1;38;5;39mCOMET INFO:\u001b[0m     lr           : 0.0007\n",
      "\u001b[1;38;5;39mCOMET INFO:\u001b[0m     model        : DAMS\n",
      "\u001b[1;38;5;39mCOMET INFO:\u001b[0m     momentum     : 0.9\n",
      "\u001b[1;38;5;39mCOMET INFO:\u001b[0m     pos_weight   : 0.576\n",
      "\u001b[1;38;5;39mCOMET INFO:\u001b[0m     seed         : 42\n",
      "\u001b[1;38;5;39mCOMET INFO:\u001b[0m     source       : Siemens\n",
      "\u001b[1;38;5;39mCOMET INFO:\u001b[0m     target_1     : Philips\n",
      "\u001b[1;38;5;39mCOMET INFO:\u001b[0m     target_2     : GE\n",
      "\u001b[1;38;5;39mCOMET INFO:\u001b[0m     weight_decay : 0.02\n",
      "\u001b[1;38;5;39mCOMET INFO:\u001b[0m   Uploads:\n",
      "\u001b[1;38;5;39mCOMET INFO:\u001b[0m     artifact assets              : 3 (21.76 KB)\n",
      "\u001b[1;38;5;39mCOMET INFO:\u001b[0m     artifacts                    : 3\n",
      "\u001b[1;38;5;39mCOMET INFO:\u001b[0m     conda-environment-definition : 1\n",
      "\u001b[1;38;5;39mCOMET INFO:\u001b[0m     conda-info                   : 1\n",
      "\u001b[1;38;5;39mCOMET INFO:\u001b[0m     conda-specification          : 1\n",
      "\u001b[1;38;5;39mCOMET INFO:\u001b[0m     environment details          : 1\n",
      "\u001b[1;38;5;39mCOMET INFO:\u001b[0m     filename                     : 1\n",
      "\u001b[1;38;5;39mCOMET INFO:\u001b[0m     git metadata                 : 1\n",
      "\u001b[1;38;5;39mCOMET INFO:\u001b[0m     git-patch (uncompressed)     : 1 (769.23 KB)\n",
      "\u001b[1;38;5;39mCOMET INFO:\u001b[0m     installed packages           : 1\n",
      "\u001b[1;38;5;39mCOMET INFO:\u001b[0m     model graph                  : 1\n",
      "\u001b[1;38;5;39mCOMET INFO:\u001b[0m     model-element                : 1 (183.72 MB)\n",
      "\u001b[1;38;5;39mCOMET INFO:\u001b[0m     notebook                     : 1\n",
      "\u001b[1;38;5;39mCOMET INFO:\u001b[0m     os packages                  : 1\n",
      "\u001b[1;38;5;39mCOMET INFO:\u001b[0m     source_code                  : 1\n",
      "\u001b[1;38;5;39mCOMET INFO:\u001b[0m \n",
      "\u001b[1;38;5;39mCOMET INFO:\u001b[0m Please wait for assets to finish uploading (timeout is 10800 seconds)\n",
      "\u001b[1;38;5;39mCOMET INFO:\u001b[0m Still uploading 1 file(s), remaining 98.72 MB/183.72 MB\n",
      "\u001b[1;38;5;214mCOMET WARNING:\u001b[0m As you are running in a Jupyter environment, you will need to call `experiment.end()` when finished to ensure all metrics and code are logged before exiting.\n",
      "\u001b[1;38;5;39mCOMET INFO:\u001b[0m Experiment is live on comet.com https://www.comet.com/derick-amontagna/adni1-s-siemens-dams-sgd-8/cf2ed91e041240428b5dc3abb705bab8\n",
      "\n",
      "\u001b[1;38;5;39mCOMET INFO:\u001b[0m Artifact 'Engine' version 90.0.0 created (previous was: 89.0.0)\n"
     ]
    },
    {
     "name": "stdout",
     "output_type": "stream",
     "text": [
      "Treinando esse modelo: DAMS\n",
      "Treinando com o source: Siemens/target: Philips/GE\n"
     ]
    },
    {
     "name": "stderr",
     "output_type": "stream",
     "text": [
      "\u001b[1;38;5;39mCOMET INFO:\u001b[0m Scheduling the upload of 1 assets: 1 local assets for a size of 8.21 KB, and 0 remote assets (will be linked, not uploaded). This can take some time.\n",
      "\u001b[1;38;5;39mCOMET INFO:\u001b[0m Artifact 'derick-amontagna/Engine:90.0.0' has started uploading asynchronously\n",
      "\u001b[1;38;5;39mCOMET INFO:\u001b[0m Artifact 'Networks' version 90.0.0 created (previous was: 89.0.0)\n",
      "\u001b[1;38;5;39mCOMET INFO:\u001b[0m Scheduling the upload of 1 assets: 1 local assets for a size of 5.82 KB, and 0 remote assets (will be linked, not uploaded). This can take some time.\n",
      "\u001b[1;38;5;39mCOMET INFO:\u001b[0m Artifact 'derick-amontagna/Networks:90.0.0' has started uploading asynchronously\n",
      "\u001b[1;38;5;39mCOMET INFO:\u001b[0m Artifact 'DataSetup' version 92.0.0 created (previous was: 91.0.0)\n",
      "\u001b[1;38;5;39mCOMET INFO:\u001b[0m Scheduling the upload of 1 assets: 1 local assets for a size of 7.72 KB, and 0 remote assets (will be linked, not uploaded). This can take some time.\n",
      "\u001b[1;38;5;39mCOMET INFO:\u001b[0m Artifact 'derick-amontagna/DataSetup:92.0.0' has started uploading asynchronously\n"
     ]
    },
    {
     "name": "stdout",
     "output_type": "stream",
     "text": [
      "Loading Dataloader\n",
      "Use DAMS Basic\n",
      "Create model\n",
      "Start Train\n"
     ]
    },
    {
     "data": {
      "application/vnd.jupyter.widget-view+json": {
       "model_id": "2b2391e468594edbaede68b1a1938d56",
       "version_major": 2,
       "version_minor": 0
      },
      "text/plain": [
       "  0%|          | 0/50 [00:00<?, ?it/s]"
      ]
     },
     "metadata": {},
     "output_type": "display_data"
    },
    {
     "name": "stderr",
     "output_type": "stream",
     "text": [
      "/root/anaconda3/envs/lapixdl/lib/python3.11/site-packages/torchmetrics/utilities/prints.py:36: UserWarning: Metric `AUROC` will save all targets and predictions in buffer. For large datasets this may lead to large memory footprint.\n",
      "  warnings.warn(*args, **kwargs)\n",
      "\u001b[1;38;5;39mCOMET INFO:\u001b[0m Artifact 'derick-amontagna/DataSetup:92.0.0' has been fully uploaded successfully\n",
      "\u001b[1;38;5;39mCOMET INFO:\u001b[0m Artifact 'derick-amontagna/Networks:90.0.0' has been fully uploaded successfully\n",
      "\u001b[1;38;5;39mCOMET INFO:\u001b[0m Artifact 'derick-amontagna/Engine:90.0.0' has been fully uploaded successfully\n",
      "/root/anaconda3/envs/lapixdl/lib/python3.11/site-packages/torchmetrics/utilities/prints.py:36: UserWarning: Metric `AUROC` will save all targets and predictions in buffer. For large datasets this may lead to large memory footprint.\n",
      "  warnings.warn(*args, **kwargs)\n"
     ]
    },
    {
     "name": "stdout",
     "output_type": "stream",
     "text": [
      "Loaded model from epoch 34 with best validation auc: 0.90%\n",
      "DONE\n"
     ]
    },
    {
     "name": "stderr",
     "output_type": "stream",
     "text": [
      "\u001b[1;38;5;39mCOMET INFO:\u001b[0m ---------------------------------------------------------------------------------------\n",
      "\u001b[1;38;5;39mCOMET INFO:\u001b[0m Comet.ml Experiment Summary\n",
      "\u001b[1;38;5;39mCOMET INFO:\u001b[0m ---------------------------------------------------------------------------------------\n",
      "\u001b[1;38;5;39mCOMET INFO:\u001b[0m   Data:\n",
      "\u001b[1;38;5;39mCOMET INFO:\u001b[0m     display_summary_level : 1\n",
      "\u001b[1;38;5;39mCOMET INFO:\u001b[0m     name                  : experienced_ant_7791\n",
      "\u001b[1;38;5;39mCOMET INFO:\u001b[0m     url                   : https://www.comet.com/derick-amontagna/adni1-s-siemens-dams-sgd-8/cf2ed91e041240428b5dc3abb705bab8\n",
      "\u001b[1;38;5;39mCOMET INFO:\u001b[0m   Metrics [count] (min, max):\n",
      "\u001b[1;38;5;39mCOMET INFO:\u001b[0m     epoch [50]         : (0, 49)\n",
      "\u001b[1;38;5;39mCOMET INFO:\u001b[0m     loss [985]         : (0.027912219986319542, 0.5496851205825806)\n",
      "\u001b[1;38;5;39mCOMET INFO:\u001b[0m     test_acc           : 0.8581912878787878\n",
      "\u001b[1;38;5;39mCOMET INFO:\u001b[0m     test_acc_target    : 0.7421875\n",
      "\u001b[1;38;5;39mCOMET INFO:\u001b[0m     test_acc_target_2  : 0.7560661764705883\n",
      "\u001b[1;38;5;39mCOMET INFO:\u001b[0m     test_auc           : 0.9093855619430542\n",
      "\u001b[1;38;5;39mCOMET INFO:\u001b[0m     test_auc_target    : 0.7705262899398804\n",
      "\u001b[1;38;5;39mCOMET INFO:\u001b[0m     test_auc_target_2  : 0.8032355308532715\n",
      "\u001b[1;38;5;39mCOMET INFO:\u001b[0m     test_loss          : 0.32967062215461873\n",
      "\u001b[1;38;5;39mCOMET INFO:\u001b[0m     test_loss_target   : 0.6017818655818701\n",
      "\u001b[1;38;5;39mCOMET INFO:\u001b[0m     test_loss_target_2 : 0.5500091723659459\n",
      "\u001b[1;38;5;39mCOMET INFO:\u001b[0m     train_acc [50]     : (0.5269670050761421, 0.9961928934010152)\n",
      "\u001b[1;38;5;39mCOMET INFO:\u001b[0m     train_auc [50]     : (0.5484506487846375, 0.9998345971107483)\n",
      "\u001b[1;38;5;39mCOMET INFO:\u001b[0m     train_loss [50]    : (0.0449715415441294, 0.5055071068596719)\n",
      "\u001b[1;38;5;39mCOMET INFO:\u001b[0m     val_acc [50]       : (0.379375, 0.8675)\n",
      "\u001b[1;38;5;39mCOMET INFO:\u001b[0m     val_auc [50]       : (0.5318130850791931, 0.8976897597312927)\n",
      "\u001b[1;38;5;39mCOMET INFO:\u001b[0m     val_loss [50]      : (0.32014675334095954, 0.8180663117393852)\n",
      "\u001b[1;38;5;39mCOMET INFO:\u001b[0m   Others:\n",
      "\u001b[1;38;5;39mCOMET INFO:\u001b[0m     best_epoch             : 34\n",
      "\u001b[1;38;5;39mCOMET INFO:\u001b[0m     best_val_metric        : 0.8976897597312927\n",
      "\u001b[1;38;5;39mCOMET INFO:\u001b[0m     optimizer_count        : 14\n",
      "\u001b[1;38;5;39mCOMET INFO:\u001b[0m     optimizer_id           : a6175d5da17447a2a07d393e335bcde5\n",
      "\u001b[1;38;5;39mCOMET INFO:\u001b[0m     optimizer_metric       : val_auc\n",
      "\u001b[1;38;5;39mCOMET INFO:\u001b[0m     optimizer_metric_value : 0.8976897597312927\n",
      "\u001b[1;38;5;39mCOMET INFO:\u001b[0m     optimizer_name         : SOURCE_Siemens\n",
      "\u001b[1;38;5;39mCOMET INFO:\u001b[0m     optimizer_objective    : maximize\n",
      "\u001b[1;38;5;39mCOMET INFO:\u001b[0m     optimizer_parameters   : {\"batch_size\": 64, \"dropout\": 0.2, \"lr\": 0.0007, \"model\": \"DAMS\", \"momentum\": 0.9, \"seed\": 42, \"source\": \"Siemens\", \"target_1\": \"Philips\", \"target_2\": \"GE\", \"weight_decay\": 0.03}\n",
      "\u001b[1;38;5;39mCOMET INFO:\u001b[0m     optimizer_pid          : 5a6a6c498d191437058848b5a5ab04738bb3da5a\n",
      "\u001b[1;38;5;39mCOMET INFO:\u001b[0m     optimizer_process      : 544623\n",
      "\u001b[1;38;5;39mCOMET INFO:\u001b[0m     optimizer_trial        : 1\n",
      "\u001b[1;38;5;39mCOMET INFO:\u001b[0m     optimizer_version      : 2.1.4\n",
      "\u001b[1;38;5;39mCOMET INFO:\u001b[0m   Parameters:\n",
      "\u001b[1;38;5;39mCOMET INFO:\u001b[0m     batch_size   : 64\n",
      "\u001b[1;38;5;39mCOMET INFO:\u001b[0m     dropout      : 0.2\n",
      "\u001b[1;38;5;39mCOMET INFO:\u001b[0m     lr           : 0.0007\n",
      "\u001b[1;38;5;39mCOMET INFO:\u001b[0m     model        : DAMS\n",
      "\u001b[1;38;5;39mCOMET INFO:\u001b[0m     momentum     : 0.9\n",
      "\u001b[1;38;5;39mCOMET INFO:\u001b[0m     pos_weight   : 0.576\n",
      "\u001b[1;38;5;39mCOMET INFO:\u001b[0m     seed         : 42\n",
      "\u001b[1;38;5;39mCOMET INFO:\u001b[0m     source       : Siemens\n",
      "\u001b[1;38;5;39mCOMET INFO:\u001b[0m     target_1     : Philips\n",
      "\u001b[1;38;5;39mCOMET INFO:\u001b[0m     target_2     : GE\n",
      "\u001b[1;38;5;39mCOMET INFO:\u001b[0m     weight_decay : 0.03\n",
      "\u001b[1;38;5;39mCOMET INFO:\u001b[0m   Uploads:\n",
      "\u001b[1;38;5;39mCOMET INFO:\u001b[0m     artifact assets              : 3 (21.76 KB)\n",
      "\u001b[1;38;5;39mCOMET INFO:\u001b[0m     artifacts                    : 3\n",
      "\u001b[1;38;5;39mCOMET INFO:\u001b[0m     conda-environment-definition : 1\n",
      "\u001b[1;38;5;39mCOMET INFO:\u001b[0m     conda-info                   : 1\n",
      "\u001b[1;38;5;39mCOMET INFO:\u001b[0m     conda-specification          : 1\n",
      "\u001b[1;38;5;39mCOMET INFO:\u001b[0m     environment details          : 1\n",
      "\u001b[1;38;5;39mCOMET INFO:\u001b[0m     filename                     : 1\n",
      "\u001b[1;38;5;39mCOMET INFO:\u001b[0m     git metadata                 : 1\n",
      "\u001b[1;38;5;39mCOMET INFO:\u001b[0m     git-patch (uncompressed)     : 1 (779.54 KB)\n",
      "\u001b[1;38;5;39mCOMET INFO:\u001b[0m     installed packages           : 1\n",
      "\u001b[1;38;5;39mCOMET INFO:\u001b[0m     model graph                  : 1\n",
      "\u001b[1;38;5;39mCOMET INFO:\u001b[0m     model-element                : 1 (183.72 MB)\n",
      "\u001b[1;38;5;39mCOMET INFO:\u001b[0m     notebook                     : 1\n",
      "\u001b[1;38;5;39mCOMET INFO:\u001b[0m     os packages                  : 1\n",
      "\u001b[1;38;5;39mCOMET INFO:\u001b[0m     source_code                  : 1\n",
      "\u001b[1;38;5;39mCOMET INFO:\u001b[0m \n",
      "\u001b[1;38;5;39mCOMET INFO:\u001b[0m Uploading 74 metrics, params and output messages\n",
      "\u001b[1;38;5;39mCOMET INFO:\u001b[0m Please wait for assets to finish uploading (timeout is 10800 seconds)\n",
      "\u001b[1;38;5;39mCOMET INFO:\u001b[0m Still uploading 1 file(s), remaining 93.72 MB/183.72 MB\n",
      "\u001b[1;38;5;214mCOMET WARNING:\u001b[0m As you are running in a Jupyter environment, you will need to call `experiment.end()` when finished to ensure all metrics and code are logged before exiting.\n",
      "\u001b[1;38;5;39mCOMET INFO:\u001b[0m Experiment is live on comet.com https://www.comet.com/derick-amontagna/adni1-s-siemens-dams-sgd-8/f7ef114af3a643b1ba0c0839d8e9a9d7\n",
      "\n",
      "\u001b[1;38;5;39mCOMET INFO:\u001b[0m Artifact 'Engine' version 91.0.0 created (previous was: 90.0.0)\n"
     ]
    },
    {
     "name": "stdout",
     "output_type": "stream",
     "text": [
      "Treinando esse modelo: DAMS\n",
      "Treinando com o source: Siemens/target: Philips/GE\n"
     ]
    },
    {
     "name": "stderr",
     "output_type": "stream",
     "text": [
      "\u001b[1;38;5;39mCOMET INFO:\u001b[0m Scheduling the upload of 1 assets: 1 local assets for a size of 8.21 KB, and 0 remote assets (will be linked, not uploaded). This can take some time.\n",
      "\u001b[1;38;5;39mCOMET INFO:\u001b[0m Artifact 'derick-amontagna/Engine:91.0.0' has started uploading asynchronously\n",
      "\u001b[1;38;5;39mCOMET INFO:\u001b[0m Artifact 'Networks' version 91.0.0 created (previous was: 90.0.0)\n",
      "\u001b[1;38;5;39mCOMET INFO:\u001b[0m Scheduling the upload of 1 assets: 1 local assets for a size of 5.82 KB, and 0 remote assets (will be linked, not uploaded). This can take some time.\n",
      "\u001b[1;38;5;39mCOMET INFO:\u001b[0m Artifact 'derick-amontagna/Networks:91.0.0' has started uploading asynchronously\n",
      "\u001b[1;38;5;39mCOMET INFO:\u001b[0m Artifact 'DataSetup' version 93.0.0 created (previous was: 92.0.0)\n",
      "\u001b[1;38;5;39mCOMET INFO:\u001b[0m Scheduling the upload of 1 assets: 1 local assets for a size of 7.72 KB, and 0 remote assets (will be linked, not uploaded). This can take some time.\n",
      "\u001b[1;38;5;39mCOMET INFO:\u001b[0m Artifact 'derick-amontagna/DataSetup:93.0.0' has started uploading asynchronously\n"
     ]
    },
    {
     "name": "stdout",
     "output_type": "stream",
     "text": [
      "Loading Dataloader\n",
      "Use DAMS Basic\n",
      "Create model\n",
      "Start Train\n"
     ]
    },
    {
     "data": {
      "application/vnd.jupyter.widget-view+json": {
       "model_id": "b6c9ac24f32f4876b61e5c830fe8f7f2",
       "version_major": 2,
       "version_minor": 0
      },
      "text/plain": [
       "  0%|          | 0/50 [00:00<?, ?it/s]"
      ]
     },
     "metadata": {},
     "output_type": "display_data"
    },
    {
     "name": "stderr",
     "output_type": "stream",
     "text": [
      "/root/anaconda3/envs/lapixdl/lib/python3.11/site-packages/torchmetrics/utilities/prints.py:36: UserWarning: Metric `AUROC` will save all targets and predictions in buffer. For large datasets this may lead to large memory footprint.\n",
      "  warnings.warn(*args, **kwargs)\n",
      "\u001b[1;38;5;39mCOMET INFO:\u001b[0m Artifact 'derick-amontagna/Networks:91.0.0' has been fully uploaded successfully\n",
      "\u001b[1;38;5;39mCOMET INFO:\u001b[0m Artifact 'derick-amontagna/DataSetup:93.0.0' has been fully uploaded successfully\n",
      "\u001b[1;38;5;39mCOMET INFO:\u001b[0m Artifact 'derick-amontagna/Engine:91.0.0' has been fully uploaded successfully\n",
      "/root/anaconda3/envs/lapixdl/lib/python3.11/site-packages/torchmetrics/utilities/prints.py:36: UserWarning: Metric `AUROC` will save all targets and predictions in buffer. For large datasets this may lead to large memory footprint.\n",
      "  warnings.warn(*args, **kwargs)\n"
     ]
    },
    {
     "name": "stdout",
     "output_type": "stream",
     "text": [
      "Loaded model from epoch 36 with best validation auc: 0.90%\n",
      "DONE\n"
     ]
    },
    {
     "name": "stderr",
     "output_type": "stream",
     "text": [
      "\u001b[1;38;5;39mCOMET INFO:\u001b[0m ---------------------------------------------------------------------------------------\n",
      "\u001b[1;38;5;39mCOMET INFO:\u001b[0m Comet.ml Experiment Summary\n",
      "\u001b[1;38;5;39mCOMET INFO:\u001b[0m ---------------------------------------------------------------------------------------\n",
      "\u001b[1;38;5;39mCOMET INFO:\u001b[0m   Data:\n",
      "\u001b[1;38;5;39mCOMET INFO:\u001b[0m     display_summary_level : 1\n",
      "\u001b[1;38;5;39mCOMET INFO:\u001b[0m     name                  : thoughtless_newel_786\n",
      "\u001b[1;38;5;39mCOMET INFO:\u001b[0m     url                   : https://www.comet.com/derick-amontagna/adni1-s-siemens-dams-sgd-8/f7ef114af3a643b1ba0c0839d8e9a9d7\n",
      "\u001b[1;38;5;39mCOMET INFO:\u001b[0m   Metrics [count] (min, max):\n",
      "\u001b[1;38;5;39mCOMET INFO:\u001b[0m     epoch [50]         : (0, 49)\n",
      "\u001b[1;38;5;39mCOMET INFO:\u001b[0m     loss [985]         : (0.016517363488674164, 0.5472261309623718)\n",
      "\u001b[1;38;5;39mCOMET INFO:\u001b[0m     test_acc           : 0.8122632575757576\n",
      "\u001b[1;38;5;39mCOMET INFO:\u001b[0m     test_acc_target    : 0.693359375\n",
      "\u001b[1;38;5;39mCOMET INFO:\u001b[0m     test_acc_target_2  : 0.7729779411764706\n",
      "\u001b[1;38;5;39mCOMET INFO:\u001b[0m     test_auc           : 0.884283721446991\n",
      "\u001b[1;38;5;39mCOMET INFO:\u001b[0m     test_auc_target    : 0.7348021268844604\n",
      "\u001b[1;38;5;39mCOMET INFO:\u001b[0m     test_auc_target_2  : 0.8321328163146973\n",
      "\u001b[1;38;5;39mCOMET INFO:\u001b[0m     test_loss          : 0.4710423679965915\n",
      "\u001b[1;38;5;39mCOMET INFO:\u001b[0m     test_loss_target   : 0.8485636599361897\n",
      "\u001b[1;38;5;39mCOMET INFO:\u001b[0m     test_loss_target_2 : 0.6808277525665128\n",
      "\u001b[1;38;5;39mCOMET INFO:\u001b[0m     train_acc [50]     : (0.5278394670050761, 0.9975412436548223)\n",
      "\u001b[1;38;5;39mCOMET INFO:\u001b[0m     train_auc [50]     : (0.5450964570045471, 0.9999203681945801)\n",
      "\u001b[1;38;5;39mCOMET INFO:\u001b[0m     train_loss [50]    : (0.027338176313314946, 0.5058233639613021)\n",
      "\u001b[1;38;5;39mCOMET INFO:\u001b[0m     val_acc [50]       : (0.39375, 0.85625)\n",
      "\u001b[1;38;5;39mCOMET INFO:\u001b[0m     val_auc [50]       : (0.6640372276306152, 0.8988180160522461)\n",
      "\u001b[1;38;5;39mCOMET INFO:\u001b[0m     val_loss [50]      : (0.3665189614892006, 0.7871856672130525)\n",
      "\u001b[1;38;5;39mCOMET INFO:\u001b[0m   Others:\n",
      "\u001b[1;38;5;39mCOMET INFO:\u001b[0m     best_epoch             : 36\n",
      "\u001b[1;38;5;39mCOMET INFO:\u001b[0m     best_val_metric        : 0.8988180160522461\n",
      "\u001b[1;38;5;39mCOMET INFO:\u001b[0m     optimizer_count        : 15\n",
      "\u001b[1;38;5;39mCOMET INFO:\u001b[0m     optimizer_id           : a6175d5da17447a2a07d393e335bcde5\n",
      "\u001b[1;38;5;39mCOMET INFO:\u001b[0m     optimizer_metric       : val_auc\n",
      "\u001b[1;38;5;39mCOMET INFO:\u001b[0m     optimizer_metric_value : 0.8988180160522461\n",
      "\u001b[1;38;5;39mCOMET INFO:\u001b[0m     optimizer_name         : SOURCE_Siemens\n",
      "\u001b[1;38;5;39mCOMET INFO:\u001b[0m     optimizer_objective    : maximize\n",
      "\u001b[1;38;5;39mCOMET INFO:\u001b[0m     optimizer_parameters   : {\"batch_size\": 64, \"dropout\": 0.3, \"lr\": 0.0007, \"model\": \"DAMS\", \"momentum\": 0.9, \"seed\": 42, \"source\": \"Siemens\", \"target_1\": \"Philips\", \"target_2\": \"GE\", \"weight_decay\": 0.02}\n",
      "\u001b[1;38;5;39mCOMET INFO:\u001b[0m     optimizer_pid          : 804c9b60f448875de50f771f06ccb25deef4042c\n",
      "\u001b[1;38;5;39mCOMET INFO:\u001b[0m     optimizer_process      : 544623\n",
      "\u001b[1;38;5;39mCOMET INFO:\u001b[0m     optimizer_trial        : 1\n",
      "\u001b[1;38;5;39mCOMET INFO:\u001b[0m     optimizer_version      : 2.1.4\n",
      "\u001b[1;38;5;39mCOMET INFO:\u001b[0m   Parameters:\n",
      "\u001b[1;38;5;39mCOMET INFO:\u001b[0m     batch_size   : 64\n",
      "\u001b[1;38;5;39mCOMET INFO:\u001b[0m     dropout      : 0.3\n",
      "\u001b[1;38;5;39mCOMET INFO:\u001b[0m     lr           : 0.0007\n",
      "\u001b[1;38;5;39mCOMET INFO:\u001b[0m     model        : DAMS\n",
      "\u001b[1;38;5;39mCOMET INFO:\u001b[0m     momentum     : 0.9\n",
      "\u001b[1;38;5;39mCOMET INFO:\u001b[0m     pos_weight   : 0.576\n",
      "\u001b[1;38;5;39mCOMET INFO:\u001b[0m     seed         : 42\n",
      "\u001b[1;38;5;39mCOMET INFO:\u001b[0m     source       : Siemens\n",
      "\u001b[1;38;5;39mCOMET INFO:\u001b[0m     target_1     : Philips\n",
      "\u001b[1;38;5;39mCOMET INFO:\u001b[0m     target_2     : GE\n",
      "\u001b[1;38;5;39mCOMET INFO:\u001b[0m     weight_decay : 0.02\n",
      "\u001b[1;38;5;39mCOMET INFO:\u001b[0m   Uploads:\n",
      "\u001b[1;38;5;39mCOMET INFO:\u001b[0m     artifact assets              : 3 (21.76 KB)\n",
      "\u001b[1;38;5;39mCOMET INFO:\u001b[0m     artifacts                    : 3\n",
      "\u001b[1;38;5;39mCOMET INFO:\u001b[0m     conda-environment-definition : 1\n",
      "\u001b[1;38;5;39mCOMET INFO:\u001b[0m     conda-info                   : 1\n",
      "\u001b[1;38;5;39mCOMET INFO:\u001b[0m     conda-specification          : 1\n",
      "\u001b[1;38;5;39mCOMET INFO:\u001b[0m     environment details          : 1\n",
      "\u001b[1;38;5;39mCOMET INFO:\u001b[0m     filename                     : 1\n",
      "\u001b[1;38;5;39mCOMET INFO:\u001b[0m     git metadata                 : 1\n",
      "\u001b[1;38;5;39mCOMET INFO:\u001b[0m     git-patch (uncompressed)     : 1 (789.85 KB)\n",
      "\u001b[1;38;5;39mCOMET INFO:\u001b[0m     installed packages           : 1\n",
      "\u001b[1;38;5;39mCOMET INFO:\u001b[0m     model graph                  : 1\n",
      "\u001b[1;38;5;39mCOMET INFO:\u001b[0m     model-element                : 1 (183.72 MB)\n",
      "\u001b[1;38;5;39mCOMET INFO:\u001b[0m     notebook                     : 1\n",
      "\u001b[1;38;5;39mCOMET INFO:\u001b[0m     os packages                  : 1\n",
      "\u001b[1;38;5;39mCOMET INFO:\u001b[0m     source_code                  : 1\n",
      "\u001b[1;38;5;39mCOMET INFO:\u001b[0m \n",
      "\u001b[1;38;5;39mCOMET INFO:\u001b[0m Please wait for assets to finish uploading (timeout is 10800 seconds)\n",
      "\u001b[1;38;5;39mCOMET INFO:\u001b[0m Still uploading 1 file(s), remaining 93.72 MB/183.72 MB\n",
      "\u001b[1;38;5;214mCOMET WARNING:\u001b[0m As you are running in a Jupyter environment, you will need to call `experiment.end()` when finished to ensure all metrics and code are logged before exiting.\n",
      "\u001b[1;38;5;39mCOMET INFO:\u001b[0m Experiment is live on comet.com https://www.comet.com/derick-amontagna/adni1-s-siemens-dams-sgd-8/7c1d1c75f09f4268882262f16601c0f4\n",
      "\n",
      "\u001b[1;38;5;39mCOMET INFO:\u001b[0m Artifact 'Engine' version 92.0.0 created (previous was: 91.0.0)\n"
     ]
    },
    {
     "name": "stdout",
     "output_type": "stream",
     "text": [
      "Treinando esse modelo: DAMS\n",
      "Treinando com o source: Siemens/target: Philips/GE\n"
     ]
    },
    {
     "name": "stderr",
     "output_type": "stream",
     "text": [
      "\u001b[1;38;5;39mCOMET INFO:\u001b[0m Scheduling the upload of 1 assets: 1 local assets for a size of 8.21 KB, and 0 remote assets (will be linked, not uploaded). This can take some time.\n",
      "\u001b[1;38;5;39mCOMET INFO:\u001b[0m Artifact 'derick-amontagna/Engine:92.0.0' has started uploading asynchronously\n",
      "\u001b[1;38;5;39mCOMET INFO:\u001b[0m Artifact 'Networks' version 92.0.0 created (previous was: 91.0.0)\n",
      "\u001b[1;38;5;39mCOMET INFO:\u001b[0m Scheduling the upload of 1 assets: 1 local assets for a size of 5.82 KB, and 0 remote assets (will be linked, not uploaded). This can take some time.\n",
      "\u001b[1;38;5;39mCOMET INFO:\u001b[0m Artifact 'derick-amontagna/Networks:92.0.0' has started uploading asynchronously\n",
      "\u001b[1;38;5;39mCOMET INFO:\u001b[0m Artifact 'DataSetup' version 94.0.0 created (previous was: 93.0.0)\n",
      "\u001b[1;38;5;39mCOMET INFO:\u001b[0m Scheduling the upload of 1 assets: 1 local assets for a size of 7.72 KB, and 0 remote assets (will be linked, not uploaded). This can take some time.\n",
      "\u001b[1;38;5;39mCOMET INFO:\u001b[0m Artifact 'derick-amontagna/DataSetup:94.0.0' has started uploading asynchronously\n"
     ]
    },
    {
     "name": "stdout",
     "output_type": "stream",
     "text": [
      "Loading Dataloader\n",
      "Use DAMS Basic\n",
      "Create model\n",
      "Start Train\n"
     ]
    },
    {
     "data": {
      "application/vnd.jupyter.widget-view+json": {
       "model_id": "43e0fc771b0a47248a243dfc502838a4",
       "version_major": 2,
       "version_minor": 0
      },
      "text/plain": [
       "  0%|          | 0/50 [00:00<?, ?it/s]"
      ]
     },
     "metadata": {},
     "output_type": "display_data"
    },
    {
     "name": "stderr",
     "output_type": "stream",
     "text": [
      "/root/anaconda3/envs/lapixdl/lib/python3.11/site-packages/torchmetrics/utilities/prints.py:36: UserWarning: Metric `AUROC` will save all targets and predictions in buffer. For large datasets this may lead to large memory footprint.\n",
      "  warnings.warn(*args, **kwargs)\n",
      "\u001b[1;38;5;39mCOMET INFO:\u001b[0m Artifact 'derick-amontagna/DataSetup:94.0.0' has been fully uploaded successfully\n",
      "\u001b[1;38;5;39mCOMET INFO:\u001b[0m Artifact 'derick-amontagna/Networks:92.0.0' has been fully uploaded successfully\n",
      "\u001b[1;38;5;39mCOMET INFO:\u001b[0m Artifact 'derick-amontagna/Engine:92.0.0' has been fully uploaded successfully\n"
     ]
    },
    {
     "name": "stdout",
     "output_type": "stream",
     "text": [
      "terminating because of early stopping!\n",
      "Loaded model from epoch 11 with best validation auc: 0.89%\n",
      "DONE\n"
     ]
    },
    {
     "name": "stderr",
     "output_type": "stream",
     "text": [
      "\u001b[1;38;5;39mCOMET INFO:\u001b[0m ---------------------------------------------------------------------------------------\n",
      "\u001b[1;38;5;39mCOMET INFO:\u001b[0m Comet.ml Experiment Summary\n",
      "\u001b[1;38;5;39mCOMET INFO:\u001b[0m ---------------------------------------------------------------------------------------\n",
      "\u001b[1;38;5;39mCOMET INFO:\u001b[0m   Data:\n",
      "\u001b[1;38;5;39mCOMET INFO:\u001b[0m     display_summary_level : 1\n",
      "\u001b[1;38;5;39mCOMET INFO:\u001b[0m     name                  : thundering_chili_2089\n",
      "\u001b[1;38;5;39mCOMET INFO:\u001b[0m     url                   : https://www.comet.com/derick-amontagna/adni1-s-siemens-dams-sgd-8/7c1d1c75f09f4268882262f16601c0f4\n",
      "\u001b[1;38;5;39mCOMET INFO:\u001b[0m   Metrics [count] (min, max):\n",
      "\u001b[1;38;5;39mCOMET INFO:\u001b[0m     epoch [31]         : (0, 30)\n",
      "\u001b[1;38;5;39mCOMET INFO:\u001b[0m     loss [611]         : (0.028953267261385918, 0.5500149130821228)\n",
      "\u001b[1;38;5;39mCOMET INFO:\u001b[0m     test_acc           : 0.7201704545454546\n",
      "\u001b[1;38;5;39mCOMET INFO:\u001b[0m     test_acc_target    : 0.6438802083333334\n",
      "\u001b[1;38;5;39mCOMET INFO:\u001b[0m     test_acc_target_2  : 0.6446691176470588\n",
      "\u001b[1;38;5;39mCOMET INFO:\u001b[0m     test_auc           : 0.8134061694145203\n",
      "\u001b[1;38;5;39mCOMET INFO:\u001b[0m     test_auc_target    : 0.7499518394470215\n",
      "\u001b[1;38;5;39mCOMET INFO:\u001b[0m     test_auc_target_2  : 0.7032380104064941\n",
      "\u001b[1;38;5;39mCOMET INFO:\u001b[0m     test_loss          : 0.7655397620842312\n",
      "\u001b[1;38;5;39mCOMET INFO:\u001b[0m     test_loss_target   : 0.7466293677377204\n",
      "\u001b[1;38;5;39mCOMET INFO:\u001b[0m     test_loss_target_2 : 0.8761627494850579\n",
      "\u001b[1;38;5;39mCOMET INFO:\u001b[0m     train_acc [31]     : (0.5229219543147208, 0.991354695431472)\n",
      "\u001b[1;38;5;39mCOMET INFO:\u001b[0m     train_auc [31]     : (0.5470919609069824, 0.9994376301765442)\n",
      "\u001b[1;38;5;39mCOMET INFO:\u001b[0m     train_loss [31]    : (0.04573137913523289, 0.5055358220780561)\n",
      "\u001b[1;38;5;39mCOMET INFO:\u001b[0m     val_acc [31]       : (0.38, 0.85125)\n",
      "\u001b[1;38;5;39mCOMET INFO:\u001b[0m     val_auc [31]       : (0.32563406229019165, 0.8897545337677002)\n",
      "\u001b[1;38;5;39mCOMET INFO:\u001b[0m     val_loss [31]      : (0.3708899675309658, 0.9317893836833536)\n",
      "\u001b[1;38;5;39mCOMET INFO:\u001b[0m   Others:\n",
      "\u001b[1;38;5;39mCOMET INFO:\u001b[0m     best_epoch             : 11\n",
      "\u001b[1;38;5;39mCOMET INFO:\u001b[0m     best_val_metric        : 0.8897545337677002\n",
      "\u001b[1;38;5;39mCOMET INFO:\u001b[0m     optimizer_count        : 16\n",
      "\u001b[1;38;5;39mCOMET INFO:\u001b[0m     optimizer_id           : a6175d5da17447a2a07d393e335bcde5\n",
      "\u001b[1;38;5;39mCOMET INFO:\u001b[0m     optimizer_metric       : val_auc\n",
      "\u001b[1;38;5;39mCOMET INFO:\u001b[0m     optimizer_metric_value : 0.8897545337677002\n",
      "\u001b[1;38;5;39mCOMET INFO:\u001b[0m     optimizer_name         : SOURCE_Siemens\n",
      "\u001b[1;38;5;39mCOMET INFO:\u001b[0m     optimizer_objective    : maximize\n",
      "\u001b[1;38;5;39mCOMET INFO:\u001b[0m     optimizer_parameters   : {\"batch_size\": 64, \"dropout\": 0.3, \"lr\": 0.0007, \"model\": \"DAMS\", \"momentum\": 0.9, \"seed\": 42, \"source\": \"Siemens\", \"target_1\": \"Philips\", \"target_2\": \"GE\", \"weight_decay\": 0.03}\n",
      "\u001b[1;38;5;39mCOMET INFO:\u001b[0m     optimizer_pid          : 1c0b428faa3077af0b468846ad3e9cb0a75bc32a\n",
      "\u001b[1;38;5;39mCOMET INFO:\u001b[0m     optimizer_process      : 544623\n",
      "\u001b[1;38;5;39mCOMET INFO:\u001b[0m     optimizer_trial        : 1\n",
      "\u001b[1;38;5;39mCOMET INFO:\u001b[0m     optimizer_version      : 2.1.4\n",
      "\u001b[1;38;5;39mCOMET INFO:\u001b[0m   Parameters:\n",
      "\u001b[1;38;5;39mCOMET INFO:\u001b[0m     batch_size   : 64\n",
      "\u001b[1;38;5;39mCOMET INFO:\u001b[0m     dropout      : 0.3\n",
      "\u001b[1;38;5;39mCOMET INFO:\u001b[0m     lr           : 0.0007\n",
      "\u001b[1;38;5;39mCOMET INFO:\u001b[0m     model        : DAMS\n",
      "\u001b[1;38;5;39mCOMET INFO:\u001b[0m     momentum     : 0.9\n",
      "\u001b[1;38;5;39mCOMET INFO:\u001b[0m     pos_weight   : 0.576\n",
      "\u001b[1;38;5;39mCOMET INFO:\u001b[0m     seed         : 42\n",
      "\u001b[1;38;5;39mCOMET INFO:\u001b[0m     source       : Siemens\n",
      "\u001b[1;38;5;39mCOMET INFO:\u001b[0m     target_1     : Philips\n",
      "\u001b[1;38;5;39mCOMET INFO:\u001b[0m     target_2     : GE\n",
      "\u001b[1;38;5;39mCOMET INFO:\u001b[0m     weight_decay : 0.03\n",
      "\u001b[1;38;5;39mCOMET INFO:\u001b[0m   Uploads:\n",
      "\u001b[1;38;5;39mCOMET INFO:\u001b[0m     artifact assets              : 3 (21.76 KB)\n",
      "\u001b[1;38;5;39mCOMET INFO:\u001b[0m     artifacts                    : 3\n",
      "\u001b[1;38;5;39mCOMET INFO:\u001b[0m     conda-environment-definition : 1\n",
      "\u001b[1;38;5;39mCOMET INFO:\u001b[0m     conda-info                   : 1\n",
      "\u001b[1;38;5;39mCOMET INFO:\u001b[0m     conda-specification          : 1\n",
      "\u001b[1;38;5;39mCOMET INFO:\u001b[0m     environment details          : 1\n",
      "\u001b[1;38;5;39mCOMET INFO:\u001b[0m     filename                     : 1\n",
      "\u001b[1;38;5;39mCOMET INFO:\u001b[0m     git metadata                 : 1\n",
      "\u001b[1;38;5;39mCOMET INFO:\u001b[0m     git-patch (uncompressed)     : 1 (800.20 KB)\n",
      "\u001b[1;38;5;39mCOMET INFO:\u001b[0m     installed packages           : 1\n",
      "\u001b[1;38;5;39mCOMET INFO:\u001b[0m     model graph                  : 1\n",
      "\u001b[1;38;5;39mCOMET INFO:\u001b[0m     model-element                : 1 (183.72 MB)\n",
      "\u001b[1;38;5;39mCOMET INFO:\u001b[0m     notebook                     : 1\n",
      "\u001b[1;38;5;39mCOMET INFO:\u001b[0m     os packages                  : 1\n",
      "\u001b[1;38;5;39mCOMET INFO:\u001b[0m     source_code                  : 1\n",
      "\u001b[1;38;5;39mCOMET INFO:\u001b[0m \n",
      "\u001b[1;38;5;39mCOMET INFO:\u001b[0m Uploading 73 metrics, params and output messages\n",
      "\u001b[1;38;5;39mCOMET INFO:\u001b[0m Please wait for assets to finish uploading (timeout is 10800 seconds)\n",
      "\u001b[1;38;5;39mCOMET INFO:\u001b[0m Still uploading 1 file(s), remaining 98.72 MB/183.72 MB\n",
      "\u001b[1;38;5;214mCOMET WARNING:\u001b[0m As you are running in a Jupyter environment, you will need to call `experiment.end()` when finished to ensure all metrics and code are logged before exiting.\n",
      "\u001b[1;38;5;39mCOMET INFO:\u001b[0m Experiment is live on comet.com https://www.comet.com/derick-amontagna/adni1-s-siemens-dams-sgd-8/210a2e5afd1b491ebf941bcc6eda12be\n",
      "\n"
     ]
    },
    {
     "name": "stdout",
     "output_type": "stream",
     "text": [
      "Treinando esse modelo: DAMS\n",
      "Treinando com o source: Siemens/target: Philips/GE\n"
     ]
    },
    {
     "name": "stderr",
     "output_type": "stream",
     "text": [
      "\u001b[1;38;5;39mCOMET INFO:\u001b[0m Artifact 'Engine' version 93.0.0 created (previous was: 92.0.0)\n",
      "\u001b[1;38;5;39mCOMET INFO:\u001b[0m Scheduling the upload of 1 assets: 1 local assets for a size of 8.21 KB, and 0 remote assets (will be linked, not uploaded). This can take some time.\n",
      "\u001b[1;38;5;39mCOMET INFO:\u001b[0m Artifact 'derick-amontagna/Engine:93.0.0' has started uploading asynchronously\n",
      "\u001b[1;38;5;39mCOMET INFO:\u001b[0m Artifact 'Networks' version 93.0.0 created (previous was: 92.0.0)\n",
      "\u001b[1;38;5;39mCOMET INFO:\u001b[0m Scheduling the upload of 1 assets: 1 local assets for a size of 5.82 KB, and 0 remote assets (will be linked, not uploaded). This can take some time.\n",
      "\u001b[1;38;5;39mCOMET INFO:\u001b[0m Artifact 'derick-amontagna/Networks:93.0.0' has started uploading asynchronously\n",
      "\u001b[1;38;5;39mCOMET INFO:\u001b[0m Artifact 'DataSetup' version 95.0.0 created (previous was: 94.0.0)\n",
      "\u001b[1;38;5;39mCOMET INFO:\u001b[0m Scheduling the upload of 1 assets: 1 local assets for a size of 7.72 KB, and 0 remote assets (will be linked, not uploaded). This can take some time.\n",
      "\u001b[1;38;5;39mCOMET INFO:\u001b[0m Artifact 'derick-amontagna/DataSetup:95.0.0' has started uploading asynchronously\n"
     ]
    },
    {
     "name": "stdout",
     "output_type": "stream",
     "text": [
      "Loading Dataloader\n",
      "Use DAMS Basic\n",
      "Create model\n",
      "Start Train\n"
     ]
    },
    {
     "data": {
      "application/vnd.jupyter.widget-view+json": {
       "model_id": "46d1a7ed4bf944e4ba72da4c3d0f96c6",
       "version_major": 2,
       "version_minor": 0
      },
      "text/plain": [
       "  0%|          | 0/50 [00:00<?, ?it/s]"
      ]
     },
     "metadata": {},
     "output_type": "display_data"
    },
    {
     "name": "stderr",
     "output_type": "stream",
     "text": [
      "/root/anaconda3/envs/lapixdl/lib/python3.11/site-packages/torchmetrics/utilities/prints.py:36: UserWarning: Metric `AUROC` will save all targets and predictions in buffer. For large datasets this may lead to large memory footprint.\n",
      "  warnings.warn(*args, **kwargs)\n",
      "\u001b[1;38;5;39mCOMET INFO:\u001b[0m Artifact 'derick-amontagna/DataSetup:95.0.0' has been fully uploaded successfully\n",
      "\u001b[1;38;5;39mCOMET INFO:\u001b[0m Artifact 'derick-amontagna/Engine:93.0.0' has been fully uploaded successfully\n",
      "\u001b[1;38;5;39mCOMET INFO:\u001b[0m Artifact 'derick-amontagna/Networks:93.0.0' has been fully uploaded successfully\n",
      "/root/anaconda3/envs/lapixdl/lib/python3.11/site-packages/torchmetrics/utilities/prints.py:36: UserWarning: Metric `AUROC` will save all targets and predictions in buffer. For large datasets this may lead to large memory footprint.\n",
      "  warnings.warn(*args, **kwargs)\n"
     ]
    },
    {
     "name": "stdout",
     "output_type": "stream",
     "text": [
      "terminating because of early stopping!\n",
      "Loaded model from epoch 17 with best validation auc: 0.90%\n",
      "DONE\n"
     ]
    },
    {
     "name": "stderr",
     "output_type": "stream",
     "text": [
      "\u001b[1;38;5;39mCOMET INFO:\u001b[0m ---------------------------------------------------------------------------------------\n",
      "\u001b[1;38;5;39mCOMET INFO:\u001b[0m Comet.ml Experiment Summary\n",
      "\u001b[1;38;5;39mCOMET INFO:\u001b[0m ---------------------------------------------------------------------------------------\n",
      "\u001b[1;38;5;39mCOMET INFO:\u001b[0m   Data:\n",
      "\u001b[1;38;5;39mCOMET INFO:\u001b[0m     display_summary_level : 1\n",
      "\u001b[1;38;5;39mCOMET INFO:\u001b[0m     name                  : loud_garage_1683\n",
      "\u001b[1;38;5;39mCOMET INFO:\u001b[0m     url                   : https://www.comet.com/derick-amontagna/adni1-s-siemens-dams-sgd-8/210a2e5afd1b491ebf941bcc6eda12be\n",
      "\u001b[1;38;5;39mCOMET INFO:\u001b[0m   Metrics [count] (min, max):\n",
      "\u001b[1;38;5;39mCOMET INFO:\u001b[0m     epoch [37]         : (0, 36)\n",
      "\u001b[1;38;5;39mCOMET INFO:\u001b[0m     loss [729]         : (0.01610361412167549, 0.5533050298690796)\n",
      "\u001b[1;38;5;39mCOMET INFO:\u001b[0m     test_acc           : 0.7961647727272727\n",
      "\u001b[1;38;5;39mCOMET INFO:\u001b[0m     test_acc_target    : 0.6848958333333334\n",
      "\u001b[1;38;5;39mCOMET INFO:\u001b[0m     test_acc_target_2  : 0.7106617647058824\n",
      "\u001b[1;38;5;39mCOMET INFO:\u001b[0m     test_auc           : 0.8921614289283752\n",
      "\u001b[1;38;5;39mCOMET INFO:\u001b[0m     test_auc_target    : 0.786419153213501\n",
      "\u001b[1;38;5;39mCOMET INFO:\u001b[0m     test_auc_target_2  : 0.7521589994430542\n",
      "\u001b[1;38;5;39mCOMET INFO:\u001b[0m     test_loss          : 0.5985194616951048\n",
      "\u001b[1;38;5;39mCOMET INFO:\u001b[0m     test_loss_target   : 0.7650280045345426\n",
      "\u001b[1;38;5;39mCOMET INFO:\u001b[0m     test_loss_target_2 : 0.9203163840314921\n",
      "\u001b[1;38;5;39mCOMET INFO:\u001b[0m     train_acc [37]     : (0.525618654822335, 0.994368654822335)\n",
      "\u001b[1;38;5;39mCOMET INFO:\u001b[0m     train_auc [37]     : (0.5447940230369568, 0.9997886419296265)\n",
      "\u001b[1;38;5;39mCOMET INFO:\u001b[0m     train_loss [37]    : (0.028986239559986266, 0.505804835539784)\n",
      "\u001b[1;38;5;39mCOMET INFO:\u001b[0m     val_acc [37]       : (0.38125, 0.8559375)\n",
      "\u001b[1;38;5;39mCOMET INFO:\u001b[0m     val_auc [37]       : (0.5454216003417969, 0.901592493057251)\n",
      "\u001b[1;38;5;39mCOMET INFO:\u001b[0m     val_loss [37]      : (0.3755439406633377, 0.7599276154115796)\n",
      "\u001b[1;38;5;39mCOMET INFO:\u001b[0m   Others:\n",
      "\u001b[1;38;5;39mCOMET INFO:\u001b[0m     best_epoch             : 17\n",
      "\u001b[1;38;5;39mCOMET INFO:\u001b[0m     best_val_metric        : 0.901592493057251\n",
      "\u001b[1;38;5;39mCOMET INFO:\u001b[0m     optimizer_count        : 17\n",
      "\u001b[1;38;5;39mCOMET INFO:\u001b[0m     optimizer_id           : a6175d5da17447a2a07d393e335bcde5\n",
      "\u001b[1;38;5;39mCOMET INFO:\u001b[0m     optimizer_metric       : val_auc\n",
      "\u001b[1;38;5;39mCOMET INFO:\u001b[0m     optimizer_metric_value : 0.901592493057251\n",
      "\u001b[1;38;5;39mCOMET INFO:\u001b[0m     optimizer_name         : SOURCE_Siemens\n",
      "\u001b[1;38;5;39mCOMET INFO:\u001b[0m     optimizer_objective    : maximize\n",
      "\u001b[1;38;5;39mCOMET INFO:\u001b[0m     optimizer_parameters   : {\"batch_size\": 64, \"dropout\": 0.4, \"lr\": 0.0007, \"model\": \"DAMS\", \"momentum\": 0.9, \"seed\": 42, \"source\": \"Siemens\", \"target_1\": \"Philips\", \"target_2\": \"GE\", \"weight_decay\": 0.02}\n",
      "\u001b[1;38;5;39mCOMET INFO:\u001b[0m     optimizer_pid          : 1c8e3995e5ec94af5b173710901a77a5fd243965\n",
      "\u001b[1;38;5;39mCOMET INFO:\u001b[0m     optimizer_process      : 544623\n",
      "\u001b[1;38;5;39mCOMET INFO:\u001b[0m     optimizer_trial        : 1\n",
      "\u001b[1;38;5;39mCOMET INFO:\u001b[0m     optimizer_version      : 2.1.4\n",
      "\u001b[1;38;5;39mCOMET INFO:\u001b[0m   Parameters:\n",
      "\u001b[1;38;5;39mCOMET INFO:\u001b[0m     batch_size   : 64\n",
      "\u001b[1;38;5;39mCOMET INFO:\u001b[0m     dropout      : 0.4\n",
      "\u001b[1;38;5;39mCOMET INFO:\u001b[0m     lr           : 0.0007\n",
      "\u001b[1;38;5;39mCOMET INFO:\u001b[0m     model        : DAMS\n",
      "\u001b[1;38;5;39mCOMET INFO:\u001b[0m     momentum     : 0.9\n",
      "\u001b[1;38;5;39mCOMET INFO:\u001b[0m     pos_weight   : 0.576\n",
      "\u001b[1;38;5;39mCOMET INFO:\u001b[0m     seed         : 42\n",
      "\u001b[1;38;5;39mCOMET INFO:\u001b[0m     source       : Siemens\n",
      "\u001b[1;38;5;39mCOMET INFO:\u001b[0m     target_1     : Philips\n",
      "\u001b[1;38;5;39mCOMET INFO:\u001b[0m     target_2     : GE\n",
      "\u001b[1;38;5;39mCOMET INFO:\u001b[0m     weight_decay : 0.02\n",
      "\u001b[1;38;5;39mCOMET INFO:\u001b[0m   Uploads:\n",
      "\u001b[1;38;5;39mCOMET INFO:\u001b[0m     artifact assets              : 3 (21.76 KB)\n",
      "\u001b[1;38;5;39mCOMET INFO:\u001b[0m     artifacts                    : 3\n",
      "\u001b[1;38;5;39mCOMET INFO:\u001b[0m     conda-environment-definition : 1\n",
      "\u001b[1;38;5;39mCOMET INFO:\u001b[0m     conda-info                   : 1\n",
      "\u001b[1;38;5;39mCOMET INFO:\u001b[0m     conda-specification          : 1\n",
      "\u001b[1;38;5;39mCOMET INFO:\u001b[0m     environment details          : 1\n",
      "\u001b[1;38;5;39mCOMET INFO:\u001b[0m     filename                     : 1\n",
      "\u001b[1;38;5;39mCOMET INFO:\u001b[0m     git metadata                 : 1\n",
      "\u001b[1;38;5;39mCOMET INFO:\u001b[0m     git-patch (uncompressed)     : 1 (810.18 KB)\n",
      "\u001b[1;38;5;39mCOMET INFO:\u001b[0m     installed packages           : 1\n",
      "\u001b[1;38;5;39mCOMET INFO:\u001b[0m     model graph                  : 1\n",
      "\u001b[1;38;5;39mCOMET INFO:\u001b[0m     model-element                : 1 (183.72 MB)\n",
      "\u001b[1;38;5;39mCOMET INFO:\u001b[0m     notebook                     : 1\n",
      "\u001b[1;38;5;39mCOMET INFO:\u001b[0m     os packages                  : 1\n",
      "\u001b[1;38;5;39mCOMET INFO:\u001b[0m     source_code                  : 1\n",
      "\u001b[1;38;5;39mCOMET INFO:\u001b[0m \n",
      "\u001b[1;38;5;39mCOMET INFO:\u001b[0m Please wait for assets to finish uploading (timeout is 10800 seconds)\n",
      "\u001b[1;38;5;39mCOMET INFO:\u001b[0m Still uploading 1 file(s), remaining 103.72 MB/183.72 MB\n",
      "\u001b[1;38;5;214mCOMET WARNING:\u001b[0m As you are running in a Jupyter environment, you will need to call `experiment.end()` when finished to ensure all metrics and code are logged before exiting.\n",
      "\u001b[1;38;5;39mCOMET INFO:\u001b[0m Experiment is live on comet.com https://www.comet.com/derick-amontagna/adni1-s-siemens-dams-sgd-8/b8b99afa61e4472ca7506190a9bddc4c\n",
      "\n",
      "\u001b[1;38;5;39mCOMET INFO:\u001b[0m Artifact 'Engine' version 94.0.0 created (previous was: 93.0.0)\n"
     ]
    },
    {
     "name": "stdout",
     "output_type": "stream",
     "text": [
      "Treinando esse modelo: DAMS\n",
      "Treinando com o source: Siemens/target: Philips/GE\n"
     ]
    },
    {
     "name": "stderr",
     "output_type": "stream",
     "text": [
      "\u001b[1;38;5;39mCOMET INFO:\u001b[0m Scheduling the upload of 1 assets: 1 local assets for a size of 8.21 KB, and 0 remote assets (will be linked, not uploaded). This can take some time.\n",
      "\u001b[1;38;5;39mCOMET INFO:\u001b[0m Artifact 'derick-amontagna/Engine:94.0.0' has started uploading asynchronously\n",
      "\u001b[1;38;5;39mCOMET INFO:\u001b[0m Artifact 'Networks' version 94.0.0 created (previous was: 93.0.0)\n",
      "\u001b[1;38;5;39mCOMET INFO:\u001b[0m Scheduling the upload of 1 assets: 1 local assets for a size of 5.82 KB, and 0 remote assets (will be linked, not uploaded). This can take some time.\n",
      "\u001b[1;38;5;39mCOMET INFO:\u001b[0m Artifact 'derick-amontagna/Networks:94.0.0' has started uploading asynchronously\n",
      "\u001b[1;38;5;39mCOMET INFO:\u001b[0m Artifact 'DataSetup' version 96.0.0 created (previous was: 95.0.0)\n",
      "\u001b[1;38;5;39mCOMET INFO:\u001b[0m Scheduling the upload of 1 assets: 1 local assets for a size of 7.72 KB, and 0 remote assets (will be linked, not uploaded). This can take some time.\n",
      "\u001b[1;38;5;39mCOMET INFO:\u001b[0m Artifact 'derick-amontagna/DataSetup:96.0.0' has started uploading asynchronously\n"
     ]
    },
    {
     "name": "stdout",
     "output_type": "stream",
     "text": [
      "Loading Dataloader\n",
      "Use DAMS Basic\n",
      "Create model\n",
      "Start Train\n"
     ]
    },
    {
     "data": {
      "application/vnd.jupyter.widget-view+json": {
       "model_id": "433ec9369ddf4e1abef408f14595ee5a",
       "version_major": 2,
       "version_minor": 0
      },
      "text/plain": [
       "  0%|          | 0/50 [00:00<?, ?it/s]"
      ]
     },
     "metadata": {},
     "output_type": "display_data"
    },
    {
     "name": "stderr",
     "output_type": "stream",
     "text": [
      "/root/anaconda3/envs/lapixdl/lib/python3.11/site-packages/torchmetrics/utilities/prints.py:36: UserWarning: Metric `AUROC` will save all targets and predictions in buffer. For large datasets this may lead to large memory footprint.\n",
      "  warnings.warn(*args, **kwargs)\n",
      "\u001b[1;38;5;39mCOMET INFO:\u001b[0m Artifact 'derick-amontagna/Engine:94.0.0' has been fully uploaded successfully\n",
      "\u001b[1;38;5;39mCOMET INFO:\u001b[0m Artifact 'derick-amontagna/DataSetup:96.0.0' has been fully uploaded successfully\n",
      "\u001b[1;38;5;39mCOMET INFO:\u001b[0m Artifact 'derick-amontagna/Networks:94.0.0' has been fully uploaded successfully\n",
      "/root/anaconda3/envs/lapixdl/lib/python3.11/site-packages/torchmetrics/utilities/prints.py:36: UserWarning: Metric `AUROC` will save all targets and predictions in buffer. For large datasets this may lead to large memory footprint.\n",
      "  warnings.warn(*args, **kwargs)\n"
     ]
    },
    {
     "name": "stdout",
     "output_type": "stream",
     "text": [
      "terminating because of early stopping!\n",
      "Loaded model from epoch 9 with best validation auc: 0.87%\n",
      "DONE\n"
     ]
    },
    {
     "name": "stderr",
     "output_type": "stream",
     "text": [
      "\u001b[1;38;5;39mCOMET INFO:\u001b[0m ---------------------------------------------------------------------------------------\n",
      "\u001b[1;38;5;39mCOMET INFO:\u001b[0m Comet.ml Experiment Summary\n",
      "\u001b[1;38;5;39mCOMET INFO:\u001b[0m ---------------------------------------------------------------------------------------\n",
      "\u001b[1;38;5;39mCOMET INFO:\u001b[0m   Data:\n",
      "\u001b[1;38;5;39mCOMET INFO:\u001b[0m     display_summary_level : 1\n",
      "\u001b[1;38;5;39mCOMET INFO:\u001b[0m     name                  : divine_gecko_9561\n",
      "\u001b[1;38;5;39mCOMET INFO:\u001b[0m     url                   : https://www.comet.com/derick-amontagna/adni1-s-siemens-dams-sgd-8/b8b99afa61e4472ca7506190a9bddc4c\n",
      "\u001b[1;38;5;39mCOMET INFO:\u001b[0m   Metrics [count] (min, max):\n",
      "\u001b[1;38;5;39mCOMET INFO:\u001b[0m     epoch [29]         : (0, 28)\n",
      "\u001b[1;38;5;39mCOMET INFO:\u001b[0m     loss [572]         : (0.02683013305068016, 0.5539950132369995)\n",
      "\u001b[1;38;5;39mCOMET INFO:\u001b[0m     test_acc           : 0.7566287878787878\n",
      "\u001b[1;38;5;39mCOMET INFO:\u001b[0m     test_acc_target    : 0.7526041666666666\n",
      "\u001b[1;38;5;39mCOMET INFO:\u001b[0m     test_acc_target_2  : 0.6856617647058824\n",
      "\u001b[1;38;5;39mCOMET INFO:\u001b[0m     test_auc           : 0.789188027381897\n",
      "\u001b[1;38;5;39mCOMET INFO:\u001b[0m     test_auc_target    : 0.8216818571090698\n",
      "\u001b[1;38;5;39mCOMET INFO:\u001b[0m     test_auc_target_2  : 0.7248818874359131\n",
      "\u001b[1;38;5;39mCOMET INFO:\u001b[0m     test_loss          : 0.48025859384374187\n",
      "\u001b[1;38;5;39mCOMET INFO:\u001b[0m     test_loss_target   : 0.39167314022779465\n",
      "\u001b[1;38;5;39mCOMET INFO:\u001b[0m     test_loss_target_2 : 0.576592519966995\n",
      "\u001b[1;38;5;39mCOMET INFO:\u001b[0m     train_acc [29]     : (0.5244289340101523, 0.9899270304568528)\n",
      "\u001b[1;38;5;39mCOMET INFO:\u001b[0m     train_auc [29]     : (0.5445204377174377, 0.9994422793388367)\n",
      "\u001b[1;38;5;39mCOMET INFO:\u001b[0m     train_loss [29]    : (0.045765488980536534, 0.5056520515892107)\n",
      "\u001b[1;38;5;39mCOMET INFO:\u001b[0m     val_acc [29]       : (0.3796875, 0.86375)\n",
      "\u001b[1;38;5;39mCOMET INFO:\u001b[0m     val_auc [29]       : (0.5165263414382935, 0.8745096325874329)\n",
      "\u001b[1;38;5;39mCOMET INFO:\u001b[0m     val_loss [29]      : (0.40574420724064114, 0.882661706469953)\n",
      "\u001b[1;38;5;39mCOMET INFO:\u001b[0m   Others:\n",
      "\u001b[1;38;5;39mCOMET INFO:\u001b[0m     best_epoch             : 9\n",
      "\u001b[1;38;5;39mCOMET INFO:\u001b[0m     best_val_metric        : 0.8745096325874329\n",
      "\u001b[1;38;5;39mCOMET INFO:\u001b[0m     optimizer_count        : 18\n",
      "\u001b[1;38;5;39mCOMET INFO:\u001b[0m     optimizer_id           : a6175d5da17447a2a07d393e335bcde5\n",
      "\u001b[1;38;5;39mCOMET INFO:\u001b[0m     optimizer_metric       : val_auc\n",
      "\u001b[1;38;5;39mCOMET INFO:\u001b[0m     optimizer_metric_value : 0.8745096325874329\n",
      "\u001b[1;38;5;39mCOMET INFO:\u001b[0m     optimizer_name         : SOURCE_Siemens\n",
      "\u001b[1;38;5;39mCOMET INFO:\u001b[0m     optimizer_objective    : maximize\n",
      "\u001b[1;38;5;39mCOMET INFO:\u001b[0m     optimizer_parameters   : {\"batch_size\": 64, \"dropout\": 0.4, \"lr\": 0.0007, \"model\": \"DAMS\", \"momentum\": 0.9, \"seed\": 42, \"source\": \"Siemens\", \"target_1\": \"Philips\", \"target_2\": \"GE\", \"weight_decay\": 0.03}\n",
      "\u001b[1;38;5;39mCOMET INFO:\u001b[0m     optimizer_pid          : 3597e92985f892e27b5f05bf8a92d0192575a197\n",
      "\u001b[1;38;5;39mCOMET INFO:\u001b[0m     optimizer_process      : 544623\n",
      "\u001b[1;38;5;39mCOMET INFO:\u001b[0m     optimizer_trial        : 1\n",
      "\u001b[1;38;5;39mCOMET INFO:\u001b[0m     optimizer_version      : 2.1.4\n",
      "\u001b[1;38;5;39mCOMET INFO:\u001b[0m   Parameters:\n",
      "\u001b[1;38;5;39mCOMET INFO:\u001b[0m     batch_size   : 64\n",
      "\u001b[1;38;5;39mCOMET INFO:\u001b[0m     dropout      : 0.4\n",
      "\u001b[1;38;5;39mCOMET INFO:\u001b[0m     lr           : 0.0007\n",
      "\u001b[1;38;5;39mCOMET INFO:\u001b[0m     model        : DAMS\n",
      "\u001b[1;38;5;39mCOMET INFO:\u001b[0m     momentum     : 0.9\n",
      "\u001b[1;38;5;39mCOMET INFO:\u001b[0m     pos_weight   : 0.576\n",
      "\u001b[1;38;5;39mCOMET INFO:\u001b[0m     seed         : 42\n",
      "\u001b[1;38;5;39mCOMET INFO:\u001b[0m     source       : Siemens\n",
      "\u001b[1;38;5;39mCOMET INFO:\u001b[0m     target_1     : Philips\n",
      "\u001b[1;38;5;39mCOMET INFO:\u001b[0m     target_2     : GE\n",
      "\u001b[1;38;5;39mCOMET INFO:\u001b[0m     weight_decay : 0.03\n",
      "\u001b[1;38;5;39mCOMET INFO:\u001b[0m   Uploads:\n",
      "\u001b[1;38;5;39mCOMET INFO:\u001b[0m     artifact assets              : 3 (21.76 KB)\n",
      "\u001b[1;38;5;39mCOMET INFO:\u001b[0m     artifacts                    : 3\n",
      "\u001b[1;38;5;39mCOMET INFO:\u001b[0m     conda-environment-definition : 1\n",
      "\u001b[1;38;5;39mCOMET INFO:\u001b[0m     conda-info                   : 1\n",
      "\u001b[1;38;5;39mCOMET INFO:\u001b[0m     conda-specification          : 1\n",
      "\u001b[1;38;5;39mCOMET INFO:\u001b[0m     environment details          : 1\n",
      "\u001b[1;38;5;39mCOMET INFO:\u001b[0m     filename                     : 1\n",
      "\u001b[1;38;5;39mCOMET INFO:\u001b[0m     git metadata                 : 1\n",
      "\u001b[1;38;5;39mCOMET INFO:\u001b[0m     git-patch (uncompressed)     : 1 (820.59 KB)\n",
      "\u001b[1;38;5;39mCOMET INFO:\u001b[0m     installed packages           : 1\n",
      "\u001b[1;38;5;39mCOMET INFO:\u001b[0m     model graph                  : 1\n",
      "\u001b[1;38;5;39mCOMET INFO:\u001b[0m     model-element                : 1 (183.72 MB)\n",
      "\u001b[1;38;5;39mCOMET INFO:\u001b[0m     notebook                     : 1\n",
      "\u001b[1;38;5;39mCOMET INFO:\u001b[0m     os packages                  : 1\n",
      "\u001b[1;38;5;39mCOMET INFO:\u001b[0m     source_code                  : 1\n",
      "\u001b[1;38;5;39mCOMET INFO:\u001b[0m \n",
      "\u001b[1;38;5;39mCOMET INFO:\u001b[0m Uploading 76 metrics, params and output messages\n",
      "\u001b[1;38;5;39mCOMET INFO:\u001b[0m Please wait for assets to finish uploading (timeout is 10800 seconds)\n",
      "\u001b[1;38;5;39mCOMET INFO:\u001b[0m Still uploading 1 file(s), remaining 148.72 MB/183.72 MB\n",
      "\u001b[1;38;5;214mCOMET WARNING:\u001b[0m As you are running in a Jupyter environment, you will need to call `experiment.end()` when finished to ensure all metrics and code are logged before exiting.\n",
      "\u001b[1;38;5;39mCOMET INFO:\u001b[0m Experiment is live on comet.com https://www.comet.com/derick-amontagna/adni1-s-siemens-dams-sgd-8/296b0ca187be4fd8bab57f5c4e017149\n",
      "\n",
      "\u001b[1;38;5;39mCOMET INFO:\u001b[0m Artifact 'Engine' version 95.0.0 created (previous was: 94.0.0)\n"
     ]
    },
    {
     "name": "stdout",
     "output_type": "stream",
     "text": [
      "Treinando esse modelo: DAMS\n",
      "Treinando com o source: Siemens/target: Philips/GE\n"
     ]
    },
    {
     "name": "stderr",
     "output_type": "stream",
     "text": [
      "\u001b[1;38;5;39mCOMET INFO:\u001b[0m Scheduling the upload of 1 assets: 1 local assets for a size of 8.21 KB, and 0 remote assets (will be linked, not uploaded). This can take some time.\n",
      "\u001b[1;38;5;39mCOMET INFO:\u001b[0m Artifact 'derick-amontagna/Engine:95.0.0' has started uploading asynchronously\n",
      "\u001b[1;38;5;39mCOMET INFO:\u001b[0m Artifact 'Networks' version 95.0.0 created (previous was: 94.0.0)\n",
      "\u001b[1;38;5;39mCOMET INFO:\u001b[0m Scheduling the upload of 1 assets: 1 local assets for a size of 5.82 KB, and 0 remote assets (will be linked, not uploaded). This can take some time.\n",
      "\u001b[1;38;5;39mCOMET INFO:\u001b[0m Artifact 'derick-amontagna/Networks:95.0.0' has started uploading asynchronously\n",
      "\u001b[1;38;5;39mCOMET INFO:\u001b[0m Artifact 'DataSetup' version 97.0.0 created (previous was: 96.0.0)\n",
      "\u001b[1;38;5;39mCOMET INFO:\u001b[0m Scheduling the upload of 1 assets: 1 local assets for a size of 7.72 KB, and 0 remote assets (will be linked, not uploaded). This can take some time.\n",
      "\u001b[1;38;5;39mCOMET INFO:\u001b[0m Artifact 'derick-amontagna/DataSetup:97.0.0' has started uploading asynchronously\n"
     ]
    },
    {
     "name": "stdout",
     "output_type": "stream",
     "text": [
      "Loading Dataloader\n",
      "Use DAMS Basic\n",
      "Create model\n",
      "Start Train\n"
     ]
    },
    {
     "data": {
      "application/vnd.jupyter.widget-view+json": {
       "model_id": "f6b14f2567eb421d8a7704419f4aefeb",
       "version_major": 2,
       "version_minor": 0
      },
      "text/plain": [
       "  0%|          | 0/50 [00:00<?, ?it/s]"
      ]
     },
     "metadata": {},
     "output_type": "display_data"
    },
    {
     "name": "stderr",
     "output_type": "stream",
     "text": [
      "/root/anaconda3/envs/lapixdl/lib/python3.11/site-packages/torchmetrics/utilities/prints.py:36: UserWarning: Metric `AUROC` will save all targets and predictions in buffer. For large datasets this may lead to large memory footprint.\n",
      "  warnings.warn(*args, **kwargs)\n",
      "\u001b[1;38;5;39mCOMET INFO:\u001b[0m Artifact 'derick-amontagna/DataSetup:97.0.0' has been fully uploaded successfully\n",
      "\u001b[1;38;5;39mCOMET INFO:\u001b[0m Artifact 'derick-amontagna/Networks:95.0.0' has been fully uploaded successfully\n",
      "\u001b[1;38;5;39mCOMET INFO:\u001b[0m Artifact 'derick-amontagna/Engine:95.0.0' has been fully uploaded successfully\n",
      "/root/anaconda3/envs/lapixdl/lib/python3.11/site-packages/torchmetrics/utilities/prints.py:36: UserWarning: Metric `AUROC` will save all targets and predictions in buffer. For large datasets this may lead to large memory footprint.\n",
      "  warnings.warn(*args, **kwargs)\n"
     ]
    },
    {
     "name": "stdout",
     "output_type": "stream",
     "text": [
      "terminating because of early stopping!\n",
      "Loaded model from epoch 30 with best validation auc: 0.95%\n",
      "DONE\n"
     ]
    },
    {
     "name": "stderr",
     "output_type": "stream",
     "text": [
      "\u001b[1;38;5;39mCOMET INFO:\u001b[0m ---------------------------------------------------------------------------------------\n",
      "\u001b[1;38;5;39mCOMET INFO:\u001b[0m Comet.ml Experiment Summary\n",
      "\u001b[1;38;5;39mCOMET INFO:\u001b[0m ---------------------------------------------------------------------------------------\n",
      "\u001b[1;38;5;39mCOMET INFO:\u001b[0m   Data:\n",
      "\u001b[1;38;5;39mCOMET INFO:\u001b[0m     display_summary_level : 1\n",
      "\u001b[1;38;5;39mCOMET INFO:\u001b[0m     name                  : skilled_honeydew_6314\n",
      "\u001b[1;38;5;39mCOMET INFO:\u001b[0m     url                   : https://www.comet.com/derick-amontagna/adni1-s-siemens-dams-sgd-8/296b0ca187be4fd8bab57f5c4e017149\n",
      "\u001b[1;38;5;39mCOMET INFO:\u001b[0m   Metrics [count] (min, max):\n",
      "\u001b[1;38;5;39mCOMET INFO:\u001b[0m     epoch [50]         : (0, 49)\n",
      "\u001b[1;38;5;39mCOMET INFO:\u001b[0m     loss [3940]        : (0.02672687917947769, 0.8742678761482239)\n",
      "\u001b[1;38;5;39mCOMET INFO:\u001b[0m     test_acc           : 0.8160782442748091\n",
      "\u001b[1;38;5;39mCOMET INFO:\u001b[0m     test_acc_target    : 0.7317708333333334\n",
      "\u001b[1;38;5;39mCOMET INFO:\u001b[0m     test_acc_target_2  : 0.7320636094674556\n",
      "\u001b[1;38;5;39mCOMET INFO:\u001b[0m     test_auc           : 0.8774360418319702\n",
      "\u001b[1;38;5;39mCOMET INFO:\u001b[0m     test_auc_target    : 0.778083086013794\n",
      "\u001b[1;38;5;39mCOMET INFO:\u001b[0m     test_auc_target_2  : 0.7951359152793884\n",
      "\u001b[1;38;5;39mCOMET INFO:\u001b[0m     test_loss          : 0.33604894641019006\n",
      "\u001b[1;38;5;39mCOMET INFO:\u001b[0m     test_loss_target   : 0.5200599962845445\n",
      "\u001b[1;38;5;39mCOMET INFO:\u001b[0m     test_loss_target_2 : 0.4471040067411739\n",
      "\u001b[1;38;5;39mCOMET INFO:\u001b[0m     train_acc [50]     : (0.6019194162436549, 0.975253807106599)\n",
      "\u001b[1;38;5;39mCOMET INFO:\u001b[0m     train_auc [50]     : (0.6408944725990295, 0.9964314103126526)\n",
      "\u001b[1;38;5;39mCOMET INFO:\u001b[0m     train_loss [50]    : (0.07555665044577291, 0.4871617689880018)\n",
      "\u001b[1;38;5;39mCOMET INFO:\u001b[0m     val_acc [50]       : (0.3859375, 0.88)\n",
      "\u001b[1;38;5;39mCOMET INFO:\u001b[0m     val_auc [50]       : (0.5516899824142456, 0.9522901773452759)\n",
      "\u001b[1;38;5;39mCOMET INFO:\u001b[0m     val_loss [50]      : (0.22518961446359753, 1.352188858166337)\n",
      "\u001b[1;38;5;39mCOMET INFO:\u001b[0m   Others:\n",
      "\u001b[1;38;5;39mCOMET INFO:\u001b[0m     best_epoch             : 30\n",
      "\u001b[1;38;5;39mCOMET INFO:\u001b[0m     best_val_metric        : 0.9522901773452759\n",
      "\u001b[1;38;5;39mCOMET INFO:\u001b[0m     optimizer_count        : 19\n",
      "\u001b[1;38;5;39mCOMET INFO:\u001b[0m     optimizer_id           : a6175d5da17447a2a07d393e335bcde5\n",
      "\u001b[1;38;5;39mCOMET INFO:\u001b[0m     optimizer_metric       : val_auc\n",
      "\u001b[1;38;5;39mCOMET INFO:\u001b[0m     optimizer_metric_value : 0.9522901773452759\n",
      "\u001b[1;38;5;39mCOMET INFO:\u001b[0m     optimizer_name         : SOURCE_Siemens\n",
      "\u001b[1;38;5;39mCOMET INFO:\u001b[0m     optimizer_objective    : maximize\n",
      "\u001b[1;38;5;39mCOMET INFO:\u001b[0m     optimizer_parameters   : {\"batch_size\": 16, \"dropout\": 0.2, \"lr\": 0.0009, \"model\": \"DAMS\", \"momentum\": 0.9, \"seed\": 42, \"source\": \"Siemens\", \"target_1\": \"Philips\", \"target_2\": \"GE\", \"weight_decay\": 0.02}\n",
      "\u001b[1;38;5;39mCOMET INFO:\u001b[0m     optimizer_pid          : e23b4294414e95e291d15ec8e0ac5fb5cafe8c6d\n",
      "\u001b[1;38;5;39mCOMET INFO:\u001b[0m     optimizer_process      : 544623\n",
      "\u001b[1;38;5;39mCOMET INFO:\u001b[0m     optimizer_trial        : 1\n",
      "\u001b[1;38;5;39mCOMET INFO:\u001b[0m     optimizer_version      : 2.1.4\n",
      "\u001b[1;38;5;39mCOMET INFO:\u001b[0m   Parameters:\n",
      "\u001b[1;38;5;39mCOMET INFO:\u001b[0m     batch_size   : 16\n",
      "\u001b[1;38;5;39mCOMET INFO:\u001b[0m     dropout      : 0.2\n",
      "\u001b[1;38;5;39mCOMET INFO:\u001b[0m     lr           : 0.0009\n",
      "\u001b[1;38;5;39mCOMET INFO:\u001b[0m     model        : DAMS\n",
      "\u001b[1;38;5;39mCOMET INFO:\u001b[0m     momentum     : 0.9\n",
      "\u001b[1;38;5;39mCOMET INFO:\u001b[0m     pos_weight   : 0.576\n",
      "\u001b[1;38;5;39mCOMET INFO:\u001b[0m     seed         : 42\n",
      "\u001b[1;38;5;39mCOMET INFO:\u001b[0m     source       : Siemens\n",
      "\u001b[1;38;5;39mCOMET INFO:\u001b[0m     target_1     : Philips\n",
      "\u001b[1;38;5;39mCOMET INFO:\u001b[0m     target_2     : GE\n",
      "\u001b[1;38;5;39mCOMET INFO:\u001b[0m     weight_decay : 0.02\n",
      "\u001b[1;38;5;39mCOMET INFO:\u001b[0m   Uploads:\n",
      "\u001b[1;38;5;39mCOMET INFO:\u001b[0m     artifact assets              : 3 (21.76 KB)\n",
      "\u001b[1;38;5;39mCOMET INFO:\u001b[0m     artifacts                    : 3\n",
      "\u001b[1;38;5;39mCOMET INFO:\u001b[0m     conda-environment-definition : 1\n",
      "\u001b[1;38;5;39mCOMET INFO:\u001b[0m     conda-info                   : 1\n",
      "\u001b[1;38;5;39mCOMET INFO:\u001b[0m     conda-specification          : 1\n",
      "\u001b[1;38;5;39mCOMET INFO:\u001b[0m     environment details          : 1\n",
      "\u001b[1;38;5;39mCOMET INFO:\u001b[0m     filename                     : 1\n",
      "\u001b[1;38;5;39mCOMET INFO:\u001b[0m     git metadata                 : 1\n",
      "\u001b[1;38;5;39mCOMET INFO:\u001b[0m     git-patch (uncompressed)     : 1 (831.10 KB)\n",
      "\u001b[1;38;5;39mCOMET INFO:\u001b[0m     installed packages           : 1\n",
      "\u001b[1;38;5;39mCOMET INFO:\u001b[0m     model graph                  : 1\n",
      "\u001b[1;38;5;39mCOMET INFO:\u001b[0m     model-element                : 1 (183.72 MB)\n",
      "\u001b[1;38;5;39mCOMET INFO:\u001b[0m     notebook                     : 1\n",
      "\u001b[1;38;5;39mCOMET INFO:\u001b[0m     os packages                  : 1\n",
      "\u001b[1;38;5;39mCOMET INFO:\u001b[0m     source_code                  : 1\n",
      "\u001b[1;38;5;39mCOMET INFO:\u001b[0m \n",
      "\u001b[1;38;5;39mCOMET INFO:\u001b[0m Please wait for assets to finish uploading (timeout is 10800 seconds)\n",
      "\u001b[1;38;5;39mCOMET INFO:\u001b[0m Still uploading 1 file(s), remaining 93.72 MB/183.72 MB\n",
      "\u001b[1;38;5;214mCOMET WARNING:\u001b[0m As you are running in a Jupyter environment, you will need to call `experiment.end()` when finished to ensure all metrics and code are logged before exiting.\n",
      "\u001b[1;38;5;39mCOMET INFO:\u001b[0m Experiment is live on comet.com https://www.comet.com/derick-amontagna/adni1-s-siemens-dams-sgd-8/83d311766ef949558a76a8c65c37da47\n",
      "\n"
     ]
    },
    {
     "name": "stdout",
     "output_type": "stream",
     "text": [
      "Treinando esse modelo: DAMS\n",
      "Treinando com o source: Siemens/target: Philips/GE\n"
     ]
    },
    {
     "name": "stderr",
     "output_type": "stream",
     "text": [
      "\u001b[1;38;5;39mCOMET INFO:\u001b[0m Artifact 'Engine' version 96.0.0 created (previous was: 95.0.0)\n",
      "\u001b[1;38;5;39mCOMET INFO:\u001b[0m Scheduling the upload of 1 assets: 1 local assets for a size of 8.21 KB, and 0 remote assets (will be linked, not uploaded). This can take some time.\n",
      "\u001b[1;38;5;39mCOMET INFO:\u001b[0m Artifact 'derick-amontagna/Engine:96.0.0' has started uploading asynchronously\n",
      "\u001b[1;38;5;39mCOMET INFO:\u001b[0m Artifact 'Networks' version 96.0.0 created (previous was: 95.0.0)\n",
      "\u001b[1;38;5;39mCOMET INFO:\u001b[0m Scheduling the upload of 1 assets: 1 local assets for a size of 5.82 KB, and 0 remote assets (will be linked, not uploaded). This can take some time.\n",
      "\u001b[1;38;5;39mCOMET INFO:\u001b[0m Artifact 'derick-amontagna/Networks:96.0.0' has started uploading asynchronously\n",
      "\u001b[1;38;5;39mCOMET INFO:\u001b[0m Artifact 'DataSetup' version 98.0.0 created (previous was: 97.0.0)\n",
      "\u001b[1;38;5;39mCOMET INFO:\u001b[0m Scheduling the upload of 1 assets: 1 local assets for a size of 7.72 KB, and 0 remote assets (will be linked, not uploaded). This can take some time.\n",
      "\u001b[1;38;5;39mCOMET INFO:\u001b[0m Artifact 'derick-amontagna/DataSetup:98.0.0' has started uploading asynchronously\n"
     ]
    },
    {
     "name": "stdout",
     "output_type": "stream",
     "text": [
      "Loading Dataloader\n",
      "Use DAMS Basic\n",
      "Create model\n",
      "Start Train\n"
     ]
    },
    {
     "data": {
      "application/vnd.jupyter.widget-view+json": {
       "model_id": "72466db3363341a49f197ba92e7aa35e",
       "version_major": 2,
       "version_minor": 0
      },
      "text/plain": [
       "  0%|          | 0/50 [00:00<?, ?it/s]"
      ]
     },
     "metadata": {},
     "output_type": "display_data"
    },
    {
     "name": "stderr",
     "output_type": "stream",
     "text": [
      "/root/anaconda3/envs/lapixdl/lib/python3.11/site-packages/torchmetrics/utilities/prints.py:36: UserWarning: Metric `AUROC` will save all targets and predictions in buffer. For large datasets this may lead to large memory footprint.\n",
      "  warnings.warn(*args, **kwargs)\n",
      "\u001b[1;38;5;39mCOMET INFO:\u001b[0m Artifact 'derick-amontagna/Engine:96.0.0' has been fully uploaded successfully\n",
      "\u001b[1;38;5;39mCOMET INFO:\u001b[0m Artifact 'derick-amontagna/DataSetup:98.0.0' has been fully uploaded successfully\n",
      "\u001b[1;38;5;39mCOMET INFO:\u001b[0m Artifact 'derick-amontagna/Networks:96.0.0' has been fully uploaded successfully\n",
      "\u001b[1;38;5;39mCOMET INFO:\u001b[0m Artifact 'derick-amontagna/DataSetup:98.0.0' has been fully uploaded successfully\n"
     ]
    },
    {
     "name": "stdout",
     "output_type": "stream",
     "text": [
      "terminating because of early stopping!\n",
      "Loaded model from epoch 30 with best validation auc: 0.96%\n",
      "DONE\n"
     ]
    },
    {
     "name": "stderr",
     "output_type": "stream",
     "text": [
      "\u001b[1;38;5;39mCOMET INFO:\u001b[0m ---------------------------------------------------------------------------------------\n",
      "\u001b[1;38;5;39mCOMET INFO:\u001b[0m Comet.ml Experiment Summary\n",
      "\u001b[1;38;5;39mCOMET INFO:\u001b[0m ---------------------------------------------------------------------------------------\n",
      "\u001b[1;38;5;39mCOMET INFO:\u001b[0m   Data:\n",
      "\u001b[1;38;5;39mCOMET INFO:\u001b[0m     display_summary_level : 1\n",
      "\u001b[1;38;5;39mCOMET INFO:\u001b[0m     name                  : awake_fish_148\n",
      "\u001b[1;38;5;39mCOMET INFO:\u001b[0m     url                   : https://www.comet.com/derick-amontagna/adni1-s-siemens-dams-sgd-8/83d311766ef949558a76a8c65c37da47\n",
      "\u001b[1;38;5;39mCOMET INFO:\u001b[0m   Metrics [count] (min, max):\n",
      "\u001b[1;38;5;39mCOMET INFO:\u001b[0m     epoch [50]         : (0, 49)\n",
      "\u001b[1;38;5;39mCOMET INFO:\u001b[0m     loss [3940]        : (0.0431482195854187, 0.8231412172317505)\n",
      "\u001b[1;38;5;39mCOMET INFO:\u001b[0m     test_acc           : 0.8552003816793893\n",
      "\u001b[1;38;5;39mCOMET INFO:\u001b[0m     test_acc_target    : 0.75390625\n",
      "\u001b[1;38;5;39mCOMET INFO:\u001b[0m     test_acc_target_2  : 0.7568417159763313\n",
      "\u001b[1;38;5;39mCOMET INFO:\u001b[0m     test_auc           : 0.897160530090332\n",
      "\u001b[1;38;5;39mCOMET INFO:\u001b[0m     test_auc_target    : 0.8110694289207458\n",
      "\u001b[1;38;5;39mCOMET INFO:\u001b[0m     test_auc_target_2  : 0.8144439458847046\n",
      "\u001b[1;38;5;39mCOMET INFO:\u001b[0m     test_loss          : 0.2769850801022453\n",
      "\u001b[1;38;5;39mCOMET INFO:\u001b[0m     test_loss_target   : 0.47520771180279553\n",
      "\u001b[1;38;5;39mCOMET INFO:\u001b[0m     test_loss_target_2 : 0.44175624660045437\n",
      "\u001b[1;38;5;39mCOMET INFO:\u001b[0m     train_acc [50]     : (0.605488578680203, 0.9582804568527918)\n",
      "\u001b[1;38;5;39mCOMET INFO:\u001b[0m     train_auc [50]     : (0.6451217532157898, 0.9915614724159241)\n",
      "\u001b[1;38;5;39mCOMET INFO:\u001b[0m     train_loss [50]    : (0.1097240814901321, 0.48636263998480617)\n",
      "\u001b[1;38;5;39mCOMET INFO:\u001b[0m     val_acc [50]       : (0.3878125, 0.8875)\n",
      "\u001b[1;38;5;39mCOMET INFO:\u001b[0m     val_auc [50]       : (0.7762026786804199, 0.9643969535827637)\n",
      "\u001b[1;38;5;39mCOMET INFO:\u001b[0m     val_loss [50]      : (0.22208155596628784, 1.049219468217343)\n",
      "\u001b[1;38;5;39mCOMET INFO:\u001b[0m   Others:\n",
      "\u001b[1;38;5;39mCOMET INFO:\u001b[0m     best_epoch             : 30\n",
      "\u001b[1;38;5;39mCOMET INFO:\u001b[0m     best_val_metric        : 0.9643969535827637\n",
      "\u001b[1;38;5;39mCOMET INFO:\u001b[0m     optimizer_count        : 20\n",
      "\u001b[1;38;5;39mCOMET INFO:\u001b[0m     optimizer_id           : a6175d5da17447a2a07d393e335bcde5\n",
      "\u001b[1;38;5;39mCOMET INFO:\u001b[0m     optimizer_metric       : val_auc\n",
      "\u001b[1;38;5;39mCOMET INFO:\u001b[0m     optimizer_metric_value : 0.9643969535827637\n",
      "\u001b[1;38;5;39mCOMET INFO:\u001b[0m     optimizer_name         : SOURCE_Siemens\n",
      "\u001b[1;38;5;39mCOMET INFO:\u001b[0m     optimizer_objective    : maximize\n",
      "\u001b[1;38;5;39mCOMET INFO:\u001b[0m     optimizer_parameters   : {\"batch_size\": 16, \"dropout\": 0.2, \"lr\": 0.0009, \"model\": \"DAMS\", \"momentum\": 0.9, \"seed\": 42, \"source\": \"Siemens\", \"target_1\": \"Philips\", \"target_2\": \"GE\", \"weight_decay\": 0.03}\n",
      "\u001b[1;38;5;39mCOMET INFO:\u001b[0m     optimizer_pid          : cf91ff5b8a5225908e644dc83ec45b6aefe82fcd\n",
      "\u001b[1;38;5;39mCOMET INFO:\u001b[0m     optimizer_process      : 544623\n",
      "\u001b[1;38;5;39mCOMET INFO:\u001b[0m     optimizer_trial        : 1\n",
      "\u001b[1;38;5;39mCOMET INFO:\u001b[0m     optimizer_version      : 2.1.4\n",
      "\u001b[1;38;5;39mCOMET INFO:\u001b[0m   Parameters:\n",
      "\u001b[1;38;5;39mCOMET INFO:\u001b[0m     batch_size   : 16\n",
      "\u001b[1;38;5;39mCOMET INFO:\u001b[0m     dropout      : 0.2\n",
      "\u001b[1;38;5;39mCOMET INFO:\u001b[0m     lr           : 0.0009\n",
      "\u001b[1;38;5;39mCOMET INFO:\u001b[0m     model        : DAMS\n",
      "\u001b[1;38;5;39mCOMET INFO:\u001b[0m     momentum     : 0.9\n",
      "\u001b[1;38;5;39mCOMET INFO:\u001b[0m     pos_weight   : 0.576\n",
      "\u001b[1;38;5;39mCOMET INFO:\u001b[0m     seed         : 42\n",
      "\u001b[1;38;5;39mCOMET INFO:\u001b[0m     source       : Siemens\n",
      "\u001b[1;38;5;39mCOMET INFO:\u001b[0m     target_1     : Philips\n",
      "\u001b[1;38;5;39mCOMET INFO:\u001b[0m     target_2     : GE\n",
      "\u001b[1;38;5;39mCOMET INFO:\u001b[0m     weight_decay : 0.03\n",
      "\u001b[1;38;5;39mCOMET INFO:\u001b[0m   Uploads:\n",
      "\u001b[1;38;5;39mCOMET INFO:\u001b[0m     artifact assets              : 3 (21.76 KB)\n",
      "\u001b[1;38;5;39mCOMET INFO:\u001b[0m     artifacts                    : 3\n",
      "\u001b[1;38;5;39mCOMET INFO:\u001b[0m     conda-environment-definition : 1\n",
      "\u001b[1;38;5;39mCOMET INFO:\u001b[0m     conda-info                   : 1\n",
      "\u001b[1;38;5;39mCOMET INFO:\u001b[0m     conda-specification          : 1\n",
      "\u001b[1;38;5;39mCOMET INFO:\u001b[0m     environment details          : 1\n",
      "\u001b[1;38;5;39mCOMET INFO:\u001b[0m     filename                     : 1\n",
      "\u001b[1;38;5;39mCOMET INFO:\u001b[0m     git metadata                 : 1\n",
      "\u001b[1;38;5;39mCOMET INFO:\u001b[0m     git-patch (uncompressed)     : 1 (841.30 KB)\n",
      "\u001b[1;38;5;39mCOMET INFO:\u001b[0m     installed packages           : 1\n",
      "\u001b[1;38;5;39mCOMET INFO:\u001b[0m     model graph                  : 1\n",
      "\u001b[1;38;5;39mCOMET INFO:\u001b[0m     model-element                : 1 (183.72 MB)\n",
      "\u001b[1;38;5;39mCOMET INFO:\u001b[0m     notebook                     : 1\n",
      "\u001b[1;38;5;39mCOMET INFO:\u001b[0m     os packages                  : 1\n",
      "\u001b[1;38;5;39mCOMET INFO:\u001b[0m     source_code                  : 1\n",
      "\u001b[1;38;5;39mCOMET INFO:\u001b[0m \n",
      "\u001b[1;38;5;39mCOMET INFO:\u001b[0m Uploading 70 metrics, params and output messages\n",
      "\u001b[1;38;5;39mCOMET INFO:\u001b[0m Please wait for assets to finish uploading (timeout is 10800 seconds)\n",
      "\u001b[1;38;5;39mCOMET INFO:\u001b[0m Still uploading 1 file(s), remaining 93.72 MB/183.72 MB\n",
      "\u001b[1;38;5;214mCOMET WARNING:\u001b[0m As you are running in a Jupyter environment, you will need to call `experiment.end()` when finished to ensure all metrics and code are logged before exiting.\n",
      "\u001b[1;38;5;39mCOMET INFO:\u001b[0m Experiment is live on comet.com https://www.comet.com/derick-amontagna/adni1-s-siemens-dams-sgd-8/0b2917b42cf545d692754b3d4bc5f391\n",
      "\n",
      "\u001b[1;38;5;39mCOMET INFO:\u001b[0m Artifact 'Engine' version 97.0.0 created (previous was: 96.0.0)\n"
     ]
    },
    {
     "name": "stdout",
     "output_type": "stream",
     "text": [
      "Treinando esse modelo: DAMS\n",
      "Treinando com o source: Siemens/target: Philips/GE\n"
     ]
    },
    {
     "name": "stderr",
     "output_type": "stream",
     "text": [
      "\u001b[1;38;5;39mCOMET INFO:\u001b[0m Scheduling the upload of 1 assets: 1 local assets for a size of 8.21 KB, and 0 remote assets (will be linked, not uploaded). This can take some time.\n",
      "\u001b[1;38;5;39mCOMET INFO:\u001b[0m Artifact 'derick-amontagna/Engine:97.0.0' has started uploading asynchronously\n",
      "\u001b[1;38;5;39mCOMET INFO:\u001b[0m Artifact 'Networks' version 97.0.0 created (previous was: 96.0.0)\n",
      "\u001b[1;38;5;39mCOMET INFO:\u001b[0m Scheduling the upload of 1 assets: 1 local assets for a size of 5.82 KB, and 0 remote assets (will be linked, not uploaded). This can take some time.\n",
      "\u001b[1;38;5;39mCOMET INFO:\u001b[0m Artifact 'derick-amontagna/Networks:97.0.0' has started uploading asynchronously\n",
      "\u001b[1;38;5;39mCOMET INFO:\u001b[0m Artifact 'DataSetup' version 99.0.0 created (previous was: 98.0.0)\n",
      "\u001b[1;38;5;39mCOMET INFO:\u001b[0m Scheduling the upload of 1 assets: 1 local assets for a size of 7.72 KB, and 0 remote assets (will be linked, not uploaded). This can take some time.\n",
      "\u001b[1;38;5;39mCOMET INFO:\u001b[0m Artifact 'derick-amontagna/DataSetup:99.0.0' has started uploading asynchronously\n"
     ]
    },
    {
     "name": "stdout",
     "output_type": "stream",
     "text": [
      "Loading Dataloader\n",
      "Use DAMS Basic\n",
      "Create model\n",
      "Start Train\n"
     ]
    },
    {
     "data": {
      "application/vnd.jupyter.widget-view+json": {
       "model_id": "ca7070e44338425a94f0b35219be8ac0",
       "version_major": 2,
       "version_minor": 0
      },
      "text/plain": [
       "  0%|          | 0/50 [00:00<?, ?it/s]"
      ]
     },
     "metadata": {},
     "output_type": "display_data"
    },
    {
     "name": "stderr",
     "output_type": "stream",
     "text": [
      "/root/anaconda3/envs/lapixdl/lib/python3.11/site-packages/torchmetrics/utilities/prints.py:36: UserWarning: Metric `AUROC` will save all targets and predictions in buffer. For large datasets this may lead to large memory footprint.\n",
      "  warnings.warn(*args, **kwargs)\n",
      "\u001b[1;38;5;39mCOMET INFO:\u001b[0m Artifact 'derick-amontagna/Networks:97.0.0' has been fully uploaded successfully\n",
      "\u001b[1;38;5;39mCOMET INFO:\u001b[0m Artifact 'derick-amontagna/DataSetup:99.0.0' has been fully uploaded successfully\n",
      "\u001b[1;38;5;39mCOMET INFO:\u001b[0m Artifact 'derick-amontagna/Engine:97.0.0' has been fully uploaded successfully\n",
      "/root/anaconda3/envs/lapixdl/lib/python3.11/site-packages/torchmetrics/utilities/prints.py:36: UserWarning: Metric `AUROC` will save all targets and predictions in buffer. For large datasets this may lead to large memory footprint.\n",
      "  warnings.warn(*args, **kwargs)\n"
     ]
    },
    {
     "name": "stdout",
     "output_type": "stream",
     "text": [
      "terminating because of early stopping!\n",
      "Loaded model from epoch 19 with best validation auc: 0.94%\n",
      "DONE\n"
     ]
    },
    {
     "name": "stderr",
     "output_type": "stream",
     "text": [
      "\u001b[1;38;5;39mCOMET INFO:\u001b[0m ---------------------------------------------------------------------------------------\n",
      "\u001b[1;38;5;39mCOMET INFO:\u001b[0m Comet.ml Experiment Summary\n",
      "\u001b[1;38;5;39mCOMET INFO:\u001b[0m ---------------------------------------------------------------------------------------\n",
      "\u001b[1;38;5;39mCOMET INFO:\u001b[0m   Data:\n",
      "\u001b[1;38;5;39mCOMET INFO:\u001b[0m     display_summary_level : 1\n",
      "\u001b[1;38;5;39mCOMET INFO:\u001b[0m     name                  : healthy_felidae_2633\n",
      "\u001b[1;38;5;39mCOMET INFO:\u001b[0m     url                   : https://www.comet.com/derick-amontagna/adni1-s-siemens-dams-sgd-8/0b2917b42cf545d692754b3d4bc5f391\n",
      "\u001b[1;38;5;39mCOMET INFO:\u001b[0m   Metrics [count] (min, max):\n",
      "\u001b[1;38;5;39mCOMET INFO:\u001b[0m     epoch [39]         : (0, 38)\n",
      "\u001b[1;38;5;39mCOMET INFO:\u001b[0m     loss [3074]        : (0.02312452346086502, 0.9996287822723389)\n",
      "\u001b[1;38;5;39mCOMET INFO:\u001b[0m     test_acc           : 0.8373091603053435\n",
      "\u001b[1;38;5;39mCOMET INFO:\u001b[0m     test_acc_target    : 0.6888020833333334\n",
      "\u001b[1;38;5;39mCOMET INFO:\u001b[0m     test_acc_target_2  : 0.7242973372781065\n",
      "\u001b[1;38;5;39mCOMET INFO:\u001b[0m     test_auc           : 0.904197096824646\n",
      "\u001b[1;38;5;39mCOMET INFO:\u001b[0m     test_auc_target    : 0.738914966583252\n",
      "\u001b[1;38;5;39mCOMET INFO:\u001b[0m     test_auc_target_2  : 0.7965415716171265\n",
      "\u001b[1;38;5;39mCOMET INFO:\u001b[0m     test_loss          : 0.2791790210620593\n",
      "\u001b[1;38;5;39mCOMET INFO:\u001b[0m     test_loss_target   : 0.4872900991079708\n",
      "\u001b[1;38;5;39mCOMET INFO:\u001b[0m     test_loss_target_2 : 0.421056527666439\n",
      "\u001b[1;38;5;39mCOMET INFO:\u001b[0m     train_acc [39]     : (0.5995399746192893, 0.9748572335025381)\n",
      "\u001b[1;38;5;39mCOMET INFO:\u001b[0m     train_auc [39]     : (0.6386095285415649, 0.9955552816390991)\n",
      "\u001b[1;38;5;39mCOMET INFO:\u001b[0m     train_loss [39]    : (0.07854553976516962, 0.48920312588136206)\n",
      "\u001b[1;38;5;39mCOMET INFO:\u001b[0m     val_acc [39]       : (0.4184375, 0.8790625)\n",
      "\u001b[1;38;5;39mCOMET INFO:\u001b[0m     val_auc [39]       : (0.7387038469314575, 0.9409527778625488)\n",
      "\u001b[1;38;5;39mCOMET INFO:\u001b[0m     val_loss [39]      : (0.23374842930585146, 0.7915275965258479)\n",
      "\u001b[1;38;5;39mCOMET INFO:\u001b[0m   Others:\n",
      "\u001b[1;38;5;39mCOMET INFO:\u001b[0m     best_epoch             : 19\n",
      "\u001b[1;38;5;39mCOMET INFO:\u001b[0m     best_val_metric        : 0.9409527778625488\n",
      "\u001b[1;38;5;39mCOMET INFO:\u001b[0m     optimizer_count        : 21\n",
      "\u001b[1;38;5;39mCOMET INFO:\u001b[0m     optimizer_id           : a6175d5da17447a2a07d393e335bcde5\n",
      "\u001b[1;38;5;39mCOMET INFO:\u001b[0m     optimizer_metric       : val_auc\n",
      "\u001b[1;38;5;39mCOMET INFO:\u001b[0m     optimizer_metric_value : 0.9409527778625488\n",
      "\u001b[1;38;5;39mCOMET INFO:\u001b[0m     optimizer_name         : SOURCE_Siemens\n",
      "\u001b[1;38;5;39mCOMET INFO:\u001b[0m     optimizer_objective    : maximize\n",
      "\u001b[1;38;5;39mCOMET INFO:\u001b[0m     optimizer_parameters   : {\"batch_size\": 16, \"dropout\": 0.3, \"lr\": 0.0009, \"model\": \"DAMS\", \"momentum\": 0.9, \"seed\": 42, \"source\": \"Siemens\", \"target_1\": \"Philips\", \"target_2\": \"GE\", \"weight_decay\": 0.02}\n",
      "\u001b[1;38;5;39mCOMET INFO:\u001b[0m     optimizer_pid          : d81c1ab25ad5d2a8753ba4143d2f51cd67c6a9f8\n",
      "\u001b[1;38;5;39mCOMET INFO:\u001b[0m     optimizer_process      : 544623\n",
      "\u001b[1;38;5;39mCOMET INFO:\u001b[0m     optimizer_trial        : 1\n",
      "\u001b[1;38;5;39mCOMET INFO:\u001b[0m     optimizer_version      : 2.1.4\n",
      "\u001b[1;38;5;39mCOMET INFO:\u001b[0m   Parameters:\n",
      "\u001b[1;38;5;39mCOMET INFO:\u001b[0m     batch_size   : 16\n",
      "\u001b[1;38;5;39mCOMET INFO:\u001b[0m     dropout      : 0.3\n",
      "\u001b[1;38;5;39mCOMET INFO:\u001b[0m     lr           : 0.0009\n",
      "\u001b[1;38;5;39mCOMET INFO:\u001b[0m     model        : DAMS\n",
      "\u001b[1;38;5;39mCOMET INFO:\u001b[0m     momentum     : 0.9\n",
      "\u001b[1;38;5;39mCOMET INFO:\u001b[0m     pos_weight   : 0.576\n",
      "\u001b[1;38;5;39mCOMET INFO:\u001b[0m     seed         : 42\n",
      "\u001b[1;38;5;39mCOMET INFO:\u001b[0m     source       : Siemens\n",
      "\u001b[1;38;5;39mCOMET INFO:\u001b[0m     target_1     : Philips\n",
      "\u001b[1;38;5;39mCOMET INFO:\u001b[0m     target_2     : GE\n",
      "\u001b[1;38;5;39mCOMET INFO:\u001b[0m     weight_decay : 0.02\n",
      "\u001b[1;38;5;39mCOMET INFO:\u001b[0m   Uploads:\n",
      "\u001b[1;38;5;39mCOMET INFO:\u001b[0m     artifact assets              : 3 (21.76 KB)\n",
      "\u001b[1;38;5;39mCOMET INFO:\u001b[0m     artifacts                    : 3\n",
      "\u001b[1;38;5;39mCOMET INFO:\u001b[0m     conda-environment-definition : 1\n",
      "\u001b[1;38;5;39mCOMET INFO:\u001b[0m     conda-info                   : 1\n",
      "\u001b[1;38;5;39mCOMET INFO:\u001b[0m     conda-specification          : 1\n",
      "\u001b[1;38;5;39mCOMET INFO:\u001b[0m     environment details          : 1\n",
      "\u001b[1;38;5;39mCOMET INFO:\u001b[0m     filename                     : 1\n",
      "\u001b[1;38;5;39mCOMET INFO:\u001b[0m     git metadata                 : 1\n",
      "\u001b[1;38;5;39mCOMET INFO:\u001b[0m     git-patch (uncompressed)     : 1 (851.46 KB)\n",
      "\u001b[1;38;5;39mCOMET INFO:\u001b[0m     installed packages           : 1\n",
      "\u001b[1;38;5;39mCOMET INFO:\u001b[0m     model graph                  : 1\n",
      "\u001b[1;38;5;39mCOMET INFO:\u001b[0m     model-element                : 1 (183.72 MB)\n",
      "\u001b[1;38;5;39mCOMET INFO:\u001b[0m     notebook                     : 1\n",
      "\u001b[1;38;5;39mCOMET INFO:\u001b[0m     os packages                  : 1\n",
      "\u001b[1;38;5;39mCOMET INFO:\u001b[0m     source_code                  : 1\n",
      "\u001b[1;38;5;39mCOMET INFO:\u001b[0m \n",
      "\u001b[1;38;5;39mCOMET INFO:\u001b[0m Please wait for assets to finish uploading (timeout is 10800 seconds)\n",
      "\u001b[1;38;5;39mCOMET INFO:\u001b[0m Still uploading 1 file(s), remaining 103.72 MB/183.72 MB\n",
      "\u001b[1;38;5;214mCOMET WARNING:\u001b[0m As you are running in a Jupyter environment, you will need to call `experiment.end()` when finished to ensure all metrics and code are logged before exiting.\n",
      "\u001b[1;38;5;39mCOMET INFO:\u001b[0m Experiment is live on comet.com https://www.comet.com/derick-amontagna/adni1-s-siemens-dams-sgd-8/1f7f09b82d374009baa9f50b235fc20e\n",
      "\n",
      "\u001b[1;38;5;39mCOMET INFO:\u001b[0m Artifact 'Engine' version 98.0.0 created (previous was: 97.0.0)\n"
     ]
    },
    {
     "name": "stdout",
     "output_type": "stream",
     "text": [
      "Treinando esse modelo: DAMS\n",
      "Treinando com o source: Siemens/target: Philips/GE\n"
     ]
    },
    {
     "name": "stderr",
     "output_type": "stream",
     "text": [
      "\u001b[1;38;5;39mCOMET INFO:\u001b[0m Scheduling the upload of 1 assets: 1 local assets for a size of 8.21 KB, and 0 remote assets (will be linked, not uploaded). This can take some time.\n",
      "\u001b[1;38;5;39mCOMET INFO:\u001b[0m Artifact 'derick-amontagna/Engine:98.0.0' has started uploading asynchronously\n",
      "\u001b[1;38;5;39mCOMET INFO:\u001b[0m Artifact 'Networks' version 98.0.0 created (previous was: 97.0.0)\n",
      "\u001b[1;38;5;39mCOMET INFO:\u001b[0m Scheduling the upload of 1 assets: 1 local assets for a size of 5.82 KB, and 0 remote assets (will be linked, not uploaded). This can take some time.\n",
      "\u001b[1;38;5;39mCOMET INFO:\u001b[0m Artifact 'derick-amontagna/Networks:98.0.0' has started uploading asynchronously\n",
      "\u001b[1;38;5;39mCOMET INFO:\u001b[0m Artifact 'DataSetup' version 100.0.0 created (previous was: 99.0.0)\n",
      "\u001b[1;38;5;39mCOMET INFO:\u001b[0m Scheduling the upload of 1 assets: 1 local assets for a size of 7.72 KB, and 0 remote assets (will be linked, not uploaded). This can take some time.\n",
      "\u001b[1;38;5;39mCOMET INFO:\u001b[0m Artifact 'derick-amontagna/DataSetup:100.0.0' has started uploading asynchronously\n",
      "\u001b[1;38;5;39mCOMET INFO:\u001b[0m Artifact 'derick-amontagna/Engine:98.0.0' has been fully uploaded successfully\n",
      "\u001b[1;38;5;39mCOMET INFO:\u001b[0m Artifact 'derick-amontagna/Networks:98.0.0' has been fully uploaded successfully\n",
      "\u001b[1;38;5;39mCOMET INFO:\u001b[0m Artifact 'derick-amontagna/DataSetup:100.0.0' has been fully uploaded successfully\n"
     ]
    },
    {
     "name": "stdout",
     "output_type": "stream",
     "text": [
      "Loading Dataloader\n",
      "Use DAMS Basic\n",
      "Create model\n",
      "Start Train\n"
     ]
    },
    {
     "data": {
      "application/vnd.jupyter.widget-view+json": {
       "model_id": "d430d37ff1c7418e956c5823bd4302ab",
       "version_major": 2,
       "version_minor": 0
      },
      "text/plain": [
       "  0%|          | 0/50 [00:00<?, ?it/s]"
      ]
     },
     "metadata": {},
     "output_type": "display_data"
    },
    {
     "name": "stderr",
     "output_type": "stream",
     "text": [
      "/root/anaconda3/envs/lapixdl/lib/python3.11/site-packages/torchmetrics/utilities/prints.py:36: UserWarning: Metric `AUROC` will save all targets and predictions in buffer. For large datasets this may lead to large memory footprint.\n",
      "  warnings.warn(*args, **kwargs)\n"
     ]
    },
    {
     "name": "stdout",
     "output_type": "stream",
     "text": [
      "Loaded model from epoch 46 with best validation auc: 0.96%\n",
      "DONE\n"
     ]
    },
    {
     "name": "stderr",
     "output_type": "stream",
     "text": [
      "\u001b[1;38;5;39mCOMET INFO:\u001b[0m ---------------------------------------------------------------------------------------\n",
      "\u001b[1;38;5;39mCOMET INFO:\u001b[0m Comet.ml Experiment Summary\n",
      "\u001b[1;38;5;39mCOMET INFO:\u001b[0m ---------------------------------------------------------------------------------------\n",
      "\u001b[1;38;5;39mCOMET INFO:\u001b[0m   Data:\n",
      "\u001b[1;38;5;39mCOMET INFO:\u001b[0m     display_summary_level : 1\n",
      "\u001b[1;38;5;39mCOMET INFO:\u001b[0m     name                  : electric_land_3308\n",
      "\u001b[1;38;5;39mCOMET INFO:\u001b[0m     url                   : https://www.comet.com/derick-amontagna/adni1-s-siemens-dams-sgd-8/1f7f09b82d374009baa9f50b235fc20e\n",
      "\u001b[1;38;5;39mCOMET INFO:\u001b[0m   Metrics [count] (min, max):\n",
      "\u001b[1;38;5;39mCOMET INFO:\u001b[0m     epoch [50]         : (0, 49)\n",
      "\u001b[1;38;5;39mCOMET INFO:\u001b[0m     loss [3940]        : (0.047596827149391174, 0.840056836605072)\n",
      "\u001b[1;38;5;39mCOMET INFO:\u001b[0m     test_acc           : 0.7619274809160306\n",
      "\u001b[1;38;5;39mCOMET INFO:\u001b[0m     test_acc_target    : 0.6165364583333334\n",
      "\u001b[1;38;5;39mCOMET INFO:\u001b[0m     test_acc_target_2  : 0.7048816568047337\n",
      "\u001b[1;38;5;39mCOMET INFO:\u001b[0m     test_auc           : 0.856290876865387\n",
      "\u001b[1;38;5;39mCOMET INFO:\u001b[0m     test_auc_target    : 0.6134387254714966\n",
      "\u001b[1;38;5;39mCOMET INFO:\u001b[0m     test_auc_target_2  : 0.79243004322052\n",
      "\u001b[1;38;5;39mCOMET INFO:\u001b[0m     test_loss          : 0.5030340734613306\n",
      "\u001b[1;38;5;39mCOMET INFO:\u001b[0m     test_loss_target   : 0.7404388817182431\n",
      "\u001b[1;38;5;39mCOMET INFO:\u001b[0m     test_loss_target_2 : 0.5876872255053569\n",
      "\u001b[1;38;5;39mCOMET INFO:\u001b[0m     train_acc [50]     : (0.6057265228426396, 0.9567734771573604)\n",
      "\u001b[1;38;5;39mCOMET INFO:\u001b[0m     train_auc [50]     : (0.6427369117736816, 0.9906129837036133)\n",
      "\u001b[1;38;5;39mCOMET INFO:\u001b[0m     train_loss [50]    : (0.11175864550573421, 0.48726064991678686)\n",
      "\u001b[1;38;5;39mCOMET INFO:\u001b[0m     val_acc [50]       : (0.38, 0.8834375)\n",
      "\u001b[1;38;5;39mCOMET INFO:\u001b[0m     val_auc [50]       : (0.6781401634216309, 0.9564155340194702)\n",
      "\u001b[1;38;5;39mCOMET INFO:\u001b[0m     val_loss [50]      : (0.2475067924708128, 0.7486673768050969)\n",
      "\u001b[1;38;5;39mCOMET INFO:\u001b[0m   Others:\n",
      "\u001b[1;38;5;39mCOMET INFO:\u001b[0m     best_epoch             : 46\n",
      "\u001b[1;38;5;39mCOMET INFO:\u001b[0m     best_val_metric        : 0.9564155340194702\n",
      "\u001b[1;38;5;39mCOMET INFO:\u001b[0m     optimizer_count        : 22\n",
      "\u001b[1;38;5;39mCOMET INFO:\u001b[0m     optimizer_id           : a6175d5da17447a2a07d393e335bcde5\n",
      "\u001b[1;38;5;39mCOMET INFO:\u001b[0m     optimizer_metric       : val_auc\n",
      "\u001b[1;38;5;39mCOMET INFO:\u001b[0m     optimizer_metric_value : 0.9564155340194702\n",
      "\u001b[1;38;5;39mCOMET INFO:\u001b[0m     optimizer_name         : SOURCE_Siemens\n",
      "\u001b[1;38;5;39mCOMET INFO:\u001b[0m     optimizer_objective    : maximize\n",
      "\u001b[1;38;5;39mCOMET INFO:\u001b[0m     optimizer_parameters   : {\"batch_size\": 16, \"dropout\": 0.3, \"lr\": 0.0009, \"model\": \"DAMS\", \"momentum\": 0.9, \"seed\": 42, \"source\": \"Siemens\", \"target_1\": \"Philips\", \"target_2\": \"GE\", \"weight_decay\": 0.03}\n",
      "\u001b[1;38;5;39mCOMET INFO:\u001b[0m     optimizer_pid          : b7fff1c04ebcb361bb03f18126fe7f04ccb9889d\n",
      "\u001b[1;38;5;39mCOMET INFO:\u001b[0m     optimizer_process      : 544623\n",
      "\u001b[1;38;5;39mCOMET INFO:\u001b[0m     optimizer_trial        : 1\n",
      "\u001b[1;38;5;39mCOMET INFO:\u001b[0m     optimizer_version      : 2.1.4\n",
      "\u001b[1;38;5;39mCOMET INFO:\u001b[0m   Parameters:\n",
      "\u001b[1;38;5;39mCOMET INFO:\u001b[0m     batch_size   : 16\n",
      "\u001b[1;38;5;39mCOMET INFO:\u001b[0m     dropout      : 0.3\n",
      "\u001b[1;38;5;39mCOMET INFO:\u001b[0m     lr           : 0.0009\n",
      "\u001b[1;38;5;39mCOMET INFO:\u001b[0m     model        : DAMS\n",
      "\u001b[1;38;5;39mCOMET INFO:\u001b[0m     momentum     : 0.9\n",
      "\u001b[1;38;5;39mCOMET INFO:\u001b[0m     pos_weight   : 0.576\n",
      "\u001b[1;38;5;39mCOMET INFO:\u001b[0m     seed         : 42\n",
      "\u001b[1;38;5;39mCOMET INFO:\u001b[0m     source       : Siemens\n",
      "\u001b[1;38;5;39mCOMET INFO:\u001b[0m     target_1     : Philips\n",
      "\u001b[1;38;5;39mCOMET INFO:\u001b[0m     target_2     : GE\n",
      "\u001b[1;38;5;39mCOMET INFO:\u001b[0m     weight_decay : 0.03\n",
      "\u001b[1;38;5;39mCOMET INFO:\u001b[0m   Uploads:\n",
      "\u001b[1;38;5;39mCOMET INFO:\u001b[0m     artifact assets              : 3 (21.76 KB)\n",
      "\u001b[1;38;5;39mCOMET INFO:\u001b[0m     artifacts                    : 3\n",
      "\u001b[1;38;5;39mCOMET INFO:\u001b[0m     conda-environment-definition : 1\n",
      "\u001b[1;38;5;39mCOMET INFO:\u001b[0m     conda-info                   : 1\n",
      "\u001b[1;38;5;39mCOMET INFO:\u001b[0m     conda-specification          : 1\n",
      "\u001b[1;38;5;39mCOMET INFO:\u001b[0m     environment details          : 1\n",
      "\u001b[1;38;5;39mCOMET INFO:\u001b[0m     filename                     : 1\n",
      "\u001b[1;38;5;39mCOMET INFO:\u001b[0m     git metadata                 : 1\n",
      "\u001b[1;38;5;39mCOMET INFO:\u001b[0m     git-patch (uncompressed)     : 1 (861.85 KB)\n",
      "\u001b[1;38;5;39mCOMET INFO:\u001b[0m     installed packages           : 1\n",
      "\u001b[1;38;5;39mCOMET INFO:\u001b[0m     model graph                  : 1\n",
      "\u001b[1;38;5;39mCOMET INFO:\u001b[0m     model-element                : 1 (183.72 MB)\n",
      "\u001b[1;38;5;39mCOMET INFO:\u001b[0m     notebook                     : 1\n",
      "\u001b[1;38;5;39mCOMET INFO:\u001b[0m     os packages                  : 1\n",
      "\u001b[1;38;5;39mCOMET INFO:\u001b[0m     source_code                  : 1\n",
      "\u001b[1;38;5;39mCOMET INFO:\u001b[0m \n",
      "\u001b[1;38;5;39mCOMET INFO:\u001b[0m Uploading 75 metrics, params and output messages\n",
      "\u001b[1;38;5;39mCOMET INFO:\u001b[0m Please wait for assets to finish uploading (timeout is 10800 seconds)\n",
      "\u001b[1;38;5;39mCOMET INFO:\u001b[0m Still uploading 1 file(s), remaining 88.72 MB/183.72 MB\n",
      "\u001b[1;38;5;214mCOMET WARNING:\u001b[0m As you are running in a Jupyter environment, you will need to call `experiment.end()` when finished to ensure all metrics and code are logged before exiting.\n",
      "\u001b[1;38;5;39mCOMET INFO:\u001b[0m Experiment is live on comet.com https://www.comet.com/derick-amontagna/adni1-s-siemens-dams-sgd-8/47e27ae22a0c497491f0b7bbed55aaa6\n",
      "\n",
      "\u001b[1;38;5;39mCOMET INFO:\u001b[0m Artifact 'Engine' version 99.0.0 created (previous was: 98.0.0)\n"
     ]
    },
    {
     "name": "stdout",
     "output_type": "stream",
     "text": [
      "Treinando esse modelo: DAMS\n",
      "Treinando com o source: Siemens/target: Philips/GE\n"
     ]
    },
    {
     "name": "stderr",
     "output_type": "stream",
     "text": [
      "\u001b[1;38;5;39mCOMET INFO:\u001b[0m Scheduling the upload of 1 assets: 1 local assets for a size of 8.21 KB, and 0 remote assets (will be linked, not uploaded). This can take some time.\n",
      "\u001b[1;38;5;39mCOMET INFO:\u001b[0m Artifact 'derick-amontagna/Engine:99.0.0' has started uploading asynchronously\n",
      "\u001b[1;38;5;39mCOMET INFO:\u001b[0m Artifact 'Networks' version 99.0.0 created (previous was: 98.0.0)\n",
      "\u001b[1;38;5;39mCOMET INFO:\u001b[0m Scheduling the upload of 1 assets: 1 local assets for a size of 5.82 KB, and 0 remote assets (will be linked, not uploaded). This can take some time.\n",
      "\u001b[1;38;5;39mCOMET INFO:\u001b[0m Artifact 'derick-amontagna/Networks:99.0.0' has started uploading asynchronously\n",
      "\u001b[1;38;5;39mCOMET INFO:\u001b[0m Artifact 'DataSetup' version 101.0.0 created (previous was: 100.0.0)\n",
      "\u001b[1;38;5;39mCOMET INFO:\u001b[0m Scheduling the upload of 1 assets: 1 local assets for a size of 7.72 KB, and 0 remote assets (will be linked, not uploaded). This can take some time.\n",
      "\u001b[1;38;5;39mCOMET INFO:\u001b[0m Artifact 'derick-amontagna/DataSetup:101.0.0' has started uploading asynchronously\n",
      "\u001b[1;38;5;39mCOMET INFO:\u001b[0m Artifact 'derick-amontagna/Engine:99.0.0' has been fully uploaded successfully\n",
      "\u001b[1;38;5;39mCOMET INFO:\u001b[0m Artifact 'derick-amontagna/DataSetup:101.0.0' has been fully uploaded successfully\n",
      "\u001b[1;38;5;39mCOMET INFO:\u001b[0m Artifact 'derick-amontagna/Networks:99.0.0' has been fully uploaded successfully\n"
     ]
    },
    {
     "name": "stdout",
     "output_type": "stream",
     "text": [
      "Loading Dataloader\n",
      "Use DAMS Basic\n",
      "Create model\n",
      "Start Train\n"
     ]
    },
    {
     "data": {
      "application/vnd.jupyter.widget-view+json": {
       "model_id": "8eb3c6a608d74ff6ab6307c2094ff50c",
       "version_major": 2,
       "version_minor": 0
      },
      "text/plain": [
       "  0%|          | 0/50 [00:00<?, ?it/s]"
      ]
     },
     "metadata": {},
     "output_type": "display_data"
    },
    {
     "name": "stderr",
     "output_type": "stream",
     "text": [
      "/root/anaconda3/envs/lapixdl/lib/python3.11/site-packages/torchmetrics/utilities/prints.py:36: UserWarning: Metric `AUROC` will save all targets and predictions in buffer. For large datasets this may lead to large memory footprint.\n",
      "  warnings.warn(*args, **kwargs)\n"
     ]
    },
    {
     "name": "stdout",
     "output_type": "stream",
     "text": [
      "terminating because of early stopping!\n",
      "Loaded model from epoch 5 with best validation auc: 0.93%\n",
      "DONE\n"
     ]
    },
    {
     "name": "stderr",
     "output_type": "stream",
     "text": [
      "\u001b[1;38;5;39mCOMET INFO:\u001b[0m ---------------------------------------------------------------------------------------\n",
      "\u001b[1;38;5;39mCOMET INFO:\u001b[0m Comet.ml Experiment Summary\n",
      "\u001b[1;38;5;39mCOMET INFO:\u001b[0m ---------------------------------------------------------------------------------------\n",
      "\u001b[1;38;5;39mCOMET INFO:\u001b[0m   Data:\n",
      "\u001b[1;38;5;39mCOMET INFO:\u001b[0m     display_summary_level : 1\n",
      "\u001b[1;38;5;39mCOMET INFO:\u001b[0m     name                  : emerald_papaya_3498\n",
      "\u001b[1;38;5;39mCOMET INFO:\u001b[0m     url                   : https://www.comet.com/derick-amontagna/adni1-s-siemens-dams-sgd-8/47e27ae22a0c497491f0b7bbed55aaa6\n",
      "\u001b[1;38;5;39mCOMET INFO:\u001b[0m   Metrics [count] (min, max):\n",
      "\u001b[1;38;5;39mCOMET INFO:\u001b[0m     epoch [25]         : (0, 24)\n",
      "\u001b[1;38;5;39mCOMET INFO:\u001b[0m     loss [1970]        : (0.02121765725314617, 0.9146980047225952)\n",
      "\u001b[1;38;5;39mCOMET INFO:\u001b[0m     test_acc           : 0.8036736641221374\n",
      "\u001b[1;38;5;39mCOMET INFO:\u001b[0m     test_acc_target    : 0.697265625\n",
      "\u001b[1;38;5;39mCOMET INFO:\u001b[0m     test_acc_target_2  : 0.7248520710059172\n",
      "\u001b[1;38;5;39mCOMET INFO:\u001b[0m     test_auc           : 0.8909176588058472\n",
      "\u001b[1;38;5;39mCOMET INFO:\u001b[0m     test_auc_target    : 0.7182052135467529\n",
      "\u001b[1;38;5;39mCOMET INFO:\u001b[0m     test_auc_target_2  : 0.7465292811393738\n",
      "\u001b[1;38;5;39mCOMET INFO:\u001b[0m     test_loss          : 0.512113373996761\n",
      "\u001b[1;38;5;39mCOMET INFO:\u001b[0m     test_loss_target   : 0.8739468022443665\n",
      "\u001b[1;38;5;39mCOMET INFO:\u001b[0m     test_loss_target_2 : 0.8465651076647988\n",
      "\u001b[1;38;5;39mCOMET INFO:\u001b[0m     train_acc [25]     : (0.605885152284264, 0.9710501269035533)\n",
      "\u001b[1;38;5;39mCOMET INFO:\u001b[0m     train_auc [25]     : (0.6488240957260132, 0.9945590496063232)\n",
      "\u001b[1;38;5;39mCOMET INFO:\u001b[0m     train_loss [25]    : (0.08273829507457121, 0.48465993996652856)\n",
      "\u001b[1;38;5;39mCOMET INFO:\u001b[0m     val_acc [25]       : (0.394375, 0.87625)\n",
      "\u001b[1;38;5;39mCOMET INFO:\u001b[0m     val_auc [25]       : (0.7124935388565063, 0.9338063597679138)\n",
      "\u001b[1;38;5;39mCOMET INFO:\u001b[0m     val_loss [25]      : (0.2918604760617018, 1.108525808416307)\n",
      "\u001b[1;38;5;39mCOMET INFO:\u001b[0m   Others:\n",
      "\u001b[1;38;5;39mCOMET INFO:\u001b[0m     best_epoch             : 5\n",
      "\u001b[1;38;5;39mCOMET INFO:\u001b[0m     best_val_metric        : 0.9338063597679138\n",
      "\u001b[1;38;5;39mCOMET INFO:\u001b[0m     optimizer_count        : 23\n",
      "\u001b[1;38;5;39mCOMET INFO:\u001b[0m     optimizer_id           : a6175d5da17447a2a07d393e335bcde5\n",
      "\u001b[1;38;5;39mCOMET INFO:\u001b[0m     optimizer_metric       : val_auc\n",
      "\u001b[1;38;5;39mCOMET INFO:\u001b[0m     optimizer_metric_value : 0.9338063597679138\n",
      "\u001b[1;38;5;39mCOMET INFO:\u001b[0m     optimizer_name         : SOURCE_Siemens\n",
      "\u001b[1;38;5;39mCOMET INFO:\u001b[0m     optimizer_objective    : maximize\n",
      "\u001b[1;38;5;39mCOMET INFO:\u001b[0m     optimizer_parameters   : {\"batch_size\": 16, \"dropout\": 0.4, \"lr\": 0.0009, \"model\": \"DAMS\", \"momentum\": 0.9, \"seed\": 42, \"source\": \"Siemens\", \"target_1\": \"Philips\", \"target_2\": \"GE\", \"weight_decay\": 0.02}\n",
      "\u001b[1;38;5;39mCOMET INFO:\u001b[0m     optimizer_pid          : c68dc2642ea2f94cb49ebf80c775f70497f1660a\n",
      "\u001b[1;38;5;39mCOMET INFO:\u001b[0m     optimizer_process      : 544623\n",
      "\u001b[1;38;5;39mCOMET INFO:\u001b[0m     optimizer_trial        : 1\n",
      "\u001b[1;38;5;39mCOMET INFO:\u001b[0m     optimizer_version      : 2.1.4\n",
      "\u001b[1;38;5;39mCOMET INFO:\u001b[0m   Parameters:\n",
      "\u001b[1;38;5;39mCOMET INFO:\u001b[0m     batch_size   : 16\n",
      "\u001b[1;38;5;39mCOMET INFO:\u001b[0m     dropout      : 0.4\n",
      "\u001b[1;38;5;39mCOMET INFO:\u001b[0m     lr           : 0.0009\n",
      "\u001b[1;38;5;39mCOMET INFO:\u001b[0m     model        : DAMS\n",
      "\u001b[1;38;5;39mCOMET INFO:\u001b[0m     momentum     : 0.9\n",
      "\u001b[1;38;5;39mCOMET INFO:\u001b[0m     pos_weight   : 0.576\n",
      "\u001b[1;38;5;39mCOMET INFO:\u001b[0m     seed         : 42\n",
      "\u001b[1;38;5;39mCOMET INFO:\u001b[0m     source       : Siemens\n",
      "\u001b[1;38;5;39mCOMET INFO:\u001b[0m     target_1     : Philips\n",
      "\u001b[1;38;5;39mCOMET INFO:\u001b[0m     target_2     : GE\n",
      "\u001b[1;38;5;39mCOMET INFO:\u001b[0m     weight_decay : 0.02\n",
      "\u001b[1;38;5;39mCOMET INFO:\u001b[0m   Uploads:\n",
      "\u001b[1;38;5;39mCOMET INFO:\u001b[0m     artifact assets              : 3 (21.76 KB)\n",
      "\u001b[1;38;5;39mCOMET INFO:\u001b[0m     artifacts                    : 3\n",
      "\u001b[1;38;5;39mCOMET INFO:\u001b[0m     conda-environment-definition : 1\n",
      "\u001b[1;38;5;39mCOMET INFO:\u001b[0m     conda-info                   : 1\n",
      "\u001b[1;38;5;39mCOMET INFO:\u001b[0m     conda-specification          : 1\n",
      "\u001b[1;38;5;39mCOMET INFO:\u001b[0m     environment details          : 1\n",
      "\u001b[1;38;5;39mCOMET INFO:\u001b[0m     filename                     : 1\n",
      "\u001b[1;38;5;39mCOMET INFO:\u001b[0m     git metadata                 : 1\n",
      "\u001b[1;38;5;39mCOMET INFO:\u001b[0m     git-patch (uncompressed)     : 1 (871.89 KB)\n",
      "\u001b[1;38;5;39mCOMET INFO:\u001b[0m     installed packages           : 1\n",
      "\u001b[1;38;5;39mCOMET INFO:\u001b[0m     model graph                  : 1\n",
      "\u001b[1;38;5;39mCOMET INFO:\u001b[0m     model-element                : 1 (183.72 MB)\n",
      "\u001b[1;38;5;39mCOMET INFO:\u001b[0m     notebook                     : 1\n",
      "\u001b[1;38;5;39mCOMET INFO:\u001b[0m     os packages                  : 1\n",
      "\u001b[1;38;5;39mCOMET INFO:\u001b[0m     source_code                  : 1\n",
      "\u001b[1;38;5;39mCOMET INFO:\u001b[0m \n",
      "\u001b[1;38;5;39mCOMET INFO:\u001b[0m Uploading 73 metrics, params and output messages\n",
      "\u001b[1;38;5;39mCOMET INFO:\u001b[0m Please wait for assets to finish uploading (timeout is 10800 seconds)\n",
      "\u001b[1;38;5;39mCOMET INFO:\u001b[0m Still uploading 1 file(s), remaining 93.72 MB/183.72 MB\n",
      "\u001b[1;38;5;214mCOMET WARNING:\u001b[0m As you are running in a Jupyter environment, you will need to call `experiment.end()` when finished to ensure all metrics and code are logged before exiting.\n",
      "\u001b[1;38;5;39mCOMET INFO:\u001b[0m Experiment is live on comet.com https://www.comet.com/derick-amontagna/adni1-s-siemens-dams-sgd-8/4343a771089f4617a7bd6feaaf4fcaec\n",
      "\n",
      "\u001b[1;38;5;39mCOMET INFO:\u001b[0m Artifact 'Engine' version 100.0.0 created (previous was: 99.0.0)\n"
     ]
    },
    {
     "name": "stdout",
     "output_type": "stream",
     "text": [
      "Treinando esse modelo: DAMS\n",
      "Treinando com o source: Siemens/target: Philips/GE\n"
     ]
    },
    {
     "name": "stderr",
     "output_type": "stream",
     "text": [
      "\u001b[1;38;5;39mCOMET INFO:\u001b[0m Scheduling the upload of 1 assets: 1 local assets for a size of 8.21 KB, and 0 remote assets (will be linked, not uploaded). This can take some time.\n",
      "\u001b[1;38;5;39mCOMET INFO:\u001b[0m Artifact 'derick-amontagna/Engine:100.0.0' has started uploading asynchronously\n",
      "\u001b[1;38;5;39mCOMET INFO:\u001b[0m Artifact 'Networks' version 100.0.0 created (previous was: 99.0.0)\n",
      "\u001b[1;38;5;39mCOMET INFO:\u001b[0m Scheduling the upload of 1 assets: 1 local assets for a size of 5.82 KB, and 0 remote assets (will be linked, not uploaded). This can take some time.\n",
      "\u001b[1;38;5;39mCOMET INFO:\u001b[0m Artifact 'derick-amontagna/Networks:100.0.0' has started uploading asynchronously\n",
      "\u001b[1;38;5;39mCOMET INFO:\u001b[0m Artifact 'DataSetup' version 102.0.0 created (previous was: 101.0.0)\n",
      "\u001b[1;38;5;39mCOMET INFO:\u001b[0m Scheduling the upload of 1 assets: 1 local assets for a size of 7.72 KB, and 0 remote assets (will be linked, not uploaded). This can take some time.\n",
      "\u001b[1;38;5;39mCOMET INFO:\u001b[0m Artifact 'derick-amontagna/DataSetup:102.0.0' has started uploading asynchronously\n"
     ]
    },
    {
     "name": "stdout",
     "output_type": "stream",
     "text": [
      "Loading Dataloader\n",
      "Use DAMS Basic\n",
      "Create model\n",
      "Start Train\n"
     ]
    },
    {
     "data": {
      "application/vnd.jupyter.widget-view+json": {
       "model_id": "6a92b2b87d6c42568bd4b60a3013568f",
       "version_major": 2,
       "version_minor": 0
      },
      "text/plain": [
       "  0%|          | 0/50 [00:00<?, ?it/s]"
      ]
     },
     "metadata": {},
     "output_type": "display_data"
    },
    {
     "name": "stderr",
     "output_type": "stream",
     "text": [
      "/root/anaconda3/envs/lapixdl/lib/python3.11/site-packages/torchmetrics/utilities/prints.py:36: UserWarning: Metric `AUROC` will save all targets and predictions in buffer. For large datasets this may lead to large memory footprint.\n",
      "  warnings.warn(*args, **kwargs)\n",
      "\u001b[1;38;5;39mCOMET INFO:\u001b[0m Artifact 'derick-amontagna/Networks:100.0.0' has been fully uploaded successfully\n",
      "\u001b[1;38;5;39mCOMET INFO:\u001b[0m Artifact 'derick-amontagna/Engine:100.0.0' has been fully uploaded successfully\n",
      "\u001b[1;38;5;39mCOMET INFO:\u001b[0m Artifact 'derick-amontagna/DataSetup:102.0.0' has been fully uploaded successfully\n"
     ]
    },
    {
     "name": "stdout",
     "output_type": "stream",
     "text": [
      "terminating because of early stopping!\n",
      "Loaded model from epoch 19 with best validation auc: 0.96%\n",
      "DONE\n"
     ]
    },
    {
     "name": "stderr",
     "output_type": "stream",
     "text": [
      "\u001b[1;38;5;39mCOMET INFO:\u001b[0m ---------------------------------------------------------------------------------------\n",
      "\u001b[1;38;5;39mCOMET INFO:\u001b[0m Comet.ml Experiment Summary\n",
      "\u001b[1;38;5;39mCOMET INFO:\u001b[0m ---------------------------------------------------------------------------------------\n",
      "\u001b[1;38;5;39mCOMET INFO:\u001b[0m   Data:\n",
      "\u001b[1;38;5;39mCOMET INFO:\u001b[0m     display_summary_level : 1\n",
      "\u001b[1;38;5;39mCOMET INFO:\u001b[0m     name                  : embarrassing_chocolate_3262\n",
      "\u001b[1;38;5;39mCOMET INFO:\u001b[0m     url                   : https://www.comet.com/derick-amontagna/adni1-s-siemens-dams-sgd-8/4343a771089f4617a7bd6feaaf4fcaec\n",
      "\u001b[1;38;5;39mCOMET INFO:\u001b[0m   Metrics [count] (min, max):\n",
      "\u001b[1;38;5;39mCOMET INFO:\u001b[0m     epoch [39]         : (0, 38)\n",
      "\u001b[1;38;5;39mCOMET INFO:\u001b[0m     loss [3074]        : (0.04433932155370712, 0.8753198981285095)\n",
      "\u001b[1;38;5;39mCOMET INFO:\u001b[0m     test_acc           : 0.791030534351145\n",
      "\u001b[1;38;5;39mCOMET INFO:\u001b[0m     test_acc_target    : 0.6477864583333334\n",
      "\u001b[1;38;5;39mCOMET INFO:\u001b[0m     test_acc_target_2  : 0.7152366863905325\n",
      "\u001b[1;38;5;39mCOMET INFO:\u001b[0m     test_auc           : 0.8969037532806396\n",
      "\u001b[1;38;5;39mCOMET INFO:\u001b[0m     test_auc_target    : 0.5686725378036499\n",
      "\u001b[1;38;5;39mCOMET INFO:\u001b[0m     test_auc_target_2  : 0.765036940574646\n",
      "\u001b[1;38;5;39mCOMET INFO:\u001b[0m     test_loss          : 0.4008688707302772\n",
      "\u001b[1;38;5;39mCOMET INFO:\u001b[0m     test_loss_target   : 0.7269644245970994\n",
      "\u001b[1;38;5;39mCOMET INFO:\u001b[0m     test_loss_target_2 : 0.5687602222428696\n",
      "\u001b[1;38;5;39mCOMET INFO:\u001b[0m     train_acc [39]     : (0.5987468274111675, 0.9615323604060914)\n",
      "\u001b[1;38;5;39mCOMET INFO:\u001b[0m     train_auc [39]     : (0.6386183500289917, 0.9911415576934814)\n",
      "\u001b[1;38;5;39mCOMET INFO:\u001b[0m     train_loss [39]    : (0.11213946870532888, 0.48963118711401366)\n",
      "\u001b[1;38;5;39mCOMET INFO:\u001b[0m     val_acc [39]       : (0.56875, 0.890625)\n",
      "\u001b[1;38;5;39mCOMET INFO:\u001b[0m     val_auc [39]       : (0.7675769329071045, 0.9566082954406738)\n",
      "\u001b[1;38;5;39mCOMET INFO:\u001b[0m     val_loss [39]      : (0.23867101844400168, 0.6877452871762216)\n",
      "\u001b[1;38;5;39mCOMET INFO:\u001b[0m   Others:\n",
      "\u001b[1;38;5;39mCOMET INFO:\u001b[0m     best_epoch             : 19\n",
      "\u001b[1;38;5;39mCOMET INFO:\u001b[0m     best_val_metric        : 0.9566082954406738\n",
      "\u001b[1;38;5;39mCOMET INFO:\u001b[0m     optimizer_count        : 24\n",
      "\u001b[1;38;5;39mCOMET INFO:\u001b[0m     optimizer_id           : a6175d5da17447a2a07d393e335bcde5\n",
      "\u001b[1;38;5;39mCOMET INFO:\u001b[0m     optimizer_metric       : val_auc\n",
      "\u001b[1;38;5;39mCOMET INFO:\u001b[0m     optimizer_metric_value : 0.9566082954406738\n",
      "\u001b[1;38;5;39mCOMET INFO:\u001b[0m     optimizer_name         : SOURCE_Siemens\n",
      "\u001b[1;38;5;39mCOMET INFO:\u001b[0m     optimizer_objective    : maximize\n",
      "\u001b[1;38;5;39mCOMET INFO:\u001b[0m     optimizer_parameters   : {\"batch_size\": 16, \"dropout\": 0.4, \"lr\": 0.0009, \"model\": \"DAMS\", \"momentum\": 0.9, \"seed\": 42, \"source\": \"Siemens\", \"target_1\": \"Philips\", \"target_2\": \"GE\", \"weight_decay\": 0.03}\n",
      "\u001b[1;38;5;39mCOMET INFO:\u001b[0m     optimizer_pid          : a3a78d10b9ca80f79b53c75f0f7b4a8568370d2f\n",
      "\u001b[1;38;5;39mCOMET INFO:\u001b[0m     optimizer_process      : 544623\n",
      "\u001b[1;38;5;39mCOMET INFO:\u001b[0m     optimizer_trial        : 1\n",
      "\u001b[1;38;5;39mCOMET INFO:\u001b[0m     optimizer_version      : 2.1.4\n",
      "\u001b[1;38;5;39mCOMET INFO:\u001b[0m   Parameters:\n",
      "\u001b[1;38;5;39mCOMET INFO:\u001b[0m     batch_size   : 16\n",
      "\u001b[1;38;5;39mCOMET INFO:\u001b[0m     dropout      : 0.4\n",
      "\u001b[1;38;5;39mCOMET INFO:\u001b[0m     lr           : 0.0009\n",
      "\u001b[1;38;5;39mCOMET INFO:\u001b[0m     model        : DAMS\n",
      "\u001b[1;38;5;39mCOMET INFO:\u001b[0m     momentum     : 0.9\n",
      "\u001b[1;38;5;39mCOMET INFO:\u001b[0m     pos_weight   : 0.576\n",
      "\u001b[1;38;5;39mCOMET INFO:\u001b[0m     seed         : 42\n",
      "\u001b[1;38;5;39mCOMET INFO:\u001b[0m     source       : Siemens\n",
      "\u001b[1;38;5;39mCOMET INFO:\u001b[0m     target_1     : Philips\n",
      "\u001b[1;38;5;39mCOMET INFO:\u001b[0m     target_2     : GE\n",
      "\u001b[1;38;5;39mCOMET INFO:\u001b[0m     weight_decay : 0.03\n",
      "\u001b[1;38;5;39mCOMET INFO:\u001b[0m   Uploads:\n",
      "\u001b[1;38;5;39mCOMET INFO:\u001b[0m     artifact assets              : 3 (21.76 KB)\n",
      "\u001b[1;38;5;39mCOMET INFO:\u001b[0m     artifacts                    : 3\n",
      "\u001b[1;38;5;39mCOMET INFO:\u001b[0m     conda-environment-definition : 1\n",
      "\u001b[1;38;5;39mCOMET INFO:\u001b[0m     conda-info                   : 1\n",
      "\u001b[1;38;5;39mCOMET INFO:\u001b[0m     conda-specification          : 1\n",
      "\u001b[1;38;5;39mCOMET INFO:\u001b[0m     environment details          : 1\n",
      "\u001b[1;38;5;39mCOMET INFO:\u001b[0m     filename                     : 1\n",
      "\u001b[1;38;5;39mCOMET INFO:\u001b[0m     git metadata                 : 1\n",
      "\u001b[1;38;5;39mCOMET INFO:\u001b[0m     git-patch (uncompressed)     : 1 (881.97 KB)\n",
      "\u001b[1;38;5;39mCOMET INFO:\u001b[0m     installed packages           : 1\n",
      "\u001b[1;38;5;39mCOMET INFO:\u001b[0m     model graph                  : 1\n",
      "\u001b[1;38;5;39mCOMET INFO:\u001b[0m     model-element                : 1 (183.73 MB)\n",
      "\u001b[1;38;5;39mCOMET INFO:\u001b[0m     notebook                     : 1\n",
      "\u001b[1;38;5;39mCOMET INFO:\u001b[0m     os packages                  : 1\n",
      "\u001b[1;38;5;39mCOMET INFO:\u001b[0m     source_code                  : 1\n",
      "\u001b[1;38;5;39mCOMET INFO:\u001b[0m \n",
      "\u001b[1;38;5;39mCOMET INFO:\u001b[0m Uploading 70 metrics, params and output messages\n",
      "\u001b[1;38;5;39mCOMET INFO:\u001b[0m Please wait for assets to finish uploading (timeout is 10800 seconds)\n",
      "\u001b[1;38;5;39mCOMET INFO:\u001b[0m Still uploading 1 file(s), remaining 88.73 MB/183.73 MB\n",
      "\u001b[1;38;5;214mCOMET WARNING:\u001b[0m As you are running in a Jupyter environment, you will need to call `experiment.end()` when finished to ensure all metrics and code are logged before exiting.\n",
      "\u001b[1;38;5;39mCOMET INFO:\u001b[0m Experiment is live on comet.com https://www.comet.com/derick-amontagna/adni1-s-siemens-dams-sgd-8/17d6634770c644a4a7985d84582c1d73\n",
      "\n"
     ]
    },
    {
     "name": "stdout",
     "output_type": "stream",
     "text": [
      "Treinando esse modelo: DAMS\n",
      "Treinando com o source: Siemens/target: Philips/GE\n"
     ]
    },
    {
     "name": "stderr",
     "output_type": "stream",
     "text": [
      "\u001b[1;38;5;39mCOMET INFO:\u001b[0m Artifact 'Engine' version 101.0.0 created (previous was: 100.0.0)\n",
      "\u001b[1;38;5;39mCOMET INFO:\u001b[0m Scheduling the upload of 1 assets: 1 local assets for a size of 8.21 KB, and 0 remote assets (will be linked, not uploaded). This can take some time.\n",
      "\u001b[1;38;5;39mCOMET INFO:\u001b[0m Artifact 'derick-amontagna/Engine:101.0.0' has started uploading asynchronously\n",
      "\u001b[1;38;5;39mCOMET INFO:\u001b[0m Artifact 'Networks' version 101.0.0 created (previous was: 100.0.0)\n",
      "\u001b[1;38;5;39mCOMET INFO:\u001b[0m Scheduling the upload of 1 assets: 1 local assets for a size of 5.82 KB, and 0 remote assets (will be linked, not uploaded). This can take some time.\n",
      "\u001b[1;38;5;39mCOMET INFO:\u001b[0m Artifact 'derick-amontagna/Networks:101.0.0' has started uploading asynchronously\n",
      "\u001b[1;38;5;39mCOMET INFO:\u001b[0m Artifact 'DataSetup' version 103.0.0 created (previous was: 102.0.0)\n",
      "\u001b[1;38;5;39mCOMET INFO:\u001b[0m Scheduling the upload of 1 assets: 1 local assets for a size of 7.72 KB, and 0 remote assets (will be linked, not uploaded). This can take some time.\n",
      "\u001b[1;38;5;39mCOMET INFO:\u001b[0m Artifact 'derick-amontagna/DataSetup:103.0.0' has started uploading asynchronously\n",
      "\u001b[1;38;5;39mCOMET INFO:\u001b[0m Artifact 'derick-amontagna/DataSetup:103.0.0' has been fully uploaded successfully\n",
      "\u001b[1;38;5;39mCOMET INFO:\u001b[0m Artifact 'derick-amontagna/Networks:101.0.0' has been fully uploaded successfully\n",
      "\u001b[1;38;5;39mCOMET INFO:\u001b[0m Artifact 'derick-amontagna/Engine:101.0.0' has been fully uploaded successfully\n"
     ]
    },
    {
     "name": "stdout",
     "output_type": "stream",
     "text": [
      "Loading Dataloader\n",
      "Use DAMS Basic\n",
      "Create model\n",
      "Start Train\n"
     ]
    },
    {
     "data": {
      "application/vnd.jupyter.widget-view+json": {
       "model_id": "08f4882b17904d7a8d07b7a9004f976d",
       "version_major": 2,
       "version_minor": 0
      },
      "text/plain": [
       "  0%|          | 0/50 [00:00<?, ?it/s]"
      ]
     },
     "metadata": {},
     "output_type": "display_data"
    },
    {
     "name": "stderr",
     "output_type": "stream",
     "text": [
      "/root/anaconda3/envs/lapixdl/lib/python3.11/site-packages/torchmetrics/utilities/prints.py:36: UserWarning: Metric `AUROC` will save all targets and predictions in buffer. For large datasets this may lead to large memory footprint.\n",
      "  warnings.warn(*args, **kwargs)\n"
     ]
    },
    {
     "name": "stdout",
     "output_type": "stream",
     "text": [
      "Loaded model from epoch 46 with best validation auc: 0.92%\n",
      "DONE\n"
     ]
    },
    {
     "name": "stderr",
     "output_type": "stream",
     "text": [
      "\u001b[1;38;5;39mCOMET INFO:\u001b[0m ---------------------------------------------------------------------------------------\n",
      "\u001b[1;38;5;39mCOMET INFO:\u001b[0m Comet.ml Experiment Summary\n",
      "\u001b[1;38;5;39mCOMET INFO:\u001b[0m ---------------------------------------------------------------------------------------\n",
      "\u001b[1;38;5;39mCOMET INFO:\u001b[0m   Data:\n",
      "\u001b[1;38;5;39mCOMET INFO:\u001b[0m     display_summary_level : 1\n",
      "\u001b[1;38;5;39mCOMET INFO:\u001b[0m     name                  : controversial_cow_6594\n",
      "\u001b[1;38;5;39mCOMET INFO:\u001b[0m     url                   : https://www.comet.com/derick-amontagna/adni1-s-siemens-dams-sgd-8/17d6634770c644a4a7985d84582c1d73\n",
      "\u001b[1;38;5;39mCOMET INFO:\u001b[0m   Metrics [count] (min, max):\n",
      "\u001b[1;38;5;39mCOMET INFO:\u001b[0m     epoch [50]         : (0, 49)\n",
      "\u001b[1;38;5;39mCOMET INFO:\u001b[0m     loss [1970]        : (0.018180515617132187, 0.6018229722976685)\n",
      "\u001b[1;38;5;39mCOMET INFO:\u001b[0m     test_acc           : 0.7905534351145038\n",
      "\u001b[1;38;5;39mCOMET INFO:\u001b[0m     test_acc_target    : 0.6822916666666666\n",
      "\u001b[1;38;5;39mCOMET INFO:\u001b[0m     test_acc_target_2  : 0.7185650887573964\n",
      "\u001b[1;38;5;39mCOMET INFO:\u001b[0m     test_auc           : 0.8779126405715942\n",
      "\u001b[1;38;5;39mCOMET INFO:\u001b[0m     test_auc_target    : 0.6960797309875488\n",
      "\u001b[1;38;5;39mCOMET INFO:\u001b[0m     test_auc_target_2  : 0.7603187561035156\n",
      "\u001b[1;38;5;39mCOMET INFO:\u001b[0m     test_loss          : 0.3594789598279327\n",
      "\u001b[1;38;5;39mCOMET INFO:\u001b[0m     test_loss_target   : 0.5747675743574897\n",
      "\u001b[1;38;5;39mCOMET INFO:\u001b[0m     test_loss_target_2 : 0.5203802228502973\n",
      "\u001b[1;38;5;39mCOMET INFO:\u001b[0m     train_acc [50]     : (0.5694003807106599, 0.9906408629441624)\n",
      "\u001b[1;38;5;39mCOMET INFO:\u001b[0m     train_auc [50]     : (0.5974070429801941, 0.9993056058883667)\n",
      "\u001b[1;38;5;39mCOMET INFO:\u001b[0m     train_loss [50]    : (0.04462070333851775, 0.49965938562669127)\n",
      "\u001b[1;38;5;39mCOMET INFO:\u001b[0m     val_acc [50]       : (0.3778125, 0.8725)\n",
      "\u001b[1;38;5;39mCOMET INFO:\u001b[0m     val_auc [50]       : (0.5769705772399902, 0.9247881174087524)\n",
      "\u001b[1;38;5;39mCOMET INFO:\u001b[0m     val_loss [50]      : (0.2857749842852354, 0.9171118808165193)\n",
      "\u001b[1;38;5;39mCOMET INFO:\u001b[0m   Others:\n",
      "\u001b[1;38;5;39mCOMET INFO:\u001b[0m     best_epoch             : 46\n",
      "\u001b[1;38;5;39mCOMET INFO:\u001b[0m     best_val_metric        : 0.9247881174087524\n",
      "\u001b[1;38;5;39mCOMET INFO:\u001b[0m     optimizer_count        : 25\n",
      "\u001b[1;38;5;39mCOMET INFO:\u001b[0m     optimizer_id           : a6175d5da17447a2a07d393e335bcde5\n",
      "\u001b[1;38;5;39mCOMET INFO:\u001b[0m     optimizer_metric       : val_auc\n",
      "\u001b[1;38;5;39mCOMET INFO:\u001b[0m     optimizer_metric_value : 0.9247881174087524\n",
      "\u001b[1;38;5;39mCOMET INFO:\u001b[0m     optimizer_name         : SOURCE_Siemens\n",
      "\u001b[1;38;5;39mCOMET INFO:\u001b[0m     optimizer_objective    : maximize\n",
      "\u001b[1;38;5;39mCOMET INFO:\u001b[0m     optimizer_parameters   : {\"batch_size\": 32, \"dropout\": 0.2, \"lr\": 0.0009, \"model\": \"DAMS\", \"momentum\": 0.9, \"seed\": 42, \"source\": \"Siemens\", \"target_1\": \"Philips\", \"target_2\": \"GE\", \"weight_decay\": 0.02}\n",
      "\u001b[1;38;5;39mCOMET INFO:\u001b[0m     optimizer_pid          : 6d407fd7b43d03247ee53d83d8689578c73b65d1\n",
      "\u001b[1;38;5;39mCOMET INFO:\u001b[0m     optimizer_process      : 544623\n",
      "\u001b[1;38;5;39mCOMET INFO:\u001b[0m     optimizer_trial        : 1\n",
      "\u001b[1;38;5;39mCOMET INFO:\u001b[0m     optimizer_version      : 2.1.4\n",
      "\u001b[1;38;5;39mCOMET INFO:\u001b[0m   Parameters:\n",
      "\u001b[1;38;5;39mCOMET INFO:\u001b[0m     batch_size   : 32\n",
      "\u001b[1;38;5;39mCOMET INFO:\u001b[0m     dropout      : 0.2\n",
      "\u001b[1;38;5;39mCOMET INFO:\u001b[0m     lr           : 0.0009\n",
      "\u001b[1;38;5;39mCOMET INFO:\u001b[0m     model        : DAMS\n",
      "\u001b[1;38;5;39mCOMET INFO:\u001b[0m     momentum     : 0.9\n",
      "\u001b[1;38;5;39mCOMET INFO:\u001b[0m     pos_weight   : 0.576\n",
      "\u001b[1;38;5;39mCOMET INFO:\u001b[0m     seed         : 42\n",
      "\u001b[1;38;5;39mCOMET INFO:\u001b[0m     source       : Siemens\n",
      "\u001b[1;38;5;39mCOMET INFO:\u001b[0m     target_1     : Philips\n",
      "\u001b[1;38;5;39mCOMET INFO:\u001b[0m     target_2     : GE\n",
      "\u001b[1;38;5;39mCOMET INFO:\u001b[0m     weight_decay : 0.02\n",
      "\u001b[1;38;5;39mCOMET INFO:\u001b[0m   Uploads:\n",
      "\u001b[1;38;5;39mCOMET INFO:\u001b[0m     artifact assets              : 3 (21.76 KB)\n",
      "\u001b[1;38;5;39mCOMET INFO:\u001b[0m     artifacts                    : 3\n",
      "\u001b[1;38;5;39mCOMET INFO:\u001b[0m     conda-environment-definition : 1\n",
      "\u001b[1;38;5;39mCOMET INFO:\u001b[0m     conda-info                   : 1\n",
      "\u001b[1;38;5;39mCOMET INFO:\u001b[0m     conda-specification          : 1\n",
      "\u001b[1;38;5;39mCOMET INFO:\u001b[0m     environment details          : 1\n",
      "\u001b[1;38;5;39mCOMET INFO:\u001b[0m     filename                     : 1\n",
      "\u001b[1;38;5;39mCOMET INFO:\u001b[0m     git metadata                 : 1\n",
      "\u001b[1;38;5;39mCOMET INFO:\u001b[0m     git-patch (uncompressed)     : 1 (892.09 KB)\n",
      "\u001b[1;38;5;39mCOMET INFO:\u001b[0m     installed packages           : 1\n",
      "\u001b[1;38;5;39mCOMET INFO:\u001b[0m     model graph                  : 1\n",
      "\u001b[1;38;5;39mCOMET INFO:\u001b[0m     model-element                : 1 (183.72 MB)\n",
      "\u001b[1;38;5;39mCOMET INFO:\u001b[0m     notebook                     : 1\n",
      "\u001b[1;38;5;39mCOMET INFO:\u001b[0m     os packages                  : 1\n",
      "\u001b[1;38;5;39mCOMET INFO:\u001b[0m     source_code                  : 1\n",
      "\u001b[1;38;5;39mCOMET INFO:\u001b[0m \n",
      "\u001b[1;38;5;39mCOMET INFO:\u001b[0m Uploading 75 metrics, params and output messages\n",
      "\u001b[1;38;5;39mCOMET INFO:\u001b[0m Please wait for assets to finish uploading (timeout is 10800 seconds)\n",
      "\u001b[1;38;5;39mCOMET INFO:\u001b[0m Still uploading 3 file(s), remaining 113.72 MB/183.75 MB\n",
      "\u001b[1;38;5;214mCOMET WARNING:\u001b[0m As you are running in a Jupyter environment, you will need to call `experiment.end()` when finished to ensure all metrics and code are logged before exiting.\n",
      "\u001b[1;38;5;39mCOMET INFO:\u001b[0m Experiment is live on comet.com https://www.comet.com/derick-amontagna/adni1-s-siemens-dams-sgd-8/50a6ca294de8404684060541ff73ade7\n",
      "\n",
      "\u001b[1;38;5;39mCOMET INFO:\u001b[0m Artifact 'Engine' version 102.0.0 created (previous was: 101.0.0)\n"
     ]
    },
    {
     "name": "stdout",
     "output_type": "stream",
     "text": [
      "Treinando esse modelo: DAMS\n",
      "Treinando com o source: Siemens/target: Philips/GE\n"
     ]
    },
    {
     "name": "stderr",
     "output_type": "stream",
     "text": [
      "\u001b[1;38;5;39mCOMET INFO:\u001b[0m Scheduling the upload of 1 assets: 1 local assets for a size of 8.21 KB, and 0 remote assets (will be linked, not uploaded). This can take some time.\n",
      "\u001b[1;38;5;39mCOMET INFO:\u001b[0m Artifact 'derick-amontagna/Engine:102.0.0' has started uploading asynchronously\n",
      "\u001b[1;38;5;39mCOMET INFO:\u001b[0m Artifact 'Networks' version 102.0.0 created (previous was: 101.0.0)\n",
      "\u001b[1;38;5;39mCOMET INFO:\u001b[0m Scheduling the upload of 1 assets: 1 local assets for a size of 5.82 KB, and 0 remote assets (will be linked, not uploaded). This can take some time.\n",
      "\u001b[1;38;5;39mCOMET INFO:\u001b[0m Artifact 'derick-amontagna/Networks:102.0.0' has started uploading asynchronously\n",
      "\u001b[1;38;5;39mCOMET INFO:\u001b[0m Artifact 'DataSetup' version 104.0.0 created (previous was: 103.0.0)\n",
      "\u001b[1;38;5;39mCOMET INFO:\u001b[0m Scheduling the upload of 1 assets: 1 local assets for a size of 7.72 KB, and 0 remote assets (will be linked, not uploaded). This can take some time.\n",
      "\u001b[1;38;5;39mCOMET INFO:\u001b[0m Artifact 'derick-amontagna/DataSetup:104.0.0' has started uploading asynchronously\n",
      "\u001b[1;38;5;39mCOMET INFO:\u001b[0m Artifact 'derick-amontagna/DataSetup:104.0.0' has been fully uploaded successfully\n",
      "\u001b[1;38;5;39mCOMET INFO:\u001b[0m Artifact 'derick-amontagna/Engine:102.0.0' has been fully uploaded successfully\n"
     ]
    },
    {
     "name": "stdout",
     "output_type": "stream",
     "text": [
      "Loading Dataloader\n"
     ]
    },
    {
     "name": "stderr",
     "output_type": "stream",
     "text": [
      "\u001b[1;38;5;39mCOMET INFO:\u001b[0m Artifact 'derick-amontagna/Networks:102.0.0' has been fully uploaded successfully\n"
     ]
    },
    {
     "name": "stdout",
     "output_type": "stream",
     "text": [
      "Use DAMS Basic\n",
      "Create model\n",
      "Start Train\n"
     ]
    },
    {
     "data": {
      "application/vnd.jupyter.widget-view+json": {
       "model_id": "b1567c10b8ee4f2ba17b4c9c6af88e74",
       "version_major": 2,
       "version_minor": 0
      },
      "text/plain": [
       "  0%|          | 0/50 [00:00<?, ?it/s]"
      ]
     },
     "metadata": {},
     "output_type": "display_data"
    },
    {
     "name": "stderr",
     "output_type": "stream",
     "text": [
      "/root/anaconda3/envs/lapixdl/lib/python3.11/site-packages/torchmetrics/utilities/prints.py:36: UserWarning: Metric `AUROC` will save all targets and predictions in buffer. For large datasets this may lead to large memory footprint.\n",
      "  warnings.warn(*args, **kwargs)\n"
     ]
    },
    {
     "name": "stdout",
     "output_type": "stream",
     "text": [
      "Loaded model from epoch 37 with best validation auc: 0.95%\n",
      "DONE\n"
     ]
    },
    {
     "name": "stderr",
     "output_type": "stream",
     "text": [
      "\u001b[1;38;5;39mCOMET INFO:\u001b[0m ---------------------------------------------------------------------------------------\n",
      "\u001b[1;38;5;39mCOMET INFO:\u001b[0m Comet.ml Experiment Summary\n",
      "\u001b[1;38;5;39mCOMET INFO:\u001b[0m ---------------------------------------------------------------------------------------\n",
      "\u001b[1;38;5;39mCOMET INFO:\u001b[0m   Data:\n",
      "\u001b[1;38;5;39mCOMET INFO:\u001b[0m     display_summary_level : 1\n",
      "\u001b[1;38;5;39mCOMET INFO:\u001b[0m     name                  : linguistic_adhesive_7017\n",
      "\u001b[1;38;5;39mCOMET INFO:\u001b[0m     url                   : https://www.comet.com/derick-amontagna/adni1-s-siemens-dams-sgd-8/50a6ca294de8404684060541ff73ade7\n",
      "\u001b[1;38;5;39mCOMET INFO:\u001b[0m   Metrics [count] (min, max):\n",
      "\u001b[1;38;5;39mCOMET INFO:\u001b[0m     epoch [50]         : (0, 49)\n",
      "\u001b[1;38;5;39mCOMET INFO:\u001b[0m     loss [1970]        : (0.034754179418087006, 0.5889168381690979)\n",
      "\u001b[1;38;5;39mCOMET INFO:\u001b[0m     test_acc           : 0.7874522900763359\n",
      "\u001b[1;38;5;39mCOMET INFO:\u001b[0m     test_acc_target    : 0.6868489583333334\n",
      "\u001b[1;38;5;39mCOMET INFO:\u001b[0m     test_acc_target_2  : 0.7111686390532544\n",
      "\u001b[1;38;5;39mCOMET INFO:\u001b[0m     test_auc           : 0.8733758330345154\n",
      "\u001b[1;38;5;39mCOMET INFO:\u001b[0m     test_auc_target    : 0.7894164323806763\n",
      "\u001b[1;38;5;39mCOMET INFO:\u001b[0m     test_auc_target_2  : 0.749480128288269\n",
      "\u001b[1;38;5;39mCOMET INFO:\u001b[0m     test_loss          : 0.46501324433861796\n",
      "\u001b[1;38;5;39mCOMET INFO:\u001b[0m     test_loss_target   : 0.7553376770423105\n",
      "\u001b[1;38;5;39mCOMET INFO:\u001b[0m     test_loss_target_2 : 0.6407212476361785\n",
      "\u001b[1;38;5;39mCOMET INFO:\u001b[0m     train_acc [50]     : (0.5721763959390863, 0.9841370558375635)\n",
      "\u001b[1;38;5;39mCOMET INFO:\u001b[0m     train_auc [50]     : (0.5955284833908081, 0.9980438947677612)\n",
      "\u001b[1;38;5;39mCOMET INFO:\u001b[0m     train_loss [50]    : (0.0666113243093194, 0.49995427642982015)\n",
      "\u001b[1;38;5;39mCOMET INFO:\u001b[0m     val_acc [50]       : (0.39875, 0.8846875)\n",
      "\u001b[1;38;5;39mCOMET INFO:\u001b[0m     val_auc [50]       : (0.6545486450195312, 0.9466581344604492)\n",
      "\u001b[1;38;5;39mCOMET INFO:\u001b[0m     val_loss [50]      : (0.24296443503350018, 0.8334637581929565)\n",
      "\u001b[1;38;5;39mCOMET INFO:\u001b[0m   Others:\n",
      "\u001b[1;38;5;39mCOMET INFO:\u001b[0m     best_epoch             : 37\n",
      "\u001b[1;38;5;39mCOMET INFO:\u001b[0m     best_val_metric        : 0.9466581344604492\n",
      "\u001b[1;38;5;39mCOMET INFO:\u001b[0m     optimizer_count        : 26\n",
      "\u001b[1;38;5;39mCOMET INFO:\u001b[0m     optimizer_id           : a6175d5da17447a2a07d393e335bcde5\n",
      "\u001b[1;38;5;39mCOMET INFO:\u001b[0m     optimizer_metric       : val_auc\n",
      "\u001b[1;38;5;39mCOMET INFO:\u001b[0m     optimizer_metric_value : 0.9466581344604492\n",
      "\u001b[1;38;5;39mCOMET INFO:\u001b[0m     optimizer_name         : SOURCE_Siemens\n",
      "\u001b[1;38;5;39mCOMET INFO:\u001b[0m     optimizer_objective    : maximize\n",
      "\u001b[1;38;5;39mCOMET INFO:\u001b[0m     optimizer_parameters   : {\"batch_size\": 32, \"dropout\": 0.2, \"lr\": 0.0009, \"model\": \"DAMS\", \"momentum\": 0.9, \"seed\": 42, \"source\": \"Siemens\", \"target_1\": \"Philips\", \"target_2\": \"GE\", \"weight_decay\": 0.03}\n",
      "\u001b[1;38;5;39mCOMET INFO:\u001b[0m     optimizer_pid          : ea501bbc08d4ee5a0f27f7bcbaeac5b19660961f\n",
      "\u001b[1;38;5;39mCOMET INFO:\u001b[0m     optimizer_process      : 544623\n",
      "\u001b[1;38;5;39mCOMET INFO:\u001b[0m     optimizer_trial        : 1\n",
      "\u001b[1;38;5;39mCOMET INFO:\u001b[0m     optimizer_version      : 2.1.4\n",
      "\u001b[1;38;5;39mCOMET INFO:\u001b[0m   Parameters:\n",
      "\u001b[1;38;5;39mCOMET INFO:\u001b[0m     batch_size   : 32\n",
      "\u001b[1;38;5;39mCOMET INFO:\u001b[0m     dropout      : 0.2\n",
      "\u001b[1;38;5;39mCOMET INFO:\u001b[0m     lr           : 0.0009\n",
      "\u001b[1;38;5;39mCOMET INFO:\u001b[0m     model        : DAMS\n",
      "\u001b[1;38;5;39mCOMET INFO:\u001b[0m     momentum     : 0.9\n",
      "\u001b[1;38;5;39mCOMET INFO:\u001b[0m     pos_weight   : 0.576\n",
      "\u001b[1;38;5;39mCOMET INFO:\u001b[0m     seed         : 42\n",
      "\u001b[1;38;5;39mCOMET INFO:\u001b[0m     source       : Siemens\n",
      "\u001b[1;38;5;39mCOMET INFO:\u001b[0m     target_1     : Philips\n",
      "\u001b[1;38;5;39mCOMET INFO:\u001b[0m     target_2     : GE\n",
      "\u001b[1;38;5;39mCOMET INFO:\u001b[0m     weight_decay : 0.03\n",
      "\u001b[1;38;5;39mCOMET INFO:\u001b[0m   Uploads:\n",
      "\u001b[1;38;5;39mCOMET INFO:\u001b[0m     artifact assets              : 3 (21.76 KB)\n",
      "\u001b[1;38;5;39mCOMET INFO:\u001b[0m     artifacts                    : 3\n",
      "\u001b[1;38;5;39mCOMET INFO:\u001b[0m     conda-environment-definition : 1\n",
      "\u001b[1;38;5;39mCOMET INFO:\u001b[0m     conda-info                   : 1\n",
      "\u001b[1;38;5;39mCOMET INFO:\u001b[0m     conda-specification          : 1\n",
      "\u001b[1;38;5;39mCOMET INFO:\u001b[0m     environment details          : 1\n",
      "\u001b[1;38;5;39mCOMET INFO:\u001b[0m     filename                     : 1\n",
      "\u001b[1;38;5;39mCOMET INFO:\u001b[0m     git metadata                 : 1\n",
      "\u001b[1;38;5;39mCOMET INFO:\u001b[0m     git-patch (uncompressed)     : 1 (902.40 KB)\n",
      "\u001b[1;38;5;39mCOMET INFO:\u001b[0m     installed packages           : 1\n",
      "\u001b[1;38;5;39mCOMET INFO:\u001b[0m     model graph                  : 1\n",
      "\u001b[1;38;5;39mCOMET INFO:\u001b[0m     model-element                : 1 (183.72 MB)\n",
      "\u001b[1;38;5;39mCOMET INFO:\u001b[0m     notebook                     : 1\n",
      "\u001b[1;38;5;39mCOMET INFO:\u001b[0m     os packages                  : 1\n",
      "\u001b[1;38;5;39mCOMET INFO:\u001b[0m     source_code                  : 1\n",
      "\u001b[1;38;5;39mCOMET INFO:\u001b[0m \n",
      "\u001b[1;38;5;39mCOMET INFO:\u001b[0m Please wait for assets to finish uploading (timeout is 10800 seconds)\n",
      "\u001b[1;38;5;39mCOMET INFO:\u001b[0m Still uploading 1 file(s), remaining 103.72 MB/183.72 MB\n",
      "\u001b[1;38;5;214mCOMET WARNING:\u001b[0m As you are running in a Jupyter environment, you will need to call `experiment.end()` when finished to ensure all metrics and code are logged before exiting.\n",
      "\u001b[1;38;5;39mCOMET INFO:\u001b[0m Experiment is live on comet.com https://www.comet.com/derick-amontagna/adni1-s-siemens-dams-sgd-8/4e723d55611e4802b515c466ce6d098b\n",
      "\n"
     ]
    },
    {
     "name": "stdout",
     "output_type": "stream",
     "text": [
      "Treinando esse modelo: DAMS\n",
      "Treinando com o source: Siemens/target: Philips/GE\n"
     ]
    },
    {
     "name": "stderr",
     "output_type": "stream",
     "text": [
      "\u001b[1;38;5;39mCOMET INFO:\u001b[0m Artifact 'Engine' version 103.0.0 created (previous was: 102.0.0)\n",
      "\u001b[1;38;5;39mCOMET INFO:\u001b[0m Scheduling the upload of 1 assets: 1 local assets for a size of 8.21 KB, and 0 remote assets (will be linked, not uploaded). This can take some time.\n",
      "\u001b[1;38;5;39mCOMET INFO:\u001b[0m Artifact 'derick-amontagna/Engine:103.0.0' has started uploading asynchronously\n",
      "\u001b[1;38;5;39mCOMET INFO:\u001b[0m Artifact 'Networks' version 103.0.0 created (previous was: 102.0.0)\n",
      "\u001b[1;38;5;39mCOMET INFO:\u001b[0m Scheduling the upload of 1 assets: 1 local assets for a size of 5.82 KB, and 0 remote assets (will be linked, not uploaded). This can take some time.\n",
      "\u001b[1;38;5;39mCOMET INFO:\u001b[0m Artifact 'derick-amontagna/Networks:103.0.0' has started uploading asynchronously\n",
      "\u001b[1;38;5;39mCOMET INFO:\u001b[0m Artifact 'DataSetup' version 105.0.0 created (previous was: 104.0.0)\n",
      "\u001b[1;38;5;39mCOMET INFO:\u001b[0m Scheduling the upload of 1 assets: 1 local assets for a size of 7.72 KB, and 0 remote assets (will be linked, not uploaded). This can take some time.\n",
      "\u001b[1;38;5;39mCOMET INFO:\u001b[0m Artifact 'derick-amontagna/DataSetup:105.0.0' has started uploading asynchronously\n"
     ]
    },
    {
     "name": "stdout",
     "output_type": "stream",
     "text": [
      "Loading Dataloader\n",
      "Use DAMS Basic\n",
      "Create model\n",
      "Start Train\n"
     ]
    },
    {
     "data": {
      "application/vnd.jupyter.widget-view+json": {
       "model_id": "0e3710ca1ddb4d0482ca4c26224fc6d5",
       "version_major": 2,
       "version_minor": 0
      },
      "text/plain": [
       "  0%|          | 0/50 [00:00<?, ?it/s]"
      ]
     },
     "metadata": {},
     "output_type": "display_data"
    },
    {
     "name": "stderr",
     "output_type": "stream",
     "text": [
      "\u001b[1;38;5;39mCOMET INFO:\u001b[0m Artifact 'derick-amontagna/DataSetup:105.0.0' has been fully uploaded successfully\n",
      "\u001b[1;38;5;39mCOMET INFO:\u001b[0m Artifact 'derick-amontagna/Networks:103.0.0' has been fully uploaded successfully\n",
      "\u001b[1;38;5;39mCOMET INFO:\u001b[0m Artifact 'derick-amontagna/Engine:103.0.0' has been fully uploaded successfully\n",
      "/root/anaconda3/envs/lapixdl/lib/python3.11/site-packages/torchmetrics/utilities/prints.py:36: UserWarning: Metric `AUROC` will save all targets and predictions in buffer. For large datasets this may lead to large memory footprint.\n",
      "  warnings.warn(*args, **kwargs)\n"
     ]
    },
    {
     "name": "stdout",
     "output_type": "stream",
     "text": [
      "terminating because of early stopping!\n",
      "Loaded model from epoch 5 with best validation auc: 0.91%\n",
      "DONE\n"
     ]
    },
    {
     "name": "stderr",
     "output_type": "stream",
     "text": [
      "\u001b[1;38;5;39mCOMET INFO:\u001b[0m ---------------------------------------------------------------------------------------\n",
      "\u001b[1;38;5;39mCOMET INFO:\u001b[0m Comet.ml Experiment Summary\n",
      "\u001b[1;38;5;39mCOMET INFO:\u001b[0m ---------------------------------------------------------------------------------------\n",
      "\u001b[1;38;5;39mCOMET INFO:\u001b[0m   Data:\n",
      "\u001b[1;38;5;39mCOMET INFO:\u001b[0m     display_summary_level : 1\n",
      "\u001b[1;38;5;39mCOMET INFO:\u001b[0m     name                  : statutory_refinery_5681\n",
      "\u001b[1;38;5;39mCOMET INFO:\u001b[0m     url                   : https://www.comet.com/derick-amontagna/adni1-s-siemens-dams-sgd-8/4e723d55611e4802b515c466ce6d098b\n",
      "\u001b[1;38;5;39mCOMET INFO:\u001b[0m   Metrics [count] (min, max):\n",
      "\u001b[1;38;5;39mCOMET INFO:\u001b[0m     epoch [25]         : (0, 24)\n",
      "\u001b[1;38;5;39mCOMET INFO:\u001b[0m     loss [985]         : (0.019169311970472336, 0.5756925344467163)\n",
      "\u001b[1;38;5;39mCOMET INFO:\u001b[0m     test_acc           : 0.7817270992366412\n",
      "\u001b[1;38;5;39mCOMET INFO:\u001b[0m     test_acc_target    : 0.7174479166666666\n",
      "\u001b[1;38;5;39mCOMET INFO:\u001b[0m     test_acc_target_2  : 0.744637573964497\n",
      "\u001b[1;38;5;39mCOMET INFO:\u001b[0m     test_auc           : 0.8790597319602966\n",
      "\u001b[1;38;5;39mCOMET INFO:\u001b[0m     test_auc_target    : 0.817237377166748\n",
      "\u001b[1;38;5;39mCOMET INFO:\u001b[0m     test_auc_target_2  : 0.7687681913375854\n",
      "\u001b[1;38;5;39mCOMET INFO:\u001b[0m     test_loss          : 0.5502507612464651\n",
      "\u001b[1;38;5;39mCOMET INFO:\u001b[0m     test_loss_target   : 0.5527409121859819\n",
      "\u001b[1;38;5;39mCOMET INFO:\u001b[0m     test_loss_target_2 : 0.6363861255083211\n",
      "\u001b[1;38;5;39mCOMET INFO:\u001b[0m     train_acc [25]     : (0.5806630710659898, 0.9894511421319797)\n",
      "\u001b[1;38;5;39mCOMET INFO:\u001b[0m     train_auc [25]     : (0.6068389415740967, 0.9992849826812744)\n",
      "\u001b[1;38;5;39mCOMET INFO:\u001b[0m     train_loss [25]    : (0.045424212630705785, 0.4982847669705522)\n",
      "\u001b[1;38;5;39mCOMET INFO:\u001b[0m     val_acc [25]       : (0.3815625, 0.8853125)\n",
      "\u001b[1;38;5;39mCOMET INFO:\u001b[0m     val_auc [25]       : (0.45732325315475464, 0.909997284412384)\n",
      "\u001b[1;38;5;39mCOMET INFO:\u001b[0m     val_loss [25]      : (0.3171555882133543, 0.7970756764803082)\n",
      "\u001b[1;38;5;39mCOMET INFO:\u001b[0m   Others:\n",
      "\u001b[1;38;5;39mCOMET INFO:\u001b[0m     best_epoch             : 5\n",
      "\u001b[1;38;5;39mCOMET INFO:\u001b[0m     best_val_metric        : 0.909997284412384\n",
      "\u001b[1;38;5;39mCOMET INFO:\u001b[0m     optimizer_count        : 27\n",
      "\u001b[1;38;5;39mCOMET INFO:\u001b[0m     optimizer_id           : a6175d5da17447a2a07d393e335bcde5\n",
      "\u001b[1;38;5;39mCOMET INFO:\u001b[0m     optimizer_metric       : val_auc\n",
      "\u001b[1;38;5;39mCOMET INFO:\u001b[0m     optimizer_metric_value : 0.909997284412384\n",
      "\u001b[1;38;5;39mCOMET INFO:\u001b[0m     optimizer_name         : SOURCE_Siemens\n",
      "\u001b[1;38;5;39mCOMET INFO:\u001b[0m     optimizer_objective    : maximize\n",
      "\u001b[1;38;5;39mCOMET INFO:\u001b[0m     optimizer_parameters   : {\"batch_size\": 32, \"dropout\": 0.3, \"lr\": 0.0009, \"model\": \"DAMS\", \"momentum\": 0.9, \"seed\": 42, \"source\": \"Siemens\", \"target_1\": \"Philips\", \"target_2\": \"GE\", \"weight_decay\": 0.02}\n",
      "\u001b[1;38;5;39mCOMET INFO:\u001b[0m     optimizer_pid          : aef0d0ceb6327443572d3f54b81802ceeaf3ca1b\n",
      "\u001b[1;38;5;39mCOMET INFO:\u001b[0m     optimizer_process      : 544623\n",
      "\u001b[1;38;5;39mCOMET INFO:\u001b[0m     optimizer_trial        : 1\n",
      "\u001b[1;38;5;39mCOMET INFO:\u001b[0m     optimizer_version      : 2.1.4\n",
      "\u001b[1;38;5;39mCOMET INFO:\u001b[0m   Parameters:\n",
      "\u001b[1;38;5;39mCOMET INFO:\u001b[0m     batch_size   : 32\n",
      "\u001b[1;38;5;39mCOMET INFO:\u001b[0m     dropout      : 0.3\n",
      "\u001b[1;38;5;39mCOMET INFO:\u001b[0m     lr           : 0.0009\n",
      "\u001b[1;38;5;39mCOMET INFO:\u001b[0m     model        : DAMS\n",
      "\u001b[1;38;5;39mCOMET INFO:\u001b[0m     momentum     : 0.9\n",
      "\u001b[1;38;5;39mCOMET INFO:\u001b[0m     pos_weight   : 0.576\n",
      "\u001b[1;38;5;39mCOMET INFO:\u001b[0m     seed         : 42\n",
      "\u001b[1;38;5;39mCOMET INFO:\u001b[0m     source       : Siemens\n",
      "\u001b[1;38;5;39mCOMET INFO:\u001b[0m     target_1     : Philips\n",
      "\u001b[1;38;5;39mCOMET INFO:\u001b[0m     target_2     : GE\n",
      "\u001b[1;38;5;39mCOMET INFO:\u001b[0m     weight_decay : 0.02\n",
      "\u001b[1;38;5;39mCOMET INFO:\u001b[0m   Uploads:\n",
      "\u001b[1;38;5;39mCOMET INFO:\u001b[0m     artifact assets              : 3 (21.76 KB)\n",
      "\u001b[1;38;5;39mCOMET INFO:\u001b[0m     artifacts                    : 3\n",
      "\u001b[1;38;5;39mCOMET INFO:\u001b[0m     conda-environment-definition : 1\n",
      "\u001b[1;38;5;39mCOMET INFO:\u001b[0m     conda-info                   : 1\n",
      "\u001b[1;38;5;39mCOMET INFO:\u001b[0m     conda-specification          : 1\n",
      "\u001b[1;38;5;39mCOMET INFO:\u001b[0m     environment details          : 1\n",
      "\u001b[1;38;5;39mCOMET INFO:\u001b[0m     filename                     : 1\n",
      "\u001b[1;38;5;39mCOMET INFO:\u001b[0m     git metadata                 : 1\n",
      "\u001b[1;38;5;39mCOMET INFO:\u001b[0m     git-patch (uncompressed)     : 1 (912.52 KB)\n",
      "\u001b[1;38;5;39mCOMET INFO:\u001b[0m     installed packages           : 1\n",
      "\u001b[1;38;5;39mCOMET INFO:\u001b[0m     model graph                  : 1\n",
      "\u001b[1;38;5;39mCOMET INFO:\u001b[0m     model-element                : 1 (183.72 MB)\n",
      "\u001b[1;38;5;39mCOMET INFO:\u001b[0m     notebook                     : 1\n",
      "\u001b[1;38;5;39mCOMET INFO:\u001b[0m     os packages                  : 1\n",
      "\u001b[1;38;5;39mCOMET INFO:\u001b[0m     source_code                  : 1\n",
      "\u001b[1;38;5;39mCOMET INFO:\u001b[0m \n",
      "\u001b[1;38;5;39mCOMET INFO:\u001b[0m Please wait for assets to finish uploading (timeout is 10800 seconds)\n",
      "\u001b[1;38;5;39mCOMET INFO:\u001b[0m Still uploading 1 file(s), remaining 113.72 MB/183.72 MB\n",
      "\u001b[1;38;5;214mCOMET WARNING:\u001b[0m As you are running in a Jupyter environment, you will need to call `experiment.end()` when finished to ensure all metrics and code are logged before exiting.\n",
      "\u001b[1;38;5;39mCOMET INFO:\u001b[0m Experiment is live on comet.com https://www.comet.com/derick-amontagna/adni1-s-siemens-dams-sgd-8/ea0601d98b6e4adea858c7e5ef3c1e4b\n",
      "\n"
     ]
    },
    {
     "name": "stdout",
     "output_type": "stream",
     "text": [
      "Treinando esse modelo: DAMS\n",
      "Treinando com o source: Siemens/target: Philips/GE\n"
     ]
    },
    {
     "name": "stderr",
     "output_type": "stream",
     "text": [
      "\u001b[1;38;5;39mCOMET INFO:\u001b[0m Artifact 'Engine' version 104.0.0 created (previous was: 103.0.0)\n",
      "\u001b[1;38;5;39mCOMET INFO:\u001b[0m Scheduling the upload of 1 assets: 1 local assets for a size of 8.21 KB, and 0 remote assets (will be linked, not uploaded). This can take some time.\n",
      "\u001b[1;38;5;39mCOMET INFO:\u001b[0m Artifact 'derick-amontagna/Engine:104.0.0' has started uploading asynchronously\n",
      "\u001b[1;38;5;39mCOMET INFO:\u001b[0m Artifact 'Networks' version 104.0.0 created (previous was: 103.0.0)\n",
      "\u001b[1;38;5;39mCOMET INFO:\u001b[0m Scheduling the upload of 1 assets: 1 local assets for a size of 5.82 KB, and 0 remote assets (will be linked, not uploaded). This can take some time.\n",
      "\u001b[1;38;5;39mCOMET INFO:\u001b[0m Artifact 'derick-amontagna/Networks:104.0.0' has started uploading asynchronously\n",
      "\u001b[1;38;5;39mCOMET INFO:\u001b[0m Artifact 'DataSetup' version 106.0.0 created (previous was: 105.0.0)\n",
      "\u001b[1;38;5;39mCOMET INFO:\u001b[0m Scheduling the upload of 1 assets: 1 local assets for a size of 7.72 KB, and 0 remote assets (will be linked, not uploaded). This can take some time.\n",
      "\u001b[1;38;5;39mCOMET INFO:\u001b[0m Artifact 'derick-amontagna/DataSetup:106.0.0' has started uploading asynchronously\n"
     ]
    },
    {
     "name": "stdout",
     "output_type": "stream",
     "text": [
      "Loading Dataloader\n",
      "Use DAMS Basic\n",
      "Create model\n",
      "Start Train\n"
     ]
    },
    {
     "data": {
      "application/vnd.jupyter.widget-view+json": {
       "model_id": "65e97f08189a40e68f10a0db6a1b79e1",
       "version_major": 2,
       "version_minor": 0
      },
      "text/plain": [
       "  0%|          | 0/50 [00:00<?, ?it/s]"
      ]
     },
     "metadata": {},
     "output_type": "display_data"
    },
    {
     "name": "stderr",
     "output_type": "stream",
     "text": [
      "/root/anaconda3/envs/lapixdl/lib/python3.11/site-packages/torchmetrics/utilities/prints.py:36: UserWarning: Metric `AUROC` will save all targets and predictions in buffer. For large datasets this may lead to large memory footprint.\n",
      "  warnings.warn(*args, **kwargs)\n",
      "\u001b[1;38;5;39mCOMET INFO:\u001b[0m Artifact 'derick-amontagna/Engine:104.0.0' has been fully uploaded successfully\n",
      "\u001b[1;38;5;39mCOMET INFO:\u001b[0m Artifact 'derick-amontagna/Networks:104.0.0' has been fully uploaded successfully\n",
      "\u001b[1;38;5;39mCOMET INFO:\u001b[0m Artifact 'derick-amontagna/DataSetup:106.0.0' has been fully uploaded successfully\n",
      "/root/anaconda3/envs/lapixdl/lib/python3.11/site-packages/torchmetrics/utilities/prints.py:36: UserWarning: Metric `AUROC` will save all targets and predictions in buffer. For large datasets this may lead to large memory footprint.\n",
      "  warnings.warn(*args, **kwargs)\n"
     ]
    },
    {
     "name": "stdout",
     "output_type": "stream",
     "text": [
      "Loaded model from epoch 34 with best validation auc: 0.95%\n",
      "DONE\n"
     ]
    },
    {
     "name": "stderr",
     "output_type": "stream",
     "text": [
      "\u001b[1;38;5;39mCOMET INFO:\u001b[0m ---------------------------------------------------------------------------------------\n",
      "\u001b[1;38;5;39mCOMET INFO:\u001b[0m Comet.ml Experiment Summary\n",
      "\u001b[1;38;5;39mCOMET INFO:\u001b[0m ---------------------------------------------------------------------------------------\n",
      "\u001b[1;38;5;39mCOMET INFO:\u001b[0m   Data:\n",
      "\u001b[1;38;5;39mCOMET INFO:\u001b[0m     display_summary_level : 1\n",
      "\u001b[1;38;5;39mCOMET INFO:\u001b[0m     name                  : above_trim_200\n",
      "\u001b[1;38;5;39mCOMET INFO:\u001b[0m     url                   : https://www.comet.com/derick-amontagna/adni1-s-siemens-dams-sgd-8/ea0601d98b6e4adea858c7e5ef3c1e4b\n",
      "\u001b[1;38;5;39mCOMET INFO:\u001b[0m   Metrics [count] (min, max):\n",
      "\u001b[1;38;5;39mCOMET INFO:\u001b[0m     epoch [50]         : (0, 49)\n",
      "\u001b[1;38;5;39mCOMET INFO:\u001b[0m     loss [1970]        : (0.03286919742822647, 0.5957474708557129)\n",
      "\u001b[1;38;5;39mCOMET INFO:\u001b[0m     test_acc           : 0.8148854961832062\n",
      "\u001b[1;38;5;39mCOMET INFO:\u001b[0m     test_acc_target    : 0.6796875\n",
      "\u001b[1;38;5;39mCOMET INFO:\u001b[0m     test_acc_target_2  : 0.6839866863905325\n",
      "\u001b[1;38;5;39mCOMET INFO:\u001b[0m     test_auc           : 0.9025328159332275\n",
      "\u001b[1;38;5;39mCOMET INFO:\u001b[0m     test_auc_target    : 0.7855194807052612\n",
      "\u001b[1;38;5;39mCOMET INFO:\u001b[0m     test_auc_target_2  : 0.7841521501541138\n",
      "\u001b[1;38;5;39mCOMET INFO:\u001b[0m     test_loss          : 0.3486651438963777\n",
      "\u001b[1;38;5;39mCOMET INFO:\u001b[0m     test_loss_target   : 0.6807587259293845\n",
      "\u001b[1;38;5;39mCOMET INFO:\u001b[0m     test_loss_target_2 : 0.6853335826883654\n",
      "\u001b[1;38;5;39mCOMET INFO:\u001b[0m     train_acc [50]     : (0.5784422588832487, 0.9840577411167513)\n",
      "\u001b[1;38;5;39mCOMET INFO:\u001b[0m     train_auc [50]     : (0.6023794412612915, 0.998153805732727)\n",
      "\u001b[1;38;5;39mCOMET INFO:\u001b[0m     train_loss [50]    : (0.06611966957257787, 0.4986452202355196)\n",
      "\u001b[1;38;5;39mCOMET INFO:\u001b[0m     val_acc [50]       : (0.380625, 0.884375)\n",
      "\u001b[1;38;5;39mCOMET INFO:\u001b[0m     val_auc [50]       : (0.6437692046165466, 0.9461216330528259)\n",
      "\u001b[1;38;5;39mCOMET INFO:\u001b[0m     val_loss [50]      : (0.26224585227668284, 1.0365223716571927)\n",
      "\u001b[1;38;5;39mCOMET INFO:\u001b[0m   Others:\n",
      "\u001b[1;38;5;39mCOMET INFO:\u001b[0m     best_epoch             : 34\n",
      "\u001b[1;38;5;39mCOMET INFO:\u001b[0m     best_val_metric        : 0.9461216330528259\n",
      "\u001b[1;38;5;39mCOMET INFO:\u001b[0m     optimizer_count        : 28\n",
      "\u001b[1;38;5;39mCOMET INFO:\u001b[0m     optimizer_id           : a6175d5da17447a2a07d393e335bcde5\n",
      "\u001b[1;38;5;39mCOMET INFO:\u001b[0m     optimizer_metric       : val_auc\n",
      "\u001b[1;38;5;39mCOMET INFO:\u001b[0m     optimizer_metric_value : 0.9461216330528259\n",
      "\u001b[1;38;5;39mCOMET INFO:\u001b[0m     optimizer_name         : SOURCE_Siemens\n",
      "\u001b[1;38;5;39mCOMET INFO:\u001b[0m     optimizer_objective    : maximize\n",
      "\u001b[1;38;5;39mCOMET INFO:\u001b[0m     optimizer_parameters   : {\"batch_size\": 32, \"dropout\": 0.3, \"lr\": 0.0009, \"model\": \"DAMS\", \"momentum\": 0.9, \"seed\": 42, \"source\": \"Siemens\", \"target_1\": \"Philips\", \"target_2\": \"GE\", \"weight_decay\": 0.03}\n",
      "\u001b[1;38;5;39mCOMET INFO:\u001b[0m     optimizer_pid          : ee84ee9c65cd79ed62a97ea3bbe42f58acb93d10\n",
      "\u001b[1;38;5;39mCOMET INFO:\u001b[0m     optimizer_process      : 544623\n",
      "\u001b[1;38;5;39mCOMET INFO:\u001b[0m     optimizer_trial        : 1\n",
      "\u001b[1;38;5;39mCOMET INFO:\u001b[0m     optimizer_version      : 2.1.4\n",
      "\u001b[1;38;5;39mCOMET INFO:\u001b[0m   Parameters:\n",
      "\u001b[1;38;5;39mCOMET INFO:\u001b[0m     batch_size   : 32\n",
      "\u001b[1;38;5;39mCOMET INFO:\u001b[0m     dropout      : 0.3\n",
      "\u001b[1;38;5;39mCOMET INFO:\u001b[0m     lr           : 0.0009\n",
      "\u001b[1;38;5;39mCOMET INFO:\u001b[0m     model        : DAMS\n",
      "\u001b[1;38;5;39mCOMET INFO:\u001b[0m     momentum     : 0.9\n",
      "\u001b[1;38;5;39mCOMET INFO:\u001b[0m     pos_weight   : 0.576\n",
      "\u001b[1;38;5;39mCOMET INFO:\u001b[0m     seed         : 42\n",
      "\u001b[1;38;5;39mCOMET INFO:\u001b[0m     source       : Siemens\n",
      "\u001b[1;38;5;39mCOMET INFO:\u001b[0m     target_1     : Philips\n",
      "\u001b[1;38;5;39mCOMET INFO:\u001b[0m     target_2     : GE\n",
      "\u001b[1;38;5;39mCOMET INFO:\u001b[0m     weight_decay : 0.03\n",
      "\u001b[1;38;5;39mCOMET INFO:\u001b[0m   Uploads:\n",
      "\u001b[1;38;5;39mCOMET INFO:\u001b[0m     artifact assets              : 3 (21.76 KB)\n",
      "\u001b[1;38;5;39mCOMET INFO:\u001b[0m     artifacts                    : 3\n",
      "\u001b[1;38;5;39mCOMET INFO:\u001b[0m     conda-environment-definition : 1\n",
      "\u001b[1;38;5;39mCOMET INFO:\u001b[0m     conda-info                   : 1\n",
      "\u001b[1;38;5;39mCOMET INFO:\u001b[0m     conda-specification          : 1\n",
      "\u001b[1;38;5;39mCOMET INFO:\u001b[0m     environment details          : 1\n",
      "\u001b[1;38;5;39mCOMET INFO:\u001b[0m     filename                     : 1\n",
      "\u001b[1;38;5;39mCOMET INFO:\u001b[0m     git metadata                 : 1\n",
      "\u001b[1;38;5;39mCOMET INFO:\u001b[0m     git-patch (uncompressed)     : 1 (922.66 KB)\n",
      "\u001b[1;38;5;39mCOMET INFO:\u001b[0m     installed packages           : 1\n",
      "\u001b[1;38;5;39mCOMET INFO:\u001b[0m     model graph                  : 1\n",
      "\u001b[1;38;5;39mCOMET INFO:\u001b[0m     model-element                : 1 (183.72 MB)\n",
      "\u001b[1;38;5;39mCOMET INFO:\u001b[0m     notebook                     : 1\n",
      "\u001b[1;38;5;39mCOMET INFO:\u001b[0m     os packages                  : 1\n",
      "\u001b[1;38;5;39mCOMET INFO:\u001b[0m     source_code                  : 1\n",
      "\u001b[1;38;5;39mCOMET INFO:\u001b[0m \n",
      "\u001b[1;38;5;39mCOMET INFO:\u001b[0m Uploading 75 metrics, params and output messages\n",
      "\u001b[1;38;5;39mCOMET INFO:\u001b[0m Please wait for assets to finish uploading (timeout is 10800 seconds)\n",
      "\u001b[1;38;5;39mCOMET INFO:\u001b[0m Still uploading 1 file(s), remaining 108.72 MB/183.72 MB\n",
      "\u001b[1;38;5;214mCOMET WARNING:\u001b[0m As you are running in a Jupyter environment, you will need to call `experiment.end()` when finished to ensure all metrics and code are logged before exiting.\n",
      "\u001b[1;38;5;39mCOMET INFO:\u001b[0m Experiment is live on comet.com https://www.comet.com/derick-amontagna/adni1-s-siemens-dams-sgd-8/4f6f59997fcc4c0c98abd293a5ff8521\n",
      "\n",
      "\u001b[1;38;5;39mCOMET INFO:\u001b[0m Artifact 'Engine' version 105.0.0 created (previous was: 104.0.0)\n"
     ]
    },
    {
     "name": "stdout",
     "output_type": "stream",
     "text": [
      "Treinando esse modelo: DAMS\n",
      "Treinando com o source: Siemens/target: Philips/GE\n"
     ]
    },
    {
     "name": "stderr",
     "output_type": "stream",
     "text": [
      "\u001b[1;38;5;39mCOMET INFO:\u001b[0m Scheduling the upload of 1 assets: 1 local assets for a size of 8.21 KB, and 0 remote assets (will be linked, not uploaded). This can take some time.\n",
      "\u001b[1;38;5;39mCOMET INFO:\u001b[0m Artifact 'derick-amontagna/Engine:105.0.0' has started uploading asynchronously\n",
      "\u001b[1;38;5;39mCOMET INFO:\u001b[0m Artifact 'Networks' version 105.0.0 created (previous was: 104.0.0)\n",
      "\u001b[1;38;5;39mCOMET INFO:\u001b[0m Scheduling the upload of 1 assets: 1 local assets for a size of 5.82 KB, and 0 remote assets (will be linked, not uploaded). This can take some time.\n",
      "\u001b[1;38;5;39mCOMET INFO:\u001b[0m Artifact 'derick-amontagna/Networks:105.0.0' has started uploading asynchronously\n",
      "\u001b[1;38;5;39mCOMET INFO:\u001b[0m Artifact 'DataSetup' version 107.0.0 created (previous was: 106.0.0)\n",
      "\u001b[1;38;5;39mCOMET INFO:\u001b[0m Scheduling the upload of 1 assets: 1 local assets for a size of 7.72 KB, and 0 remote assets (will be linked, not uploaded). This can take some time.\n",
      "\u001b[1;38;5;39mCOMET INFO:\u001b[0m Artifact 'derick-amontagna/DataSetup:107.0.0' has started uploading asynchronously\n"
     ]
    },
    {
     "name": "stdout",
     "output_type": "stream",
     "text": [
      "Loading Dataloader\n",
      "Use DAMS Basic\n",
      "Create model\n",
      "Start Train\n"
     ]
    },
    {
     "data": {
      "application/vnd.jupyter.widget-view+json": {
       "model_id": "2b7d9a47e40341579b5141528a416bb1",
       "version_major": 2,
       "version_minor": 0
      },
      "text/plain": [
       "  0%|          | 0/50 [00:00<?, ?it/s]"
      ]
     },
     "metadata": {},
     "output_type": "display_data"
    },
    {
     "name": "stderr",
     "output_type": "stream",
     "text": [
      "/root/anaconda3/envs/lapixdl/lib/python3.11/site-packages/torchmetrics/utilities/prints.py:36: UserWarning: Metric `AUROC` will save all targets and predictions in buffer. For large datasets this may lead to large memory footprint.\n",
      "  warnings.warn(*args, **kwargs)\n",
      "\u001b[1;38;5;39mCOMET INFO:\u001b[0m Artifact 'derick-amontagna/Networks:105.0.0' has been fully uploaded successfully\n",
      "\u001b[1;38;5;39mCOMET INFO:\u001b[0m Artifact 'derick-amontagna/Engine:105.0.0' has been fully uploaded successfully\n",
      "\u001b[1;38;5;39mCOMET INFO:\u001b[0m Artifact 'derick-amontagna/DataSetup:107.0.0' has been fully uploaded successfully\n",
      "/root/anaconda3/envs/lapixdl/lib/python3.11/site-packages/torchmetrics/utilities/prints.py:36: UserWarning: Metric `AUROC` will save all targets and predictions in buffer. For large datasets this may lead to large memory footprint.\n",
      "  warnings.warn(*args, **kwargs)\n"
     ]
    },
    {
     "name": "stdout",
     "output_type": "stream",
     "text": [
      "Loaded model from epoch 37 with best validation auc: 0.95%\n",
      "DONE\n"
     ]
    },
    {
     "name": "stderr",
     "output_type": "stream",
     "text": [
      "\u001b[1;38;5;39mCOMET INFO:\u001b[0m ---------------------------------------------------------------------------------------\n",
      "\u001b[1;38;5;39mCOMET INFO:\u001b[0m Comet.ml Experiment Summary\n",
      "\u001b[1;38;5;39mCOMET INFO:\u001b[0m ---------------------------------------------------------------------------------------\n",
      "\u001b[1;38;5;39mCOMET INFO:\u001b[0m   Data:\n",
      "\u001b[1;38;5;39mCOMET INFO:\u001b[0m     display_summary_level : 1\n",
      "\u001b[1;38;5;39mCOMET INFO:\u001b[0m     name                  : unconscious_butter_3095\n",
      "\u001b[1;38;5;39mCOMET INFO:\u001b[0m     url                   : https://www.comet.com/derick-amontagna/adni1-s-siemens-dams-sgd-8/4f6f59997fcc4c0c98abd293a5ff8521\n",
      "\u001b[1;38;5;39mCOMET INFO:\u001b[0m   Metrics [count] (min, max):\n",
      "\u001b[1;38;5;39mCOMET INFO:\u001b[0m     epoch [50]         : (0, 49)\n",
      "\u001b[1;38;5;39mCOMET INFO:\u001b[0m     loss [1970]        : (0.018557796254754066, 0.5896968841552734)\n",
      "\u001b[1;38;5;39mCOMET INFO:\u001b[0m     test_acc           : 0.7860209923664122\n",
      "\u001b[1;38;5;39mCOMET INFO:\u001b[0m     test_acc_target    : 0.69921875\n",
      "\u001b[1;38;5;39mCOMET INFO:\u001b[0m     test_acc_target_2  : 0.740569526627219\n",
      "\u001b[1;38;5;39mCOMET INFO:\u001b[0m     test_auc           : 0.875311017036438\n",
      "\u001b[1;38;5;39mCOMET INFO:\u001b[0m     test_auc_target    : 0.7368515729904175\n",
      "\u001b[1;38;5;39mCOMET INFO:\u001b[0m     test_auc_target_2  : 0.786466121673584\n",
      "\u001b[1;38;5;39mCOMET INFO:\u001b[0m     test_loss          : 0.437995778041259\n",
      "\u001b[1;38;5;39mCOMET INFO:\u001b[0m     test_loss_target   : 0.7662495189967254\n",
      "\u001b[1;38;5;39mCOMET INFO:\u001b[0m     test_loss_target_2 : 0.5327954735364434\n",
      "\u001b[1;38;5;39mCOMET INFO:\u001b[0m     train_acc [50]     : (0.5757455583756346, 0.9884200507614214)\n",
      "\u001b[1;38;5;39mCOMET INFO:\u001b[0m     train_auc [50]     : (0.5978412628173828, 0.999030351638794)\n",
      "\u001b[1;38;5;39mCOMET INFO:\u001b[0m     train_loss [50]    : (0.04381707339987234, 0.49960827524891965)\n",
      "\u001b[1;38;5;39mCOMET INFO:\u001b[0m     val_acc [50]       : (0.6034375, 0.88625)\n",
      "\u001b[1;38;5;39mCOMET INFO:\u001b[0m     val_auc [50]       : (0.4663952589035034, 0.9460840821266174)\n",
      "\u001b[1;38;5;39mCOMET INFO:\u001b[0m     val_loss [50]      : (0.23975993491709233, 1.1048244853690266)\n",
      "\u001b[1;38;5;39mCOMET INFO:\u001b[0m   Others:\n",
      "\u001b[1;38;5;39mCOMET INFO:\u001b[0m     best_epoch             : 37\n",
      "\u001b[1;38;5;39mCOMET INFO:\u001b[0m     best_val_metric        : 0.9460840821266174\n",
      "\u001b[1;38;5;39mCOMET INFO:\u001b[0m     optimizer_count        : 29\n",
      "\u001b[1;38;5;39mCOMET INFO:\u001b[0m     optimizer_id           : a6175d5da17447a2a07d393e335bcde5\n",
      "\u001b[1;38;5;39mCOMET INFO:\u001b[0m     optimizer_metric       : val_auc\n",
      "\u001b[1;38;5;39mCOMET INFO:\u001b[0m     optimizer_metric_value : 0.9460840821266174\n",
      "\u001b[1;38;5;39mCOMET INFO:\u001b[0m     optimizer_name         : SOURCE_Siemens\n",
      "\u001b[1;38;5;39mCOMET INFO:\u001b[0m     optimizer_objective    : maximize\n",
      "\u001b[1;38;5;39mCOMET INFO:\u001b[0m     optimizer_parameters   : {\"batch_size\": 32, \"dropout\": 0.4, \"lr\": 0.0009, \"model\": \"DAMS\", \"momentum\": 0.9, \"seed\": 42, \"source\": \"Siemens\", \"target_1\": \"Philips\", \"target_2\": \"GE\", \"weight_decay\": 0.02}\n",
      "\u001b[1;38;5;39mCOMET INFO:\u001b[0m     optimizer_pid          : 6e7df08e3d8c57ae94977510816390929b8988e5\n",
      "\u001b[1;38;5;39mCOMET INFO:\u001b[0m     optimizer_process      : 544623\n",
      "\u001b[1;38;5;39mCOMET INFO:\u001b[0m     optimizer_trial        : 1\n",
      "\u001b[1;38;5;39mCOMET INFO:\u001b[0m     optimizer_version      : 2.1.4\n",
      "\u001b[1;38;5;39mCOMET INFO:\u001b[0m   Parameters:\n",
      "\u001b[1;38;5;39mCOMET INFO:\u001b[0m     batch_size   : 32\n",
      "\u001b[1;38;5;39mCOMET INFO:\u001b[0m     dropout      : 0.4\n",
      "\u001b[1;38;5;39mCOMET INFO:\u001b[0m     lr           : 0.0009\n",
      "\u001b[1;38;5;39mCOMET INFO:\u001b[0m     model        : DAMS\n",
      "\u001b[1;38;5;39mCOMET INFO:\u001b[0m     momentum     : 0.9\n",
      "\u001b[1;38;5;39mCOMET INFO:\u001b[0m     pos_weight   : 0.576\n",
      "\u001b[1;38;5;39mCOMET INFO:\u001b[0m     seed         : 42\n",
      "\u001b[1;38;5;39mCOMET INFO:\u001b[0m     source       : Siemens\n",
      "\u001b[1;38;5;39mCOMET INFO:\u001b[0m     target_1     : Philips\n",
      "\u001b[1;38;5;39mCOMET INFO:\u001b[0m     target_2     : GE\n",
      "\u001b[1;38;5;39mCOMET INFO:\u001b[0m     weight_decay : 0.02\n",
      "\u001b[1;38;5;39mCOMET INFO:\u001b[0m   Uploads:\n",
      "\u001b[1;38;5;39mCOMET INFO:\u001b[0m     artifact assets              : 3 (21.76 KB)\n",
      "\u001b[1;38;5;39mCOMET INFO:\u001b[0m     artifacts                    : 3\n",
      "\u001b[1;38;5;39mCOMET INFO:\u001b[0m     conda-environment-definition : 1\n",
      "\u001b[1;38;5;39mCOMET INFO:\u001b[0m     conda-info                   : 1\n",
      "\u001b[1;38;5;39mCOMET INFO:\u001b[0m     conda-specification          : 1\n",
      "\u001b[1;38;5;39mCOMET INFO:\u001b[0m     environment details          : 1\n",
      "\u001b[1;38;5;39mCOMET INFO:\u001b[0m     filename                     : 1\n",
      "\u001b[1;38;5;39mCOMET INFO:\u001b[0m     git metadata                 : 1\n",
      "\u001b[1;38;5;39mCOMET INFO:\u001b[0m     git-patch (uncompressed)     : 1 (932.85 KB)\n",
      "\u001b[1;38;5;39mCOMET INFO:\u001b[0m     installed packages           : 1\n",
      "\u001b[1;38;5;39mCOMET INFO:\u001b[0m     model graph                  : 1\n",
      "\u001b[1;38;5;39mCOMET INFO:\u001b[0m     model-element                : 1 (183.72 MB)\n",
      "\u001b[1;38;5;39mCOMET INFO:\u001b[0m     notebook                     : 1\n",
      "\u001b[1;38;5;39mCOMET INFO:\u001b[0m     os packages                  : 1\n",
      "\u001b[1;38;5;39mCOMET INFO:\u001b[0m     source_code                  : 1\n",
      "\u001b[1;38;5;39mCOMET INFO:\u001b[0m \n",
      "\u001b[1;38;5;39mCOMET INFO:\u001b[0m Please wait for assets to finish uploading (timeout is 10800 seconds)\n",
      "\u001b[1;38;5;39mCOMET INFO:\u001b[0m Still uploading 1 file(s), remaining 103.72 MB/183.72 MB\n",
      "\u001b[1;38;5;214mCOMET WARNING:\u001b[0m As you are running in a Jupyter environment, you will need to call `experiment.end()` when finished to ensure all metrics and code are logged before exiting.\n",
      "\u001b[1;38;5;39mCOMET INFO:\u001b[0m Experiment is live on comet.com https://www.comet.com/derick-amontagna/adni1-s-siemens-dams-sgd-8/b6d174cbe18d4810a3a317d300cef531\n",
      "\n",
      "\u001b[1;38;5;39mCOMET INFO:\u001b[0m Artifact 'Engine' version 106.0.0 created (previous was: 105.0.0)\n"
     ]
    },
    {
     "name": "stdout",
     "output_type": "stream",
     "text": [
      "Treinando esse modelo: DAMS\n",
      "Treinando com o source: Siemens/target: Philips/GE\n"
     ]
    },
    {
     "name": "stderr",
     "output_type": "stream",
     "text": [
      "\u001b[1;38;5;39mCOMET INFO:\u001b[0m Scheduling the upload of 1 assets: 1 local assets for a size of 8.21 KB, and 0 remote assets (will be linked, not uploaded). This can take some time.\n",
      "\u001b[1;38;5;39mCOMET INFO:\u001b[0m Artifact 'derick-amontagna/Engine:106.0.0' has started uploading asynchronously\n",
      "\u001b[1;38;5;39mCOMET INFO:\u001b[0m Artifact 'Networks' version 106.0.0 created (previous was: 105.0.0)\n",
      "\u001b[1;38;5;39mCOMET INFO:\u001b[0m Scheduling the upload of 1 assets: 1 local assets for a size of 5.82 KB, and 0 remote assets (will be linked, not uploaded). This can take some time.\n",
      "\u001b[1;38;5;39mCOMET INFO:\u001b[0m Artifact 'derick-amontagna/Networks:106.0.0' has started uploading asynchronously\n",
      "\u001b[1;38;5;39mCOMET INFO:\u001b[0m Artifact 'DataSetup' version 108.0.0 created (previous was: 107.0.0)\n",
      "\u001b[1;38;5;39mCOMET INFO:\u001b[0m Scheduling the upload of 1 assets: 1 local assets for a size of 7.72 KB, and 0 remote assets (will be linked, not uploaded). This can take some time.\n",
      "\u001b[1;38;5;39mCOMET INFO:\u001b[0m Artifact 'derick-amontagna/DataSetup:108.0.0' has started uploading asynchronously\n"
     ]
    },
    {
     "name": "stdout",
     "output_type": "stream",
     "text": [
      "Loading Dataloader\n",
      "Use DAMS Basic\n",
      "Create model\n",
      "Start Train\n"
     ]
    },
    {
     "data": {
      "application/vnd.jupyter.widget-view+json": {
       "model_id": "45993534089346aea7b66ab02171be12",
       "version_major": 2,
       "version_minor": 0
      },
      "text/plain": [
       "  0%|          | 0/50 [00:00<?, ?it/s]"
      ]
     },
     "metadata": {},
     "output_type": "display_data"
    },
    {
     "name": "stderr",
     "output_type": "stream",
     "text": [
      "/root/anaconda3/envs/lapixdl/lib/python3.11/site-packages/torchmetrics/utilities/prints.py:36: UserWarning: Metric `AUROC` will save all targets and predictions in buffer. For large datasets this may lead to large memory footprint.\n",
      "  warnings.warn(*args, **kwargs)\n",
      "\u001b[1;38;5;39mCOMET INFO:\u001b[0m Artifact 'derick-amontagna/Engine:106.0.0' has been fully uploaded successfully\n",
      "\u001b[1;38;5;39mCOMET INFO:\u001b[0m Artifact 'derick-amontagna/Networks:106.0.0' has been fully uploaded successfully\n",
      "\u001b[1;38;5;39mCOMET INFO:\u001b[0m Artifact 'derick-amontagna/DataSetup:108.0.0' has been fully uploaded successfully\n",
      "/root/anaconda3/envs/lapixdl/lib/python3.11/site-packages/torchmetrics/utilities/prints.py:36: UserWarning: Metric `AUROC` will save all targets and predictions in buffer. For large datasets this may lead to large memory footprint.\n",
      "  warnings.warn(*args, **kwargs)\n"
     ]
    },
    {
     "name": "stdout",
     "output_type": "stream",
     "text": [
      "Loaded model from epoch 48 with best validation auc: 0.96%\n",
      "DONE\n"
     ]
    },
    {
     "name": "stderr",
     "output_type": "stream",
     "text": [
      "\u001b[1;38;5;39mCOMET INFO:\u001b[0m ---------------------------------------------------------------------------------------\n",
      "\u001b[1;38;5;39mCOMET INFO:\u001b[0m Comet.ml Experiment Summary\n",
      "\u001b[1;38;5;39mCOMET INFO:\u001b[0m ---------------------------------------------------------------------------------------\n",
      "\u001b[1;38;5;39mCOMET INFO:\u001b[0m   Data:\n",
      "\u001b[1;38;5;39mCOMET INFO:\u001b[0m     display_summary_level : 1\n",
      "\u001b[1;38;5;39mCOMET INFO:\u001b[0m     name                  : symbolic_quelea_2204\n",
      "\u001b[1;38;5;39mCOMET INFO:\u001b[0m     url                   : https://www.comet.com/derick-amontagna/adni1-s-siemens-dams-sgd-8/b6d174cbe18d4810a3a317d300cef531\n",
      "\u001b[1;38;5;39mCOMET INFO:\u001b[0m   Metrics [count] (min, max):\n",
      "\u001b[1;38;5;39mCOMET INFO:\u001b[0m     epoch [50]         : (0, 49)\n",
      "\u001b[1;38;5;39mCOMET INFO:\u001b[0m     loss [1970]        : (0.03563416004180908, 0.592771589756012)\n",
      "\u001b[1;38;5;39mCOMET INFO:\u001b[0m     test_acc           : 0.7330629770992366\n",
      "\u001b[1;38;5;39mCOMET INFO:\u001b[0m     test_acc_target    : 0.650390625\n",
      "\u001b[1;38;5;39mCOMET INFO:\u001b[0m     test_acc_target_2  : 0.7220784023668639\n",
      "\u001b[1;38;5;39mCOMET INFO:\u001b[0m     test_auc           : 0.8850597739219666\n",
      "\u001b[1;38;5;39mCOMET INFO:\u001b[0m     test_auc_target    : 0.7329370379447937\n",
      "\u001b[1;38;5;39mCOMET INFO:\u001b[0m     test_auc_target_2  : 0.8320803642272949\n",
      "\u001b[1;38;5;39mCOMET INFO:\u001b[0m     test_loss          : 0.4146103540449652\n",
      "\u001b[1;38;5;39mCOMET INFO:\u001b[0m     test_loss_target   : 0.577319017611444\n",
      "\u001b[1;38;5;39mCOMET INFO:\u001b[0m     test_loss_target_2 : 0.4601433083150514\n",
      "\u001b[1;38;5;39mCOMET INFO:\u001b[0m     train_acc [50]     : (0.5717005076142132, 0.983502538071066)\n",
      "\u001b[1;38;5;39mCOMET INFO:\u001b[0m     train_auc [50]     : (0.5959376096725464, 0.9980035424232483)\n",
      "\u001b[1;38;5;39mCOMET INFO:\u001b[0m     train_loss [50]    : (0.0675248640121391, 0.4994269104929745)\n",
      "\u001b[1;38;5;39mCOMET INFO:\u001b[0m     val_acc [50]       : (0.4909375, 0.874375)\n",
      "\u001b[1;38;5;39mCOMET INFO:\u001b[0m     val_auc [50]       : (0.6786050200462341, 0.9619364738464355)\n",
      "\u001b[1;38;5;39mCOMET INFO:\u001b[0m     val_loss [50]      : (0.21436065178364516, 0.8503750652167946)\n",
      "\u001b[1;38;5;39mCOMET INFO:\u001b[0m   Others:\n",
      "\u001b[1;38;5;39mCOMET INFO:\u001b[0m     best_epoch             : 48\n",
      "\u001b[1;38;5;39mCOMET INFO:\u001b[0m     best_val_metric        : 0.9619364738464355\n",
      "\u001b[1;38;5;39mCOMET INFO:\u001b[0m     optimizer_count        : 30\n",
      "\u001b[1;38;5;39mCOMET INFO:\u001b[0m     optimizer_id           : a6175d5da17447a2a07d393e335bcde5\n",
      "\u001b[1;38;5;39mCOMET INFO:\u001b[0m     optimizer_metric       : val_auc\n",
      "\u001b[1;38;5;39mCOMET INFO:\u001b[0m     optimizer_metric_value : 0.9619364738464355\n",
      "\u001b[1;38;5;39mCOMET INFO:\u001b[0m     optimizer_name         : SOURCE_Siemens\n",
      "\u001b[1;38;5;39mCOMET INFO:\u001b[0m     optimizer_objective    : maximize\n",
      "\u001b[1;38;5;39mCOMET INFO:\u001b[0m     optimizer_parameters   : {\"batch_size\": 32, \"dropout\": 0.4, \"lr\": 0.0009, \"model\": \"DAMS\", \"momentum\": 0.9, \"seed\": 42, \"source\": \"Siemens\", \"target_1\": \"Philips\", \"target_2\": \"GE\", \"weight_decay\": 0.03}\n",
      "\u001b[1;38;5;39mCOMET INFO:\u001b[0m     optimizer_pid          : fe7cfcbcd7b7a1bf4c3a74a20b51ad6b47aa7340\n",
      "\u001b[1;38;5;39mCOMET INFO:\u001b[0m     optimizer_process      : 544623\n",
      "\u001b[1;38;5;39mCOMET INFO:\u001b[0m     optimizer_trial        : 1\n",
      "\u001b[1;38;5;39mCOMET INFO:\u001b[0m     optimizer_version      : 2.1.4\n",
      "\u001b[1;38;5;39mCOMET INFO:\u001b[0m   Parameters:\n",
      "\u001b[1;38;5;39mCOMET INFO:\u001b[0m     batch_size   : 32\n",
      "\u001b[1;38;5;39mCOMET INFO:\u001b[0m     dropout      : 0.4\n",
      "\u001b[1;38;5;39mCOMET INFO:\u001b[0m     lr           : 0.0009\n",
      "\u001b[1;38;5;39mCOMET INFO:\u001b[0m     model        : DAMS\n",
      "\u001b[1;38;5;39mCOMET INFO:\u001b[0m     momentum     : 0.9\n",
      "\u001b[1;38;5;39mCOMET INFO:\u001b[0m     pos_weight   : 0.576\n",
      "\u001b[1;38;5;39mCOMET INFO:\u001b[0m     seed         : 42\n",
      "\u001b[1;38;5;39mCOMET INFO:\u001b[0m     source       : Siemens\n",
      "\u001b[1;38;5;39mCOMET INFO:\u001b[0m     target_1     : Philips\n",
      "\u001b[1;38;5;39mCOMET INFO:\u001b[0m     target_2     : GE\n",
      "\u001b[1;38;5;39mCOMET INFO:\u001b[0m     weight_decay : 0.03\n",
      "\u001b[1;38;5;39mCOMET INFO:\u001b[0m   Uploads:\n",
      "\u001b[1;38;5;39mCOMET INFO:\u001b[0m     artifact assets              : 3 (21.76 KB)\n",
      "\u001b[1;38;5;39mCOMET INFO:\u001b[0m     artifacts                    : 3\n",
      "\u001b[1;38;5;39mCOMET INFO:\u001b[0m     conda-environment-definition : 1\n",
      "\u001b[1;38;5;39mCOMET INFO:\u001b[0m     conda-info                   : 1\n",
      "\u001b[1;38;5;39mCOMET INFO:\u001b[0m     conda-specification          : 1\n",
      "\u001b[1;38;5;39mCOMET INFO:\u001b[0m     environment details          : 1\n",
      "\u001b[1;38;5;39mCOMET INFO:\u001b[0m     filename                     : 1\n",
      "\u001b[1;38;5;39mCOMET INFO:\u001b[0m     git metadata                 : 1\n",
      "\u001b[1;38;5;39mCOMET INFO:\u001b[0m     git-patch (uncompressed)     : 1 (943.21 KB)\n",
      "\u001b[1;38;5;39mCOMET INFO:\u001b[0m     installed packages           : 1\n",
      "\u001b[1;38;5;39mCOMET INFO:\u001b[0m     model graph                  : 1\n",
      "\u001b[1;38;5;39mCOMET INFO:\u001b[0m     model-element                : 1 (183.72 MB)\n",
      "\u001b[1;38;5;39mCOMET INFO:\u001b[0m     notebook                     : 1\n",
      "\u001b[1;38;5;39mCOMET INFO:\u001b[0m     os packages                  : 1\n",
      "\u001b[1;38;5;39mCOMET INFO:\u001b[0m     source_code                  : 1\n",
      "\u001b[1;38;5;39mCOMET INFO:\u001b[0m \n",
      "\u001b[1;38;5;39mCOMET INFO:\u001b[0m Please wait for assets to finish uploading (timeout is 10800 seconds)\n",
      "\u001b[1;38;5;39mCOMET INFO:\u001b[0m Still uploading 1 file(s), remaining 93.72 MB/183.72 MB\n",
      "\u001b[1;38;5;214mCOMET WARNING:\u001b[0m As you are running in a Jupyter environment, you will need to call `experiment.end()` when finished to ensure all metrics and code are logged before exiting.\n",
      "\u001b[1;38;5;39mCOMET INFO:\u001b[0m Experiment is live on comet.com https://www.comet.com/derick-amontagna/adni1-s-siemens-dams-sgd-8/168e255805e74f5fb1aeef5606e39f05\n",
      "\n"
     ]
    },
    {
     "name": "stdout",
     "output_type": "stream",
     "text": [
      "Treinando esse modelo: DAMS\n",
      "Treinando com o source: Siemens/target: Philips/GE\n"
     ]
    },
    {
     "name": "stderr",
     "output_type": "stream",
     "text": [
      "\u001b[1;38;5;39mCOMET INFO:\u001b[0m Artifact 'Engine' version 107.0.0 created (previous was: 106.0.0)\n",
      "\u001b[1;38;5;39mCOMET INFO:\u001b[0m Scheduling the upload of 1 assets: 1 local assets for a size of 8.21 KB, and 0 remote assets (will be linked, not uploaded). This can take some time.\n",
      "\u001b[1;38;5;39mCOMET INFO:\u001b[0m Artifact 'derick-amontagna/Engine:107.0.0' has started uploading asynchronously\n",
      "\u001b[1;38;5;39mCOMET INFO:\u001b[0m Artifact 'Networks' version 107.0.0 created (previous was: 106.0.0)\n",
      "\u001b[1;38;5;39mCOMET INFO:\u001b[0m Scheduling the upload of 1 assets: 1 local assets for a size of 5.82 KB, and 0 remote assets (will be linked, not uploaded). This can take some time.\n",
      "\u001b[1;38;5;39mCOMET INFO:\u001b[0m Artifact 'derick-amontagna/Networks:107.0.0' has started uploading asynchronously\n",
      "\u001b[1;38;5;39mCOMET INFO:\u001b[0m Artifact 'DataSetup' version 109.0.0 created (previous was: 108.0.0)\n",
      "\u001b[1;38;5;39mCOMET INFO:\u001b[0m Scheduling the upload of 1 assets: 1 local assets for a size of 7.72 KB, and 0 remote assets (will be linked, not uploaded). This can take some time.\n",
      "\u001b[1;38;5;39mCOMET INFO:\u001b[0m Artifact 'derick-amontagna/DataSetup:109.0.0' has started uploading asynchronously\n"
     ]
    },
    {
     "name": "stdout",
     "output_type": "stream",
     "text": [
      "Loading Dataloader\n",
      "Use DAMS Basic\n",
      "Create model\n",
      "Start Train\n"
     ]
    },
    {
     "data": {
      "application/vnd.jupyter.widget-view+json": {
       "model_id": "07863945d6e5404aac7c4b2fd0e8567b",
       "version_major": 2,
       "version_minor": 0
      },
      "text/plain": [
       "  0%|          | 0/50 [00:00<?, ?it/s]"
      ]
     },
     "metadata": {},
     "output_type": "display_data"
    },
    {
     "name": "stderr",
     "output_type": "stream",
     "text": [
      "/root/anaconda3/envs/lapixdl/lib/python3.11/site-packages/torchmetrics/utilities/prints.py:36: UserWarning: Metric `AUROC` will save all targets and predictions in buffer. For large datasets this may lead to large memory footprint.\n",
      "  warnings.warn(*args, **kwargs)\n",
      "\u001b[1;38;5;39mCOMET INFO:\u001b[0m Artifact 'derick-amontagna/DataSetup:109.0.0' has been fully uploaded successfully\n",
      "\u001b[1;38;5;39mCOMET INFO:\u001b[0m Artifact 'derick-amontagna/Engine:107.0.0' has been fully uploaded successfully\n",
      "\u001b[1;38;5;39mCOMET INFO:\u001b[0m Artifact 'derick-amontagna/Networks:107.0.0' has been fully uploaded successfully\n",
      "/root/anaconda3/envs/lapixdl/lib/python3.11/site-packages/torchmetrics/utilities/prints.py:36: UserWarning: Metric `AUROC` will save all targets and predictions in buffer. For large datasets this may lead to large memory footprint.\n",
      "  warnings.warn(*args, **kwargs)\n"
     ]
    },
    {
     "name": "stdout",
     "output_type": "stream",
     "text": [
      "terminating because of early stopping!\n",
      "Loaded model from epoch 9 with best validation auc: 0.91%\n",
      "DONE\n"
     ]
    },
    {
     "name": "stderr",
     "output_type": "stream",
     "text": [
      "\u001b[1;38;5;39mCOMET INFO:\u001b[0m ---------------------------------------------------------------------------------------\n",
      "\u001b[1;38;5;39mCOMET INFO:\u001b[0m Comet.ml Experiment Summary\n",
      "\u001b[1;38;5;39mCOMET INFO:\u001b[0m ---------------------------------------------------------------------------------------\n",
      "\u001b[1;38;5;39mCOMET INFO:\u001b[0m   Data:\n",
      "\u001b[1;38;5;39mCOMET INFO:\u001b[0m     display_summary_level : 1\n",
      "\u001b[1;38;5;39mCOMET INFO:\u001b[0m     name                  : limited_slate_2601\n",
      "\u001b[1;38;5;39mCOMET INFO:\u001b[0m     url                   : https://www.comet.com/derick-amontagna/adni1-s-siemens-dams-sgd-8/168e255805e74f5fb1aeef5606e39f05\n",
      "\u001b[1;38;5;39mCOMET INFO:\u001b[0m   Metrics [count] (min, max):\n",
      "\u001b[1;38;5;39mCOMET INFO:\u001b[0m     epoch [29]         : (0, 28)\n",
      "\u001b[1;38;5;39mCOMET INFO:\u001b[0m     loss [572]         : (0.015047889202833176, 0.5510662794113159)\n",
      "\u001b[1;38;5;39mCOMET INFO:\u001b[0m     test_acc           : 0.763967803030303\n",
      "\u001b[1;38;5;39mCOMET INFO:\u001b[0m     test_acc_target    : 0.6595052083333334\n",
      "\u001b[1;38;5;39mCOMET INFO:\u001b[0m     test_acc_target_2  : 0.703125\n",
      "\u001b[1;38;5;39mCOMET INFO:\u001b[0m     test_auc           : 0.8529130220413208\n",
      "\u001b[1;38;5;39mCOMET INFO:\u001b[0m     test_auc_target    : 0.6774471998214722\n",
      "\u001b[1;38;5;39mCOMET INFO:\u001b[0m     test_auc_target_2  : 0.7784269452095032\n",
      "\u001b[1;38;5;39mCOMET INFO:\u001b[0m     test_loss          : 0.5321459375660528\n",
      "\u001b[1;38;5;39mCOMET INFO:\u001b[0m     test_loss_target   : 0.6731580182289084\n",
      "\u001b[1;38;5;39mCOMET INFO:\u001b[0m     test_loss_target_2 : 0.6509537800269969\n",
      "\u001b[1;38;5;39mCOMET INFO:\u001b[0m     train_acc [29]     : (0.5441782994923858, 0.991751269035533)\n",
      "\u001b[1;38;5;39mCOMET INFO:\u001b[0m     train_auc [29]     : (0.5634006261825562, 0.9996858835220337)\n",
      "\u001b[1;38;5;39mCOMET INFO:\u001b[0m     train_loss [29]    : (0.03287709562041735, 0.503977750158552)\n",
      "\u001b[1;38;5;39mCOMET INFO:\u001b[0m     val_acc [29]       : (0.4353125, 0.8421875)\n",
      "\u001b[1;38;5;39mCOMET INFO:\u001b[0m     val_auc [29]       : (0.6870496273040771, 0.9086945056915283)\n",
      "\u001b[1;38;5;39mCOMET INFO:\u001b[0m     val_loss [29]      : (0.3754866376519203, 1.0311565146688373)\n",
      "\u001b[1;38;5;39mCOMET INFO:\u001b[0m   Others:\n",
      "\u001b[1;38;5;39mCOMET INFO:\u001b[0m     best_epoch             : 9\n",
      "\u001b[1;38;5;39mCOMET INFO:\u001b[0m     best_val_metric        : 0.9086945056915283\n",
      "\u001b[1;38;5;39mCOMET INFO:\u001b[0m     optimizer_count        : 31\n",
      "\u001b[1;38;5;39mCOMET INFO:\u001b[0m     optimizer_id           : a6175d5da17447a2a07d393e335bcde5\n",
      "\u001b[1;38;5;39mCOMET INFO:\u001b[0m     optimizer_metric       : val_auc\n",
      "\u001b[1;38;5;39mCOMET INFO:\u001b[0m     optimizer_metric_value : 0.9086945056915283\n",
      "\u001b[1;38;5;39mCOMET INFO:\u001b[0m     optimizer_name         : SOURCE_Siemens\n",
      "\u001b[1;38;5;39mCOMET INFO:\u001b[0m     optimizer_objective    : maximize\n",
      "\u001b[1;38;5;39mCOMET INFO:\u001b[0m     optimizer_parameters   : {\"batch_size\": 64, \"dropout\": 0.2, \"lr\": 0.0009, \"model\": \"DAMS\", \"momentum\": 0.9, \"seed\": 42, \"source\": \"Siemens\", \"target_1\": \"Philips\", \"target_2\": \"GE\", \"weight_decay\": 0.02}\n",
      "\u001b[1;38;5;39mCOMET INFO:\u001b[0m     optimizer_pid          : 8849260c670688d35edce4a6fb4488bb4d6ef0b0\n",
      "\u001b[1;38;5;39mCOMET INFO:\u001b[0m     optimizer_process      : 544623\n",
      "\u001b[1;38;5;39mCOMET INFO:\u001b[0m     optimizer_trial        : 1\n",
      "\u001b[1;38;5;39mCOMET INFO:\u001b[0m     optimizer_version      : 2.1.4\n",
      "\u001b[1;38;5;39mCOMET INFO:\u001b[0m   Parameters:\n",
      "\u001b[1;38;5;39mCOMET INFO:\u001b[0m     batch_size   : 64\n",
      "\u001b[1;38;5;39mCOMET INFO:\u001b[0m     dropout      : 0.2\n",
      "\u001b[1;38;5;39mCOMET INFO:\u001b[0m     lr           : 0.0009\n",
      "\u001b[1;38;5;39mCOMET INFO:\u001b[0m     model        : DAMS\n",
      "\u001b[1;38;5;39mCOMET INFO:\u001b[0m     momentum     : 0.9\n",
      "\u001b[1;38;5;39mCOMET INFO:\u001b[0m     pos_weight   : 0.576\n",
      "\u001b[1;38;5;39mCOMET INFO:\u001b[0m     seed         : 42\n",
      "\u001b[1;38;5;39mCOMET INFO:\u001b[0m     source       : Siemens\n",
      "\u001b[1;38;5;39mCOMET INFO:\u001b[0m     target_1     : Philips\n",
      "\u001b[1;38;5;39mCOMET INFO:\u001b[0m     target_2     : GE\n",
      "\u001b[1;38;5;39mCOMET INFO:\u001b[0m     weight_decay : 0.02\n",
      "\u001b[1;38;5;39mCOMET INFO:\u001b[0m   Uploads:\n",
      "\u001b[1;38;5;39mCOMET INFO:\u001b[0m     artifact assets              : 3 (21.76 KB)\n",
      "\u001b[1;38;5;39mCOMET INFO:\u001b[0m     artifacts                    : 3\n",
      "\u001b[1;38;5;39mCOMET INFO:\u001b[0m     conda-environment-definition : 1\n",
      "\u001b[1;38;5;39mCOMET INFO:\u001b[0m     conda-info                   : 1\n",
      "\u001b[1;38;5;39mCOMET INFO:\u001b[0m     conda-specification          : 1\n",
      "\u001b[1;38;5;39mCOMET INFO:\u001b[0m     environment details          : 1\n",
      "\u001b[1;38;5;39mCOMET INFO:\u001b[0m     filename                     : 1\n",
      "\u001b[1;38;5;39mCOMET INFO:\u001b[0m     git metadata                 : 1\n",
      "\u001b[1;38;5;39mCOMET INFO:\u001b[0m     git-patch (uncompressed)     : 1 (953.48 KB)\n",
      "\u001b[1;38;5;39mCOMET INFO:\u001b[0m     installed packages           : 1\n",
      "\u001b[1;38;5;39mCOMET INFO:\u001b[0m     model graph                  : 1\n",
      "\u001b[1;38;5;39mCOMET INFO:\u001b[0m     model-element                : 1 (183.72 MB)\n",
      "\u001b[1;38;5;39mCOMET INFO:\u001b[0m     notebook                     : 1\n",
      "\u001b[1;38;5;39mCOMET INFO:\u001b[0m     os packages                  : 1\n",
      "\u001b[1;38;5;39mCOMET INFO:\u001b[0m     source_code                  : 1\n",
      "\u001b[1;38;5;39mCOMET INFO:\u001b[0m \n",
      "\u001b[1;38;5;39mCOMET INFO:\u001b[0m Uploading 76 metrics, params and output messages\n",
      "\u001b[1;38;5;39mCOMET INFO:\u001b[0m Please wait for assets to finish uploading (timeout is 10800 seconds)\n",
      "\u001b[1;38;5;39mCOMET INFO:\u001b[0m Still uploading 1 file(s), remaining 98.72 MB/183.72 MB\n",
      "\u001b[1;38;5;214mCOMET WARNING:\u001b[0m As you are running in a Jupyter environment, you will need to call `experiment.end()` when finished to ensure all metrics and code are logged before exiting.\n",
      "\u001b[1;38;5;39mCOMET INFO:\u001b[0m Experiment is live on comet.com https://www.comet.com/derick-amontagna/adni1-s-siemens-dams-sgd-8/c29c4cfd86fe46929751ab74da6d4da2\n",
      "\n",
      "\u001b[1;38;5;39mCOMET INFO:\u001b[0m Artifact 'Engine' version 108.0.0 created (previous was: 107.0.0)\n"
     ]
    },
    {
     "name": "stdout",
     "output_type": "stream",
     "text": [
      "Treinando esse modelo: DAMS\n",
      "Treinando com o source: Siemens/target: Philips/GE\n"
     ]
    },
    {
     "name": "stderr",
     "output_type": "stream",
     "text": [
      "\u001b[1;38;5;39mCOMET INFO:\u001b[0m Scheduling the upload of 1 assets: 1 local assets for a size of 8.21 KB, and 0 remote assets (will be linked, not uploaded). This can take some time.\n",
      "\u001b[1;38;5;39mCOMET INFO:\u001b[0m Artifact 'derick-amontagna/Engine:108.0.0' has started uploading asynchronously\n",
      "\u001b[1;38;5;39mCOMET INFO:\u001b[0m Artifact 'Networks' version 108.0.0 created (previous was: 107.0.0)\n",
      "\u001b[1;38;5;39mCOMET INFO:\u001b[0m Scheduling the upload of 1 assets: 1 local assets for a size of 5.82 KB, and 0 remote assets (will be linked, not uploaded). This can take some time.\n",
      "\u001b[1;38;5;39mCOMET INFO:\u001b[0m Artifact 'derick-amontagna/Networks:108.0.0' has started uploading asynchronously\n",
      "\u001b[1;38;5;39mCOMET INFO:\u001b[0m Artifact 'DataSetup' version 110.0.0 created (previous was: 109.0.0)\n",
      "\u001b[1;38;5;39mCOMET INFO:\u001b[0m Scheduling the upload of 1 assets: 1 local assets for a size of 7.72 KB, and 0 remote assets (will be linked, not uploaded). This can take some time.\n",
      "\u001b[1;38;5;39mCOMET INFO:\u001b[0m Artifact 'derick-amontagna/DataSetup:110.0.0' has started uploading asynchronously\n"
     ]
    },
    {
     "name": "stdout",
     "output_type": "stream",
     "text": [
      "Loading Dataloader\n",
      "Use DAMS Basic\n",
      "Create model\n",
      "Start Train\n"
     ]
    },
    {
     "data": {
      "application/vnd.jupyter.widget-view+json": {
       "model_id": "ba1c0ec0289342569adadc2350ba559d",
       "version_major": 2,
       "version_minor": 0
      },
      "text/plain": [
       "  0%|          | 0/50 [00:00<?, ?it/s]"
      ]
     },
     "metadata": {},
     "output_type": "display_data"
    },
    {
     "name": "stderr",
     "output_type": "stream",
     "text": [
      "/root/anaconda3/envs/lapixdl/lib/python3.11/site-packages/torchmetrics/utilities/prints.py:36: UserWarning: Metric `AUROC` will save all targets and predictions in buffer. For large datasets this may lead to large memory footprint.\n",
      "  warnings.warn(*args, **kwargs)\n",
      "\u001b[1;38;5;39mCOMET INFO:\u001b[0m Artifact 'derick-amontagna/Networks:108.0.0' has been fully uploaded successfully\n",
      "\u001b[1;38;5;39mCOMET INFO:\u001b[0m Artifact 'derick-amontagna/DataSetup:110.0.0' has been fully uploaded successfully\n",
      "\u001b[1;38;5;39mCOMET INFO:\u001b[0m Artifact 'derick-amontagna/Engine:108.0.0' has been fully uploaded successfully\n",
      "/root/anaconda3/envs/lapixdl/lib/python3.11/site-packages/torchmetrics/utilities/prints.py:36: UserWarning: Metric `AUROC` will save all targets and predictions in buffer. For large datasets this may lead to large memory footprint.\n",
      "  warnings.warn(*args, **kwargs)\n"
     ]
    },
    {
     "name": "stdout",
     "output_type": "stream",
     "text": [
      "terminating because of early stopping!\n",
      "Loaded model from epoch 8 with best validation auc: 0.90%\n",
      "DONE\n"
     ]
    },
    {
     "name": "stderr",
     "output_type": "stream",
     "text": [
      "\u001b[1;38;5;39mCOMET INFO:\u001b[0m ---------------------------------------------------------------------------------------\n",
      "\u001b[1;38;5;39mCOMET INFO:\u001b[0m Comet.ml Experiment Summary\n",
      "\u001b[1;38;5;39mCOMET INFO:\u001b[0m ---------------------------------------------------------------------------------------\n",
      "\u001b[1;38;5;39mCOMET INFO:\u001b[0m   Data:\n",
      "\u001b[1;38;5;39mCOMET INFO:\u001b[0m     display_summary_level : 1\n",
      "\u001b[1;38;5;39mCOMET INFO:\u001b[0m     name                  : convincing_grouper_1958\n",
      "\u001b[1;38;5;39mCOMET INFO:\u001b[0m     url                   : https://www.comet.com/derick-amontagna/adni1-s-siemens-dams-sgd-8/c29c4cfd86fe46929751ab74da6d4da2\n",
      "\u001b[1;38;5;39mCOMET INFO:\u001b[0m   Metrics [count] (min, max):\n",
      "\u001b[1;38;5;39mCOMET INFO:\u001b[0m     epoch [28]         : (0, 27)\n",
      "\u001b[1;38;5;39mCOMET INFO:\u001b[0m     loss [552]         : (0.03020324930548668, 0.551785945892334)\n",
      "\u001b[1;38;5;39mCOMET INFO:\u001b[0m     test_acc           : 0.704782196969697\n",
      "\u001b[1;38;5;39mCOMET INFO:\u001b[0m     test_acc_target    : 0.6419270833333334\n",
      "\u001b[1;38;5;39mCOMET INFO:\u001b[0m     test_acc_target_2  : 0.6681985294117647\n",
      "\u001b[1;38;5;39mCOMET INFO:\u001b[0m     test_auc           : 0.8620498180389404\n",
      "\u001b[1;38;5;39mCOMET INFO:\u001b[0m     test_auc_target    : 0.7393791675567627\n",
      "\u001b[1;38;5;39mCOMET INFO:\u001b[0m     test_auc_target_2  : 0.7485435009002686\n",
      "\u001b[1;38;5;39mCOMET INFO:\u001b[0m     test_loss          : 0.6655292087375666\n",
      "\u001b[1;38;5;39mCOMET INFO:\u001b[0m     test_loss_target   : 0.8131481450982392\n",
      "\u001b[1;38;5;39mCOMET INFO:\u001b[0m     test_loss_target_2 : 0.7728879446054207\n",
      "\u001b[1;38;5;39mCOMET INFO:\u001b[0m     train_acc [28]     : (0.5447335025380711, 0.9916719543147208)\n",
      "\u001b[1;38;5;39mCOMET INFO:\u001b[0m     train_auc [28]     : (0.5578575134277344, 0.9994831085205078)\n",
      "\u001b[1;38;5;39mCOMET INFO:\u001b[0m     train_loss [28]    : (0.04617498596647972, 0.5045084555439537)\n",
      "\u001b[1;38;5;39mCOMET INFO:\u001b[0m     val_acc [28]       : (0.395625, 0.8721875)\n",
      "\u001b[1;38;5;39mCOMET INFO:\u001b[0m     val_auc [28]       : (0.6863576173782349, 0.897266149520874)\n",
      "\u001b[1;38;5;39mCOMET INFO:\u001b[0m     val_loss [28]      : (0.33390508219599724, 0.9550219294801354)\n",
      "\u001b[1;38;5;39mCOMET INFO:\u001b[0m   Others:\n",
      "\u001b[1;38;5;39mCOMET INFO:\u001b[0m     best_epoch             : 8\n",
      "\u001b[1;38;5;39mCOMET INFO:\u001b[0m     best_val_metric        : 0.897266149520874\n",
      "\u001b[1;38;5;39mCOMET INFO:\u001b[0m     optimizer_count        : 32\n",
      "\u001b[1;38;5;39mCOMET INFO:\u001b[0m     optimizer_id           : a6175d5da17447a2a07d393e335bcde5\n",
      "\u001b[1;38;5;39mCOMET INFO:\u001b[0m     optimizer_metric       : val_auc\n",
      "\u001b[1;38;5;39mCOMET INFO:\u001b[0m     optimizer_metric_value : 0.897266149520874\n",
      "\u001b[1;38;5;39mCOMET INFO:\u001b[0m     optimizer_name         : SOURCE_Siemens\n",
      "\u001b[1;38;5;39mCOMET INFO:\u001b[0m     optimizer_objective    : maximize\n",
      "\u001b[1;38;5;39mCOMET INFO:\u001b[0m     optimizer_parameters   : {\"batch_size\": 64, \"dropout\": 0.2, \"lr\": 0.0009, \"model\": \"DAMS\", \"momentum\": 0.9, \"seed\": 42, \"source\": \"Siemens\", \"target_1\": \"Philips\", \"target_2\": \"GE\", \"weight_decay\": 0.03}\n",
      "\u001b[1;38;5;39mCOMET INFO:\u001b[0m     optimizer_pid          : 58ff220b32c53ad7b63298ca83c38cca6f56881d\n",
      "\u001b[1;38;5;39mCOMET INFO:\u001b[0m     optimizer_process      : 544623\n",
      "\u001b[1;38;5;39mCOMET INFO:\u001b[0m     optimizer_trial        : 1\n",
      "\u001b[1;38;5;39mCOMET INFO:\u001b[0m     optimizer_version      : 2.1.4\n",
      "\u001b[1;38;5;39mCOMET INFO:\u001b[0m   Parameters:\n",
      "\u001b[1;38;5;39mCOMET INFO:\u001b[0m     batch_size   : 64\n",
      "\u001b[1;38;5;39mCOMET INFO:\u001b[0m     dropout      : 0.2\n",
      "\u001b[1;38;5;39mCOMET INFO:\u001b[0m     lr           : 0.0009\n",
      "\u001b[1;38;5;39mCOMET INFO:\u001b[0m     model        : DAMS\n",
      "\u001b[1;38;5;39mCOMET INFO:\u001b[0m     momentum     : 0.9\n",
      "\u001b[1;38;5;39mCOMET INFO:\u001b[0m     pos_weight   : 0.576\n",
      "\u001b[1;38;5;39mCOMET INFO:\u001b[0m     seed         : 42\n",
      "\u001b[1;38;5;39mCOMET INFO:\u001b[0m     source       : Siemens\n",
      "\u001b[1;38;5;39mCOMET INFO:\u001b[0m     target_1     : Philips\n",
      "\u001b[1;38;5;39mCOMET INFO:\u001b[0m     target_2     : GE\n",
      "\u001b[1;38;5;39mCOMET INFO:\u001b[0m     weight_decay : 0.03\n",
      "\u001b[1;38;5;39mCOMET INFO:\u001b[0m   Uploads:\n",
      "\u001b[1;38;5;39mCOMET INFO:\u001b[0m     artifact assets              : 3 (21.76 KB)\n",
      "\u001b[1;38;5;39mCOMET INFO:\u001b[0m     artifacts                    : 3\n",
      "\u001b[1;38;5;39mCOMET INFO:\u001b[0m     conda-environment-definition : 1\n",
      "\u001b[1;38;5;39mCOMET INFO:\u001b[0m     conda-info                   : 1\n",
      "\u001b[1;38;5;39mCOMET INFO:\u001b[0m     conda-specification          : 1\n",
      "\u001b[1;38;5;39mCOMET INFO:\u001b[0m     environment details          : 1\n",
      "\u001b[1;38;5;39mCOMET INFO:\u001b[0m     filename                     : 1\n",
      "\u001b[1;38;5;39mCOMET INFO:\u001b[0m     git metadata                 : 1\n",
      "\u001b[1;38;5;39mCOMET INFO:\u001b[0m     git-patch (uncompressed)     : 1 (963.74 KB)\n",
      "\u001b[1;38;5;39mCOMET INFO:\u001b[0m     installed packages           : 1\n",
      "\u001b[1;38;5;39mCOMET INFO:\u001b[0m     model graph                  : 1\n",
      "\u001b[1;38;5;39mCOMET INFO:\u001b[0m     model-element                : 1 (183.72 MB)\n",
      "\u001b[1;38;5;39mCOMET INFO:\u001b[0m     notebook                     : 1\n",
      "\u001b[1;38;5;39mCOMET INFO:\u001b[0m     os packages                  : 1\n",
      "\u001b[1;38;5;39mCOMET INFO:\u001b[0m     source_code                  : 1\n",
      "\u001b[1;38;5;39mCOMET INFO:\u001b[0m \n",
      "\u001b[1;38;5;39mCOMET INFO:\u001b[0m Uploading 74 metrics, params and output messages\n",
      "\u001b[1;38;5;39mCOMET INFO:\u001b[0m Please wait for assets to finish uploading (timeout is 10800 seconds)\n",
      "\u001b[1;38;5;39mCOMET INFO:\u001b[0m Still uploading 1 file(s), remaining 98.72 MB/183.72 MB\n",
      "\u001b[1;38;5;214mCOMET WARNING:\u001b[0m As you are running in a Jupyter environment, you will need to call `experiment.end()` when finished to ensure all metrics and code are logged before exiting.\n",
      "\u001b[1;38;5;39mCOMET INFO:\u001b[0m Experiment is live on comet.com https://www.comet.com/derick-amontagna/adni1-s-siemens-dams-sgd-8/9ba5dbd058b041b699f845efef8f995a\n",
      "\n",
      "\u001b[1;38;5;39mCOMET INFO:\u001b[0m Artifact 'Engine' version 109.0.0 created (previous was: 108.0.0)\n"
     ]
    },
    {
     "name": "stdout",
     "output_type": "stream",
     "text": [
      "Treinando esse modelo: DAMS\n",
      "Treinando com o source: Siemens/target: Philips/GE\n"
     ]
    },
    {
     "name": "stderr",
     "output_type": "stream",
     "text": [
      "\u001b[1;38;5;39mCOMET INFO:\u001b[0m Scheduling the upload of 1 assets: 1 local assets for a size of 8.21 KB, and 0 remote assets (will be linked, not uploaded). This can take some time.\n",
      "\u001b[1;38;5;39mCOMET INFO:\u001b[0m Artifact 'derick-amontagna/Engine:109.0.0' has started uploading asynchronously\n",
      "\u001b[1;38;5;39mCOMET INFO:\u001b[0m Artifact 'Networks' version 109.0.0 created (previous was: 108.0.0)\n",
      "\u001b[1;38;5;39mCOMET INFO:\u001b[0m Scheduling the upload of 1 assets: 1 local assets for a size of 5.82 KB, and 0 remote assets (will be linked, not uploaded). This can take some time.\n",
      "\u001b[1;38;5;39mCOMET INFO:\u001b[0m Artifact 'derick-amontagna/Networks:109.0.0' has started uploading asynchronously\n",
      "\u001b[1;38;5;39mCOMET INFO:\u001b[0m Artifact 'DataSetup' version 111.0.0 created (previous was: 110.0.0)\n",
      "\u001b[1;38;5;39mCOMET INFO:\u001b[0m Scheduling the upload of 1 assets: 1 local assets for a size of 7.72 KB, and 0 remote assets (will be linked, not uploaded). This can take some time.\n",
      "\u001b[1;38;5;39mCOMET INFO:\u001b[0m Artifact 'derick-amontagna/DataSetup:111.0.0' has started uploading asynchronously\n"
     ]
    },
    {
     "name": "stdout",
     "output_type": "stream",
     "text": [
      "Loading Dataloader\n",
      "Use DAMS Basic\n",
      "Create model\n",
      "Start Train\n"
     ]
    },
    {
     "data": {
      "application/vnd.jupyter.widget-view+json": {
       "model_id": "179ef5adc94d4dc69e2ebe23e10d69e4",
       "version_major": 2,
       "version_minor": 0
      },
      "text/plain": [
       "  0%|          | 0/50 [00:00<?, ?it/s]"
      ]
     },
     "metadata": {},
     "output_type": "display_data"
    },
    {
     "name": "stderr",
     "output_type": "stream",
     "text": [
      "/root/anaconda3/envs/lapixdl/lib/python3.11/site-packages/torchmetrics/utilities/prints.py:36: UserWarning: Metric `AUROC` will save all targets and predictions in buffer. For large datasets this may lead to large memory footprint.\n",
      "  warnings.warn(*args, **kwargs)\n",
      "\u001b[1;38;5;39mCOMET INFO:\u001b[0m Artifact 'derick-amontagna/DataSetup:111.0.0' has been fully uploaded successfully\n",
      "\u001b[1;38;5;39mCOMET INFO:\u001b[0m Artifact 'derick-amontagna/Engine:109.0.0' has been fully uploaded successfully\n",
      "\u001b[1;38;5;39mCOMET INFO:\u001b[0m Artifact 'derick-amontagna/Networks:109.0.0' has been fully uploaded successfully\n",
      "/root/anaconda3/envs/lapixdl/lib/python3.11/site-packages/torchmetrics/utilities/prints.py:36: UserWarning: Metric `AUROC` will save all targets and predictions in buffer. For large datasets this may lead to large memory footprint.\n",
      "  warnings.warn(*args, **kwargs)\n"
     ]
    },
    {
     "name": "stdout",
     "output_type": "stream",
     "text": [
      "terminating because of early stopping!\n",
      "Loaded model from epoch 10 with best validation auc: 0.92%\n",
      "DONE\n"
     ]
    },
    {
     "name": "stderr",
     "output_type": "stream",
     "text": [
      "\u001b[1;38;5;39mCOMET INFO:\u001b[0m ---------------------------------------------------------------------------------------\n",
      "\u001b[1;38;5;39mCOMET INFO:\u001b[0m Comet.ml Experiment Summary\n",
      "\u001b[1;38;5;39mCOMET INFO:\u001b[0m ---------------------------------------------------------------------------------------\n",
      "\u001b[1;38;5;39mCOMET INFO:\u001b[0m   Data:\n",
      "\u001b[1;38;5;39mCOMET INFO:\u001b[0m     display_summary_level : 1\n",
      "\u001b[1;38;5;39mCOMET INFO:\u001b[0m     name                  : rational_equator_2456\n",
      "\u001b[1;38;5;39mCOMET INFO:\u001b[0m     url                   : https://www.comet.com/derick-amontagna/adni1-s-siemens-dams-sgd-8/9ba5dbd058b041b699f845efef8f995a\n",
      "\u001b[1;38;5;39mCOMET INFO:\u001b[0m   Metrics [count] (min, max):\n",
      "\u001b[1;38;5;39mCOMET INFO:\u001b[0m     epoch [30]         : (0, 29)\n",
      "\u001b[1;38;5;39mCOMET INFO:\u001b[0m     loss [591]         : (0.0157180093228817, 0.5494561791419983)\n",
      "\u001b[1;38;5;39mCOMET INFO:\u001b[0m     test_acc           : 0.7961647727272727\n",
      "\u001b[1;38;5;39mCOMET INFO:\u001b[0m     test_acc_target    : 0.7194010416666666\n",
      "\u001b[1;38;5;39mCOMET INFO:\u001b[0m     test_acc_target_2  : 0.7483455882352941\n",
      "\u001b[1;38;5;39mCOMET INFO:\u001b[0m     test_auc           : 0.8753846883773804\n",
      "\u001b[1;38;5;39mCOMET INFO:\u001b[0m     test_auc_target    : 0.797308623790741\n",
      "\u001b[1;38;5;39mCOMET INFO:\u001b[0m     test_auc_target_2  : 0.7814075946807861\n",
      "\u001b[1;38;5;39mCOMET INFO:\u001b[0m     test_loss          : 0.522792665908734\n",
      "\u001b[1;38;5;39mCOMET INFO:\u001b[0m     test_loss_target   : 0.537441381563743\n",
      "\u001b[1;38;5;39mCOMET INFO:\u001b[0m     test_loss_target_2 : 0.6281561811180676\n",
      "\u001b[1;38;5;39mCOMET INFO:\u001b[0m     train_acc [30]     : (0.5357709390862944, 0.9931789340101523)\n",
      "\u001b[1;38;5;39mCOMET INFO:\u001b[0m     train_auc [30]     : (0.5544548630714417, 0.9996737241744995)\n",
      "\u001b[1;38;5;39mCOMET INFO:\u001b[0m     train_loss [30]    : (0.03141101811856485, 0.5045823837597359)\n",
      "\u001b[1;38;5;39mCOMET INFO:\u001b[0m     val_acc [30]       : (0.3790625, 0.8590625)\n",
      "\u001b[1;38;5;39mCOMET INFO:\u001b[0m     val_auc [30]       : (0.5155906081199646, 0.9216685891151428)\n",
      "\u001b[1;38;5;39mCOMET INFO:\u001b[0m     val_loss [30]      : (0.34020299449563024, 0.7061647367291153)\n",
      "\u001b[1;38;5;39mCOMET INFO:\u001b[0m   Others:\n",
      "\u001b[1;38;5;39mCOMET INFO:\u001b[0m     best_epoch             : 10\n",
      "\u001b[1;38;5;39mCOMET INFO:\u001b[0m     best_val_metric        : 0.9216685891151428\n",
      "\u001b[1;38;5;39mCOMET INFO:\u001b[0m     optimizer_count        : 33\n",
      "\u001b[1;38;5;39mCOMET INFO:\u001b[0m     optimizer_id           : a6175d5da17447a2a07d393e335bcde5\n",
      "\u001b[1;38;5;39mCOMET INFO:\u001b[0m     optimizer_metric       : val_auc\n",
      "\u001b[1;38;5;39mCOMET INFO:\u001b[0m     optimizer_metric_value : 0.9216685891151428\n",
      "\u001b[1;38;5;39mCOMET INFO:\u001b[0m     optimizer_name         : SOURCE_Siemens\n",
      "\u001b[1;38;5;39mCOMET INFO:\u001b[0m     optimizer_objective    : maximize\n",
      "\u001b[1;38;5;39mCOMET INFO:\u001b[0m     optimizer_parameters   : {\"batch_size\": 64, \"dropout\": 0.3, \"lr\": 0.0009, \"model\": \"DAMS\", \"momentum\": 0.9, \"seed\": 42, \"source\": \"Siemens\", \"target_1\": \"Philips\", \"target_2\": \"GE\", \"weight_decay\": 0.02}\n",
      "\u001b[1;38;5;39mCOMET INFO:\u001b[0m     optimizer_pid          : fdb32bdd6f5f5dac6c340f6695931190fc11b3db\n",
      "\u001b[1;38;5;39mCOMET INFO:\u001b[0m     optimizer_process      : 544623\n",
      "\u001b[1;38;5;39mCOMET INFO:\u001b[0m     optimizer_trial        : 1\n",
      "\u001b[1;38;5;39mCOMET INFO:\u001b[0m     optimizer_version      : 2.1.4\n",
      "\u001b[1;38;5;39mCOMET INFO:\u001b[0m   Parameters:\n",
      "\u001b[1;38;5;39mCOMET INFO:\u001b[0m     batch_size   : 64\n",
      "\u001b[1;38;5;39mCOMET INFO:\u001b[0m     dropout      : 0.3\n",
      "\u001b[1;38;5;39mCOMET INFO:\u001b[0m     lr           : 0.0009\n",
      "\u001b[1;38;5;39mCOMET INFO:\u001b[0m     model        : DAMS\n",
      "\u001b[1;38;5;39mCOMET INFO:\u001b[0m     momentum     : 0.9\n",
      "\u001b[1;38;5;39mCOMET INFO:\u001b[0m     pos_weight   : 0.576\n",
      "\u001b[1;38;5;39mCOMET INFO:\u001b[0m     seed         : 42\n",
      "\u001b[1;38;5;39mCOMET INFO:\u001b[0m     source       : Siemens\n",
      "\u001b[1;38;5;39mCOMET INFO:\u001b[0m     target_1     : Philips\n",
      "\u001b[1;38;5;39mCOMET INFO:\u001b[0m     target_2     : GE\n",
      "\u001b[1;38;5;39mCOMET INFO:\u001b[0m     weight_decay : 0.02\n",
      "\u001b[1;38;5;39mCOMET INFO:\u001b[0m   Uploads:\n",
      "\u001b[1;38;5;39mCOMET INFO:\u001b[0m     artifact assets              : 3 (21.76 KB)\n",
      "\u001b[1;38;5;39mCOMET INFO:\u001b[0m     artifacts                    : 3\n",
      "\u001b[1;38;5;39mCOMET INFO:\u001b[0m     conda-environment-definition : 1\n",
      "\u001b[1;38;5;39mCOMET INFO:\u001b[0m     conda-info                   : 1\n",
      "\u001b[1;38;5;39mCOMET INFO:\u001b[0m     conda-specification          : 1\n",
      "\u001b[1;38;5;39mCOMET INFO:\u001b[0m     environment details          : 1\n",
      "\u001b[1;38;5;39mCOMET INFO:\u001b[0m     filename                     : 1\n",
      "\u001b[1;38;5;39mCOMET INFO:\u001b[0m     git metadata                 : 1\n",
      "\u001b[1;38;5;39mCOMET INFO:\u001b[0m     git-patch (uncompressed)     : 1 (974.15 KB)\n",
      "\u001b[1;38;5;39mCOMET INFO:\u001b[0m     installed packages           : 1\n",
      "\u001b[1;38;5;39mCOMET INFO:\u001b[0m     model graph                  : 1\n",
      "\u001b[1;38;5;39mCOMET INFO:\u001b[0m     model-element                : 1 (183.72 MB)\n",
      "\u001b[1;38;5;39mCOMET INFO:\u001b[0m     notebook                     : 1\n",
      "\u001b[1;38;5;39mCOMET INFO:\u001b[0m     os packages                  : 1\n",
      "\u001b[1;38;5;39mCOMET INFO:\u001b[0m     source_code                  : 1\n",
      "\u001b[1;38;5;39mCOMET INFO:\u001b[0m \n",
      "\u001b[1;38;5;39mCOMET INFO:\u001b[0m Please wait for assets to finish uploading (timeout is 10800 seconds)\n",
      "\u001b[1;38;5;39mCOMET INFO:\u001b[0m Still uploading 1 file(s), remaining 98.72 MB/183.72 MB\n",
      "\u001b[1;38;5;214mCOMET WARNING:\u001b[0m As you are running in a Jupyter environment, you will need to call `experiment.end()` when finished to ensure all metrics and code are logged before exiting.\n",
      "\u001b[1;38;5;39mCOMET INFO:\u001b[0m Experiment is live on comet.com https://www.comet.com/derick-amontagna/adni1-s-siemens-dams-sgd-8/971e219f5e6343aba9ca39e9af6eeb6d\n",
      "\n",
      "\u001b[1;38;5;39mCOMET INFO:\u001b[0m Artifact 'Engine' version 110.0.0 created (previous was: 109.0.0)\n"
     ]
    },
    {
     "name": "stdout",
     "output_type": "stream",
     "text": [
      "Treinando esse modelo: DAMS\n",
      "Treinando com o source: Siemens/target: Philips/GE\n"
     ]
    },
    {
     "name": "stderr",
     "output_type": "stream",
     "text": [
      "\u001b[1;38;5;39mCOMET INFO:\u001b[0m Scheduling the upload of 1 assets: 1 local assets for a size of 8.21 KB, and 0 remote assets (will be linked, not uploaded). This can take some time.\n",
      "\u001b[1;38;5;39mCOMET INFO:\u001b[0m Artifact 'derick-amontagna/Engine:110.0.0' has started uploading asynchronously\n",
      "\u001b[1;38;5;39mCOMET INFO:\u001b[0m Artifact 'Networks' version 110.0.0 created (previous was: 109.0.0)\n",
      "\u001b[1;38;5;39mCOMET INFO:\u001b[0m Scheduling the upload of 1 assets: 1 local assets for a size of 5.82 KB, and 0 remote assets (will be linked, not uploaded). This can take some time.\n",
      "\u001b[1;38;5;39mCOMET INFO:\u001b[0m Artifact 'derick-amontagna/Networks:110.0.0' has started uploading asynchronously\n",
      "\u001b[1;38;5;39mCOMET INFO:\u001b[0m Artifact 'DataSetup' version 112.0.0 created (previous was: 111.0.0)\n",
      "\u001b[1;38;5;39mCOMET INFO:\u001b[0m Scheduling the upload of 1 assets: 1 local assets for a size of 7.72 KB, and 0 remote assets (will be linked, not uploaded). This can take some time.\n",
      "\u001b[1;38;5;39mCOMET INFO:\u001b[0m Artifact 'derick-amontagna/DataSetup:112.0.0' has started uploading asynchronously\n"
     ]
    },
    {
     "name": "stdout",
     "output_type": "stream",
     "text": [
      "Loading Dataloader\n",
      "Use DAMS Basic\n",
      "Create model\n",
      "Start Train\n"
     ]
    },
    {
     "data": {
      "application/vnd.jupyter.widget-view+json": {
       "model_id": "0905a124db6b474c80a58acdee959d32",
       "version_major": 2,
       "version_minor": 0
      },
      "text/plain": [
       "  0%|          | 0/50 [00:00<?, ?it/s]"
      ]
     },
     "metadata": {},
     "output_type": "display_data"
    },
    {
     "name": "stderr",
     "output_type": "stream",
     "text": [
      "/root/anaconda3/envs/lapixdl/lib/python3.11/site-packages/torchmetrics/utilities/prints.py:36: UserWarning: Metric `AUROC` will save all targets and predictions in buffer. For large datasets this may lead to large memory footprint.\n",
      "  warnings.warn(*args, **kwargs)\n",
      "\u001b[1;38;5;39mCOMET INFO:\u001b[0m Artifact 'derick-amontagna/Engine:110.0.0' has been fully uploaded successfully\n",
      "\u001b[1;38;5;39mCOMET INFO:\u001b[0m Artifact 'derick-amontagna/Networks:110.0.0' has been fully uploaded successfully\n",
      "\u001b[1;38;5;39mCOMET INFO:\u001b[0m Artifact 'derick-amontagna/DataSetup:112.0.0' has been fully uploaded successfully\n",
      "/root/anaconda3/envs/lapixdl/lib/python3.11/site-packages/torchmetrics/utilities/prints.py:36: UserWarning: Metric `AUROC` will save all targets and predictions in buffer. For large datasets this may lead to large memory footprint.\n",
      "  warnings.warn(*args, **kwargs)\n"
     ]
    },
    {
     "name": "stdout",
     "output_type": "stream",
     "text": [
      "terminating because of early stopping!\n",
      "Loaded model from epoch 17 with best validation auc: 0.90%\n",
      "DONE\n"
     ]
    },
    {
     "name": "stderr",
     "output_type": "stream",
     "text": [
      "\u001b[1;38;5;39mCOMET INFO:\u001b[0m ---------------------------------------------------------------------------------------\n",
      "\u001b[1;38;5;39mCOMET INFO:\u001b[0m Comet.ml Experiment Summary\n",
      "\u001b[1;38;5;39mCOMET INFO:\u001b[0m ---------------------------------------------------------------------------------------\n",
      "\u001b[1;38;5;39mCOMET INFO:\u001b[0m   Data:\n",
      "\u001b[1;38;5;39mCOMET INFO:\u001b[0m     display_summary_level : 1\n",
      "\u001b[1;38;5;39mCOMET INFO:\u001b[0m     name                  : powerful_pig_6702\n",
      "\u001b[1;38;5;39mCOMET INFO:\u001b[0m     url                   : https://www.comet.com/derick-amontagna/adni1-s-siemens-dams-sgd-8/971e219f5e6343aba9ca39e9af6eeb6d\n",
      "\u001b[1;38;5;39mCOMET INFO:\u001b[0m   Metrics [count] (min, max):\n",
      "\u001b[1;38;5;39mCOMET INFO:\u001b[0m     epoch [37]         : (0, 36)\n",
      "\u001b[1;38;5;39mCOMET INFO:\u001b[0m     loss [729]         : (0.02749054506421089, 0.5503404140472412)\n",
      "\u001b[1;38;5;39mCOMET INFO:\u001b[0m     test_acc           : 0.8269412878787878\n",
      "\u001b[1;38;5;39mCOMET INFO:\u001b[0m     test_acc_target    : 0.6803385416666666\n",
      "\u001b[1;38;5;39mCOMET INFO:\u001b[0m     test_acc_target_2  : 0.7702205882352942\n",
      "\u001b[1;38;5;39mCOMET INFO:\u001b[0m     test_auc           : 0.906256377696991\n",
      "\u001b[1;38;5;39mCOMET INFO:\u001b[0m     test_auc_target    : 0.7329388856887817\n",
      "\u001b[1;38;5;39mCOMET INFO:\u001b[0m     test_auc_target_2  : 0.7873712182044983\n",
      "\u001b[1;38;5;39mCOMET INFO:\u001b[0m     test_loss          : 0.4161498026188576\n",
      "\u001b[1;38;5;39mCOMET INFO:\u001b[0m     test_loss_target   : 0.7310678381472826\n",
      "\u001b[1;38;5;39mCOMET INFO:\u001b[0m     test_loss_target_2 : 0.6331942389116568\n",
      "\u001b[1;38;5;39mCOMET INFO:\u001b[0m     train_acc [37]     : (0.5371192893401016, 0.9936548223350253)\n",
      "\u001b[1;38;5;39mCOMET INFO:\u001b[0m     train_auc [37]     : (0.5531734228134155, 0.9995869398117065)\n",
      "\u001b[1;38;5;39mCOMET INFO:\u001b[0m     train_loss [37]    : (0.045417571421428986, 0.5046782782537683)\n",
      "\u001b[1;38;5;39mCOMET INFO:\u001b[0m     val_acc [37]       : (0.3959375, 0.8696875)\n",
      "\u001b[1;38;5;39mCOMET INFO:\u001b[0m     val_auc [37]       : (0.590175986289978, 0.9047130346298218)\n",
      "\u001b[1;38;5;39mCOMET INFO:\u001b[0m     val_loss [37]      : (0.3103391827642918, 0.710536849014461)\n",
      "\u001b[1;38;5;39mCOMET INFO:\u001b[0m   Others:\n",
      "\u001b[1;38;5;39mCOMET INFO:\u001b[0m     best_epoch             : 17\n",
      "\u001b[1;38;5;39mCOMET INFO:\u001b[0m     best_val_metric        : 0.9047130346298218\n",
      "\u001b[1;38;5;39mCOMET INFO:\u001b[0m     optimizer_count        : 34\n",
      "\u001b[1;38;5;39mCOMET INFO:\u001b[0m     optimizer_id           : a6175d5da17447a2a07d393e335bcde5\n",
      "\u001b[1;38;5;39mCOMET INFO:\u001b[0m     optimizer_metric       : val_auc\n",
      "\u001b[1;38;5;39mCOMET INFO:\u001b[0m     optimizer_metric_value : 0.9047130346298218\n",
      "\u001b[1;38;5;39mCOMET INFO:\u001b[0m     optimizer_name         : SOURCE_Siemens\n",
      "\u001b[1;38;5;39mCOMET INFO:\u001b[0m     optimizer_objective    : maximize\n",
      "\u001b[1;38;5;39mCOMET INFO:\u001b[0m     optimizer_parameters   : {\"batch_size\": 64, \"dropout\": 0.3, \"lr\": 0.0009, \"model\": \"DAMS\", \"momentum\": 0.9, \"seed\": 42, \"source\": \"Siemens\", \"target_1\": \"Philips\", \"target_2\": \"GE\", \"weight_decay\": 0.03}\n",
      "\u001b[1;38;5;39mCOMET INFO:\u001b[0m     optimizer_pid          : 002a74ef1ee56745de32a0730c0262498f2b61f5\n",
      "\u001b[1;38;5;39mCOMET INFO:\u001b[0m     optimizer_process      : 544623\n",
      "\u001b[1;38;5;39mCOMET INFO:\u001b[0m     optimizer_trial        : 1\n",
      "\u001b[1;38;5;39mCOMET INFO:\u001b[0m     optimizer_version      : 2.1.4\n",
      "\u001b[1;38;5;39mCOMET INFO:\u001b[0m   Parameters:\n",
      "\u001b[1;38;5;39mCOMET INFO:\u001b[0m     batch_size   : 64\n",
      "\u001b[1;38;5;39mCOMET INFO:\u001b[0m     dropout      : 0.3\n",
      "\u001b[1;38;5;39mCOMET INFO:\u001b[0m     lr           : 0.0009\n",
      "\u001b[1;38;5;39mCOMET INFO:\u001b[0m     model        : DAMS\n",
      "\u001b[1;38;5;39mCOMET INFO:\u001b[0m     momentum     : 0.9\n",
      "\u001b[1;38;5;39mCOMET INFO:\u001b[0m     pos_weight   : 0.576\n",
      "\u001b[1;38;5;39mCOMET INFO:\u001b[0m     seed         : 42\n",
      "\u001b[1;38;5;39mCOMET INFO:\u001b[0m     source       : Siemens\n",
      "\u001b[1;38;5;39mCOMET INFO:\u001b[0m     target_1     : Philips\n",
      "\u001b[1;38;5;39mCOMET INFO:\u001b[0m     target_2     : GE\n",
      "\u001b[1;38;5;39mCOMET INFO:\u001b[0m     weight_decay : 0.03\n",
      "\u001b[1;38;5;39mCOMET INFO:\u001b[0m   Uploads:\n",
      "\u001b[1;38;5;39mCOMET INFO:\u001b[0m     artifact assets              : 3 (21.76 KB)\n",
      "\u001b[1;38;5;39mCOMET INFO:\u001b[0m     artifacts                    : 3\n",
      "\u001b[1;38;5;39mCOMET INFO:\u001b[0m     conda-environment-definition : 1\n",
      "\u001b[1;38;5;39mCOMET INFO:\u001b[0m     conda-info                   : 1\n",
      "\u001b[1;38;5;39mCOMET INFO:\u001b[0m     conda-specification          : 1\n",
      "\u001b[1;38;5;39mCOMET INFO:\u001b[0m     environment details          : 1\n",
      "\u001b[1;38;5;39mCOMET INFO:\u001b[0m     filename                     : 1\n",
      "\u001b[1;38;5;39mCOMET INFO:\u001b[0m     git metadata                 : 1\n",
      "\u001b[1;38;5;39mCOMET INFO:\u001b[0m     git-patch (uncompressed)     : 1 (984.57 KB)\n",
      "\u001b[1;38;5;39mCOMET INFO:\u001b[0m     installed packages           : 1\n",
      "\u001b[1;38;5;39mCOMET INFO:\u001b[0m     model graph                  : 1\n",
      "\u001b[1;38;5;39mCOMET INFO:\u001b[0m     model-element                : 1 (183.72 MB)\n",
      "\u001b[1;38;5;39mCOMET INFO:\u001b[0m     notebook                     : 1\n",
      "\u001b[1;38;5;39mCOMET INFO:\u001b[0m     os packages                  : 1\n",
      "\u001b[1;38;5;39mCOMET INFO:\u001b[0m     source_code                  : 1\n",
      "\u001b[1;38;5;39mCOMET INFO:\u001b[0m \n",
      "\u001b[1;38;5;39mCOMET INFO:\u001b[0m Please wait for assets to finish uploading (timeout is 10800 seconds)\n",
      "\u001b[1;38;5;39mCOMET INFO:\u001b[0m Still uploading 1 file(s), remaining 98.72 MB/183.72 MB\n",
      "\u001b[1;38;5;214mCOMET WARNING:\u001b[0m As you are running in a Jupyter environment, you will need to call `experiment.end()` when finished to ensure all metrics and code are logged before exiting.\n",
      "\u001b[1;38;5;39mCOMET INFO:\u001b[0m Experiment is live on comet.com https://www.comet.com/derick-amontagna/adni1-s-siemens-dams-sgd-8/e9284c8adfec451782dda1e74f9e9be6\n",
      "\n",
      "\u001b[1;38;5;39mCOMET INFO:\u001b[0m Artifact 'Engine' version 111.0.0 created (previous was: 110.0.0)\n"
     ]
    },
    {
     "name": "stdout",
     "output_type": "stream",
     "text": [
      "Treinando esse modelo: DAMS\n",
      "Treinando com o source: Siemens/target: Philips/GE\n"
     ]
    },
    {
     "name": "stderr",
     "output_type": "stream",
     "text": [
      "\u001b[1;38;5;39mCOMET INFO:\u001b[0m Scheduling the upload of 1 assets: 1 local assets for a size of 8.21 KB, and 0 remote assets (will be linked, not uploaded). This can take some time.\n",
      "\u001b[1;38;5;39mCOMET INFO:\u001b[0m Artifact 'derick-amontagna/Engine:111.0.0' has started uploading asynchronously\n",
      "\u001b[1;38;5;39mCOMET INFO:\u001b[0m Artifact 'Networks' version 111.0.0 created (previous was: 110.0.0)\n",
      "\u001b[1;38;5;39mCOMET INFO:\u001b[0m Scheduling the upload of 1 assets: 1 local assets for a size of 5.82 KB, and 0 remote assets (will be linked, not uploaded). This can take some time.\n",
      "\u001b[1;38;5;39mCOMET INFO:\u001b[0m Artifact 'derick-amontagna/Networks:111.0.0' has started uploading asynchronously\n",
      "\u001b[1;38;5;39mCOMET INFO:\u001b[0m Artifact 'DataSetup' version 113.0.0 created (previous was: 112.0.0)\n",
      "\u001b[1;38;5;39mCOMET INFO:\u001b[0m Scheduling the upload of 1 assets: 1 local assets for a size of 7.72 KB, and 0 remote assets (will be linked, not uploaded). This can take some time.\n",
      "\u001b[1;38;5;39mCOMET INFO:\u001b[0m Artifact 'derick-amontagna/DataSetup:113.0.0' has started uploading asynchronously\n"
     ]
    },
    {
     "name": "stdout",
     "output_type": "stream",
     "text": [
      "Loading Dataloader\n",
      "Use DAMS Basic\n",
      "Create model\n",
      "Start Train\n"
     ]
    },
    {
     "data": {
      "application/vnd.jupyter.widget-view+json": {
       "model_id": "6b34f3b2e9184f9689df43bfb972f628",
       "version_major": 2,
       "version_minor": 0
      },
      "text/plain": [
       "  0%|          | 0/50 [00:00<?, ?it/s]"
      ]
     },
     "metadata": {},
     "output_type": "display_data"
    },
    {
     "name": "stderr",
     "output_type": "stream",
     "text": [
      "/root/anaconda3/envs/lapixdl/lib/python3.11/site-packages/torchmetrics/utilities/prints.py:36: UserWarning: Metric `AUROC` will save all targets and predictions in buffer. For large datasets this may lead to large memory footprint.\n",
      "  warnings.warn(*args, **kwargs)\n",
      "\u001b[1;38;5;39mCOMET INFO:\u001b[0m Artifact 'derick-amontagna/Engine:111.0.0' has been fully uploaded successfully\n",
      "\u001b[1;38;5;39mCOMET INFO:\u001b[0m Artifact 'derick-amontagna/Networks:111.0.0' has been fully uploaded successfully\n",
      "\u001b[1;38;5;39mCOMET INFO:\u001b[0m Artifact 'derick-amontagna/DataSetup:113.0.0' has been fully uploaded successfully\n",
      "/root/anaconda3/envs/lapixdl/lib/python3.11/site-packages/torchmetrics/utilities/prints.py:36: UserWarning: Metric `AUROC` will save all targets and predictions in buffer. For large datasets this may lead to large memory footprint.\n",
      "  warnings.warn(*args, **kwargs)\n"
     ]
    },
    {
     "name": "stdout",
     "output_type": "stream",
     "text": [
      "terminating because of early stopping!\n",
      "Loaded model from epoch 9 with best validation auc: 0.90%\n",
      "DONE\n"
     ]
    },
    {
     "name": "stderr",
     "output_type": "stream",
     "text": [
      "\u001b[1;38;5;39mCOMET INFO:\u001b[0m ---------------------------------------------------------------------------------------\n",
      "\u001b[1;38;5;39mCOMET INFO:\u001b[0m Comet.ml Experiment Summary\n",
      "\u001b[1;38;5;39mCOMET INFO:\u001b[0m ---------------------------------------------------------------------------------------\n",
      "\u001b[1;38;5;39mCOMET INFO:\u001b[0m   Data:\n",
      "\u001b[1;38;5;39mCOMET INFO:\u001b[0m     display_summary_level : 1\n",
      "\u001b[1;38;5;39mCOMET INFO:\u001b[0m     name                  : intact_otter_8099\n",
      "\u001b[1;38;5;39mCOMET INFO:\u001b[0m     url                   : https://www.comet.com/derick-amontagna/adni1-s-siemens-dams-sgd-8/e9284c8adfec451782dda1e74f9e9be6\n",
      "\u001b[1;38;5;39mCOMET INFO:\u001b[0m   Metrics [count] (min, max):\n",
      "\u001b[1;38;5;39mCOMET INFO:\u001b[0m     epoch [29]         : (0, 28)\n",
      "\u001b[1;38;5;39mCOMET INFO:\u001b[0m     loss [572]         : (0.015263525769114494, 0.550325870513916)\n",
      "\u001b[1;38;5;39mCOMET INFO:\u001b[0m     test_acc           : 0.7691761363636364\n",
      "\u001b[1;38;5;39mCOMET INFO:\u001b[0m     test_acc_target    : 0.6901041666666666\n",
      "\u001b[1;38;5;39mCOMET INFO:\u001b[0m     test_acc_target_2  : 0.7097426470588235\n",
      "\u001b[1;38;5;39mCOMET INFO:\u001b[0m     test_auc           : 0.845213770866394\n",
      "\u001b[1;38;5;39mCOMET INFO:\u001b[0m     test_auc_target    : 0.7707783579826355\n",
      "\u001b[1;38;5;39mCOMET INFO:\u001b[0m     test_auc_target_2  : 0.770073652267456\n",
      "\u001b[1;38;5;39mCOMET INFO:\u001b[0m     test_loss          : 0.4937589005426024\n",
      "\u001b[1;38;5;39mCOMET INFO:\u001b[0m     test_loss_target   : 0.5444721262902021\n",
      "\u001b[1;38;5;39mCOMET INFO:\u001b[0m     test_loss_target_2 : 0.5640516368781819\n",
      "\u001b[1;38;5;39mCOMET INFO:\u001b[0m     train_acc [29]     : (0.5402918781725888, 0.9938134517766497)\n",
      "\u001b[1;38;5;39mCOMET INFO:\u001b[0m     train_auc [29]     : (0.5591222047805786, 0.9996235370635986)\n",
      "\u001b[1;38;5;39mCOMET INFO:\u001b[0m     train_loss [29]    : (0.03148614942346733, 0.5041567615143538)\n",
      "\u001b[1;38;5;39mCOMET INFO:\u001b[0m     val_acc [29]       : (0.381875, 0.8440625)\n",
      "\u001b[1;38;5;39mCOMET INFO:\u001b[0m     val_auc [29]       : (0.6688305139541626, 0.9034004807472229)\n",
      "\u001b[1;38;5;39mCOMET INFO:\u001b[0m     val_loss [29]      : (0.3749028041958809, 0.8962838153168559)\n",
      "\u001b[1;38;5;39mCOMET INFO:\u001b[0m   Others:\n",
      "\u001b[1;38;5;39mCOMET INFO:\u001b[0m     best_epoch             : 9\n",
      "\u001b[1;38;5;39mCOMET INFO:\u001b[0m     best_val_metric        : 0.9034004807472229\n",
      "\u001b[1;38;5;39mCOMET INFO:\u001b[0m     optimizer_count        : 35\n",
      "\u001b[1;38;5;39mCOMET INFO:\u001b[0m     optimizer_id           : a6175d5da17447a2a07d393e335bcde5\n",
      "\u001b[1;38;5;39mCOMET INFO:\u001b[0m     optimizer_metric       : val_auc\n",
      "\u001b[1;38;5;39mCOMET INFO:\u001b[0m     optimizer_metric_value : 0.9034004807472229\n",
      "\u001b[1;38;5;39mCOMET INFO:\u001b[0m     optimizer_name         : SOURCE_Siemens\n",
      "\u001b[1;38;5;39mCOMET INFO:\u001b[0m     optimizer_objective    : maximize\n",
      "\u001b[1;38;5;39mCOMET INFO:\u001b[0m     optimizer_parameters   : {\"batch_size\": 64, \"dropout\": 0.4, \"lr\": 0.0009, \"model\": \"DAMS\", \"momentum\": 0.9, \"seed\": 42, \"source\": \"Siemens\", \"target_1\": \"Philips\", \"target_2\": \"GE\", \"weight_decay\": 0.02}\n",
      "\u001b[1;38;5;39mCOMET INFO:\u001b[0m     optimizer_pid          : 88188071982d968d45c760f7ece7b83cbfa3039b\n",
      "\u001b[1;38;5;39mCOMET INFO:\u001b[0m     optimizer_process      : 544623\n",
      "\u001b[1;38;5;39mCOMET INFO:\u001b[0m     optimizer_trial        : 1\n",
      "\u001b[1;38;5;39mCOMET INFO:\u001b[0m     optimizer_version      : 2.1.4\n",
      "\u001b[1;38;5;39mCOMET INFO:\u001b[0m   Parameters:\n",
      "\u001b[1;38;5;39mCOMET INFO:\u001b[0m     batch_size   : 64\n",
      "\u001b[1;38;5;39mCOMET INFO:\u001b[0m     dropout      : 0.4\n",
      "\u001b[1;38;5;39mCOMET INFO:\u001b[0m     lr           : 0.0009\n",
      "\u001b[1;38;5;39mCOMET INFO:\u001b[0m     model        : DAMS\n",
      "\u001b[1;38;5;39mCOMET INFO:\u001b[0m     momentum     : 0.9\n",
      "\u001b[1;38;5;39mCOMET INFO:\u001b[0m     pos_weight   : 0.576\n",
      "\u001b[1;38;5;39mCOMET INFO:\u001b[0m     seed         : 42\n",
      "\u001b[1;38;5;39mCOMET INFO:\u001b[0m     source       : Siemens\n",
      "\u001b[1;38;5;39mCOMET INFO:\u001b[0m     target_1     : Philips\n",
      "\u001b[1;38;5;39mCOMET INFO:\u001b[0m     target_2     : GE\n",
      "\u001b[1;38;5;39mCOMET INFO:\u001b[0m     weight_decay : 0.02\n",
      "\u001b[1;38;5;39mCOMET INFO:\u001b[0m   Uploads:\n",
      "\u001b[1;38;5;39mCOMET INFO:\u001b[0m     artifact assets              : 3 (21.76 KB)\n",
      "\u001b[1;38;5;39mCOMET INFO:\u001b[0m     artifacts                    : 3\n",
      "\u001b[1;38;5;39mCOMET INFO:\u001b[0m     conda-environment-definition : 1\n",
      "\u001b[1;38;5;39mCOMET INFO:\u001b[0m     conda-info                   : 1\n",
      "\u001b[1;38;5;39mCOMET INFO:\u001b[0m     conda-specification          : 1\n",
      "\u001b[1;38;5;39mCOMET INFO:\u001b[0m     environment details          : 1\n",
      "\u001b[1;38;5;39mCOMET INFO:\u001b[0m     filename                     : 1\n",
      "\u001b[1;38;5;39mCOMET INFO:\u001b[0m     git metadata                 : 1\n",
      "\u001b[1;38;5;39mCOMET INFO:\u001b[0m     git-patch (uncompressed)     : 1 (995.11 KB)\n",
      "\u001b[1;38;5;39mCOMET INFO:\u001b[0m     installed packages           : 1\n",
      "\u001b[1;38;5;39mCOMET INFO:\u001b[0m     model graph                  : 1\n",
      "\u001b[1;38;5;39mCOMET INFO:\u001b[0m     model-element                : 1 (183.72 MB)\n",
      "\u001b[1;38;5;39mCOMET INFO:\u001b[0m     notebook                     : 1\n",
      "\u001b[1;38;5;39mCOMET INFO:\u001b[0m     os packages                  : 1\n",
      "\u001b[1;38;5;39mCOMET INFO:\u001b[0m     source_code                  : 1\n",
      "\u001b[1;38;5;39mCOMET INFO:\u001b[0m \n",
      "\u001b[1;38;5;39mCOMET INFO:\u001b[0m Uploading 73 metrics, params and output messages\n",
      "\u001b[1;38;5;39mCOMET INFO:\u001b[0m Please wait for assets to finish uploading (timeout is 10800 seconds)\n",
      "\u001b[1;38;5;39mCOMET INFO:\u001b[0m Still uploading 3 file(s), remaining 98.72 MB/183.74 MB\n",
      "\u001b[1;38;5;214mCOMET WARNING:\u001b[0m As you are running in a Jupyter environment, you will need to call `experiment.end()` when finished to ensure all metrics and code are logged before exiting.\n",
      "\u001b[1;38;5;39mCOMET INFO:\u001b[0m Experiment is live on comet.com https://www.comet.com/derick-amontagna/adni1-s-siemens-dams-sgd-8/2323976309564254970c531c13d6799e\n",
      "\n",
      "\u001b[1;38;5;39mCOMET INFO:\u001b[0m Artifact 'Engine' version 112.0.0 created (previous was: 111.0.0)\n"
     ]
    },
    {
     "name": "stdout",
     "output_type": "stream",
     "text": [
      "Treinando esse modelo: DAMS\n",
      "Treinando com o source: Siemens/target: Philips/GE\n"
     ]
    },
    {
     "name": "stderr",
     "output_type": "stream",
     "text": [
      "\u001b[1;38;5;39mCOMET INFO:\u001b[0m Scheduling the upload of 1 assets: 1 local assets for a size of 8.21 KB, and 0 remote assets (will be linked, not uploaded). This can take some time.\n",
      "\u001b[1;38;5;39mCOMET INFO:\u001b[0m Artifact 'derick-amontagna/Engine:112.0.0' has started uploading asynchronously\n",
      "\u001b[1;38;5;39mCOMET INFO:\u001b[0m Artifact 'Networks' version 112.0.0 created (previous was: 111.0.0)\n",
      "\u001b[1;38;5;39mCOMET INFO:\u001b[0m Scheduling the upload of 1 assets: 1 local assets for a size of 5.82 KB, and 0 remote assets (will be linked, not uploaded). This can take some time.\n",
      "\u001b[1;38;5;39mCOMET INFO:\u001b[0m Artifact 'derick-amontagna/Networks:112.0.0' has started uploading asynchronously\n",
      "\u001b[1;38;5;39mCOMET INFO:\u001b[0m Artifact 'DataSetup' version 114.0.0 created (previous was: 113.0.0)\n",
      "\u001b[1;38;5;39mCOMET INFO:\u001b[0m Scheduling the upload of 1 assets: 1 local assets for a size of 7.72 KB, and 0 remote assets (will be linked, not uploaded). This can take some time.\n",
      "\u001b[1;38;5;39mCOMET INFO:\u001b[0m Artifact 'derick-amontagna/DataSetup:114.0.0' has started uploading asynchronously\n"
     ]
    },
    {
     "name": "stdout",
     "output_type": "stream",
     "text": [
      "Loading Dataloader\n",
      "Use DAMS Basic\n",
      "Create model\n",
      "Start Train\n"
     ]
    },
    {
     "data": {
      "application/vnd.jupyter.widget-view+json": {
       "model_id": "1347ffab78844adaa8dc4d78c9c2bbf4",
       "version_major": 2,
       "version_minor": 0
      },
      "text/plain": [
       "  0%|          | 0/50 [00:00<?, ?it/s]"
      ]
     },
     "metadata": {},
     "output_type": "display_data"
    },
    {
     "name": "stderr",
     "output_type": "stream",
     "text": [
      "/root/anaconda3/envs/lapixdl/lib/python3.11/site-packages/torchmetrics/utilities/prints.py:36: UserWarning: Metric `AUROC` will save all targets and predictions in buffer. For large datasets this may lead to large memory footprint.\n",
      "  warnings.warn(*args, **kwargs)\n",
      "\u001b[1;38;5;39mCOMET INFO:\u001b[0m Artifact 'derick-amontagna/DataSetup:114.0.0' has been fully uploaded successfully\n",
      "\u001b[1;38;5;39mCOMET INFO:\u001b[0m Artifact 'derick-amontagna/Networks:112.0.0' has been fully uploaded successfully\n",
      "\u001b[1;38;5;39mCOMET INFO:\u001b[0m Artifact 'derick-amontagna/Engine:112.0.0' has been fully uploaded successfully\n",
      "/root/anaconda3/envs/lapixdl/lib/python3.11/site-packages/torchmetrics/utilities/prints.py:36: UserWarning: Metric `AUROC` will save all targets and predictions in buffer. For large datasets this may lead to large memory footprint.\n",
      "  warnings.warn(*args, **kwargs)\n"
     ]
    },
    {
     "name": "stdout",
     "output_type": "stream",
     "text": [
      "terminating because of early stopping!\n",
      "Loaded model from epoch 9 with best validation auc: 0.91%\n",
      "DONE\n"
     ]
    },
    {
     "name": "stderr",
     "output_type": "stream",
     "text": [
      "\u001b[1;38;5;39mCOMET INFO:\u001b[0m ---------------------------------------------------------------------------------------\n",
      "\u001b[1;38;5;39mCOMET INFO:\u001b[0m Comet.ml Experiment Summary\n",
      "\u001b[1;38;5;39mCOMET INFO:\u001b[0m ---------------------------------------------------------------------------------------\n",
      "\u001b[1;38;5;39mCOMET INFO:\u001b[0m   Data:\n",
      "\u001b[1;38;5;39mCOMET INFO:\u001b[0m     display_summary_level : 1\n",
      "\u001b[1;38;5;39mCOMET INFO:\u001b[0m     name                  : deep_cabinet_5549\n",
      "\u001b[1;38;5;39mCOMET INFO:\u001b[0m     url                   : https://www.comet.com/derick-amontagna/adni1-s-siemens-dams-sgd-8/2323976309564254970c531c13d6799e\n",
      "\u001b[1;38;5;39mCOMET INFO:\u001b[0m   Metrics [count] (min, max):\n",
      "\u001b[1;38;5;39mCOMET INFO:\u001b[0m     epoch [29]         : (0, 28)\n",
      "\u001b[1;38;5;39mCOMET INFO:\u001b[0m     loss [572]         : (0.027695970609784126, 0.5494875907897949)\n",
      "\u001b[1;38;5;39mCOMET INFO:\u001b[0m     test_acc           : 0.7838541666666666\n",
      "\u001b[1;38;5;39mCOMET INFO:\u001b[0m     test_acc_target    : 0.6861979166666666\n",
      "\u001b[1;38;5;39mCOMET INFO:\u001b[0m     test_acc_target_2  : 0.7191176470588235\n",
      "\u001b[1;38;5;39mCOMET INFO:\u001b[0m     test_auc           : 0.8605406880378723\n",
      "\u001b[1;38;5;39mCOMET INFO:\u001b[0m     test_auc_target    : 0.7340711355209351\n",
      "\u001b[1;38;5;39mCOMET INFO:\u001b[0m     test_auc_target_2  : 0.7525588870048523\n",
      "\u001b[1;38;5;39mCOMET INFO:\u001b[0m     test_loss          : 0.4717179804363034\n",
      "\u001b[1;38;5;39mCOMET INFO:\u001b[0m     test_loss_target   : 0.5809872401878238\n",
      "\u001b[1;38;5;39mCOMET INFO:\u001b[0m     test_loss_target_2 : 0.5614356889444239\n",
      "\u001b[1;38;5;39mCOMET INFO:\u001b[0m     train_acc [29]     : (0.5352950507614214, 0.9916719543147208)\n",
      "\u001b[1;38;5;39mCOMET INFO:\u001b[0m     train_auc [29]     : (0.5540140271186829, 0.999505341053009)\n",
      "\u001b[1;38;5;39mCOMET INFO:\u001b[0m     train_loss [29]    : (0.047978583553115725, 0.5046883599104615)\n",
      "\u001b[1;38;5;39mCOMET INFO:\u001b[0m     val_acc [29]       : (0.3859375, 0.85875)\n",
      "\u001b[1;38;5;39mCOMET INFO:\u001b[0m     val_auc [29]       : (0.6990309953689575, 0.9060564637184143)\n",
      "\u001b[1;38;5;39mCOMET INFO:\u001b[0m     val_loss [29]      : (0.3385493836551905, 0.8257152418233454)\n",
      "\u001b[1;38;5;39mCOMET INFO:\u001b[0m   Others:\n",
      "\u001b[1;38;5;39mCOMET INFO:\u001b[0m     best_epoch             : 9\n",
      "\u001b[1;38;5;39mCOMET INFO:\u001b[0m     best_val_metric        : 0.9060564637184143\n",
      "\u001b[1;38;5;39mCOMET INFO:\u001b[0m     optimizer_count        : 36\n",
      "\u001b[1;38;5;39mCOMET INFO:\u001b[0m     optimizer_id           : a6175d5da17447a2a07d393e335bcde5\n",
      "\u001b[1;38;5;39mCOMET INFO:\u001b[0m     optimizer_metric       : val_auc\n",
      "\u001b[1;38;5;39mCOMET INFO:\u001b[0m     optimizer_metric_value : 0.9060564637184143\n",
      "\u001b[1;38;5;39mCOMET INFO:\u001b[0m     optimizer_name         : SOURCE_Siemens\n",
      "\u001b[1;38;5;39mCOMET INFO:\u001b[0m     optimizer_objective    : maximize\n",
      "\u001b[1;38;5;39mCOMET INFO:\u001b[0m     optimizer_parameters   : {\"batch_size\": 64, \"dropout\": 0.4, \"lr\": 0.0009, \"model\": \"DAMS\", \"momentum\": 0.9, \"seed\": 42, \"source\": \"Siemens\", \"target_1\": \"Philips\", \"target_2\": \"GE\", \"weight_decay\": 0.03}\n",
      "\u001b[1;38;5;39mCOMET INFO:\u001b[0m     optimizer_pid          : 0267537016536998aa04681964142656098d04e8\n",
      "\u001b[1;38;5;39mCOMET INFO:\u001b[0m     optimizer_process      : 544623\n",
      "\u001b[1;38;5;39mCOMET INFO:\u001b[0m     optimizer_trial        : 1\n",
      "\u001b[1;38;5;39mCOMET INFO:\u001b[0m     optimizer_version      : 2.1.4\n",
      "\u001b[1;38;5;39mCOMET INFO:\u001b[0m   Parameters:\n",
      "\u001b[1;38;5;39mCOMET INFO:\u001b[0m     batch_size   : 64\n",
      "\u001b[1;38;5;39mCOMET INFO:\u001b[0m     dropout      : 0.4\n",
      "\u001b[1;38;5;39mCOMET INFO:\u001b[0m     lr           : 0.0009\n",
      "\u001b[1;38;5;39mCOMET INFO:\u001b[0m     model        : DAMS\n",
      "\u001b[1;38;5;39mCOMET INFO:\u001b[0m     momentum     : 0.9\n",
      "\u001b[1;38;5;39mCOMET INFO:\u001b[0m     pos_weight   : 0.576\n",
      "\u001b[1;38;5;39mCOMET INFO:\u001b[0m     seed         : 42\n",
      "\u001b[1;38;5;39mCOMET INFO:\u001b[0m     source       : Siemens\n",
      "\u001b[1;38;5;39mCOMET INFO:\u001b[0m     target_1     : Philips\n",
      "\u001b[1;38;5;39mCOMET INFO:\u001b[0m     target_2     : GE\n",
      "\u001b[1;38;5;39mCOMET INFO:\u001b[0m     weight_decay : 0.03\n",
      "\u001b[1;38;5;39mCOMET INFO:\u001b[0m   Uploads:\n",
      "\u001b[1;38;5;39mCOMET INFO:\u001b[0m     artifact assets              : 3 (21.76 KB)\n",
      "\u001b[1;38;5;39mCOMET INFO:\u001b[0m     artifacts                    : 3\n",
      "\u001b[1;38;5;39mCOMET INFO:\u001b[0m     conda-environment-definition : 1\n",
      "\u001b[1;38;5;39mCOMET INFO:\u001b[0m     conda-info                   : 1\n",
      "\u001b[1;38;5;39mCOMET INFO:\u001b[0m     conda-specification          : 1\n",
      "\u001b[1;38;5;39mCOMET INFO:\u001b[0m     environment details          : 1\n",
      "\u001b[1;38;5;39mCOMET INFO:\u001b[0m     filename                     : 1\n",
      "\u001b[1;38;5;39mCOMET INFO:\u001b[0m     git metadata                 : 1\n",
      "\u001b[1;38;5;39mCOMET INFO:\u001b[0m     git-patch (uncompressed)     : 1 (1005.22 KB)\n",
      "\u001b[1;38;5;39mCOMET INFO:\u001b[0m     installed packages           : 1\n",
      "\u001b[1;38;5;39mCOMET INFO:\u001b[0m     model graph                  : 1\n",
      "\u001b[1;38;5;39mCOMET INFO:\u001b[0m     model-element                : 1 (183.72 MB)\n",
      "\u001b[1;38;5;39mCOMET INFO:\u001b[0m     notebook                     : 1\n",
      "\u001b[1;38;5;39mCOMET INFO:\u001b[0m     os packages                  : 1\n",
      "\u001b[1;38;5;39mCOMET INFO:\u001b[0m     source_code                  : 1\n",
      "\u001b[1;38;5;39mCOMET INFO:\u001b[0m \n",
      "\u001b[1;38;5;39mCOMET INFO:\u001b[0m Uploading 70 metrics, params and output messages\n",
      "\u001b[1;38;5;39mCOMET INFO:\u001b[0m Please wait for assets to finish uploading (timeout is 10800 seconds)\n",
      "\u001b[1;38;5;39mCOMET INFO:\u001b[0m Still uploading 1 file(s), remaining 83.72 MB/183.72 MB\n",
      "\u001b[1;38;5;214mCOMET WARNING:\u001b[0m As you are running in a Jupyter environment, you will need to call `experiment.end()` when finished to ensure all metrics and code are logged before exiting.\n",
      "\u001b[1;38;5;39mCOMET INFO:\u001b[0m Experiment is live on comet.com https://www.comet.com/derick-amontagna/adni1-s-siemens-dams-sgd-8/3b59ee029ecd4ab287b5f51a494832d2\n",
      "\n",
      "\u001b[1;38;5;39mCOMET INFO:\u001b[0m Artifact 'Engine' version 113.0.0 created (previous was: 112.0.0)\n"
     ]
    },
    {
     "name": "stdout",
     "output_type": "stream",
     "text": [
      "Treinando esse modelo: DAMS\n",
      "Treinando com o source: Siemens/target: Philips/GE\n"
     ]
    },
    {
     "name": "stderr",
     "output_type": "stream",
     "text": [
      "\u001b[1;38;5;39mCOMET INFO:\u001b[0m Scheduling the upload of 1 assets: 1 local assets for a size of 8.21 KB, and 0 remote assets (will be linked, not uploaded). This can take some time.\n",
      "\u001b[1;38;5;39mCOMET INFO:\u001b[0m Artifact 'derick-amontagna/Engine:113.0.0' has started uploading asynchronously\n",
      "\u001b[1;38;5;39mCOMET INFO:\u001b[0m Artifact 'Networks' version 113.0.0 created (previous was: 112.0.0)\n",
      "\u001b[1;38;5;39mCOMET INFO:\u001b[0m Scheduling the upload of 1 assets: 1 local assets for a size of 5.82 KB, and 0 remote assets (will be linked, not uploaded). This can take some time.\n",
      "\u001b[1;38;5;39mCOMET INFO:\u001b[0m Artifact 'derick-amontagna/Networks:113.0.0' has started uploading asynchronously\n",
      "\u001b[1;38;5;39mCOMET INFO:\u001b[0m Artifact 'DataSetup' version 115.0.0 created (previous was: 114.0.0)\n",
      "\u001b[1;38;5;39mCOMET INFO:\u001b[0m Scheduling the upload of 1 assets: 1 local assets for a size of 7.72 KB, and 0 remote assets (will be linked, not uploaded). This can take some time.\n",
      "\u001b[1;38;5;39mCOMET INFO:\u001b[0m Artifact 'derick-amontagna/DataSetup:115.0.0' has started uploading asynchronously\n"
     ]
    },
    {
     "name": "stdout",
     "output_type": "stream",
     "text": [
      "Loading Dataloader\n",
      "Use DAMS Basic\n",
      "Create model\n",
      "Start Train\n"
     ]
    },
    {
     "data": {
      "application/vnd.jupyter.widget-view+json": {
       "model_id": "7eb2ab89111d47a78e0e7d1f93b14339",
       "version_major": 2,
       "version_minor": 0
      },
      "text/plain": [
       "  0%|          | 0/50 [00:00<?, ?it/s]"
      ]
     },
     "metadata": {},
     "output_type": "display_data"
    },
    {
     "name": "stderr",
     "output_type": "stream",
     "text": [
      "/root/anaconda3/envs/lapixdl/lib/python3.11/site-packages/torchmetrics/utilities/prints.py:36: UserWarning: Metric `AUROC` will save all targets and predictions in buffer. For large datasets this may lead to large memory footprint.\n",
      "  warnings.warn(*args, **kwargs)\n",
      "\u001b[1;38;5;39mCOMET INFO:\u001b[0m Artifact 'derick-amontagna/Engine:113.0.0' has been fully uploaded successfully\n",
      "\u001b[1;38;5;39mCOMET INFO:\u001b[0m Artifact 'derick-amontagna/DataSetup:115.0.0' has been fully uploaded successfully\n",
      "\u001b[1;38;5;39mCOMET INFO:\u001b[0m Artifact 'derick-amontagna/Networks:113.0.0' has been fully uploaded successfully\n",
      "/root/anaconda3/envs/lapixdl/lib/python3.11/site-packages/torchmetrics/utilities/prints.py:36: UserWarning: Metric `AUROC` will save all targets and predictions in buffer. For large datasets this may lead to large memory footprint.\n",
      "  warnings.warn(*args, **kwargs)\n"
     ]
    },
    {
     "name": "stdout",
     "output_type": "stream",
     "text": [
      "terminating because of early stopping!\n",
      "Loaded model from epoch 30 with best validation auc: 0.96%\n",
      "DONE\n"
     ]
    },
    {
     "name": "stderr",
     "output_type": "stream",
     "text": [
      "\u001b[1;38;5;39mCOMET INFO:\u001b[0m ---------------------------------------------------------------------------------------\n",
      "\u001b[1;38;5;39mCOMET INFO:\u001b[0m Comet.ml Experiment Summary\n",
      "\u001b[1;38;5;39mCOMET INFO:\u001b[0m ---------------------------------------------------------------------------------------\n",
      "\u001b[1;38;5;39mCOMET INFO:\u001b[0m   Data:\n",
      "\u001b[1;38;5;39mCOMET INFO:\u001b[0m     display_summary_level : 1\n",
      "\u001b[1;38;5;39mCOMET INFO:\u001b[0m     name                  : reluctant_reef_5702\n",
      "\u001b[1;38;5;39mCOMET INFO:\u001b[0m     url                   : https://www.comet.com/derick-amontagna/adni1-s-siemens-dams-sgd-8/3b59ee029ecd4ab287b5f51a494832d2\n",
      "\u001b[1;38;5;39mCOMET INFO:\u001b[0m   Metrics [count] (min, max):\n",
      "\u001b[1;38;5;39mCOMET INFO:\u001b[0m     epoch [50]         : (0, 49)\n",
      "\u001b[1;38;5;39mCOMET INFO:\u001b[0m     loss [3940]        : (0.026946401223540306, 0.8324556350708008)\n",
      "\u001b[1;38;5;39mCOMET INFO:\u001b[0m     test_acc           : 0.8618797709923665\n",
      "\u001b[1;38;5;39mCOMET INFO:\u001b[0m     test_acc_target    : 0.7161458333333334\n",
      "\u001b[1;38;5;39mCOMET INFO:\u001b[0m     test_acc_target_2  : 0.7633136094674556\n",
      "\u001b[1;38;5;39mCOMET INFO:\u001b[0m     test_auc           : 0.919966459274292\n",
      "\u001b[1;38;5;39mCOMET INFO:\u001b[0m     test_auc_target    : 0.652862548828125\n",
      "\u001b[1;38;5;39mCOMET INFO:\u001b[0m     test_auc_target_2  : 0.8083581328392029\n",
      "\u001b[1;38;5;39mCOMET INFO:\u001b[0m     test_loss          : 0.2840830875233612\n",
      "\u001b[1;38;5;39mCOMET INFO:\u001b[0m     test_loss_target   : 0.655923450520883\n",
      "\u001b[1;38;5;39mCOMET INFO:\u001b[0m     test_loss_target_2 : 0.5524468298604679\n",
      "\u001b[1;38;5;39mCOMET INFO:\u001b[0m     train_acc [50]     : (0.6112785532994924, 0.9666085025380711)\n",
      "\u001b[1;38;5;39mCOMET INFO:\u001b[0m     train_auc [50]     : (0.6592447757720947, 0.993518590927124)\n",
      "\u001b[1;38;5;39mCOMET INFO:\u001b[0m     train_loss [50]    : (0.08966973493925207, 0.48048399714043905)\n",
      "\u001b[1;38;5;39mCOMET INFO:\u001b[0m     val_acc [50]       : (0.426875, 0.8896875)\n",
      "\u001b[1;38;5;39mCOMET INFO:\u001b[0m     val_auc [50]       : (0.7187379598617554, 0.9561479687690735)\n",
      "\u001b[1;38;5;39mCOMET INFO:\u001b[0m     val_loss [50]      : (0.21615643551573158, 0.9370354224927724)\n",
      "\u001b[1;38;5;39mCOMET INFO:\u001b[0m   Others:\n",
      "\u001b[1;38;5;39mCOMET INFO:\u001b[0m     best_epoch             : 30\n",
      "\u001b[1;38;5;39mCOMET INFO:\u001b[0m     best_val_metric        : 0.9561479687690735\n",
      "\u001b[1;38;5;39mCOMET INFO:\u001b[0m     optimizer_count        : 37\n",
      "\u001b[1;38;5;39mCOMET INFO:\u001b[0m     optimizer_id           : a6175d5da17447a2a07d393e335bcde5\n",
      "\u001b[1;38;5;39mCOMET INFO:\u001b[0m     optimizer_metric       : val_auc\n",
      "\u001b[1;38;5;39mCOMET INFO:\u001b[0m     optimizer_metric_value : 0.9561479687690735\n",
      "\u001b[1;38;5;39mCOMET INFO:\u001b[0m     optimizer_name         : SOURCE_Siemens\n",
      "\u001b[1;38;5;39mCOMET INFO:\u001b[0m     optimizer_objective    : maximize\n",
      "\u001b[1;38;5;39mCOMET INFO:\u001b[0m     optimizer_parameters   : {\"batch_size\": 16, \"dropout\": 0.2, \"lr\": 0.001, \"model\": \"DAMS\", \"momentum\": 0.9, \"seed\": 42, \"source\": \"Siemens\", \"target_1\": \"Philips\", \"target_2\": \"GE\", \"weight_decay\": 0.02}\n",
      "\u001b[1;38;5;39mCOMET INFO:\u001b[0m     optimizer_pid          : 34c22a61b01d307f7fc7415549677fd07ad4cdc6\n",
      "\u001b[1;38;5;39mCOMET INFO:\u001b[0m     optimizer_process      : 544623\n",
      "\u001b[1;38;5;39mCOMET INFO:\u001b[0m     optimizer_trial        : 1\n",
      "\u001b[1;38;5;39mCOMET INFO:\u001b[0m     optimizer_version      : 2.1.4\n",
      "\u001b[1;38;5;39mCOMET INFO:\u001b[0m   Parameters:\n",
      "\u001b[1;38;5;39mCOMET INFO:\u001b[0m     batch_size   : 16\n",
      "\u001b[1;38;5;39mCOMET INFO:\u001b[0m     dropout      : 0.2\n",
      "\u001b[1;38;5;39mCOMET INFO:\u001b[0m     lr           : 0.001\n",
      "\u001b[1;38;5;39mCOMET INFO:\u001b[0m     model        : DAMS\n",
      "\u001b[1;38;5;39mCOMET INFO:\u001b[0m     momentum     : 0.9\n",
      "\u001b[1;38;5;39mCOMET INFO:\u001b[0m     pos_weight   : 0.576\n",
      "\u001b[1;38;5;39mCOMET INFO:\u001b[0m     seed         : 42\n",
      "\u001b[1;38;5;39mCOMET INFO:\u001b[0m     source       : Siemens\n",
      "\u001b[1;38;5;39mCOMET INFO:\u001b[0m     target_1     : Philips\n",
      "\u001b[1;38;5;39mCOMET INFO:\u001b[0m     target_2     : GE\n",
      "\u001b[1;38;5;39mCOMET INFO:\u001b[0m     weight_decay : 0.02\n",
      "\u001b[1;38;5;39mCOMET INFO:\u001b[0m   Uploads:\n",
      "\u001b[1;38;5;39mCOMET INFO:\u001b[0m     artifact assets              : 3 (21.76 KB)\n",
      "\u001b[1;38;5;39mCOMET INFO:\u001b[0m     artifacts                    : 3\n",
      "\u001b[1;38;5;39mCOMET INFO:\u001b[0m     conda-environment-definition : 1\n",
      "\u001b[1;38;5;39mCOMET INFO:\u001b[0m     conda-info                   : 1\n",
      "\u001b[1;38;5;39mCOMET INFO:\u001b[0m     conda-specification          : 1\n",
      "\u001b[1;38;5;39mCOMET INFO:\u001b[0m     environment details          : 1\n",
      "\u001b[1;38;5;39mCOMET INFO:\u001b[0m     filename                     : 1\n",
      "\u001b[1;38;5;39mCOMET INFO:\u001b[0m     git metadata                 : 1\n",
      "\u001b[1;38;5;39mCOMET INFO:\u001b[0m     git-patch (uncompressed)     : 1 (1015.64 KB)\n",
      "\u001b[1;38;5;39mCOMET INFO:\u001b[0m     installed packages           : 1\n",
      "\u001b[1;38;5;39mCOMET INFO:\u001b[0m     model graph                  : 1\n",
      "\u001b[1;38;5;39mCOMET INFO:\u001b[0m     model-element                : 1 (183.72 MB)\n",
      "\u001b[1;38;5;39mCOMET INFO:\u001b[0m     notebook                     : 1\n",
      "\u001b[1;38;5;39mCOMET INFO:\u001b[0m     os packages                  : 1\n",
      "\u001b[1;38;5;39mCOMET INFO:\u001b[0m     source_code                  : 1\n",
      "\u001b[1;38;5;39mCOMET INFO:\u001b[0m \n",
      "\u001b[1;38;5;39mCOMET INFO:\u001b[0m Please wait for assets to finish uploading (timeout is 10800 seconds)\n",
      "\u001b[1;38;5;39mCOMET INFO:\u001b[0m Still uploading 1 file(s), remaining 53.72 MB/183.72 MB\n",
      "\u001b[1;38;5;214mCOMET WARNING:\u001b[0m As you are running in a Jupyter environment, you will need to call `experiment.end()` when finished to ensure all metrics and code are logged before exiting.\n",
      "\u001b[1;38;5;39mCOMET INFO:\u001b[0m Experiment is live on comet.com https://www.comet.com/derick-amontagna/adni1-s-siemens-dams-sgd-8/8164cc491ce84485a556bf1f1be54835\n",
      "\n",
      "\u001b[1;38;5;39mCOMET INFO:\u001b[0m Artifact 'Engine' version 114.0.0 created (previous was: 113.0.0)\n"
     ]
    },
    {
     "name": "stdout",
     "output_type": "stream",
     "text": [
      "Treinando esse modelo: DAMS\n",
      "Treinando com o source: Siemens/target: Philips/GE\n"
     ]
    },
    {
     "name": "stderr",
     "output_type": "stream",
     "text": [
      "\u001b[1;38;5;39mCOMET INFO:\u001b[0m Scheduling the upload of 1 assets: 1 local assets for a size of 8.21 KB, and 0 remote assets (will be linked, not uploaded). This can take some time.\n",
      "\u001b[1;38;5;39mCOMET INFO:\u001b[0m Artifact 'derick-amontagna/Engine:114.0.0' has started uploading asynchronously\n",
      "\u001b[1;38;5;39mCOMET INFO:\u001b[0m Artifact 'Networks' version 114.0.0 created (previous was: 113.0.0)\n",
      "\u001b[1;38;5;39mCOMET INFO:\u001b[0m Scheduling the upload of 1 assets: 1 local assets for a size of 5.82 KB, and 0 remote assets (will be linked, not uploaded). This can take some time.\n",
      "\u001b[1;38;5;39mCOMET INFO:\u001b[0m Artifact 'derick-amontagna/Networks:114.0.0' has started uploading asynchronously\n",
      "\u001b[1;38;5;39mCOMET INFO:\u001b[0m Artifact 'DataSetup' version 116.0.0 created (previous was: 115.0.0)\n",
      "\u001b[1;38;5;39mCOMET INFO:\u001b[0m Scheduling the upload of 1 assets: 1 local assets for a size of 7.72 KB, and 0 remote assets (will be linked, not uploaded). This can take some time.\n",
      "\u001b[1;38;5;39mCOMET INFO:\u001b[0m Artifact 'derick-amontagna/DataSetup:116.0.0' has started uploading asynchronously\n"
     ]
    },
    {
     "name": "stdout",
     "output_type": "stream",
     "text": [
      "Loading Dataloader\n",
      "Use DAMS Basic\n",
      "Create model\n",
      "Start Train\n"
     ]
    },
    {
     "data": {
      "application/vnd.jupyter.widget-view+json": {
       "model_id": "9d15abed7c1f4fc98e20bdf893a7264e",
       "version_major": 2,
       "version_minor": 0
      },
      "text/plain": [
       "  0%|          | 0/50 [00:00<?, ?it/s]"
      ]
     },
     "metadata": {},
     "output_type": "display_data"
    },
    {
     "name": "stderr",
     "output_type": "stream",
     "text": [
      "/root/anaconda3/envs/lapixdl/lib/python3.11/site-packages/torchmetrics/utilities/prints.py:36: UserWarning: Metric `AUROC` will save all targets and predictions in buffer. For large datasets this may lead to large memory footprint.\n",
      "  warnings.warn(*args, **kwargs)\n",
      "\u001b[1;38;5;39mCOMET INFO:\u001b[0m Artifact 'derick-amontagna/Networks:114.0.0' has been fully uploaded successfully\n",
      "\u001b[1;38;5;39mCOMET INFO:\u001b[0m Artifact 'derick-amontagna/Engine:114.0.0' has been fully uploaded successfully\n",
      "\u001b[1;38;5;39mCOMET INFO:\u001b[0m Artifact 'derick-amontagna/DataSetup:116.0.0' has been fully uploaded successfully\n",
      "/root/anaconda3/envs/lapixdl/lib/python3.11/site-packages/torchmetrics/utilities/prints.py:36: UserWarning: Metric `AUROC` will save all targets and predictions in buffer. For large datasets this may lead to large memory footprint.\n",
      "  warnings.warn(*args, **kwargs)\n"
     ]
    },
    {
     "name": "stdout",
     "output_type": "stream",
     "text": [
      "terminating because of early stopping!\n",
      "Loaded model from epoch 18 with best validation auc: 0.96%\n",
      "DONE\n"
     ]
    },
    {
     "name": "stderr",
     "output_type": "stream",
     "text": [
      "\u001b[1;38;5;39mCOMET INFO:\u001b[0m ---------------------------------------------------------------------------------------\n",
      "\u001b[1;38;5;39mCOMET INFO:\u001b[0m Comet.ml Experiment Summary\n",
      "\u001b[1;38;5;39mCOMET INFO:\u001b[0m ---------------------------------------------------------------------------------------\n",
      "\u001b[1;38;5;39mCOMET INFO:\u001b[0m   Data:\n",
      "\u001b[1;38;5;39mCOMET INFO:\u001b[0m     display_summary_level : 1\n",
      "\u001b[1;38;5;39mCOMET INFO:\u001b[0m     name                  : registered_olive_2993\n",
      "\u001b[1;38;5;39mCOMET INFO:\u001b[0m     url                   : https://www.comet.com/derick-amontagna/adni1-s-siemens-dams-sgd-8/8164cc491ce84485a556bf1f1be54835\n",
      "\u001b[1;38;5;39mCOMET INFO:\u001b[0m   Metrics [count] (min, max):\n",
      "\u001b[1;38;5;39mCOMET INFO:\u001b[0m     epoch [38]         : (0, 37)\n",
      "\u001b[1;38;5;39mCOMET INFO:\u001b[0m     loss [2995]        : (0.04350581765174866, 0.8285716772079468)\n",
      "\u001b[1;38;5;39mCOMET INFO:\u001b[0m     test_acc           : 0.6638835877862596\n",
      "\u001b[1;38;5;39mCOMET INFO:\u001b[0m     test_acc_target    : 0.5227864583333334\n",
      "\u001b[1;38;5;39mCOMET INFO:\u001b[0m     test_acc_target_2  : 0.5959689349112426\n",
      "\u001b[1;38;5;39mCOMET INFO:\u001b[0m     test_auc           : 0.8321751356124878\n",
      "\u001b[1;38;5;39mCOMET INFO:\u001b[0m     test_auc_target    : 0.6508150100708008\n",
      "\u001b[1;38;5;39mCOMET INFO:\u001b[0m     test_auc_target_2  : 0.7855753898620605\n",
      "\u001b[1;38;5;39mCOMET INFO:\u001b[0m     test_loss          : 0.44619999919797626\n",
      "\u001b[1;38;5;39mCOMET INFO:\u001b[0m     test_loss_target   : 0.5715949161288639\n",
      "\u001b[1;38;5;39mCOMET INFO:\u001b[0m     test_loss_target_2 : 0.5406685961994546\n",
      "\u001b[1;38;5;39mCOMET INFO:\u001b[0m     train_acc [38]     : (0.6165133248730964, 0.9536802030456852)\n",
      "\u001b[1;38;5;39mCOMET INFO:\u001b[0m     train_auc [38]     : (0.6658289432525635, 0.9893350601196289)\n",
      "\u001b[1;38;5;39mCOMET INFO:\u001b[0m     train_loss [38]    : (0.12203384919782279, 0.47941997530042824)\n",
      "\u001b[1;38;5;39mCOMET INFO:\u001b[0m     val_acc [38]       : (0.3815625, 0.8765625)\n",
      "\u001b[1;38;5;39mCOMET INFO:\u001b[0m     val_auc [38]       : (0.7571841478347778, 0.9577387571334839)\n",
      "\u001b[1;38;5;39mCOMET INFO:\u001b[0m     val_loss [38]      : (0.252770861890167, 0.9047068171948195)\n",
      "\u001b[1;38;5;39mCOMET INFO:\u001b[0m   Others:\n",
      "\u001b[1;38;5;39mCOMET INFO:\u001b[0m     best_epoch             : 18\n",
      "\u001b[1;38;5;39mCOMET INFO:\u001b[0m     best_val_metric        : 0.9577387571334839\n",
      "\u001b[1;38;5;39mCOMET INFO:\u001b[0m     optimizer_count        : 38\n",
      "\u001b[1;38;5;39mCOMET INFO:\u001b[0m     optimizer_id           : a6175d5da17447a2a07d393e335bcde5\n",
      "\u001b[1;38;5;39mCOMET INFO:\u001b[0m     optimizer_metric       : val_auc\n",
      "\u001b[1;38;5;39mCOMET INFO:\u001b[0m     optimizer_metric_value : 0.9577387571334839\n",
      "\u001b[1;38;5;39mCOMET INFO:\u001b[0m     optimizer_name         : SOURCE_Siemens\n",
      "\u001b[1;38;5;39mCOMET INFO:\u001b[0m     optimizer_objective    : maximize\n",
      "\u001b[1;38;5;39mCOMET INFO:\u001b[0m     optimizer_parameters   : {\"batch_size\": 16, \"dropout\": 0.2, \"lr\": 0.001, \"model\": \"DAMS\", \"momentum\": 0.9, \"seed\": 42, \"source\": \"Siemens\", \"target_1\": \"Philips\", \"target_2\": \"GE\", \"weight_decay\": 0.03}\n",
      "\u001b[1;38;5;39mCOMET INFO:\u001b[0m     optimizer_pid          : 2958dd92d766b93a7f93fae733746fc9a44fdf0b\n",
      "\u001b[1;38;5;39mCOMET INFO:\u001b[0m     optimizer_process      : 544623\n",
      "\u001b[1;38;5;39mCOMET INFO:\u001b[0m     optimizer_trial        : 1\n",
      "\u001b[1;38;5;39mCOMET INFO:\u001b[0m     optimizer_version      : 2.1.4\n",
      "\u001b[1;38;5;39mCOMET INFO:\u001b[0m   Parameters:\n",
      "\u001b[1;38;5;39mCOMET INFO:\u001b[0m     batch_size   : 16\n",
      "\u001b[1;38;5;39mCOMET INFO:\u001b[0m     dropout      : 0.2\n",
      "\u001b[1;38;5;39mCOMET INFO:\u001b[0m     lr           : 0.001\n",
      "\u001b[1;38;5;39mCOMET INFO:\u001b[0m     model        : DAMS\n",
      "\u001b[1;38;5;39mCOMET INFO:\u001b[0m     momentum     : 0.9\n",
      "\u001b[1;38;5;39mCOMET INFO:\u001b[0m     pos_weight   : 0.576\n",
      "\u001b[1;38;5;39mCOMET INFO:\u001b[0m     seed         : 42\n",
      "\u001b[1;38;5;39mCOMET INFO:\u001b[0m     source       : Siemens\n",
      "\u001b[1;38;5;39mCOMET INFO:\u001b[0m     target_1     : Philips\n",
      "\u001b[1;38;5;39mCOMET INFO:\u001b[0m     target_2     : GE\n",
      "\u001b[1;38;5;39mCOMET INFO:\u001b[0m     weight_decay : 0.03\n",
      "\u001b[1;38;5;39mCOMET INFO:\u001b[0m   Uploads:\n",
      "\u001b[1;38;5;39mCOMET INFO:\u001b[0m     artifact assets              : 3 (21.76 KB)\n",
      "\u001b[1;38;5;39mCOMET INFO:\u001b[0m     artifacts                    : 3\n",
      "\u001b[1;38;5;39mCOMET INFO:\u001b[0m     conda-environment-definition : 1\n",
      "\u001b[1;38;5;39mCOMET INFO:\u001b[0m     conda-info                   : 1\n",
      "\u001b[1;38;5;39mCOMET INFO:\u001b[0m     conda-specification          : 1\n",
      "\u001b[1;38;5;39mCOMET INFO:\u001b[0m     environment details          : 1\n",
      "\u001b[1;38;5;39mCOMET INFO:\u001b[0m     filename                     : 1\n",
      "\u001b[1;38;5;39mCOMET INFO:\u001b[0m     git metadata                 : 1\n",
      "\u001b[1;38;5;39mCOMET INFO:\u001b[0m     git-patch (uncompressed)     : 1 (1.00 MB)\n",
      "\u001b[1;38;5;39mCOMET INFO:\u001b[0m     installed packages           : 1\n",
      "\u001b[1;38;5;39mCOMET INFO:\u001b[0m     model graph                  : 1\n",
      "\u001b[1;38;5;39mCOMET INFO:\u001b[0m     model-element                : 1 (183.72 MB)\n",
      "\u001b[1;38;5;39mCOMET INFO:\u001b[0m     notebook                     : 1\n",
      "\u001b[1;38;5;39mCOMET INFO:\u001b[0m     os packages                  : 1\n",
      "\u001b[1;38;5;39mCOMET INFO:\u001b[0m     source_code                  : 1\n",
      "\u001b[1;38;5;39mCOMET INFO:\u001b[0m \n",
      "\u001b[1;38;5;39mCOMET INFO:\u001b[0m Uploading 84 metrics, params and output messages\n",
      "\u001b[1;38;5;39mCOMET INFO:\u001b[0m Please wait for assets to finish uploading (timeout is 10800 seconds)\n",
      "\u001b[1;38;5;39mCOMET INFO:\u001b[0m Still uploading 3 file(s), remaining 88.72 MB/183.75 MB\n",
      "\u001b[1;38;5;214mCOMET WARNING:\u001b[0m As you are running in a Jupyter environment, you will need to call `experiment.end()` when finished to ensure all metrics and code are logged before exiting.\n",
      "\u001b[1;38;5;39mCOMET INFO:\u001b[0m Experiment is live on comet.com https://www.comet.com/derick-amontagna/adni1-s-siemens-dams-sgd-8/75f0f5692e1645e49295ce4d9ab9d5f7\n",
      "\n",
      "\u001b[1;38;5;39mCOMET INFO:\u001b[0m Artifact 'Engine' version 115.0.0 created (previous was: 114.0.0)\n"
     ]
    },
    {
     "name": "stdout",
     "output_type": "stream",
     "text": [
      "Treinando esse modelo: DAMS\n",
      "Treinando com o source: Siemens/target: Philips/GE\n"
     ]
    },
    {
     "name": "stderr",
     "output_type": "stream",
     "text": [
      "\u001b[1;38;5;39mCOMET INFO:\u001b[0m Scheduling the upload of 1 assets: 1 local assets for a size of 8.21 KB, and 0 remote assets (will be linked, not uploaded). This can take some time.\n",
      "\u001b[1;38;5;39mCOMET INFO:\u001b[0m Artifact 'derick-amontagna/Engine:115.0.0' has started uploading asynchronously\n",
      "\u001b[1;38;5;39mCOMET INFO:\u001b[0m Artifact 'Networks' version 115.0.0 created (previous was: 114.0.0)\n",
      "\u001b[1;38;5;39mCOMET INFO:\u001b[0m Scheduling the upload of 1 assets: 1 local assets for a size of 5.82 KB, and 0 remote assets (will be linked, not uploaded). This can take some time.\n",
      "\u001b[1;38;5;39mCOMET INFO:\u001b[0m Artifact 'derick-amontagna/Networks:115.0.0' has started uploading asynchronously\n",
      "\u001b[1;38;5;39mCOMET INFO:\u001b[0m Artifact 'DataSetup' version 117.0.0 created (previous was: 116.0.0)\n",
      "\u001b[1;38;5;39mCOMET INFO:\u001b[0m Scheduling the upload of 1 assets: 1 local assets for a size of 7.72 KB, and 0 remote assets (will be linked, not uploaded). This can take some time.\n",
      "\u001b[1;38;5;39mCOMET INFO:\u001b[0m Artifact 'derick-amontagna/DataSetup:117.0.0' has started uploading asynchronously\n",
      "\u001b[1;38;5;39mCOMET INFO:\u001b[0m Artifact 'derick-amontagna/DataSetup:117.0.0' has been fully uploaded successfully\n",
      "\u001b[1;38;5;39mCOMET INFO:\u001b[0m Artifact 'derick-amontagna/Engine:115.0.0' has been fully uploaded successfully\n",
      "\u001b[1;38;5;39mCOMET INFO:\u001b[0m Artifact 'derick-amontagna/Networks:115.0.0' has been fully uploaded successfully\n"
     ]
    },
    {
     "name": "stdout",
     "output_type": "stream",
     "text": [
      "Loading Dataloader\n",
      "Use DAMS Basic\n",
      "Create model\n",
      "Start Train\n"
     ]
    },
    {
     "data": {
      "application/vnd.jupyter.widget-view+json": {
       "model_id": "4b74a35c17f3474c924dfd3c5c6d4734",
       "version_major": 2,
       "version_minor": 0
      },
      "text/plain": [
       "  0%|          | 0/50 [00:00<?, ?it/s]"
      ]
     },
     "metadata": {},
     "output_type": "display_data"
    },
    {
     "name": "stderr",
     "output_type": "stream",
     "text": [
      "/root/anaconda3/envs/lapixdl/lib/python3.11/site-packages/torchmetrics/utilities/prints.py:36: UserWarning: Metric `AUROC` will save all targets and predictions in buffer. For large datasets this may lead to large memory footprint.\n",
      "  warnings.warn(*args, **kwargs)\n"
     ]
    },
    {
     "name": "stdout",
     "output_type": "stream",
     "text": [
      "terminating because of early stopping!\n",
      "Loaded model from epoch 13 with best validation auc: 0.93%\n",
      "DONE\n"
     ]
    },
    {
     "name": "stderr",
     "output_type": "stream",
     "text": [
      "\u001b[1;38;5;39mCOMET INFO:\u001b[0m ---------------------------------------------------------------------------------------\n",
      "\u001b[1;38;5;39mCOMET INFO:\u001b[0m Comet.ml Experiment Summary\n",
      "\u001b[1;38;5;39mCOMET INFO:\u001b[0m ---------------------------------------------------------------------------------------\n",
      "\u001b[1;38;5;39mCOMET INFO:\u001b[0m   Data:\n",
      "\u001b[1;38;5;39mCOMET INFO:\u001b[0m     display_summary_level : 1\n",
      "\u001b[1;38;5;39mCOMET INFO:\u001b[0m     name                  : shaky_tower_1178\n",
      "\u001b[1;38;5;39mCOMET INFO:\u001b[0m     url                   : https://www.comet.com/derick-amontagna/adni1-s-siemens-dams-sgd-8/75f0f5692e1645e49295ce4d9ab9d5f7\n",
      "\u001b[1;38;5;39mCOMET INFO:\u001b[0m   Metrics [count] (min, max):\n",
      "\u001b[1;38;5;39mCOMET INFO:\u001b[0m     epoch [33]         : (0, 32)\n",
      "\u001b[1;38;5;39mCOMET INFO:\u001b[0m     loss [2601]        : (0.023160744458436966, 0.8750836849212646)\n",
      "\u001b[1;38;5;39mCOMET INFO:\u001b[0m     test_acc           : 0.8170324427480916\n",
      "\u001b[1;38;5;39mCOMET INFO:\u001b[0m     test_acc_target    : 0.6725260416666666\n",
      "\u001b[1;38;5;39mCOMET INFO:\u001b[0m     test_acc_target_2  : 0.71875\n",
      "\u001b[1;38;5;39mCOMET INFO:\u001b[0m     test_auc           : 0.8792191743850708\n",
      "\u001b[1;38;5;39mCOMET INFO:\u001b[0m     test_auc_target    : 0.8476265668869019\n",
      "\u001b[1;38;5;39mCOMET INFO:\u001b[0m     test_auc_target_2  : 0.751800537109375\n",
      "\u001b[1;38;5;39mCOMET INFO:\u001b[0m     test_loss          : 0.3940896586948679\n",
      "\u001b[1;38;5;39mCOMET INFO:\u001b[0m     test_loss_target   : 0.6472813146538101\n",
      "\u001b[1;38;5;39mCOMET INFO:\u001b[0m     test_loss_target_2 : 0.572410186444073\n",
      "\u001b[1;38;5;39mCOMET INFO:\u001b[0m     train_acc [33]     : (0.6089784263959391, 0.9643876903553299)\n",
      "\u001b[1;38;5;39mCOMET INFO:\u001b[0m     train_auc [33]     : (0.6591131091117859, 0.993625283241272)\n",
      "\u001b[1;38;5;39mCOMET INFO:\u001b[0m     train_loss [33]    : (0.0889629926272493, 0.479870529117318)\n",
      "\u001b[1;38;5;39mCOMET INFO:\u001b[0m     val_acc [33]       : (0.384375, 0.8703125)\n",
      "\u001b[1;38;5;39mCOMET INFO:\u001b[0m     val_auc [33]       : (0.7678570747375488, 0.9345433712005615)\n",
      "\u001b[1;38;5;39mCOMET INFO:\u001b[0m     val_loss [33]      : (0.26065531155094507, 0.5460455628135241)\n",
      "\u001b[1;38;5;39mCOMET INFO:\u001b[0m   Others:\n",
      "\u001b[1;38;5;39mCOMET INFO:\u001b[0m     best_epoch             : 13\n",
      "\u001b[1;38;5;39mCOMET INFO:\u001b[0m     best_val_metric        : 0.9345433712005615\n",
      "\u001b[1;38;5;39mCOMET INFO:\u001b[0m     optimizer_count        : 39\n",
      "\u001b[1;38;5;39mCOMET INFO:\u001b[0m     optimizer_id           : a6175d5da17447a2a07d393e335bcde5\n",
      "\u001b[1;38;5;39mCOMET INFO:\u001b[0m     optimizer_metric       : val_auc\n",
      "\u001b[1;38;5;39mCOMET INFO:\u001b[0m     optimizer_metric_value : 0.9345433712005615\n",
      "\u001b[1;38;5;39mCOMET INFO:\u001b[0m     optimizer_name         : SOURCE_Siemens\n",
      "\u001b[1;38;5;39mCOMET INFO:\u001b[0m     optimizer_objective    : maximize\n",
      "\u001b[1;38;5;39mCOMET INFO:\u001b[0m     optimizer_parameters   : {\"batch_size\": 16, \"dropout\": 0.3, \"lr\": 0.001, \"model\": \"DAMS\", \"momentum\": 0.9, \"seed\": 42, \"source\": \"Siemens\", \"target_1\": \"Philips\", \"target_2\": \"GE\", \"weight_decay\": 0.02}\n",
      "\u001b[1;38;5;39mCOMET INFO:\u001b[0m     optimizer_pid          : 698016b3211e9facf8378148825d5b6dce3d7bfe\n",
      "\u001b[1;38;5;39mCOMET INFO:\u001b[0m     optimizer_process      : 544623\n",
      "\u001b[1;38;5;39mCOMET INFO:\u001b[0m     optimizer_trial        : 1\n",
      "\u001b[1;38;5;39mCOMET INFO:\u001b[0m     optimizer_version      : 2.1.4\n",
      "\u001b[1;38;5;39mCOMET INFO:\u001b[0m   Parameters:\n",
      "\u001b[1;38;5;39mCOMET INFO:\u001b[0m     batch_size   : 16\n",
      "\u001b[1;38;5;39mCOMET INFO:\u001b[0m     dropout      : 0.3\n",
      "\u001b[1;38;5;39mCOMET INFO:\u001b[0m     lr           : 0.001\n",
      "\u001b[1;38;5;39mCOMET INFO:\u001b[0m     model        : DAMS\n",
      "\u001b[1;38;5;39mCOMET INFO:\u001b[0m     momentum     : 0.9\n",
      "\u001b[1;38;5;39mCOMET INFO:\u001b[0m     pos_weight   : 0.576\n",
      "\u001b[1;38;5;39mCOMET INFO:\u001b[0m     seed         : 42\n",
      "\u001b[1;38;5;39mCOMET INFO:\u001b[0m     source       : Siemens\n",
      "\u001b[1;38;5;39mCOMET INFO:\u001b[0m     target_1     : Philips\n",
      "\u001b[1;38;5;39mCOMET INFO:\u001b[0m     target_2     : GE\n",
      "\u001b[1;38;5;39mCOMET INFO:\u001b[0m     weight_decay : 0.02\n",
      "\u001b[1;38;5;39mCOMET INFO:\u001b[0m   Uploads:\n",
      "\u001b[1;38;5;39mCOMET INFO:\u001b[0m     artifact assets              : 3 (21.76 KB)\n",
      "\u001b[1;38;5;39mCOMET INFO:\u001b[0m     artifacts                    : 3\n",
      "\u001b[1;38;5;39mCOMET INFO:\u001b[0m     conda-environment-definition : 1\n",
      "\u001b[1;38;5;39mCOMET INFO:\u001b[0m     conda-info                   : 1\n",
      "\u001b[1;38;5;39mCOMET INFO:\u001b[0m     conda-specification          : 1\n",
      "\u001b[1;38;5;39mCOMET INFO:\u001b[0m     environment details          : 1\n",
      "\u001b[1;38;5;39mCOMET INFO:\u001b[0m     filename                     : 1\n",
      "\u001b[1;38;5;39mCOMET INFO:\u001b[0m     git metadata                 : 1\n",
      "\u001b[1;38;5;39mCOMET INFO:\u001b[0m     git-patch (uncompressed)     : 1 (1.01 MB)\n",
      "\u001b[1;38;5;39mCOMET INFO:\u001b[0m     installed packages           : 1\n",
      "\u001b[1;38;5;39mCOMET INFO:\u001b[0m     model graph                  : 1\n",
      "\u001b[1;38;5;39mCOMET INFO:\u001b[0m     model-element                : 1 (183.72 MB)\n",
      "\u001b[1;38;5;39mCOMET INFO:\u001b[0m     notebook                     : 1\n",
      "\u001b[1;38;5;39mCOMET INFO:\u001b[0m     os packages                  : 1\n",
      "\u001b[1;38;5;39mCOMET INFO:\u001b[0m     source_code                  : 1\n",
      "\u001b[1;38;5;39mCOMET INFO:\u001b[0m \n",
      "\u001b[1;38;5;214mCOMET WARNING:\u001b[0m As you are running in a Jupyter environment, you will need to call `experiment.end()` when finished to ensure all metrics and code are logged before exiting.\n",
      "\u001b[1;38;5;39mCOMET INFO:\u001b[0m Experiment is live on comet.com https://www.comet.com/derick-amontagna/adni1-s-siemens-dams-sgd-8/b657d307ec314ac29df7681541c7b89d\n",
      "\n",
      "\u001b[1;38;5;39mCOMET INFO:\u001b[0m Artifact 'Engine' version 116.0.0 created (previous was: 115.0.0)\n"
     ]
    },
    {
     "name": "stdout",
     "output_type": "stream",
     "text": [
      "Treinando esse modelo: DAMS\n",
      "Treinando com o source: Siemens/target: Philips/GE\n"
     ]
    },
    {
     "name": "stderr",
     "output_type": "stream",
     "text": [
      "\u001b[1;38;5;39mCOMET INFO:\u001b[0m Scheduling the upload of 1 assets: 1 local assets for a size of 8.21 KB, and 0 remote assets (will be linked, not uploaded). This can take some time.\n",
      "\u001b[1;38;5;39mCOMET INFO:\u001b[0m Artifact 'derick-amontagna/Engine:116.0.0' has started uploading asynchronously\n",
      "\u001b[1;38;5;39mCOMET INFO:\u001b[0m Artifact 'Networks' version 116.0.0 created (previous was: 115.0.0)\n",
      "\u001b[1;38;5;39mCOMET INFO:\u001b[0m Scheduling the upload of 1 assets: 1 local assets for a size of 5.82 KB, and 0 remote assets (will be linked, not uploaded). This can take some time.\n",
      "\u001b[1;38;5;39mCOMET INFO:\u001b[0m Artifact 'derick-amontagna/Networks:116.0.0' has started uploading asynchronously\n",
      "\u001b[1;38;5;39mCOMET INFO:\u001b[0m Artifact 'DataSetup' version 118.0.0 created (previous was: 117.0.0)\n",
      "\u001b[1;38;5;39mCOMET INFO:\u001b[0m Scheduling the upload of 1 assets: 1 local assets for a size of 7.72 KB, and 0 remote assets (will be linked, not uploaded). This can take some time.\n",
      "\u001b[1;38;5;39mCOMET INFO:\u001b[0m Artifact 'derick-amontagna/DataSetup:118.0.0' has started uploading asynchronously\n"
     ]
    },
    {
     "name": "stdout",
     "output_type": "stream",
     "text": [
      "Loading Dataloader\n",
      "Use DAMS Basic\n",
      "Create model\n",
      "Start Train\n"
     ]
    },
    {
     "data": {
      "application/vnd.jupyter.widget-view+json": {
       "model_id": "a70caadf646644e3b150d79af0bda47e",
       "version_major": 2,
       "version_minor": 0
      },
      "text/plain": [
       "  0%|          | 0/50 [00:00<?, ?it/s]"
      ]
     },
     "metadata": {},
     "output_type": "display_data"
    },
    {
     "name": "stderr",
     "output_type": "stream",
     "text": [
      "/root/anaconda3/envs/lapixdl/lib/python3.11/site-packages/torchmetrics/utilities/prints.py:36: UserWarning: Metric `AUROC` will save all targets and predictions in buffer. For large datasets this may lead to large memory footprint.\n",
      "  warnings.warn(*args, **kwargs)\n",
      "\u001b[1;38;5;39mCOMET INFO:\u001b[0m Artifact 'derick-amontagna/Engine:116.0.0' has been fully uploaded successfully\n",
      "\u001b[1;38;5;39mCOMET INFO:\u001b[0m Artifact 'derick-amontagna/Networks:116.0.0' has been fully uploaded successfully\n",
      "\u001b[1;38;5;39mCOMET INFO:\u001b[0m Artifact 'derick-amontagna/DataSetup:118.0.0' has been fully uploaded successfully\n",
      "/root/anaconda3/envs/lapixdl/lib/python3.11/site-packages/torchmetrics/utilities/prints.py:36: UserWarning: Metric `AUROC` will save all targets and predictions in buffer. For large datasets this may lead to large memory footprint.\n",
      "  warnings.warn(*args, **kwargs)\n"
     ]
    },
    {
     "name": "stdout",
     "output_type": "stream",
     "text": [
      "terminating because of early stopping!\n",
      "Loaded model from epoch 18 with best validation auc: 0.96%\n",
      "DONE\n"
     ]
    },
    {
     "name": "stderr",
     "output_type": "stream",
     "text": [
      "\u001b[1;38;5;39mCOMET INFO:\u001b[0m ---------------------------------------------------------------------------------------\n",
      "\u001b[1;38;5;39mCOMET INFO:\u001b[0m Comet.ml Experiment Summary\n",
      "\u001b[1;38;5;39mCOMET INFO:\u001b[0m ---------------------------------------------------------------------------------------\n",
      "\u001b[1;38;5;39mCOMET INFO:\u001b[0m   Data:\n",
      "\u001b[1;38;5;39mCOMET INFO:\u001b[0m     display_summary_level : 1\n",
      "\u001b[1;38;5;39mCOMET INFO:\u001b[0m     name                  : popular_steak_880\n",
      "\u001b[1;38;5;39mCOMET INFO:\u001b[0m     url                   : https://www.comet.com/derick-amontagna/adni1-s-siemens-dams-sgd-8/b657d307ec314ac29df7681541c7b89d\n",
      "\u001b[1;38;5;39mCOMET INFO:\u001b[0m   Metrics [count] (min, max):\n",
      "\u001b[1;38;5;39mCOMET INFO:\u001b[0m     epoch [38]         : (0, 37)\n",
      "\u001b[1;38;5;39mCOMET INFO:\u001b[0m     loss [2995]        : (0.04975671321153641, 0.7332979440689087)\n",
      "\u001b[1;38;5;39mCOMET INFO:\u001b[0m     test_acc           : 0.7874522900763359\n",
      "\u001b[1;38;5;39mCOMET INFO:\u001b[0m     test_acc_target    : 0.716796875\n",
      "\u001b[1;38;5;39mCOMET INFO:\u001b[0m     test_acc_target_2  : 0.6908284023668639\n",
      "\u001b[1;38;5;39mCOMET INFO:\u001b[0m     test_auc           : 0.8814114332199097\n",
      "\u001b[1;38;5;39mCOMET INFO:\u001b[0m     test_auc_target    : 0.7230491042137146\n",
      "\u001b[1;38;5;39mCOMET INFO:\u001b[0m     test_auc_target_2  : 0.7684588432312012\n",
      "\u001b[1;38;5;39mCOMET INFO:\u001b[0m     test_loss          : 0.3189233038147897\n",
      "\u001b[1;38;5;39mCOMET INFO:\u001b[0m     test_loss_target   : 0.46674308087676764\n",
      "\u001b[1;38;5;39mCOMET INFO:\u001b[0m     test_loss_target_2 : 0.4438968024398448\n",
      "\u001b[1;38;5;39mCOMET INFO:\u001b[0m     train_acc [38]     : (0.6076300761421319, 0.9526491116751269)\n",
      "\u001b[1;38;5;39mCOMET INFO:\u001b[0m     train_auc [38]     : (0.6503875851631165, 0.9904423952102661)\n",
      "\u001b[1;38;5;39mCOMET INFO:\u001b[0m     train_loss [38]    : (0.11827883715292221, 0.4837956944395443)\n",
      "\u001b[1;38;5;39mCOMET INFO:\u001b[0m     val_acc [38]       : (0.38, 0.8834375)\n",
      "\u001b[1;38;5;39mCOMET INFO:\u001b[0m     val_auc [38]       : (0.7212639451026917, 0.959888756275177)\n",
      "\u001b[1;38;5;39mCOMET INFO:\u001b[0m     val_loss [38]      : (0.21875490479171275, 1.1170276720821857)\n",
      "\u001b[1;38;5;39mCOMET INFO:\u001b[0m   Others:\n",
      "\u001b[1;38;5;39mCOMET INFO:\u001b[0m     best_epoch             : 18\n",
      "\u001b[1;38;5;39mCOMET INFO:\u001b[0m     best_val_metric        : 0.959888756275177\n",
      "\u001b[1;38;5;39mCOMET INFO:\u001b[0m     optimizer_count        : 40\n",
      "\u001b[1;38;5;39mCOMET INFO:\u001b[0m     optimizer_id           : a6175d5da17447a2a07d393e335bcde5\n",
      "\u001b[1;38;5;39mCOMET INFO:\u001b[0m     optimizer_metric       : val_auc\n",
      "\u001b[1;38;5;39mCOMET INFO:\u001b[0m     optimizer_metric_value : 0.959888756275177\n",
      "\u001b[1;38;5;39mCOMET INFO:\u001b[0m     optimizer_name         : SOURCE_Siemens\n",
      "\u001b[1;38;5;39mCOMET INFO:\u001b[0m     optimizer_objective    : maximize\n",
      "\u001b[1;38;5;39mCOMET INFO:\u001b[0m     optimizer_parameters   : {\"batch_size\": 16, \"dropout\": 0.3, \"lr\": 0.001, \"model\": \"DAMS\", \"momentum\": 0.9, \"seed\": 42, \"source\": \"Siemens\", \"target_1\": \"Philips\", \"target_2\": \"GE\", \"weight_decay\": 0.03}\n",
      "\u001b[1;38;5;39mCOMET INFO:\u001b[0m     optimizer_pid          : b2b62bbde91f33a185067bb10ebdb460925d7765\n",
      "\u001b[1;38;5;39mCOMET INFO:\u001b[0m     optimizer_process      : 544623\n",
      "\u001b[1;38;5;39mCOMET INFO:\u001b[0m     optimizer_trial        : 1\n",
      "\u001b[1;38;5;39mCOMET INFO:\u001b[0m     optimizer_version      : 2.1.4\n",
      "\u001b[1;38;5;39mCOMET INFO:\u001b[0m   Parameters:\n",
      "\u001b[1;38;5;39mCOMET INFO:\u001b[0m     batch_size   : 16\n",
      "\u001b[1;38;5;39mCOMET INFO:\u001b[0m     dropout      : 0.3\n",
      "\u001b[1;38;5;39mCOMET INFO:\u001b[0m     lr           : 0.001\n",
      "\u001b[1;38;5;39mCOMET INFO:\u001b[0m     model        : DAMS\n",
      "\u001b[1;38;5;39mCOMET INFO:\u001b[0m     momentum     : 0.9\n",
      "\u001b[1;38;5;39mCOMET INFO:\u001b[0m     pos_weight   : 0.576\n",
      "\u001b[1;38;5;39mCOMET INFO:\u001b[0m     seed         : 42\n",
      "\u001b[1;38;5;39mCOMET INFO:\u001b[0m     source       : Siemens\n",
      "\u001b[1;38;5;39mCOMET INFO:\u001b[0m     target_1     : Philips\n",
      "\u001b[1;38;5;39mCOMET INFO:\u001b[0m     target_2     : GE\n",
      "\u001b[1;38;5;39mCOMET INFO:\u001b[0m     weight_decay : 0.03\n",
      "\u001b[1;38;5;39mCOMET INFO:\u001b[0m   Uploads:\n",
      "\u001b[1;38;5;39mCOMET INFO:\u001b[0m     artifact assets              : 3 (21.76 KB)\n",
      "\u001b[1;38;5;39mCOMET INFO:\u001b[0m     artifacts                    : 3\n",
      "\u001b[1;38;5;39mCOMET INFO:\u001b[0m     conda-environment-definition : 1\n",
      "\u001b[1;38;5;39mCOMET INFO:\u001b[0m     conda-info                   : 1\n",
      "\u001b[1;38;5;39mCOMET INFO:\u001b[0m     conda-specification          : 1\n",
      "\u001b[1;38;5;39mCOMET INFO:\u001b[0m     environment details          : 1\n",
      "\u001b[1;38;5;39mCOMET INFO:\u001b[0m     filename                     : 1\n",
      "\u001b[1;38;5;39mCOMET INFO:\u001b[0m     git metadata                 : 1\n",
      "\u001b[1;38;5;39mCOMET INFO:\u001b[0m     git-patch (uncompressed)     : 1 (1.02 MB)\n",
      "\u001b[1;38;5;39mCOMET INFO:\u001b[0m     installed packages           : 1\n",
      "\u001b[1;38;5;39mCOMET INFO:\u001b[0m     model graph                  : 1\n",
      "\u001b[1;38;5;39mCOMET INFO:\u001b[0m     model-element                : 1 (183.72 MB)\n",
      "\u001b[1;38;5;39mCOMET INFO:\u001b[0m     notebook                     : 1\n",
      "\u001b[1;38;5;39mCOMET INFO:\u001b[0m     os packages                  : 1\n",
      "\u001b[1;38;5;39mCOMET INFO:\u001b[0m     source_code                  : 1\n",
      "\u001b[1;38;5;39mCOMET INFO:\u001b[0m \n",
      "\u001b[1;38;5;39mCOMET INFO:\u001b[0m Uploading 76 metrics, params and output messages\n",
      "\u001b[1;38;5;39mCOMET INFO:\u001b[0m Please wait for assets to finish uploading (timeout is 10800 seconds)\n",
      "\u001b[1;38;5;39mCOMET INFO:\u001b[0m Still uploading 1 file(s), remaining 93.72 MB/183.72 MB\n",
      "\u001b[1;38;5;214mCOMET WARNING:\u001b[0m As you are running in a Jupyter environment, you will need to call `experiment.end()` when finished to ensure all metrics and code are logged before exiting.\n",
      "\u001b[1;38;5;39mCOMET INFO:\u001b[0m Experiment is live on comet.com https://www.comet.com/derick-amontagna/adni1-s-siemens-dams-sgd-8/600f36af4b4c4e41ad7e016be6d80194\n",
      "\n",
      "\u001b[1;38;5;39mCOMET INFO:\u001b[0m Artifact 'Engine' version 117.0.0 created (previous was: 116.0.0)\n"
     ]
    },
    {
     "name": "stdout",
     "output_type": "stream",
     "text": [
      "Treinando esse modelo: DAMS\n",
      "Treinando com o source: Siemens/target: Philips/GE\n"
     ]
    },
    {
     "name": "stderr",
     "output_type": "stream",
     "text": [
      "\u001b[1;38;5;39mCOMET INFO:\u001b[0m Scheduling the upload of 1 assets: 1 local assets for a size of 8.21 KB, and 0 remote assets (will be linked, not uploaded). This can take some time.\n",
      "\u001b[1;38;5;39mCOMET INFO:\u001b[0m Artifact 'derick-amontagna/Engine:117.0.0' has started uploading asynchronously\n",
      "\u001b[1;38;5;39mCOMET INFO:\u001b[0m Artifact 'Networks' version 117.0.0 created (previous was: 116.0.0)\n",
      "\u001b[1;38;5;39mCOMET INFO:\u001b[0m Scheduling the upload of 1 assets: 1 local assets for a size of 5.82 KB, and 0 remote assets (will be linked, not uploaded). This can take some time.\n",
      "\u001b[1;38;5;39mCOMET INFO:\u001b[0m Artifact 'derick-amontagna/Networks:117.0.0' has started uploading asynchronously\n",
      "\u001b[1;38;5;39mCOMET INFO:\u001b[0m Artifact 'DataSetup' version 119.0.0 created (previous was: 118.0.0)\n",
      "\u001b[1;38;5;39mCOMET INFO:\u001b[0m Scheduling the upload of 1 assets: 1 local assets for a size of 7.72 KB, and 0 remote assets (will be linked, not uploaded). This can take some time.\n",
      "\u001b[1;38;5;39mCOMET INFO:\u001b[0m Artifact 'derick-amontagna/DataSetup:119.0.0' has started uploading asynchronously\n"
     ]
    },
    {
     "name": "stdout",
     "output_type": "stream",
     "text": [
      "Loading Dataloader\n",
      "Use DAMS Basic\n",
      "Create model\n",
      "Start Train\n"
     ]
    },
    {
     "data": {
      "application/vnd.jupyter.widget-view+json": {
       "model_id": "05091a425b3f44e9ace79e16ccd6c42b",
       "version_major": 2,
       "version_minor": 0
      },
      "text/plain": [
       "  0%|          | 0/50 [00:00<?, ?it/s]"
      ]
     },
     "metadata": {},
     "output_type": "display_data"
    },
    {
     "name": "stderr",
     "output_type": "stream",
     "text": [
      "/root/anaconda3/envs/lapixdl/lib/python3.11/site-packages/torchmetrics/utilities/prints.py:36: UserWarning: Metric `AUROC` will save all targets and predictions in buffer. For large datasets this may lead to large memory footprint.\n",
      "  warnings.warn(*args, **kwargs)\n",
      "\u001b[1;38;5;39mCOMET INFO:\u001b[0m Artifact 'derick-amontagna/DataSetup:119.0.0' has been fully uploaded successfully\n",
      "\u001b[1;38;5;39mCOMET INFO:\u001b[0m Artifact 'derick-amontagna/Networks:117.0.0' has been fully uploaded successfully\n",
      "\u001b[1;38;5;39mCOMET INFO:\u001b[0m Artifact 'derick-amontagna/Engine:117.0.0' has been fully uploaded successfully\n",
      "/root/anaconda3/envs/lapixdl/lib/python3.11/site-packages/torchmetrics/utilities/prints.py:36: UserWarning: Metric `AUROC` will save all targets and predictions in buffer. For large datasets this may lead to large memory footprint.\n",
      "  warnings.warn(*args, **kwargs)\n"
     ]
    },
    {
     "name": "stdout",
     "output_type": "stream",
     "text": [
      "terminating because of early stopping!\n",
      "Loaded model from epoch 18 with best validation auc: 0.96%\n",
      "DONE\n"
     ]
    },
    {
     "name": "stderr",
     "output_type": "stream",
     "text": [
      "\u001b[1;38;5;39mCOMET INFO:\u001b[0m ---------------------------------------------------------------------------------------\n",
      "\u001b[1;38;5;39mCOMET INFO:\u001b[0m Comet.ml Experiment Summary\n",
      "\u001b[1;38;5;39mCOMET INFO:\u001b[0m ---------------------------------------------------------------------------------------\n",
      "\u001b[1;38;5;39mCOMET INFO:\u001b[0m   Data:\n",
      "\u001b[1;38;5;39mCOMET INFO:\u001b[0m     display_summary_level : 1\n",
      "\u001b[1;38;5;39mCOMET INFO:\u001b[0m     name                  : liquid_cucumber_9242\n",
      "\u001b[1;38;5;39mCOMET INFO:\u001b[0m     url                   : https://www.comet.com/derick-amontagna/adni1-s-siemens-dams-sgd-8/600f36af4b4c4e41ad7e016be6d80194\n",
      "\u001b[1;38;5;39mCOMET INFO:\u001b[0m   Metrics [count] (min, max):\n",
      "\u001b[1;38;5;39mCOMET INFO:\u001b[0m     epoch [38]         : (0, 37)\n",
      "\u001b[1;38;5;39mCOMET INFO:\u001b[0m     loss [2995]        : (0.02477550134062767, 0.8403156399726868)\n",
      "\u001b[1;38;5;39mCOMET INFO:\u001b[0m     test_acc           : 0.7342557251908397\n",
      "\u001b[1;38;5;39mCOMET INFO:\u001b[0m     test_acc_target    : 0.6360677083333334\n",
      "\u001b[1;38;5;39mCOMET INFO:\u001b[0m     test_acc_target_2  : 0.621301775147929\n",
      "\u001b[1;38;5;39mCOMET INFO:\u001b[0m     test_auc           : 0.893731951713562\n",
      "\u001b[1;38;5;39mCOMET INFO:\u001b[0m     test_auc_target    : 0.7191354036331177\n",
      "\u001b[1;38;5;39mCOMET INFO:\u001b[0m     test_auc_target_2  : 0.7929831743240356\n",
      "\u001b[1;38;5;39mCOMET INFO:\u001b[0m     test_loss          : 0.39327995453513304\n",
      "\u001b[1;38;5;39mCOMET INFO:\u001b[0m     test_loss_target   : 0.5419795385872325\n",
      "\u001b[1;38;5;39mCOMET INFO:\u001b[0m     test_loss_target_2 : 0.5478184763231927\n",
      "\u001b[1;38;5;39mCOMET INFO:\u001b[0m     train_acc [38]     : (0.6159581218274112, 0.9680361675126904)\n",
      "\u001b[1;38;5;39mCOMET INFO:\u001b[0m     train_auc [38]     : (0.6726461052894592, 0.9949393272399902)\n",
      "\u001b[1;38;5;39mCOMET INFO:\u001b[0m     train_loss [38]    : (0.08433487254246919, 0.4743214430391486)\n",
      "\u001b[1;38;5;39mCOMET INFO:\u001b[0m     val_acc [38]       : (0.386875, 0.8890625)\n",
      "\u001b[1;38;5;39mCOMET INFO:\u001b[0m     val_auc [38]       : (0.6203430891036987, 0.9585208892822266)\n",
      "\u001b[1;38;5;39mCOMET INFO:\u001b[0m     val_loss [38]      : (0.20867259606719016, 1.1260724605061114)\n",
      "\u001b[1;38;5;39mCOMET INFO:\u001b[0m   Others:\n",
      "\u001b[1;38;5;39mCOMET INFO:\u001b[0m     best_epoch             : 18\n",
      "\u001b[1;38;5;39mCOMET INFO:\u001b[0m     best_val_metric        : 0.9585208892822266\n",
      "\u001b[1;38;5;39mCOMET INFO:\u001b[0m     optimizer_count        : 41\n",
      "\u001b[1;38;5;39mCOMET INFO:\u001b[0m     optimizer_id           : a6175d5da17447a2a07d393e335bcde5\n",
      "\u001b[1;38;5;39mCOMET INFO:\u001b[0m     optimizer_metric       : val_auc\n",
      "\u001b[1;38;5;39mCOMET INFO:\u001b[0m     optimizer_metric_value : 0.9585208892822266\n",
      "\u001b[1;38;5;39mCOMET INFO:\u001b[0m     optimizer_name         : SOURCE_Siemens\n",
      "\u001b[1;38;5;39mCOMET INFO:\u001b[0m     optimizer_objective    : maximize\n",
      "\u001b[1;38;5;39mCOMET INFO:\u001b[0m     optimizer_parameters   : {\"batch_size\": 16, \"dropout\": 0.4, \"lr\": 0.001, \"model\": \"DAMS\", \"momentum\": 0.9, \"seed\": 42, \"source\": \"Siemens\", \"target_1\": \"Philips\", \"target_2\": \"GE\", \"weight_decay\": 0.02}\n",
      "\u001b[1;38;5;39mCOMET INFO:\u001b[0m     optimizer_pid          : a65c40c8e1da285262d973bd9e0a3d06e416a201\n",
      "\u001b[1;38;5;39mCOMET INFO:\u001b[0m     optimizer_process      : 544623\n",
      "\u001b[1;38;5;39mCOMET INFO:\u001b[0m     optimizer_trial        : 1\n",
      "\u001b[1;38;5;39mCOMET INFO:\u001b[0m     optimizer_version      : 2.1.4\n",
      "\u001b[1;38;5;39mCOMET INFO:\u001b[0m   Parameters:\n",
      "\u001b[1;38;5;39mCOMET INFO:\u001b[0m     batch_size   : 16\n",
      "\u001b[1;38;5;39mCOMET INFO:\u001b[0m     dropout      : 0.4\n",
      "\u001b[1;38;5;39mCOMET INFO:\u001b[0m     lr           : 0.001\n",
      "\u001b[1;38;5;39mCOMET INFO:\u001b[0m     model        : DAMS\n",
      "\u001b[1;38;5;39mCOMET INFO:\u001b[0m     momentum     : 0.9\n",
      "\u001b[1;38;5;39mCOMET INFO:\u001b[0m     pos_weight   : 0.576\n",
      "\u001b[1;38;5;39mCOMET INFO:\u001b[0m     seed         : 42\n",
      "\u001b[1;38;5;39mCOMET INFO:\u001b[0m     source       : Siemens\n",
      "\u001b[1;38;5;39mCOMET INFO:\u001b[0m     target_1     : Philips\n",
      "\u001b[1;38;5;39mCOMET INFO:\u001b[0m     target_2     : GE\n",
      "\u001b[1;38;5;39mCOMET INFO:\u001b[0m     weight_decay : 0.02\n",
      "\u001b[1;38;5;39mCOMET INFO:\u001b[0m   Uploads:\n",
      "\u001b[1;38;5;39mCOMET INFO:\u001b[0m     artifact assets              : 3 (21.76 KB)\n",
      "\u001b[1;38;5;39mCOMET INFO:\u001b[0m     artifacts                    : 3\n",
      "\u001b[1;38;5;39mCOMET INFO:\u001b[0m     conda-environment-definition : 1\n",
      "\u001b[1;38;5;39mCOMET INFO:\u001b[0m     conda-info                   : 1\n",
      "\u001b[1;38;5;39mCOMET INFO:\u001b[0m     conda-specification          : 1\n",
      "\u001b[1;38;5;39mCOMET INFO:\u001b[0m     environment details          : 1\n",
      "\u001b[1;38;5;39mCOMET INFO:\u001b[0m     filename                     : 1\n",
      "\u001b[1;38;5;39mCOMET INFO:\u001b[0m     git metadata                 : 1\n",
      "\u001b[1;38;5;39mCOMET INFO:\u001b[0m     git-patch (uncompressed)     : 1 (1.03 MB)\n",
      "\u001b[1;38;5;39mCOMET INFO:\u001b[0m     installed packages           : 1\n",
      "\u001b[1;38;5;39mCOMET INFO:\u001b[0m     model graph                  : 1\n",
      "\u001b[1;38;5;39mCOMET INFO:\u001b[0m     model-element                : 1 (183.72 MB)\n",
      "\u001b[1;38;5;39mCOMET INFO:\u001b[0m     notebook                     : 1\n",
      "\u001b[1;38;5;39mCOMET INFO:\u001b[0m     os packages                  : 1\n",
      "\u001b[1;38;5;39mCOMET INFO:\u001b[0m     source_code                  : 1\n",
      "\u001b[1;38;5;39mCOMET INFO:\u001b[0m \n",
      "\u001b[1;38;5;39mCOMET INFO:\u001b[0m Uploading 70 metrics, params and output messages\n",
      "\u001b[1;38;5;39mCOMET INFO:\u001b[0m Please wait for assets to finish uploading (timeout is 10800 seconds)\n",
      "\u001b[1;38;5;39mCOMET INFO:\u001b[0m Still uploading 1 file(s), remaining 108.72 MB/183.72 MB\n",
      "\u001b[1;38;5;214mCOMET WARNING:\u001b[0m As you are running in a Jupyter environment, you will need to call `experiment.end()` when finished to ensure all metrics and code are logged before exiting.\n",
      "\u001b[1;38;5;39mCOMET INFO:\u001b[0m Experiment is live on comet.com https://www.comet.com/derick-amontagna/adni1-s-siemens-dams-sgd-8/d1d1f2ffbbc44d2b87c6b1bc3dfac677\n",
      "\n"
     ]
    },
    {
     "name": "stdout",
     "output_type": "stream",
     "text": [
      "Treinando esse modelo: DAMS\n",
      "Treinando com o source: Siemens/target: Philips/GE\n"
     ]
    },
    {
     "name": "stderr",
     "output_type": "stream",
     "text": [
      "\u001b[1;38;5;39mCOMET INFO:\u001b[0m Artifact 'Engine' version 118.0.0 created (previous was: 117.0.0)\n",
      "\u001b[1;38;5;39mCOMET INFO:\u001b[0m Scheduling the upload of 1 assets: 1 local assets for a size of 8.21 KB, and 0 remote assets (will be linked, not uploaded). This can take some time.\n",
      "\u001b[1;38;5;39mCOMET INFO:\u001b[0m Artifact 'derick-amontagna/Engine:118.0.0' has started uploading asynchronously\n",
      "\u001b[1;38;5;39mCOMET INFO:\u001b[0m Artifact 'Networks' version 118.0.0 created (previous was: 117.0.0)\n",
      "\u001b[1;38;5;39mCOMET INFO:\u001b[0m Scheduling the upload of 1 assets: 1 local assets for a size of 5.82 KB, and 0 remote assets (will be linked, not uploaded). This can take some time.\n",
      "\u001b[1;38;5;39mCOMET INFO:\u001b[0m Artifact 'derick-amontagna/Networks:118.0.0' has started uploading asynchronously\n",
      "\u001b[1;38;5;39mCOMET INFO:\u001b[0m Artifact 'DataSetup' version 120.0.0 created (previous was: 119.0.0)\n",
      "\u001b[1;38;5;39mCOMET INFO:\u001b[0m Scheduling the upload of 1 assets: 1 local assets for a size of 7.72 KB, and 0 remote assets (will be linked, not uploaded). This can take some time.\n",
      "\u001b[1;38;5;39mCOMET INFO:\u001b[0m Artifact 'derick-amontagna/DataSetup:120.0.0' has started uploading asynchronously\n",
      "\u001b[1;38;5;39mCOMET INFO:\u001b[0m Artifact 'derick-amontagna/Engine:118.0.0' has been fully uploaded successfully\n",
      "\u001b[1;38;5;39mCOMET INFO:\u001b[0m Artifact 'derick-amontagna/DataSetup:120.0.0' has been fully uploaded successfully\n",
      "\u001b[1;38;5;39mCOMET INFO:\u001b[0m Artifact 'derick-amontagna/Networks:118.0.0' has been fully uploaded successfully\n"
     ]
    },
    {
     "name": "stdout",
     "output_type": "stream",
     "text": [
      "Loading Dataloader\n",
      "Use DAMS Basic\n",
      "Create model\n",
      "Start Train\n"
     ]
    },
    {
     "data": {
      "application/vnd.jupyter.widget-view+json": {
       "model_id": "38f703bc57e64f62bde31dd88d5e7f42",
       "version_major": 2,
       "version_minor": 0
      },
      "text/plain": [
       "  0%|          | 0/50 [00:00<?, ?it/s]"
      ]
     },
     "metadata": {},
     "output_type": "display_data"
    },
    {
     "name": "stderr",
     "output_type": "stream",
     "text": [
      "/root/anaconda3/envs/lapixdl/lib/python3.11/site-packages/torchmetrics/utilities/prints.py:36: UserWarning: Metric `AUROC` will save all targets and predictions in buffer. For large datasets this may lead to large memory footprint.\n",
      "  warnings.warn(*args, **kwargs)\n"
     ]
    },
    {
     "name": "stdout",
     "output_type": "stream",
     "text": [
      "terminating because of early stopping!\n",
      "Loaded model from epoch 18 with best validation auc: 0.97%\n",
      "DONE\n"
     ]
    },
    {
     "name": "stderr",
     "output_type": "stream",
     "text": [
      "\u001b[1;38;5;39mCOMET INFO:\u001b[0m ---------------------------------------------------------------------------------------\n",
      "\u001b[1;38;5;39mCOMET INFO:\u001b[0m Comet.ml Experiment Summary\n",
      "\u001b[1;38;5;39mCOMET INFO:\u001b[0m ---------------------------------------------------------------------------------------\n",
      "\u001b[1;38;5;39mCOMET INFO:\u001b[0m   Data:\n",
      "\u001b[1;38;5;39mCOMET INFO:\u001b[0m     display_summary_level : 1\n",
      "\u001b[1;38;5;39mCOMET INFO:\u001b[0m     name                  : fashionable_stain_8084\n",
      "\u001b[1;38;5;39mCOMET INFO:\u001b[0m     url                   : https://www.comet.com/derick-amontagna/adni1-s-siemens-dams-sgd-8/d1d1f2ffbbc44d2b87c6b1bc3dfac677\n",
      "\u001b[1;38;5;39mCOMET INFO:\u001b[0m   Metrics [count] (min, max):\n",
      "\u001b[1;38;5;39mCOMET INFO:\u001b[0m     epoch [38]         : (0, 37)\n",
      "\u001b[1;38;5;39mCOMET INFO:\u001b[0m     loss [2995]        : (0.04747115820646286, 0.7926580309867859)\n",
      "\u001b[1;38;5;39mCOMET INFO:\u001b[0m     test_acc           : 0.7609732824427481\n",
      "\u001b[1;38;5;39mCOMET INFO:\u001b[0m     test_acc_target    : 0.5299479166666666\n",
      "\u001b[1;38;5;39mCOMET INFO:\u001b[0m     test_acc_target_2  : 0.7181952662721893\n",
      "\u001b[1;38;5;39mCOMET INFO:\u001b[0m     test_auc           : 0.830064058303833\n",
      "\u001b[1;38;5;39mCOMET INFO:\u001b[0m     test_auc_target    : 0.5322858095169067\n",
      "\u001b[1;38;5;39mCOMET INFO:\u001b[0m     test_auc_target_2  : 0.8031883239746094\n",
      "\u001b[1;38;5;39mCOMET INFO:\u001b[0m     test_loss          : 0.37219468282379264\n",
      "\u001b[1;38;5;39mCOMET INFO:\u001b[0m     test_loss_target   : 0.6833143103867769\n",
      "\u001b[1;38;5;39mCOMET INFO:\u001b[0m     test_loss_target_2 : 0.4263687408666992\n",
      "\u001b[1;38;5;39mCOMET INFO:\u001b[0m     train_acc [38]     : (0.6154029187817259, 0.9552664974619289)\n",
      "\u001b[1;38;5;39mCOMET INFO:\u001b[0m     train_auc [38]     : (0.6650568246841431, 0.9897778034210205)\n",
      "\u001b[1;38;5;39mCOMET INFO:\u001b[0m     train_loss [38]    : (0.11776542570914714, 0.47740973872581716)\n",
      "\u001b[1;38;5;39mCOMET INFO:\u001b[0m     val_acc [38]       : (0.38, 0.9134375)\n",
      "\u001b[1;38;5;39mCOMET INFO:\u001b[0m     val_auc [38]       : (0.6230342388153076, 0.9701360464096069)\n",
      "\u001b[1;38;5;39mCOMET INFO:\u001b[0m     val_loss [38]      : (0.19852019518613814, 1.501959584901342)\n",
      "\u001b[1;38;5;39mCOMET INFO:\u001b[0m   Others:\n",
      "\u001b[1;38;5;39mCOMET INFO:\u001b[0m     best_epoch             : 18\n",
      "\u001b[1;38;5;39mCOMET INFO:\u001b[0m     best_val_metric        : 0.9701360464096069\n",
      "\u001b[1;38;5;39mCOMET INFO:\u001b[0m     optimizer_count        : 42\n",
      "\u001b[1;38;5;39mCOMET INFO:\u001b[0m     optimizer_id           : a6175d5da17447a2a07d393e335bcde5\n",
      "\u001b[1;38;5;39mCOMET INFO:\u001b[0m     optimizer_metric       : val_auc\n",
      "\u001b[1;38;5;39mCOMET INFO:\u001b[0m     optimizer_metric_value : 0.9701360464096069\n",
      "\u001b[1;38;5;39mCOMET INFO:\u001b[0m     optimizer_name         : SOURCE_Siemens\n",
      "\u001b[1;38;5;39mCOMET INFO:\u001b[0m     optimizer_objective    : maximize\n",
      "\u001b[1;38;5;39mCOMET INFO:\u001b[0m     optimizer_parameters   : {\"batch_size\": 16, \"dropout\": 0.4, \"lr\": 0.001, \"model\": \"DAMS\", \"momentum\": 0.9, \"seed\": 42, \"source\": \"Siemens\", \"target_1\": \"Philips\", \"target_2\": \"GE\", \"weight_decay\": 0.03}\n",
      "\u001b[1;38;5;39mCOMET INFO:\u001b[0m     optimizer_pid          : 590ff92284ff9af11eebc927e3a12dd593b220ce\n",
      "\u001b[1;38;5;39mCOMET INFO:\u001b[0m     optimizer_process      : 544623\n",
      "\u001b[1;38;5;39mCOMET INFO:\u001b[0m     optimizer_trial        : 1\n",
      "\u001b[1;38;5;39mCOMET INFO:\u001b[0m     optimizer_version      : 2.1.4\n",
      "\u001b[1;38;5;39mCOMET INFO:\u001b[0m   Parameters:\n",
      "\u001b[1;38;5;39mCOMET INFO:\u001b[0m     batch_size   : 16\n",
      "\u001b[1;38;5;39mCOMET INFO:\u001b[0m     dropout      : 0.4\n",
      "\u001b[1;38;5;39mCOMET INFO:\u001b[0m     lr           : 0.001\n",
      "\u001b[1;38;5;39mCOMET INFO:\u001b[0m     model        : DAMS\n",
      "\u001b[1;38;5;39mCOMET INFO:\u001b[0m     momentum     : 0.9\n",
      "\u001b[1;38;5;39mCOMET INFO:\u001b[0m     pos_weight   : 0.576\n",
      "\u001b[1;38;5;39mCOMET INFO:\u001b[0m     seed         : 42\n",
      "\u001b[1;38;5;39mCOMET INFO:\u001b[0m     source       : Siemens\n",
      "\u001b[1;38;5;39mCOMET INFO:\u001b[0m     target_1     : Philips\n",
      "\u001b[1;38;5;39mCOMET INFO:\u001b[0m     target_2     : GE\n",
      "\u001b[1;38;5;39mCOMET INFO:\u001b[0m     weight_decay : 0.03\n",
      "\u001b[1;38;5;39mCOMET INFO:\u001b[0m   Uploads:\n",
      "\u001b[1;38;5;39mCOMET INFO:\u001b[0m     artifact assets              : 3 (21.76 KB)\n",
      "\u001b[1;38;5;39mCOMET INFO:\u001b[0m     artifacts                    : 3\n",
      "\u001b[1;38;5;39mCOMET INFO:\u001b[0m     conda-environment-definition : 1\n",
      "\u001b[1;38;5;39mCOMET INFO:\u001b[0m     conda-info                   : 1\n",
      "\u001b[1;38;5;39mCOMET INFO:\u001b[0m     conda-specification          : 1\n",
      "\u001b[1;38;5;39mCOMET INFO:\u001b[0m     environment details          : 1\n",
      "\u001b[1;38;5;39mCOMET INFO:\u001b[0m     filename                     : 1\n",
      "\u001b[1;38;5;39mCOMET INFO:\u001b[0m     git metadata                 : 1\n",
      "\u001b[1;38;5;39mCOMET INFO:\u001b[0m     git-patch (uncompressed)     : 1 (1.04 MB)\n",
      "\u001b[1;38;5;39mCOMET INFO:\u001b[0m     installed packages           : 1\n",
      "\u001b[1;38;5;39mCOMET INFO:\u001b[0m     model graph                  : 1\n",
      "\u001b[1;38;5;39mCOMET INFO:\u001b[0m     model-element                : 1 (183.72 MB)\n",
      "\u001b[1;38;5;39mCOMET INFO:\u001b[0m     notebook                     : 1\n",
      "\u001b[1;38;5;39mCOMET INFO:\u001b[0m     os packages                  : 1\n",
      "\u001b[1;38;5;39mCOMET INFO:\u001b[0m     source_code                  : 1\n",
      "\u001b[1;38;5;39mCOMET INFO:\u001b[0m \n",
      "\u001b[1;38;5;39mCOMET INFO:\u001b[0m Uploading 74 metrics, params and output messages\n",
      "\u001b[1;38;5;39mCOMET INFO:\u001b[0m Please wait for assets to finish uploading (timeout is 10800 seconds)\n",
      "\u001b[1;38;5;39mCOMET INFO:\u001b[0m Still uploading 3 file(s), remaining 103.72 MB/183.75 MB\n",
      "\u001b[1;38;5;214mCOMET WARNING:\u001b[0m As you are running in a Jupyter environment, you will need to call `experiment.end()` when finished to ensure all metrics and code are logged before exiting.\n",
      "\u001b[1;38;5;39mCOMET INFO:\u001b[0m Experiment is live on comet.com https://www.comet.com/derick-amontagna/adni1-s-siemens-dams-sgd-8/a09e97d3be0c40cdad76af82e46f22e0\n",
      "\n",
      "\u001b[1;38;5;39mCOMET INFO:\u001b[0m Artifact 'Engine' version 119.0.0 created (previous was: 118.0.0)\n"
     ]
    },
    {
     "name": "stdout",
     "output_type": "stream",
     "text": [
      "Treinando esse modelo: DAMS\n",
      "Treinando com o source: Siemens/target: Philips/GE\n"
     ]
    },
    {
     "name": "stderr",
     "output_type": "stream",
     "text": [
      "\u001b[1;38;5;39mCOMET INFO:\u001b[0m Scheduling the upload of 1 assets: 1 local assets for a size of 8.21 KB, and 0 remote assets (will be linked, not uploaded). This can take some time.\n",
      "\u001b[1;38;5;39mCOMET INFO:\u001b[0m Artifact 'derick-amontagna/Engine:119.0.0' has started uploading asynchronously\n",
      "\u001b[1;38;5;39mCOMET INFO:\u001b[0m Artifact 'Networks' version 119.0.0 created (previous was: 118.0.0)\n",
      "\u001b[1;38;5;39mCOMET INFO:\u001b[0m Scheduling the upload of 1 assets: 1 local assets for a size of 5.82 KB, and 0 remote assets (will be linked, not uploaded). This can take some time.\n",
      "\u001b[1;38;5;39mCOMET INFO:\u001b[0m Artifact 'derick-amontagna/Networks:119.0.0' has started uploading asynchronously\n",
      "\u001b[1;38;5;39mCOMET INFO:\u001b[0m Artifact 'DataSetup' version 121.0.0 created (previous was: 120.0.0)\n",
      "\u001b[1;38;5;39mCOMET INFO:\u001b[0m Scheduling the upload of 1 assets: 1 local assets for a size of 7.72 KB, and 0 remote assets (will be linked, not uploaded). This can take some time.\n",
      "\u001b[1;38;5;39mCOMET INFO:\u001b[0m Artifact 'derick-amontagna/DataSetup:121.0.0' has started uploading asynchronously\n"
     ]
    },
    {
     "name": "stdout",
     "output_type": "stream",
     "text": [
      "Loading Dataloader\n",
      "Use DAMS Basic\n",
      "Create model\n",
      "Start Train\n"
     ]
    },
    {
     "data": {
      "application/vnd.jupyter.widget-view+json": {
       "model_id": "6a111d29b6a349cebba6f6db5ad5fb15",
       "version_major": 2,
       "version_minor": 0
      },
      "text/plain": [
       "  0%|          | 0/50 [00:00<?, ?it/s]"
      ]
     },
     "metadata": {},
     "output_type": "display_data"
    },
    {
     "name": "stderr",
     "output_type": "stream",
     "text": [
      "/root/anaconda3/envs/lapixdl/lib/python3.11/site-packages/torchmetrics/utilities/prints.py:36: UserWarning: Metric `AUROC` will save all targets and predictions in buffer. For large datasets this may lead to large memory footprint.\n",
      "  warnings.warn(*args, **kwargs)\n",
      "\u001b[1;38;5;39mCOMET INFO:\u001b[0m Artifact 'derick-amontagna/Networks:119.0.0' has been fully uploaded successfully\n",
      "\u001b[1;38;5;39mCOMET INFO:\u001b[0m Artifact 'derick-amontagna/Engine:119.0.0' has been fully uploaded successfully\n",
      "\u001b[1;38;5;39mCOMET INFO:\u001b[0m Artifact 'derick-amontagna/DataSetup:121.0.0' has been fully uploaded successfully\n",
      "/root/anaconda3/envs/lapixdl/lib/python3.11/site-packages/torchmetrics/utilities/prints.py:36: UserWarning: Metric `AUROC` will save all targets and predictions in buffer. For large datasets this may lead to large memory footprint.\n",
      "  warnings.warn(*args, **kwargs)\n"
     ]
    },
    {
     "name": "stdout",
     "output_type": "stream",
     "text": [
      "terminating because of early stopping!\n",
      "Loaded model from epoch 5 with best validation auc: 0.91%\n",
      "DONE\n"
     ]
    },
    {
     "name": "stderr",
     "output_type": "stream",
     "text": [
      "\u001b[1;38;5;39mCOMET INFO:\u001b[0m ---------------------------------------------------------------------------------------\n",
      "\u001b[1;38;5;39mCOMET INFO:\u001b[0m Comet.ml Experiment Summary\n",
      "\u001b[1;38;5;39mCOMET INFO:\u001b[0m ---------------------------------------------------------------------------------------\n",
      "\u001b[1;38;5;39mCOMET INFO:\u001b[0m   Data:\n",
      "\u001b[1;38;5;39mCOMET INFO:\u001b[0m     display_summary_level : 1\n",
      "\u001b[1;38;5;39mCOMET INFO:\u001b[0m     name                  : secure_concrete_1486\n",
      "\u001b[1;38;5;39mCOMET INFO:\u001b[0m     url                   : https://www.comet.com/derick-amontagna/adni1-s-siemens-dams-sgd-8/a09e97d3be0c40cdad76af82e46f22e0\n",
      "\u001b[1;38;5;39mCOMET INFO:\u001b[0m   Metrics [count] (min, max):\n",
      "\u001b[1;38;5;39mCOMET INFO:\u001b[0m     epoch [25]         : (0, 24)\n",
      "\u001b[1;38;5;39mCOMET INFO:\u001b[0m     loss [985]         : (0.0179208442568779, 0.5816894769668579)\n",
      "\u001b[1;38;5;39mCOMET INFO:\u001b[0m     test_acc           : 0.7361641221374046\n",
      "\u001b[1;38;5;39mCOMET INFO:\u001b[0m     test_acc_target    : 0.66015625\n",
      "\u001b[1;38;5;39mCOMET INFO:\u001b[0m     test_acc_target_2  : 0.6773298816568047\n",
      "\u001b[1;38;5;39mCOMET INFO:\u001b[0m     test_auc           : 0.8527811765670776\n",
      "\u001b[1;38;5;39mCOMET INFO:\u001b[0m     test_auc_target    : 0.7803049087524414\n",
      "\u001b[1;38;5;39mCOMET INFO:\u001b[0m     test_auc_target_2  : 0.7283163070678711\n",
      "\u001b[1;38;5;39mCOMET INFO:\u001b[0m     test_loss          : 0.8279209605147991\n",
      "\u001b[1;38;5;39mCOMET INFO:\u001b[0m     test_loss_target   : 0.9721465916954912\n",
      "\u001b[1;38;5;39mCOMET INFO:\u001b[0m     test_loss_target_2 : 0.9507108773683479\n",
      "\u001b[1;38;5;39mCOMET INFO:\u001b[0m     train_acc [25]     : (0.5800285532994924, 0.9879441624365483)\n",
      "\u001b[1;38;5;39mCOMET INFO:\u001b[0m     train_auc [25]     : (0.603286623954773, 0.9988670349121094)\n",
      "\u001b[1;38;5;39mCOMET INFO:\u001b[0m     train_loss [25]    : (0.04693832802042592, 0.49820053282425486)\n",
      "\u001b[1;38;5;39mCOMET INFO:\u001b[0m     val_acc [25]       : (0.3953125, 0.8734375)\n",
      "\u001b[1;38;5;39mCOMET INFO:\u001b[0m     val_auc [25]       : (0.4618193507194519, 0.9125692844390869)\n",
      "\u001b[1;38;5;39mCOMET INFO:\u001b[0m     val_loss [25]      : (0.3283173234760761, 0.7376597276283428)\n",
      "\u001b[1;38;5;39mCOMET INFO:\u001b[0m   Others:\n",
      "\u001b[1;38;5;39mCOMET INFO:\u001b[0m     best_epoch             : 5\n",
      "\u001b[1;38;5;39mCOMET INFO:\u001b[0m     best_val_metric        : 0.9125692844390869\n",
      "\u001b[1;38;5;39mCOMET INFO:\u001b[0m     optimizer_count        : 43\n",
      "\u001b[1;38;5;39mCOMET INFO:\u001b[0m     optimizer_id           : a6175d5da17447a2a07d393e335bcde5\n",
      "\u001b[1;38;5;39mCOMET INFO:\u001b[0m     optimizer_metric       : val_auc\n",
      "\u001b[1;38;5;39mCOMET INFO:\u001b[0m     optimizer_metric_value : 0.9125692844390869\n",
      "\u001b[1;38;5;39mCOMET INFO:\u001b[0m     optimizer_name         : SOURCE_Siemens\n",
      "\u001b[1;38;5;39mCOMET INFO:\u001b[0m     optimizer_objective    : maximize\n",
      "\u001b[1;38;5;39mCOMET INFO:\u001b[0m     optimizer_parameters   : {\"batch_size\": 32, \"dropout\": 0.2, \"lr\": 0.001, \"model\": \"DAMS\", \"momentum\": 0.9, \"seed\": 42, \"source\": \"Siemens\", \"target_1\": \"Philips\", \"target_2\": \"GE\", \"weight_decay\": 0.02}\n",
      "\u001b[1;38;5;39mCOMET INFO:\u001b[0m     optimizer_pid          : 40b0e4dd791572c4badf87fb11de9b1b76741fe8\n",
      "\u001b[1;38;5;39mCOMET INFO:\u001b[0m     optimizer_process      : 544623\n",
      "\u001b[1;38;5;39mCOMET INFO:\u001b[0m     optimizer_trial        : 1\n",
      "\u001b[1;38;5;39mCOMET INFO:\u001b[0m     optimizer_version      : 2.1.4\n",
      "\u001b[1;38;5;39mCOMET INFO:\u001b[0m   Parameters:\n",
      "\u001b[1;38;5;39mCOMET INFO:\u001b[0m     batch_size   : 32\n",
      "\u001b[1;38;5;39mCOMET INFO:\u001b[0m     dropout      : 0.2\n",
      "\u001b[1;38;5;39mCOMET INFO:\u001b[0m     lr           : 0.001\n",
      "\u001b[1;38;5;39mCOMET INFO:\u001b[0m     model        : DAMS\n",
      "\u001b[1;38;5;39mCOMET INFO:\u001b[0m     momentum     : 0.9\n",
      "\u001b[1;38;5;39mCOMET INFO:\u001b[0m     pos_weight   : 0.576\n",
      "\u001b[1;38;5;39mCOMET INFO:\u001b[0m     seed         : 42\n",
      "\u001b[1;38;5;39mCOMET INFO:\u001b[0m     source       : Siemens\n",
      "\u001b[1;38;5;39mCOMET INFO:\u001b[0m     target_1     : Philips\n",
      "\u001b[1;38;5;39mCOMET INFO:\u001b[0m     target_2     : GE\n",
      "\u001b[1;38;5;39mCOMET INFO:\u001b[0m     weight_decay : 0.02\n",
      "\u001b[1;38;5;39mCOMET INFO:\u001b[0m   Uploads:\n",
      "\u001b[1;38;5;39mCOMET INFO:\u001b[0m     artifact assets              : 3 (21.76 KB)\n",
      "\u001b[1;38;5;39mCOMET INFO:\u001b[0m     artifacts                    : 3\n",
      "\u001b[1;38;5;39mCOMET INFO:\u001b[0m     conda-environment-definition : 1\n",
      "\u001b[1;38;5;39mCOMET INFO:\u001b[0m     conda-info                   : 1\n",
      "\u001b[1;38;5;39mCOMET INFO:\u001b[0m     conda-specification          : 1\n",
      "\u001b[1;38;5;39mCOMET INFO:\u001b[0m     environment details          : 1\n",
      "\u001b[1;38;5;39mCOMET INFO:\u001b[0m     filename                     : 1\n",
      "\u001b[1;38;5;39mCOMET INFO:\u001b[0m     git metadata                 : 1\n",
      "\u001b[1;38;5;39mCOMET INFO:\u001b[0m     git-patch (uncompressed)     : 1 (1.05 MB)\n",
      "\u001b[1;38;5;39mCOMET INFO:\u001b[0m     installed packages           : 1\n",
      "\u001b[1;38;5;39mCOMET INFO:\u001b[0m     model graph                  : 1\n",
      "\u001b[1;38;5;39mCOMET INFO:\u001b[0m     model-element                : 1 (183.72 MB)\n",
      "\u001b[1;38;5;39mCOMET INFO:\u001b[0m     notebook                     : 1\n",
      "\u001b[1;38;5;39mCOMET INFO:\u001b[0m     os packages                  : 1\n",
      "\u001b[1;38;5;39mCOMET INFO:\u001b[0m     source_code                  : 1\n",
      "\u001b[1;38;5;39mCOMET INFO:\u001b[0m \n",
      "\u001b[1;38;5;39mCOMET INFO:\u001b[0m Uploading 73 metrics, params and output messages\n",
      "\u001b[1;38;5;39mCOMET INFO:\u001b[0m Please wait for assets to finish uploading (timeout is 10800 seconds)\n",
      "\u001b[1;38;5;39mCOMET INFO:\u001b[0m Still uploading 1 file(s), remaining 98.72 MB/183.72 MB\n",
      "\u001b[1;38;5;214mCOMET WARNING:\u001b[0m As you are running in a Jupyter environment, you will need to call `experiment.end()` when finished to ensure all metrics and code are logged before exiting.\n",
      "\u001b[1;38;5;39mCOMET INFO:\u001b[0m Experiment is live on comet.com https://www.comet.com/derick-amontagna/adni1-s-siemens-dams-sgd-8/4add2d2318d34cc5967c7eb8feb22175\n",
      "\n",
      "\u001b[1;38;5;39mCOMET INFO:\u001b[0m Artifact 'Engine' version 120.0.0 created (previous was: 119.0.0)\n"
     ]
    },
    {
     "name": "stdout",
     "output_type": "stream",
     "text": [
      "Treinando esse modelo: DAMS\n",
      "Treinando com o source: Siemens/target: Philips/GE\n"
     ]
    },
    {
     "name": "stderr",
     "output_type": "stream",
     "text": [
      "\u001b[1;38;5;39mCOMET INFO:\u001b[0m Scheduling the upload of 1 assets: 1 local assets for a size of 8.21 KB, and 0 remote assets (will be linked, not uploaded). This can take some time.\n",
      "\u001b[1;38;5;39mCOMET INFO:\u001b[0m Artifact 'derick-amontagna/Engine:120.0.0' has started uploading asynchronously\n",
      "\u001b[1;38;5;39mCOMET INFO:\u001b[0m Artifact 'Networks' version 120.0.0 created (previous was: 119.0.0)\n",
      "\u001b[1;38;5;39mCOMET INFO:\u001b[0m Scheduling the upload of 1 assets: 1 local assets for a size of 5.82 KB, and 0 remote assets (will be linked, not uploaded). This can take some time.\n",
      "\u001b[1;38;5;39mCOMET INFO:\u001b[0m Artifact 'derick-amontagna/Networks:120.0.0' has started uploading asynchronously\n",
      "\u001b[1;38;5;39mCOMET INFO:\u001b[0m Artifact 'DataSetup' version 122.0.0 created (previous was: 121.0.0)\n",
      "\u001b[1;38;5;39mCOMET INFO:\u001b[0m Scheduling the upload of 1 assets: 1 local assets for a size of 7.72 KB, and 0 remote assets (will be linked, not uploaded). This can take some time.\n",
      "\u001b[1;38;5;39mCOMET INFO:\u001b[0m Artifact 'derick-amontagna/DataSetup:122.0.0' has started uploading asynchronously\n"
     ]
    },
    {
     "name": "stdout",
     "output_type": "stream",
     "text": [
      "Loading Dataloader\n",
      "Use DAMS Basic\n",
      "Create model\n",
      "Start Train\n"
     ]
    },
    {
     "data": {
      "application/vnd.jupyter.widget-view+json": {
       "model_id": "f1fe494886c44421b3db09f1b480f4b7",
       "version_major": 2,
       "version_minor": 0
      },
      "text/plain": [
       "  0%|          | 0/50 [00:00<?, ?it/s]"
      ]
     },
     "metadata": {},
     "output_type": "display_data"
    },
    {
     "name": "stderr",
     "output_type": "stream",
     "text": [
      "/root/anaconda3/envs/lapixdl/lib/python3.11/site-packages/torchmetrics/utilities/prints.py:36: UserWarning: Metric `AUROC` will save all targets and predictions in buffer. For large datasets this may lead to large memory footprint.\n",
      "  warnings.warn(*args, **kwargs)\n",
      "\u001b[1;38;5;39mCOMET INFO:\u001b[0m Artifact 'derick-amontagna/DataSetup:122.0.0' has been fully uploaded successfully\n",
      "\u001b[1;38;5;39mCOMET INFO:\u001b[0m Artifact 'derick-amontagna/Networks:120.0.0' has been fully uploaded successfully\n",
      "\u001b[1;38;5;39mCOMET INFO:\u001b[0m Artifact 'derick-amontagna/Engine:120.0.0' has been fully uploaded successfully\n",
      "/root/anaconda3/envs/lapixdl/lib/python3.11/site-packages/torchmetrics/utilities/prints.py:36: UserWarning: Metric `AUROC` will save all targets and predictions in buffer. For large datasets this may lead to large memory footprint.\n",
      "  warnings.warn(*args, **kwargs)\n"
     ]
    },
    {
     "name": "stdout",
     "output_type": "stream",
     "text": [
      "Loaded model from epoch 42 with best validation auc: 0.94%\n",
      "DONE\n"
     ]
    },
    {
     "name": "stderr",
     "output_type": "stream",
     "text": [
      "\u001b[1;38;5;39mCOMET INFO:\u001b[0m ---------------------------------------------------------------------------------------\n",
      "\u001b[1;38;5;39mCOMET INFO:\u001b[0m Comet.ml Experiment Summary\n",
      "\u001b[1;38;5;39mCOMET INFO:\u001b[0m ---------------------------------------------------------------------------------------\n",
      "\u001b[1;38;5;39mCOMET INFO:\u001b[0m   Data:\n",
      "\u001b[1;38;5;39mCOMET INFO:\u001b[0m     display_summary_level : 1\n",
      "\u001b[1;38;5;39mCOMET INFO:\u001b[0m     name                  : sensitive_soursop_2024\n",
      "\u001b[1;38;5;39mCOMET INFO:\u001b[0m     url                   : https://www.comet.com/derick-amontagna/adni1-s-siemens-dams-sgd-8/4add2d2318d34cc5967c7eb8feb22175\n",
      "\u001b[1;38;5;39mCOMET INFO:\u001b[0m   Metrics [count] (min, max):\n",
      "\u001b[1;38;5;39mCOMET INFO:\u001b[0m     epoch [50]         : (0, 49)\n",
      "\u001b[1;38;5;39mCOMET INFO:\u001b[0m     loss [1970]        : (0.032676294445991516, 0.5796886086463928)\n",
      "\u001b[1;38;5;39mCOMET INFO:\u001b[0m     test_acc           : 0.8289599236641222\n",
      "\u001b[1;38;5;39mCOMET INFO:\u001b[0m     test_acc_target    : 0.658203125\n",
      "\u001b[1;38;5;39mCOMET INFO:\u001b[0m     test_acc_target_2  : 0.7453772189349113\n",
      "\u001b[1;38;5;39mCOMET INFO:\u001b[0m     test_auc           : 0.9224013090133667\n",
      "\u001b[1;38;5;39mCOMET INFO:\u001b[0m     test_auc_target    : 0.6250630021095276\n",
      "\u001b[1;38;5;39mCOMET INFO:\u001b[0m     test_auc_target_2  : 0.8104878067970276\n",
      "\u001b[1;38;5;39mCOMET INFO:\u001b[0m     test_loss          : 0.27663028990949384\n",
      "\u001b[1;38;5;39mCOMET INFO:\u001b[0m     test_loss_target   : 0.5938951801508665\n",
      "\u001b[1;38;5;39mCOMET INFO:\u001b[0m     test_loss_target_2 : 0.43076568841934204\n",
      "\u001b[1;38;5;39mCOMET INFO:\u001b[0m     train_acc [50]     : (0.5820907360406091, 0.9815989847715736)\n",
      "\u001b[1;38;5;39mCOMET INFO:\u001b[0m     train_auc [50]     : (0.6112192273139954, 0.997514009475708)\n",
      "\u001b[1;38;5;39mCOMET INFO:\u001b[0m     train_loss [50]    : (0.0689993430836703, 0.49696391457833616)\n",
      "\u001b[1;38;5;39mCOMET INFO:\u001b[0m     val_acc [50]       : (0.4309375, 0.880625)\n",
      "\u001b[1;38;5;39mCOMET INFO:\u001b[0m     val_auc [50]       : (0.7209244966506958, 0.9360651969909668)\n",
      "\u001b[1;38;5;39mCOMET INFO:\u001b[0m     val_loss [50]      : (0.2461654795706272, 0.7138050984591245)\n",
      "\u001b[1;38;5;39mCOMET INFO:\u001b[0m   Others:\n",
      "\u001b[1;38;5;39mCOMET INFO:\u001b[0m     best_epoch             : 42\n",
      "\u001b[1;38;5;39mCOMET INFO:\u001b[0m     best_val_metric        : 0.9360651969909668\n",
      "\u001b[1;38;5;39mCOMET INFO:\u001b[0m     optimizer_count        : 44\n",
      "\u001b[1;38;5;39mCOMET INFO:\u001b[0m     optimizer_id           : a6175d5da17447a2a07d393e335bcde5\n",
      "\u001b[1;38;5;39mCOMET INFO:\u001b[0m     optimizer_metric       : val_auc\n",
      "\u001b[1;38;5;39mCOMET INFO:\u001b[0m     optimizer_metric_value : 0.9360651969909668\n",
      "\u001b[1;38;5;39mCOMET INFO:\u001b[0m     optimizer_name         : SOURCE_Siemens\n",
      "\u001b[1;38;5;39mCOMET INFO:\u001b[0m     optimizer_objective    : maximize\n",
      "\u001b[1;38;5;39mCOMET INFO:\u001b[0m     optimizer_parameters   : {\"batch_size\": 32, \"dropout\": 0.2, \"lr\": 0.001, \"model\": \"DAMS\", \"momentum\": 0.9, \"seed\": 42, \"source\": \"Siemens\", \"target_1\": \"Philips\", \"target_2\": \"GE\", \"weight_decay\": 0.03}\n",
      "\u001b[1;38;5;39mCOMET INFO:\u001b[0m     optimizer_pid          : 4e4659c5518d5962551628e7520bd9fd24499fe5\n",
      "\u001b[1;38;5;39mCOMET INFO:\u001b[0m     optimizer_process      : 544623\n",
      "\u001b[1;38;5;39mCOMET INFO:\u001b[0m     optimizer_trial        : 1\n",
      "\u001b[1;38;5;39mCOMET INFO:\u001b[0m     optimizer_version      : 2.1.4\n",
      "\u001b[1;38;5;39mCOMET INFO:\u001b[0m   Parameters:\n",
      "\u001b[1;38;5;39mCOMET INFO:\u001b[0m     batch_size   : 32\n",
      "\u001b[1;38;5;39mCOMET INFO:\u001b[0m     dropout      : 0.2\n",
      "\u001b[1;38;5;39mCOMET INFO:\u001b[0m     lr           : 0.001\n",
      "\u001b[1;38;5;39mCOMET INFO:\u001b[0m     model        : DAMS\n",
      "\u001b[1;38;5;39mCOMET INFO:\u001b[0m     momentum     : 0.9\n",
      "\u001b[1;38;5;39mCOMET INFO:\u001b[0m     pos_weight   : 0.576\n",
      "\u001b[1;38;5;39mCOMET INFO:\u001b[0m     seed         : 42\n",
      "\u001b[1;38;5;39mCOMET INFO:\u001b[0m     source       : Siemens\n",
      "\u001b[1;38;5;39mCOMET INFO:\u001b[0m     target_1     : Philips\n",
      "\u001b[1;38;5;39mCOMET INFO:\u001b[0m     target_2     : GE\n",
      "\u001b[1;38;5;39mCOMET INFO:\u001b[0m     weight_decay : 0.03\n",
      "\u001b[1;38;5;39mCOMET INFO:\u001b[0m   Uploads:\n",
      "\u001b[1;38;5;39mCOMET INFO:\u001b[0m     artifact assets              : 3 (21.76 KB)\n",
      "\u001b[1;38;5;39mCOMET INFO:\u001b[0m     artifacts                    : 3\n",
      "\u001b[1;38;5;39mCOMET INFO:\u001b[0m     conda-environment-definition : 1\n",
      "\u001b[1;38;5;39mCOMET INFO:\u001b[0m     conda-info                   : 1\n",
      "\u001b[1;38;5;39mCOMET INFO:\u001b[0m     conda-specification          : 1\n",
      "\u001b[1;38;5;39mCOMET INFO:\u001b[0m     environment details          : 1\n",
      "\u001b[1;38;5;39mCOMET INFO:\u001b[0m     filename                     : 1\n",
      "\u001b[1;38;5;39mCOMET INFO:\u001b[0m     git metadata                 : 1\n",
      "\u001b[1;38;5;39mCOMET INFO:\u001b[0m     git-patch (uncompressed)     : 1 (1.06 MB)\n",
      "\u001b[1;38;5;39mCOMET INFO:\u001b[0m     installed packages           : 1\n",
      "\u001b[1;38;5;39mCOMET INFO:\u001b[0m     model graph                  : 1\n",
      "\u001b[1;38;5;39mCOMET INFO:\u001b[0m     model-element                : 1 (183.72 MB)\n",
      "\u001b[1;38;5;39mCOMET INFO:\u001b[0m     notebook                     : 1\n",
      "\u001b[1;38;5;39mCOMET INFO:\u001b[0m     os packages                  : 1\n",
      "\u001b[1;38;5;39mCOMET INFO:\u001b[0m     source_code                  : 1\n",
      "\u001b[1;38;5;39mCOMET INFO:\u001b[0m \n",
      "\u001b[1;38;5;39mCOMET INFO:\u001b[0m Uploading 70 metrics, params and output messages\n",
      "\u001b[1;38;5;39mCOMET INFO:\u001b[0m Please wait for assets to finish uploading (timeout is 10800 seconds)\n",
      "\u001b[1;38;5;39mCOMET INFO:\u001b[0m Still uploading 1 file(s), remaining 93.72 MB/183.72 MB\n",
      "\u001b[1;38;5;214mCOMET WARNING:\u001b[0m As you are running in a Jupyter environment, you will need to call `experiment.end()` when finished to ensure all metrics and code are logged before exiting.\n",
      "\u001b[1;38;5;39mCOMET INFO:\u001b[0m Experiment is live on comet.com https://www.comet.com/derick-amontagna/adni1-s-siemens-dams-sgd-8/54fcfd39ca444d808cc43d86f38d10ec\n",
      "\n",
      "\u001b[1;38;5;39mCOMET INFO:\u001b[0m Artifact 'Engine' version 121.0.0 created (previous was: 120.0.0)\n"
     ]
    },
    {
     "name": "stdout",
     "output_type": "stream",
     "text": [
      "Treinando esse modelo: DAMS\n",
      "Treinando com o source: Siemens/target: Philips/GE\n"
     ]
    },
    {
     "name": "stderr",
     "output_type": "stream",
     "text": [
      "\u001b[1;38;5;39mCOMET INFO:\u001b[0m Scheduling the upload of 1 assets: 1 local assets for a size of 8.21 KB, and 0 remote assets (will be linked, not uploaded). This can take some time.\n",
      "\u001b[1;38;5;39mCOMET INFO:\u001b[0m Artifact 'derick-amontagna/Engine:121.0.0' has started uploading asynchronously\n",
      "\u001b[1;38;5;39mCOMET INFO:\u001b[0m Artifact 'Networks' version 121.0.0 created (previous was: 120.0.0)\n",
      "\u001b[1;38;5;39mCOMET INFO:\u001b[0m Scheduling the upload of 1 assets: 1 local assets for a size of 5.82 KB, and 0 remote assets (will be linked, not uploaded). This can take some time.\n",
      "\u001b[1;38;5;39mCOMET INFO:\u001b[0m Artifact 'derick-amontagna/Networks:121.0.0' has started uploading asynchronously\n",
      "\u001b[1;38;5;39mCOMET INFO:\u001b[0m Artifact 'DataSetup' version 123.0.0 created (previous was: 122.0.0)\n",
      "\u001b[1;38;5;39mCOMET INFO:\u001b[0m Scheduling the upload of 1 assets: 1 local assets for a size of 7.72 KB, and 0 remote assets (will be linked, not uploaded). This can take some time.\n",
      "\u001b[1;38;5;39mCOMET INFO:\u001b[0m Artifact 'derick-amontagna/DataSetup:123.0.0' has started uploading asynchronously\n"
     ]
    },
    {
     "name": "stdout",
     "output_type": "stream",
     "text": [
      "Loading Dataloader\n",
      "Use DAMS Basic\n",
      "Create model\n",
      "Start Train\n"
     ]
    },
    {
     "data": {
      "application/vnd.jupyter.widget-view+json": {
       "model_id": "1592fd5620924b4c9fbb300caba6e314",
       "version_major": 2,
       "version_minor": 0
      },
      "text/plain": [
       "  0%|          | 0/50 [00:00<?, ?it/s]"
      ]
     },
     "metadata": {},
     "output_type": "display_data"
    },
    {
     "name": "stderr",
     "output_type": "stream",
     "text": [
      "/root/anaconda3/envs/lapixdl/lib/python3.11/site-packages/torchmetrics/utilities/prints.py:36: UserWarning: Metric `AUROC` will save all targets and predictions in buffer. For large datasets this may lead to large memory footprint.\n",
      "  warnings.warn(*args, **kwargs)\n",
      "\u001b[1;38;5;39mCOMET INFO:\u001b[0m Artifact 'derick-amontagna/DataSetup:123.0.0' has been fully uploaded successfully\n",
      "\u001b[1;38;5;39mCOMET INFO:\u001b[0m Artifact 'derick-amontagna/Engine:121.0.0' has been fully uploaded successfully\n",
      "\u001b[1;38;5;39mCOMET INFO:\u001b[0m Artifact 'derick-amontagna/Networks:121.0.0' has been fully uploaded successfully\n",
      "/root/anaconda3/envs/lapixdl/lib/python3.11/site-packages/torchmetrics/utilities/prints.py:36: UserWarning: Metric `AUROC` will save all targets and predictions in buffer. For large datasets this may lead to large memory footprint.\n",
      "  warnings.warn(*args, **kwargs)\n"
     ]
    },
    {
     "name": "stdout",
     "output_type": "stream",
     "text": [
      "Loaded model from epoch 34 with best validation auc: 0.94%\n",
      "DONE\n"
     ]
    },
    {
     "name": "stderr",
     "output_type": "stream",
     "text": [
      "\u001b[1;38;5;39mCOMET INFO:\u001b[0m ---------------------------------------------------------------------------------------\n",
      "\u001b[1;38;5;39mCOMET INFO:\u001b[0m Comet.ml Experiment Summary\n",
      "\u001b[1;38;5;39mCOMET INFO:\u001b[0m ---------------------------------------------------------------------------------------\n",
      "\u001b[1;38;5;39mCOMET INFO:\u001b[0m   Data:\n",
      "\u001b[1;38;5;39mCOMET INFO:\u001b[0m     display_summary_level : 1\n",
      "\u001b[1;38;5;39mCOMET INFO:\u001b[0m     name                  : standard_vicuna_5109\n",
      "\u001b[1;38;5;39mCOMET INFO:\u001b[0m     url                   : https://www.comet.com/derick-amontagna/adni1-s-siemens-dams-sgd-8/54fcfd39ca444d808cc43d86f38d10ec\n",
      "\u001b[1;38;5;39mCOMET INFO:\u001b[0m   Metrics [count] (min, max):\n",
      "\u001b[1;38;5;39mCOMET INFO:\u001b[0m     epoch [50]         : (0, 49)\n",
      "\u001b[1;38;5;39mCOMET INFO:\u001b[0m     loss [1970]        : (0.019349828362464905, 0.5875279903411865)\n",
      "\u001b[1;38;5;39mCOMET INFO:\u001b[0m     test_acc           : 0.8592557251908397\n",
      "\u001b[1;38;5;39mCOMET INFO:\u001b[0m     test_acc_target    : 0.7369791666666666\n",
      "\u001b[1;38;5;39mCOMET INFO:\u001b[0m     test_acc_target_2  : 0.7533284023668639\n",
      "\u001b[1;38;5;39mCOMET INFO:\u001b[0m     test_auc           : 0.9202555418014526\n",
      "\u001b[1;38;5;39mCOMET INFO:\u001b[0m     test_auc_target    : 0.7546530365943909\n",
      "\u001b[1;38;5;39mCOMET INFO:\u001b[0m     test_auc_target_2  : 0.7951736450195312\n",
      "\u001b[1;38;5;39mCOMET INFO:\u001b[0m     test_loss          : 0.2734369816443392\n",
      "\u001b[1;38;5;39mCOMET INFO:\u001b[0m     test_loss_target   : 0.5571208234565953\n",
      "\u001b[1;38;5;39mCOMET INFO:\u001b[0m     test_loss_target_2 : 0.5601386684902321\n",
      "\u001b[1;38;5;39mCOMET INFO:\u001b[0m     train_acc [50]     : (0.5766180203045685, 0.9877062182741116)\n",
      "\u001b[1;38;5;39mCOMET INFO:\u001b[0m     train_auc [50]     : (0.6038877964019775, 0.9987180233001709)\n",
      "\u001b[1;38;5;39mCOMET INFO:\u001b[0m     train_loss [50]    : (0.048942487871245985, 0.49858774365809966)\n",
      "\u001b[1;38;5;39mCOMET INFO:\u001b[0m     val_acc [50]       : (0.38, 0.871875)\n",
      "\u001b[1;38;5;39mCOMET INFO:\u001b[0m     val_auc [50]       : (0.597072184085846, 0.9368757605552673)\n",
      "\u001b[1;38;5;39mCOMET INFO:\u001b[0m     val_loss [50]      : (0.26705555379390716, 1.0040878125280142)\n",
      "\u001b[1;38;5;39mCOMET INFO:\u001b[0m   Others:\n",
      "\u001b[1;38;5;39mCOMET INFO:\u001b[0m     best_epoch             : 34\n",
      "\u001b[1;38;5;39mCOMET INFO:\u001b[0m     best_val_metric        : 0.9368757605552673\n",
      "\u001b[1;38;5;39mCOMET INFO:\u001b[0m     optimizer_count        : 45\n",
      "\u001b[1;38;5;39mCOMET INFO:\u001b[0m     optimizer_id           : a6175d5da17447a2a07d393e335bcde5\n",
      "\u001b[1;38;5;39mCOMET INFO:\u001b[0m     optimizer_metric       : val_auc\n",
      "\u001b[1;38;5;39mCOMET INFO:\u001b[0m     optimizer_metric_value : 0.9368757605552673\n",
      "\u001b[1;38;5;39mCOMET INFO:\u001b[0m     optimizer_name         : SOURCE_Siemens\n",
      "\u001b[1;38;5;39mCOMET INFO:\u001b[0m     optimizer_objective    : maximize\n",
      "\u001b[1;38;5;39mCOMET INFO:\u001b[0m     optimizer_parameters   : {\"batch_size\": 32, \"dropout\": 0.3, \"lr\": 0.001, \"model\": \"DAMS\", \"momentum\": 0.9, \"seed\": 42, \"source\": \"Siemens\", \"target_1\": \"Philips\", \"target_2\": \"GE\", \"weight_decay\": 0.02}\n",
      "\u001b[1;38;5;39mCOMET INFO:\u001b[0m     optimizer_pid          : 90effa0e15f503639a9e2fc5c4a00a3ec6ac13fd\n",
      "\u001b[1;38;5;39mCOMET INFO:\u001b[0m     optimizer_process      : 544623\n",
      "\u001b[1;38;5;39mCOMET INFO:\u001b[0m     optimizer_trial        : 1\n",
      "\u001b[1;38;5;39mCOMET INFO:\u001b[0m     optimizer_version      : 2.1.4\n",
      "\u001b[1;38;5;39mCOMET INFO:\u001b[0m   Parameters:\n",
      "\u001b[1;38;5;39mCOMET INFO:\u001b[0m     batch_size   : 32\n",
      "\u001b[1;38;5;39mCOMET INFO:\u001b[0m     dropout      : 0.3\n",
      "\u001b[1;38;5;39mCOMET INFO:\u001b[0m     lr           : 0.001\n",
      "\u001b[1;38;5;39mCOMET INFO:\u001b[0m     model        : DAMS\n",
      "\u001b[1;38;5;39mCOMET INFO:\u001b[0m     momentum     : 0.9\n",
      "\u001b[1;38;5;39mCOMET INFO:\u001b[0m     pos_weight   : 0.576\n",
      "\u001b[1;38;5;39mCOMET INFO:\u001b[0m     seed         : 42\n",
      "\u001b[1;38;5;39mCOMET INFO:\u001b[0m     source       : Siemens\n",
      "\u001b[1;38;5;39mCOMET INFO:\u001b[0m     target_1     : Philips\n",
      "\u001b[1;38;5;39mCOMET INFO:\u001b[0m     target_2     : GE\n",
      "\u001b[1;38;5;39mCOMET INFO:\u001b[0m     weight_decay : 0.02\n",
      "\u001b[1;38;5;39mCOMET INFO:\u001b[0m   Uploads:\n",
      "\u001b[1;38;5;39mCOMET INFO:\u001b[0m     artifact assets              : 3 (21.76 KB)\n",
      "\u001b[1;38;5;39mCOMET INFO:\u001b[0m     artifacts                    : 3\n",
      "\u001b[1;38;5;39mCOMET INFO:\u001b[0m     conda-environment-definition : 1\n",
      "\u001b[1;38;5;39mCOMET INFO:\u001b[0m     conda-info                   : 1\n",
      "\u001b[1;38;5;39mCOMET INFO:\u001b[0m     conda-specification          : 1\n",
      "\u001b[1;38;5;39mCOMET INFO:\u001b[0m     environment details          : 1\n",
      "\u001b[1;38;5;39mCOMET INFO:\u001b[0m     filename                     : 1\n",
      "\u001b[1;38;5;39mCOMET INFO:\u001b[0m     git metadata                 : 1\n",
      "\u001b[1;38;5;39mCOMET INFO:\u001b[0m     git-patch (uncompressed)     : 1 (1.07 MB)\n",
      "\u001b[1;38;5;39mCOMET INFO:\u001b[0m     installed packages           : 1\n",
      "\u001b[1;38;5;39mCOMET INFO:\u001b[0m     model graph                  : 1\n",
      "\u001b[1;38;5;39mCOMET INFO:\u001b[0m     model-element                : 1 (183.72 MB)\n",
      "\u001b[1;38;5;39mCOMET INFO:\u001b[0m     notebook                     : 1\n",
      "\u001b[1;38;5;39mCOMET INFO:\u001b[0m     os packages                  : 1\n",
      "\u001b[1;38;5;39mCOMET INFO:\u001b[0m     source_code                  : 1\n",
      "\u001b[1;38;5;39mCOMET INFO:\u001b[0m \n",
      "\u001b[1;38;5;39mCOMET INFO:\u001b[0m Please wait for assets to finish uploading (timeout is 10800 seconds)\n",
      "\u001b[1;38;5;39mCOMET INFO:\u001b[0m Still uploading 1 file(s), remaining 98.72 MB/183.72 MB\n",
      "\u001b[1;38;5;214mCOMET WARNING:\u001b[0m As you are running in a Jupyter environment, you will need to call `experiment.end()` when finished to ensure all metrics and code are logged before exiting.\n",
      "\u001b[1;38;5;39mCOMET INFO:\u001b[0m Experiment is live on comet.com https://www.comet.com/derick-amontagna/adni1-s-siemens-dams-sgd-8/c5b7eec081c547fe963e52c1094449e0\n",
      "\n",
      "\u001b[1;38;5;39mCOMET INFO:\u001b[0m Artifact 'Engine' version 122.0.0 created (previous was: 121.0.0)\n"
     ]
    },
    {
     "name": "stdout",
     "output_type": "stream",
     "text": [
      "Treinando esse modelo: DAMS\n",
      "Treinando com o source: Siemens/target: Philips/GE\n"
     ]
    },
    {
     "name": "stderr",
     "output_type": "stream",
     "text": [
      "\u001b[1;38;5;39mCOMET INFO:\u001b[0m Scheduling the upload of 1 assets: 1 local assets for a size of 8.21 KB, and 0 remote assets (will be linked, not uploaded). This can take some time.\n",
      "\u001b[1;38;5;39mCOMET INFO:\u001b[0m Artifact 'derick-amontagna/Engine:122.0.0' has started uploading asynchronously\n",
      "\u001b[1;38;5;39mCOMET INFO:\u001b[0m Artifact 'Networks' version 122.0.0 created (previous was: 121.0.0)\n",
      "\u001b[1;38;5;39mCOMET INFO:\u001b[0m Scheduling the upload of 1 assets: 1 local assets for a size of 5.82 KB, and 0 remote assets (will be linked, not uploaded). This can take some time.\n",
      "\u001b[1;38;5;39mCOMET INFO:\u001b[0m Artifact 'derick-amontagna/Networks:122.0.0' has started uploading asynchronously\n",
      "\u001b[1;38;5;39mCOMET INFO:\u001b[0m Artifact 'DataSetup' version 124.0.0 created (previous was: 123.0.0)\n",
      "\u001b[1;38;5;39mCOMET INFO:\u001b[0m Scheduling the upload of 1 assets: 1 local assets for a size of 7.72 KB, and 0 remote assets (will be linked, not uploaded). This can take some time.\n",
      "\u001b[1;38;5;39mCOMET INFO:\u001b[0m Artifact 'derick-amontagna/DataSetup:124.0.0' has started uploading asynchronously\n"
     ]
    },
    {
     "name": "stdout",
     "output_type": "stream",
     "text": [
      "Loading Dataloader\n",
      "Use DAMS Basic\n",
      "Create model\n",
      "Start Train\n"
     ]
    },
    {
     "data": {
      "application/vnd.jupyter.widget-view+json": {
       "model_id": "fce2e59c4e9743fdab73eef1224ee83d",
       "version_major": 2,
       "version_minor": 0
      },
      "text/plain": [
       "  0%|          | 0/50 [00:00<?, ?it/s]"
      ]
     },
     "metadata": {},
     "output_type": "display_data"
    },
    {
     "name": "stderr",
     "output_type": "stream",
     "text": [
      "/root/anaconda3/envs/lapixdl/lib/python3.11/site-packages/torchmetrics/utilities/prints.py:36: UserWarning: Metric `AUROC` will save all targets and predictions in buffer. For large datasets this may lead to large memory footprint.\n",
      "  warnings.warn(*args, **kwargs)\n",
      "\u001b[1;38;5;39mCOMET INFO:\u001b[0m Artifact 'derick-amontagna/Networks:122.0.0' has been fully uploaded successfully\n",
      "\u001b[1;38;5;39mCOMET INFO:\u001b[0m Artifact 'derick-amontagna/Engine:122.0.0' has been fully uploaded successfully\n",
      "\u001b[1;38;5;39mCOMET INFO:\u001b[0m Artifact 'derick-amontagna/DataSetup:124.0.0' has been fully uploaded successfully\n",
      "/root/anaconda3/envs/lapixdl/lib/python3.11/site-packages/torchmetrics/utilities/prints.py:36: UserWarning: Metric `AUROC` will save all targets and predictions in buffer. For large datasets this may lead to large memory footprint.\n",
      "  warnings.warn(*args, **kwargs)\n"
     ]
    },
    {
     "name": "stdout",
     "output_type": "stream",
     "text": [
      "Loaded model from epoch 38 with best validation auc: 0.94%\n",
      "DONE\n"
     ]
    },
    {
     "name": "stderr",
     "output_type": "stream",
     "text": [
      "\u001b[1;38;5;39mCOMET INFO:\u001b[0m ---------------------------------------------------------------------------------------\n",
      "\u001b[1;38;5;39mCOMET INFO:\u001b[0m Comet.ml Experiment Summary\n",
      "\u001b[1;38;5;39mCOMET INFO:\u001b[0m ---------------------------------------------------------------------------------------\n",
      "\u001b[1;38;5;39mCOMET INFO:\u001b[0m   Data:\n",
      "\u001b[1;38;5;39mCOMET INFO:\u001b[0m     display_summary_level : 1\n",
      "\u001b[1;38;5;39mCOMET INFO:\u001b[0m     name                  : odd_humvee_5560\n",
      "\u001b[1;38;5;39mCOMET INFO:\u001b[0m     url                   : https://www.comet.com/derick-amontagna/adni1-s-siemens-dams-sgd-8/c5b7eec081c547fe963e52c1094449e0\n",
      "\u001b[1;38;5;39mCOMET INFO:\u001b[0m   Metrics [count] (min, max):\n",
      "\u001b[1;38;5;39mCOMET INFO:\u001b[0m     epoch [50]         : (0, 49)\n",
      "\u001b[1;38;5;39mCOMET INFO:\u001b[0m     loss [1970]        : (0.035398390144109726, 0.5969932079315186)\n",
      "\u001b[1;38;5;39mCOMET INFO:\u001b[0m     test_acc           : 0.7340171755725191\n",
      "\u001b[1;38;5;39mCOMET INFO:\u001b[0m     test_acc_target    : 0.59765625\n",
      "\u001b[1;38;5;39mCOMET INFO:\u001b[0m     test_acc_target_2  : 0.7170857988165681\n",
      "\u001b[1;38;5;39mCOMET INFO:\u001b[0m     test_auc           : 0.895302414894104\n",
      "\u001b[1;38;5;39mCOMET INFO:\u001b[0m     test_auc_target    : 0.6592575311660767\n",
      "\u001b[1;38;5;39mCOMET INFO:\u001b[0m     test_auc_target_2  : 0.8312013149261475\n",
      "\u001b[1;38;5;39mCOMET INFO:\u001b[0m     test_loss          : 0.3774778633058526\n",
      "\u001b[1;38;5;39mCOMET INFO:\u001b[0m     test_loss_target   : 0.594013694052895\n",
      "\u001b[1;38;5;39mCOMET INFO:\u001b[0m     test_loss_target_2 : 0.41180769102813225\n",
      "\u001b[1;38;5;39mCOMET INFO:\u001b[0m     train_acc [50]     : (0.5773318527918782, 0.9802506345177665)\n",
      "\u001b[1;38;5;39mCOMET INFO:\u001b[0m     train_auc [50]     : (0.6026935577392578, 0.9971839189529419)\n",
      "\u001b[1;38;5;39mCOMET INFO:\u001b[0m     train_loss [50]    : (0.07372457602151154, 0.4980268082794199)\n",
      "\u001b[1;38;5;39mCOMET INFO:\u001b[0m     val_acc [50]       : (0.39375, 0.8728125)\n",
      "\u001b[1;38;5;39mCOMET INFO:\u001b[0m     val_auc [50]       : (0.7389007210731506, 0.9403115510940552)\n",
      "\u001b[1;38;5;39mCOMET INFO:\u001b[0m     val_loss [50]      : (0.23969979375600814, 0.7100589073076844)\n",
      "\u001b[1;38;5;39mCOMET INFO:\u001b[0m   Others:\n",
      "\u001b[1;38;5;39mCOMET INFO:\u001b[0m     best_epoch             : 38\n",
      "\u001b[1;38;5;39mCOMET INFO:\u001b[0m     best_val_metric        : 0.9403115510940552\n",
      "\u001b[1;38;5;39mCOMET INFO:\u001b[0m     optimizer_count        : 46\n",
      "\u001b[1;38;5;39mCOMET INFO:\u001b[0m     optimizer_id           : a6175d5da17447a2a07d393e335bcde5\n",
      "\u001b[1;38;5;39mCOMET INFO:\u001b[0m     optimizer_metric       : val_auc\n",
      "\u001b[1;38;5;39mCOMET INFO:\u001b[0m     optimizer_metric_value : 0.9403115510940552\n",
      "\u001b[1;38;5;39mCOMET INFO:\u001b[0m     optimizer_name         : SOURCE_Siemens\n",
      "\u001b[1;38;5;39mCOMET INFO:\u001b[0m     optimizer_objective    : maximize\n",
      "\u001b[1;38;5;39mCOMET INFO:\u001b[0m     optimizer_parameters   : {\"batch_size\": 32, \"dropout\": 0.3, \"lr\": 0.001, \"model\": \"DAMS\", \"momentum\": 0.9, \"seed\": 42, \"source\": \"Siemens\", \"target_1\": \"Philips\", \"target_2\": \"GE\", \"weight_decay\": 0.03}\n",
      "\u001b[1;38;5;39mCOMET INFO:\u001b[0m     optimizer_pid          : 65c38fc9ed321273b236e48043df1e280d27f2f5\n",
      "\u001b[1;38;5;39mCOMET INFO:\u001b[0m     optimizer_process      : 544623\n",
      "\u001b[1;38;5;39mCOMET INFO:\u001b[0m     optimizer_trial        : 1\n",
      "\u001b[1;38;5;39mCOMET INFO:\u001b[0m     optimizer_version      : 2.1.4\n",
      "\u001b[1;38;5;39mCOMET INFO:\u001b[0m   Parameters:\n",
      "\u001b[1;38;5;39mCOMET INFO:\u001b[0m     batch_size   : 32\n",
      "\u001b[1;38;5;39mCOMET INFO:\u001b[0m     dropout      : 0.3\n",
      "\u001b[1;38;5;39mCOMET INFO:\u001b[0m     lr           : 0.001\n",
      "\u001b[1;38;5;39mCOMET INFO:\u001b[0m     model        : DAMS\n",
      "\u001b[1;38;5;39mCOMET INFO:\u001b[0m     momentum     : 0.9\n",
      "\u001b[1;38;5;39mCOMET INFO:\u001b[0m     pos_weight   : 0.576\n",
      "\u001b[1;38;5;39mCOMET INFO:\u001b[0m     seed         : 42\n",
      "\u001b[1;38;5;39mCOMET INFO:\u001b[0m     source       : Siemens\n",
      "\u001b[1;38;5;39mCOMET INFO:\u001b[0m     target_1     : Philips\n",
      "\u001b[1;38;5;39mCOMET INFO:\u001b[0m     target_2     : GE\n",
      "\u001b[1;38;5;39mCOMET INFO:\u001b[0m     weight_decay : 0.03\n",
      "\u001b[1;38;5;39mCOMET INFO:\u001b[0m   Uploads:\n",
      "\u001b[1;38;5;39mCOMET INFO:\u001b[0m     artifact assets              : 3 (21.76 KB)\n",
      "\u001b[1;38;5;39mCOMET INFO:\u001b[0m     artifacts                    : 3\n",
      "\u001b[1;38;5;39mCOMET INFO:\u001b[0m     conda-environment-definition : 1\n",
      "\u001b[1;38;5;39mCOMET INFO:\u001b[0m     conda-info                   : 1\n",
      "\u001b[1;38;5;39mCOMET INFO:\u001b[0m     conda-specification          : 1\n",
      "\u001b[1;38;5;39mCOMET INFO:\u001b[0m     environment details          : 1\n",
      "\u001b[1;38;5;39mCOMET INFO:\u001b[0m     filename                     : 1\n",
      "\u001b[1;38;5;39mCOMET INFO:\u001b[0m     git metadata                 : 1\n",
      "\u001b[1;38;5;39mCOMET INFO:\u001b[0m     git-patch (uncompressed)     : 1 (1.08 MB)\n",
      "\u001b[1;38;5;39mCOMET INFO:\u001b[0m     installed packages           : 1\n",
      "\u001b[1;38;5;39mCOMET INFO:\u001b[0m     model graph                  : 1\n",
      "\u001b[1;38;5;39mCOMET INFO:\u001b[0m     model-element                : 1 (183.72 MB)\n",
      "\u001b[1;38;5;39mCOMET INFO:\u001b[0m     notebook                     : 1\n",
      "\u001b[1;38;5;39mCOMET INFO:\u001b[0m     os packages                  : 1\n",
      "\u001b[1;38;5;39mCOMET INFO:\u001b[0m     source_code                  : 1\n",
      "\u001b[1;38;5;39mCOMET INFO:\u001b[0m \n",
      "\u001b[1;38;5;39mCOMET INFO:\u001b[0m Uploading 78 metrics, params and output messages\n",
      "\u001b[1;38;5;39mCOMET INFO:\u001b[0m Please wait for assets to finish uploading (timeout is 10800 seconds)\n",
      "\u001b[1;38;5;39mCOMET INFO:\u001b[0m Still uploading 1 file(s), remaining 43.72 MB/183.72 MB\n",
      "\u001b[1;38;5;214mCOMET WARNING:\u001b[0m As you are running in a Jupyter environment, you will need to call `experiment.end()` when finished to ensure all metrics and code are logged before exiting.\n",
      "\u001b[1;38;5;39mCOMET INFO:\u001b[0m Experiment is live on comet.com https://www.comet.com/derick-amontagna/adni1-s-siemens-dams-sgd-8/b45675ca2ce44f698cd834afa6d10d5c\n",
      "\n",
      "\u001b[1;38;5;39mCOMET INFO:\u001b[0m Artifact 'Engine' version 123.0.0 created (previous was: 122.0.0)\n"
     ]
    },
    {
     "name": "stdout",
     "output_type": "stream",
     "text": [
      "Treinando esse modelo: DAMS\n",
      "Treinando com o source: Siemens/target: Philips/GE\n"
     ]
    },
    {
     "name": "stderr",
     "output_type": "stream",
     "text": [
      "\u001b[1;38;5;39mCOMET INFO:\u001b[0m Scheduling the upload of 1 assets: 1 local assets for a size of 8.21 KB, and 0 remote assets (will be linked, not uploaded). This can take some time.\n",
      "\u001b[1;38;5;39mCOMET INFO:\u001b[0m Artifact 'derick-amontagna/Engine:123.0.0' has started uploading asynchronously\n",
      "\u001b[1;38;5;39mCOMET INFO:\u001b[0m Artifact 'Networks' version 123.0.0 created (previous was: 122.0.0)\n",
      "\u001b[1;38;5;39mCOMET INFO:\u001b[0m Scheduling the upload of 1 assets: 1 local assets for a size of 5.82 KB, and 0 remote assets (will be linked, not uploaded). This can take some time.\n",
      "\u001b[1;38;5;39mCOMET INFO:\u001b[0m Artifact 'derick-amontagna/Networks:123.0.0' has started uploading asynchronously\n",
      "\u001b[1;38;5;39mCOMET INFO:\u001b[0m Artifact 'DataSetup' version 125.0.0 created (previous was: 124.0.0)\n",
      "\u001b[1;38;5;39mCOMET INFO:\u001b[0m Scheduling the upload of 1 assets: 1 local assets for a size of 7.72 KB, and 0 remote assets (will be linked, not uploaded). This can take some time.\n",
      "\u001b[1;38;5;39mCOMET INFO:\u001b[0m Artifact 'derick-amontagna/DataSetup:125.0.0' has started uploading asynchronously\n"
     ]
    },
    {
     "name": "stdout",
     "output_type": "stream",
     "text": [
      "Loading Dataloader\n",
      "Use DAMS Basic\n",
      "Create model\n",
      "Start Train\n"
     ]
    },
    {
     "data": {
      "application/vnd.jupyter.widget-view+json": {
       "model_id": "b2a48b24bd3c480cab083b143025899a",
       "version_major": 2,
       "version_minor": 0
      },
      "text/plain": [
       "  0%|          | 0/50 [00:00<?, ?it/s]"
      ]
     },
     "metadata": {},
     "output_type": "display_data"
    },
    {
     "name": "stderr",
     "output_type": "stream",
     "text": [
      "/root/anaconda3/envs/lapixdl/lib/python3.11/site-packages/torchmetrics/utilities/prints.py:36: UserWarning: Metric `AUROC` will save all targets and predictions in buffer. For large datasets this may lead to large memory footprint.\n",
      "  warnings.warn(*args, **kwargs)\n",
      "\u001b[1;38;5;39mCOMET INFO:\u001b[0m Artifact 'derick-amontagna/Engine:123.0.0' has been fully uploaded successfully\n",
      "\u001b[1;38;5;39mCOMET INFO:\u001b[0m Artifact 'derick-amontagna/DataSetup:125.0.0' has been fully uploaded successfully\n",
      "\u001b[1;38;5;39mCOMET INFO:\u001b[0m Artifact 'derick-amontagna/Networks:123.0.0' has been fully uploaded successfully\n"
     ]
    },
    {
     "name": "stdout",
     "output_type": "stream",
     "text": [
      "Loaded model from epoch 43 with best validation auc: 0.95%\n",
      "DONE\n"
     ]
    },
    {
     "name": "stderr",
     "output_type": "stream",
     "text": [
      "\u001b[1;38;5;39mCOMET INFO:\u001b[0m ---------------------------------------------------------------------------------------\n",
      "\u001b[1;38;5;39mCOMET INFO:\u001b[0m Comet.ml Experiment Summary\n",
      "\u001b[1;38;5;39mCOMET INFO:\u001b[0m ---------------------------------------------------------------------------------------\n",
      "\u001b[1;38;5;39mCOMET INFO:\u001b[0m   Data:\n",
      "\u001b[1;38;5;39mCOMET INFO:\u001b[0m     display_summary_level : 1\n",
      "\u001b[1;38;5;39mCOMET INFO:\u001b[0m     name                  : bottom_plaster_669\n",
      "\u001b[1;38;5;39mCOMET INFO:\u001b[0m     url                   : https://www.comet.com/derick-amontagna/adni1-s-siemens-dams-sgd-8/b45675ca2ce44f698cd834afa6d10d5c\n",
      "\u001b[1;38;5;39mCOMET INFO:\u001b[0m   Metrics [count] (min, max):\n",
      "\u001b[1;38;5;39mCOMET INFO:\u001b[0m     epoch [50]         : (0, 49)\n",
      "\u001b[1;38;5;39mCOMET INFO:\u001b[0m     loss [1970]        : (0.018017282709479332, 0.5962439179420471)\n",
      "\u001b[1;38;5;39mCOMET INFO:\u001b[0m     test_acc           : 0.8046278625954199\n",
      "\u001b[1;38;5;39mCOMET INFO:\u001b[0m     test_acc_target    : 0.6764322916666666\n",
      "\u001b[1;38;5;39mCOMET INFO:\u001b[0m     test_acc_target_2  : 0.7011834319526628\n",
      "\u001b[1;38;5;39mCOMET INFO:\u001b[0m     test_auc           : 0.8577027320861816\n",
      "\u001b[1;38;5;39mCOMET INFO:\u001b[0m     test_auc_target    : 0.6653327941894531\n",
      "\u001b[1;38;5;39mCOMET INFO:\u001b[0m     test_auc_target_2  : 0.7643646001815796\n",
      "\u001b[1;38;5;39mCOMET INFO:\u001b[0m     test_loss          : 0.3768525485887782\n",
      "\u001b[1;38;5;39mCOMET INFO:\u001b[0m     test_loss_target   : 0.6689084176905453\n",
      "\u001b[1;38;5;39mCOMET INFO:\u001b[0m     test_loss_target_2 : 0.5069570964610083\n",
      "\u001b[1;38;5;39mCOMET INFO:\u001b[0m     train_acc [50]     : (0.5748730964467005, 0.9899270304568528)\n",
      "\u001b[1;38;5;39mCOMET INFO:\u001b[0m     train_auc [50]     : (0.6040384769439697, 0.9991171360015869)\n",
      "\u001b[1;38;5;39mCOMET INFO:\u001b[0m     train_loss [50]    : (0.04530177761323107, 0.49794677323496284)\n",
      "\u001b[1;38;5;39mCOMET INFO:\u001b[0m     val_acc [50]       : (0.5578125, 0.8796875)\n",
      "\u001b[1;38;5;39mCOMET INFO:\u001b[0m     val_auc [50]       : (0.7498453855514526, 0.9467657208442688)\n",
      "\u001b[1;38;5;39mCOMET INFO:\u001b[0m     val_loss [50]      : (0.25349452786147597, 0.705888173757121)\n",
      "\u001b[1;38;5;39mCOMET INFO:\u001b[0m   Others:\n",
      "\u001b[1;38;5;39mCOMET INFO:\u001b[0m     best_epoch             : 43\n",
      "\u001b[1;38;5;39mCOMET INFO:\u001b[0m     best_val_metric        : 0.9467657208442688\n",
      "\u001b[1;38;5;39mCOMET INFO:\u001b[0m     optimizer_count        : 47\n",
      "\u001b[1;38;5;39mCOMET INFO:\u001b[0m     optimizer_id           : a6175d5da17447a2a07d393e335bcde5\n",
      "\u001b[1;38;5;39mCOMET INFO:\u001b[0m     optimizer_metric       : val_auc\n",
      "\u001b[1;38;5;39mCOMET INFO:\u001b[0m     optimizer_metric_value : 0.9467657208442688\n",
      "\u001b[1;38;5;39mCOMET INFO:\u001b[0m     optimizer_name         : SOURCE_Siemens\n",
      "\u001b[1;38;5;39mCOMET INFO:\u001b[0m     optimizer_objective    : maximize\n",
      "\u001b[1;38;5;39mCOMET INFO:\u001b[0m     optimizer_parameters   : {\"batch_size\": 32, \"dropout\": 0.4, \"lr\": 0.001, \"model\": \"DAMS\", \"momentum\": 0.9, \"seed\": 42, \"source\": \"Siemens\", \"target_1\": \"Philips\", \"target_2\": \"GE\", \"weight_decay\": 0.02}\n",
      "\u001b[1;38;5;39mCOMET INFO:\u001b[0m     optimizer_pid          : 9e9537c079e15d55c270d79bf1a2e9e0e58bcd2f\n",
      "\u001b[1;38;5;39mCOMET INFO:\u001b[0m     optimizer_process      : 544623\n",
      "\u001b[1;38;5;39mCOMET INFO:\u001b[0m     optimizer_trial        : 1\n",
      "\u001b[1;38;5;39mCOMET INFO:\u001b[0m     optimizer_version      : 2.1.4\n",
      "\u001b[1;38;5;39mCOMET INFO:\u001b[0m   Parameters:\n",
      "\u001b[1;38;5;39mCOMET INFO:\u001b[0m     batch_size   : 32\n",
      "\u001b[1;38;5;39mCOMET INFO:\u001b[0m     dropout      : 0.4\n",
      "\u001b[1;38;5;39mCOMET INFO:\u001b[0m     lr           : 0.001\n",
      "\u001b[1;38;5;39mCOMET INFO:\u001b[0m     model        : DAMS\n",
      "\u001b[1;38;5;39mCOMET INFO:\u001b[0m     momentum     : 0.9\n",
      "\u001b[1;38;5;39mCOMET INFO:\u001b[0m     pos_weight   : 0.576\n",
      "\u001b[1;38;5;39mCOMET INFO:\u001b[0m     seed         : 42\n",
      "\u001b[1;38;5;39mCOMET INFO:\u001b[0m     source       : Siemens\n",
      "\u001b[1;38;5;39mCOMET INFO:\u001b[0m     target_1     : Philips\n",
      "\u001b[1;38;5;39mCOMET INFO:\u001b[0m     target_2     : GE\n",
      "\u001b[1;38;5;39mCOMET INFO:\u001b[0m     weight_decay : 0.02\n",
      "\u001b[1;38;5;39mCOMET INFO:\u001b[0m   Uploads:\n",
      "\u001b[1;38;5;39mCOMET INFO:\u001b[0m     artifact assets              : 3 (21.76 KB)\n",
      "\u001b[1;38;5;39mCOMET INFO:\u001b[0m     artifacts                    : 3\n",
      "\u001b[1;38;5;39mCOMET INFO:\u001b[0m     conda-environment-definition : 1\n",
      "\u001b[1;38;5;39mCOMET INFO:\u001b[0m     conda-info                   : 1\n",
      "\u001b[1;38;5;39mCOMET INFO:\u001b[0m     conda-specification          : 1\n",
      "\u001b[1;38;5;39mCOMET INFO:\u001b[0m     environment details          : 1\n",
      "\u001b[1;38;5;39mCOMET INFO:\u001b[0m     filename                     : 1\n",
      "\u001b[1;38;5;39mCOMET INFO:\u001b[0m     git metadata                 : 1\n",
      "\u001b[1;38;5;39mCOMET INFO:\u001b[0m     git-patch (uncompressed)     : 1 (1.09 MB)\n",
      "\u001b[1;38;5;39mCOMET INFO:\u001b[0m     installed packages           : 1\n",
      "\u001b[1;38;5;39mCOMET INFO:\u001b[0m     model graph                  : 1\n",
      "\u001b[1;38;5;39mCOMET INFO:\u001b[0m     model-element                : 1 (183.72 MB)\n",
      "\u001b[1;38;5;39mCOMET INFO:\u001b[0m     notebook                     : 1\n",
      "\u001b[1;38;5;39mCOMET INFO:\u001b[0m     os packages                  : 1\n",
      "\u001b[1;38;5;39mCOMET INFO:\u001b[0m     source_code                  : 1\n",
      "\u001b[1;38;5;39mCOMET INFO:\u001b[0m \n",
      "\u001b[1;38;5;39mCOMET INFO:\u001b[0m Uploading 76 metrics, params and output messages\n",
      "\u001b[1;38;5;39mCOMET INFO:\u001b[0m Please wait for assets to finish uploading (timeout is 10800 seconds)\n",
      "\u001b[1;38;5;39mCOMET INFO:\u001b[0m Still uploading 1 file(s), remaining 108.72 MB/183.72 MB\n",
      "\u001b[1;38;5;214mCOMET WARNING:\u001b[0m As you are running in a Jupyter environment, you will need to call `experiment.end()` when finished to ensure all metrics and code are logged before exiting.\n",
      "\u001b[1;38;5;39mCOMET INFO:\u001b[0m Experiment is live on comet.com https://www.comet.com/derick-amontagna/adni1-s-siemens-dams-sgd-8/b4b828b8b7434f0ca7c5d384507fff22\n",
      "\n",
      "\u001b[1;38;5;39mCOMET INFO:\u001b[0m Artifact 'Engine' version 124.0.0 created (previous was: 123.0.0)\n"
     ]
    },
    {
     "name": "stdout",
     "output_type": "stream",
     "text": [
      "Treinando esse modelo: DAMS\n",
      "Treinando com o source: Siemens/target: Philips/GE\n"
     ]
    },
    {
     "name": "stderr",
     "output_type": "stream",
     "text": [
      "\u001b[1;38;5;39mCOMET INFO:\u001b[0m Scheduling the upload of 1 assets: 1 local assets for a size of 8.21 KB, and 0 remote assets (will be linked, not uploaded). This can take some time.\n",
      "\u001b[1;38;5;39mCOMET INFO:\u001b[0m Artifact 'derick-amontagna/Engine:124.0.0' has started uploading asynchronously\n",
      "\u001b[1;38;5;39mCOMET INFO:\u001b[0m Artifact 'Networks' version 124.0.0 created (previous was: 123.0.0)\n",
      "\u001b[1;38;5;39mCOMET INFO:\u001b[0m Scheduling the upload of 1 assets: 1 local assets for a size of 5.82 KB, and 0 remote assets (will be linked, not uploaded). This can take some time.\n",
      "\u001b[1;38;5;39mCOMET INFO:\u001b[0m Artifact 'derick-amontagna/Networks:124.0.0' has started uploading asynchronously\n",
      "\u001b[1;38;5;39mCOMET INFO:\u001b[0m Artifact 'DataSetup' version 126.0.0 created (previous was: 125.0.0)\n",
      "\u001b[1;38;5;39mCOMET INFO:\u001b[0m Scheduling the upload of 1 assets: 1 local assets for a size of 7.72 KB, and 0 remote assets (will be linked, not uploaded). This can take some time.\n",
      "\u001b[1;38;5;39mCOMET INFO:\u001b[0m Artifact 'derick-amontagna/DataSetup:126.0.0' has started uploading asynchronously\n"
     ]
    },
    {
     "name": "stdout",
     "output_type": "stream",
     "text": [
      "Loading Dataloader\n",
      "Use DAMS Basic\n",
      "Create model\n",
      "Start Train\n"
     ]
    },
    {
     "data": {
      "application/vnd.jupyter.widget-view+json": {
       "model_id": "9922b68f697e495cb66313abf276f21d",
       "version_major": 2,
       "version_minor": 0
      },
      "text/plain": [
       "  0%|          | 0/50 [00:00<?, ?it/s]"
      ]
     },
     "metadata": {},
     "output_type": "display_data"
    },
    {
     "name": "stderr",
     "output_type": "stream",
     "text": [
      "/root/anaconda3/envs/lapixdl/lib/python3.11/site-packages/torchmetrics/utilities/prints.py:36: UserWarning: Metric `AUROC` will save all targets and predictions in buffer. For large datasets this may lead to large memory footprint.\n",
      "  warnings.warn(*args, **kwargs)\n",
      "\u001b[1;38;5;39mCOMET INFO:\u001b[0m Artifact 'derick-amontagna/Networks:124.0.0' has been fully uploaded successfully\n",
      "\u001b[1;38;5;39mCOMET INFO:\u001b[0m Artifact 'derick-amontagna/Engine:124.0.0' has been fully uploaded successfully\n",
      "\u001b[1;38;5;39mCOMET INFO:\u001b[0m Artifact 'derick-amontagna/DataSetup:126.0.0' has been fully uploaded successfully\n",
      "/root/anaconda3/envs/lapixdl/lib/python3.11/site-packages/torchmetrics/utilities/prints.py:36: UserWarning: Metric `AUROC` will save all targets and predictions in buffer. For large datasets this may lead to large memory footprint.\n",
      "  warnings.warn(*args, **kwargs)\n"
     ]
    },
    {
     "name": "stdout",
     "output_type": "stream",
     "text": [
      "Loaded model from epoch 38 with best validation auc: 0.93%\n",
      "DONE\n"
     ]
    },
    {
     "name": "stderr",
     "output_type": "stream",
     "text": [
      "\u001b[1;38;5;39mCOMET INFO:\u001b[0m ---------------------------------------------------------------------------------------\n",
      "\u001b[1;38;5;39mCOMET INFO:\u001b[0m Comet.ml Experiment Summary\n",
      "\u001b[1;38;5;39mCOMET INFO:\u001b[0m ---------------------------------------------------------------------------------------\n",
      "\u001b[1;38;5;39mCOMET INFO:\u001b[0m   Data:\n",
      "\u001b[1;38;5;39mCOMET INFO:\u001b[0m     display_summary_level : 1\n",
      "\u001b[1;38;5;39mCOMET INFO:\u001b[0m     name                  : tight_pouf_5770\n",
      "\u001b[1;38;5;39mCOMET INFO:\u001b[0m     url                   : https://www.comet.com/derick-amontagna/adni1-s-siemens-dams-sgd-8/b4b828b8b7434f0ca7c5d384507fff22\n",
      "\u001b[1;38;5;39mCOMET INFO:\u001b[0m   Metrics [count] (min, max):\n",
      "\u001b[1;38;5;39mCOMET INFO:\u001b[0m     epoch [50]         : (0, 49)\n",
      "\u001b[1;38;5;39mCOMET INFO:\u001b[0m     loss [1970]        : (0.03389224410057068, 0.5760643482208252)\n",
      "\u001b[1;38;5;39mCOMET INFO:\u001b[0m     test_acc           : 0.6870229007633588\n",
      "\u001b[1;38;5;39mCOMET INFO:\u001b[0m     test_acc_target    : 0.728515625\n",
      "\u001b[1;38;5;39mCOMET INFO:\u001b[0m     test_acc_target_2  : 0.6390532544378699\n",
      "\u001b[1;38;5;39mCOMET INFO:\u001b[0m     test_auc           : 0.8071120977401733\n",
      "\u001b[1;38;5;39mCOMET INFO:\u001b[0m     test_auc_target    : 0.7707135081291199\n",
      "\u001b[1;38;5;39mCOMET INFO:\u001b[0m     test_auc_target_2  : 0.7202227711677551\n",
      "\u001b[1;38;5;39mCOMET INFO:\u001b[0m     test_loss          : 0.46256539805699853\n",
      "\u001b[1;38;5;39mCOMET INFO:\u001b[0m     test_loss_target   : 0.4772546843936046\n",
      "\u001b[1;38;5;39mCOMET INFO:\u001b[0m     test_loss_target_2 : 0.5961827100557688\n",
      "\u001b[1;38;5;39mCOMET INFO:\u001b[0m     train_acc [50]     : (0.5765387055837563, 0.9795368020304569)\n",
      "\u001b[1;38;5;39mCOMET INFO:\u001b[0m     train_auc [50]     : (0.6023762226104736, 0.9975999593734741)\n",
      "\u001b[1;38;5;39mCOMET INFO:\u001b[0m     train_loss [50]    : (0.07127288794192263, 0.49858358290594845)\n",
      "\u001b[1;38;5;39mCOMET INFO:\u001b[0m     val_acc [50]       : (0.3825, 0.881875)\n",
      "\u001b[1;38;5;39mCOMET INFO:\u001b[0m     val_auc [50]       : (0.6915001273155212, 0.9319788813591003)\n",
      "\u001b[1;38;5;39mCOMET INFO:\u001b[0m     val_loss [50]      : (0.26892498292028905, 0.8636716795712709)\n",
      "\u001b[1;38;5;39mCOMET INFO:\u001b[0m   Others:\n",
      "\u001b[1;38;5;39mCOMET INFO:\u001b[0m     best_epoch             : 38\n",
      "\u001b[1;38;5;39mCOMET INFO:\u001b[0m     best_val_metric        : 0.9319788813591003\n",
      "\u001b[1;38;5;39mCOMET INFO:\u001b[0m     optimizer_count        : 48\n",
      "\u001b[1;38;5;39mCOMET INFO:\u001b[0m     optimizer_id           : a6175d5da17447a2a07d393e335bcde5\n",
      "\u001b[1;38;5;39mCOMET INFO:\u001b[0m     optimizer_metric       : val_auc\n",
      "\u001b[1;38;5;39mCOMET INFO:\u001b[0m     optimizer_metric_value : 0.9319788813591003\n",
      "\u001b[1;38;5;39mCOMET INFO:\u001b[0m     optimizer_name         : SOURCE_Siemens\n",
      "\u001b[1;38;5;39mCOMET INFO:\u001b[0m     optimizer_objective    : maximize\n",
      "\u001b[1;38;5;39mCOMET INFO:\u001b[0m     optimizer_parameters   : {\"batch_size\": 32, \"dropout\": 0.4, \"lr\": 0.001, \"model\": \"DAMS\", \"momentum\": 0.9, \"seed\": 42, \"source\": \"Siemens\", \"target_1\": \"Philips\", \"target_2\": \"GE\", \"weight_decay\": 0.03}\n",
      "\u001b[1;38;5;39mCOMET INFO:\u001b[0m     optimizer_pid          : 2cbc3b118328dee7d281084e0d104063230c41da\n",
      "\u001b[1;38;5;39mCOMET INFO:\u001b[0m     optimizer_process      : 544623\n",
      "\u001b[1;38;5;39mCOMET INFO:\u001b[0m     optimizer_trial        : 1\n",
      "\u001b[1;38;5;39mCOMET INFO:\u001b[0m     optimizer_version      : 2.1.4\n",
      "\u001b[1;38;5;39mCOMET INFO:\u001b[0m   Parameters:\n",
      "\u001b[1;38;5;39mCOMET INFO:\u001b[0m     batch_size   : 32\n",
      "\u001b[1;38;5;39mCOMET INFO:\u001b[0m     dropout      : 0.4\n",
      "\u001b[1;38;5;39mCOMET INFO:\u001b[0m     lr           : 0.001\n",
      "\u001b[1;38;5;39mCOMET INFO:\u001b[0m     model        : DAMS\n",
      "\u001b[1;38;5;39mCOMET INFO:\u001b[0m     momentum     : 0.9\n",
      "\u001b[1;38;5;39mCOMET INFO:\u001b[0m     pos_weight   : 0.576\n",
      "\u001b[1;38;5;39mCOMET INFO:\u001b[0m     seed         : 42\n",
      "\u001b[1;38;5;39mCOMET INFO:\u001b[0m     source       : Siemens\n",
      "\u001b[1;38;5;39mCOMET INFO:\u001b[0m     target_1     : Philips\n",
      "\u001b[1;38;5;39mCOMET INFO:\u001b[0m     target_2     : GE\n",
      "\u001b[1;38;5;39mCOMET INFO:\u001b[0m     weight_decay : 0.03\n",
      "\u001b[1;38;5;39mCOMET INFO:\u001b[0m   Uploads:\n",
      "\u001b[1;38;5;39mCOMET INFO:\u001b[0m     artifact assets              : 3 (21.76 KB)\n",
      "\u001b[1;38;5;39mCOMET INFO:\u001b[0m     artifacts                    : 3\n",
      "\u001b[1;38;5;39mCOMET INFO:\u001b[0m     conda-environment-definition : 1\n",
      "\u001b[1;38;5;39mCOMET INFO:\u001b[0m     conda-info                   : 1\n",
      "\u001b[1;38;5;39mCOMET INFO:\u001b[0m     conda-specification          : 1\n",
      "\u001b[1;38;5;39mCOMET INFO:\u001b[0m     environment details          : 1\n",
      "\u001b[1;38;5;39mCOMET INFO:\u001b[0m     filename                     : 1\n",
      "\u001b[1;38;5;39mCOMET INFO:\u001b[0m     git metadata                 : 1\n",
      "\u001b[1;38;5;39mCOMET INFO:\u001b[0m     git-patch (uncompressed)     : 1 (1.10 MB)\n",
      "\u001b[1;38;5;39mCOMET INFO:\u001b[0m     installed packages           : 1\n",
      "\u001b[1;38;5;39mCOMET INFO:\u001b[0m     model graph                  : 1\n",
      "\u001b[1;38;5;39mCOMET INFO:\u001b[0m     model-element                : 1 (183.72 MB)\n",
      "\u001b[1;38;5;39mCOMET INFO:\u001b[0m     notebook                     : 1\n",
      "\u001b[1;38;5;39mCOMET INFO:\u001b[0m     os packages                  : 1\n",
      "\u001b[1;38;5;39mCOMET INFO:\u001b[0m     source_code                  : 1\n",
      "\u001b[1;38;5;39mCOMET INFO:\u001b[0m \n",
      "\u001b[1;38;5;39mCOMET INFO:\u001b[0m Please wait for assets to finish uploading (timeout is 10800 seconds)\n",
      "\u001b[1;38;5;39mCOMET INFO:\u001b[0m Still uploading 1 file(s), remaining 88.72 MB/183.72 MB\n",
      "\u001b[1;38;5;214mCOMET WARNING:\u001b[0m As you are running in a Jupyter environment, you will need to call `experiment.end()` when finished to ensure all metrics and code are logged before exiting.\n",
      "\u001b[1;38;5;39mCOMET INFO:\u001b[0m Experiment is live on comet.com https://www.comet.com/derick-amontagna/adni1-s-siemens-dams-sgd-8/8482d82e61644204b3157dce4ba3d11b\n",
      "\n",
      "\u001b[1;38;5;39mCOMET INFO:\u001b[0m Artifact 'Engine' version 125.0.0 created (previous was: 124.0.0)\n"
     ]
    },
    {
     "name": "stdout",
     "output_type": "stream",
     "text": [
      "Treinando esse modelo: DAMS\n",
      "Treinando com o source: Siemens/target: Philips/GE\n"
     ]
    },
    {
     "name": "stderr",
     "output_type": "stream",
     "text": [
      "\u001b[1;38;5;39mCOMET INFO:\u001b[0m Scheduling the upload of 1 assets: 1 local assets for a size of 8.21 KB, and 0 remote assets (will be linked, not uploaded). This can take some time.\n",
      "\u001b[1;38;5;39mCOMET INFO:\u001b[0m Artifact 'derick-amontagna/Engine:125.0.0' has started uploading asynchronously\n",
      "\u001b[1;38;5;39mCOMET INFO:\u001b[0m Artifact 'Networks' version 125.0.0 created (previous was: 124.0.0)\n",
      "\u001b[1;38;5;39mCOMET INFO:\u001b[0m Scheduling the upload of 1 assets: 1 local assets for a size of 5.82 KB, and 0 remote assets (will be linked, not uploaded). This can take some time.\n",
      "\u001b[1;38;5;39mCOMET INFO:\u001b[0m Artifact 'derick-amontagna/Networks:125.0.0' has started uploading asynchronously\n",
      "\u001b[1;38;5;39mCOMET INFO:\u001b[0m Artifact 'DataSetup' version 127.0.0 created (previous was: 126.0.0)\n",
      "\u001b[1;38;5;39mCOMET INFO:\u001b[0m Scheduling the upload of 1 assets: 1 local assets for a size of 7.72 KB, and 0 remote assets (will be linked, not uploaded). This can take some time.\n",
      "\u001b[1;38;5;39mCOMET INFO:\u001b[0m Artifact 'derick-amontagna/DataSetup:127.0.0' has started uploading asynchronously\n"
     ]
    },
    {
     "name": "stdout",
     "output_type": "stream",
     "text": [
      "Loading Dataloader\n",
      "Use DAMS Basic\n",
      "Create model\n",
      "Start Train\n"
     ]
    },
    {
     "data": {
      "application/vnd.jupyter.widget-view+json": {
       "model_id": "250ba5c1a5224b0e8fb5004ff5bdfd8a",
       "version_major": 2,
       "version_minor": 0
      },
      "text/plain": [
       "  0%|          | 0/50 [00:00<?, ?it/s]"
      ]
     },
     "metadata": {},
     "output_type": "display_data"
    },
    {
     "name": "stderr",
     "output_type": "stream",
     "text": [
      "/root/anaconda3/envs/lapixdl/lib/python3.11/site-packages/torchmetrics/utilities/prints.py:36: UserWarning: Metric `AUROC` will save all targets and predictions in buffer. For large datasets this may lead to large memory footprint.\n",
      "  warnings.warn(*args, **kwargs)\n",
      "\u001b[1;38;5;39mCOMET INFO:\u001b[0m Artifact 'derick-amontagna/Engine:125.0.0' has been fully uploaded successfully\n",
      "\u001b[1;38;5;39mCOMET INFO:\u001b[0m Artifact 'derick-amontagna/DataSetup:127.0.0' has been fully uploaded successfully\n",
      "\u001b[1;38;5;39mCOMET INFO:\u001b[0m Artifact 'derick-amontagna/Networks:125.0.0' has been fully uploaded successfully\n",
      "/root/anaconda3/envs/lapixdl/lib/python3.11/site-packages/torchmetrics/utilities/prints.py:36: UserWarning: Metric `AUROC` will save all targets and predictions in buffer. For large datasets this may lead to large memory footprint.\n",
      "  warnings.warn(*args, **kwargs)\n"
     ]
    },
    {
     "name": "stdout",
     "output_type": "stream",
     "text": [
      "terminating because of early stopping!\n",
      "Loaded model from epoch 9 with best validation auc: 0.91%\n",
      "DONE\n"
     ]
    },
    {
     "name": "stderr",
     "output_type": "stream",
     "text": [
      "\u001b[1;38;5;39mCOMET INFO:\u001b[0m ---------------------------------------------------------------------------------------\n",
      "\u001b[1;38;5;39mCOMET INFO:\u001b[0m Comet.ml Experiment Summary\n",
      "\u001b[1;38;5;39mCOMET INFO:\u001b[0m ---------------------------------------------------------------------------------------\n",
      "\u001b[1;38;5;39mCOMET INFO:\u001b[0m   Data:\n",
      "\u001b[1;38;5;39mCOMET INFO:\u001b[0m     display_summary_level : 1\n",
      "\u001b[1;38;5;39mCOMET INFO:\u001b[0m     name                  : autonomous_tropics_3370\n",
      "\u001b[1;38;5;39mCOMET INFO:\u001b[0m     url                   : https://www.comet.com/derick-amontagna/adni1-s-siemens-dams-sgd-8/8482d82e61644204b3157dce4ba3d11b\n",
      "\u001b[1;38;5;39mCOMET INFO:\u001b[0m   Metrics [count] (min, max):\n",
      "\u001b[1;38;5;39mCOMET INFO:\u001b[0m     epoch [29]         : (0, 28)\n",
      "\u001b[1;38;5;39mCOMET INFO:\u001b[0m     loss [572]         : (0.017447087913751602, 0.550949215888977)\n",
      "\u001b[1;38;5;39mCOMET INFO:\u001b[0m     test_acc           : 0.7552083333333334\n",
      "\u001b[1;38;5;39mCOMET INFO:\u001b[0m     test_acc_target    : 0.6861979166666666\n",
      "\u001b[1;38;5;39mCOMET INFO:\u001b[0m     test_acc_target_2  : 0.6966911764705882\n",
      "\u001b[1;38;5;39mCOMET INFO:\u001b[0m     test_auc           : 0.8437813520431519\n",
      "\u001b[1;38;5;39mCOMET INFO:\u001b[0m     test_auc_target    : 0.8091329336166382\n",
      "\u001b[1;38;5;39mCOMET INFO:\u001b[0m     test_auc_target_2  : 0.753700315952301\n",
      "\u001b[1;38;5;39mCOMET INFO:\u001b[0m     test_loss          : 0.6327174482867122\n",
      "\u001b[1;38;5;39mCOMET INFO:\u001b[0m     test_loss_target   : 0.6176541391760111\n",
      "\u001b[1;38;5;39mCOMET INFO:\u001b[0m     test_loss_target_2 : 0.6898119763854672\n",
      "\u001b[1;38;5;39mCOMET INFO:\u001b[0m     train_acc [29]     : (0.5453680203045685, 0.9935755076142132)\n",
      "\u001b[1;38;5;39mCOMET INFO:\u001b[0m     train_auc [29]     : (0.5632991194725037, 0.9996658563613892)\n",
      "\u001b[1;38;5;39mCOMET INFO:\u001b[0m     train_loss [29]    : (0.03158550447581081, 0.5037945746467803)\n",
      "\u001b[1;38;5;39mCOMET INFO:\u001b[0m     val_acc [29]       : (0.3884375, 0.8578125)\n",
      "\u001b[1;38;5;39mCOMET INFO:\u001b[0m     val_auc [29]       : (0.6738770604133606, 0.9099966287612915)\n",
      "\u001b[1;38;5;39mCOMET INFO:\u001b[0m     val_loss [29]      : (0.3597705249488354, 1.0118238416779786)\n",
      "\u001b[1;38;5;39mCOMET INFO:\u001b[0m   Others:\n",
      "\u001b[1;38;5;39mCOMET INFO:\u001b[0m     best_epoch             : 9\n",
      "\u001b[1;38;5;39mCOMET INFO:\u001b[0m     best_val_metric        : 0.9099966287612915\n",
      "\u001b[1;38;5;39mCOMET INFO:\u001b[0m     optimizer_count        : 49\n",
      "\u001b[1;38;5;39mCOMET INFO:\u001b[0m     optimizer_id           : a6175d5da17447a2a07d393e335bcde5\n",
      "\u001b[1;38;5;39mCOMET INFO:\u001b[0m     optimizer_metric       : val_auc\n",
      "\u001b[1;38;5;39mCOMET INFO:\u001b[0m     optimizer_metric_value : 0.9099966287612915\n",
      "\u001b[1;38;5;39mCOMET INFO:\u001b[0m     optimizer_name         : SOURCE_Siemens\n",
      "\u001b[1;38;5;39mCOMET INFO:\u001b[0m     optimizer_objective    : maximize\n",
      "\u001b[1;38;5;39mCOMET INFO:\u001b[0m     optimizer_parameters   : {\"batch_size\": 64, \"dropout\": 0.2, \"lr\": 0.001, \"model\": \"DAMS\", \"momentum\": 0.9, \"seed\": 42, \"source\": \"Siemens\", \"target_1\": \"Philips\", \"target_2\": \"GE\", \"weight_decay\": 0.02}\n",
      "\u001b[1;38;5;39mCOMET INFO:\u001b[0m     optimizer_pid          : 4883543272983582b7442f70fe1540026609c695\n",
      "\u001b[1;38;5;39mCOMET INFO:\u001b[0m     optimizer_process      : 544623\n",
      "\u001b[1;38;5;39mCOMET INFO:\u001b[0m     optimizer_trial        : 1\n",
      "\u001b[1;38;5;39mCOMET INFO:\u001b[0m     optimizer_version      : 2.1.4\n",
      "\u001b[1;38;5;39mCOMET INFO:\u001b[0m   Parameters:\n",
      "\u001b[1;38;5;39mCOMET INFO:\u001b[0m     batch_size   : 64\n",
      "\u001b[1;38;5;39mCOMET INFO:\u001b[0m     dropout      : 0.2\n",
      "\u001b[1;38;5;39mCOMET INFO:\u001b[0m     lr           : 0.001\n",
      "\u001b[1;38;5;39mCOMET INFO:\u001b[0m     model        : DAMS\n",
      "\u001b[1;38;5;39mCOMET INFO:\u001b[0m     momentum     : 0.9\n",
      "\u001b[1;38;5;39mCOMET INFO:\u001b[0m     pos_weight   : 0.576\n",
      "\u001b[1;38;5;39mCOMET INFO:\u001b[0m     seed         : 42\n",
      "\u001b[1;38;5;39mCOMET INFO:\u001b[0m     source       : Siemens\n",
      "\u001b[1;38;5;39mCOMET INFO:\u001b[0m     target_1     : Philips\n",
      "\u001b[1;38;5;39mCOMET INFO:\u001b[0m     target_2     : GE\n",
      "\u001b[1;38;5;39mCOMET INFO:\u001b[0m     weight_decay : 0.02\n",
      "\u001b[1;38;5;39mCOMET INFO:\u001b[0m   Uploads:\n",
      "\u001b[1;38;5;39mCOMET INFO:\u001b[0m     artifact assets              : 3 (21.76 KB)\n",
      "\u001b[1;38;5;39mCOMET INFO:\u001b[0m     artifacts                    : 3\n",
      "\u001b[1;38;5;39mCOMET INFO:\u001b[0m     conda-environment-definition : 1\n",
      "\u001b[1;38;5;39mCOMET INFO:\u001b[0m     conda-info                   : 1\n",
      "\u001b[1;38;5;39mCOMET INFO:\u001b[0m     conda-specification          : 1\n",
      "\u001b[1;38;5;39mCOMET INFO:\u001b[0m     environment details          : 1\n",
      "\u001b[1;38;5;39mCOMET INFO:\u001b[0m     filename                     : 1\n",
      "\u001b[1;38;5;39mCOMET INFO:\u001b[0m     git metadata                 : 1\n",
      "\u001b[1;38;5;39mCOMET INFO:\u001b[0m     git-patch (uncompressed)     : 1 (1.11 MB)\n",
      "\u001b[1;38;5;39mCOMET INFO:\u001b[0m     installed packages           : 1\n",
      "\u001b[1;38;5;39mCOMET INFO:\u001b[0m     model graph                  : 1\n",
      "\u001b[1;38;5;39mCOMET INFO:\u001b[0m     model-element                : 1 (183.72 MB)\n",
      "\u001b[1;38;5;39mCOMET INFO:\u001b[0m     notebook                     : 1\n",
      "\u001b[1;38;5;39mCOMET INFO:\u001b[0m     os packages                  : 1\n",
      "\u001b[1;38;5;39mCOMET INFO:\u001b[0m     source_code                  : 1\n",
      "\u001b[1;38;5;39mCOMET INFO:\u001b[0m \n",
      "\u001b[1;38;5;39mCOMET INFO:\u001b[0m Please wait for assets to finish uploading (timeout is 10800 seconds)\n",
      "\u001b[1;38;5;39mCOMET INFO:\u001b[0m Still uploading 1 file(s), remaining 98.72 MB/183.72 MB\n",
      "\u001b[1;38;5;214mCOMET WARNING:\u001b[0m As you are running in a Jupyter environment, you will need to call `experiment.end()` when finished to ensure all metrics and code are logged before exiting.\n",
      "\u001b[1;38;5;39mCOMET INFO:\u001b[0m Experiment is live on comet.com https://www.comet.com/derick-amontagna/adni1-s-siemens-dams-sgd-8/52d547d07d28437d996bea5121073771\n",
      "\n",
      "\u001b[1;38;5;39mCOMET INFO:\u001b[0m Artifact 'Engine' version 126.0.0 created (previous was: 125.0.0)\n"
     ]
    },
    {
     "name": "stdout",
     "output_type": "stream",
     "text": [
      "Treinando esse modelo: DAMS\n",
      "Treinando com o source: Siemens/target: Philips/GE\n"
     ]
    },
    {
     "name": "stderr",
     "output_type": "stream",
     "text": [
      "\u001b[1;38;5;39mCOMET INFO:\u001b[0m Scheduling the upload of 1 assets: 1 local assets for a size of 8.21 KB, and 0 remote assets (will be linked, not uploaded). This can take some time.\n",
      "\u001b[1;38;5;39mCOMET INFO:\u001b[0m Artifact 'derick-amontagna/Engine:126.0.0' has started uploading asynchronously\n",
      "\u001b[1;38;5;39mCOMET INFO:\u001b[0m Artifact 'Networks' version 126.0.0 created (previous was: 125.0.0)\n",
      "\u001b[1;38;5;39mCOMET INFO:\u001b[0m Scheduling the upload of 1 assets: 1 local assets for a size of 5.82 KB, and 0 remote assets (will be linked, not uploaded). This can take some time.\n",
      "\u001b[1;38;5;39mCOMET INFO:\u001b[0m Artifact 'derick-amontagna/Networks:126.0.0' has started uploading asynchronously\n",
      "\u001b[1;38;5;39mCOMET INFO:\u001b[0m Artifact 'DataSetup' version 128.0.0 created (previous was: 127.0.0)\n",
      "\u001b[1;38;5;39mCOMET INFO:\u001b[0m Scheduling the upload of 1 assets: 1 local assets for a size of 7.72 KB, and 0 remote assets (will be linked, not uploaded). This can take some time.\n",
      "\u001b[1;38;5;39mCOMET INFO:\u001b[0m Artifact 'derick-amontagna/DataSetup:128.0.0' has started uploading asynchronously\n"
     ]
    },
    {
     "name": "stdout",
     "output_type": "stream",
     "text": [
      "Loading Dataloader\n",
      "Use DAMS Basic\n",
      "Create model\n",
      "Start Train\n"
     ]
    },
    {
     "data": {
      "application/vnd.jupyter.widget-view+json": {
       "model_id": "d55a34c9db2846fb97e65ae32e92eacc",
       "version_major": 2,
       "version_minor": 0
      },
      "text/plain": [
       "  0%|          | 0/50 [00:00<?, ?it/s]"
      ]
     },
     "metadata": {},
     "output_type": "display_data"
    },
    {
     "name": "stderr",
     "output_type": "stream",
     "text": [
      "/root/anaconda3/envs/lapixdl/lib/python3.11/site-packages/torchmetrics/utilities/prints.py:36: UserWarning: Metric `AUROC` will save all targets and predictions in buffer. For large datasets this may lead to large memory footprint.\n",
      "  warnings.warn(*args, **kwargs)\n",
      "\u001b[1;38;5;39mCOMET INFO:\u001b[0m Artifact 'derick-amontagna/Networks:126.0.0' has been fully uploaded successfully\n",
      "\u001b[1;38;5;39mCOMET INFO:\u001b[0m Artifact 'derick-amontagna/DataSetup:128.0.0' has been fully uploaded successfully\n",
      "\u001b[1;38;5;39mCOMET INFO:\u001b[0m Artifact 'derick-amontagna/Engine:126.0.0' has been fully uploaded successfully\n",
      "/root/anaconda3/envs/lapixdl/lib/python3.11/site-packages/torchmetrics/utilities/prints.py:36: UserWarning: Metric `AUROC` will save all targets and predictions in buffer. For large datasets this may lead to large memory footprint.\n",
      "  warnings.warn(*args, **kwargs)\n"
     ]
    }
   ],
   "source": [
    "\"\"\"\n",
    "Trains a PyTorch image classification model using device-agnostic code.\n",
    "\"\"\"\n",
    "\n",
    "# Initialize the Comet SDK\n",
    "comet_ml.login(project_name=f\"ADNI1-s-{SOURCE}-{EXP_NUMBER}\")\n",
    "opt = comet_ml.Optimizer(config=config, verbose=0)\n",
    "\n",
    "for exp in opt.get_experiments():\n",
    "    # exp.log_parameter(\"random_state\", 42)\n",
    "    print(f'Treinando esse modelo: {exp.get_parameter(\"model\")}')\n",
    "    print(\n",
    "        f'Treinando com o source: {exp.get_parameter(\"source\")}/target: {exp.get_parameter(\"target_1\")}/{exp.get_parameter(\"target_2\")}'\n",
    "    )\n",
    "\n",
    "    artifact = Artifact(\"Engine\", \"Code\")\n",
    "    artifact.add(\"teste/engine.py\")\n",
    "\n",
    "    exp.log_artifact(artifact)\n",
    "\n",
    "    artifact = Artifact(\"Networks\", \"Code\")\n",
    "    artifact.add(\"common/networks.py\")\n",
    "\n",
    "    exp.log_artifact(artifact)\n",
    "\n",
    "    artifact = Artifact(\"DataSetup\", \"Code\")\n",
    "    artifact.add(\"common/data_setup.py\")\n",
    "\n",
    "    exp.log_artifact(artifact)\n",
    "\n",
    "    MODEL = exp.get_parameter(\"model\")\n",
    "    SOURCE = exp.get_parameter(\"source\")\n",
    "    TARGET_1 = exp.get_parameter(\"target_1\")\n",
    "    TARGET_2 = exp.get_parameter(\"target_2\")\n",
    "    seed_everything(exp.get_parameter(\"seed\"))\n",
    "\n",
    "    train_data_custom = MRI_NII_2D.Dataset2D(\n",
    "        domain=DOMAINS[f\"ADNI1-{SOURCE}\"],\n",
    "        split=\"train\",\n",
    "        transform=data_transforms[\"train_alt\"],\n",
    "    )\n",
    "    val_data_custom = MRI_NII_2D.Dataset2D(\n",
    "        domain=DOMAINS[f\"ADNI1-{SOURCE}\"],\n",
    "        split=\"val\",\n",
    "        transform=data_transforms[\"val_test\"],\n",
    "    )\n",
    "    test_data_custom = MRI_NII_2D.Dataset2D(\n",
    "        domain=DOMAINS[f\"ADNI1-{SOURCE}\"],\n",
    "        split=\"test\",\n",
    "        transform=data_transforms[\"val_test\"],\n",
    "    )\n",
    "\n",
    "    val_data_target = MRI_NII_2D.Dataset2D(\n",
    "        domain=DOMAINS[f\"ADNI1-{TARGET_1}\"],\n",
    "        split=\"val\",\n",
    "        transform=data_transforms[\"val_test\"],\n",
    "    )\n",
    "    test_data_target = MRI_NII_2D.Dataset2D(\n",
    "        domain=DOMAINS[f\"ADNI1-{TARGET_1}\"],\n",
    "        split=\"test\",\n",
    "        transform=data_transforms[\"val_test\"],\n",
    "    )\n",
    "\n",
    "    val_data_target_2 = MRI_NII_2D.Dataset2D(\n",
    "        domain=DOMAINS[f\"ADNI1-{TARGET_2}\"],\n",
    "        split=\"val\",\n",
    "        transform=data_transforms[\"val_test\"],\n",
    "    )\n",
    "    test_data_target_2 = MRI_NII_2D.Dataset2D(\n",
    "        domain=DOMAINS[f\"ADNI1-{TARGET_2}\"],\n",
    "        split=\"test\",\n",
    "        transform=data_transforms[\"val_test\"],\n",
    "    )\n",
    "\n",
    "    train_dataloader = DataLoader(\n",
    "        dataset=train_data_custom,  # use custom created train Dataset\n",
    "        batch_size=exp.get_parameter(\"batch_size\"),  # how many samples per batch?\n",
    "        num_workers=NUM_WORKES,  # how many subprocesses to use for data loading? (higher = more)\n",
    "        shuffle=True,\n",
    "        pin_memory=True,\n",
    "        # generator=g,\n",
    "    )  # shuffle the data?\n",
    "    val_dataloader = DataLoader(\n",
    "        dataset=val_data_custom,  # use custom created test Dataset\n",
    "        batch_size=exp.get_parameter(\"batch_size\"),\n",
    "        num_workers=NUM_WORKES,\n",
    "        shuffle=False,\n",
    "        pin_memory=True,\n",
    "        # generator=g,\n",
    "    )  # don't usually need to shuffle testing data\n",
    "    test_dataloader = DataLoader(\n",
    "        dataset=test_data_custom,  # use custom created test Dataset\n",
    "        batch_size=exp.get_parameter(\"batch_size\"),\n",
    "        num_workers=NUM_WORKES,\n",
    "        shuffle=False,\n",
    "        pin_memory=True,\n",
    "        # generator=g,\n",
    "    )  # don't usually need to shuffle testing data\n",
    "\n",
    "    val_target = DataLoader(\n",
    "        dataset=val_data_target,  # use custom created test Dataset\n",
    "        batch_size=exp.get_parameter(\"batch_size\"),\n",
    "        num_workers=NUM_WORKES,\n",
    "        shuffle=False,\n",
    "        pin_memory=True,\n",
    "        # generator=g,\n",
    "    )  # don't usually need to shuffle testing data\n",
    "    test_target = DataLoader(\n",
    "        dataset=test_data_target,  # use custom created test Dataset\n",
    "        batch_size=exp.get_parameter(\"batch_size\"),\n",
    "        num_workers=NUM_WORKES,\n",
    "        shuffle=False,\n",
    "        pin_memory=True,\n",
    "        # generator=g,\n",
    "    )  # don't usually need to shuffle testing data\n",
    "\n",
    "    val_target_2 = DataLoader(\n",
    "        dataset=val_data_target_2,  # use custom created test Dataset\n",
    "        batch_size=exp.get_parameter(\"batch_size\"),\n",
    "        num_workers=NUM_WORKES,\n",
    "        shuffle=False,\n",
    "        pin_memory=True,\n",
    "        # generator=g,\n",
    "    )  # don't usually need to shuffle testing data\n",
    "    test_target_2 = DataLoader(\n",
    "        dataset=test_data_target_2,  # use custom created test Dataset\n",
    "        batch_size=exp.get_parameter(\"batch_size\"),\n",
    "        num_workers=NUM_WORKES,\n",
    "        shuffle=False,\n",
    "        pin_memory=True,\n",
    "        # generator=g,\n",
    "    )  # don't usually need to shuffle testing data\n",
    "    print(\"Loading Dataloader\")\n",
    "    # Create model with help from model_builder.py\n",
    "\n",
    "    if MODEL in [\"DAMS\"]:\n",
    "        model = DAMS(dropout=exp.get_parameter(\"dropout\")).to(device)\n",
    "    elif MODEL in [\"densenet201MOD\"]:\n",
    "        model = DenseNet201WithCustomClassifierDropout(dropout_rate=0.4).to(device)\n",
    "    elif MODEL in [\"densenet169MOD\"]:\n",
    "        model = DenseNet169WithCustomClassifierDropout(dropout_rate=0.4).to(device)\n",
    "    else:\n",
    "        model = ARCHITECTURES[MODEL][\"model\"](\n",
    "            weights=ARCHITECTURES[MODEL][\"weights\"]\n",
    "        ).to(\n",
    "            device\n",
    "        )  # ().to(device)#\n",
    "        # Congelar a primeira metade das camadas convolucionais\n",
    "        for name, param in model.named_parameters():\n",
    "            if name.startswith((\"conv1\", \"bn1\", \"layer1\", \"layer2\")):\n",
    "                param.requires_grad = False\n",
    "\n",
    "    if MODEL in [\"densenet121\", \"densenet161\", \"densenet169\", \"densenet201\"]:\n",
    "        num_features = model.classifier.in_features\n",
    "        model.classifier = Classifier(num_features).to(device)\n",
    "    elif MODEL in [\"efficientnet_b0\", \"efficientnet_b4\"]:\n",
    "        num_features = model.classifier[1].in_features\n",
    "        model.classifier[1] = Classifier(num_features).to(device)\n",
    "    elif MODEL in [\"vgg16\"]:\n",
    "        num_features = model.classifier[6].in_features\n",
    "        model.classifier[6] = Classifier(num_features).to(device)\n",
    "        for param in model.classifier.parameters():\n",
    "            param.requires_grad = True  # Mantém treinável\n",
    "    elif MODEL in [\"DAMS\"]:\n",
    "        print(\"Use DAMS Basic\")\n",
    "    elif MODEL in [\"densenet169MOD\"]:\n",
    "        print(\"Use densenet169MOD\")\n",
    "    elif MODEL in [\"densenet201MOD\"]:\n",
    "        print(\"Use densenet201MOD\")\n",
    "    else:\n",
    "        model.fc = Classifier(512, dropout=exp.get_parameter(\"dropout\")).to(device)\n",
    "    print(\"Create model\")\n",
    "\n",
    "    # for param in model.backbone.parameters():\n",
    "    #    param.requires_grad = False\n",
    "    # for param in model.backbone.fc.parameters():\n",
    "    #    param.requires_grad = True\n",
    "    if SOURCE == \"GE\":\n",
    "        # pos_weight = torch.tensor([5856 / 9312]).to(device)\n",
    "        # exp.log_parameter('pos_weight', 5856 / 9312)\n",
    "        pos_weight = torch.tensor([6400 / 10144]).to(device)\n",
    "        exp.log_parameter(\"pos_weight\", 6400 / 10144)\n",
    "    elif SOURCE == \"Siemens\":\n",
    "        # pos_weight = torch.tensor([5856 / 9312]).to(device)\n",
    "        # exp.log_parameter('pos_weight', 5856 / 9312)\n",
    "        pos_weight = torch.tensor([4608 / 8000]).to(device)\n",
    "        exp.log_parameter(\"pos_weight\", 4608 / 8000)\n",
    "    elif SOURCE == \"Philips\":\n",
    "        # pos_weight = torch.tensor([2144 / 3456]).to(device)\n",
    "        # exp.log_parameter('pos_weight', 2144 / 3456)\n",
    "        pos_weight = torch.tensor([1792 / 2688]).to(device)\n",
    "        exp.log_parameter(\"pos_weight\", 1792 / 2688)\n",
    "    loss_fn = torch.nn.BCEWithLogitsLoss(pos_weight=pos_weight)\n",
    "    optimizer = torch.optim.SGD(\n",
    "        model.parameters(),\n",
    "        lr=exp.get_parameter(\"lr\"),\n",
    "        weight_decay=exp.get_parameter(\"weight_decay\"),\n",
    "        momentum=0.9,\n",
    "    )\n",
    "    # scheduler = torch.optim.lr_scheduler.CosineAnnealingLR(optimizer, T_max=7500, eta_min=0.004)\n",
    "    # scheduler = torch.optim.lr_scheduler.StepLR(optimizer, step_size=6, gamma=0.2)\n",
    "\n",
    "    # Start training with help from engine.py\n",
    "    print(\"Start Train\")\n",
    "    result = engine.train(\n",
    "        model=model,\n",
    "        train_dataloader=train_dataloader,\n",
    "        val_dataloader=val_dataloader,\n",
    "        test_dataloader=test_dataloader,\n",
    "        val_target=val_target,\n",
    "        test_target=test_target,\n",
    "        val_target_2=val_target_2,\n",
    "        test_target_2=test_target_2,\n",
    "        loss_fn=loss_fn,\n",
    "        optimizer=optimizer,\n",
    "        scheduler=None,\n",
    "        epochs=NUM_EPOCHS,\n",
    "        early_stop_patience=20,\n",
    "        exp=exp,\n",
    "        checkpoint_path=rf\"teste/models/{exp.get_name()}.pth\",\n",
    "        device=device,\n",
    "    )"
   ]
  }
 ],
 "metadata": {
  "kernelspec": {
   "display_name": ".venv",
   "language": "python",
   "name": "python3"
  },
  "language_info": {
   "codemirror_mode": {
    "name": "ipython",
    "version": 3
   },
   "file_extension": ".py",
   "mimetype": "text/x-python",
   "name": "python",
   "nbconvert_exporter": "python",
   "pygments_lexer": "ipython3",
   "version": "3.11.5"
  }
 },
 "nbformat": 4,
 "nbformat_minor": 4
}
