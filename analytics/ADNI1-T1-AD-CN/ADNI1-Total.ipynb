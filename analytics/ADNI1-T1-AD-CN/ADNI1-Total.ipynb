{
 "cells": [
  {
   "cell_type": "code",
   "execution_count": null,
   "metadata": {},
   "outputs": [],
   "source": [
    "import os\n",
    "import pandas as pd\n",
    "\n",
    "pd.set_option(\"display.max_columns\", None)\n",
    "pd.set_option(\"display.max_rows\", None)"
   ]
  },
  {
   "cell_type": "code",
   "execution_count": null,
   "metadata": {},
   "outputs": [],
   "source": [
    "df_id = pd.read_csv(os.path.join(os.getcwd(), r\"ADNI1-Total.csv\"))\n",
    "\n",
    "# df_id_not_type = df_id[~df_id[\"Imaging Protocol\"].str.contains(\"Type\")]\n",
    "# df_id_not_type[\"Imaging Protocol\"] = (\n",
    "#    df_id_not_type[\"Imaging Protocol\"] + \";Acquisition Type=3D\"\n",
    "# )\n",
    "# df_id_type = df_id[df_id[\"Imaging Protocol\"].str.contains(\"Type\")]\n",
    "# df_id = pd.concat([df_id_not_type, df_id_type])\n",
    "\n",
    "\n",
    "# df_id[[\"Manufacturer\", \"Model\", \"Type\"]] = df_id[\"Imaging Protocol\"].str.extract(\n",
    "#    \"Manufacturer=(.+);Mfg Model=(.+);Acquisition Type=(.+)\", expand=True\n",
    "# )\n",
    "df_id[[\"Manufacturer\", \"Model\", \"Type\"]] = df_id[\"Imaging Protocol\"].str.extract(\n",
    "    \"Manufacturer=(.+);Mfg Model=(.+);Acquisition Type=(.+)\", expand=True\n",
    ")\n",
    "# df_id[\"Type\"] = df_id[\"Type\"].fillna(\"3D\")\n",
    "df_id = df_id[df_id[\"Type\"] == \"3D\"]\n",
    "\n",
    "df_id = df_id.replace(\n",
    "    {\n",
    "        \"GE MEDICAL SYSTEMS\": \"GE\",\n",
    "        \"Philips Healthcare\": \"Philips\",\n",
    "        \"Philips Medical Systems\": \"Philips\",\n",
    "        \"SIEMENS|PixelMed\": \"Siemens\",\n",
    "        \"SIEMENS\": \"Siemens\",\n",
    "    },\n",
    "    regex=False,\n",
    ")\n",
    "print(df_id.Description.nunique())\n",
    "df_id = df_id[\n",
    "    (df_id[\"Description\"].str.contains(\"MP\"))\n",
    "    & (~df_id[\"Description\"].str.contains(\"TEMPLE\"))\n",
    "    & (~df_id[\"Visit\"].str.contains(\"ADNI Baseline\"))\n",
    "    & (~df_id[\"Visit\"].str.contains(\"No Visit Defined\"))\n",
    "]\n",
    "\n",
    "df_ge = df_id[\n",
    "    (df_id[\"Manufacturer\"] == \"GE\")\n",
    "    & (df_id[\"Model\"].isin([\"SIGNA EXCITE\", \"SIGNA HDx\", \"GENESIS_SIGNA\"]))\n",
    "]\n",
    "df_philips = df_id[\n",
    "    (df_id[\"Manufacturer\"] == \"Philips\")\n",
    "    & (df_id[\"Model\"].isin([\"Intera\", \"Intera Achieva\", \"Achieva\", \"Gyroscan Intera\"]))\n",
    "]\n",
    "df_siemens = df_id[\n",
    "    (df_id[\"Manufacturer\"] == \"Siemens\")\n",
    "    & (\n",
    "        df_id[\"Model\"].isin(\n",
    "            [\"Symphony\", \"Sonata\", \"Allegra\", \"Avanto\", \"Trio\", \"TrioTim\"]\n",
    "        )\n",
    "    )\n",
    "]\n",
    "df_id = pd.concat([df_ge, df_philips, df_siemens])"
   ]
  },
  {
   "cell_type": "code",
   "execution_count": null,
   "metadata": {},
   "outputs": [],
   "source": [
    "df_id[\"Image ID\"].nunique()"
   ]
  },
  {
   "cell_type": "code",
   "execution_count": null,
   "metadata": {},
   "outputs": [],
   "source": [
    "df_id[\"Imaging Protocol\"].iloc[0]"
   ]
  },
  {
   "cell_type": "code",
   "execution_count": null,
   "metadata": {},
   "outputs": [],
   "source": [
    "teste = df_id[(df_id[\"Manufacturer\"] == \"Philips\")]\n",
    "teste.Model.unique()"
   ]
  },
  {
   "cell_type": "code",
   "execution_count": null,
   "metadata": {},
   "outputs": [],
   "source": [
    "df_id.groupby(\"Manufacturer\")[\"Image ID\"].nunique()"
   ]
  },
  {
   "cell_type": "code",
   "execution_count": null,
   "metadata": {},
   "outputs": [],
   "source": [
    "df_id[\"Subject ID\"].nunique()"
   ]
  },
  {
   "cell_type": "code",
   "execution_count": null,
   "metadata": {},
   "outputs": [],
   "source": [
    "df_id[\"Image ID\"].nunique()"
   ]
  },
  {
   "cell_type": "code",
   "execution_count": null,
   "metadata": {},
   "outputs": [],
   "source": [
    "df_id[(df_id[\"Subject ID\"] == \"010_S_0419\")].sort_values(by=[\"Visit\"])"
   ]
  },
  {
   "cell_type": "code",
   "execution_count": null,
   "metadata": {},
   "outputs": [],
   "source": [
    "unique_groups = df_id.groupby(\"Subject ID\")[\"Research Group\"].unique()\n",
    "\n",
    "inconsistent_subjects = unique_groups[unique_groups.apply(len) > 1]\n",
    "print(\"Sujeitos com mais de um Research Group:\")\n",
    "print(inconsistent_subjects)"
   ]
  },
  {
   "cell_type": "code",
   "execution_count": null,
   "metadata": {},
   "outputs": [],
   "source": [
    "df_id.groupby([\"Visit\"])[\"Subject ID\"].nunique()"
   ]
  },
  {
   "cell_type": "code",
   "execution_count": null,
   "metadata": {},
   "outputs": [],
   "source": [
    "df_id.groupby([\"Visit\"])[\"Image ID\"].nunique()"
   ]
  },
  {
   "cell_type": "code",
   "execution_count": null,
   "metadata": {},
   "outputs": [],
   "source": [
    "df_id.groupby([\"Visit\", \"Manufacturer\", \"Research Group\"])[\"Image ID\"].nunique()"
   ]
  },
  {
   "cell_type": "code",
   "execution_count": null,
   "metadata": {},
   "outputs": [],
   "source": [
    "df_id.groupby([\"Visit\", \"Manufacturer\", \"Research Group\", \"Sex\"])[\"Image ID\"].nunique()"
   ]
  },
  {
   "cell_type": "code",
   "execution_count": null,
   "metadata": {},
   "outputs": [],
   "source": [
    "df_id.groupby([\"Visit\", \"Research Group\"])[\"Image ID\"].nunique()"
   ]
  },
  {
   "cell_type": "code",
   "execution_count": null,
   "metadata": {},
   "outputs": [],
   "source": [
    "df_id.groupby([\"Visit\", \"Research Group\"])[\"Image ID\"].nunique()"
   ]
  },
  {
   "cell_type": "code",
   "execution_count": null,
   "metadata": {},
   "outputs": [],
   "source": [
    "df_id.groupby([\"Manufacturer\", \"Research Group\"])[\"Image ID\"].nunique()"
   ]
  },
  {
   "cell_type": "code",
   "execution_count": null,
   "metadata": {},
   "outputs": [],
   "source": [
    "# test = df_id[df_id[\"Visit\"].isin([\"ADNI Screening\"])]\n",
    "df_id.groupby([\"Research Group\"])[\"Image ID\"].nunique()"
   ]
  },
  {
   "cell_type": "code",
   "execution_count": null,
   "metadata": {},
   "outputs": [],
   "source": [
    "df_id[\"Image ID\"].nunique()"
   ]
  },
  {
   "cell_type": "code",
   "execution_count": null,
   "metadata": {},
   "outputs": [],
   "source": [
    "df_id[df_id[\"Subject ID\"] == \"002_S_0413\"]"
   ]
  },
  {
   "cell_type": "code",
   "execution_count": null,
   "metadata": {},
   "outputs": [],
   "source": [
    "df_id[df_id[\"Subject ID\"] == \"010_S_0419\"]"
   ]
  },
  {
   "cell_type": "code",
   "execution_count": null,
   "metadata": {},
   "outputs": [],
   "source": [
    "df_id[df_id[\"Subject ID\"] == \"128_S_0167\"]"
   ]
  },
  {
   "cell_type": "code",
   "execution_count": null,
   "metadata": {},
   "outputs": [],
   "source": [
    "df_id.sort_values([\"Subject ID\", \"Visit\", \"Manufacturer\"], inplace=True)\n",
    "firsts = df_id.groupby([\"Subject ID\", \"Visit\"], as_index=False).first()\n",
    "\n",
    "\n",
    "def one_manufacturer(df):\n",
    "    output = pd.DataFrame()\n",
    "    all_sub_id = df[\"Subject ID\"].unique()\n",
    "    for sub_id in all_sub_id:\n",
    "        df_sub_id = df[df[\"Subject ID\"] == sub_id]\n",
    "        manufacturer_unique = df_sub_id[\"Manufacturer\"].unique()[0]\n",
    "        df_sub_id = df_sub_id[(df_sub_id[\"Manufacturer\"] == manufacturer_unique)]\n",
    "        output = pd.concat([output, df_sub_id])\n",
    "    return output\n",
    "\n",
    "\n",
    "firsts = one_manufacturer(firsts)"
   ]
  },
  {
   "cell_type": "code",
   "execution_count": null,
   "metadata": {},
   "outputs": [],
   "source": [
    "firsts[firsts[\"Subject ID\"] == \"010_S_0419\"]"
   ]
  },
  {
   "cell_type": "code",
   "execution_count": null,
   "metadata": {},
   "outputs": [],
   "source": [
    "firsts[firsts[\"Subject ID\"] == \"128_S_0167\"]"
   ]
  },
  {
   "cell_type": "code",
   "execution_count": null,
   "metadata": {},
   "outputs": [],
   "source": [
    "# test = df_id[df_id[\"Visit\"].isin([\"ADNI Screening\"])]\n",
    "firsts[\"Image ID\"].nunique()"
   ]
  },
  {
   "cell_type": "code",
   "execution_count": null,
   "metadata": {},
   "outputs": [],
   "source": [
    "# test = df_id[df_id[\"Visit\"].isin([\"ADNI Screening\"])]\n",
    "firsts.groupby([\"Research Group\"])[\"Image ID\"].nunique()"
   ]
  },
  {
   "cell_type": "code",
   "execution_count": null,
   "metadata": {},
   "outputs": [],
   "source": [
    "firsts[\"Image ID\"].nunique()"
   ]
  },
  {
   "cell_type": "code",
   "execution_count": null,
   "metadata": {},
   "outputs": [],
   "source": [
    "firsts.groupby([\"Visit\", \"Research Group\"])[\"Image ID\"].nunique()"
   ]
  },
  {
   "cell_type": "code",
   "execution_count": null,
   "metadata": {},
   "outputs": [],
   "source": [
    "firsts.groupby([\"Manufacturer\", \"Research Group\", \"Sex\"])[\"Image ID\"].nunique()"
   ]
  },
  {
   "cell_type": "code",
   "execution_count": null,
   "metadata": {},
   "outputs": [],
   "source": [
    "firsts.groupby([\"Manufacturer\"])[\"Image ID\"].nunique()"
   ]
  },
  {
   "cell_type": "code",
   "execution_count": null,
   "metadata": {},
   "outputs": [],
   "source": [
    "# GE 360\n",
    "# SIEMENS 360\n",
    "# PHILIPS 285\n",
    "\n",
    "# firsts.groupby([\"Manufacturer\", 'RE'])[\"Image ID\"].nunique()"
   ]
  },
  {
   "cell_type": "code",
   "execution_count": null,
   "metadata": {},
   "outputs": [],
   "source": [
    "firsts[\"Image ID\"].nunique()"
   ]
  },
  {
   "cell_type": "code",
   "execution_count": null,
   "metadata": {},
   "outputs": [],
   "source": []
  },
  {
   "cell_type": "code",
   "execution_count": null,
   "metadata": {},
   "outputs": [],
   "source": [
    "(firsts.groupby([\"Subject ID\"])[\"Manufacturer\"].nunique() > 1).sum()"
   ]
  },
  {
   "cell_type": "code",
   "execution_count": null,
   "metadata": {},
   "outputs": [],
   "source": [
    "(firsts.groupby([\"Subject ID\"])[\"Research Group\"].nunique() > 1).sum()"
   ]
  },
  {
   "cell_type": "code",
   "execution_count": null,
   "metadata": {},
   "outputs": [],
   "source": [
    "firsts[\"dot\"] = 1\n",
    "firsts[[\"Image ID\", \"dot\"]].to_csv(\"ID.csv\", index=False)"
   ]
  },
  {
   "cell_type": "code",
   "execution_count": null,
   "metadata": {},
   "outputs": [],
   "source": []
  }
 ],
 "metadata": {
  "kernelspec": {
   "display_name": ".venv",
   "language": "python",
   "name": "python3"
  },
  "language_info": {
   "codemirror_mode": {
    "name": "ipython",
    "version": 3
   },
   "file_extension": ".py",
   "mimetype": "text/x-python",
   "name": "python",
   "nbconvert_exporter": "python",
   "pygments_lexer": "ipython3",
   "version": "3.11.5"
  }
 },
 "nbformat": 4,
 "nbformat_minor": 2
}
