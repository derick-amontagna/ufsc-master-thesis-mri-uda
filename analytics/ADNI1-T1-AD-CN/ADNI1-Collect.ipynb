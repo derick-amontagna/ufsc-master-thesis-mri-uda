{
 "cells": [
  {
   "cell_type": "code",
   "execution_count": null,
   "metadata": {},
   "outputs": [],
   "source": [
    "import os\n",
    "import pandas as pd\n",
    "\n",
    "pd.set_option(\"display.max_columns\", None)\n",
    "pd.set_option(\"display.max_rows\", None)"
   ]
  },
  {
   "cell_type": "code",
   "execution_count": null,
   "metadata": {},
   "outputs": [],
   "source": [
    "# df = pd.read_csv(os.path.join(os.getcwd(), r\"idaSearch_3_19_2025.csv\"))\n",
    "# df[[\"Manufacturer\", \"Model\"]] = df[\"Imaging Protocol\"].str.extract(\n",
    "#    \"Manufacturer=(.+);Mfg Model=(.+);Weighting\", expand=True\n",
    "# )\n",
    "# df[[\"Acquisition\", \"Field\"]] = df[\"Imaging Protocol\"].str.extract(\n",
    "#    \"Acquisition Plane=(.+);Field Strength=(.+);Manufacturer\", expand=True\n",
    "# )\n",
    "# df = df.replace(\n",
    "#    {\n",
    "#        \"GE MEDICAL SYSTEMS\": \"GE\",\n",
    "#        \"Philips Healthcare\": \"Philips\",\n",
    "#        \"Philips Medical Systems\": \"Philips\",\n",
    "#        \"SIEMENS|PixelMed\": \"Siemens\",\n",
    "#        \"SIEMENS\": \"Siemens\",\n",
    "#    },\n",
    "#    regex=False,\n",
    "# )\n",
    "\n",
    "# siemens_remove = df[(df['Manufacturer'] == 'Siemens') & (df['Field'] == '3.0')]['Image ID'].unique()\n",
    "# ge_remove = df[(df['Manufacturer'] == 'GE') & (df['Field'] == '1.5') & (df['Model'].isin([\"GENESIS_SIGNA\"]))]['Image ID'].unique()\n",
    "\n",
    "df = pd.read_csv(os.path.join(os.getcwd(), r\"ADNI1-Collect.csv\"))\n",
    "df[\"Manufacturer\"] = df[\"Imaging Protocol\"].apply(\n",
    "    lambda x: x.split(\";\")[0].split(\"=\")[1]\n",
    ")\n",
    "df[\"Model\"] = df[\"Imaging Protocol\"].apply(lambda x: x.split(\";\")[1].split(\"=\")[1])\n",
    "df = df.replace(\n",
    "    {\n",
    "        \"GE MEDICAL SYSTEMS\": \"GE\",\n",
    "        \"Philips Healthcare\": \"Philips\",\n",
    "        \"Philips Medical Systems\": \"Philips\",\n",
    "        \"SIEMENS|PixelMed\": \"Siemens\",\n",
    "        \"SIEMENS\": \"Siemens\",\n",
    "    },\n",
    "    regex=False,\n",
    ")\n",
    "# df = df[(~df['Image ID'].isin(siemens_remove)) & (~df['Image ID'].isin(ge_remove))]"
   ]
  },
  {
   "cell_type": "code",
   "execution_count": null,
   "metadata": {},
   "outputs": [],
   "source": [
    "df.Visit.unique()"
   ]
  },
  {
   "cell_type": "code",
   "execution_count": null,
   "metadata": {},
   "outputs": [],
   "source": [
    "df[df[\"Manufacturer\"] == \"GE\"].Model.unique()"
   ]
  },
  {
   "cell_type": "code",
   "execution_count": null,
   "metadata": {},
   "outputs": [],
   "source": [
    "df[df[\"Manufacturer\"] == \"Philips\"].Model.unique()"
   ]
  },
  {
   "cell_type": "code",
   "execution_count": null,
   "metadata": {},
   "outputs": [],
   "source": [
    "df[df[\"Manufacturer\"] == \"Siemens\"].Model.unique()"
   ]
  },
  {
   "cell_type": "code",
   "execution_count": null,
   "metadata": {},
   "outputs": [],
   "source": [
    "(df.groupby([\"Subject ID\"])[\"Manufacturer\"].nunique() > 1).sum()"
   ]
  },
  {
   "cell_type": "code",
   "execution_count": null,
   "metadata": {},
   "outputs": [],
   "source": [
    "(df.groupby([\"Subject ID\"])[\"Research Group\"].nunique() > 1).sum()"
   ]
  },
  {
   "cell_type": "code",
   "execution_count": null,
   "metadata": {},
   "outputs": [],
   "source": [
    "df[df[\"Subject ID\"] == \"002_S_0295\"]"
   ]
  },
  {
   "cell_type": "code",
   "execution_count": null,
   "metadata": {},
   "outputs": [],
   "source": [
    "df.Manufacturer.unique()"
   ]
  },
  {
   "cell_type": "code",
   "execution_count": null,
   "metadata": {},
   "outputs": [],
   "source": [
    "df[\"Subject ID\"].nunique()"
   ]
  },
  {
   "cell_type": "code",
   "execution_count": null,
   "metadata": {},
   "outputs": [],
   "source": [
    "df[\"Image ID\"].nunique()"
   ]
  },
  {
   "cell_type": "code",
   "execution_count": null,
   "metadata": {},
   "outputs": [],
   "source": [
    "df.groupby(\"Research Group\")[\"Subject ID\"].nunique()"
   ]
  },
  {
   "cell_type": "code",
   "execution_count": null,
   "metadata": {},
   "outputs": [],
   "source": [
    "df[\"Imaging Protocol\"][0]"
   ]
  },
  {
   "cell_type": "code",
   "execution_count": null,
   "metadata": {},
   "outputs": [],
   "source": [
    "df.Manufacturer.unique()"
   ]
  },
  {
   "cell_type": "code",
   "execution_count": null,
   "metadata": {},
   "outputs": [],
   "source": [
    "df.groupby(\"Manufacturer\")[\"Image ID\"].nunique()"
   ]
  },
  {
   "cell_type": "code",
   "execution_count": null,
   "metadata": {},
   "outputs": [],
   "source": [
    "df[\"Image ID\"].nunique()"
   ]
  },
  {
   "cell_type": "code",
   "execution_count": null,
   "metadata": {},
   "outputs": [],
   "source": [
    "df.groupby([\"Manufacturer\", \"Research Group\"])[\"Image ID\"].nunique()"
   ]
  },
  {
   "cell_type": "code",
   "execution_count": null,
   "metadata": {},
   "outputs": [],
   "source": [
    "df.groupby([\"Manufacturer\", \"Research Group\"])[\"Subject ID\"].nunique()"
   ]
  },
  {
   "cell_type": "code",
   "execution_count": null,
   "metadata": {},
   "outputs": [],
   "source": [
    "df[\"Image ID\"].nunique()"
   ]
  },
  {
   "cell_type": "code",
   "execution_count": null,
   "metadata": {},
   "outputs": [],
   "source": [
    "df.groupby([\"Manufacturer\", \"Research Group\", \"Sex\"])[\"Image ID\"].nunique()"
   ]
  },
  {
   "cell_type": "code",
   "execution_count": null,
   "metadata": {},
   "outputs": [],
   "source": [
    "df.groupby([\"Manufacturer\", \"Research Group\"])[\"Age\"].mean()"
   ]
  },
  {
   "cell_type": "code",
   "execution_count": null,
   "metadata": {},
   "outputs": [],
   "source": [
    "df.groupby([\"Manufacturer\", \"Research Group\"])[\"Age\"].std()"
   ]
  },
  {
   "cell_type": "code",
   "execution_count": null,
   "metadata": {},
   "outputs": [],
   "source": [
    "df.groupby([\"Visit\", \"Manufacturer\", \"Research Group\"])[\"Image ID\"].nunique()"
   ]
  }
 ],
 "metadata": {
  "kernelspec": {
   "display_name": ".venv",
   "language": "python",
   "name": "python3"
  },
  "language_info": {
   "codemirror_mode": {
    "name": "ipython",
    "version": 3
   },
   "file_extension": ".py",
   "mimetype": "text/x-python",
   "name": "python",
   "nbconvert_exporter": "python",
   "pygments_lexer": "ipython3",
   "version": "3.11.5"
  }
 },
 "nbformat": 4,
 "nbformat_minor": 2
}
