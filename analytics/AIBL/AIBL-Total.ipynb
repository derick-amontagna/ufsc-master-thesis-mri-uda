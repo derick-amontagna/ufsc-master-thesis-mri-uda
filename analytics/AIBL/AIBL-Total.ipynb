{
 "cells": [
  {
   "cell_type": "code",
   "execution_count": 11,
   "metadata": {},
   "outputs": [],
   "source": [
    "import os\n",
    "import pandas as pd"
   ]
  },
  {
   "cell_type": "code",
   "execution_count": 12,
   "metadata": {},
   "outputs": [],
   "source": [
    "df_id = pd.read_csv(os.path.join(os.getcwd(), r\"AIBL-Total.csv\"))\n",
    "\n",
    "df_id_not_type = df_id[~df_id[\"Imaging Protocol\"].str.contains(\"Type\")]\n",
    "df_id_not_type[\"Imaging Protocol\"] = (\n",
    "    df_id_not_type[\"Imaging Protocol\"] + \";Acquisition Type=3D\"\n",
    ")\n",
    "df_id_type = df_id[df_id[\"Imaging Protocol\"].str.contains(\"Type\")]\n",
    "df_id = pd.concat([df_id_not_type, df_id_type])\n",
    "\n",
    "\n",
    "df_id[[\"Manufacturer\", \"Model\", \"Type\"]] = df_id[\"Imaging Protocol\"].str.extract(\n",
    "    \"Manufacturer=(.+);Mfg Model=(.+);Acquisition Type=(.+)\", expand=True\n",
    ")\n",
    "df_id[\"Type\"] = df_id[\"Type\"].fillna(\"3D\")\n",
    "df_id = df_id[df_id[\"Type\"] == \"3D\"]\n",
    "\n",
    "df_id = df_id.replace(\n",
    "    {\n",
    "        \"GE MEDICAL SYSTEMS\": \"GE\",\n",
    "        \"Philips Healthcare\": \"Philips\",\n",
    "        \"Philips Medical Systems\": \"Philips\",\n",
    "        \"SIEMENS|PixelMed\": \"Siemens\",\n",
    "        \"SIEMENS\": \"Siemens\",\n",
    "    },\n",
    "    regex=False,\n",
    ")\n",
    "\n",
    "df_id = df_id[df_id[\"Description\"].str.contains(\"MP\")]"
   ]
  },
  {
   "cell_type": "code",
   "execution_count": 13,
   "metadata": {},
   "outputs": [
    {
     "data": {
      "text/html": [
       "<div>\n",
       "<style scoped>\n",
       "    .dataframe tbody tr th:only-of-type {\n",
       "        vertical-align: middle;\n",
       "    }\n",
       "\n",
       "    .dataframe tbody tr th {\n",
       "        vertical-align: top;\n",
       "    }\n",
       "\n",
       "    .dataframe thead th {\n",
       "        text-align: right;\n",
       "    }\n",
       "</style>\n",
       "<table border=\"1\" class=\"dataframe\">\n",
       "  <thead>\n",
       "    <tr style=\"text-align: right;\">\n",
       "      <th></th>\n",
       "      <th>Subject ID</th>\n",
       "      <th>Sex</th>\n",
       "      <th>Research Group</th>\n",
       "      <th>Visit</th>\n",
       "      <th>Age</th>\n",
       "      <th>Description</th>\n",
       "      <th>Imaging Protocol</th>\n",
       "      <th>Image ID</th>\n",
       "      <th>Manufacturer</th>\n",
       "      <th>Model</th>\n",
       "      <th>Type</th>\n",
       "    </tr>\n",
       "  </thead>\n",
       "  <tbody>\n",
       "    <tr>\n",
       "      <th>3</th>\n",
       "      <td>151083</td>\n",
       "      <td>X</td>\n",
       "      <td>Phantom</td>\n",
       "      <td>Baseline</td>\n",
       "      <td>34.0</td>\n",
       "      <td>MPRAGE MODIFIED</td>\n",
       "      <td>Acquisition Plane=SAGITTAL;Manufacturer=SIEMEN...</td>\n",
       "      <td>139800</td>\n",
       "      <td>Siemens</td>\n",
       "      <td>TrioTim;Weighting=T1</td>\n",
       "      <td>3D</td>\n",
       "    </tr>\n",
       "    <tr>\n",
       "      <th>4</th>\n",
       "      <td>151083</td>\n",
       "      <td>X</td>\n",
       "      <td>Phantom</td>\n",
       "      <td>Baseline</td>\n",
       "      <td>34.0</td>\n",
       "      <td>MPRAGE MODIFIED CORONAL</td>\n",
       "      <td>Acquisition Plane=CORONAL;Manufacturer=SIEMENS...</td>\n",
       "      <td>139801</td>\n",
       "      <td>Siemens</td>\n",
       "      <td>TrioTim;Weighting=T1</td>\n",
       "      <td>3D</td>\n",
       "    </tr>\n",
       "    <tr>\n",
       "      <th>5</th>\n",
       "      <td>151083</td>\n",
       "      <td>X</td>\n",
       "      <td>Phantom</td>\n",
       "      <td>Baseline</td>\n",
       "      <td>34.0</td>\n",
       "      <td>MPRAGE MODIFIED REPEAT</td>\n",
       "      <td>Acquisition Plane=SAGITTAL;Manufacturer=SIEMEN...</td>\n",
       "      <td>139802</td>\n",
       "      <td>Siemens</td>\n",
       "      <td>TrioTim;Weighting=T1</td>\n",
       "      <td>3D</td>\n",
       "    </tr>\n",
       "    <tr>\n",
       "      <th>6</th>\n",
       "      <td>10</td>\n",
       "      <td>M</td>\n",
       "      <td>Patient</td>\n",
       "      <td>18 Month follow-up</td>\n",
       "      <td>83.0</td>\n",
       "      <td>MPRAGE ADNI confirmed</td>\n",
       "      <td>Acquisition Plane=SAGITTAL;Manufacturer=SIEMEN...</td>\n",
       "      <td>164086</td>\n",
       "      <td>Siemens</td>\n",
       "      <td>TrioTim;Weighting=T1</td>\n",
       "      <td>3D</td>\n",
       "    </tr>\n",
       "    <tr>\n",
       "      <th>11</th>\n",
       "      <td>100</td>\n",
       "      <td>M</td>\n",
       "      <td>Patient</td>\n",
       "      <td>Baseline</td>\n",
       "      <td>77.0</td>\n",
       "      <td>MPRAGE ADNI confirmed</td>\n",
       "      <td>Acquisition Plane=SAGITTAL;Manufacturer=SIEMEN...</td>\n",
       "      <td>133615</td>\n",
       "      <td>Siemens</td>\n",
       "      <td>TrioTim;Weighting=T1</td>\n",
       "      <td>3D</td>\n",
       "    </tr>\n",
       "  </tbody>\n",
       "</table>\n",
       "</div>"
      ],
      "text/plain": [
       "    Subject ID Sex Research Group               Visit   Age  \\\n",
       "3       151083   X        Phantom            Baseline  34.0   \n",
       "4       151083   X        Phantom            Baseline  34.0   \n",
       "5       151083   X        Phantom            Baseline  34.0   \n",
       "6           10   M        Patient  18 Month follow-up  83.0   \n",
       "11         100   M        Patient            Baseline  77.0   \n",
       "\n",
       "                Description  \\\n",
       "3           MPRAGE MODIFIED   \n",
       "4   MPRAGE MODIFIED CORONAL   \n",
       "5    MPRAGE MODIFIED REPEAT   \n",
       "6     MPRAGE ADNI confirmed   \n",
       "11    MPRAGE ADNI confirmed   \n",
       "\n",
       "                                     Imaging Protocol  Image ID Manufacturer  \\\n",
       "3   Acquisition Plane=SAGITTAL;Manufacturer=SIEMEN...    139800      Siemens   \n",
       "4   Acquisition Plane=CORONAL;Manufacturer=SIEMENS...    139801      Siemens   \n",
       "5   Acquisition Plane=SAGITTAL;Manufacturer=SIEMEN...    139802      Siemens   \n",
       "6   Acquisition Plane=SAGITTAL;Manufacturer=SIEMEN...    164086      Siemens   \n",
       "11  Acquisition Plane=SAGITTAL;Manufacturer=SIEMEN...    133615      Siemens   \n",
       "\n",
       "                   Model Type  \n",
       "3   TrioTim;Weighting=T1   3D  \n",
       "4   TrioTim;Weighting=T1   3D  \n",
       "5   TrioTim;Weighting=T1   3D  \n",
       "6   TrioTim;Weighting=T1   3D  \n",
       "11  TrioTim;Weighting=T1   3D  "
      ]
     },
     "execution_count": 13,
     "metadata": {},
     "output_type": "execute_result"
    }
   ],
   "source": [
    "df_id.head()"
   ]
  },
  {
   "cell_type": "code",
   "execution_count": 4,
   "metadata": {},
   "outputs": [
    {
     "data": {
      "text/plain": [
       "1299"
      ]
     },
     "execution_count": 4,
     "metadata": {},
     "output_type": "execute_result"
    }
   ],
   "source": [
    "df_id[\"Image ID\"].count()"
   ]
  },
  {
   "cell_type": "code",
   "execution_count": 5,
   "metadata": {},
   "outputs": [],
   "source": [
    "firsts = df_id.groupby([\"Subject ID\", \"Visit\"], as_index=False).first()"
   ]
  },
  {
   "cell_type": "code",
   "execution_count": 35,
   "metadata": {},
   "outputs": [
    {
     "data": {
      "text/plain": [
       "692"
      ]
     },
     "execution_count": 35,
     "metadata": {},
     "output_type": "execute_result"
    }
   ],
   "source": [
    "firsts[\"Subject ID\"].nunique()"
   ]
  },
  {
   "cell_type": "code",
   "execution_count": 6,
   "metadata": {},
   "outputs": [
    {
     "data": {
      "text/plain": [
       "array(['Baseline', '18 Month follow-up', '36 Month follow-up',\n",
       "       '54 Month follow-up', '72 Month follow-up'], dtype=object)"
      ]
     },
     "execution_count": 6,
     "metadata": {},
     "output_type": "execute_result"
    }
   ],
   "source": [
    "firsts.Visit.unique()"
   ]
  },
  {
   "cell_type": "code",
   "execution_count": 7,
   "metadata": {},
   "outputs": [
    {
     "data": {
      "text/plain": [
       "1275"
      ]
     },
     "execution_count": 7,
     "metadata": {},
     "output_type": "execute_result"
    }
   ],
   "source": [
    "firsts[\"Image ID\"].nunique()"
   ]
  },
  {
   "cell_type": "code",
   "execution_count": 8,
   "metadata": {},
   "outputs": [
    {
     "data": {
      "text/plain": [
       "Manufacturer  Research Group\n",
       "Siemens       Patient           1274\n",
       "              Phantom              1\n",
       "Name: Image ID, dtype: int64"
      ]
     },
     "execution_count": 8,
     "metadata": {},
     "output_type": "execute_result"
    }
   ],
   "source": [
    "firsts.groupby([\"Manufacturer\", \"Research Group\"])[\"Image ID\"].nunique()"
   ]
  },
  {
   "cell_type": "code",
   "execution_count": 9,
   "metadata": {},
   "outputs": [],
   "source": [
    "firsts[\"dot\"] = 1"
   ]
  },
  {
   "cell_type": "code",
   "execution_count": 10,
   "metadata": {},
   "outputs": [],
   "source": [
    "firsts[[\"Image ID\", \"dot\"]].to_csv(\"ID.csv\", index=False)"
   ]
  },
  {
   "cell_type": "code",
   "execution_count": null,
   "metadata": {},
   "outputs": [],
   "source": []
  }
 ],
 "metadata": {
  "kernelspec": {
   "display_name": ".venv",
   "language": "python",
   "name": "python3"
  },
  "language_info": {
   "codemirror_mode": {
    "name": "ipython",
    "version": 3
   },
   "file_extension": ".py",
   "mimetype": "text/x-python",
   "name": "python",
   "nbconvert_exporter": "python",
   "pygments_lexer": "ipython3",
   "version": "3.11.5"
  }
 },
 "nbformat": 4,
 "nbformat_minor": 2
}
