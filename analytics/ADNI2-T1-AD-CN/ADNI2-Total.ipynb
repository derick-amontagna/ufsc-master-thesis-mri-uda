{
 "cells": [
  {
   "cell_type": "code",
   "execution_count": 1,
   "metadata": {},
   "outputs": [],
   "source": [
    "import os\n",
    "import pandas as pd"
   ]
  },
  {
   "cell_type": "code",
   "execution_count": 2,
   "metadata": {},
   "outputs": [],
   "source": [
    "remove = pd.read_csv(\n",
    "    os.path.join(\n",
    "        os.getcwd().replace(\"ADNI2-T1-AD-CN\", \"ADNI1-T1-AD-CN\"), r\"ADNI1-Collect.csv\"\n",
    "    )\n",
    ")"
   ]
  },
  {
   "cell_type": "code",
   "execution_count": 3,
   "metadata": {},
   "outputs": [],
   "source": [
    "sub_adni1 = list(remove[\"Subject ID\"].unique())"
   ]
  },
  {
   "cell_type": "code",
   "execution_count": 4,
   "metadata": {},
   "outputs": [
    {
     "name": "stderr",
     "output_type": "stream",
     "text": [
      "C:\\Users\\doxda\\AppData\\Local\\Temp\\ipykernel_13236\\3247019251.py:4: SettingWithCopyWarning: \n",
      "A value is trying to be set on a copy of a slice from a DataFrame.\n",
      "Try using .loc[row_indexer,col_indexer] = value instead\n",
      "\n",
      "See the caveats in the documentation: https://pandas.pydata.org/pandas-docs/stable/user_guide/indexing.html#returning-a-view-versus-a-copy\n",
      "  df_id_not_type[\"Imaging Protocol\"] = (\n"
     ]
    }
   ],
   "source": [
    "df_id = pd.read_csv(os.path.join(os.getcwd(), r\"ADNI2-Total.csv\"))\n",
    "\n",
    "df_id_not_type = df_id[~df_id[\"Imaging Protocol\"].str.contains(\"Type\")]\n",
    "df_id_not_type[\"Imaging Protocol\"] = (\n",
    "    df_id_not_type[\"Imaging Protocol\"] + \";Acquisition Type=3D\"\n",
    ")\n",
    "df_id_type = df_id[df_id[\"Imaging Protocol\"].str.contains(\"Type\")]\n",
    "df_id = pd.concat([df_id_not_type, df_id_type])\n",
    "\n",
    "\n",
    "df_id[[\"Manufacturer\", \"Model\", \"Type\"]] = df_id[\"Imaging Protocol\"].str.extract(\n",
    "    \"Manufacturer=(.+);Mfg Model=(.+);Acquisition Type=(.+)\", expand=True\n",
    ")\n",
    "df_id[\"Type\"] = df_id[\"Type\"].fillna(\"3D\")\n",
    "df_id = df_id[df_id[\"Type\"] == \"3D\"]\n",
    "\n",
    "df_id = df_id.replace(\n",
    "    {\n",
    "        \"GE MEDICAL SYSTEMS\": \"GE\",\n",
    "        \"Philips Healthcare\": \"Philips\",\n",
    "        \"Philips Medical Systems\": \"Philips\",\n",
    "        \"SIEMENS|PixelMed\": \"Siemens\",\n",
    "        \"SIEMENS\": \"Siemens\",\n",
    "    },\n",
    "    regex=False,\n",
    ")\n",
    "\n",
    "df_id = df_id[~df_id[\"Subject ID\"].isin(sub_adni1)]\n",
    "\n",
    "# df_id = df_id[df_id[\"Description\"].str.contains(\"MP\")]"
   ]
  },
  {
   "cell_type": "code",
   "execution_count": 5,
   "metadata": {},
   "outputs": [
    {
     "data": {
      "text/html": [
       "<div>\n",
       "<style scoped>\n",
       "    .dataframe tbody tr th:only-of-type {\n",
       "        vertical-align: middle;\n",
       "    }\n",
       "\n",
       "    .dataframe tbody tr th {\n",
       "        vertical-align: top;\n",
       "    }\n",
       "\n",
       "    .dataframe thead th {\n",
       "        text-align: right;\n",
       "    }\n",
       "</style>\n",
       "<table border=\"1\" class=\"dataframe\">\n",
       "  <thead>\n",
       "    <tr style=\"text-align: right;\">\n",
       "      <th></th>\n",
       "      <th>Subject ID</th>\n",
       "      <th>Sex</th>\n",
       "      <th>Research Group</th>\n",
       "      <th>Visit</th>\n",
       "      <th>Age</th>\n",
       "      <th>Description</th>\n",
       "      <th>Imaging Protocol</th>\n",
       "      <th>Image ID</th>\n",
       "      <th>Manufacturer</th>\n",
       "      <th>Model</th>\n",
       "      <th>Type</th>\n",
       "    </tr>\n",
       "  </thead>\n",
       "  <tbody>\n",
       "    <tr>\n",
       "      <th>57</th>\n",
       "      <td>002_S_4213</td>\n",
       "      <td>F</td>\n",
       "      <td>CN</td>\n",
       "      <td>ADNI2 Screening MRI-New Pt</td>\n",
       "      <td>78.1</td>\n",
       "      <td>MPRAGE SENSE2</td>\n",
       "      <td>Manufacturer=Philips Medical Systems;Mfg Model...</td>\n",
       "      <td>254579</td>\n",
       "      <td>Philips</td>\n",
       "      <td>Intera</td>\n",
       "      <td>3D</td>\n",
       "    </tr>\n",
       "    <tr>\n",
       "      <th>58</th>\n",
       "      <td>002_S_4213</td>\n",
       "      <td>F</td>\n",
       "      <td>CN</td>\n",
       "      <td>ADNI2 Screening MRI-New Pt</td>\n",
       "      <td>78.1</td>\n",
       "      <td>Field Mapping</td>\n",
       "      <td>Manufacturer=Philips Medical Systems;Mfg Model...</td>\n",
       "      <td>254580</td>\n",
       "      <td>Philips</td>\n",
       "      <td>Intera</td>\n",
       "      <td>3D</td>\n",
       "    </tr>\n",
       "    <tr>\n",
       "      <th>59</th>\n",
       "      <td>002_S_4213</td>\n",
       "      <td>F</td>\n",
       "      <td>CN</td>\n",
       "      <td>ADNI2 Screening MRI-New Pt</td>\n",
       "      <td>78.1</td>\n",
       "      <td>MPRAGE</td>\n",
       "      <td>Manufacturer=Philips Medical Systems;Mfg Model...</td>\n",
       "      <td>254582</td>\n",
       "      <td>Philips</td>\n",
       "      <td>Intera</td>\n",
       "      <td>3D</td>\n",
       "    </tr>\n",
       "    <tr>\n",
       "      <th>60</th>\n",
       "      <td>002_S_4213</td>\n",
       "      <td>F</td>\n",
       "      <td>CN</td>\n",
       "      <td>ADNI2 Month 3 MRI-New Pt</td>\n",
       "      <td>78.4</td>\n",
       "      <td>MPRAGE SENSE2</td>\n",
       "      <td>Manufacturer=Philips Medical Systems;Mfg Model...</td>\n",
       "      <td>273216</td>\n",
       "      <td>Philips</td>\n",
       "      <td>Intera</td>\n",
       "      <td>3D</td>\n",
       "    </tr>\n",
       "    <tr>\n",
       "      <th>61</th>\n",
       "      <td>002_S_4213</td>\n",
       "      <td>F</td>\n",
       "      <td>CN</td>\n",
       "      <td>ADNI2 Month 3 MRI-New Pt</td>\n",
       "      <td>78.4</td>\n",
       "      <td>Field Mapping</td>\n",
       "      <td>Manufacturer=Philips Medical Systems;Mfg Model...</td>\n",
       "      <td>273219</td>\n",
       "      <td>Philips</td>\n",
       "      <td>Intera</td>\n",
       "      <td>3D</td>\n",
       "    </tr>\n",
       "  </tbody>\n",
       "</table>\n",
       "</div>"
      ],
      "text/plain": [
       "    Subject ID Sex Research Group                       Visit   Age  \\\n",
       "57  002_S_4213   F             CN  ADNI2 Screening MRI-New Pt  78.1   \n",
       "58  002_S_4213   F             CN  ADNI2 Screening MRI-New Pt  78.1   \n",
       "59  002_S_4213   F             CN  ADNI2 Screening MRI-New Pt  78.1   \n",
       "60  002_S_4213   F             CN    ADNI2 Month 3 MRI-New Pt  78.4   \n",
       "61  002_S_4213   F             CN    ADNI2 Month 3 MRI-New Pt  78.4   \n",
       "\n",
       "      Description                                   Imaging Protocol  \\\n",
       "57  MPRAGE SENSE2  Manufacturer=Philips Medical Systems;Mfg Model...   \n",
       "58  Field Mapping  Manufacturer=Philips Medical Systems;Mfg Model...   \n",
       "59         MPRAGE  Manufacturer=Philips Medical Systems;Mfg Model...   \n",
       "60  MPRAGE SENSE2  Manufacturer=Philips Medical Systems;Mfg Model...   \n",
       "61  Field Mapping  Manufacturer=Philips Medical Systems;Mfg Model...   \n",
       "\n",
       "    Image ID Manufacturer   Model Type  \n",
       "57    254579      Philips  Intera   3D  \n",
       "58    254580      Philips  Intera   3D  \n",
       "59    254582      Philips  Intera   3D  \n",
       "60    273216      Philips  Intera   3D  \n",
       "61    273219      Philips  Intera   3D  "
      ]
     },
     "execution_count": 5,
     "metadata": {},
     "output_type": "execute_result"
    }
   ],
   "source": [
    "df_id.head()"
   ]
  },
  {
   "cell_type": "code",
   "execution_count": 6,
   "metadata": {},
   "outputs": [
    {
     "data": {
      "text/plain": [
       "3543"
      ]
     },
     "execution_count": 6,
     "metadata": {},
     "output_type": "execute_result"
    }
   ],
   "source": [
    "df_id[\"Image ID\"].count()"
   ]
  },
  {
   "cell_type": "code",
   "execution_count": 7,
   "metadata": {},
   "outputs": [],
   "source": [
    "firsts = df_id.groupby([\"Subject ID\", \"Visit\"], as_index=False).first()"
   ]
  },
  {
   "cell_type": "code",
   "execution_count": 8,
   "metadata": {},
   "outputs": [
    {
     "data": {
      "text/plain": [
       "381"
      ]
     },
     "execution_count": 8,
     "metadata": {},
     "output_type": "execute_result"
    }
   ],
   "source": [
    "firsts[\"Subject ID\"].nunique()"
   ]
  },
  {
   "cell_type": "code",
   "execution_count": 9,
   "metadata": {},
   "outputs": [
    {
     "data": {
      "text/plain": [
       "array(['ADNI2 Month 3 MRI-New Pt', 'ADNI2 Month 6-New Pt',\n",
       "       'ADNI2 Screening MRI-New Pt', 'ADNI2 Year 1 Visit',\n",
       "       'ADNI2 Year 2 Visit', 'ADNI2 Year 4 Visit', 'ADNI2 Year 5 Visit',\n",
       "       'ADNI2 Year 3 Visit', 'ADNI2 Tau-only visit'], dtype=object)"
      ]
     },
     "execution_count": 9,
     "metadata": {},
     "output_type": "execute_result"
    }
   ],
   "source": [
    "firsts.Visit.unique()"
   ]
  },
  {
   "cell_type": "code",
   "execution_count": 10,
   "metadata": {},
   "outputs": [],
   "source": [
    "firsts = firsts[firsts[\"Visit\"].isin([\"ADNI2 Screening MRI-New Pt\"])]"
   ]
  },
  {
   "cell_type": "code",
   "execution_count": 11,
   "metadata": {},
   "outputs": [
    {
     "data": {
      "text/plain": [
       "381"
      ]
     },
     "execution_count": 11,
     "metadata": {},
     "output_type": "execute_result"
    }
   ],
   "source": [
    "firsts[\"Image ID\"].nunique()"
   ]
  },
  {
   "cell_type": "code",
   "execution_count": 12,
   "metadata": {},
   "outputs": [
    {
     "data": {
      "text/plain": [
       "Research Group\n",
       "AD    159\n",
       "CN    222\n",
       "Name: Image ID, dtype: int64"
      ]
     },
     "execution_count": 12,
     "metadata": {},
     "output_type": "execute_result"
    }
   ],
   "source": [
    "firsts.groupby([\"Research Group\"])[\"Image ID\"].nunique()"
   ]
  },
  {
   "cell_type": "code",
   "execution_count": 13,
   "metadata": {},
   "outputs": [
    {
     "data": {
      "text/plain": [
       "Manufacturer  Research Group\n",
       "GE            AD                 50\n",
       "              CN                 64\n",
       "Philips       AD                 34\n",
       "              CN                 45\n",
       "Siemens       AD                 75\n",
       "              CN                113\n",
       "Name: Image ID, dtype: int64"
      ]
     },
     "execution_count": 13,
     "metadata": {},
     "output_type": "execute_result"
    }
   ],
   "source": [
    "firsts.groupby([\"Manufacturer\", \"Research Group\"])[\"Image ID\"].nunique()"
   ]
  },
  {
   "cell_type": "code",
   "execution_count": 14,
   "metadata": {},
   "outputs": [],
   "source": [
    "firsts[\"dot\"] = 1"
   ]
  },
  {
   "cell_type": "code",
   "execution_count": 15,
   "metadata": {},
   "outputs": [],
   "source": [
    "firsts[[\"Image ID\", \"dot\"]].to_csv(\"ID.csv\", index=False)"
   ]
  }
 ],
 "metadata": {
  "kernelspec": {
   "display_name": ".venv",
   "language": "python",
   "name": "python3"
  },
  "language_info": {
   "codemirror_mode": {
    "name": "ipython",
    "version": 3
   },
   "file_extension": ".py",
   "mimetype": "text/x-python",
   "name": "python",
   "nbconvert_exporter": "python",
   "pygments_lexer": "ipython3",
   "version": "3.11.5"
  }
 },
 "nbformat": 4,
 "nbformat_minor": 2
}
