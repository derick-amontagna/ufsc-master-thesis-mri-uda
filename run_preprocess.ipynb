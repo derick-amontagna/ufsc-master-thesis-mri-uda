{
 "cells": [
  {
   "cell_type": "code",
   "execution_count": null,
   "metadata": {},
   "outputs": [],
   "source": [
    "import os\n",
    "from common.mri_toolkit import preprocess_pipeline"
   ]
  },
  {
   "cell_type": "code",
   "execution_count": null,
   "metadata": {},
   "outputs": [],
   "source": [
    "BASE_DIR = os.path.dirname(os.path.abspath(\"__file__\"))"
   ]
  },
  {
   "cell_type": "code",
   "execution_count": null,
   "metadata": {},
   "outputs": [],
   "source": [
    "preprocess_pipeline(\n",
    "    origin_path=os.path.join(BASE_DIR, \"data\", \"ADNI1-T1-AD-CN\", \"Image\", \"DICOM\"),\n",
    "    df_path=os.path.join(BASE_DIR, \"analytics\", \"ADNI1-T1-AD-CN\", \"ADNI1-Collect.csv\"),\n",
    "    dataset_name=\"ADNI1-T1-AD-CN\",\n",
    "    gen_2d=True,\n",
    "    column_class=\"Research Group\",\n",
    "    domain_manufacturer=True,\n",
    "    domain_model=False,\n",
    "    test_val=True,\n",
    "    test_size=0.2,\n",
    "    val_size=0.2,\n",
    ")"
   ]
  },
  {
   "cell_type": "code",
   "execution_count": null,
   "metadata": {},
   "outputs": [],
   "source": [
    "def contar_arquivos_em_subpastas(caminho):\n",
    "    for pasta, subpastas, arquivos in os.walk(caminho):\n",
    "        if len(arquivos) != 0:\n",
    "            DOMAIN, SLIT, CLASS = rf\"{pasta}\".split(\"\\\\\")[-3:]\n",
    "            print(f\"{DOMAIN}/{SLIT}/{CLASS} contém {len(arquivos)} arquivos\")\n",
    "\n",
    "\n",
    "# Exemplo de uso:\n",
    "contar_arquivos_em_subpastas(\n",
    "    os.path.join(\n",
    "        BASE_DIR, \"data\", \"ADNI1-T1-AD-CN\", \"Image\", \"Preprocess\", \"6_step_nifti_2d\"\n",
    "    )\n",
    ")"
   ]
  }
 ],
 "metadata": {
  "kernelspec": {
   "display_name": ".venv",
   "language": "python",
   "name": "python3"
  },
  "language_info": {
   "codemirror_mode": {
    "name": "ipython",
    "version": 3
   },
   "file_extension": ".py",
   "mimetype": "text/x-python",
   "name": "python",
   "nbconvert_exporter": "python",
   "pygments_lexer": "ipython3",
   "version": "3.11.5"
  }
 },
 "nbformat": 4,
 "nbformat_minor": 2
}
