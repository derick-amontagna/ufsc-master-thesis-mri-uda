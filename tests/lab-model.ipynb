{
 "cells": [
  {
   "cell_type": "markdown",
   "metadata": {},
   "source": [
    "### Import packages"
   ]
  },
  {
   "cell_type": "code",
   "execution_count": 1,
   "metadata": {},
   "outputs": [],
   "source": [
    "import os\n",
    "import copy\n",
    "\n",
    "import torch\n",
    "from tqdm import tqdm\n",
    "import torchvision\n",
    "from torchvision.transforms import ToTensor\n",
    "import torch.nn.functional as F\n",
    "from torchvision.transforms import v2 as transforms\n",
    "from torchvision.models import resnet18, ResNet18_Weights\n",
    "import matplotlib.pyplot as plt\n",
    "import numpy as np\n",
    "import torch.nn as nn\n",
    "\n",
    "\n",
    "from pytorch_adapt.containers import Models, Optimizers\n",
    "from pytorch_adapt.datasets import (\n",
    "    DataloaderCreator,\n",
    "    SourceDataset,\n",
    "    TargetDataset,\n",
    "    CombinedSourceAndTargetDataset,\n",
    "    ConcatDataset,\n",
    ")\n",
    "from pytorch_adapt.hooks import (\n",
    "    ATDOCHook,\n",
    "    BNMHook,\n",
    "    DANNHook,\n",
    "    MCDHook,\n",
    "    MCCHook,\n",
    "    AlignerPlusCHook,\n",
    "    ClassifierHook,\n",
    "    FinetunerHook,\n",
    ")\n",
    "from pytorch_adapt.layers import MCCLoss, MMDLoss, MultipleModels\n",
    "from pytorch_adapt.models import Discriminator\n",
    "from pytorch_adapt.utils.common_functions import batch_to_device\n",
    "from pytorch_adapt.validators import AccuracyValidator\n",
    "from pytorch_adapt.weighters import MeanWeighter\n",
    "from pytorch_adapt.layers.utils import get_kernel_scales\n",
    "from pytorch_adapt.utils import common_functions as c_f\n",
    "\n",
    "from common.CustomData.MRI_NII_2D import Dataset2D\n",
    "from common.networks import get_auto_transform, get_feature_extractor, Classifier\n",
    "from common.utils import (\n",
    "    print_train_time,\n",
    "    EarlyStoppingMinimizeLoss,\n",
    "    ModelCheckpointBestAcc,\n",
    "    create_directory,\n",
    ")"
   ]
  },
  {
   "cell_type": "code",
   "execution_count": 2,
   "metadata": {},
   "outputs": [],
   "source": [
    "def imshow(inp, size=(5, 5), title=None):\n",
    "    \"\"\"Imshow for Tensor.\"\"\"\n",
    "    inp = inp.numpy().transpose((1, 2, 0))\n",
    "    inp = np.clip(inp, 0, 1)\n",
    "    plt.figure(figsize=size)\n",
    "    plt.imshow(inp)\n",
    "    if title is not None:\n",
    "        plt.title(title, size=30)\n",
    "    plt.pause(0.001)  # pause a bit so that plots are updated"
   ]
  },
  {
   "cell_type": "code",
   "execution_count": null,
   "metadata": {},
   "outputs": [],
   "source": [
    "model = resnet18(weights=ResNet18_Weights.DEFAULT)\n",
    "model.fc = nn.Identity()\n",
    "\n",
    "G = model.to(\"cpu\")"
   ]
  },
  {
   "cell_type": "code",
   "execution_count": null,
   "metadata": {},
   "outputs": [],
   "source": [
    "for name, param in model.named_parameters():\n",
    "    print(f\"{name} - requires_grad: {param.requires_grad}\")"
   ]
  },
  {
   "cell_type": "markdown",
   "metadata": {},
   "source": [
    "### Create datasets and dataloaders"
   ]
  },
  {
   "cell_type": "code",
   "execution_count": 3,
   "metadata": {},
   "outputs": [],
   "source": [
    "# Define the device\n",
    "device = torch.device(\"cuda\" if torch.cuda.is_available() else \"cpu\")"
   ]
  },
  {
   "cell_type": "code",
   "execution_count": 4,
   "metadata": {},
   "outputs": [
    {
     "data": {
      "text/plain": [
       "device(type='cuda')"
      ]
     },
     "execution_count": 4,
     "metadata": {},
     "output_type": "execute_result"
    }
   ],
   "source": [
    "device"
   ]
  },
  {
   "cell_type": "code",
   "execution_count": 5,
   "metadata": {},
   "outputs": [],
   "source": [
    "transform_net = get_auto_transform(\"resnet50\")"
   ]
  },
  {
   "cell_type": "code",
   "execution_count": 6,
   "metadata": {},
   "outputs": [
    {
     "data": {
      "text/plain": [
       "ImageClassification(\n",
       "    crop_size=[224]\n",
       "    resize_size=[232]\n",
       "    mean=[0.485, 0.456, 0.406]\n",
       "    std=[0.229, 0.224, 0.225]\n",
       "    interpolation=InterpolationMode.BILINEAR\n",
       ")"
      ]
     },
     "execution_count": 6,
     "metadata": {},
     "output_type": "execute_result"
    }
   ],
   "source": [
    "transform_net"
   ]
  },
  {
   "cell_type": "code",
   "execution_count": 7,
   "metadata": {},
   "outputs": [],
   "source": [
    "class GrayscaleToRGB:\n",
    "    def __call__(self, x):\n",
    "        if x.size(0) == 3:\n",
    "            return x\n",
    "        elif x.size(0) == 1:\n",
    "            return torch.cat([x, x, x], dim=0)\n",
    "        else:\n",
    "            raise Exception(\"Image is not grayscale (or even RGB).\")"
   ]
  },
  {
   "cell_type": "code",
   "execution_count": 8,
   "metadata": {},
   "outputs": [],
   "source": [
    "data_transforms = {\n",
    "    \"train\": transforms.Compose(\n",
    "        [\n",
    "            transforms.ToImage(),\n",
    "            transforms.Resize(232),\n",
    "            transforms.CenterCrop(224),\n",
    "            transforms.RandomVerticalFlip(),\n",
    "            transforms.RandomHorizontalFlip(),\n",
    "            GrayscaleToRGB(),\n",
    "            transforms.Normalize(mean=[0.485, 0.456, 0.406], std=[0.229, 0.224, 0.225]),\n",
    "        ]\n",
    "    ),\n",
    "    \"val_test\": transforms.Compose(\n",
    "        [\n",
    "            transforms.ToImage(),\n",
    "            transforms.Resize(232),\n",
    "            transforms.CenterCrop(224),\n",
    "            GrayscaleToRGB(),\n",
    "            transforms.Normalize(mean=[0.485, 0.456, 0.406], std=[0.229, 0.224, 0.225]),\n",
    "        ]\n",
    "    ),\n",
    "}"
   ]
  },
  {
   "cell_type": "code",
   "execution_count": 9,
   "metadata": {},
   "outputs": [
    {
     "name": "stderr",
     "output_type": "stream",
     "text": [
      "\u001b[32m2024-11-27 17:43:38.689\u001b[0m | \u001b[1mINFO    \u001b[0m | \u001b[36mcommon.CustomData.MRI_NII_2D\u001b[0m:\u001b[36m__init__\u001b[0m:\u001b[36m19\u001b[0m - \u001b[1m+++++++++++++++Loading Image and Label data from MRI 2D+++++++++++++++\u001b[0m\n",
      "\u001b[32m2024-11-27 17:43:38.743\u001b[0m | \u001b[1mINFO    \u001b[0m | \u001b[36mcommon.CustomData.MRI_NII_2D\u001b[0m:\u001b[36m__init__\u001b[0m:\u001b[36m23\u001b[0m - \u001b[1m++++++++++++++++++++++++++Loading Label Data++++++++++++++++++++++++++\u001b[0m\n",
      "\u001b[32m2024-11-27 17:43:38.744\u001b[0m | \u001b[1mINFO    \u001b[0m | \u001b[36mcommon.CustomData.MRI_NII_2D\u001b[0m:\u001b[36m__init__\u001b[0m:\u001b[36m19\u001b[0m - \u001b[1m+++++++++++++++Loading Image and Label data from MRI 2D+++++++++++++++\u001b[0m\n",
      "\u001b[32m2024-11-27 17:43:38.780\u001b[0m | \u001b[1mINFO    \u001b[0m | \u001b[36mcommon.CustomData.MRI_NII_2D\u001b[0m:\u001b[36m__init__\u001b[0m:\u001b[36m23\u001b[0m - \u001b[1m++++++++++++++++++++++++++Loading Label Data++++++++++++++++++++++++++\u001b[0m\n",
      "\u001b[32m2024-11-27 17:43:38.781\u001b[0m | \u001b[1mINFO    \u001b[0m | \u001b[36mcommon.CustomData.MRI_NII_2D\u001b[0m:\u001b[36m__init__\u001b[0m:\u001b[36m19\u001b[0m - \u001b[1m+++++++++++++++Loading Image and Label data from MRI 2D+++++++++++++++\u001b[0m\n",
      "\u001b[32m2024-11-27 17:43:38.786\u001b[0m | \u001b[1mINFO    \u001b[0m | \u001b[36mcommon.CustomData.MRI_NII_2D\u001b[0m:\u001b[36m__init__\u001b[0m:\u001b[36m23\u001b[0m - \u001b[1m++++++++++++++++++++++++++Loading Label Data++++++++++++++++++++++++++\u001b[0m\n",
      "\u001b[32m2024-11-27 17:43:38.787\u001b[0m | \u001b[1mINFO    \u001b[0m | \u001b[36mcommon.CustomData.MRI_NII_2D\u001b[0m:\u001b[36m__init__\u001b[0m:\u001b[36m19\u001b[0m - \u001b[1m+++++++++++++++Loading Image and Label data from MRI 2D+++++++++++++++\u001b[0m\n",
      "\u001b[32m2024-11-27 17:43:38.793\u001b[0m | \u001b[1mINFO    \u001b[0m | \u001b[36mcommon.CustomData.MRI_NII_2D\u001b[0m:\u001b[36m__init__\u001b[0m:\u001b[36m23\u001b[0m - \u001b[1m++++++++++++++++++++++++++Loading Label Data++++++++++++++++++++++++++\u001b[0m\n",
      "\u001b[32m2024-11-27 17:43:38.794\u001b[0m | \u001b[1mINFO    \u001b[0m | \u001b[36mcommon.CustomData.MRI_NII_2D\u001b[0m:\u001b[36m__init__\u001b[0m:\u001b[36m19\u001b[0m - \u001b[1m+++++++++++++++Loading Image and Label data from MRI 2D+++++++++++++++\u001b[0m\n",
      "\u001b[32m2024-11-27 17:43:38.801\u001b[0m | \u001b[1mINFO    \u001b[0m | \u001b[36mcommon.CustomData.MRI_NII_2D\u001b[0m:\u001b[36m__init__\u001b[0m:\u001b[36m23\u001b[0m - \u001b[1m++++++++++++++++++++++++++Loading Label Data++++++++++++++++++++++++++\u001b[0m\n"
     ]
    }
   ],
   "source": [
    "src_train = Dataset2D(\n",
    "    root=r\"C:\\Users\\doxda\\OneDrive\\Documentos\\Repos\\masters-degree-data-shift\\data\\ADNI1-T1-AD-CN\\Image\\Preprocess\\6_step_nifti_2d\",\n",
    "    domain=\"GE\",\n",
    "    split=\"train\",\n",
    "    transform=data_transforms[\"val_test\"],\n",
    ")\n",
    "src_train_transform = Dataset2D(\n",
    "    root=r\"C:\\Users\\doxda\\OneDrive\\Documentos\\Repos\\masters-degree-data-shift\\data\\ADNI1-T1-AD-CN\\Image\\Preprocess\\6_step_nifti_2d\",\n",
    "    domain=\"GE\",\n",
    "    split=\"train\",\n",
    "    transform=data_transforms[\"train\"],\n",
    ")\n",
    "src_val = Dataset2D(\n",
    "    root=r\"C:\\Users\\doxda\\OneDrive\\Documentos\\Repos\\masters-degree-data-shift\\data\\ADNI1-T1-AD-CN\\Image\\Preprocess\\6_step_nifti_2d\",\n",
    "    domain=\"GE\",\n",
    "    split=\"val\",\n",
    "    transform=data_transforms[\"val_test\"],\n",
    ")\n",
    "\n",
    "src_val_transform = Dataset2D(\n",
    "    root=r\"C:\\Users\\doxda\\OneDrive\\Documentos\\Repos\\masters-degree-data-shift\\data\\ADNI1-T1-AD-CN\\Image\\Preprocess\\6_step_nifti_2d\",\n",
    "    domain=\"GE\",\n",
    "    split=\"val\",\n",
    "    transform=data_transforms[\"train\"],\n",
    ")\n",
    "src_test = Dataset2D(\n",
    "    root=r\"C:\\Users\\doxda\\OneDrive\\Documentos\\Repos\\masters-degree-data-shift\\data\\ADNI1-T1-AD-CN\\Image\\Preprocess\\6_step_nifti_2d\",\n",
    "    domain=\"GE\",\n",
    "    split=\"test\",\n",
    "    transform=data_transforms[\"val_test\"],\n",
    ")"
   ]
  },
  {
   "cell_type": "code",
   "execution_count": 10,
   "metadata": {},
   "outputs": [
    {
     "name": "stderr",
     "output_type": "stream",
     "text": [
      "\u001b[32m2024-11-27 17:43:38.807\u001b[0m | \u001b[1mINFO    \u001b[0m | \u001b[36mcommon.CustomData.MRI_NII_2D\u001b[0m:\u001b[36m__init__\u001b[0m:\u001b[36m19\u001b[0m - \u001b[1m+++++++++++++++Loading Image and Label data from MRI 2D+++++++++++++++\u001b[0m\n",
      "\u001b[32m2024-11-27 17:43:38.823\u001b[0m | \u001b[1mINFO    \u001b[0m | \u001b[36mcommon.CustomData.MRI_NII_2D\u001b[0m:\u001b[36m__init__\u001b[0m:\u001b[36m23\u001b[0m - \u001b[1m++++++++++++++++++++++++++Loading Label Data++++++++++++++++++++++++++\u001b[0m\n",
      "\u001b[32m2024-11-27 17:43:38.824\u001b[0m | \u001b[1mINFO    \u001b[0m | \u001b[36mcommon.CustomData.MRI_NII_2D\u001b[0m:\u001b[36m__init__\u001b[0m:\u001b[36m19\u001b[0m - \u001b[1m+++++++++++++++Loading Image and Label data from MRI 2D+++++++++++++++\u001b[0m\n",
      "\u001b[32m2024-11-27 17:43:38.839\u001b[0m | \u001b[1mINFO    \u001b[0m | \u001b[36mcommon.CustomData.MRI_NII_2D\u001b[0m:\u001b[36m__init__\u001b[0m:\u001b[36m23\u001b[0m - \u001b[1m++++++++++++++++++++++++++Loading Label Data++++++++++++++++++++++++++\u001b[0m\n",
      "\u001b[32m2024-11-27 17:43:38.841\u001b[0m | \u001b[1mINFO    \u001b[0m | \u001b[36mcommon.CustomData.MRI_NII_2D\u001b[0m:\u001b[36m__init__\u001b[0m:\u001b[36m19\u001b[0m - \u001b[1m+++++++++++++++Loading Image and Label data from MRI 2D+++++++++++++++\u001b[0m\n",
      "\u001b[32m2024-11-27 17:43:38.844\u001b[0m | \u001b[1mINFO    \u001b[0m | \u001b[36mcommon.CustomData.MRI_NII_2D\u001b[0m:\u001b[36m__init__\u001b[0m:\u001b[36m23\u001b[0m - \u001b[1m++++++++++++++++++++++++++Loading Label Data++++++++++++++++++++++++++\u001b[0m\n",
      "\u001b[32m2024-11-27 17:43:38.845\u001b[0m | \u001b[1mINFO    \u001b[0m | \u001b[36mcommon.CustomData.MRI_NII_2D\u001b[0m:\u001b[36m__init__\u001b[0m:\u001b[36m19\u001b[0m - \u001b[1m+++++++++++++++Loading Image and Label data from MRI 2D+++++++++++++++\u001b[0m\n",
      "\u001b[32m2024-11-27 17:43:38.848\u001b[0m | \u001b[1mINFO    \u001b[0m | \u001b[36mcommon.CustomData.MRI_NII_2D\u001b[0m:\u001b[36m__init__\u001b[0m:\u001b[36m23\u001b[0m - \u001b[1m++++++++++++++++++++++++++Loading Label Data++++++++++++++++++++++++++\u001b[0m\n"
     ]
    }
   ],
   "source": [
    "target_train = Dataset2D(\n",
    "    root=r\"C:\\Users\\doxda\\OneDrive\\Documentos\\Repos\\masters-degree-data-shift\\data\\ADNI1-T1-AD-CN\\Image\\Preprocess\\6_step_nifti_2d\",\n",
    "    domain=\"Philips\",\n",
    "    split=\"train\",\n",
    "    transform=data_transforms[\"val_test\"],\n",
    ")\n",
    "\n",
    "target_train_transform = Dataset2D(\n",
    "    root=r\"C:\\Users\\doxda\\OneDrive\\Documentos\\Repos\\masters-degree-data-shift\\data\\ADNI1-T1-AD-CN\\Image\\Preprocess\\6_step_nifti_2d\",\n",
    "    domain=\"Philips\",\n",
    "    split=\"train\",\n",
    "    transform=data_transforms[\"train\"],\n",
    ")\n",
    "target_val = Dataset2D(\n",
    "    root=r\"C:\\Users\\doxda\\OneDrive\\Documentos\\Repos\\masters-degree-data-shift\\data\\ADNI1-T1-AD-CN\\Image\\Preprocess\\6_step_nifti_2d\",\n",
    "    domain=\"Philips\",\n",
    "    split=\"val\",\n",
    "    transform=data_transforms[\"val_test\"],\n",
    ")\n",
    "target_test = Dataset2D(\n",
    "    root=r\"C:\\Users\\doxda\\OneDrive\\Documentos\\Repos\\masters-degree-data-shift\\data\\ADNI1-T1-AD-CN\\Image\\Preprocess\\6_step_nifti_2d\",\n",
    "    domain=\"Philips\",\n",
    "    split=\"test\",\n",
    "    transform=data_transforms[\"val_test\"],\n",
    ")"
   ]
  },
  {
   "cell_type": "code",
   "execution_count": 11,
   "metadata": {},
   "outputs": [
    {
     "data": {
      "image/png": "[encoded data removed]",
      "text/plain": [
       "<Figure size 500x500 with 1 Axes>"
      ]
     },
     "metadata": {},
     "output_type": "display_data"
    }
   ],
   "source": [
    "# Get a batch of training data\n",
    "inputs, classes = next(iter(src_train_transform))\n",
    "\n",
    "# Make a grid from batch\n",
    "out = torchvision.utils.make_grid(inputs)\n",
    "\n",
    "imshow(inputs)"
   ]
  },
  {
   "cell_type": "code",
   "execution_count": 12,
   "metadata": {},
   "outputs": [
    {
     "data": {
      "text/plain": [
       "torch.Size([3, 224, 224])"
      ]
     },
     "execution_count": 12,
     "metadata": {},
     "output_type": "execute_result"
    }
   ],
   "source": [
    "inputs.shape"
   ]
  },
  {
   "cell_type": "code",
   "execution_count": 13,
   "metadata": {},
   "outputs": [],
   "source": [
    "algorithm = \"A\""
   ]
  },
  {
   "cell_type": "code",
   "execution_count": 14,
   "metadata": {},
   "outputs": [],
   "source": [
    "dataset = {}\n",
    "\n",
    "dataset[\"src_train\"] = SourceDataset(ConcatDataset([src_train, src_val]))\n",
    "dataset[\"src_val\"] = SourceDataset(src_test)\n",
    "\n",
    "dataset[\"target_train\"] = TargetDataset(target_train)\n",
    "dataset[\"target_val\"] = TargetDataset(target_val)\n",
    "dataset[\"target_test\"] = TargetDataset(target_test)\n",
    "\n",
    "dataset[\"target_train_with_labels\"] = TargetDataset(\n",
    "    target_train, domain=1, supervised=True\n",
    ")\n",
    "dataset[\"target_val_with_labels\"] = TargetDataset(target_val, domain=1, supervised=True)\n",
    "dataset[\"target_test_with_labels\"] = TargetDataset(\n",
    "    target_test, domain=1, supervised=True\n",
    ")\n",
    "\n",
    "dataset[\"train\"] = CombinedSourceAndTargetDataset(\n",
    "    SourceDataset(ConcatDataset([src_train_transform, src_val_transform])),\n",
    "    TargetDataset(target_train_transform),\n",
    ")\n",
    "\n",
    "# Create datasets and dataloaders\n",
    "if algorithm == \"source-only\":\n",
    "    train_names, val_names = [\"src_train\"], [\n",
    "        \"train\",\n",
    "        \"src_val\",\n",
    "        \"target_train\",\n",
    "        \"target_train_with_labels\",\n",
    "        \"target_val\",\n",
    "        \"target_val_with_labels\",\n",
    "        \"target_test\",\n",
    "        \"target_test_with_labels\",\n",
    "    ]\n",
    "else:\n",
    "    train_names, val_names = [\"train\"], [\n",
    "        \"src_train\",\n",
    "        \"src_val\",\n",
    "        \"target_train\",\n",
    "        \"target_train_with_labels\",\n",
    "        \"target_val\",\n",
    "        \"target_val_with_labels\",\n",
    "        \"target_test\",\n",
    "        \"target_test_with_labels\",\n",
    "    ]"
   ]
  },
  {
   "cell_type": "code",
   "execution_count": 15,
   "metadata": {},
   "outputs": [],
   "source": [
    "dc = DataloaderCreator(\n",
    "    batch_size=64, num_workers=0, train_names=train_names, val_names=val_names\n",
    ")"
   ]
  },
  {
   "cell_type": "code",
   "execution_count": 16,
   "metadata": {},
   "outputs": [],
   "source": [
    "dataloaders = dc(**dataset)"
   ]
  },
  {
   "cell_type": "code",
   "execution_count": 17,
   "metadata": {},
   "outputs": [],
   "source": [
    "target_dataset_size = len(dataset[\"target_train\"])"
   ]
  },
  {
   "cell_type": "markdown",
   "metadata": {},
   "source": [
    "### Model"
   ]
  },
  {
   "cell_type": "markdown",
   "metadata": {},
   "source": [
    "## Testes"
   ]
  },
  {
   "cell_type": "code",
   "execution_count": 18,
   "metadata": {},
   "outputs": [],
   "source": [
    "VALIDATORS = {\n",
    "    \"src_train_acc_score\": lambda kwargs: (\n",
    "        AccuracyValidator(),\n",
    "        {\"src_val\": \"src_train\"},\n",
    "    ),\n",
    "    \"src_val_acc_score\": lambda kwargs: (AccuracyValidator(), {\"src_val\": \"src_val\"}),\n",
    "    \"target_train_acc_score\": lambda kwargs: (\n",
    "        AccuracyValidator(),\n",
    "        {\"src_val\": \"target_train\"},\n",
    "    ),\n",
    "    \"target_val_acc_score\": lambda kwargs: (\n",
    "        AccuracyValidator(),\n",
    "        {\"src_val\": \"target_val\"},\n",
    "    ),\n",
    "    \"target_test_acc_score\": lambda kwargs: (\n",
    "        AccuracyValidator(),\n",
    "        {\"src_val\": \"target_test\"},\n",
    "    ),\n",
    "}"
   ]
  },
  {
   "cell_type": "code",
   "execution_count": 19,
   "metadata": {},
   "outputs": [],
   "source": [
    "chosen_validators = {\n",
    "    key: VALIDATORS[key]({\"num_classes\": 2})\n",
    "    for key in [\n",
    "        \"src_train_acc_score\",\n",
    "        \"src_val_acc_score\",\n",
    "        \"target_train_acc_score\",\n",
    "        \"target_val_acc_score\",\n",
    "        \"target_test_acc_score\",\n",
    "    ]\n",
    "}"
   ]
  },
  {
   "cell_type": "code",
   "execution_count": 20,
   "metadata": {},
   "outputs": [
    {
     "data": {
      "text/plain": [
       "{'src_train_acc_score': (AccuracyValidator(required_data=['src_val']),\n",
       "  {'src_val': 'src_train'}),\n",
       " 'src_val_acc_score': (AccuracyValidator(required_data=['src_val']),\n",
       "  {'src_val': 'src_val'}),\n",
       " 'target_train_acc_score': (AccuracyValidator(required_data=['src_val']),\n",
       "  {'src_val': 'target_train'}),\n",
       " 'target_val_acc_score': (AccuracyValidator(required_data=['src_val']),\n",
       "  {'src_val': 'target_val'}),\n",
       " 'target_test_acc_score': (AccuracyValidator(required_data=['src_val']),\n",
       "  {'src_val': 'target_test'})}"
      ]
     },
     "execution_count": 20,
     "metadata": {},
     "output_type": "execute_result"
    }
   ],
   "source": [
    "chosen_validators"
   ]
  },
  {
   "cell_type": "code",
   "execution_count": 21,
   "metadata": {},
   "outputs": [
    {
     "data": {
      "text/plain": [
       "{'src_train': ['src', 'train'],\n",
       " 'src_val': ['src', 'val'],\n",
       " 'target_test': ['target', 'test_with_labels'],\n",
       " 'target_val': ['target', 'val_with_labels'],\n",
       " 'target_train': ['target', 'train_with_labels']}"
      ]
     },
     "execution_count": 21,
     "metadata": {},
     "output_type": "execute_result"
    }
   ],
   "source": [
    "splits = list(\n",
    "    set([val for v in chosen_validators for val in chosen_validators[v][1].values()])\n",
    ")\n",
    "split_splits = [key.split(\"_\") for key in splits]\n",
    "splits_with_labels = []\n",
    "for split in split_splits:\n",
    "    s = f\"{split[1]}_with_labels\" if split[0] == \"target\" else split[1]\n",
    "    splits_with_labels.append([split[0], s])\n",
    "\n",
    "eval_data = {a: b for a, b in zip(*(splits, splits_with_labels))}\n",
    "eval_data"
   ]
  },
  {
   "cell_type": "code",
   "execution_count": 22,
   "metadata": {},
   "outputs": [
    {
     "name": "stdout",
     "output_type": "stream",
     "text": [
      "----------------------\n",
      "src_train_acc_score\n",
      "AccuracyValidator(required_data=['src_val'])\n",
      "{'src_val': {'labels': 9, 'fl0': 9, 'fl3': 9, 'fl6': 9, 'logits': 9, 'preds': 9}}\n",
      "----------------------\n",
      "src_val_acc_score\n",
      "AccuracyValidator(required_data=['src_val'])\n",
      "{'src_val': {'labels': 9, 'fl0': 9, 'fl3': 9, 'fl6': 9, 'logits': 9, 'preds': 9}}\n",
      "----------------------\n",
      "target_train_acc_score\n",
      "AccuracyValidator(required_data=['src_val'])\n",
      "{'src_val': {'labels': 9, 'fl0': 9, 'fl3': 9, 'fl6': 9, 'logits': 9, 'preds': 9}}\n",
      "----------------------\n",
      "target_val_acc_score\n",
      "AccuracyValidator(required_data=['src_val'])\n",
      "{'src_val': {'labels': 9, 'fl0': 9, 'fl3': 9, 'fl6': 9, 'logits': 9, 'preds': 9}}\n",
      "----------------------\n",
      "target_test_acc_score\n",
      "AccuracyValidator(required_data=['src_val'])\n",
      "{'src_val': {'labels': 9, 'fl0': 9, 'fl3': 9, 'fl6': 9, 'logits': 9, 'preds': 9}}\n"
     ]
    }
   ],
   "source": [
    "d = {\"epoch\": 1}\n",
    "data = {\n",
    "    \"target_val\": {\"labels\": 9, \"fl0\": 9, \"fl3\": 9, \"fl6\": 9, \"logits\": 9, \"preds\": 9},\n",
    "    \"target_train\": {\n",
    "        \"labels\": 9,\n",
    "        \"fl0\": 9,\n",
    "        \"fl3\": 9,\n",
    "        \"fl6\": 9,\n",
    "        \"logits\": 9,\n",
    "        \"preds\": 9,\n",
    "    },\n",
    "    \"src_train\": {\"labels\": 9, \"fl0\": 9, \"fl3\": 9, \"fl6\": 9, \"logits\": 9, \"preds\": 9},\n",
    "    \"target_test\": {\"labels\": 9, \"fl0\": 9, \"fl3\": 9, \"fl6\": 9, \"logits\": 9, \"preds\": 9},\n",
    "    \"src_val\": {\"labels\": 9, \"fl0\": 9, \"fl3\": 9, \"fl6\": 9, \"logits\": 9, \"preds\": 9},\n",
    "}\n",
    "for name, (validator, input_keys) in chosen_validators.items():\n",
    "    print(\"----------------------\")\n",
    "    print(name)\n",
    "    print(validator)\n",
    "    d[name] = {key: data[value] for key, value in input_keys.items()}\n",
    "    print(d[name])"
   ]
  },
  {
   "cell_type": "code",
   "execution_count": 23,
   "metadata": {},
   "outputs": [
    {
     "data": {
      "text/plain": [
       "{'src_val': {'labels': 9,\n",
       "  'fl0': 9,\n",
       "  'fl3': 9,\n",
       "  'fl6': 9,\n",
       "  'logits': 9,\n",
       "  'preds': 9}}"
      ]
     },
     "execution_count": 23,
     "metadata": {},
     "output_type": "execute_result"
    }
   ],
   "source": [
    "{\"src_val\": {\"labels\": 9, \"fl0\": 9, \"fl3\": 9, \"fl6\": 9, \"logits\": 9, \"preds\": 9}}"
   ]
  },
  {
   "cell_type": "markdown",
   "metadata": {},
   "source": [
    "## Train"
   ]
  },
  {
   "cell_type": "code",
   "execution_count": 24,
   "metadata": {},
   "outputs": [],
   "source": [
    "# ['source-only', 'atdoc', 'bnm', 'dann', 'mcc', 'mcd', 'mmd']"
   ]
  },
  {
   "cell_type": "code",
   "execution_count": 25,
   "metadata": {},
   "outputs": [
    {
     "name": "stdout",
     "output_type": "stream",
     "text": [
      "Epoch 0\n",
      "Train\n"
     ]
    },
    {
     "name": "stderr",
     "output_type": "stream",
     "text": [
      "100%|██████████| 57/57 [00:21<00:00,  2.64it/s]\n"
     ]
    },
    {
     "name": "stdout",
     "output_type": "stream",
     "text": [
      "Eval\n"
     ]
    },
    {
     "name": "stderr",
     "output_type": "stream",
     "text": [
      "100%|██████████| 11/11 [00:01<00:00,  6.65it/s]\n",
      "\u001b[32m2024-11-20 19:04:47.468\u001b[0m | \u001b[1mINFO    \u001b[0m | \u001b[36mcommon.utils\u001b[0m:\u001b[36m__call__\u001b[0m:\u001b[36m183\u001b[0m - \u001b[1m[ModelCheckpoint] Saving model to: c:\\Users\\doxda\\OneDrive\\Documentos\\Repos\\masters-degree-data-shift\\models with acc 51.1905\u001b[0m\n"
     ]
    },
    {
     "name": "stdout",
     "output_type": "stream",
     "text": [
      "\n",
      "Epoch 0 score = 51.1904776096344\n",
      "\n",
      "Epoch 1\n",
      "Train\n"
     ]
    },
    {
     "name": "stderr",
     "output_type": "stream",
     "text": [
      "100%|██████████| 57/57 [00:21<00:00,  2.62it/s]\n"
     ]
    },
    {
     "name": "stdout",
     "output_type": "stream",
     "text": [
      "Eval\n"
     ]
    },
    {
     "name": "stderr",
     "output_type": "stream",
     "text": [
      "100%|██████████| 11/11 [00:01<00:00,  6.83it/s]\n",
      "\u001b[32m2024-11-20 19:05:10.914\u001b[0m | \u001b[1mINFO    \u001b[0m | \u001b[36mcommon.utils\u001b[0m:\u001b[36m__call__\u001b[0m:\u001b[36m183\u001b[0m - \u001b[1m[ModelCheckpoint] Saving model to: c:\\Users\\doxda\\OneDrive\\Documentos\\Repos\\masters-degree-data-shift\\models with acc 52.5298\u001b[0m\n"
     ]
    },
    {
     "name": "stdout",
     "output_type": "stream",
     "text": [
      "\n",
      "Epoch 1 score = 52.52976417541504\n",
      "\n",
      "Epoch 2\n",
      "Train\n"
     ]
    },
    {
     "name": "stderr",
     "output_type": "stream",
     "text": [
      "100%|██████████| 57/57 [00:21<00:00,  2.64it/s]\n"
     ]
    },
    {
     "name": "stdout",
     "output_type": "stream",
     "text": [
      "Eval\n"
     ]
    },
    {
     "name": "stderr",
     "output_type": "stream",
     "text": [
      "100%|██████████| 11/11 [00:01<00:00,  6.86it/s]\n"
     ]
    },
    {
     "name": "stdout",
     "output_type": "stream",
     "text": [
      "\n",
      "Epoch 2 score = 50.89285969734192\n",
      "\n",
      "Epoch 3\n",
      "Train\n"
     ]
    },
    {
     "name": "stderr",
     "output_type": "stream",
     "text": [
      "100%|██████████| 57/57 [00:21<00:00,  2.67it/s]\n"
     ]
    },
    {
     "name": "stdout",
     "output_type": "stream",
     "text": [
      "Eval\n"
     ]
    },
    {
     "name": "stderr",
     "output_type": "stream",
     "text": [
      "100%|██████████| 11/11 [00:01<00:00,  6.89it/s]\n",
      "\u001b[32m2024-11-20 19:05:57.099\u001b[0m | \u001b[1mINFO    \u001b[0m | \u001b[36mcommon.utils\u001b[0m:\u001b[36m__call__\u001b[0m:\u001b[36m183\u001b[0m - \u001b[1m[ModelCheckpoint] Saving model to: c:\\Users\\doxda\\OneDrive\\Documentos\\Repos\\masters-degree-data-shift\\models with acc 52.8274\u001b[0m\n"
     ]
    },
    {
     "name": "stdout",
     "output_type": "stream",
     "text": [
      "\n",
      "Epoch 3 score = 52.82738208770752\n",
      "\n",
      "Epoch 4\n",
      "Train\n"
     ]
    },
    {
     "name": "stderr",
     "output_type": "stream",
     "text": [
      "100%|██████████| 57/57 [00:21<00:00,  2.66it/s]\n"
     ]
    },
    {
     "name": "stdout",
     "output_type": "stream",
     "text": [
      "Eval\n"
     ]
    },
    {
     "name": "stderr",
     "output_type": "stream",
     "text": [
      "100%|██████████| 11/11 [00:01<00:00,  6.56it/s]\n",
      "\u001b[32m2024-11-20 19:06:20.290\u001b[0m | \u001b[1mINFO    \u001b[0m | \u001b[36mcommon.utils\u001b[0m:\u001b[36m__call__\u001b[0m:\u001b[36m183\u001b[0m - \u001b[1m[ModelCheckpoint] Saving model to: c:\\Users\\doxda\\OneDrive\\Documentos\\Repos\\masters-degree-data-shift\\models with acc 54.1667\u001b[0m\n"
     ]
    },
    {
     "name": "stdout",
     "output_type": "stream",
     "text": [
      "\n",
      "Epoch 4 score = 54.16666865348816\n",
      "\n",
      "Epoch 5\n",
      "Train\n"
     ]
    },
    {
     "name": "stderr",
     "output_type": "stream",
     "text": [
      "100%|██████████| 57/57 [00:21<00:00,  2.66it/s]\n"
     ]
    },
    {
     "name": "stdout",
     "output_type": "stream",
     "text": [
      "Eval\n"
     ]
    },
    {
     "name": "stderr",
     "output_type": "stream",
     "text": [
      "100%|██████████| 11/11 [00:01<00:00,  6.86it/s]\n",
      "\u001b[32m2024-11-20 19:06:43.413\u001b[0m | \u001b[1mINFO    \u001b[0m | \u001b[36mcommon.utils\u001b[0m:\u001b[36m__call__\u001b[0m:\u001b[36m183\u001b[0m - \u001b[1m[ModelCheckpoint] Saving model to: c:\\Users\\doxda\\OneDrive\\Documentos\\Repos\\masters-degree-data-shift\\models with acc 55.0595\u001b[0m\n"
     ]
    },
    {
     "name": "stdout",
     "output_type": "stream",
     "text": [
      "\n",
      "Epoch 5 score = 55.0595223903656\n",
      "\n",
      "Epoch 6\n",
      "Train\n"
     ]
    },
    {
     "name": "stderr",
     "output_type": "stream",
     "text": [
      "100%|██████████| 57/57 [00:21<00:00,  2.66it/s]\n"
     ]
    },
    {
     "name": "stdout",
     "output_type": "stream",
     "text": [
      "Eval\n"
     ]
    },
    {
     "name": "stderr",
     "output_type": "stream",
     "text": [
      "100%|██████████| 11/11 [00:01<00:00,  6.93it/s]\n"
     ]
    },
    {
     "name": "stdout",
     "output_type": "stream",
     "text": [
      "\n",
      "Epoch 6 score = 53.57142686843872\n",
      "\n",
      "Epoch 7\n",
      "Train\n"
     ]
    },
    {
     "name": "stderr",
     "output_type": "stream",
     "text": [
      "100%|██████████| 57/57 [00:21<00:00,  2.65it/s]\n"
     ]
    },
    {
     "name": "stdout",
     "output_type": "stream",
     "text": [
      "Eval\n"
     ]
    },
    {
     "name": "stderr",
     "output_type": "stream",
     "text": [
      "100%|██████████| 11/11 [00:01<00:00,  6.85it/s]\n"
     ]
    },
    {
     "name": "stdout",
     "output_type": "stream",
     "text": [
      "\n",
      "Epoch 7 score = 54.16666865348816\n",
      "\n",
      "Epoch 8\n",
      "Train\n"
     ]
    },
    {
     "name": "stderr",
     "output_type": "stream",
     "text": [
      "100%|██████████| 57/57 [00:21<00:00,  2.60it/s]\n"
     ]
    },
    {
     "name": "stdout",
     "output_type": "stream",
     "text": [
      "Eval\n"
     ]
    },
    {
     "name": "stderr",
     "output_type": "stream",
     "text": [
      "100%|██████████| 11/11 [00:01<00:00,  6.29it/s]\n"
     ]
    },
    {
     "name": "stdout",
     "output_type": "stream",
     "text": [
      "\n",
      "Epoch 8 score = 54.46428656578064\n",
      "\n",
      "Epoch 9\n",
      "Train\n"
     ]
    },
    {
     "name": "stderr",
     "output_type": "stream",
     "text": [
      "100%|██████████| 57/57 [00:22<00:00,  2.51it/s]\n"
     ]
    },
    {
     "name": "stdout",
     "output_type": "stream",
     "text": [
      "Eval\n"
     ]
    },
    {
     "name": "stderr",
     "output_type": "stream",
     "text": [
      "100%|██████████| 11/11 [00:01<00:00,  5.87it/s]\n",
      "\u001b[32m2024-11-20 19:08:17.895\u001b[0m | \u001b[1mINFO    \u001b[0m | \u001b[36mcommon.utils\u001b[0m:\u001b[36m__call__\u001b[0m:\u001b[36m183\u001b[0m - \u001b[1m[ModelCheckpoint] Saving model to: c:\\Users\\doxda\\OneDrive\\Documentos\\Repos\\masters-degree-data-shift\\models with acc 55.5060\u001b[0m\n"
     ]
    },
    {
     "name": "stdout",
     "output_type": "stream",
     "text": [
      "\n",
      "Epoch 9 score = 55.5059552192688\n",
      "\n",
      "Epoch 10\n",
      "Train\n"
     ]
    },
    {
     "name": "stderr",
     "output_type": "stream",
     "text": [
      "100%|██████████| 57/57 [00:24<00:00,  2.33it/s]\n"
     ]
    },
    {
     "name": "stdout",
     "output_type": "stream",
     "text": [
      "Eval\n"
     ]
    },
    {
     "name": "stderr",
     "output_type": "stream",
     "text": [
      "100%|██████████| 11/11 [00:01<00:00,  6.21it/s]\n"
     ]
    },
    {
     "name": "stdout",
     "output_type": "stream",
     "text": [
      "\n",
      "Epoch 10 score = 55.20833134651184\n",
      "\n",
      "Epoch 11\n",
      "Train\n"
     ]
    },
    {
     "name": "stderr",
     "output_type": "stream",
     "text": [
      "100%|██████████| 57/57 [00:23<00:00,  2.46it/s]\n"
     ]
    },
    {
     "name": "stdout",
     "output_type": "stream",
     "text": [
      "Eval\n"
     ]
    },
    {
     "name": "stderr",
     "output_type": "stream",
     "text": [
      "100%|██████████| 11/11 [00:01<00:00,  5.76it/s]\n"
     ]
    },
    {
     "name": "stdout",
     "output_type": "stream",
     "text": [
      "\n",
      "Epoch 11 score = 54.76190447807312\n",
      "\n",
      "Epoch 12\n",
      "Train\n"
     ]
    },
    {
     "name": "stderr",
     "output_type": "stream",
     "text": [
      "100%|██████████| 57/57 [00:22<00:00,  2.49it/s]\n"
     ]
    },
    {
     "name": "stdout",
     "output_type": "stream",
     "text": [
      "Eval\n"
     ]
    },
    {
     "name": "stderr",
     "output_type": "stream",
     "text": [
      "100%|██████████| 11/11 [00:01<00:00,  6.19it/s]\n"
     ]
    },
    {
     "name": "stdout",
     "output_type": "stream",
     "text": [
      "\n",
      "Epoch 12 score = 55.0595223903656\n",
      "\n",
      "Epoch 13\n",
      "Train\n"
     ]
    },
    {
     "name": "stderr",
     "output_type": "stream",
     "text": [
      "100%|██████████| 57/57 [00:22<00:00,  2.59it/s]\n"
     ]
    },
    {
     "name": "stdout",
     "output_type": "stream",
     "text": [
      "Eval\n"
     ]
    },
    {
     "name": "stderr",
     "output_type": "stream",
     "text": [
      "100%|██████████| 11/11 [00:01<00:00,  6.46it/s]\n",
      "\u001b[32m2024-11-20 19:09:57.806\u001b[0m | \u001b[1mINFO    \u001b[0m | \u001b[36mcommon.utils\u001b[0m:\u001b[36m__call__\u001b[0m:\u001b[36m183\u001b[0m - \u001b[1m[ModelCheckpoint] Saving model to: c:\\Users\\doxda\\OneDrive\\Documentos\\Repos\\masters-degree-data-shift\\models with acc 55.6548\u001b[0m\n"
     ]
    },
    {
     "name": "stdout",
     "output_type": "stream",
     "text": [
      "\n",
      "Epoch 13 score = 55.65476417541504\n",
      "\n",
      "Epoch 14\n",
      "Train\n"
     ]
    },
    {
     "name": "stderr",
     "output_type": "stream",
     "text": [
      "100%|██████████| 57/57 [00:22<00:00,  2.54it/s]\n"
     ]
    },
    {
     "name": "stdout",
     "output_type": "stream",
     "text": [
      "Eval\n"
     ]
    },
    {
     "name": "stderr",
     "output_type": "stream",
     "text": [
      "100%|██████████| 11/11 [00:01<00:00,  7.06it/s]\n",
      "\u001b[32m2024-11-20 19:10:21.899\u001b[0m | \u001b[1mINFO    \u001b[0m | \u001b[36mcommon.utils\u001b[0m:\u001b[36m__call__\u001b[0m:\u001b[36m183\u001b[0m - \u001b[1m[ModelCheckpoint] Saving model to: c:\\Users\\doxda\\OneDrive\\Documentos\\Repos\\masters-degree-data-shift\\models with acc 56.1012\u001b[0m\n"
     ]
    },
    {
     "name": "stdout",
     "output_type": "stream",
     "text": [
      "\n",
      "Epoch 14 score = 56.10119104385376\n",
      "\n",
      "Epoch 15\n",
      "Train\n"
     ]
    },
    {
     "name": "stderr",
     "output_type": "stream",
     "text": [
      "100%|██████████| 57/57 [00:21<00:00,  2.61it/s]\n"
     ]
    },
    {
     "name": "stdout",
     "output_type": "stream",
     "text": [
      "Eval\n"
     ]
    },
    {
     "name": "stderr",
     "output_type": "stream",
     "text": [
      "100%|██████████| 11/11 [00:01<00:00,  7.10it/s]\n",
      "\u001b[32m2024-11-20 19:10:45.373\u001b[0m | \u001b[1mINFO    \u001b[0m | \u001b[36mcommon.utils\u001b[0m:\u001b[36m__call__\u001b[0m:\u001b[36m183\u001b[0m - \u001b[1m[ModelCheckpoint] Saving model to: c:\\Users\\doxda\\OneDrive\\Documentos\\Repos\\masters-degree-data-shift\\models with acc 56.2500\u001b[0m\n"
     ]
    },
    {
     "name": "stdout",
     "output_type": "stream",
     "text": [
      "\n",
      "Epoch 15 score = 56.25\n",
      "\n",
      "Epoch 16\n",
      "Train\n"
     ]
    },
    {
     "name": "stderr",
     "output_type": "stream",
     "text": [
      "100%|██████████| 57/57 [00:21<00:00,  2.61it/s]\n"
     ]
    },
    {
     "name": "stdout",
     "output_type": "stream",
     "text": [
      "Eval\n"
     ]
    },
    {
     "name": "stderr",
     "output_type": "stream",
     "text": [
      "100%|██████████| 11/11 [00:01<00:00,  7.16it/s]\n"
     ]
    },
    {
     "name": "stdout",
     "output_type": "stream",
     "text": [
      "\n",
      "Epoch 16 score = 55.95238208770752\n",
      "\n",
      "Epoch 17\n",
      "Train\n"
     ]
    },
    {
     "name": "stderr",
     "output_type": "stream",
     "text": [
      "100%|██████████| 57/57 [00:21<00:00,  2.63it/s]\n"
     ]
    },
    {
     "name": "stdout",
     "output_type": "stream",
     "text": [
      "Eval\n"
     ]
    },
    {
     "name": "stderr",
     "output_type": "stream",
     "text": [
      "100%|██████████| 11/11 [00:01<00:00,  6.98it/s]\n"
     ]
    },
    {
     "name": "stdout",
     "output_type": "stream",
     "text": [
      "\n",
      "Epoch 17 score = 55.5059552192688\n",
      "\n",
      "Epoch 18\n",
      "Train\n"
     ]
    },
    {
     "name": "stderr",
     "output_type": "stream",
     "text": [
      "100%|██████████| 57/57 [00:21<00:00,  2.60it/s]\n"
     ]
    },
    {
     "name": "stdout",
     "output_type": "stream",
     "text": [
      "Eval\n"
     ]
    },
    {
     "name": "stderr",
     "output_type": "stream",
     "text": [
      "100%|██████████| 11/11 [00:01<00:00,  7.03it/s]\n"
     ]
    },
    {
     "name": "stdout",
     "output_type": "stream",
     "text": [
      "\n",
      "Epoch 18 score = 55.65476417541504\n",
      "\n",
      "Epoch 19\n",
      "Train\n"
     ]
    },
    {
     "name": "stderr",
     "output_type": "stream",
     "text": [
      "100%|██████████| 57/57 [00:21<00:00,  2.62it/s]\n"
     ]
    },
    {
     "name": "stdout",
     "output_type": "stream",
     "text": [
      "Eval\n"
     ]
    },
    {
     "name": "stderr",
     "output_type": "stream",
     "text": [
      "100%|██████████| 11/11 [00:01<00:00,  6.91it/s]\n"
     ]
    },
    {
     "name": "stdout",
     "output_type": "stream",
     "text": [
      "\n",
      "Epoch 19 score = 55.65476417541504\n",
      "\n",
      "Epoch 20\n",
      "Train\n"
     ]
    },
    {
     "name": "stderr",
     "output_type": "stream",
     "text": [
      "100%|██████████| 57/57 [00:21<00:00,  2.61it/s]\n"
     ]
    },
    {
     "name": "stdout",
     "output_type": "stream",
     "text": [
      "Eval\n"
     ]
    },
    {
     "name": "stderr",
     "output_type": "stream",
     "text": [
      "100%|██████████| 11/11 [00:01<00:00,  6.98it/s]\n"
     ]
    },
    {
     "name": "stdout",
     "output_type": "stream",
     "text": [
      "\n",
      "Epoch 20 score = 54.3154776096344\n",
      "\n",
      "Epoch 21\n",
      "Train\n"
     ]
    },
    {
     "name": "stderr",
     "output_type": "stream",
     "text": [
      "100%|██████████| 57/57 [00:21<00:00,  2.61it/s]\n"
     ]
    },
    {
     "name": "stdout",
     "output_type": "stream",
     "text": [
      "Eval\n"
     ]
    },
    {
     "name": "stderr",
     "output_type": "stream",
     "text": [
      "100%|██████████| 11/11 [00:01<00:00,  7.02it/s]\n"
     ]
    },
    {
     "name": "stdout",
     "output_type": "stream",
     "text": [
      "\n",
      "Epoch 21 score = 55.80357313156128\n",
      "\n",
      "Epoch 22\n",
      "Train\n"
     ]
    },
    {
     "name": "stderr",
     "output_type": "stream",
     "text": [
      "100%|██████████| 57/57 [00:21<00:00,  2.62it/s]\n"
     ]
    },
    {
     "name": "stdout",
     "output_type": "stream",
     "text": [
      "Eval\n"
     ]
    },
    {
     "name": "stderr",
     "output_type": "stream",
     "text": [
      "100%|██████████| 11/11 [00:01<00:00,  7.01it/s]\n"
     ]
    },
    {
     "name": "stdout",
     "output_type": "stream",
     "text": [
      "\n",
      "Epoch 22 score = 56.10119104385376\n",
      "\n",
      "Epoch 23\n",
      "Train\n"
     ]
    },
    {
     "name": "stderr",
     "output_type": "stream",
     "text": [
      "100%|██████████| 57/57 [00:21<00:00,  2.60it/s]\n"
     ]
    },
    {
     "name": "stdout",
     "output_type": "stream",
     "text": [
      "Eval\n"
     ]
    },
    {
     "name": "stderr",
     "output_type": "stream",
     "text": [
      "100%|██████████| 11/11 [00:01<00:00,  7.07it/s]\n"
     ]
    },
    {
     "name": "stdout",
     "output_type": "stream",
     "text": [
      "\n",
      "Epoch 23 score = 54.46428656578064\n",
      "\n",
      "Epoch 24\n",
      "Train\n"
     ]
    },
    {
     "name": "stderr",
     "output_type": "stream",
     "text": [
      "100%|██████████| 57/57 [00:21<00:00,  2.62it/s]\n"
     ]
    },
    {
     "name": "stdout",
     "output_type": "stream",
     "text": [
      "Eval\n"
     ]
    },
    {
     "name": "stderr",
     "output_type": "stream",
     "text": [
      "100%|██████████| 11/11 [00:01<00:00,  7.04it/s]\n"
     ]
    },
    {
     "name": "stdout",
     "output_type": "stream",
     "text": [
      "\n",
      "Epoch 24 score = 56.10119104385376\n",
      "\n",
      "Epoch 0\n",
      "Train\n"
     ]
    },
    {
     "name": "stderr",
     "output_type": "stream",
     "text": [
      "100%|██████████| 57/57 [00:22<00:00,  2.58it/s]\n"
     ]
    },
    {
     "name": "stdout",
     "output_type": "stream",
     "text": [
      "Eval\n"
     ]
    },
    {
     "name": "stderr",
     "output_type": "stream",
     "text": [
      "100%|██████████| 11/11 [00:01<00:00,  6.90it/s]\n",
      "\u001b[32m2024-11-20 19:14:39.973\u001b[0m | \u001b[1mINFO    \u001b[0m | \u001b[36mcommon.utils\u001b[0m:\u001b[36m__call__\u001b[0m:\u001b[36m183\u001b[0m - \u001b[1m[ModelCheckpoint] Saving model to: c:\\Users\\doxda\\OneDrive\\Documentos\\Repos\\masters-degree-data-shift\\models with acc 44.3452\u001b[0m\n"
     ]
    },
    {
     "name": "stdout",
     "output_type": "stream",
     "text": [
      "\n",
      "Epoch 0 score = 44.3452388048172\n",
      "\n",
      "Epoch 1\n",
      "Train\n"
     ]
    },
    {
     "name": "stderr",
     "output_type": "stream",
     "text": [
      "100%|██████████| 57/57 [00:21<00:00,  2.64it/s]\n"
     ]
    },
    {
     "name": "stdout",
     "output_type": "stream",
     "text": [
      "Eval\n"
     ]
    },
    {
     "name": "stderr",
     "output_type": "stream",
     "text": [
      "100%|██████████| 11/11 [00:01<00:00,  7.03it/s]\n",
      "\u001b[32m2024-11-20 19:15:03.160\u001b[0m | \u001b[1mINFO    \u001b[0m | \u001b[36mcommon.utils\u001b[0m:\u001b[36m__call__\u001b[0m:\u001b[36m183\u001b[0m - \u001b[1m[ModelCheckpoint] Saving model to: c:\\Users\\doxda\\OneDrive\\Documentos\\Repos\\masters-degree-data-shift\\models with acc 58.6310\u001b[0m\n"
     ]
    },
    {
     "name": "stdout",
     "output_type": "stream",
     "text": [
      "\n",
      "Epoch 1 score = 58.6309552192688\n",
      "\n",
      "Epoch 2\n",
      "Train\n"
     ]
    },
    {
     "name": "stderr",
     "output_type": "stream",
     "text": [
      "100%|██████████| 57/57 [00:21<00:00,  2.64it/s]\n"
     ]
    },
    {
     "name": "stdout",
     "output_type": "stream",
     "text": [
      "Eval\n"
     ]
    },
    {
     "name": "stderr",
     "output_type": "stream",
     "text": [
      "100%|██████████| 11/11 [00:01<00:00,  6.96it/s]\n"
     ]
    },
    {
     "name": "stdout",
     "output_type": "stream",
     "text": [
      "\n",
      "Epoch 2 score = 44.49404776096344\n",
      "\n",
      "Epoch 3\n",
      "Train\n"
     ]
    },
    {
     "name": "stderr",
     "output_type": "stream",
     "text": [
      "100%|██████████| 57/57 [00:21<00:00,  2.62it/s]\n"
     ]
    },
    {
     "name": "stdout",
     "output_type": "stream",
     "text": [
      "Eval\n"
     ]
    },
    {
     "name": "stderr",
     "output_type": "stream",
     "text": [
      "100%|██████████| 11/11 [00:01<00:00,  6.97it/s]\n"
     ]
    },
    {
     "name": "stdout",
     "output_type": "stream",
     "text": [
      "\n",
      "Epoch 3 score = 58.1845223903656\n",
      "\n",
      "Epoch 4\n",
      "Train\n"
     ]
    },
    {
     "name": "stderr",
     "output_type": "stream",
     "text": [
      "100%|██████████| 57/57 [00:21<00:00,  2.60it/s]\n"
     ]
    },
    {
     "name": "stdout",
     "output_type": "stream",
     "text": [
      "Eval\n"
     ]
    },
    {
     "name": "stderr",
     "output_type": "stream",
     "text": [
      "100%|██████████| 11/11 [00:01<00:00,  6.87it/s]\n",
      "\u001b[32m2024-11-20 19:16:13.320\u001b[0m | \u001b[1mINFO    \u001b[0m | \u001b[36mcommon.utils\u001b[0m:\u001b[36m__call__\u001b[0m:\u001b[36m183\u001b[0m - \u001b[1m[ModelCheckpoint] Saving model to: c:\\Users\\doxda\\OneDrive\\Documentos\\Repos\\masters-degree-data-shift\\models with acc 69.4940\u001b[0m\n"
     ]
    },
    {
     "name": "stdout",
     "output_type": "stream",
     "text": [
      "\n",
      "Epoch 4 score = 69.4940447807312\n",
      "\n",
      "Epoch 5\n",
      "Train\n"
     ]
    },
    {
     "name": "stderr",
     "output_type": "stream",
     "text": [
      "100%|██████████| 57/57 [00:21<00:00,  2.61it/s]\n"
     ]
    },
    {
     "name": "stdout",
     "output_type": "stream",
     "text": [
      "Eval\n"
     ]
    },
    {
     "name": "stderr",
     "output_type": "stream",
     "text": [
      "100%|██████████| 11/11 [00:01<00:00,  6.83it/s]\n"
     ]
    },
    {
     "name": "stdout",
     "output_type": "stream",
     "text": [
      "\n",
      "Epoch 5 score = 64.58333134651184\n",
      "\n",
      "Epoch 6\n",
      "Train\n"
     ]
    },
    {
     "name": "stderr",
     "output_type": "stream",
     "text": [
      "100%|██████████| 57/57 [00:21<00:00,  2.61it/s]\n"
     ]
    },
    {
     "name": "stdout",
     "output_type": "stream",
     "text": [
      "Eval\n"
     ]
    },
    {
     "name": "stderr",
     "output_type": "stream",
     "text": [
      "100%|██████████| 11/11 [00:01<00:00,  7.03it/s]\n"
     ]
    },
    {
     "name": "stdout",
     "output_type": "stream",
     "text": [
      "\n",
      "Epoch 6 score = 61.01190447807312\n",
      "\n",
      "Epoch 7\n",
      "Train\n"
     ]
    },
    {
     "name": "stderr",
     "output_type": "stream",
     "text": [
      "100%|██████████| 57/57 [00:21<00:00,  2.62it/s]\n"
     ]
    },
    {
     "name": "stdout",
     "output_type": "stream",
     "text": [
      "Eval\n"
     ]
    },
    {
     "name": "stderr",
     "output_type": "stream",
     "text": [
      "100%|██████████| 11/11 [00:01<00:00,  6.88it/s]\n"
     ]
    },
    {
     "name": "stdout",
     "output_type": "stream",
     "text": [
      "\n",
      "Epoch 7 score = 67.41071343421936\n",
      "\n",
      "Epoch 8\n",
      "Train\n"
     ]
    },
    {
     "name": "stderr",
     "output_type": "stream",
     "text": [
      "100%|██████████| 57/57 [00:21<00:00,  2.63it/s]\n"
     ]
    },
    {
     "name": "stdout",
     "output_type": "stream",
     "text": [
      "Eval\n"
     ]
    },
    {
     "name": "stderr",
     "output_type": "stream",
     "text": [
      "100%|██████████| 11/11 [00:01<00:00,  6.89it/s]\n"
     ]
    },
    {
     "name": "stdout",
     "output_type": "stream",
     "text": [
      "\n",
      "Epoch 8 score = 49.25595223903656\n",
      "\n",
      "Epoch 9\n",
      "Train\n"
     ]
    },
    {
     "name": "stderr",
     "output_type": "stream",
     "text": [
      "100%|██████████| 57/57 [00:21<00:00,  2.62it/s]\n"
     ]
    },
    {
     "name": "stdout",
     "output_type": "stream",
     "text": [
      "Eval\n"
     ]
    },
    {
     "name": "stderr",
     "output_type": "stream",
     "text": [
      "100%|██████████| 11/11 [00:01<00:00,  6.98it/s]\n"
     ]
    },
    {
     "name": "stdout",
     "output_type": "stream",
     "text": [
      "\n",
      "Epoch 9 score = 63.83928656578064\n",
      "\n",
      "Epoch 10\n",
      "Train\n"
     ]
    },
    {
     "name": "stderr",
     "output_type": "stream",
     "text": [
      "100%|██████████| 57/57 [00:21<00:00,  2.61it/s]\n"
     ]
    },
    {
     "name": "stdout",
     "output_type": "stream",
     "text": [
      "Eval\n"
     ]
    },
    {
     "name": "stderr",
     "output_type": "stream",
     "text": [
      "100%|██████████| 11/11 [00:01<00:00,  7.01it/s]\n"
     ]
    },
    {
     "name": "stdout",
     "output_type": "stream",
     "text": [
      "\n",
      "Epoch 10 score = 62.5\n",
      "\n",
      "Epoch 11\n",
      "Train\n"
     ]
    },
    {
     "name": "stderr",
     "output_type": "stream",
     "text": [
      "100%|██████████| 57/57 [00:21<00:00,  2.63it/s]\n"
     ]
    },
    {
     "name": "stdout",
     "output_type": "stream",
     "text": [
      "Eval\n"
     ]
    },
    {
     "name": "stderr",
     "output_type": "stream",
     "text": [
      "100%|██████████| 11/11 [00:01<00:00,  6.75it/s]\n",
      "\u001b[32m2024-11-20 19:18:56.906\u001b[0m | \u001b[1mINFO    \u001b[0m | \u001b[36mcommon.utils\u001b[0m:\u001b[36m__call__\u001b[0m:\u001b[36m183\u001b[0m - \u001b[1m[ModelCheckpoint] Saving model to: c:\\Users\\doxda\\OneDrive\\Documentos\\Repos\\masters-degree-data-shift\\models with acc 72.9167\u001b[0m\n"
     ]
    },
    {
     "name": "stdout",
     "output_type": "stream",
     "text": [
      "\n",
      "Epoch 11 score = 72.91666865348816\n",
      "\n",
      "Epoch 12\n",
      "Train\n"
     ]
    },
    {
     "name": "stderr",
     "output_type": "stream",
     "text": [
      "100%|██████████| 57/57 [00:21<00:00,  2.64it/s]\n"
     ]
    },
    {
     "name": "stdout",
     "output_type": "stream",
     "text": [
      "Eval\n"
     ]
    },
    {
     "name": "stderr",
     "output_type": "stream",
     "text": [
      "100%|██████████| 11/11 [00:01<00:00,  6.89it/s]\n"
     ]
    },
    {
     "name": "stdout",
     "output_type": "stream",
     "text": [
      "\n",
      "Epoch 12 score = 44.19642984867096\n",
      "\n",
      "Epoch 13\n",
      "Train\n"
     ]
    },
    {
     "name": "stderr",
     "output_type": "stream",
     "text": [
      "100%|██████████| 57/57 [00:21<00:00,  2.64it/s]\n"
     ]
    },
    {
     "name": "stdout",
     "output_type": "stream",
     "text": [
      "Eval\n"
     ]
    },
    {
     "name": "stderr",
     "output_type": "stream",
     "text": [
      "100%|██████████| 11/11 [00:01<00:00,  6.84it/s]\n"
     ]
    },
    {
     "name": "stdout",
     "output_type": "stream",
     "text": [
      "\n",
      "Epoch 13 score = 70.08928656578064\n",
      "\n",
      "Epoch 14\n",
      "Train\n"
     ]
    },
    {
     "name": "stderr",
     "output_type": "stream",
     "text": [
      "100%|██████████| 57/57 [00:21<00:00,  2.63it/s]\n"
     ]
    },
    {
     "name": "stdout",
     "output_type": "stream",
     "text": [
      "Eval\n"
     ]
    },
    {
     "name": "stderr",
     "output_type": "stream",
     "text": [
      "100%|██████████| 11/11 [00:01<00:00,  7.07it/s]\n"
     ]
    },
    {
     "name": "stdout",
     "output_type": "stream",
     "text": [
      "\n",
      "Epoch 14 score = 55.65476417541504\n",
      "\n",
      "Epoch 15\n",
      "Train\n"
     ]
    },
    {
     "name": "stderr",
     "output_type": "stream",
     "text": [
      "100%|██████████| 57/57 [00:21<00:00,  2.64it/s]\n"
     ]
    },
    {
     "name": "stdout",
     "output_type": "stream",
     "text": [
      "Eval\n"
     ]
    },
    {
     "name": "stderr",
     "output_type": "stream",
     "text": [
      "100%|██████████| 11/11 [00:01<00:00,  7.01it/s]\n"
     ]
    },
    {
     "name": "stdout",
     "output_type": "stream",
     "text": [
      "\n",
      "Epoch 15 score = 66.3690447807312\n",
      "\n",
      "Epoch 16\n",
      "Train\n"
     ]
    },
    {
     "name": "stderr",
     "output_type": "stream",
     "text": [
      "100%|██████████| 57/57 [00:21<00:00,  2.64it/s]\n"
     ]
    },
    {
     "name": "stdout",
     "output_type": "stream",
     "text": [
      "Eval\n"
     ]
    },
    {
     "name": "stderr",
     "output_type": "stream",
     "text": [
      "100%|██████████| 11/11 [00:01<00:00,  7.01it/s]\n"
     ]
    },
    {
     "name": "stdout",
     "output_type": "stream",
     "text": [
      "\n",
      "Epoch 16 score = 66.66666865348816\n",
      "\n",
      "Epoch 17\n",
      "Train\n"
     ]
    },
    {
     "name": "stderr",
     "output_type": "stream",
     "text": [
      "100%|██████████| 57/57 [00:21<00:00,  2.64it/s]\n"
     ]
    },
    {
     "name": "stdout",
     "output_type": "stream",
     "text": [
      "Eval\n"
     ]
    },
    {
     "name": "stderr",
     "output_type": "stream",
     "text": [
      "100%|██████████| 11/11 [00:01<00:00,  7.03it/s]\n"
     ]
    },
    {
     "name": "stdout",
     "output_type": "stream",
     "text": [
      "\n",
      "Epoch 17 score = 70.08928656578064\n",
      "\n",
      "Epoch 18\n",
      "Train\n"
     ]
    },
    {
     "name": "stderr",
     "output_type": "stream",
     "text": [
      "100%|██████████| 57/57 [00:21<00:00,  2.64it/s]\n"
     ]
    },
    {
     "name": "stdout",
     "output_type": "stream",
     "text": [
      "Eval\n"
     ]
    },
    {
     "name": "stderr",
     "output_type": "stream",
     "text": [
      "100%|██████████| 11/11 [00:01<00:00,  6.94it/s]\n"
     ]
    },
    {
     "name": "stdout",
     "output_type": "stream",
     "text": [
      "\n",
      "Epoch 18 score = 60.41666865348816\n",
      "\n",
      "Epoch 19\n",
      "Train\n"
     ]
    },
    {
     "name": "stderr",
     "output_type": "stream",
     "text": [
      "100%|██████████| 57/57 [00:21<00:00,  2.62it/s]\n"
     ]
    },
    {
     "name": "stdout",
     "output_type": "stream",
     "text": [
      "Eval\n"
     ]
    },
    {
     "name": "stderr",
     "output_type": "stream",
     "text": [
      "100%|██████████| 11/11 [00:01<00:00,  6.97it/s]\n"
     ]
    },
    {
     "name": "stdout",
     "output_type": "stream",
     "text": [
      "\n",
      "Epoch 19 score = 64.13690447807312\n",
      "\n",
      "Epoch 20\n",
      "Train\n"
     ]
    },
    {
     "name": "stderr",
     "output_type": "stream",
     "text": [
      "100%|██████████| 57/57 [00:21<00:00,  2.63it/s]\n"
     ]
    },
    {
     "name": "stdout",
     "output_type": "stream",
     "text": [
      "Eval\n"
     ]
    },
    {
     "name": "stderr",
     "output_type": "stream",
     "text": [
      "100%|██████████| 11/11 [00:01<00:00,  6.92it/s]\n"
     ]
    },
    {
     "name": "stdout",
     "output_type": "stream",
     "text": [
      "\n",
      "Epoch 20 score = 69.64285969734192\n",
      "\n",
      "Epoch 21\n",
      "Train\n"
     ]
    },
    {
     "name": "stderr",
     "output_type": "stream",
     "text": [
      "100%|██████████| 57/57 [00:21<00:00,  2.62it/s]\n"
     ]
    },
    {
     "name": "stdout",
     "output_type": "stream",
     "text": [
      "Eval\n"
     ]
    },
    {
     "name": "stderr",
     "output_type": "stream",
     "text": [
      "100%|██████████| 11/11 [00:01<00:00,  6.93it/s]\n"
     ]
    },
    {
     "name": "stdout",
     "output_type": "stream",
     "text": [
      "\n",
      "Epoch 21 score = 58.03571343421936\n",
      "\n",
      "Epoch 22\n",
      "Train\n"
     ]
    },
    {
     "name": "stderr",
     "output_type": "stream",
     "text": [
      "100%|██████████| 57/57 [00:21<00:00,  2.63it/s]\n"
     ]
    },
    {
     "name": "stdout",
     "output_type": "stream",
     "text": [
      "Eval\n"
     ]
    },
    {
     "name": "stderr",
     "output_type": "stream",
     "text": [
      "100%|██████████| 11/11 [00:01<00:00,  6.87it/s]\n"
     ]
    },
    {
     "name": "stdout",
     "output_type": "stream",
     "text": [
      "\n",
      "Epoch 22 score = 66.96428656578064\n",
      "\n",
      "Epoch 23\n",
      "Train\n"
     ]
    },
    {
     "name": "stderr",
     "output_type": "stream",
     "text": [
      "100%|██████████| 57/57 [00:21<00:00,  2.63it/s]\n"
     ]
    },
    {
     "name": "stdout",
     "output_type": "stream",
     "text": [
      "Eval\n"
     ]
    },
    {
     "name": "stderr",
     "output_type": "stream",
     "text": [
      "100%|██████████| 11/11 [00:01<00:00,  6.93it/s]\n"
     ]
    },
    {
     "name": "stdout",
     "output_type": "stream",
     "text": [
      "\n",
      "Epoch 23 score = 69.4940447807312\n",
      "\n",
      "Epoch 24\n",
      "Train\n"
     ]
    },
    {
     "name": "stderr",
     "output_type": "stream",
     "text": [
      "100%|██████████| 57/57 [00:21<00:00,  2.64it/s]\n"
     ]
    },
    {
     "name": "stdout",
     "output_type": "stream",
     "text": [
      "Eval\n"
     ]
    },
    {
     "name": "stderr",
     "output_type": "stream",
     "text": [
      "100%|██████████| 11/11 [00:01<00:00,  6.90it/s]\n"
     ]
    },
    {
     "name": "stdout",
     "output_type": "stream",
     "text": [
      "\n",
      "Epoch 24 score = 64.28571343421936\n",
      "\n",
      "Epoch 0\n",
      "Train\n"
     ]
    },
    {
     "name": "stderr",
     "output_type": "stream",
     "text": [
      "100%|██████████| 57/57 [00:21<00:00,  2.67it/s]\n"
     ]
    },
    {
     "name": "stdout",
     "output_type": "stream",
     "text": [
      "Eval\n"
     ]
    },
    {
     "name": "stderr",
     "output_type": "stream",
     "text": [
      "100%|██████████| 11/11 [00:01<00:00,  7.00it/s]\n",
      "\u001b[32m2024-11-20 19:24:22.004\u001b[0m | \u001b[1mINFO    \u001b[0m | \u001b[36mcommon.utils\u001b[0m:\u001b[36m__call__\u001b[0m:\u001b[36m183\u001b[0m - \u001b[1m[ModelCheckpoint] Saving model to: c:\\Users\\doxda\\OneDrive\\Documentos\\Repos\\masters-degree-data-shift\\models with acc 58.6310\u001b[0m\n"
     ]
    },
    {
     "name": "stdout",
     "output_type": "stream",
     "text": [
      "\n",
      "Epoch 0 score = 58.6309552192688\n",
      "\n",
      "Epoch 1\n",
      "Train\n"
     ]
    },
    {
     "name": "stderr",
     "output_type": "stream",
     "text": [
      "100%|██████████| 57/57 [00:21<00:00,  2.67it/s]\n"
     ]
    },
    {
     "name": "stdout",
     "output_type": "stream",
     "text": [
      "Eval\n"
     ]
    },
    {
     "name": "stderr",
     "output_type": "stream",
     "text": [
      "100%|██████████| 11/11 [00:01<00:00,  6.89it/s]\n",
      "\u001b[32m2024-11-20 19:24:45.016\u001b[0m | \u001b[1mINFO    \u001b[0m | \u001b[36mcommon.utils\u001b[0m:\u001b[36m__call__\u001b[0m:\u001b[36m183\u001b[0m - \u001b[1m[ModelCheckpoint] Saving model to: c:\\Users\\doxda\\OneDrive\\Documentos\\Repos\\masters-degree-data-shift\\models with acc 60.8631\u001b[0m\n"
     ]
    },
    {
     "name": "stdout",
     "output_type": "stream",
     "text": [
      "\n",
      "Epoch 1 score = 60.86309552192688\n",
      "\n",
      "Epoch 2\n",
      "Train\n"
     ]
    },
    {
     "name": "stderr",
     "output_type": "stream",
     "text": [
      "100%|██████████| 57/57 [00:21<00:00,  2.68it/s]\n"
     ]
    },
    {
     "name": "stdout",
     "output_type": "stream",
     "text": [
      "Eval\n"
     ]
    },
    {
     "name": "stderr",
     "output_type": "stream",
     "text": [
      "100%|██████████| 11/11 [00:01<00:00,  6.94it/s]\n"
     ]
    },
    {
     "name": "stdout",
     "output_type": "stream",
     "text": [
      "\n",
      "Epoch 2 score = 42.85714328289032\n",
      "\n",
      "Epoch 3\n",
      "Train\n"
     ]
    },
    {
     "name": "stderr",
     "output_type": "stream",
     "text": [
      "100%|██████████| 57/57 [00:21<00:00,  2.69it/s]\n"
     ]
    },
    {
     "name": "stdout",
     "output_type": "stream",
     "text": [
      "Eval\n"
     ]
    },
    {
     "name": "stderr",
     "output_type": "stream",
     "text": [
      "100%|██████████| 11/11 [00:01<00:00,  6.79it/s]\n"
     ]
    },
    {
     "name": "stdout",
     "output_type": "stream",
     "text": [
      "\n",
      "Epoch 3 score = 59.07738208770752\n",
      "\n",
      "Epoch 4\n",
      "Train\n"
     ]
    },
    {
     "name": "stderr",
     "output_type": "stream",
     "text": [
      "100%|██████████| 57/57 [00:21<00:00,  2.64it/s]\n"
     ]
    },
    {
     "name": "stdout",
     "output_type": "stream",
     "text": [
      "Eval\n"
     ]
    },
    {
     "name": "stderr",
     "output_type": "stream",
     "text": [
      "100%|██████████| 11/11 [00:01<00:00,  6.86it/s]\n",
      "\u001b[32m2024-11-20 19:25:54.053\u001b[0m | \u001b[1mINFO    \u001b[0m | \u001b[36mcommon.utils\u001b[0m:\u001b[36m__call__\u001b[0m:\u001b[36m183\u001b[0m - \u001b[1m[ModelCheckpoint] Saving model to: c:\\Users\\doxda\\OneDrive\\Documentos\\Repos\\masters-degree-data-shift\\models with acc 65.0298\u001b[0m\n"
     ]
    },
    {
     "name": "stdout",
     "output_type": "stream",
     "text": [
      "\n",
      "Epoch 4 score = 65.02976417541504\n",
      "\n",
      "Epoch 5\n",
      "Train\n"
     ]
    },
    {
     "name": "stderr",
     "output_type": "stream",
     "text": [
      "100%|██████████| 57/57 [00:21<00:00,  2.66it/s]\n"
     ]
    },
    {
     "name": "stdout",
     "output_type": "stream",
     "text": [
      "Eval\n"
     ]
    },
    {
     "name": "stderr",
     "output_type": "stream",
     "text": [
      "100%|██████████| 11/11 [00:01<00:00,  6.94it/s]\n",
      "\u001b[32m2024-11-20 19:26:17.120\u001b[0m | \u001b[1mINFO    \u001b[0m | \u001b[36mcommon.utils\u001b[0m:\u001b[36m__call__\u001b[0m:\u001b[36m183\u001b[0m - \u001b[1m[ModelCheckpoint] Saving model to: c:\\Users\\doxda\\OneDrive\\Documentos\\Repos\\masters-degree-data-shift\\models with acc 65.9226\u001b[0m\n"
     ]
    },
    {
     "name": "stdout",
     "output_type": "stream",
     "text": [
      "\n",
      "Epoch 5 score = 65.92261791229248\n",
      "\n",
      "Epoch 6\n",
      "Train\n"
     ]
    },
    {
     "name": "stderr",
     "output_type": "stream",
     "text": [
      "100%|██████████| 57/57 [00:21<00:00,  2.65it/s]\n"
     ]
    },
    {
     "name": "stdout",
     "output_type": "stream",
     "text": [
      "Eval\n"
     ]
    },
    {
     "name": "stderr",
     "output_type": "stream",
     "text": [
      "100%|██████████| 11/11 [00:01<00:00,  6.99it/s]\n",
      "\u001b[32m2024-11-20 19:26:40.251\u001b[0m | \u001b[1mINFO    \u001b[0m | \u001b[36mcommon.utils\u001b[0m:\u001b[36m__call__\u001b[0m:\u001b[36m183\u001b[0m - \u001b[1m[ModelCheckpoint] Saving model to: c:\\Users\\doxda\\OneDrive\\Documentos\\Repos\\masters-degree-data-shift\\models with acc 68.6012\u001b[0m\n"
     ]
    },
    {
     "name": "stdout",
     "output_type": "stream",
     "text": [
      "\n",
      "Epoch 6 score = 68.60119104385376\n",
      "\n",
      "Epoch 7\n",
      "Train\n"
     ]
    },
    {
     "name": "stderr",
     "output_type": "stream",
     "text": [
      "100%|██████████| 57/57 [00:21<00:00,  2.67it/s]\n"
     ]
    },
    {
     "name": "stdout",
     "output_type": "stream",
     "text": [
      "Eval\n"
     ]
    },
    {
     "name": "stderr",
     "output_type": "stream",
     "text": [
      "100%|██████████| 11/11 [00:01<00:00,  7.01it/s]\n"
     ]
    },
    {
     "name": "stdout",
     "output_type": "stream",
     "text": [
      "\n",
      "Epoch 7 score = 67.5595223903656\n",
      "\n",
      "Epoch 8\n",
      "Train\n"
     ]
    },
    {
     "name": "stderr",
     "output_type": "stream",
     "text": [
      "100%|██████████| 57/57 [00:21<00:00,  2.68it/s]\n"
     ]
    },
    {
     "name": "stdout",
     "output_type": "stream",
     "text": [
      "Eval\n"
     ]
    },
    {
     "name": "stderr",
     "output_type": "stream",
     "text": [
      "100%|██████████| 11/11 [00:01<00:00,  6.98it/s]\n"
     ]
    },
    {
     "name": "stdout",
     "output_type": "stream",
     "text": [
      "\n",
      "Epoch 8 score = 59.52380895614624\n",
      "\n",
      "Epoch 9\n",
      "Train\n"
     ]
    },
    {
     "name": "stderr",
     "output_type": "stream",
     "text": [
      "100%|██████████| 57/57 [00:21<00:00,  2.67it/s]\n"
     ]
    },
    {
     "name": "stdout",
     "output_type": "stream",
     "text": [
      "Eval\n"
     ]
    },
    {
     "name": "stderr",
     "output_type": "stream",
     "text": [
      "100%|██████████| 11/11 [00:01<00:00,  6.96it/s]\n",
      "\u001b[32m2024-11-20 19:27:49.050\u001b[0m | \u001b[1mINFO    \u001b[0m | \u001b[36mcommon.utils\u001b[0m:\u001b[36m__call__\u001b[0m:\u001b[36m183\u001b[0m - \u001b[1m[ModelCheckpoint] Saving model to: c:\\Users\\doxda\\OneDrive\\Documentos\\Repos\\masters-degree-data-shift\\models with acc 69.1964\u001b[0m\n"
     ]
    },
    {
     "name": "stdout",
     "output_type": "stream",
     "text": [
      "\n",
      "Epoch 9 score = 69.19642686843872\n",
      "\n",
      "Epoch 10\n",
      "Train\n"
     ]
    },
    {
     "name": "stderr",
     "output_type": "stream",
     "text": [
      "100%|██████████| 57/57 [00:21<00:00,  2.66it/s]\n"
     ]
    },
    {
     "name": "stdout",
     "output_type": "stream",
     "text": [
      "Eval\n"
     ]
    },
    {
     "name": "stderr",
     "output_type": "stream",
     "text": [
      "100%|██████████| 11/11 [00:01<00:00,  6.86it/s]\n"
     ]
    },
    {
     "name": "stdout",
     "output_type": "stream",
     "text": [
      "\n",
      "Epoch 10 score = 48.8095223903656\n",
      "\n",
      "Epoch 11\n",
      "Train\n"
     ]
    },
    {
     "name": "stderr",
     "output_type": "stream",
     "text": [
      "100%|██████████| 57/57 [00:21<00:00,  2.63it/s]\n"
     ]
    },
    {
     "name": "stdout",
     "output_type": "stream",
     "text": [
      "Eval\n"
     ]
    },
    {
     "name": "stderr",
     "output_type": "stream",
     "text": [
      "100%|██████████| 11/11 [00:01<00:00,  7.00it/s]\n"
     ]
    },
    {
     "name": "stdout",
     "output_type": "stream",
     "text": [
      "\n",
      "Epoch 11 score = 61.90476417541504\n",
      "\n",
      "Epoch 12\n",
      "Train\n"
     ]
    },
    {
     "name": "stderr",
     "output_type": "stream",
     "text": [
      "100%|██████████| 57/57 [00:21<00:00,  2.67it/s]\n"
     ]
    },
    {
     "name": "stdout",
     "output_type": "stream",
     "text": [
      "Eval\n"
     ]
    },
    {
     "name": "stderr",
     "output_type": "stream",
     "text": [
      "100%|██████████| 11/11 [00:01<00:00,  6.76it/s]\n"
     ]
    },
    {
     "name": "stdout",
     "output_type": "stream",
     "text": [
      "\n",
      "Epoch 12 score = 64.13690447807312\n",
      "\n",
      "Epoch 13\n",
      "Train\n"
     ]
    },
    {
     "name": "stderr",
     "output_type": "stream",
     "text": [
      "100%|██████████| 57/57 [00:21<00:00,  2.66it/s]\n"
     ]
    },
    {
     "name": "stdout",
     "output_type": "stream",
     "text": [
      "Eval\n"
     ]
    },
    {
     "name": "stderr",
     "output_type": "stream",
     "text": [
      "100%|██████████| 11/11 [00:01<00:00,  6.94it/s]\n",
      "\u001b[32m2024-11-20 19:29:21.422\u001b[0m | \u001b[1mINFO    \u001b[0m | \u001b[36mcommon.utils\u001b[0m:\u001b[36m__call__\u001b[0m:\u001b[36m183\u001b[0m - \u001b[1m[ModelCheckpoint] Saving model to: c:\\Users\\doxda\\OneDrive\\Documentos\\Repos\\masters-degree-data-shift\\models with acc 74.4048\u001b[0m\n"
     ]
    },
    {
     "name": "stdout",
     "output_type": "stream",
     "text": [
      "\n",
      "Epoch 13 score = 74.40476417541504\n",
      "\n",
      "Epoch 14\n",
      "Train\n"
     ]
    },
    {
     "name": "stderr",
     "output_type": "stream",
     "text": [
      "100%|██████████| 57/57 [00:21<00:00,  2.64it/s]\n"
     ]
    },
    {
     "name": "stdout",
     "output_type": "stream",
     "text": [
      "Eval\n"
     ]
    },
    {
     "name": "stderr",
     "output_type": "stream",
     "text": [
      "100%|██████████| 11/11 [00:01<00:00,  6.88it/s]\n",
      "\u001b[32m2024-11-20 19:29:44.686\u001b[0m | \u001b[1mINFO    \u001b[0m | \u001b[36mcommon.utils\u001b[0m:\u001b[36m__call__\u001b[0m:\u001b[36m183\u001b[0m - \u001b[1m[ModelCheckpoint] Saving model to: c:\\Users\\doxda\\OneDrive\\Documentos\\Repos\\masters-degree-data-shift\\models with acc 74.7024\u001b[0m\n"
     ]
    },
    {
     "name": "stdout",
     "output_type": "stream",
     "text": [
      "\n",
      "Epoch 14 score = 74.70238208770752\n",
      "\n",
      "Epoch 15\n",
      "Train\n"
     ]
    },
    {
     "name": "stderr",
     "output_type": "stream",
     "text": [
      "100%|██████████| 57/57 [00:21<00:00,  2.66it/s]\n"
     ]
    },
    {
     "name": "stdout",
     "output_type": "stream",
     "text": [
      "Eval\n"
     ]
    },
    {
     "name": "stderr",
     "output_type": "stream",
     "text": [
      "100%|██████████| 11/11 [00:01<00:00,  6.95it/s]\n"
     ]
    },
    {
     "name": "stdout",
     "output_type": "stream",
     "text": [
      "\n",
      "Epoch 15 score = 67.41071343421936\n",
      "\n",
      "Epoch 16\n",
      "Train\n"
     ]
    },
    {
     "name": "stderr",
     "output_type": "stream",
     "text": [
      "100%|██████████| 57/57 [00:21<00:00,  2.67it/s]\n"
     ]
    },
    {
     "name": "stdout",
     "output_type": "stream",
     "text": [
      "Eval\n"
     ]
    },
    {
     "name": "stderr",
     "output_type": "stream",
     "text": [
      "100%|██████████| 11/11 [00:01<00:00,  6.92it/s]\n"
     ]
    },
    {
     "name": "stdout",
     "output_type": "stream",
     "text": [
      "\n",
      "Epoch 16 score = 68.15476417541504\n",
      "\n",
      "Epoch 17\n",
      "Train\n"
     ]
    },
    {
     "name": "stderr",
     "output_type": "stream",
     "text": [
      "100%|██████████| 57/57 [00:21<00:00,  2.67it/s]\n"
     ]
    },
    {
     "name": "stdout",
     "output_type": "stream",
     "text": [
      "Eval\n"
     ]
    },
    {
     "name": "stderr",
     "output_type": "stream",
     "text": [
      "100%|██████████| 11/11 [00:01<00:00,  6.92it/s]\n"
     ]
    },
    {
     "name": "stdout",
     "output_type": "stream",
     "text": [
      "\n",
      "Epoch 17 score = 67.5595223903656\n",
      "\n",
      "Epoch 18\n",
      "Train\n"
     ]
    },
    {
     "name": "stderr",
     "output_type": "stream",
     "text": [
      "100%|██████████| 57/57 [00:21<00:00,  2.68it/s]\n"
     ]
    },
    {
     "name": "stdout",
     "output_type": "stream",
     "text": [
      "Eval\n"
     ]
    },
    {
     "name": "stderr",
     "output_type": "stream",
     "text": [
      "100%|██████████| 11/11 [00:01<00:00,  6.96it/s]\n"
     ]
    },
    {
     "name": "stdout",
     "output_type": "stream",
     "text": [
      "\n",
      "Epoch 18 score = 62.35119104385376\n",
      "\n",
      "Epoch 19\n",
      "Train\n"
     ]
    },
    {
     "name": "stderr",
     "output_type": "stream",
     "text": [
      "100%|██████████| 57/57 [00:21<00:00,  2.66it/s]\n"
     ]
    },
    {
     "name": "stdout",
     "output_type": "stream",
     "text": [
      "Eval\n"
     ]
    },
    {
     "name": "stderr",
     "output_type": "stream",
     "text": [
      "100%|██████████| 11/11 [00:01<00:00,  6.96it/s]\n"
     ]
    },
    {
     "name": "stdout",
     "output_type": "stream",
     "text": [
      "\n",
      "Epoch 19 score = 61.01190447807312\n",
      "\n",
      "Epoch 20\n",
      "Train\n"
     ]
    },
    {
     "name": "stderr",
     "output_type": "stream",
     "text": [
      "100%|██████████| 57/57 [00:21<00:00,  2.67it/s]\n"
     ]
    },
    {
     "name": "stdout",
     "output_type": "stream",
     "text": [
      "Eval\n"
     ]
    },
    {
     "name": "stderr",
     "output_type": "stream",
     "text": [
      "100%|██████████| 11/11 [00:01<00:00,  6.91it/s]\n"
     ]
    },
    {
     "name": "stdout",
     "output_type": "stream",
     "text": [
      "\n",
      "Epoch 20 score = 68.75\n",
      "\n",
      "Epoch 21\n",
      "Train\n"
     ]
    },
    {
     "name": "stderr",
     "output_type": "stream",
     "text": [
      "100%|██████████| 57/57 [00:21<00:00,  2.67it/s]\n"
     ]
    },
    {
     "name": "stdout",
     "output_type": "stream",
     "text": [
      "Eval\n"
     ]
    },
    {
     "name": "stderr",
     "output_type": "stream",
     "text": [
      "100%|██████████| 11/11 [00:01<00:00,  7.00it/s]\n"
     ]
    },
    {
     "name": "stdout",
     "output_type": "stream",
     "text": [
      "\n",
      "Epoch 21 score = 72.91666865348816\n",
      "\n",
      "Epoch 22\n",
      "Train\n"
     ]
    },
    {
     "name": "stderr",
     "output_type": "stream",
     "text": [
      "100%|██████████| 57/57 [00:21<00:00,  2.67it/s]\n"
     ]
    },
    {
     "name": "stdout",
     "output_type": "stream",
     "text": [
      "Eval\n"
     ]
    },
    {
     "name": "stderr",
     "output_type": "stream",
     "text": [
      "100%|██████████| 11/11 [00:01<00:00,  6.95it/s]\n"
     ]
    },
    {
     "name": "stdout",
     "output_type": "stream",
     "text": [
      "\n",
      "Epoch 22 score = 67.85714030265808\n",
      "\n",
      "Epoch 23\n",
      "Train\n"
     ]
    },
    {
     "name": "stderr",
     "output_type": "stream",
     "text": [
      "100%|██████████| 57/57 [00:21<00:00,  2.67it/s]\n"
     ]
    },
    {
     "name": "stdout",
     "output_type": "stream",
     "text": [
      "Eval\n"
     ]
    },
    {
     "name": "stderr",
     "output_type": "stream",
     "text": [
      "100%|██████████| 11/11 [00:01<00:00,  6.90it/s]\n"
     ]
    },
    {
     "name": "stdout",
     "output_type": "stream",
     "text": [
      "\n",
      "Epoch 23 score = 64.58333134651184\n",
      "\n",
      "Epoch 24\n",
      "Train\n"
     ]
    },
    {
     "name": "stderr",
     "output_type": "stream",
     "text": [
      "100%|██████████| 57/57 [00:21<00:00,  2.67it/s]\n"
     ]
    },
    {
     "name": "stdout",
     "output_type": "stream",
     "text": [
      "Eval\n"
     ]
    },
    {
     "name": "stderr",
     "output_type": "stream",
     "text": [
      "100%|██████████| 11/11 [00:01<00:00,  6.99it/s]\n"
     ]
    },
    {
     "name": "stdout",
     "output_type": "stream",
     "text": [
      "\n",
      "Epoch 24 score = 63.6904776096344\n",
      "\n",
      "Epoch 0\n",
      "Train\n"
     ]
    },
    {
     "name": "stderr",
     "output_type": "stream",
     "text": [
      "100%|██████████| 57/57 [00:21<00:00,  2.65it/s]\n"
     ]
    },
    {
     "name": "stdout",
     "output_type": "stream",
     "text": [
      "Eval\n"
     ]
    },
    {
     "name": "stderr",
     "output_type": "stream",
     "text": [
      "100%|██████████| 11/11 [00:01<00:00,  6.82it/s]\n",
      "\u001b[32m2024-11-20 19:33:57.700\u001b[0m | \u001b[1mINFO    \u001b[0m | \u001b[36mcommon.utils\u001b[0m:\u001b[36m__call__\u001b[0m:\u001b[36m183\u001b[0m - \u001b[1m[ModelCheckpoint] Saving model to: c:\\Users\\doxda\\OneDrive\\Documentos\\Repos\\masters-degree-data-shift\\models with acc 44.6429\u001b[0m\n"
     ]
    },
    {
     "name": "stdout",
     "output_type": "stream",
     "text": [
      "\n",
      "Epoch 0 score = 44.64285671710968\n",
      "\n",
      "Epoch 1\n",
      "Train\n"
     ]
    },
    {
     "name": "stderr",
     "output_type": "stream",
     "text": [
      "100%|██████████| 57/57 [00:21<00:00,  2.66it/s]\n"
     ]
    },
    {
     "name": "stdout",
     "output_type": "stream",
     "text": [
      "Eval\n"
     ]
    },
    {
     "name": "stderr",
     "output_type": "stream",
     "text": [
      "100%|██████████| 11/11 [00:01<00:00,  7.05it/s]\n",
      "\u001b[32m2024-11-20 19:34:20.798\u001b[0m | \u001b[1mINFO    \u001b[0m | \u001b[36mcommon.utils\u001b[0m:\u001b[36m__call__\u001b[0m:\u001b[36m183\u001b[0m - \u001b[1m[ModelCheckpoint] Saving model to: c:\\Users\\doxda\\OneDrive\\Documentos\\Repos\\masters-degree-data-shift\\models with acc 62.6488\u001b[0m\n"
     ]
    },
    {
     "name": "stdout",
     "output_type": "stream",
     "text": [
      "\n",
      "Epoch 1 score = 62.64880895614624\n",
      "\n",
      "Epoch 2\n",
      "Train\n"
     ]
    },
    {
     "name": "stderr",
     "output_type": "stream",
     "text": [
      "100%|██████████| 57/57 [00:21<00:00,  2.65it/s]\n"
     ]
    },
    {
     "name": "stdout",
     "output_type": "stream",
     "text": [
      "Eval\n"
     ]
    },
    {
     "name": "stderr",
     "output_type": "stream",
     "text": [
      "100%|██████████| 11/11 [00:01<00:00,  7.01it/s]\n",
      "\u001b[32m2024-11-20 19:34:43.972\u001b[0m | \u001b[1mINFO    \u001b[0m | \u001b[36mcommon.utils\u001b[0m:\u001b[36m__call__\u001b[0m:\u001b[36m183\u001b[0m - \u001b[1m[ModelCheckpoint] Saving model to: c:\\Users\\doxda\\OneDrive\\Documentos\\Repos\\masters-degree-data-shift\\models with acc 72.4702\u001b[0m\n"
     ]
    },
    {
     "name": "stdout",
     "output_type": "stream",
     "text": [
      "\n",
      "Epoch 2 score = 72.47023582458496\n",
      "\n",
      "Epoch 3\n",
      "Train\n"
     ]
    },
    {
     "name": "stderr",
     "output_type": "stream",
     "text": [
      "100%|██████████| 57/57 [00:21<00:00,  2.65it/s]\n"
     ]
    },
    {
     "name": "stdout",
     "output_type": "stream",
     "text": [
      "Eval\n"
     ]
    },
    {
     "name": "stderr",
     "output_type": "stream",
     "text": [
      "100%|██████████| 11/11 [00:01<00:00,  6.95it/s]\n"
     ]
    },
    {
     "name": "stdout",
     "output_type": "stream",
     "text": [
      "\n",
      "Epoch 3 score = 62.94642686843872\n",
      "\n",
      "Epoch 4\n",
      "Train\n"
     ]
    },
    {
     "name": "stderr",
     "output_type": "stream",
     "text": [
      "100%|██████████| 57/57 [00:21<00:00,  2.66it/s]\n"
     ]
    },
    {
     "name": "stdout",
     "output_type": "stream",
     "text": [
      "Eval\n"
     ]
    },
    {
     "name": "stderr",
     "output_type": "stream",
     "text": [
      "100%|██████████| 11/11 [00:01<00:00,  6.97it/s]\n"
     ]
    },
    {
     "name": "stdout",
     "output_type": "stream",
     "text": [
      "\n",
      "Epoch 4 score = 61.01190447807312\n",
      "\n",
      "Epoch 5\n",
      "Train\n"
     ]
    },
    {
     "name": "stderr",
     "output_type": "stream",
     "text": [
      "100%|██████████| 57/57 [00:21<00:00,  2.66it/s]\n"
     ]
    },
    {
     "name": "stdout",
     "output_type": "stream",
     "text": [
      "Eval\n"
     ]
    },
    {
     "name": "stderr",
     "output_type": "stream",
     "text": [
      "100%|██████████| 11/11 [00:01<00:00,  6.95it/s]\n"
     ]
    },
    {
     "name": "stdout",
     "output_type": "stream",
     "text": [
      "\n",
      "Epoch 5 score = 68.60119104385376\n",
      "\n",
      "Epoch 6\n",
      "Train\n"
     ]
    },
    {
     "name": "stderr",
     "output_type": "stream",
     "text": [
      "100%|██████████| 57/57 [00:21<00:00,  2.67it/s]\n"
     ]
    },
    {
     "name": "stdout",
     "output_type": "stream",
     "text": [
      "Eval\n"
     ]
    },
    {
     "name": "stderr",
     "output_type": "stream",
     "text": [
      "100%|██████████| 11/11 [00:01<00:00,  7.01it/s]\n"
     ]
    },
    {
     "name": "stdout",
     "output_type": "stream",
     "text": [
      "\n",
      "Epoch 6 score = 55.65476417541504\n",
      "\n",
      "Epoch 7\n",
      "Train\n"
     ]
    },
    {
     "name": "stderr",
     "output_type": "stream",
     "text": [
      "100%|██████████| 57/57 [00:21<00:00,  2.66it/s]\n"
     ]
    },
    {
     "name": "stdout",
     "output_type": "stream",
     "text": [
      "Eval\n"
     ]
    },
    {
     "name": "stderr",
     "output_type": "stream",
     "text": [
      "100%|██████████| 11/11 [00:01<00:00,  6.93it/s]\n"
     ]
    },
    {
     "name": "stdout",
     "output_type": "stream",
     "text": [
      "\n",
      "Epoch 7 score = 62.5\n",
      "\n",
      "Epoch 8\n",
      "Train\n"
     ]
    },
    {
     "name": "stderr",
     "output_type": "stream",
     "text": [
      "100%|██████████| 57/57 [00:21<00:00,  2.66it/s]\n"
     ]
    },
    {
     "name": "stdout",
     "output_type": "stream",
     "text": [
      "Eval\n"
     ]
    },
    {
     "name": "stderr",
     "output_type": "stream",
     "text": [
      "100%|██████████| 11/11 [00:01<00:00,  7.05it/s]\n"
     ]
    },
    {
     "name": "stdout",
     "output_type": "stream",
     "text": [
      "\n",
      "Epoch 8 score = 69.64285969734192\n",
      "\n",
      "Epoch 9\n",
      "Train\n"
     ]
    },
    {
     "name": "stderr",
     "output_type": "stream",
     "text": [
      "100%|██████████| 57/57 [00:21<00:00,  2.67it/s]\n"
     ]
    },
    {
     "name": "stdout",
     "output_type": "stream",
     "text": [
      "Eval\n"
     ]
    },
    {
     "name": "stderr",
     "output_type": "stream",
     "text": [
      "100%|██████████| 11/11 [00:01<00:00,  6.95it/s]\n",
      "\u001b[32m2024-11-20 19:37:25.103\u001b[0m | \u001b[1mINFO    \u001b[0m | \u001b[36mcommon.utils\u001b[0m:\u001b[36m__call__\u001b[0m:\u001b[36m183\u001b[0m - \u001b[1m[ModelCheckpoint] Saving model to: c:\\Users\\doxda\\OneDrive\\Documentos\\Repos\\masters-degree-data-shift\\models with acc 72.7679\u001b[0m\n"
     ]
    },
    {
     "name": "stdout",
     "output_type": "stream",
     "text": [
      "\n",
      "Epoch 9 score = 72.76785969734192\n",
      "\n",
      "Epoch 10\n",
      "Train\n"
     ]
    },
    {
     "name": "stderr",
     "output_type": "stream",
     "text": [
      "100%|██████████| 57/57 [00:21<00:00,  2.67it/s]\n"
     ]
    },
    {
     "name": "stdout",
     "output_type": "stream",
     "text": [
      "Eval\n"
     ]
    },
    {
     "name": "stderr",
     "output_type": "stream",
     "text": [
      "100%|██████████| 11/11 [00:01<00:00,  6.97it/s]\n"
     ]
    },
    {
     "name": "stdout",
     "output_type": "stream",
     "text": [
      "\n",
      "Epoch 10 score = 70.53571343421936\n",
      "\n",
      "Epoch 11\n",
      "Train\n"
     ]
    },
    {
     "name": "stderr",
     "output_type": "stream",
     "text": [
      "100%|██████████| 57/57 [00:21<00:00,  2.67it/s]\n"
     ]
    },
    {
     "name": "stdout",
     "output_type": "stream",
     "text": [
      "Eval\n"
     ]
    },
    {
     "name": "stderr",
     "output_type": "stream",
     "text": [
      "100%|██████████| 11/11 [00:01<00:00,  6.92it/s]\n"
     ]
    },
    {
     "name": "stdout",
     "output_type": "stream",
     "text": [
      "\n",
      "Epoch 11 score = 70.38690447807312\n",
      "\n",
      "Epoch 12\n",
      "Train\n"
     ]
    },
    {
     "name": "stderr",
     "output_type": "stream",
     "text": [
      "100%|██████████| 57/57 [00:21<00:00,  2.67it/s]\n"
     ]
    },
    {
     "name": "stdout",
     "output_type": "stream",
     "text": [
      "Eval\n"
     ]
    },
    {
     "name": "stderr",
     "output_type": "stream",
     "text": [
      "100%|██████████| 11/11 [00:01<00:00,  7.01it/s]\n"
     ]
    },
    {
     "name": "stdout",
     "output_type": "stream",
     "text": [
      "\n",
      "Epoch 12 score = 69.64285969734192\n",
      "\n",
      "Epoch 13\n",
      "Train\n"
     ]
    },
    {
     "name": "stderr",
     "output_type": "stream",
     "text": [
      "100%|██████████| 57/57 [00:21<00:00,  2.67it/s]\n"
     ]
    },
    {
     "name": "stdout",
     "output_type": "stream",
     "text": [
      "Eval\n"
     ]
    },
    {
     "name": "stderr",
     "output_type": "stream",
     "text": [
      "100%|██████████| 11/11 [00:01<00:00,  7.07it/s]\n",
      "\u001b[32m2024-11-20 19:38:56.837\u001b[0m | \u001b[1mINFO    \u001b[0m | \u001b[36mcommon.utils\u001b[0m:\u001b[36m__call__\u001b[0m:\u001b[36m183\u001b[0m - \u001b[1m[ModelCheckpoint] Saving model to: c:\\Users\\doxda\\OneDrive\\Documentos\\Repos\\masters-degree-data-shift\\models with acc 77.9762\u001b[0m\n"
     ]
    },
    {
     "name": "stdout",
     "output_type": "stream",
     "text": [
      "\n",
      "Epoch 13 score = 77.97619104385376\n",
      "\n",
      "Epoch 14\n",
      "Train\n"
     ]
    },
    {
     "name": "stderr",
     "output_type": "stream",
     "text": [
      "100%|██████████| 57/57 [00:21<00:00,  2.66it/s]\n"
     ]
    },
    {
     "name": "stdout",
     "output_type": "stream",
     "text": [
      "Eval\n"
     ]
    },
    {
     "name": "stderr",
     "output_type": "stream",
     "text": [
      "100%|██████████| 11/11 [00:01<00:00,  7.03it/s]\n"
     ]
    },
    {
     "name": "stdout",
     "output_type": "stream",
     "text": [
      "\n",
      "Epoch 14 score = 74.85119104385376\n",
      "\n",
      "Epoch 15\n",
      "Train\n"
     ]
    },
    {
     "name": "stderr",
     "output_type": "stream",
     "text": [
      "100%|██████████| 57/57 [00:21<00:00,  2.65it/s]\n"
     ]
    },
    {
     "name": "stdout",
     "output_type": "stream",
     "text": [
      "Eval\n"
     ]
    },
    {
     "name": "stderr",
     "output_type": "stream",
     "text": [
      "100%|██████████| 11/11 [00:01<00:00,  6.84it/s]\n"
     ]
    },
    {
     "name": "stdout",
     "output_type": "stream",
     "text": [
      "\n",
      "Epoch 15 score = 65.32738208770752\n",
      "\n",
      "Epoch 16\n",
      "Train\n"
     ]
    },
    {
     "name": "stderr",
     "output_type": "stream",
     "text": [
      "100%|██████████| 57/57 [00:21<00:00,  2.66it/s]\n"
     ]
    },
    {
     "name": "stdout",
     "output_type": "stream",
     "text": [
      "Eval\n"
     ]
    },
    {
     "name": "stderr",
     "output_type": "stream",
     "text": [
      "100%|██████████| 11/11 [00:01<00:00,  6.95it/s]\n"
     ]
    },
    {
     "name": "stdout",
     "output_type": "stream",
     "text": [
      "\n",
      "Epoch 16 score = 68.75\n",
      "\n",
      "Epoch 17\n",
      "Train\n"
     ]
    },
    {
     "name": "stderr",
     "output_type": "stream",
     "text": [
      "100%|██████████| 57/57 [00:21<00:00,  2.66it/s]\n"
     ]
    },
    {
     "name": "stdout",
     "output_type": "stream",
     "text": [
      "Eval\n"
     ]
    },
    {
     "name": "stderr",
     "output_type": "stream",
     "text": [
      "100%|██████████| 11/11 [00:01<00:00,  7.10it/s]\n"
     ]
    },
    {
     "name": "stdout",
     "output_type": "stream",
     "text": [
      "\n",
      "Epoch 17 score = 68.89880895614624\n",
      "\n",
      "Epoch 18\n",
      "Train\n"
     ]
    },
    {
     "name": "stderr",
     "output_type": "stream",
     "text": [
      "100%|██████████| 57/57 [00:21<00:00,  2.66it/s]\n"
     ]
    },
    {
     "name": "stdout",
     "output_type": "stream",
     "text": [
      "Eval\n"
     ]
    },
    {
     "name": "stderr",
     "output_type": "stream",
     "text": [
      "100%|██████████| 11/11 [00:01<00:00,  7.08it/s]\n"
     ]
    },
    {
     "name": "stdout",
     "output_type": "stream",
     "text": [
      "\n",
      "Epoch 18 score = 71.27976417541504\n",
      "\n",
      "Epoch 19\n",
      "Train\n"
     ]
    },
    {
     "name": "stderr",
     "output_type": "stream",
     "text": [
      "100%|██████████| 57/57 [00:21<00:00,  2.67it/s]\n"
     ]
    },
    {
     "name": "stdout",
     "output_type": "stream",
     "text": [
      "Eval\n"
     ]
    },
    {
     "name": "stderr",
     "output_type": "stream",
     "text": [
      "100%|██████████| 11/11 [00:01<00:00,  7.08it/s]\n"
     ]
    },
    {
     "name": "stdout",
     "output_type": "stream",
     "text": [
      "\n",
      "Epoch 19 score = 66.66666865348816\n",
      "\n",
      "Epoch 20\n",
      "Train\n"
     ]
    },
    {
     "name": "stderr",
     "output_type": "stream",
     "text": [
      "100%|██████████| 57/57 [00:21<00:00,  2.67it/s]\n"
     ]
    },
    {
     "name": "stdout",
     "output_type": "stream",
     "text": [
      "Eval\n"
     ]
    },
    {
     "name": "stderr",
     "output_type": "stream",
     "text": [
      "100%|██████████| 11/11 [00:01<00:00,  7.09it/s]\n"
     ]
    },
    {
     "name": "stdout",
     "output_type": "stream",
     "text": [
      "\n",
      "Epoch 20 score = 68.89880895614624\n",
      "\n",
      "Epoch 21\n",
      "Train\n"
     ]
    },
    {
     "name": "stderr",
     "output_type": "stream",
     "text": [
      "100%|██████████| 57/57 [00:21<00:00,  2.67it/s]\n"
     ]
    },
    {
     "name": "stdout",
     "output_type": "stream",
     "text": [
      "Eval\n"
     ]
    },
    {
     "name": "stderr",
     "output_type": "stream",
     "text": [
      "100%|██████████| 11/11 [00:01<00:00,  6.97it/s]\n"
     ]
    },
    {
     "name": "stdout",
     "output_type": "stream",
     "text": [
      "\n",
      "Epoch 21 score = 73.66071343421936\n",
      "\n",
      "Epoch 22\n",
      "Train\n"
     ]
    },
    {
     "name": "stderr",
     "output_type": "stream",
     "text": [
      "100%|██████████| 57/57 [00:21<00:00,  2.67it/s]\n"
     ]
    },
    {
     "name": "stdout",
     "output_type": "stream",
     "text": [
      "Eval\n"
     ]
    },
    {
     "name": "stderr",
     "output_type": "stream",
     "text": [
      "100%|██████████| 11/11 [00:01<00:00,  6.92it/s]\n"
     ]
    },
    {
     "name": "stdout",
     "output_type": "stream",
     "text": [
      "\n",
      "Epoch 22 score = 73.21428656578064\n",
      "\n",
      "Epoch 23\n",
      "Train\n"
     ]
    },
    {
     "name": "stderr",
     "output_type": "stream",
     "text": [
      "100%|██████████| 57/57 [00:21<00:00,  2.65it/s]\n"
     ]
    },
    {
     "name": "stdout",
     "output_type": "stream",
     "text": [
      "Eval\n"
     ]
    },
    {
     "name": "stderr",
     "output_type": "stream",
     "text": [
      "100%|██████████| 11/11 [00:01<00:00,  6.95it/s]\n"
     ]
    },
    {
     "name": "stdout",
     "output_type": "stream",
     "text": [
      "\n",
      "Epoch 23 score = 71.875\n",
      "\n",
      "Epoch 24\n",
      "Train\n"
     ]
    },
    {
     "name": "stderr",
     "output_type": "stream",
     "text": [
      "100%|██████████| 57/57 [00:21<00:00,  2.67it/s]\n"
     ]
    },
    {
     "name": "stdout",
     "output_type": "stream",
     "text": [
      "Eval\n"
     ]
    },
    {
     "name": "stderr",
     "output_type": "stream",
     "text": [
      "100%|██████████| 11/11 [00:01<00:00,  7.04it/s]\n"
     ]
    },
    {
     "name": "stdout",
     "output_type": "stream",
     "text": [
      "\n",
      "Epoch 24 score = 60.1190447807312\n",
      "\n",
      "Epoch 0\n",
      "Train\n"
     ]
    },
    {
     "name": "stderr",
     "output_type": "stream",
     "text": [
      "100%|██████████| 57/57 [00:21<00:00,  2.69it/s]\n"
     ]
    },
    {
     "name": "stdout",
     "output_type": "stream",
     "text": [
      "Eval\n"
     ]
    },
    {
     "name": "stderr",
     "output_type": "stream",
     "text": [
      "100%|██████████| 11/11 [00:01<00:00,  7.02it/s]\n",
      "\u001b[32m2024-11-20 19:43:32.727\u001b[0m | \u001b[1mINFO    \u001b[0m | \u001b[36mcommon.utils\u001b[0m:\u001b[36m__call__\u001b[0m:\u001b[36m183\u001b[0m - \u001b[1m[ModelCheckpoint] Saving model to: c:\\Users\\doxda\\OneDrive\\Documentos\\Repos\\masters-degree-data-shift\\models with acc 62.9464\u001b[0m\n"
     ]
    },
    {
     "name": "stdout",
     "output_type": "stream",
     "text": [
      "\n",
      "Epoch 0 score = 62.94642686843872\n",
      "\n",
      "Epoch 1\n",
      "Train\n"
     ]
    },
    {
     "name": "stderr",
     "output_type": "stream",
     "text": [
      "100%|██████████| 57/57 [00:21<00:00,  2.68it/s]\n"
     ]
    },
    {
     "name": "stdout",
     "output_type": "stream",
     "text": [
      "Eval\n"
     ]
    },
    {
     "name": "stderr",
     "output_type": "stream",
     "text": [
      "100%|██████████| 11/11 [00:01<00:00,  7.01it/s]\n"
     ]
    },
    {
     "name": "stdout",
     "output_type": "stream",
     "text": [
      "\n",
      "Epoch 1 score = 43.75\n",
      "\n",
      "Epoch 2\n",
      "Train\n"
     ]
    },
    {
     "name": "stderr",
     "output_type": "stream",
     "text": [
      "100%|██████████| 57/57 [00:21<00:00,  2.68it/s]\n"
     ]
    },
    {
     "name": "stdout",
     "output_type": "stream",
     "text": [
      "Eval\n"
     ]
    },
    {
     "name": "stderr",
     "output_type": "stream",
     "text": [
      "100%|██████████| 11/11 [00:01<00:00,  7.00it/s]\n"
     ]
    },
    {
     "name": "stdout",
     "output_type": "stream",
     "text": [
      "\n",
      "Epoch 2 score = 56.9940447807312\n",
      "\n",
      "Epoch 3\n",
      "Train\n"
     ]
    },
    {
     "name": "stderr",
     "output_type": "stream",
     "text": [
      "100%|██████████| 57/57 [00:21<00:00,  2.67it/s]\n"
     ]
    },
    {
     "name": "stdout",
     "output_type": "stream",
     "text": [
      "Eval\n"
     ]
    },
    {
     "name": "stderr",
     "output_type": "stream",
     "text": [
      "100%|██████████| 11/11 [00:01<00:00,  6.94it/s]\n"
     ]
    },
    {
     "name": "stdout",
     "output_type": "stream",
     "text": [
      "\n",
      "Epoch 3 score = 61.3095223903656\n",
      "\n",
      "Epoch 4\n",
      "Train\n"
     ]
    },
    {
     "name": "stderr",
     "output_type": "stream",
     "text": [
      "100%|██████████| 57/57 [00:21<00:00,  2.68it/s]\n"
     ]
    },
    {
     "name": "stdout",
     "output_type": "stream",
     "text": [
      "Eval\n"
     ]
    },
    {
     "name": "stderr",
     "output_type": "stream",
     "text": [
      "100%|██████████| 11/11 [00:01<00:00,  7.02it/s]\n"
     ]
    },
    {
     "name": "stdout",
     "output_type": "stream",
     "text": [
      "\n",
      "Epoch 4 score = 62.20238208770752\n",
      "\n",
      "Epoch 5\n",
      "Train\n"
     ]
    },
    {
     "name": "stderr",
     "output_type": "stream",
     "text": [
      "100%|██████████| 57/57 [00:21<00:00,  2.69it/s]\n"
     ]
    },
    {
     "name": "stdout",
     "output_type": "stream",
     "text": [
      "Eval\n"
     ]
    },
    {
     "name": "stderr",
     "output_type": "stream",
     "text": [
      "100%|██████████| 11/11 [00:01<00:00,  6.95it/s]\n"
     ]
    },
    {
     "name": "stdout",
     "output_type": "stream",
     "text": [
      "\n",
      "Epoch 5 score = 62.79761791229248\n",
      "\n",
      "Epoch 6\n",
      "Train\n"
     ]
    },
    {
     "name": "stderr",
     "output_type": "stream",
     "text": [
      "100%|██████████| 57/57 [00:21<00:00,  2.64it/s]\n"
     ]
    },
    {
     "name": "stdout",
     "output_type": "stream",
     "text": [
      "Eval\n"
     ]
    },
    {
     "name": "stderr",
     "output_type": "stream",
     "text": [
      "100%|██████████| 11/11 [00:01<00:00,  6.83it/s]\n"
     ]
    },
    {
     "name": "stdout",
     "output_type": "stream",
     "text": [
      "\n",
      "Epoch 6 score = 52.67857313156128\n",
      "\n",
      "Epoch 7\n",
      "Train\n"
     ]
    },
    {
     "name": "stderr",
     "output_type": "stream",
     "text": [
      "100%|██████████| 57/57 [00:21<00:00,  2.68it/s]\n"
     ]
    },
    {
     "name": "stdout",
     "output_type": "stream",
     "text": [
      "Eval\n"
     ]
    },
    {
     "name": "stderr",
     "output_type": "stream",
     "text": [
      "100%|██████████| 11/11 [00:01<00:00,  7.02it/s]\n",
      "\u001b[32m2024-11-20 19:46:13.146\u001b[0m | \u001b[1mINFO    \u001b[0m | \u001b[36mcommon.utils\u001b[0m:\u001b[36m__call__\u001b[0m:\u001b[36m183\u001b[0m - \u001b[1m[ModelCheckpoint] Saving model to: c:\\Users\\doxda\\OneDrive\\Documentos\\Repos\\masters-degree-data-shift\\models with acc 63.6905\u001b[0m\n"
     ]
    },
    {
     "name": "stdout",
     "output_type": "stream",
     "text": [
      "\n",
      "Epoch 7 score = 63.6904776096344\n",
      "\n",
      "Epoch 8\n",
      "Train\n"
     ]
    },
    {
     "name": "stderr",
     "output_type": "stream",
     "text": [
      "100%|██████████| 57/57 [00:21<00:00,  2.67it/s]\n"
     ]
    },
    {
     "name": "stdout",
     "output_type": "stream",
     "text": [
      "Eval\n"
     ]
    },
    {
     "name": "stderr",
     "output_type": "stream",
     "text": [
      "100%|██████████| 11/11 [00:01<00:00,  6.97it/s]\n",
      "\u001b[32m2024-11-20 19:46:36.104\u001b[0m | \u001b[1mINFO    \u001b[0m | \u001b[36mcommon.utils\u001b[0m:\u001b[36m__call__\u001b[0m:\u001b[36m183\u001b[0m - \u001b[1m[ModelCheckpoint] Saving model to: c:\\Users\\doxda\\OneDrive\\Documentos\\Repos\\masters-degree-data-shift\\models with acc 70.6845\u001b[0m\n"
     ]
    },
    {
     "name": "stdout",
     "output_type": "stream",
     "text": [
      "\n",
      "Epoch 8 score = 70.6845223903656\n",
      "\n",
      "Epoch 9\n",
      "Train\n"
     ]
    },
    {
     "name": "stderr",
     "output_type": "stream",
     "text": [
      "100%|██████████| 57/57 [00:21<00:00,  2.68it/s]\n"
     ]
    },
    {
     "name": "stdout",
     "output_type": "stream",
     "text": [
      "Eval\n"
     ]
    },
    {
     "name": "stderr",
     "output_type": "stream",
     "text": [
      "100%|██████████| 11/11 [00:01<00:00,  7.03it/s]\n"
     ]
    },
    {
     "name": "stdout",
     "output_type": "stream",
     "text": [
      "\n",
      "Epoch 9 score = 64.8809552192688\n",
      "\n",
      "Epoch 10\n",
      "Train\n"
     ]
    },
    {
     "name": "stderr",
     "output_type": "stream",
     "text": [
      "100%|██████████| 57/57 [00:21<00:00,  2.68it/s]\n"
     ]
    },
    {
     "name": "stdout",
     "output_type": "stream",
     "text": [
      "Eval\n"
     ]
    },
    {
     "name": "stderr",
     "output_type": "stream",
     "text": [
      "100%|██████████| 11/11 [00:01<00:00,  6.91it/s]\n"
     ]
    },
    {
     "name": "stdout",
     "output_type": "stream",
     "text": [
      "\n",
      "Epoch 10 score = 68.45238208770752\n",
      "\n",
      "Epoch 11\n",
      "Train\n"
     ]
    },
    {
     "name": "stderr",
     "output_type": "stream",
     "text": [
      "100%|██████████| 57/57 [00:21<00:00,  2.68it/s]\n"
     ]
    },
    {
     "name": "stdout",
     "output_type": "stream",
     "text": [
      "Eval\n"
     ]
    },
    {
     "name": "stderr",
     "output_type": "stream",
     "text": [
      "100%|██████████| 11/11 [00:01<00:00,  6.93it/s]\n"
     ]
    },
    {
     "name": "stdout",
     "output_type": "stream",
     "text": [
      "\n",
      "Epoch 11 score = 50.7440447807312\n",
      "\n",
      "Epoch 12\n",
      "Train\n"
     ]
    },
    {
     "name": "stderr",
     "output_type": "stream",
     "text": [
      "100%|██████████| 57/57 [00:21<00:00,  2.68it/s]\n"
     ]
    },
    {
     "name": "stdout",
     "output_type": "stream",
     "text": [
      "Eval\n"
     ]
    },
    {
     "name": "stderr",
     "output_type": "stream",
     "text": [
      "100%|██████████| 11/11 [00:01<00:00,  6.92it/s]\n",
      "\u001b[32m2024-11-20 19:48:07.617\u001b[0m | \u001b[1mINFO    \u001b[0m | \u001b[36mcommon.utils\u001b[0m:\u001b[36m__call__\u001b[0m:\u001b[36m183\u001b[0m - \u001b[1m[ModelCheckpoint] Saving model to: c:\\Users\\doxda\\OneDrive\\Documentos\\Repos\\masters-degree-data-shift\\models with acc 72.4702\u001b[0m\n"
     ]
    },
    {
     "name": "stdout",
     "output_type": "stream",
     "text": [
      "\n",
      "Epoch 12 score = 72.47023582458496\n",
      "\n",
      "Epoch 13\n",
      "Train\n"
     ]
    },
    {
     "name": "stderr",
     "output_type": "stream",
     "text": [
      "100%|██████████| 57/57 [00:21<00:00,  2.67it/s]\n"
     ]
    },
    {
     "name": "stdout",
     "output_type": "stream",
     "text": [
      "Eval\n"
     ]
    },
    {
     "name": "stderr",
     "output_type": "stream",
     "text": [
      "100%|██████████| 11/11 [00:01<00:00,  6.97it/s]\n"
     ]
    },
    {
     "name": "stdout",
     "output_type": "stream",
     "text": [
      "\n",
      "Epoch 13 score = 52.08333134651184\n",
      "\n",
      "Epoch 14\n",
      "Train\n"
     ]
    },
    {
     "name": "stderr",
     "output_type": "stream",
     "text": [
      "100%|██████████| 57/57 [00:21<00:00,  2.67it/s]\n"
     ]
    },
    {
     "name": "stdout",
     "output_type": "stream",
     "text": [
      "Eval\n"
     ]
    },
    {
     "name": "stderr",
     "output_type": "stream",
     "text": [
      "100%|██████████| 11/11 [00:01<00:00,  6.95it/s]\n",
      "\u001b[32m2024-11-20 19:48:53.557\u001b[0m | \u001b[1mINFO    \u001b[0m | \u001b[36mcommon.utils\u001b[0m:\u001b[36m__call__\u001b[0m:\u001b[36m183\u001b[0m - \u001b[1m[ModelCheckpoint] Saving model to: c:\\Users\\doxda\\OneDrive\\Documentos\\Repos\\masters-degree-data-shift\\models with acc 74.8512\u001b[0m\n"
     ]
    },
    {
     "name": "stdout",
     "output_type": "stream",
     "text": [
      "\n",
      "Epoch 14 score = 74.85119104385376\n",
      "\n",
      "Epoch 15\n",
      "Train\n"
     ]
    },
    {
     "name": "stderr",
     "output_type": "stream",
     "text": [
      "100%|██████████| 57/57 [00:21<00:00,  2.68it/s]\n"
     ]
    },
    {
     "name": "stdout",
     "output_type": "stream",
     "text": [
      "Eval\n"
     ]
    },
    {
     "name": "stderr",
     "output_type": "stream",
     "text": [
      "100%|██████████| 11/11 [00:01<00:00,  6.95it/s]\n"
     ]
    },
    {
     "name": "stdout",
     "output_type": "stream",
     "text": [
      "\n",
      "Epoch 15 score = 72.32142686843872\n",
      "\n",
      "Epoch 16\n",
      "Train\n"
     ]
    },
    {
     "name": "stderr",
     "output_type": "stream",
     "text": [
      "100%|██████████| 57/57 [00:21<00:00,  2.69it/s]\n"
     ]
    },
    {
     "name": "stdout",
     "output_type": "stream",
     "text": [
      "Eval\n"
     ]
    },
    {
     "name": "stderr",
     "output_type": "stream",
     "text": [
      "100%|██████████| 11/11 [00:01<00:00,  6.96it/s]\n"
     ]
    },
    {
     "name": "stdout",
     "output_type": "stream",
     "text": [
      "\n",
      "Epoch 16 score = 73.36309552192688\n",
      "\n",
      "Epoch 17\n",
      "Train\n"
     ]
    },
    {
     "name": "stderr",
     "output_type": "stream",
     "text": [
      "100%|██████████| 57/57 [00:21<00:00,  2.61it/s]\n"
     ]
    },
    {
     "name": "stdout",
     "output_type": "stream",
     "text": [
      "Eval\n"
     ]
    },
    {
     "name": "stderr",
     "output_type": "stream",
     "text": [
      "100%|██████████| 11/11 [00:01<00:00,  5.77it/s]\n"
     ]
    },
    {
     "name": "stdout",
     "output_type": "stream",
     "text": [
      "\n",
      "Epoch 17 score = 69.34523582458496\n",
      "\n",
      "Epoch 18\n",
      "Train\n"
     ]
    },
    {
     "name": "stderr",
     "output_type": "stream",
     "text": [
      "100%|██████████| 57/57 [00:21<00:00,  2.64it/s]\n"
     ]
    },
    {
     "name": "stdout",
     "output_type": "stream",
     "text": [
      "Eval\n"
     ]
    },
    {
     "name": "stderr",
     "output_type": "stream",
     "text": [
      "100%|██████████| 11/11 [00:01<00:00,  7.03it/s]\n"
     ]
    },
    {
     "name": "stdout",
     "output_type": "stream",
     "text": [
      "\n",
      "Epoch 18 score = 73.21428656578064\n",
      "\n",
      "Epoch 19\n",
      "Train\n"
     ]
    },
    {
     "name": "stderr",
     "output_type": "stream",
     "text": [
      "100%|██████████| 57/57 [00:21<00:00,  2.66it/s]\n"
     ]
    },
    {
     "name": "stdout",
     "output_type": "stream",
     "text": [
      "Eval\n"
     ]
    },
    {
     "name": "stderr",
     "output_type": "stream",
     "text": [
      "100%|██████████| 11/11 [00:01<00:00,  7.04it/s]\n"
     ]
    },
    {
     "name": "stdout",
     "output_type": "stream",
     "text": [
      "\n",
      "Epoch 19 score = 71.1309552192688\n",
      "\n",
      "Epoch 20\n",
      "Train\n"
     ]
    },
    {
     "name": "stderr",
     "output_type": "stream",
     "text": [
      "100%|██████████| 57/57 [00:21<00:00,  2.68it/s]\n"
     ]
    },
    {
     "name": "stdout",
     "output_type": "stream",
     "text": [
      "Eval\n"
     ]
    },
    {
     "name": "stderr",
     "output_type": "stream",
     "text": [
      "100%|██████████| 11/11 [00:01<00:00,  6.94it/s]\n"
     ]
    },
    {
     "name": "stdout",
     "output_type": "stream",
     "text": [
      "\n",
      "Epoch 20 score = 72.91666865348816\n",
      "\n",
      "Epoch 21\n",
      "Train\n"
     ]
    },
    {
     "name": "stderr",
     "output_type": "stream",
     "text": [
      "100%|██████████| 57/57 [00:21<00:00,  2.67it/s]\n"
     ]
    },
    {
     "name": "stdout",
     "output_type": "stream",
     "text": [
      "Eval\n"
     ]
    },
    {
     "name": "stderr",
     "output_type": "stream",
     "text": [
      "100%|██████████| 11/11 [00:01<00:00,  6.87it/s]\n"
     ]
    },
    {
     "name": "stdout",
     "output_type": "stream",
     "text": [
      "\n",
      "Epoch 21 score = 74.10714030265808\n",
      "\n",
      "Epoch 22\n",
      "Train\n"
     ]
    },
    {
     "name": "stderr",
     "output_type": "stream",
     "text": [
      "100%|██████████| 57/57 [00:21<00:00,  2.67it/s]\n"
     ]
    },
    {
     "name": "stdout",
     "output_type": "stream",
     "text": [
      "Eval\n"
     ]
    },
    {
     "name": "stderr",
     "output_type": "stream",
     "text": [
      "100%|██████████| 11/11 [00:01<00:00,  6.90it/s]\n"
     ]
    },
    {
     "name": "stdout",
     "output_type": "stream",
     "text": [
      "\n",
      "Epoch 22 score = 61.01190447807312\n",
      "\n",
      "Epoch 23\n",
      "Train\n"
     ]
    },
    {
     "name": "stderr",
     "output_type": "stream",
     "text": [
      "100%|██████████| 57/57 [00:21<00:00,  2.68it/s]\n"
     ]
    },
    {
     "name": "stdout",
     "output_type": "stream",
     "text": [
      "Eval\n"
     ]
    },
    {
     "name": "stderr",
     "output_type": "stream",
     "text": [
      "100%|██████████| 11/11 [00:01<00:00,  6.93it/s]\n",
      "\u001b[32m2024-11-20 19:52:20.906\u001b[0m | \u001b[1mINFO    \u001b[0m | \u001b[36mcommon.utils\u001b[0m:\u001b[36m__call__\u001b[0m:\u001b[36m183\u001b[0m - \u001b[1m[ModelCheckpoint] Saving model to: c:\\Users\\doxda\\OneDrive\\Documentos\\Repos\\masters-degree-data-shift\\models with acc 76.3393\u001b[0m\n"
     ]
    },
    {
     "name": "stdout",
     "output_type": "stream",
     "text": [
      "\n",
      "Epoch 23 score = 76.33928656578064\n",
      "\n",
      "Epoch 24\n",
      "Train\n"
     ]
    },
    {
     "name": "stderr",
     "output_type": "stream",
     "text": [
      "100%|██████████| 57/57 [00:21<00:00,  2.66it/s]\n"
     ]
    },
    {
     "name": "stdout",
     "output_type": "stream",
     "text": [
      "Eval\n"
     ]
    },
    {
     "name": "stderr",
     "output_type": "stream",
     "text": [
      "100%|██████████| 11/11 [00:01<00:00,  6.91it/s]\n"
     ]
    },
    {
     "name": "stdout",
     "output_type": "stream",
     "text": [
      "\n",
      "Epoch 24 score = 71.42857313156128\n",
      "\n",
      "Epoch 0\n",
      "Train\n"
     ]
    },
    {
     "name": "stderr",
     "output_type": "stream",
     "text": [
      "100%|██████████| 57/57 [00:43<00:00,  1.32it/s]\n"
     ]
    },
    {
     "name": "stdout",
     "output_type": "stream",
     "text": [
      "Eval\n"
     ]
    },
    {
     "name": "stderr",
     "output_type": "stream",
     "text": [
      "100%|██████████| 11/11 [00:01<00:00,  6.85it/s]\n",
      "\u001b[32m2024-11-20 19:53:29.049\u001b[0m | \u001b[1mINFO    \u001b[0m | \u001b[36mcommon.utils\u001b[0m:\u001b[36m__call__\u001b[0m:\u001b[36m183\u001b[0m - \u001b[1m[ModelCheckpoint] Saving model to: c:\\Users\\doxda\\OneDrive\\Documentos\\Repos\\masters-degree-data-shift\\models with acc 57.1429\u001b[0m\n"
     ]
    },
    {
     "name": "stdout",
     "output_type": "stream",
     "text": [
      "\n",
      "Epoch 0 score = 57.14285969734192\n",
      "\n",
      "Epoch 1\n",
      "Train\n"
     ]
    },
    {
     "name": "stderr",
     "output_type": "stream",
     "text": [
      "100%|██████████| 57/57 [00:43<00:00,  1.32it/s]\n"
     ]
    },
    {
     "name": "stdout",
     "output_type": "stream",
     "text": [
      "Eval\n"
     ]
    },
    {
     "name": "stderr",
     "output_type": "stream",
     "text": [
      "100%|██████████| 11/11 [00:01<00:00,  6.92it/s]\n",
      "\u001b[32m2024-11-20 19:54:13.843\u001b[0m | \u001b[1mINFO    \u001b[0m | \u001b[36mcommon.utils\u001b[0m:\u001b[36m__call__\u001b[0m:\u001b[36m183\u001b[0m - \u001b[1m[ModelCheckpoint] Saving model to: c:\\Users\\doxda\\OneDrive\\Documentos\\Repos\\masters-degree-data-shift\\models with acc 59.2262\u001b[0m\n"
     ]
    },
    {
     "name": "stdout",
     "output_type": "stream",
     "text": [
      "\n",
      "Epoch 1 score = 59.22619104385376\n",
      "\n",
      "Epoch 2\n",
      "Train\n"
     ]
    },
    {
     "name": "stderr",
     "output_type": "stream",
     "text": [
      "100%|██████████| 57/57 [00:43<00:00,  1.32it/s]\n"
     ]
    },
    {
     "name": "stdout",
     "output_type": "stream",
     "text": [
      "Eval\n"
     ]
    },
    {
     "name": "stderr",
     "output_type": "stream",
     "text": [
      "100%|██████████| 11/11 [00:01<00:00,  6.91it/s]\n"
     ]
    },
    {
     "name": "stdout",
     "output_type": "stream",
     "text": [
      "\n",
      "Epoch 2 score = 46.42857015132904\n",
      "\n",
      "Epoch 3\n",
      "Train\n"
     ]
    },
    {
     "name": "stderr",
     "output_type": "stream",
     "text": [
      "100%|██████████| 57/57 [00:43<00:00,  1.32it/s]\n"
     ]
    },
    {
     "name": "stdout",
     "output_type": "stream",
     "text": [
      "Eval\n"
     ]
    },
    {
     "name": "stderr",
     "output_type": "stream",
     "text": [
      "100%|██████████| 11/11 [00:01<00:00,  6.76it/s]\n"
     ]
    },
    {
     "name": "stdout",
     "output_type": "stream",
     "text": [
      "\n",
      "Epoch 3 score = 42.85714328289032\n",
      "\n",
      "Epoch 4\n",
      "Train\n"
     ]
    },
    {
     "name": "stderr",
     "output_type": "stream",
     "text": [
      "100%|██████████| 57/57 [00:43<00:00,  1.32it/s]\n"
     ]
    },
    {
     "name": "stdout",
     "output_type": "stream",
     "text": [
      "Eval\n"
     ]
    },
    {
     "name": "stderr",
     "output_type": "stream",
     "text": [
      "100%|██████████| 11/11 [00:01<00:00,  6.87it/s]\n"
     ]
    },
    {
     "name": "stdout",
     "output_type": "stream",
     "text": [
      "\n",
      "Epoch 4 score = 44.04761791229248\n",
      "\n",
      "Epoch 5\n",
      "Train\n"
     ]
    },
    {
     "name": "stderr",
     "output_type": "stream",
     "text": [
      "100%|██████████| 57/57 [00:43<00:00,  1.32it/s]\n"
     ]
    },
    {
     "name": "stdout",
     "output_type": "stream",
     "text": [
      "Eval\n"
     ]
    },
    {
     "name": "stderr",
     "output_type": "stream",
     "text": [
      "100%|██████████| 11/11 [00:01<00:00,  7.03it/s]\n"
     ]
    },
    {
     "name": "stdout",
     "output_type": "stream",
     "text": [
      "\n",
      "Epoch 5 score = 48.8095223903656\n",
      "\n",
      "Epoch 6\n",
      "Train\n"
     ]
    },
    {
     "name": "stderr",
     "output_type": "stream",
     "text": [
      "100%|██████████| 57/57 [00:43<00:00,  1.32it/s]\n"
     ]
    },
    {
     "name": "stdout",
     "output_type": "stream",
     "text": [
      "Eval\n"
     ]
    },
    {
     "name": "stderr",
     "output_type": "stream",
     "text": [
      "100%|██████████| 11/11 [00:01<00:00,  7.03it/s]\n"
     ]
    },
    {
     "name": "stdout",
     "output_type": "stream",
     "text": [
      "\n",
      "Epoch 6 score = 56.39880895614624\n",
      "\n",
      "Epoch 7\n",
      "Train\n"
     ]
    },
    {
     "name": "stderr",
     "output_type": "stream",
     "text": [
      "100%|██████████| 57/57 [00:43<00:00,  1.32it/s]\n"
     ]
    },
    {
     "name": "stdout",
     "output_type": "stream",
     "text": [
      "Eval\n"
     ]
    },
    {
     "name": "stderr",
     "output_type": "stream",
     "text": [
      "100%|██████████| 11/11 [00:01<00:00,  6.95it/s]\n"
     ]
    },
    {
     "name": "stdout",
     "output_type": "stream",
     "text": [
      "\n",
      "Epoch 7 score = 42.41071343421936\n",
      "\n",
      "Epoch 8\n",
      "Train\n"
     ]
    },
    {
     "name": "stderr",
     "output_type": "stream",
     "text": [
      "100%|██████████| 57/57 [00:43<00:00,  1.32it/s]\n"
     ]
    },
    {
     "name": "stdout",
     "output_type": "stream",
     "text": [
      "Eval\n"
     ]
    },
    {
     "name": "stderr",
     "output_type": "stream",
     "text": [
      "100%|██████████| 11/11 [00:01<00:00,  7.05it/s]\n"
     ]
    },
    {
     "name": "stdout",
     "output_type": "stream",
     "text": [
      "\n",
      "Epoch 8 score = 42.70833432674408\n",
      "\n",
      "Epoch 9\n",
      "Train\n"
     ]
    },
    {
     "name": "stderr",
     "output_type": "stream",
     "text": [
      "100%|██████████| 57/57 [00:43<00:00,  1.32it/s]\n"
     ]
    },
    {
     "name": "stdout",
     "output_type": "stream",
     "text": [
      "Eval\n"
     ]
    },
    {
     "name": "stderr",
     "output_type": "stream",
     "text": [
      "100%|██████████| 11/11 [00:01<00:00,  7.00it/s]\n"
     ]
    },
    {
     "name": "stdout",
     "output_type": "stream",
     "text": [
      "\n",
      "Epoch 9 score = 42.85714328289032\n",
      "\n",
      "Epoch 10\n",
      "Train\n"
     ]
    },
    {
     "name": "stderr",
     "output_type": "stream",
     "text": [
      "100%|██████████| 57/57 [00:43<00:00,  1.32it/s]\n"
     ]
    },
    {
     "name": "stdout",
     "output_type": "stream",
     "text": [
      "Eval\n"
     ]
    },
    {
     "name": "stderr",
     "output_type": "stream",
     "text": [
      "100%|██████████| 11/11 [00:01<00:00,  7.00it/s]\n"
     ]
    },
    {
     "name": "stdout",
     "output_type": "stream",
     "text": [
      "\n",
      "Epoch 10 score = 43.00595223903656\n",
      "\n",
      "Epoch 11\n",
      "Train\n"
     ]
    },
    {
     "name": "stderr",
     "output_type": "stream",
     "text": [
      "100%|██████████| 57/57 [00:43<00:00,  1.32it/s]\n"
     ]
    },
    {
     "name": "stdout",
     "output_type": "stream",
     "text": [
      "Eval\n"
     ]
    },
    {
     "name": "stderr",
     "output_type": "stream",
     "text": [
      "100%|██████████| 11/11 [00:01<00:00,  7.08it/s]\n"
     ]
    },
    {
     "name": "stdout",
     "output_type": "stream",
     "text": [
      "\n",
      "Epoch 11 score = 43.1547611951828\n",
      "\n",
      "Epoch 12\n",
      "Train\n"
     ]
    },
    {
     "name": "stderr",
     "output_type": "stream",
     "text": [
      "100%|██████████| 57/57 [00:43<00:00,  1.32it/s]\n"
     ]
    },
    {
     "name": "stdout",
     "output_type": "stream",
     "text": [
      "Eval\n"
     ]
    },
    {
     "name": "stderr",
     "output_type": "stream",
     "text": [
      "100%|██████████| 11/11 [00:01<00:00,  7.05it/s]\n"
     ]
    },
    {
     "name": "stdout",
     "output_type": "stream",
     "text": [
      "\n",
      "Epoch 12 score = 47.4702388048172\n",
      "\n",
      "Epoch 13\n",
      "Train\n"
     ]
    },
    {
     "name": "stderr",
     "output_type": "stream",
     "text": [
      "100%|██████████| 57/57 [00:43<00:00,  1.32it/s]\n"
     ]
    },
    {
     "name": "stdout",
     "output_type": "stream",
     "text": [
      "Eval\n"
     ]
    },
    {
     "name": "stderr",
     "output_type": "stream",
     "text": [
      "100%|██████████| 11/11 [00:01<00:00,  6.98it/s]\n"
     ]
    },
    {
     "name": "stdout",
     "output_type": "stream",
     "text": [
      "\n",
      "Epoch 13 score = 56.9940447807312\n",
      "\n",
      "Epoch 14\n",
      "Train\n"
     ]
    },
    {
     "name": "stderr",
     "output_type": "stream",
     "text": [
      "100%|██████████| 57/57 [00:48<00:00,  1.19it/s]\n"
     ]
    },
    {
     "name": "stdout",
     "output_type": "stream",
     "text": [
      "Eval\n"
     ]
    },
    {
     "name": "stderr",
     "output_type": "stream",
     "text": [
      "100%|██████████| 11/11 [00:01<00:00,  6.08it/s]\n"
     ]
    },
    {
     "name": "stdout",
     "output_type": "stream",
     "text": [
      "\n",
      "Epoch 14 score = 55.80357313156128\n",
      "\n",
      "Epoch 15\n",
      "Train\n"
     ]
    },
    {
     "name": "stderr",
     "output_type": "stream",
     "text": [
      "100%|██████████| 57/57 [00:49<00:00,  1.15it/s]\n"
     ]
    },
    {
     "name": "stdout",
     "output_type": "stream",
     "text": [
      "Eval\n"
     ]
    },
    {
     "name": "stderr",
     "output_type": "stream",
     "text": [
      "100%|██████████| 11/11 [00:01<00:00,  5.92it/s]\n"
     ]
    },
    {
     "name": "stdout",
     "output_type": "stream",
     "text": [
      "\n",
      "Epoch 15 score = 58.77976417541504\n",
      "\n",
      "Epoch 16\n",
      "Train\n"
     ]
    },
    {
     "name": "stderr",
     "output_type": "stream",
     "text": [
      "100%|██████████| 57/57 [00:49<00:00,  1.15it/s]\n"
     ]
    },
    {
     "name": "stdout",
     "output_type": "stream",
     "text": [
      "Eval\n"
     ]
    },
    {
     "name": "stderr",
     "output_type": "stream",
     "text": [
      "100%|██████████| 11/11 [00:01<00:00,  6.07it/s]\n"
     ]
    },
    {
     "name": "stdout",
     "output_type": "stream",
     "text": [
      "\n",
      "Epoch 16 score = 46.57738208770752\n",
      "\n",
      "Epoch 17\n",
      "Train\n"
     ]
    },
    {
     "name": "stderr",
     "output_type": "stream",
     "text": [
      "100%|██████████| 57/57 [00:49<00:00,  1.16it/s]\n"
     ]
    },
    {
     "name": "stdout",
     "output_type": "stream",
     "text": [
      "Eval\n"
     ]
    },
    {
     "name": "stderr",
     "output_type": "stream",
     "text": [
      "100%|██████████| 11/11 [00:01<00:00,  6.20it/s]\n"
     ]
    },
    {
     "name": "stdout",
     "output_type": "stream",
     "text": [
      "\n",
      "Epoch 17 score = 48.95833432674408\n",
      "\n",
      "Epoch 18\n",
      "Train\n"
     ]
    },
    {
     "name": "stderr",
     "output_type": "stream",
     "text": [
      "100%|██████████| 57/57 [00:49<00:00,  1.16it/s]\n"
     ]
    },
    {
     "name": "stdout",
     "output_type": "stream",
     "text": [
      "Eval\n"
     ]
    },
    {
     "name": "stderr",
     "output_type": "stream",
     "text": [
      "100%|██████████| 11/11 [00:01<00:00,  5.94it/s]\n"
     ]
    },
    {
     "name": "stdout",
     "output_type": "stream",
     "text": [
      "\n",
      "Epoch 18 score = 55.95238208770752\n",
      "\n",
      "Epoch 19\n",
      "Train\n"
     ]
    },
    {
     "name": "stderr",
     "output_type": "stream",
     "text": [
      "100%|██████████| 57/57 [00:49<00:00,  1.16it/s]\n"
     ]
    },
    {
     "name": "stdout",
     "output_type": "stream",
     "text": [
      "Eval\n"
     ]
    },
    {
     "name": "stderr",
     "output_type": "stream",
     "text": [
      "100%|██████████| 11/11 [00:01<00:00,  6.19it/s]\n"
     ]
    },
    {
     "name": "stdout",
     "output_type": "stream",
     "text": [
      "\n",
      "Epoch 19 score = 58.92857313156128\n",
      "\n",
      "Epoch 20\n",
      "Train\n"
     ]
    },
    {
     "name": "stderr",
     "output_type": "stream",
     "text": [
      "100%|██████████| 57/57 [00:48<00:00,  1.18it/s]\n"
     ]
    },
    {
     "name": "stdout",
     "output_type": "stream",
     "text": [
      "Eval\n"
     ]
    },
    {
     "name": "stderr",
     "output_type": "stream",
     "text": [
      "100%|██████████| 11/11 [00:01<00:00,  6.51it/s]\n"
     ]
    },
    {
     "name": "stdout",
     "output_type": "stream",
     "text": [
      "\n",
      "Epoch 20 score = 58.6309552192688\n",
      "\n",
      "Epoch 21\n",
      "Train\n"
     ]
    },
    {
     "name": "stderr",
     "output_type": "stream",
     "text": [
      "100%|██████████| 57/57 [00:50<00:00,  1.14it/s]\n"
     ]
    },
    {
     "name": "stdout",
     "output_type": "stream",
     "text": [
      "Eval\n"
     ]
    },
    {
     "name": "stderr",
     "output_type": "stream",
     "text": [
      "100%|██████████| 11/11 [00:01<00:00,  5.87it/s]\n"
     ]
    },
    {
     "name": "stdout",
     "output_type": "stream",
     "text": [
      "\n",
      "Epoch 21 score = 53.57142686843872\n",
      "\n",
      "Epoch 22\n",
      "Train\n"
     ]
    },
    {
     "name": "stderr",
     "output_type": "stream",
     "text": [
      "100%|██████████| 57/57 [00:50<00:00,  1.12it/s]\n"
     ]
    },
    {
     "name": "stdout",
     "output_type": "stream",
     "text": [
      "Eval\n"
     ]
    },
    {
     "name": "stderr",
     "output_type": "stream",
     "text": [
      "100%|██████████| 11/11 [00:01<00:00,  5.99it/s]\n"
     ]
    },
    {
     "name": "stdout",
     "output_type": "stream",
     "text": [
      "\n",
      "Epoch 22 score = 51.04166865348816\n",
      "\n",
      "Epoch 23\n",
      "Train\n"
     ]
    },
    {
     "name": "stderr",
     "output_type": "stream",
     "text": [
      "100%|██████████| 57/57 [00:48<00:00,  1.17it/s]\n"
     ]
    },
    {
     "name": "stdout",
     "output_type": "stream",
     "text": [
      "Eval\n"
     ]
    },
    {
     "name": "stderr",
     "output_type": "stream",
     "text": [
      "100%|██████████| 11/11 [00:02<00:00,  5.39it/s]\n"
     ]
    },
    {
     "name": "stdout",
     "output_type": "stream",
     "text": [
      "\n",
      "Epoch 23 score = 55.0595223903656\n",
      "\n",
      "Epoch 24\n",
      "Train\n"
     ]
    },
    {
     "name": "stderr",
     "output_type": "stream",
     "text": [
      "100%|██████████| 57/57 [00:45<00:00,  1.26it/s]\n"
     ]
    },
    {
     "name": "stdout",
     "output_type": "stream",
     "text": [
      "Eval\n"
     ]
    },
    {
     "name": "stderr",
     "output_type": "stream",
     "text": [
      "100%|██████████| 11/11 [00:01<00:00,  6.68it/s]\n"
     ]
    },
    {
     "name": "stdout",
     "output_type": "stream",
     "text": [
      "\n",
      "Epoch 24 score = 53.27380895614624\n",
      "\n",
      "Epoch 0\n",
      "Train\n"
     ]
    },
    {
     "name": "stderr",
     "output_type": "stream",
     "text": [
      "100%|██████████| 57/57 [00:25<00:00,  2.25it/s]\n"
     ]
    },
    {
     "name": "stdout",
     "output_type": "stream",
     "text": [
      "Eval\n"
     ]
    },
    {
     "name": "stderr",
     "output_type": "stream",
     "text": [
      "100%|██████████| 11/11 [00:01<00:00,  6.08it/s]\n",
      "\u001b[32m2024-11-20 20:12:56.328\u001b[0m | \u001b[1mINFO    \u001b[0m | \u001b[36mcommon.utils\u001b[0m:\u001b[36m__call__\u001b[0m:\u001b[36m183\u001b[0m - \u001b[1m[ModelCheckpoint] Saving model to: c:\\Users\\doxda\\OneDrive\\Documentos\\Repos\\masters-degree-data-shift\\models with acc 46.2798\u001b[0m\n"
     ]
    },
    {
     "name": "stdout",
     "output_type": "stream",
     "text": [
      "\n",
      "Epoch 0 score = 46.2797611951828\n",
      "\n",
      "Epoch 1\n",
      "Train\n"
     ]
    },
    {
     "name": "stderr",
     "output_type": "stream",
     "text": [
      "100%|██████████| 57/57 [00:23<00:00,  2.38it/s]\n"
     ]
    },
    {
     "name": "stdout",
     "output_type": "stream",
     "text": [
      "Eval\n"
     ]
    },
    {
     "name": "stderr",
     "output_type": "stream",
     "text": [
      "100%|██████████| 11/11 [00:01<00:00,  6.90it/s]\n",
      "\u001b[32m2024-11-20 20:13:21.964\u001b[0m | \u001b[1mINFO    \u001b[0m | \u001b[36mcommon.utils\u001b[0m:\u001b[36m__call__\u001b[0m:\u001b[36m183\u001b[0m - \u001b[1m[ModelCheckpoint] Saving model to: c:\\Users\\doxda\\OneDrive\\Documentos\\Repos\\masters-degree-data-shift\\models with acc 56.8452\u001b[0m\n"
     ]
    },
    {
     "name": "stdout",
     "output_type": "stream",
     "text": [
      "\n",
      "Epoch 1 score = 56.84523582458496\n",
      "\n",
      "Epoch 2\n",
      "Train\n"
     ]
    },
    {
     "name": "stderr",
     "output_type": "stream",
     "text": [
      "100%|██████████| 57/57 [00:22<00:00,  2.56it/s]\n"
     ]
    },
    {
     "name": "stdout",
     "output_type": "stream",
     "text": [
      "Eval\n"
     ]
    },
    {
     "name": "stderr",
     "output_type": "stream",
     "text": [
      "100%|██████████| 11/11 [00:01<00:00,  6.79it/s]\n"
     ]
    },
    {
     "name": "stdout",
     "output_type": "stream",
     "text": [
      "\n",
      "Epoch 2 score = 51.48809552192688\n",
      "\n",
      "Epoch 3\n",
      "Train\n"
     ]
    },
    {
     "name": "stderr",
     "output_type": "stream",
     "text": [
      "100%|██████████| 57/57 [00:24<00:00,  2.33it/s]\n"
     ]
    },
    {
     "name": "stdout",
     "output_type": "stream",
     "text": [
      "Eval\n"
     ]
    },
    {
     "name": "stderr",
     "output_type": "stream",
     "text": [
      "100%|██████████| 11/11 [00:01<00:00,  5.61it/s]\n",
      "\u001b[32m2024-11-20 20:14:12.432\u001b[0m | \u001b[1mINFO    \u001b[0m | \u001b[36mcommon.utils\u001b[0m:\u001b[36m__call__\u001b[0m:\u001b[36m183\u001b[0m - \u001b[1m[ModelCheckpoint] Saving model to: c:\\Users\\doxda\\OneDrive\\Documentos\\Repos\\masters-degree-data-shift\\models with acc 57.1429\u001b[0m\n"
     ]
    },
    {
     "name": "stdout",
     "output_type": "stream",
     "text": [
      "\n",
      "Epoch 3 score = 57.14285969734192\n",
      "\n",
      "Epoch 4\n",
      "Train\n"
     ]
    },
    {
     "name": "stderr",
     "output_type": "stream",
     "text": [
      "100%|██████████| 57/57 [00:23<00:00,  2.42it/s]\n"
     ]
    },
    {
     "name": "stdout",
     "output_type": "stream",
     "text": [
      "Eval\n"
     ]
    },
    {
     "name": "stderr",
     "output_type": "stream",
     "text": [
      "100%|██████████| 11/11 [00:01<00:00,  6.83it/s]\n"
     ]
    },
    {
     "name": "stdout",
     "output_type": "stream",
     "text": [
      "\n",
      "Epoch 4 score = 57.14285969734192\n",
      "\n",
      "Epoch 5\n",
      "Train\n"
     ]
    },
    {
     "name": "stderr",
     "output_type": "stream",
     "text": [
      "100%|██████████| 57/57 [00:24<00:00,  2.33it/s]\n"
     ]
    },
    {
     "name": "stdout",
     "output_type": "stream",
     "text": [
      "Eval\n"
     ]
    },
    {
     "name": "stderr",
     "output_type": "stream",
     "text": [
      "100%|██████████| 11/11 [00:01<00:00,  5.77it/s]\n"
     ]
    },
    {
     "name": "stdout",
     "output_type": "stream",
     "text": [
      "\n",
      "Epoch 5 score = 52.97619104385376\n",
      "\n",
      "Epoch 6\n",
      "Train\n"
     ]
    },
    {
     "name": "stderr",
     "output_type": "stream",
     "text": [
      "100%|██████████| 57/57 [00:32<00:00,  1.74it/s]\n"
     ]
    },
    {
     "name": "stdout",
     "output_type": "stream",
     "text": [
      "Eval\n"
     ]
    },
    {
     "name": "stderr",
     "output_type": "stream",
     "text": [
      "100%|██████████| 11/11 [00:01<00:00,  6.20it/s]\n"
     ]
    },
    {
     "name": "stdout",
     "output_type": "stream",
     "text": [
      "\n",
      "Epoch 6 score = 56.10119104385376\n",
      "\n",
      "Epoch 7\n",
      "Train\n"
     ]
    },
    {
     "name": "stderr",
     "output_type": "stream",
     "text": [
      "100%|██████████| 57/57 [00:25<00:00,  2.28it/s]\n"
     ]
    },
    {
     "name": "stdout",
     "output_type": "stream",
     "text": [
      "Eval\n"
     ]
    },
    {
     "name": "stderr",
     "output_type": "stream",
     "text": [
      "100%|██████████| 11/11 [00:01<00:00,  6.08it/s]\n"
     ]
    },
    {
     "name": "stdout",
     "output_type": "stream",
     "text": [
      "\n",
      "Epoch 7 score = 57.14285969734192\n",
      "\n",
      "Epoch 8\n",
      "Train\n"
     ]
    },
    {
     "name": "stderr",
     "output_type": "stream",
     "text": [
      "100%|██████████| 57/57 [00:26<00:00,  2.13it/s]\n"
     ]
    },
    {
     "name": "stdout",
     "output_type": "stream",
     "text": [
      "Eval\n"
     ]
    },
    {
     "name": "stderr",
     "output_type": "stream",
     "text": [
      "100%|██████████| 11/11 [00:03<00:00,  3.26it/s]\n"
     ]
    },
    {
     "name": "stdout",
     "output_type": "stream",
     "text": [
      "\n",
      "Epoch 8 score = 53.125\n",
      "\n",
      "Epoch 9\n",
      "Train\n"
     ]
    },
    {
     "name": "stderr",
     "output_type": "stream",
     "text": [
      "100%|██████████| 57/57 [00:46<00:00,  1.22it/s]\n"
     ]
    },
    {
     "name": "stdout",
     "output_type": "stream",
     "text": [
      "Eval\n"
     ]
    },
    {
     "name": "stderr",
     "output_type": "stream",
     "text": [
      "100%|██████████| 11/11 [00:03<00:00,  2.87it/s]\n"
     ]
    },
    {
     "name": "stdout",
     "output_type": "stream",
     "text": [
      "\n",
      "Epoch 9 score = 52.52976417541504\n",
      "\n",
      "Epoch 10\n",
      "Train\n"
     ]
    },
    {
     "name": "stderr",
     "output_type": "stream",
     "text": [
      "100%|██████████| 57/57 [00:45<00:00,  1.26it/s]\n"
     ]
    },
    {
     "name": "stdout",
     "output_type": "stream",
     "text": [
      "Eval\n"
     ]
    },
    {
     "name": "stderr",
     "output_type": "stream",
     "text": [
      "100%|██████████| 11/11 [00:02<00:00,  3.68it/s]\n"
     ]
    },
    {
     "name": "stdout",
     "output_type": "stream",
     "text": [
      "\n",
      "Epoch 10 score = 54.46428656578064\n",
      "\n",
      "Epoch 11\n",
      "Train\n"
     ]
    },
    {
     "name": "stderr",
     "output_type": "stream",
     "text": [
      "100%|██████████| 57/57 [00:32<00:00,  1.75it/s]\n"
     ]
    },
    {
     "name": "stdout",
     "output_type": "stream",
     "text": [
      "Eval\n"
     ]
    },
    {
     "name": "stderr",
     "output_type": "stream",
     "text": [
      "100%|██████████| 11/11 [00:01<00:00,  6.28it/s]\n"
     ]
    },
    {
     "name": "stdout",
     "output_type": "stream",
     "text": [
      "\n",
      "Epoch 11 score = 56.9940447807312\n",
      "\n",
      "Epoch 12\n",
      "Train\n"
     ]
    },
    {
     "name": "stderr",
     "output_type": "stream",
     "text": [
      "100%|██████████| 57/57 [00:28<00:00,  2.03it/s]\n"
     ]
    },
    {
     "name": "stdout",
     "output_type": "stream",
     "text": [
      "Eval\n"
     ]
    },
    {
     "name": "stderr",
     "output_type": "stream",
     "text": [
      "100%|██████████| 11/11 [00:01<00:00,  6.20it/s]\n"
     ]
    },
    {
     "name": "stdout",
     "output_type": "stream",
     "text": [
      "\n",
      "Epoch 12 score = 57.14285969734192\n",
      "\n",
      "Epoch 13\n",
      "Train\n"
     ]
    },
    {
     "name": "stderr",
     "output_type": "stream",
     "text": [
      "100%|██████████| 57/57 [00:27<00:00,  2.04it/s]\n"
     ]
    },
    {
     "name": "stdout",
     "output_type": "stream",
     "text": [
      "Eval\n"
     ]
    },
    {
     "name": "stderr",
     "output_type": "stream",
     "text": [
      "100%|██████████| 11/11 [00:01<00:00,  6.28it/s]\n"
     ]
    },
    {
     "name": "stdout",
     "output_type": "stream",
     "text": [
      "\n",
      "Epoch 13 score = 57.14285969734192\n",
      "\n",
      "Epoch 14\n",
      "Train\n"
     ]
    },
    {
     "name": "stderr",
     "output_type": "stream",
     "text": [
      "100%|██████████| 57/57 [00:26<00:00,  2.14it/s]\n"
     ]
    },
    {
     "name": "stdout",
     "output_type": "stream",
     "text": [
      "Eval\n"
     ]
    },
    {
     "name": "stderr",
     "output_type": "stream",
     "text": [
      "100%|██████████| 11/11 [00:01<00:00,  6.40it/s]\n"
     ]
    },
    {
     "name": "stdout",
     "output_type": "stream",
     "text": [
      "\n",
      "Epoch 14 score = 52.67857313156128\n",
      "\n",
      "Epoch 15\n",
      "Train\n"
     ]
    },
    {
     "name": "stderr",
     "output_type": "stream",
     "text": [
      "100%|██████████| 57/57 [00:26<00:00,  2.18it/s]\n"
     ]
    },
    {
     "name": "stdout",
     "output_type": "stream",
     "text": [
      "Eval\n"
     ]
    },
    {
     "name": "stderr",
     "output_type": "stream",
     "text": [
      "100%|██████████| 11/11 [00:01<00:00,  6.25it/s]\n"
     ]
    },
    {
     "name": "stdout",
     "output_type": "stream",
     "text": [
      "\n",
      "Epoch 15 score = 57.14285969734192\n",
      "\n",
      "Epoch 16\n",
      "Train\n"
     ]
    },
    {
     "name": "stderr",
     "output_type": "stream",
     "text": [
      "100%|██████████| 57/57 [00:25<00:00,  2.22it/s]\n"
     ]
    },
    {
     "name": "stdout",
     "output_type": "stream",
     "text": [
      "Eval\n"
     ]
    },
    {
     "name": "stderr",
     "output_type": "stream",
     "text": [
      "100%|██████████| 11/11 [00:01<00:00,  6.27it/s]\n"
     ]
    },
    {
     "name": "stdout",
     "output_type": "stream",
     "text": [
      "\n",
      "Epoch 16 score = 51.63690447807312\n",
      "\n",
      "Epoch 17\n",
      "Train\n"
     ]
    },
    {
     "name": "stderr",
     "output_type": "stream",
     "text": [
      "100%|██████████| 57/57 [00:25<00:00,  2.26it/s]\n"
     ]
    },
    {
     "name": "stdout",
     "output_type": "stream",
     "text": [
      "Eval\n"
     ]
    },
    {
     "name": "stderr",
     "output_type": "stream",
     "text": [
      "100%|██████████| 11/11 [00:01<00:00,  6.22it/s]\n"
     ]
    },
    {
     "name": "stdout",
     "output_type": "stream",
     "text": [
      "\n",
      "Epoch 17 score = 50.44642686843872\n",
      "\n",
      "Epoch 18\n",
      "Train\n"
     ]
    },
    {
     "name": "stderr",
     "output_type": "stream",
     "text": [
      "100%|██████████| 57/57 [00:25<00:00,  2.27it/s]\n"
     ]
    },
    {
     "name": "stdout",
     "output_type": "stream",
     "text": [
      "Eval\n"
     ]
    },
    {
     "name": "stderr",
     "output_type": "stream",
     "text": [
      "100%|██████████| 11/11 [00:01<00:00,  6.30it/s]\n",
      "\u001b[32m2024-11-20 20:22:05.821\u001b[0m | \u001b[1mINFO    \u001b[0m | \u001b[36mcommon.utils\u001b[0m:\u001b[36m__call__\u001b[0m:\u001b[36m183\u001b[0m - \u001b[1m[ModelCheckpoint] Saving model to: c:\\Users\\doxda\\OneDrive\\Documentos\\Repos\\masters-degree-data-shift\\models with acc 58.7798\u001b[0m\n"
     ]
    },
    {
     "name": "stdout",
     "output_type": "stream",
     "text": [
      "\n",
      "Epoch 18 score = 58.77976417541504\n",
      "\n",
      "Epoch 19\n",
      "Train\n"
     ]
    },
    {
     "name": "stderr",
     "output_type": "stream",
     "text": [
      "100%|██████████| 57/57 [00:24<00:00,  2.29it/s]\n"
     ]
    },
    {
     "name": "stdout",
     "output_type": "stream",
     "text": [
      "Eval\n"
     ]
    },
    {
     "name": "stderr",
     "output_type": "stream",
     "text": [
      "100%|██████████| 11/11 [00:01<00:00,  6.43it/s]\n"
     ]
    },
    {
     "name": "stdout",
     "output_type": "stream",
     "text": [
      "\n",
      "Epoch 19 score = 53.42261791229248\n",
      "\n",
      "Epoch 20\n",
      "Train\n"
     ]
    },
    {
     "name": "stderr",
     "output_type": "stream",
     "text": [
      "100%|██████████| 57/57 [00:24<00:00,  2.34it/s]\n"
     ]
    },
    {
     "name": "stdout",
     "output_type": "stream",
     "text": [
      "Eval\n"
     ]
    },
    {
     "name": "stderr",
     "output_type": "stream",
     "text": [
      "100%|██████████| 11/11 [00:01<00:00,  5.93it/s]\n"
     ]
    },
    {
     "name": "stdout",
     "output_type": "stream",
     "text": [
      "\n",
      "Epoch 20 score = 56.54761791229248\n",
      "\n",
      "Epoch 21\n",
      "Train\n"
     ]
    },
    {
     "name": "stderr",
     "output_type": "stream",
     "text": [
      "100%|██████████| 57/57 [00:24<00:00,  2.36it/s]\n"
     ]
    },
    {
     "name": "stdout",
     "output_type": "stream",
     "text": [
      "Eval\n"
     ]
    },
    {
     "name": "stderr",
     "output_type": "stream",
     "text": [
      "100%|██████████| 11/11 [00:01<00:00,  5.87it/s]\n"
     ]
    },
    {
     "name": "stdout",
     "output_type": "stream",
     "text": [
      "\n",
      "Epoch 21 score = 57.88690447807312\n",
      "\n",
      "Epoch 22\n",
      "Train\n"
     ]
    },
    {
     "name": "stderr",
     "output_type": "stream",
     "text": [
      "100%|██████████| 57/57 [00:24<00:00,  2.35it/s]\n"
     ]
    },
    {
     "name": "stdout",
     "output_type": "stream",
     "text": [
      "Eval\n"
     ]
    },
    {
     "name": "stderr",
     "output_type": "stream",
     "text": [
      "100%|██████████| 11/11 [00:01<00:00,  6.30it/s]\n"
     ]
    },
    {
     "name": "stdout",
     "output_type": "stream",
     "text": [
      "\n",
      "Epoch 22 score = 57.14285969734192\n",
      "\n",
      "Epoch 23\n",
      "Train\n"
     ]
    },
    {
     "name": "stderr",
     "output_type": "stream",
     "text": [
      "100%|██████████| 57/57 [00:24<00:00,  2.35it/s]\n"
     ]
    },
    {
     "name": "stdout",
     "output_type": "stream",
     "text": [
      "Eval\n"
     ]
    },
    {
     "name": "stderr",
     "output_type": "stream",
     "text": [
      "100%|██████████| 11/11 [00:01<00:00,  6.42it/s]\n"
     ]
    },
    {
     "name": "stdout",
     "output_type": "stream",
     "text": [
      "\n",
      "Epoch 23 score = 57.14285969734192\n",
      "\n",
      "Epoch 24\n",
      "Train\n"
     ]
    },
    {
     "name": "stderr",
     "output_type": "stream",
     "text": [
      "100%|██████████| 57/57 [00:24<00:00,  2.34it/s]\n"
     ]
    },
    {
     "name": "stdout",
     "output_type": "stream",
     "text": [
      "Eval\n"
     ]
    },
    {
     "name": "stderr",
     "output_type": "stream",
     "text": [
      "100%|██████████| 11/11 [00:01<00:00,  5.88it/s]"
     ]
    },
    {
     "name": "stdout",
     "output_type": "stream",
     "text": [
      "\n",
      "Epoch 24 score = 57.14285969734192\n",
      "\n"
     ]
    },
    {
     "name": "stderr",
     "output_type": "stream",
     "text": [
      "\n"
     ]
    }
   ],
   "source": [
    "device = torch.device(\"cuda\")\n",
    "\n",
    "kernel_scales = get_kernel_scales(low=-3, high=3, num_kernels=10)\n",
    "loss_fn = MMDLoss(kernel_scales=kernel_scales)\n",
    "\n",
    "for alg_class in [\"source-only\", \"atdoc\", \"bnm\", \"dann\", \"mcc\", \"mcd\", \"mmd\"]:\n",
    "    # Create datasets and dataloaders\n",
    "    if alg_class == \"source-only\":\n",
    "        train_names, val_names = [\"src_train\"], [\n",
    "            \"train\",\n",
    "            \"src_val\",\n",
    "            \"target_train\",\n",
    "            \"target_train_with_labels\",\n",
    "            \"target_val\",\n",
    "            \"target_val_with_labels\",\n",
    "            \"target_test\",\n",
    "            \"target_test_with_labels\",\n",
    "        ]\n",
    "    else:\n",
    "        train_names, val_names = [\"train\"], [\n",
    "            \"src_train\",\n",
    "            \"src_val\",\n",
    "            \"target_train\",\n",
    "            \"target_train_with_labels\",\n",
    "            \"target_val\",\n",
    "            \"target_val_with_labels\",\n",
    "            \"target_test\",\n",
    "            \"target_test_with_labels\",\n",
    "        ]\n",
    "\n",
    "    dataloaders = dc(**dataset)\n",
    "\n",
    "    model = resnet18(weights=ResNet18_Weights.DEFAULT)\n",
    "    model.fc = nn.Identity()\n",
    "\n",
    "    G = model.to(device)\n",
    "    C = Classifier(2, 512, 256)\n",
    "    if alg_class == \"mcd\":\n",
    "        C = MultipleModels(C, c_f.reinit(copy.deepcopy(C))).to(device)\n",
    "    else:\n",
    "        C = C.to(device)\n",
    "    D = Discriminator(in_size=512).to(device)\n",
    "    models = Models({\"G\": G, \"C\": C, \"D\": D})\n",
    "    optimizers = Optimizers(\n",
    "        (torch.optim.Adam, {\"lr\": 0.001}), multipliers={\"G\": 1.0, \"C\": 1.0, \"D\": 1.0}\n",
    "    )\n",
    "    optimizers.create_with(models)\n",
    "    optimizers = list(optimizers.values())\n",
    "\n",
    "    HOOKS = {\n",
    "        \"source-only\": FinetunerHook(opts=[optimizers[1]]),\n",
    "        \"atdoc\": ClassifierHook(\n",
    "            opts=[optimizers[0], optimizers[1]],\n",
    "            post=[\n",
    "                ATDOCHook(\n",
    "                    dataset_size=target_dataset_size, feature_dim=512, num_classes=2\n",
    "                )\n",
    "            ],\n",
    "        ),\n",
    "        \"bnm\": ClassifierHook(opts=[optimizers[0], optimizers[1]], post=[BNMHook()]),\n",
    "        \"dann\": DANNHook(opts=optimizers[:3]),\n",
    "        \"mcc\": ClassifierHook(\n",
    "            opts=[optimizers[0], optimizers[1]],\n",
    "            post=[MCCHook(loss_fn=MCCLoss())],\n",
    "        ),\n",
    "        \"mcd\": MCDHook(g_opts=[optimizers[0]], c_opts=[optimizers[1]]),\n",
    "        \"mmd\": AlignerPlusCHook(\n",
    "            opts=[optimizers[0], optimizers[1]], loss_fn=loss_fn, softmax=True\n",
    "        ),\n",
    "    }\n",
    "\n",
    "    alg_name = alg_class\n",
    "    validator_name = \"accVal\"\n",
    "    hook = HOOKS[alg_name]\n",
    "\n",
    "    validator = AccuracyValidator()\n",
    "\n",
    "    model_checkpoint = ModelCheckpointBestAcc(\n",
    "        name=f\"{alg_name}.pt\",\n",
    "        path_save=os.path.join(\"models\"),\n",
    "    )\n",
    "\n",
    "    for epoch in range(25):\n",
    "\n",
    "        # train loop\n",
    "        print(f\"Epoch {epoch}\")\n",
    "        print(\"Train\")\n",
    "        models.train()\n",
    "        for data in tqdm(dataloaders[\"train\"]):\n",
    "            data = batch_to_device(data, device)\n",
    "            _, loss = hook({**models, **data})\n",
    "\n",
    "        # eval loop\n",
    "        print(\"Eval\")\n",
    "        models.eval()\n",
    "        labels, logits, preds = [], [], []\n",
    "        with torch.no_grad():\n",
    "            for data in tqdm(dataloaders[\"target_val_with_labels\"]):\n",
    "                data = batch_to_device(data, device)\n",
    "                logit = C(G(data[\"target_imgs\"]))\n",
    "                if isinstance(logit, list):\n",
    "                    logit = logit[0]\n",
    "                pred = F.softmax(logit, dim=-1)\n",
    "                logits.append(logit)\n",
    "                preds.append(pred)\n",
    "                if f\"target_labels\" in data:\n",
    "                    label = data[f\"target_labels\"]\n",
    "                    labels.append(label)\n",
    "\n",
    "        logits = torch.cat(logits, dim=0)\n",
    "        preds = torch.cat(preds, dim=0)\n",
    "        if labels:\n",
    "            labels = torch.cat(labels, dim=0)\n",
    "        # validation score\n",
    "        score = validator(src_val={\"logits\": logits, \"preds\": preds, \"labels\": labels})\n",
    "        model_checkpoint(models, score)\n",
    "        print(f\"\\nEpoch {epoch} score = {score*100}\\n\")"
   ]
  },
  {
   "cell_type": "code",
   "execution_count": 25,
   "metadata": {},
   "outputs": [
    {
     "name": "stdout",
     "output_type": "stream",
     "text": [
      "Eval\n"
     ]
    },
    {
     "ename": "KeyError",
     "evalue": "'source_val_with_labels'",
     "output_type": "error",
     "traceback": [
      "\u001b[1;31m---------------------------------------------------------------------------\u001b[0m",
      "\u001b[1;31mKeyError\u001b[0m                                  Traceback (most recent call last)",
      "Cell \u001b[1;32mIn[25], line 20\u001b[0m\n\u001b[0;32m     18\u001b[0m labels, logits, preds \u001b[38;5;241m=\u001b[39m [], [], []\n\u001b[0;32m     19\u001b[0m \u001b[38;5;28;01mwith\u001b[39;00m torch\u001b[38;5;241m.\u001b[39mno_grad():\n\u001b[1;32m---> 20\u001b[0m     \u001b[38;5;28;01mfor\u001b[39;00m data \u001b[38;5;129;01min\u001b[39;00m tqdm(\u001b[43mdataloaders\u001b[49m\u001b[43m[\u001b[49m\u001b[38;5;124;43m\"\u001b[39;49m\u001b[38;5;124;43msource_val_with_labels\u001b[39;49m\u001b[38;5;124;43m\"\u001b[39;49m\u001b[43m]\u001b[49m):\n\u001b[0;32m     21\u001b[0m         data \u001b[38;5;241m=\u001b[39m batch_to_device(data, device)\n\u001b[0;32m     22\u001b[0m         logit \u001b[38;5;241m=\u001b[39m C(G(data[\u001b[38;5;124m\"\u001b[39m\u001b[38;5;124mtarget_imgs\u001b[39m\u001b[38;5;124m\"\u001b[39m]))\n",
      "\u001b[1;31mKeyError\u001b[0m: 'source_val_with_labels'"
     ]
    }
   ],
   "source": [
    "validator = AccuracyValidator()\n",
    "device = torch.device(\"cuda\")\n",
    "for alg_class in [\"source-only\"]:\n",
    "    model = resnet18(weights=ResNet18_Weights.DEFAULT)\n",
    "    model.fc = nn.Identity()\n",
    "    G = model.to(device)\n",
    "    C = Classifier(2, 512, 256)\n",
    "    if alg_class == \"mcd\":\n",
    "        C = MultipleModels(C, c_f.reinit(copy.deepcopy(C))).to(device)\n",
    "    else:\n",
    "        C = C.to(device)\n",
    "    D = Discriminator(in_size=512).to(device)\n",
    "    models = Models({\"G\": G, \"C\": C, \"D\": D})\n",
    "    models.load_state_dict(\n",
    "        torch.load(\n",
    "            f=rf\"C:\\Users\\doxda\\OneDrive\\Documentos\\Repos\\masters-degree-data-shift\\models\\{alg_class}.pt\"\n",
    "        )\n",
    "    )\n",
    "    # eval loop\n",
    "    print(\"Eval\")\n",
    "    models.eval()\n",
    "    labels, logits, preds = [], [], []\n",
    "    with torch.no_grad():\n",
    "        for data in tqdm(dataloaders[\"source_val_with_labels\"]):\n",
    "            data = batch_to_device(data, device)\n",
    "            logit = C(G(data[\"target_imgs\"]))\n",
    "            if isinstance(logit, list):\n",
    "                logit = logit[0]\n",
    "            pred = F.softmax(logit, dim=-1)\n",
    "            logits.append(logit)\n",
    "            preds.append(pred)\n",
    "            if f\"target_labels\" in data:\n",
    "                label = data[f\"target_labels\"]\n",
    "                labels.append(label)\n",
    "    logits = torch.cat(logits, dim=0)\n",
    "    preds = torch.cat(preds, dim=0)\n",
    "    if labels:\n",
    "        labels = torch.cat(labels, dim=0)\n",
    "    # validation score\n",
    "    score = validator(src_val={\"logits\": logits, \"preds\": preds, \"labels\": labels})\n",
    "    print(f\"\\nAlg {alg_class} - score = {score*100}\\n\")"
   ]
  }
 ],
 "metadata": {
  "kernelspec": {
   "display_name": ".venv",
   "language": "python",
   "name": "python3"
  },
  "language_info": {
   "codemirror_mode": {
    "name": "ipython",
    "version": 3
   },
   "file_extension": ".py",
   "mimetype": "text/x-python",
   "name": "python",
   "nbconvert_exporter": "python",
   "pygments_lexer": "ipython3",
   "version": "3.11.5"
  }
 },
 "nbformat": 4,
 "nbformat_minor": 2
}
