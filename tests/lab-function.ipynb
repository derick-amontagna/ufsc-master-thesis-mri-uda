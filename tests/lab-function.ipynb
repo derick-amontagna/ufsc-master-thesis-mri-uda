{
 "cells": [
  {
   "cell_type": "code",
   "execution_count": 1,
   "metadata": {},
   "outputs": [],
   "source": [
    "from common.data_setup import create_dataloaders_mri_2d"
   ]
  },
  {
   "cell_type": "code",
   "execution_count": 3,
   "metadata": {},
   "outputs": [],
   "source": [
    "import pandas as pd\n",
    "\n",
    "df = pd.read_csv(\n",
    "    \"results/test_test_fe_resnet50_s_ADNI1-GE_t_ADNI1-Philips_alg_source-only.csv\",\n",
    "    sep=\";\",\n",
    ")"
   ]
  },
  {
   "cell_type": "code",
   "execution_count": 4,
   "metadata": {},
   "outputs": [
    {
     "name": "stdout",
     "output_type": "stream",
     "text": [
      "Probabilities:\n",
      " tensor([[0.0391, 0.7856, 0.1753],\n",
      "        [0.8360, 0.1131, 0.0508]])\n",
      "Predicted Class:\n",
      " tensor([1, 0])\n"
     ]
    }
   ],
   "source": [
    "import torch\n",
    "import torch.nn.functional as F\n",
    "\n",
    "# Exemplo: Modelo de classificação com 3 classes\n",
    "logits = torch.tensor(\n",
    "    [[-1.0, 2.0, 0.5], [3.0, 1.0, 0.2]]\n",
    ")  # Logits de 2 amostras, 3 classes cada\n",
    "\n",
    "# Aplica softmax para obter probabilidades\n",
    "probabilities = F.softmax(logits, dim=-1)\n",
    "\n",
    "print(\"Probabilities:\\n\", probabilities)\n",
    "print(\n",
    "    \"Predicted Class:\\n\", probabilities.argmax(dim=-1)\n",
    ")  # Classe com maior probabilidade"
   ]
  },
  {
   "cell_type": "code",
   "execution_count": 6,
   "metadata": {},
   "outputs": [
    {
     "ename": "IndexError",
     "evalue": "Dimension out of range (expected to be in range of [-1, 0], but got 1)",
     "output_type": "error",
     "traceback": [
      "\u001b[1;31m---------------------------------------------------------------------------\u001b[0m",
      "\u001b[1;31mIndexError\u001b[0m                                Traceback (most recent call last)",
      "Cell \u001b[1;32mIn[6], line 10\u001b[0m\n\u001b[0;32m      8\u001b[0m threshold \u001b[38;5;241m=\u001b[39m \u001b[38;5;241m0.5\u001b[39m\n\u001b[0;32m      9\u001b[0m predictions \u001b[38;5;241m=\u001b[39m (probabilities \u001b[38;5;241m>\u001b[39m threshold)\u001b[38;5;241m.\u001b[39mint()\n\u001b[1;32m---> 10\u001b[0m predictions2 \u001b[38;5;241m=\u001b[39m \u001b[43mtorch\u001b[49m\u001b[38;5;241;43m.\u001b[39;49m\u001b[43margmax\u001b[49m\u001b[43m(\u001b[49m\u001b[43mtorch\u001b[49m\u001b[38;5;241;43m.\u001b[39;49m\u001b[43msigmoid\u001b[49m\u001b[43m(\u001b[49m\u001b[43mprobabilities\u001b[49m\u001b[43m)\u001b[49m\u001b[43m,\u001b[49m\u001b[43m \u001b[49m\u001b[43mdim\u001b[49m\u001b[38;5;241;43m=\u001b[39;49m\u001b[38;5;241;43m1\u001b[39;49m\u001b[43m)\u001b[49m\n\u001b[0;32m     11\u001b[0m \u001b[38;5;28mprint\u001b[39m(\u001b[38;5;124m\"\u001b[39m\u001b[38;5;124mLogits:\u001b[39m\u001b[38;5;124m\"\u001b[39m, logits)\n\u001b[0;32m     12\u001b[0m \u001b[38;5;28mprint\u001b[39m(\u001b[38;5;124m\"\u001b[39m\u001b[38;5;124mSigmoid Probabilities:\u001b[39m\u001b[38;5;124m\"\u001b[39m, probabilities)\n",
      "\u001b[1;31mIndexError\u001b[0m: Dimension out of range (expected to be in range of [-1, 0], but got 1)"
     ]
    }
   ],
   "source": [
    "# Logits para classificação binária\n",
    "logits = torch.tensor([0.8, -1.5, 2.4])  # Logits para 3 amostras\n",
    "\n",
    "# Aplica sigmoid\n",
    "probabilities = torch.sigmoid(logits)\n",
    "\n",
    "# Predições binárias usando threshold\n",
    "threshold = 0.5\n",
    "predictions = (probabilities > threshold).int()\n",
    "predictions2 = torch.argmax(torch.sigmoid(probabilities), dim=1)\n",
    "print(\"Logits:\", logits)\n",
    "print(\"Sigmoid Probabilities:\", probabilities)\n",
    "print(\"Binary Predictions:\", predictions)\n",
    "print(\"Binary Predictions:\", predictions2)"
   ]
  },
  {
   "cell_type": "code",
   "execution_count": 6,
   "metadata": {},
   "outputs": [
    {
     "data": {
      "text/html": [
       "<div>\n",
       "<style scoped>\n",
       "    .dataframe tbody tr th:only-of-type {\n",
       "        vertical-align: middle;\n",
       "    }\n",
       "\n",
       "    .dataframe tbody tr th {\n",
       "        vertical-align: top;\n",
       "    }\n",
       "\n",
       "    .dataframe thead th {\n",
       "        text-align: right;\n",
       "    }\n",
       "</style>\n",
       "<table border=\"1\" class=\"dataframe\">\n",
       "  <thead>\n",
       "    <tr style=\"text-align: right;\">\n",
       "      <th></th>\n",
       "      <th>Exp_Number</th>\n",
       "      <th>Source_Data</th>\n",
       "      <th>Target_Data</th>\n",
       "      <th>Algorithm</th>\n",
       "      <th>LR</th>\n",
       "      <th>Best_Epoch</th>\n",
       "      <th>Best_Val_Source</th>\n",
       "      <th>Test_Source_Acc</th>\n",
       "      <th>Test_Target_Acc</th>\n",
       "      <th>Time_Train</th>\n",
       "    </tr>\n",
       "  </thead>\n",
       "  <tbody>\n",
       "    <tr>\n",
       "      <th>0</th>\n",
       "      <td>uaxj6dvw__lr_0.005940461469115897</td>\n",
       "      <td>ADNI1-GE</td>\n",
       "      <td>ADNI1-Philips</td>\n",
       "      <td>source-only</td>\n",
       "      <td>0.005940</td>\n",
       "      <td>34</td>\n",
       "      <td>0.776401</td>\n",
       "      <td>0.766085</td>\n",
       "      <td>0.733073</td>\n",
       "      <td>67m 20s</td>\n",
       "    </tr>\n",
       "    <tr>\n",
       "      <th>1</th>\n",
       "      <td>7qp1jttn__lr_0.0019324041271659325</td>\n",
       "      <td>ADNI1-GE</td>\n",
       "      <td>ADNI1-Philips</td>\n",
       "      <td>source-only</td>\n",
       "      <td>0.001932</td>\n",
       "      <td>32</td>\n",
       "      <td>0.793103</td>\n",
       "      <td>0.803309</td>\n",
       "      <td>0.700521</td>\n",
       "      <td>65m 46s</td>\n",
       "    </tr>\n",
       "    <tr>\n",
       "      <th>2</th>\n",
       "      <td>act5cgp1__lr_0.0019372619983492303</td>\n",
       "      <td>ADNI1-GE</td>\n",
       "      <td>ADNI1-Philips</td>\n",
       "      <td>source-only</td>\n",
       "      <td>0.001937</td>\n",
       "      <td>11</td>\n",
       "      <td>0.796875</td>\n",
       "      <td>0.786765</td>\n",
       "      <td>0.721354</td>\n",
       "      <td>64m 5s</td>\n",
       "    </tr>\n",
       "    <tr>\n",
       "      <th>3</th>\n",
       "      <td>lpmerdbj__lr_0.00962295262364874</td>\n",
       "      <td>ADNI1-GE</td>\n",
       "      <td>ADNI1-Philips</td>\n",
       "      <td>source-only</td>\n",
       "      <td>0.009623</td>\n",
       "      <td>35</td>\n",
       "      <td>0.764009</td>\n",
       "      <td>0.760570</td>\n",
       "      <td>0.742188</td>\n",
       "      <td>73m 9s</td>\n",
       "    </tr>\n",
       "    <tr>\n",
       "      <th>4</th>\n",
       "      <td>g6j17bh7__lr_0.007236386909923879</td>\n",
       "      <td>ADNI1-GE</td>\n",
       "      <td>ADNI1-Philips</td>\n",
       "      <td>source-only</td>\n",
       "      <td>0.007236</td>\n",
       "      <td>31</td>\n",
       "      <td>0.771013</td>\n",
       "      <td>0.750460</td>\n",
       "      <td>0.734375</td>\n",
       "      <td>64m 29s</td>\n",
       "    </tr>\n",
       "    <tr>\n",
       "      <th>5</th>\n",
       "      <td>5nyu46ip__lr_0.004971261226661363</td>\n",
       "      <td>ADNI1-GE</td>\n",
       "      <td>ADNI1-Philips</td>\n",
       "      <td>source-only</td>\n",
       "      <td>0.004971</td>\n",
       "      <td>43</td>\n",
       "      <td>0.786099</td>\n",
       "      <td>0.767004</td>\n",
       "      <td>0.744792</td>\n",
       "      <td>63m 48s</td>\n",
       "    </tr>\n",
       "    <tr>\n",
       "      <th>6</th>\n",
       "      <td>t17i0tk2__lr_0.008338805282524741</td>\n",
       "      <td>ADNI1-GE</td>\n",
       "      <td>ADNI1-Philips</td>\n",
       "      <td>source-only</td>\n",
       "      <td>0.008339</td>\n",
       "      <td>34</td>\n",
       "      <td>0.768319</td>\n",
       "      <td>0.756893</td>\n",
       "      <td>0.739583</td>\n",
       "      <td>63m 48s</td>\n",
       "    </tr>\n",
       "    <tr>\n",
       "      <th>7</th>\n",
       "      <td>dv7nu61o__lr_0.004663171300167574</td>\n",
       "      <td>ADNI1-GE</td>\n",
       "      <td>ADNI1-Philips</td>\n",
       "      <td>source-only</td>\n",
       "      <td>0.004663</td>\n",
       "      <td>22</td>\n",
       "      <td>0.780172</td>\n",
       "      <td>0.764706</td>\n",
       "      <td>0.712240</td>\n",
       "      <td>63m 50s</td>\n",
       "    </tr>\n",
       "    <tr>\n",
       "      <th>8</th>\n",
       "      <td>ew7o0hhx__lr_0.008548198667426812</td>\n",
       "      <td>ADNI1-GE</td>\n",
       "      <td>ADNI1-Philips</td>\n",
       "      <td>source-only</td>\n",
       "      <td>0.008548</td>\n",
       "      <td>14</td>\n",
       "      <td>0.759160</td>\n",
       "      <td>0.760570</td>\n",
       "      <td>0.742188</td>\n",
       "      <td>63m 49s</td>\n",
       "    </tr>\n",
       "    <tr>\n",
       "      <th>9</th>\n",
       "      <td>mnxkug6c__lr_0.0006245486981609114</td>\n",
       "      <td>ADNI1-GE</td>\n",
       "      <td>ADNI1-Philips</td>\n",
       "      <td>source-only</td>\n",
       "      <td>0.000625</td>\n",
       "      <td>46</td>\n",
       "      <td>0.789871</td>\n",
       "      <td>0.822151</td>\n",
       "      <td>0.700521</td>\n",
       "      <td>63m 47s</td>\n",
       "    </tr>\n",
       "  </tbody>\n",
       "</table>\n",
       "</div>"
      ],
      "text/plain": [
       "                           Exp_Number Source_Data    Target_Data    Algorithm  \\\n",
       "0   uaxj6dvw__lr_0.005940461469115897    ADNI1-GE  ADNI1-Philips  source-only   \n",
       "1  7qp1jttn__lr_0.0019324041271659325    ADNI1-GE  ADNI1-Philips  source-only   \n",
       "2  act5cgp1__lr_0.0019372619983492303    ADNI1-GE  ADNI1-Philips  source-only   \n",
       "3    lpmerdbj__lr_0.00962295262364874    ADNI1-GE  ADNI1-Philips  source-only   \n",
       "4   g6j17bh7__lr_0.007236386909923879    ADNI1-GE  ADNI1-Philips  source-only   \n",
       "5   5nyu46ip__lr_0.004971261226661363    ADNI1-GE  ADNI1-Philips  source-only   \n",
       "6   t17i0tk2__lr_0.008338805282524741    ADNI1-GE  ADNI1-Philips  source-only   \n",
       "7   dv7nu61o__lr_0.004663171300167574    ADNI1-GE  ADNI1-Philips  source-only   \n",
       "8   ew7o0hhx__lr_0.008548198667426812    ADNI1-GE  ADNI1-Philips  source-only   \n",
       "9  mnxkug6c__lr_0.0006245486981609114    ADNI1-GE  ADNI1-Philips  source-only   \n",
       "\n",
       "         LR  Best_Epoch  Best_Val_Source  Test_Source_Acc  Test_Target_Acc  \\\n",
       "0  0.005940          34         0.776401         0.766085         0.733073   \n",
       "1  0.001932          32         0.793103         0.803309         0.700521   \n",
       "2  0.001937          11         0.796875         0.786765         0.721354   \n",
       "3  0.009623          35         0.764009         0.760570         0.742188   \n",
       "4  0.007236          31         0.771013         0.750460         0.734375   \n",
       "5  0.004971          43         0.786099         0.767004         0.744792   \n",
       "6  0.008339          34         0.768319         0.756893         0.739583   \n",
       "7  0.004663          22         0.780172         0.764706         0.712240   \n",
       "8  0.008548          14         0.759160         0.760570         0.742188   \n",
       "9  0.000625          46         0.789871         0.822151         0.700521   \n",
       "\n",
       "  Time_Train  \n",
       "0    67m 20s  \n",
       "1    65m 46s  \n",
       "2     64m 5s  \n",
       "3     73m 9s  \n",
       "4    64m 29s  \n",
       "5    63m 48s  \n",
       "6    63m 48s  \n",
       "7    63m 50s  \n",
       "8    63m 49s  \n",
       "9    63m 47s  "
      ]
     },
     "execution_count": 6,
     "metadata": {},
     "output_type": "execute_result"
    }
   ],
   "source": [
    "df"
   ]
  },
  {
   "cell_type": "code",
   "execution_count": 8,
   "metadata": {},
   "outputs": [
    {
     "data": {
      "text/plain": [
       "'mnxkug6c__lr_0.0006245486981609114'"
      ]
     },
     "execution_count": 8,
     "metadata": {},
     "output_type": "execute_result"
    }
   ],
   "source": [
    "df.iloc[df.Test_Source_Acc.idxmax()].Exp_Number"
   ]
  },
  {
   "cell_type": "code",
   "execution_count": 2,
   "metadata": {},
   "outputs": [
    {
     "name": "stdout",
     "output_type": "stream",
     "text": [
      "Accuracy from Val: 0.7128232717514038\n"
     ]
    }
   ],
   "source": [
    "import shutil\n",
    "\n",
    "import pandas as pd\n",
    "\n",
    "\n",
    "def get_best_model(\n",
    "    algorithm: str,\n",
    "    validator: str,\n",
    "    project_name: str,\n",
    "    model_name: str,\n",
    "    metric_select: str,\n",
    "    max: bool,\n",
    "):\n",
    "    results = pd.read_csv(f\"results/{project_name}.csv\", sep=\";\")\n",
    "    if max:\n",
    "        idx = results[metric_select].idxmax()\n",
    "    else:\n",
    "        idx = results[metric_select].idxmin()\n",
    "    best_model = results.iloc[idx]\n",
    "    exp_number = best_model.Exp_Number\n",
    "    print(f\"{best_model.Validator} from Val: {best_model.Best_Val_Source}\")\n",
    "    shutil.copyfile(\n",
    "        f\"checkpoints/{algorithm}/{validator}/{exp_number}/{model_name}\",\n",
    "        f\"models/{model_name}\",\n",
    "    )\n",
    "\n",
    "\n",
    "get_best_model(\n",
    "    algorithm=\"source-only\",\n",
    "    validator=\"Accuracy\",\n",
    "    project_name=\"test_validator_fe_resnet50_s_ADNI1-GE_t_ADNI1-Philips_alg_source-only_v_Accuracy\",\n",
    "    model_name=\"fe_resnet50_s_ADNI1-GE_t_ADNI1-Philips_alg_source-only_v_Accuracy.pt\",\n",
    "    metric_select=\"Best_Val_Source\",\n",
    "    max=True,\n",
    ")"
   ]
  },
  {
   "cell_type": "code",
   "execution_count": 1,
   "metadata": {},
   "outputs": [
    {
     "name": "stdout",
     "output_type": "stream",
     "text": [
      "src - ADNI1-GE\n",
      "target - ADNI1-Philips\n"
     ]
    }
   ],
   "source": [
    "for domain_side, domain in zip([\"src\", \"target\"], [\"ADNI1-GE\", \"ADNI1-Philips\"]):\n",
    "    print(f\"{domain_side} - {domain}\")"
   ]
  },
  {
   "cell_type": "code",
   "execution_count": 13,
   "metadata": {},
   "outputs": [
    {
     "data": {
      "text/plain": [
       "'models/fe_resnet50_s_ADNI1-GE_t_ADNI1-Philips_alg_source-only.pt'"
      ]
     },
     "execution_count": 13,
     "metadata": {},
     "output_type": "execute_result"
    }
   ],
   "source": [
    "import shutil\n",
    "\n",
    "shutil.copyfile(\n",
    "    f\"checkpoints/source-only/{df.iloc[df.Test_Source_Acc.idxmax()].Exp_Number}/fe_resnet50_s_ADNI1-GE_t_ADNI1-Philips_alg_source-only.pt\",\n",
    "    f\"models/fe_resnet50_s_ADNI1-GE_t_ADNI1-Philips_alg_source-only.pt\",\n",
    ")"
   ]
  },
  {
   "cell_type": "code",
   "execution_count": 7,
   "metadata": {},
   "outputs": [
    {
     "name": "stdout",
     "output_type": "stream",
     "text": [
      "src-ADNI1-GE\n",
      "target-ADNI1-Philips\n"
     ]
    }
   ],
   "source": [
    "for domain_side, domain in zip([\"src\", \"target\"], [\"ADNI1-GE\", \"ADNI1-Philips\"]):\n",
    "    print(f\"{domain_side}-{domain}\")"
   ]
  },
  {
   "cell_type": "code",
   "execution_count": 3,
   "metadata": {},
   "outputs": [
    {
     "name": "stderr",
     "output_type": "stream",
     "text": [
      "\u001b[32m2025-01-08 20:13:53.355\u001b[0m | \u001b[1mINFO    \u001b[0m | \u001b[36mcommon.data_setup\u001b[0m:\u001b[36mcreate_dataloaders_mri_2d\u001b[0m:\u001b[36m72\u001b[0m - \u001b[1m++++++++++++++++++Loading Source and Target Datasets++++++++++++++++++\u001b[0m\n",
      "\u001b[32m2025-01-08 20:13:53.546\u001b[0m | \u001b[1mINFO    \u001b[0m | \u001b[36mcommon.data_setup\u001b[0m:\u001b[36mcreate_dataloaders_mri_2d\u001b[0m:\u001b[36m94\u001b[0m - \u001b[1m++++++++++++++++++Create Source and Target Datasets+++++++++++++++++++\u001b[0m\n",
      "\u001b[32m2025-01-08 20:13:53.547\u001b[0m | \u001b[1mINFO    \u001b[0m | \u001b[36mcommon.data_setup\u001b[0m:\u001b[36mcreate_dataloaders_mri_2d\u001b[0m:\u001b[36m153\u001b[0m - \u001b[1m++++++++++++++++++++++++++Create Dataloader+++++++++++++++++++++++++++\u001b[0m\n",
      "\u001b[32m2025-01-08 20:13:53.547\u001b[0m | \u001b[1mINFO    \u001b[0m | \u001b[36mcommon.data_setup\u001b[0m:\u001b[36mcreate_dataloaders_mri_2d\u001b[0m:\u001b[36m163\u001b[0m - \u001b[1m++++++++++++++++Finishing the Creation of Dataloaders+++++++++++++++++\u001b[0m\n"
     ]
    }
   ],
   "source": [
    "dataloaders, target_dataset_size, train_names = create_dataloaders_mri_2d(\n",
    "    source=\"ADNI1-GE\",\n",
    "    target=\"ADNI1-Philips\",\n",
    "    algorithm=\"source-only\",\n",
    ")"
   ]
  },
  {
   "cell_type": "code",
   "execution_count": 8,
   "metadata": {},
   "outputs": [
    {
     "data": {
      "text/plain": [
       "{'src_train': <torch.utils.data.dataloader.DataLoader at 0x1ec3dd0fdd0>,\n",
       " 'src_val': <torch.utils.data.dataloader.DataLoader at 0x1ec3cd20bd0>,\n",
       " 'src_test': <torch.utils.data.dataloader.DataLoader at 0x1ec3d0896d0>,\n",
       " 'target_train': <torch.utils.data.dataloader.DataLoader at 0x1ec3cf78a90>,\n",
       " 'target_val': <torch.utils.data.dataloader.DataLoader at 0x1ec3cf789d0>,\n",
       " 'target_test': <torch.utils.data.dataloader.DataLoader at 0x1ec3cf78910>,\n",
       " 'target_train_with_labels': <torch.utils.data.dataloader.DataLoader at 0x1ec3cf78690>,\n",
       " 'target_val_with_labels': <torch.utils.data.dataloader.DataLoader at 0x1ec3cf78510>,\n",
       " 'target_test_with_labels': <torch.utils.data.dataloader.DataLoader at 0x1ec3cf78b90>,\n",
       " 'train': <torch.utils.data.dataloader.DataLoader at 0x1ec3cf78c90>}"
      ]
     },
     "execution_count": 8,
     "metadata": {},
     "output_type": "execute_result"
    }
   ],
   "source": [
    "dataloaders"
   ]
  },
  {
   "cell_type": "code",
   "execution_count": 1,
   "metadata": {},
   "outputs": [],
   "source": [
    "from pytorch_adapt.validators import BNMValidator"
   ]
  },
  {
   "cell_type": "code",
   "execution_count": 2,
   "metadata": {},
   "outputs": [],
   "source": [
    "VALIDATORS = {\n",
    "    \"src_train_target_train_coral_score\": lambda kwargs: (\n",
    "        BNMValidator(),\n",
    "        {\"src_train\": \"src_train\", \"target_train\": \"target_train\"},\n",
    "    ),\n",
    "    \"src_train_target_val_coral_score\": lambda kwargs: (\n",
    "        BNMValidator(),\n",
    "        {\"src_train\": \"src_train\", \"target_train\": \"target_val\"},\n",
    "    ),\n",
    "    \"src_val_target_train_coral_score\": lambda kwargs: (\n",
    "        BNMValidator(),\n",
    "        {\"src_train\": \"src_val\", \"target_train\": \"target_train\"},\n",
    "    ),\n",
    "    \"src_val_target_val_coral_score\": lambda kwargs: (\n",
    "        BNMValidator(),\n",
    "        {\"src_train\": \"src_val\", \"target_train\": \"target_val\"},\n",
    "    ),\n",
    "}"
   ]
  },
  {
   "cell_type": "code",
   "execution_count": 3,
   "metadata": {},
   "outputs": [],
   "source": [
    "validators2 = [\n",
    "    \"src_train_target_train_coral_score\",\n",
    "    \"src_train_target_val_coral_score\",\n",
    "    \"src_val_target_train_coral_score\",\n",
    "    \"src_val_target_val_coral_score\",\n",
    "]"
   ]
  },
  {
   "cell_type": "code",
   "execution_count": 2,
   "metadata": {},
   "outputs": [
    {
     "name": "stdout",
     "output_type": "stream",
     "text": [
      "True\n"
     ]
    }
   ],
   "source": [
    "metric_hpo = \"Val_Source\"\n",
    "if \"source\" in metric_hpo.lower():\n",
    "    print(\"True\")\n",
    "else:\n",
    "    print(\"False\")"
   ]
  },
  {
   "cell_type": "code",
   "execution_count": 9,
   "metadata": {},
   "outputs": [],
   "source": [
    "from pytorch_adapt.validators import AccuracyValidator\n",
    "\n",
    "validator = {\"Name\": \"Accuracy\", \"Class\": AccuracyValidator(), \"Params\": [\"src_val\"]}"
   ]
  },
  {
   "cell_type": "code",
   "execution_count": 13,
   "metadata": {},
   "outputs": [
    {
     "data": {
      "text/plain": [
       "[{'src_val': 'src_data_score'}, {'src_val': 'target_data_score'}]"
      ]
     },
     "execution_count": 13,
     "metadata": {},
     "output_type": "execute_result"
    }
   ],
   "source": [
    "scores = []\n",
    "for data_score in [\"src_data_score\", \"target_data_score\"]:\n",
    "    dict_scores = {\n",
    "        key: data_score for key, data_score in zip(validator[\"Params\"], [data_score])\n",
    "    }\n",
    "    scores.append(dict_scores)\n",
    "scores"
   ]
  },
  {
   "cell_type": "code",
   "execution_count": 4,
   "metadata": {},
   "outputs": [],
   "source": [
    "chosen_validators = {key: VALIDATORS[key]({\"num_classes\": 2}) for key in validators2}"
   ]
  },
  {
   "cell_type": "code",
   "execution_count": 5,
   "metadata": {},
   "outputs": [
    {
     "data": {
      "text/plain": [
       "{'src_train_target_train_coral_score': (BNMValidator(required_data=['target_train']),\n",
       "  {'src_train': 'src_train', 'target_train': 'target_train'}),\n",
       " 'src_train_target_val_coral_score': (BNMValidator(required_data=['target_train']),\n",
       "  {'src_train': 'src_train', 'target_train': 'target_val'}),\n",
       " 'src_val_target_train_coral_score': (BNMValidator(required_data=['target_train']),\n",
       "  {'src_train': 'src_val', 'target_train': 'target_train'}),\n",
       " 'src_val_target_val_coral_score': (BNMValidator(required_data=['target_train']),\n",
       "  {'src_train': 'src_val', 'target_train': 'target_val'})}"
      ]
     },
     "execution_count": 5,
     "metadata": {},
     "output_type": "execute_result"
    }
   ],
   "source": [
    "chosen_validators"
   ]
  },
  {
   "cell_type": "code",
   "execution_count": 8,
   "metadata": {},
   "outputs": [
    {
     "name": "stdout",
     "output_type": "stream",
     "text": [
      "Name:src_train_bnm_score - validator=BNMValidator(required_data=['target_train'])/input_keys={'target_train': 'src_train'}\n",
      "Name:src_val_bnm_score - validator=BNMValidator(required_data=['target_train'])/input_keys={'target_train': 'src_val'}\n",
      "Name:target_train_bnm_score - validator=BNMValidator(required_data=['target_train'])/input_keys={'target_train': 'target_train'}\n",
      "Name:target_val_bnm_score - validator=BNMValidator(required_data=['target_train'])/input_keys={'target_train': 'target_val'}\n"
     ]
    }
   ],
   "source": [
    "for name, (validator, input_keys) in chosen_validators.items():\n",
    "    print(f\"Name:{name} - validator={validator}/input_keys={input_keys}\")"
   ]
  },
  {
   "cell_type": "code",
   "execution_count": 9,
   "metadata": {},
   "outputs": [
    {
     "data": {
      "text/plain": [
       "(['src_val', 'src_train', 'target_train', 'target_val'],\n",
       " [['src', 'val'],\n",
       "  ['src', 'train'],\n",
       "  ['target', 'train_with_labels'],\n",
       "  ['target', 'val_with_labels']])"
      ]
     },
     "execution_count": 9,
     "metadata": {},
     "output_type": "execute_result"
    }
   ],
   "source": [
    "splits = list(\n",
    "    set([val for v in chosen_validators for val in chosen_validators[v][1].values()])\n",
    ")\n",
    "split_splits = [key.split(\"_\") for key in splits]\n",
    "splits_with_labels = []\n",
    "for split in split_splits:\n",
    "    s = f\"{split[1]}_with_labels\" if split[0] == \"target\" else split[1]\n",
    "    splits_with_labels.append([split[0], s])\n",
    "splits, splits_with_labels"
   ]
  },
  {
   "cell_type": "code",
   "execution_count": 3,
   "metadata": {},
   "outputs": [
    {
     "data": {
      "text/plain": [
       "[2, 0.75]"
      ]
     },
     "execution_count": 3,
     "metadata": {},
     "output_type": "execute_result"
    }
   ],
   "source": [
    "[[1, 0.5], [2, 0.75]][-1]"
   ]
  },
  {
   "cell_type": "code",
   "execution_count": 10,
   "metadata": {},
   "outputs": [
    {
     "data": {
      "text/plain": [
       "{'src_val': {'labels': [0],\n",
       "  'fl0': [0],\n",
       "  'fl3': [0],\n",
       "  'fl6': [0],\n",
       "  'logits': [0],\n",
       "  'preds': [0]},\n",
       " 'src_train': {'labels': [0],\n",
       "  'fl0': [0],\n",
       "  'fl3': [0],\n",
       "  'fl6': [0],\n",
       "  'logits': [0],\n",
       "  'preds': [0]},\n",
       " 'target_train': {'labels': [0],\n",
       "  'fl0': [0],\n",
       "  'fl3': [0],\n",
       "  'fl6': [0],\n",
       "  'logits': [0],\n",
       "  'preds': [0]},\n",
       " 'target_val': {'labels': [0],\n",
       "  'fl0': [0],\n",
       "  'fl3': [0],\n",
       "  'fl6': [0],\n",
       "  'logits': [0],\n",
       "  'preds': [0]}}"
      ]
     },
     "execution_count": 10,
     "metadata": {},
     "output_type": "execute_result"
    }
   ],
   "source": [
    "data = {\n",
    "    a: {\"labels\": [0], \"fl0\": [0], \"fl3\": [0], \"fl6\": [0], \"logits\": [0], \"preds\": [0]}\n",
    "    for a, b in zip(splits, splits_with_labels)\n",
    "}\n",
    "data"
   ]
  },
  {
   "cell_type": "code",
   "execution_count": 1,
   "metadata": {},
   "outputs": [
    {
     "ename": "TypeError",
     "evalue": "'src_val' is an invalid keyword argument for print()",
     "output_type": "error",
     "traceback": [
      "\u001b[1;31m---------------------------------------------------------------------------\u001b[0m",
      "\u001b[1;31mTypeError\u001b[0m                                 Traceback (most recent call last)",
      "Cell \u001b[1;32mIn[1], line 1\u001b[0m\n\u001b[1;32m----> 1\u001b[0m \u001b[38;5;28;43mprint\u001b[39;49m\u001b[43m(\u001b[49m\u001b[38;5;241;43m*\u001b[39;49m\u001b[38;5;241;43m*\u001b[39;49m\u001b[43m{\u001b[49m\u001b[38;5;124;43m'\u001b[39;49m\u001b[38;5;124;43msrc_val\u001b[39;49m\u001b[38;5;124;43m'\u001b[39;49m\u001b[43m:\u001b[49m\u001b[43m \u001b[49m\u001b[43m{\u001b[49m\u001b[38;5;124;43m'\u001b[39;49m\u001b[38;5;124;43mlabels\u001b[39;49m\u001b[38;5;124;43m'\u001b[39;49m\u001b[43m:\u001b[49m\u001b[43m \u001b[49m\u001b[43m[\u001b[49m\u001b[38;5;241;43m0\u001b[39;49m\u001b[43m]\u001b[49m\u001b[43m,\u001b[49m\n\u001b[0;32m      2\u001b[0m \u001b[43m  \u001b[49m\u001b[38;5;124;43m'\u001b[39;49m\u001b[38;5;124;43mfl0\u001b[39;49m\u001b[38;5;124;43m'\u001b[39;49m\u001b[43m:\u001b[49m\u001b[43m \u001b[49m\u001b[43m[\u001b[49m\u001b[38;5;241;43m0\u001b[39;49m\u001b[43m]\u001b[49m\u001b[43m,\u001b[49m\n\u001b[0;32m      3\u001b[0m \u001b[43m  \u001b[49m\u001b[38;5;124;43m'\u001b[39;49m\u001b[38;5;124;43mfl3\u001b[39;49m\u001b[38;5;124;43m'\u001b[39;49m\u001b[43m:\u001b[49m\u001b[43m \u001b[49m\u001b[43m[\u001b[49m\u001b[38;5;241;43m0\u001b[39;49m\u001b[43m]\u001b[49m\u001b[43m,\u001b[49m\n\u001b[0;32m      4\u001b[0m \u001b[43m  \u001b[49m\u001b[38;5;124;43m'\u001b[39;49m\u001b[38;5;124;43mfl6\u001b[39;49m\u001b[38;5;124;43m'\u001b[39;49m\u001b[43m:\u001b[49m\u001b[43m \u001b[49m\u001b[43m[\u001b[49m\u001b[38;5;241;43m0\u001b[39;49m\u001b[43m]\u001b[49m\u001b[43m,\u001b[49m\n\u001b[0;32m      5\u001b[0m \u001b[43m  \u001b[49m\u001b[38;5;124;43m'\u001b[39;49m\u001b[38;5;124;43mlogits\u001b[39;49m\u001b[38;5;124;43m'\u001b[39;49m\u001b[43m:\u001b[49m\u001b[43m \u001b[49m\u001b[43m[\u001b[49m\u001b[38;5;241;43m0\u001b[39;49m\u001b[43m]\u001b[49m\u001b[43m,\u001b[49m\n\u001b[0;32m      6\u001b[0m \u001b[43m  \u001b[49m\u001b[38;5;124;43m'\u001b[39;49m\u001b[38;5;124;43mpreds\u001b[39;49m\u001b[38;5;124;43m'\u001b[39;49m\u001b[43m:\u001b[49m\u001b[43m \u001b[49m\u001b[43m[\u001b[49m\u001b[38;5;241;43m0\u001b[39;49m\u001b[43m]\u001b[49m\u001b[43m}\u001b[49m\u001b[43m}\u001b[49m\u001b[43m)\u001b[49m\n",
      "\u001b[1;31mTypeError\u001b[0m: 'src_val' is an invalid keyword argument for print()"
     ]
    }
   ],
   "source": [
    "print(\n",
    "    **{\n",
    "        \"src_val\": {\n",
    "            \"labels\": [0],\n",
    "            \"fl0\": [0],\n",
    "            \"fl3\": [0],\n",
    "            \"fl6\": [0],\n",
    "            \"logits\": [0],\n",
    "            \"preds\": [0],\n",
    "        }\n",
    "    }\n",
    ")"
   ]
  },
  {
   "cell_type": "code",
   "execution_count": 11,
   "metadata": {},
   "outputs": [
    {
     "data": {
      "text/plain": [
       "{'target_train': {'labels': [0],\n",
       "  'fl0': [0],\n",
       "  'fl3': [0],\n",
       "  'fl6': [0],\n",
       "  'logits': [0],\n",
       "  'preds': [0]}}"
      ]
     },
     "execution_count": 11,
     "metadata": {},
     "output_type": "execute_result"
    }
   ],
   "source": [
    "{key: data[value] for key, value in input_keys.items()}"
   ]
  },
  {
   "cell_type": "code",
   "execution_count": 12,
   "metadata": {},
   "outputs": [],
   "source": [
    "def necessary_splits():\n",
    "    splits = list(\n",
    "        set(\n",
    "            [val for v in chosen_validators for val in chosen_validators[v][1].values()]\n",
    "        )\n",
    "    )\n",
    "    split_splits = [key.split(\"_\") for key in splits]\n",
    "    splits_with_labels = []\n",
    "    for split in split_splits:\n",
    "        s = f\"{split[1]}_with_labels\" if split[0] == \"target\" else split[1]\n",
    "        splits_with_labels.append([split[0], s])\n",
    "    return splits, splits_with_labels"
   ]
  },
  {
   "cell_type": "code",
   "execution_count": 13,
   "metadata": {},
   "outputs": [
    {
     "data": {
      "text/plain": [
       "(['src_val', 'src_train', 'target_train', 'target_val'],\n",
       " [['src', 'val'],\n",
       "  ['src', 'train'],\n",
       "  ['target', 'train_with_labels'],\n",
       "  ['target', 'val_with_labels']])"
      ]
     },
     "execution_count": 13,
     "metadata": {},
     "output_type": "execute_result"
    }
   ],
   "source": [
    "necessary_splits()"
   ]
  },
  {
   "cell_type": "code",
   "execution_count": 3,
   "metadata": {},
   "outputs": [
    {
     "name": "stderr",
     "output_type": "stream",
     "text": [
      "\u001b[32m2025-01-09 00:18:02.088\u001b[0m | \u001b[1mINFO    \u001b[0m | \u001b[36mcommon.utils\u001b[0m:\u001b[36mcreate_directory\u001b[0m:\u001b[36m273\u001b[0m - \u001b[1mDirectory created successfully! - c:\\Users\\doxda\\OneDrive\\Documentos\\Repos\\masters-degree-data-shift\\models\\source-only\u001b[0m\n"
     ]
    }
   ],
   "source": [
    "import wandb\n",
    "import yaml\n",
    "from common.utils import create_directory\n",
    "\n",
    "args = {\"algorithm\": \"source-only\"}\n",
    "create_directory(type_path=\"models\", args=args)\n",
    "api = wandb.Api()\n",
    "entity = \"doxdank\"\n",
    "project = \"test_fineAll_fe_resnet50_d_ADNI1_s_GE_t_Philips_tl_source-only\"\n",
    "sweep_id = \"nvmtd04j\"\n",
    "sweep = api.sweep(f\"{entity}/{project}/{sweep_id}\")"
   ]
  },
  {
   "cell_type": "code",
   "execution_count": 4,
   "metadata": {},
   "outputs": [
    {
     "name": "stderr",
     "output_type": "stream",
     "text": [
      "\u001b[34m\u001b[1mwandb\u001b[0m: Downloading large artifact model:v1, 217.20MB. 1 files... \n",
      "\u001b[34m\u001b[1mwandb\u001b[0m:   1 of 1 files downloaded.  \n",
      "Done. 0:0:0.3\n"
     ]
    }
   ],
   "source": [
    "runs = sorted(\n",
    "    sweep.runs, key=lambda run: run.summary.get(\"Val Source Acc\", 0), reverse=True\n",
    ")\n",
    "best_run = runs[0]\n",
    "for artifact in best_run.logged_artifacts():\n",
    "    artifact_path = artifact.download(\"models/source-only\")"
   ]
  },
  {
   "cell_type": "code",
   "execution_count": null,
   "metadata": {},
   "outputs": [],
   "source": [
    "import pandas"
   ]
  }
 ],
 "metadata": {
  "kernelspec": {
   "display_name": ".venv",
   "language": "python",
   "name": "python3"
  },
  "language_info": {
   "codemirror_mode": {
    "name": "ipython",
    "version": 3
   },
   "file_extension": ".py",
   "mimetype": "text/x-python",
   "name": "python",
   "nbconvert_exporter": "python",
   "pygments_lexer": "ipython3",
   "version": "3.11.5"
  }
 },
 "nbformat": 4,
 "nbformat_minor": 2
}
