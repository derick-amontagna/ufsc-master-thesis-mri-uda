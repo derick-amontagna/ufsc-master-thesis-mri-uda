{
 "cells": [
  {
   "cell_type": "code",
   "execution_count": 2,
   "metadata": {},
   "outputs": [
    {
     "name": "stdout",
     "output_type": "stream",
     "text": [
      "AntsPy version: 0.4.2\n",
      "SimpleITK version: 2.4.1\n"
     ]
    }
   ],
   "source": [
    "import os\n",
    "import glob\n",
    "import shutil\n",
    "\n",
    "import SimpleITK as sitk\n",
    "import ants\n",
    "\n",
    "print(f\"AntsPy version: {ants.__version__}\")\n",
    "print(f\"SimpleITK version: {sitk.__version__}\")"
   ]
  },
  {
   "cell_type": "code",
   "execution_count": 3,
   "metadata": {},
   "outputs": [],
   "source": [
    "import matplotlib.pyplot as plt\n",
    "\n",
    "from ipywidgets import interact\n",
    "import numpy as np\n",
    "import SimpleITK as sitk\n",
    "import cv2\n",
    "\n",
    "\n",
    "def explore_3D_array(arr: np.ndarray, cmap: str = \"gray\"):\n",
    "    \"\"\"\n",
    "    Given a 3D array with shape (Z,X,Y) This function will create an interactive\n",
    "    widget to check out all the 2D arrays with shape (X,Y) inside the 3D array.\n",
    "    The purpose of this function to visual inspect the 2D arrays in the image.\n",
    "\n",
    "    Args:\n",
    "      arr : 3D array with shape (Z,X,Y) that represents the volume of a MRI image\n",
    "      cmap : Which color map use to plot the slices in matplotlib.pyplot\n",
    "    \"\"\"\n",
    "\n",
    "    def fn(SLICE):\n",
    "        plt.figure(figsize=(7, 7))\n",
    "        plt.imshow(arr[SLICE, :, :], cmap=cmap)\n",
    "        plt.show()\n",
    "\n",
    "    interact(fn, SLICE=(0, arr.shape[0] - 1))"
   ]
  },
  {
   "cell_type": "code",
   "execution_count": 4,
   "metadata": {},
   "outputs": [],
   "source": [
    "BASE_DIR = os.path.dirname(os.path.abspath(\"__file__\"))\n",
    "raw_img_path = os.path.join(\n",
    "    BASE_DIR,\n",
    "    \"data\",\n",
    "    \"ADNI1-T1-AD-CN\",\n",
    "    \"Image\",\n",
    "    \"Preprocess\",\n",
    "    \"4_step_relevant_slices\",\n",
    "    \"I10027.nii.gz\",\n",
    ")\n",
    "template = os.path.join(BASE_DIR, \"data\", \"Template\", \"MNI152_T1_1mm_Brain.nii\")"
   ]
  },
  {
   "cell_type": "markdown",
   "metadata": {},
   "source": [
    "# Basics"
   ]
  },
  {
   "cell_type": "markdown",
   "metadata": {},
   "source": [
    "## AntsPy"
   ]
  },
  {
   "cell_type": "code",
   "execution_count": 5,
   "metadata": {},
   "outputs": [
    {
     "data": {
      "text/plain": [
       "(32, 182, 182)"
      ]
     },
     "execution_count": 5,
     "metadata": {},
     "output_type": "execute_result"
    }
   ],
   "source": [
    "import nibabel as nib\n",
    "\n",
    "image = nib.load(raw_img_path)\n",
    "image_data = image.get_fdata()\n",
    "image_data.shape"
   ]
  },
  {
   "cell_type": "code",
   "execution_count": 11,
   "metadata": {},
   "outputs": [],
   "source": [
    "raw_img_ants = ants.image_read(raw_img_path)"
   ]
  },
  {
   "cell_type": "code",
   "execution_count": 12,
   "metadata": {},
   "outputs": [
    {
     "data": {
      "text/plain": [
       "(32, 182, 182)"
      ]
     },
     "execution_count": 12,
     "metadata": {},
     "output_type": "execute_result"
    }
   ],
   "source": [
    "image_data = raw_img_ants.numpy()\n",
    "image_data.shape"
   ]
  },
  {
   "cell_type": "code",
   "execution_count": 13,
   "metadata": {},
   "outputs": [
    {
     "name": "stdout",
     "output_type": "stream",
     "text": [
      "ANTsImage (RAI)\n",
      "\t Pixel Type : float (float32)\n",
      "\t Components : 1\n",
      "\t Dimensions : (32, 182, 182)\n",
      "\t Spacing    : (1.0, 1.0, 1.0)\n",
      "\t Origin     : (0.0, 0.0, 0.0)\n",
      "\t Direction  : [1. 0. 0. 0. 1. 0. 0. 0. 1.]\n",
      "\n"
     ]
    }
   ],
   "source": [
    "print(raw_img_ants)"
   ]
  },
  {
   "cell_type": "code",
   "execution_count": 14,
   "metadata": {},
   "outputs": [
    {
     "name": "stdout",
     "output_type": "stream",
     "text": [
      "Type: <class 'numpy.ndarray'>\n",
      "Shape: (32, 182, 182)\n"
     ]
    }
   ],
   "source": [
    "raw_img_ants_arr = raw_img_ants.numpy()\n",
    "\n",
    "print(f\"Type: {type(raw_img_ants_arr)}\")\n",
    "print(f\"Shape: {raw_img_ants_arr.shape}\")"
   ]
  },
  {
   "cell_type": "code",
   "execution_count": 15,
   "metadata": {},
   "outputs": [
    {
     "data": {
      "application/vnd.jupyter.widget-view+json": {
       "model_id": "dfb4b3cecf1e478880457dd6427ceeb8",
       "version_major": 2,
       "version_minor": 0
      },
      "text/plain": [
       "interactive(children=(IntSlider(value=15, description='SLICE', max=31), Output()), _dom_classes=('widget-inter…"
      ]
     },
     "metadata": {},
     "output_type": "display_data"
    }
   ],
   "source": [
    "explore_3D_array(arr=raw_img_ants_arr)"
   ]
  },
  {
   "cell_type": "code",
   "execution_count": 23,
   "metadata": {},
   "outputs": [
    {
     "data": {
      "application/vnd.jupyter.widget-view+json": {
       "model_id": "6f5690a362f34d6cb2b5ea029d074bc7",
       "version_major": 2,
       "version_minor": 0
      },
      "text/plain": [
       "interactive(children=(IntSlider(value=95, description='SLICE', max=191), Output()), _dom_classes=('widget-inte…"
      ]
     },
     "metadata": {},
     "output_type": "display_data"
    }
   ],
   "source": [
    "explore_3D_array(arr=raw_img_ants_arr)"
   ]
  },
  {
   "cell_type": "code",
   "execution_count": 60,
   "metadata": {},
   "outputs": [
    {
     "name": "stdout",
     "output_type": "stream",
     "text": [
      "Type: <class 'numpy.ndarray'>\n",
      "Shape: (218, 182, 182)\n"
     ]
    },
    {
     "data": {
      "application/vnd.jupyter.widget-view+json": {
       "model_id": "d646cf259b2c4860b185aa36ffbc523d",
       "version_major": 2,
       "version_minor": 0
      },
      "text/plain": [
       "interactive(children=(IntSlider(value=108, description='SLICE', max=217), Output()), _dom_classes=('widget-int…"
      ]
     },
     "metadata": {},
     "output_type": "display_data"
    }
   ],
   "source": [
    "raw_img_ants = ants.image_read(raw_img_path, reorient=\"ASR\")\n",
    "raw_img_ants_arr = raw_img_ants.numpy()\n",
    "\n",
    "print(f\"Type: {type(raw_img_ants_arr)}\")\n",
    "print(f\"Shape: {raw_img_ants_arr.shape}\")\n",
    "explore_3D_array(arr=raw_img_ants_arr)"
   ]
  },
  {
   "cell_type": "code",
   "execution_count": null,
   "metadata": {},
   "outputs": [
    {
     "name": "stdout",
     "output_type": "stream",
     "text": [
      "Type: <class 'numpy.ndarray'>\n",
      "Shape: (193, 193, 32)\n"
     ]
    },
    {
     "data": {
      "application/vnd.jupyter.widget-view+json": {
       "model_id": "3588d521ec054d8d8d718b9733a5160f",
       "version_major": 2,
       "version_minor": 0
      },
      "text/plain": [
       "interactive(children=(IntSlider(value=15, description='SLICE', max=31), Output()), _dom_classes=('widget-inter…"
      ]
     },
     "metadata": {},
     "output_type": "display_data"
    }
   ],
   "source": [
    "raw_img_ants = ants.image_read(raw_old, reorient=\"ASR\")\n",
    "raw_img_ants_arr = raw_img_ants.numpy()\n",
    "\n",
    "print(f\"Type: {type(raw_img_ants_arr)}\")\n",
    "print(f\"Shape: {raw_img_ants_arr.shape}\")\n",
    "explore_3D_array(arr=raw_img_ants_arr)"
   ]
  },
  {
   "cell_type": "code",
   "execution_count": null,
   "metadata": {},
   "outputs": [],
   "source": [
    "print(\n",
    "    raw_img_ants[\n",
    "        35:115,\n",
    "        :,\n",
    "    ].shape\n",
    ")"
   ]
  },
  {
   "cell_type": "code",
   "execution_count": null,
   "metadata": {},
   "outputs": [],
   "source": [
    "raw_img_ants_ = ants.from_numpy(\n",
    "    raw_img_ants[\n",
    "        50:114,\n",
    "        :,\n",
    "    ]\n",
    ")\n",
    "raw_img_ants_"
   ]
  },
  {
   "cell_type": "code",
   "execution_count": 179,
   "metadata": {},
   "outputs": [],
   "source": [
    "filin = ants.resample_image(raw_img_ants_, (2, 2, 2), False, 1)"
   ]
  },
  {
   "cell_type": "code",
   "execution_count": null,
   "metadata": {},
   "outputs": [],
   "source": [
    "print(filin)"
   ]
  },
  {
   "cell_type": "markdown",
   "metadata": {},
   "source": [
    "## SimpleITK"
   ]
  },
  {
   "cell_type": "code",
   "execution_count": 163,
   "metadata": {},
   "outputs": [],
   "source": [
    "def show_sitk_img_info(img: sitk.Image):\n",
    "    \"\"\"\n",
    "    Given a sitk.Image instance prints the information about the MRI image contained.\n",
    "\n",
    "    Args:\n",
    "      img : instance of the sitk.Image to check out\n",
    "    \"\"\"\n",
    "    pixel_type = img.GetPixelIDTypeAsString()\n",
    "    origin = img.GetOrigin()\n",
    "    dimensions = img.GetSize()\n",
    "    spacing = img.GetSpacing()\n",
    "    direction = img.GetDirection()\n",
    "\n",
    "    info = {\n",
    "        \"Pixel Type\": pixel_type,\n",
    "        \"Dimensions\": dimensions,\n",
    "        \"Spacing\": spacing,\n",
    "        \"Origin\": origin,\n",
    "        \"Direction\": direction,\n",
    "    }\n",
    "    for k, v in info.items():\n",
    "        print(f\" {k} : {v}\")"
   ]
  },
  {
   "cell_type": "code",
   "execution_count": 161,
   "metadata": {},
   "outputs": [],
   "source": [
    "raw_img_sitk = sitk.ReadImage(raw_img_path, sitk.sitkFloat32)"
   ]
  },
  {
   "cell_type": "code",
   "execution_count": null,
   "metadata": {},
   "outputs": [],
   "source": [
    "show_sitk_img_info(raw_img_sitk)"
   ]
  },
  {
   "cell_type": "code",
   "execution_count": null,
   "metadata": {},
   "outputs": [],
   "source": [
    "raw_img_sitk_arr = sitk.GetArrayFromImage(raw_img_sitk)\n",
    "\n",
    "print(f\"Type: {type(raw_img_sitk_arr)}\")\n",
    "print(f\"Shape: {raw_img_sitk_arr.shape}\")"
   ]
  },
  {
   "cell_type": "markdown",
   "metadata": {},
   "source": [
    "# Image Orientation"
   ]
  },
  {
   "cell_type": "markdown",
   "metadata": {},
   "source": [
    "## AntsPy is Z, Y, X and the same in numpy"
   ]
  },
  {
   "cell_type": "code",
   "execution_count": null,
   "metadata": {},
   "outputs": [],
   "source": [
    "raw_img_ants = ants.image_read(raw_img_path, reorient=\"LSP\")\n",
    "print(raw_img_ants)"
   ]
  },
  {
   "cell_type": "code",
   "execution_count": null,
   "metadata": {},
   "outputs": [],
   "source": [
    "print(raw_img_ants.get_orientation())"
   ]
  },
  {
   "cell_type": "code",
   "execution_count": null,
   "metadata": {},
   "outputs": [],
   "source": [
    "ants.plot(raw_img_ants, figsize=2, axis=2)"
   ]
  },
  {
   "cell_type": "markdown",
   "metadata": {},
   "source": [
    "## Simple ITK  is X, Y, Z and in the numpy is Z, Y, X"
   ]
  },
  {
   "cell_type": "code",
   "execution_count": 11,
   "metadata": {},
   "outputs": [],
   "source": [
    "raw_img_sitk = sitk.ReadImage(raw_img_path, sitk.sitkFloat32)\n",
    "raw_img_sitk = sitk.DICOMOrient(raw_img_sitk, \"RPS\")"
   ]
  },
  {
   "cell_type": "code",
   "execution_count": null,
   "metadata": {},
   "outputs": [],
   "source": [
    "raw_img_sitk_arr = sitk.GetArrayFromImage(raw_img_sitk)\n",
    "\n",
    "print(f\"Type: {type(raw_img_sitk_arr)}\")\n",
    "print(f\"Shape: {raw_img_sitk_arr.shape}\")"
   ]
  },
  {
   "cell_type": "markdown",
   "metadata": {},
   "source": [
    "# Registration "
   ]
  },
  {
   "cell_type": "code",
   "execution_count": 13,
   "metadata": {},
   "outputs": [],
   "source": [
    "raw_img_ants = ants.image_read(raw_img_path, reorient=\"IAL\")\n",
    "template = ants.image_read(template, reorient=\"IAL\")"
   ]
  },
  {
   "cell_type": "code",
   "execution_count": null,
   "metadata": {},
   "outputs": [],
   "source": [
    "ants.plot(raw_img_ants, figsize=2, axis=2)"
   ]
  },
  {
   "cell_type": "code",
   "execution_count": null,
   "metadata": {},
   "outputs": [],
   "source": [
    "print(raw_img_ants)\n",
    "print(template)"
   ]
  },
  {
   "cell_type": "code",
   "execution_count": null,
   "metadata": {},
   "outputs": [],
   "source": [
    "transformation = ants.registration(\n",
    "    fixed=template, moving=raw_img_ants, type_of_transform=\"SyN\", verbose=True\n",
    ")"
   ]
  },
  {
   "cell_type": "code",
   "execution_count": null,
   "metadata": {},
   "outputs": [],
   "source": [
    "transformation"
   ]
  },
  {
   "cell_type": "code",
   "execution_count": 187,
   "metadata": {},
   "outputs": [],
   "source": [
    "registered_img_ants = transformation[\"warpedmovout\"]"
   ]
  },
  {
   "cell_type": "code",
   "execution_count": null,
   "metadata": {},
   "outputs": [],
   "source": [
    "filin = ants.resample_image(registered_img_ants, (2, 2, 2), False, 1)\n",
    "print(filin)"
   ]
  },
  {
   "cell_type": "code",
   "execution_count": null,
   "metadata": {},
   "outputs": [],
   "source": [
    "ants.plot(filin, figsize=2, axis=2)"
   ]
  },
  {
   "cell_type": "code",
   "execution_count": null,
   "metadata": {},
   "outputs": [],
   "source": [
    "ants.plot(registered_img_ants, figsize=2, axis=2)"
   ]
  },
  {
   "cell_type": "code",
   "execution_count": null,
   "metadata": {},
   "outputs": [],
   "source": [
    "ants.plot(registered_img_ants, figsize=2, axis=2)"
   ]
  },
  {
   "cell_type": "code",
   "execution_count": null,
   "metadata": {},
   "outputs": [],
   "source": [
    "transformation = ants.registration(\n",
    "    fixed=template, moving=raw_img_ants, type_of_transform=\"SyN\", verbose=True\n",
    ")"
   ]
  },
  {
   "cell_type": "code",
   "execution_count": null,
   "metadata": {},
   "outputs": [],
   "source": [
    "# registered_img_ants.to_file(.nii.gz)"
   ]
  },
  {
   "cell_type": "code",
   "execution_count": null,
   "metadata": {},
   "outputs": [],
   "source": [
    "registered_mask_img_ants = ants.apply_transforms(\n",
    "    moving=mask_img_ants,  # <-- update\n",
    "    fixed=transformation[\"warpedmovout\"],\n",
    "    transformlist=transformation[\"fwdtransforms\"],\n",
    "    verbose=True,\n",
    ")"
   ]
  },
  {
   "cell_type": "markdown",
   "metadata": {},
   "source": [
    "# Skull-stripping"
   ]
  },
  {
   "cell_type": "code",
   "execution_count": 197,
   "metadata": {},
   "outputs": [],
   "source": [
    "raw_img_path = os.path.join(\n",
    "    BASE_DIR, \"data\", \"ADNI1\", \"ADNI1-Screening-Nifti\", \"002_S_0295.nii.gz\"\n",
    ")"
   ]
  },
  {
   "cell_type": "code",
   "execution_count": 198,
   "metadata": {},
   "outputs": [],
   "source": [
    "brain_path = os.path.join(BASE_DIR, \"data\", \"ADNI1\", \"Teste\", \"002_S_0295_brain.nii.gz\")\n",
    "mask_paths = os.path.join(BASE_DIR, \"data\", \"ADNI1\", \"Teste\", \"002_S_0295_mask.nii.gz\")\n",
    "tiv_paths = os.path.join(BASE_DIR, \"data\", \"ADNI1\", \"Teste\", \"002_S_0295.csv\")"
   ]
  },
  {
   "cell_type": "code",
   "execution_count": 199,
   "metadata": {},
   "outputs": [],
   "source": [
    "from deepbet import run_bet\n",
    "\n",
    "input_paths = [raw_img_path]\n",
    "brain_paths = [brain_path]\n",
    "mask_paths = [mask_paths]\n",
    "tiv_paths = [tiv_paths]\n",
    "run_bet(\n",
    "    input_paths,\n",
    "    brain_paths,\n",
    "    mask_paths,\n",
    "    tiv_paths,\n",
    "    threshold=0.5,\n",
    "    n_dilate=0,\n",
    "    no_gpu=False,\n",
    ")"
   ]
  },
  {
   "cell_type": "code",
   "execution_count": null,
   "metadata": {},
   "outputs": [],
   "source": [
    "raw_img_ants = ants.image_read(brain_paths[0])\n",
    "ants.plot(raw_img_ants, figsize=2, axis=2)"
   ]
  }
 ],
 "metadata": {
  "kernelspec": {
   "display_name": ".venv",
   "language": "python",
   "name": "python3"
  },
  "language_info": {
   "codemirror_mode": {
    "name": "ipython",
    "version": 3
   },
   "file_extension": ".py",
   "mimetype": "text/x-python",
   "name": "python",
   "nbconvert_exporter": "python",
   "pygments_lexer": "ipython3",
   "version": "3.11.5"
  }
 },
 "nbformat": 4,
 "nbformat_minor": 2
}
