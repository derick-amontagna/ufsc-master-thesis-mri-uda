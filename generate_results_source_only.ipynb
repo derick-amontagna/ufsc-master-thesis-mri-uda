{
 "cells": [
  {
   "cell_type": "code",
   "execution_count": null,
   "metadata": {},
   "outputs": [],
   "source": [
    "import pandas as pd"
   ]
  },
  {
   "cell_type": "code",
   "execution_count": null,
   "metadata": {},
   "outputs": [],
   "source": [
    "df = pd.read_csv(r'C:\\Users\\doxda\\OneDrive\\Documentos\\Repos\\masters-degree-data-shift\\results\\GE-SO-Siemens.csv')\n",
    "df.head()"
   ]
  },
  {
   "cell_type": "code",
   "execution_count": null,
   "metadata": {},
   "outputs": [],
   "source": [
    "df = pd.read_csv(r'C:\\Users\\doxda\\OneDrive\\Documentos\\Repos\\masters-degree-data-shift\\results\\GE-SO-Siemens.csv')\n",
    "print(f\"ACC: {df.Acc_Source.mean()*100} / DP: {df.Acc_Source.std()*100}\")\n",
    "print(f'AUC: {df.AUC_Source.mean()*100} / DP: {df.AUC_Source.std()*100}')\n",
    "print(f'ACC: {df.Acc_Target.mean()*100} / DP: {df.Acc_Target.std()*100}')\n",
    "print(f'AUC: {df.AUC_Target.mean()*100} / DP: {df.AUC_Target.std()*100}')"
   ]
  },
  {
   "cell_type": "code",
   "execution_count": null,
   "metadata": {},
   "outputs": [],
   "source": [
    "print(df.iloc[df['AUC_Source'].idxmax()]['name'])"
   ]
  },
  {
   "cell_type": "code",
   "execution_count": null,
   "metadata": {},
   "outputs": [],
   "source": [
    "df = pd.read_csv(r'C:\\Users\\doxda\\OneDrive\\Documentos\\Repos\\masters-degree-data-shift\\results\\GE-SO-Philips.csv')\n",
    "print(f\"ACC: {df.Acc_Source.mean()*100} / DP: {df.Acc_Source.std()*100}\")\n",
    "print(f'AUC: {df.AUC_Source.mean()*100} / DP: {df.AUC_Source.std()*100}')\n",
    "print(f'ACC: {df.Acc_Target.mean()*100} / DP: {df.Acc_Target.std()*100}')\n",
    "print(f'AUC: {df.AUC_Target.mean()*100} / DP: {df.AUC_Target.std()*100}')"
   ]
  },
  {
   "cell_type": "code",
   "execution_count": null,
   "metadata": {},
   "outputs": [],
   "source": [
    "print(df.iloc[df['AUC_Source'].idxmax()]['name'])"
   ]
  },
  {
   "cell_type": "code",
   "execution_count": null,
   "metadata": {},
   "outputs": [],
   "source": [
    "df = pd.read_csv(r'C:\\Users\\doxda\\OneDrive\\Documentos\\Repos\\masters-degree-data-shift\\results\\Philips-SO-GE.csv')\n",
    "print(f'ACC: {df.Acc_Source.mean()*100} / DP: {df.Acc_Source.std()*100}')\n",
    "print(f'AUC: {df.AUC_Source.mean()*100} / DP: {df.AUC_Source.std()*100}')\n",
    "print(f'ACC: {df.Acc_Target.mean()*100} / DP: {df.Acc_Target.std()*100}')\n",
    "print(f'AUC: {df.AUC_Target.mean()*100} / DP: {df.AUC_Target.std()*100}')"
   ]
  },
  {
   "cell_type": "code",
   "execution_count": null,
   "metadata": {},
   "outputs": [],
   "source": [
    "print(df.iloc[df['AUC_Source'].idxmax()]['name'])"
   ]
  },
  {
   "cell_type": "code",
   "execution_count": null,
   "metadata": {},
   "outputs": [],
   "source": [
    "df = pd.read_csv(r'C:\\Users\\doxda\\OneDrive\\Documentos\\Repos\\masters-degree-data-shift\\results\\Philips-SO-Siemens.csv')\n",
    "print(f'ACC: {df.Acc_Source.mean()*100} / DP: {df.Acc_Source.std()*100}')\n",
    "print(f'AUC: {df.AUC_Source.mean()*100} / DP: {df.AUC_Source.std()*100}')\n",
    "print(f'ACC: {df.Acc_Target.mean()*100} / DP: {df.Acc_Target.std()*100}')\n",
    "print(f'AUC: {df.AUC_Target.mean()*100} / DP: {df.AUC_Target.std()*100}')"
   ]
  },
  {
   "cell_type": "code",
   "execution_count": null,
   "metadata": {},
   "outputs": [],
   "source": [
    "df = pd.read_csv(r'C:\\Users\\doxda\\OneDrive\\Documentos\\Repos\\masters-degree-data-shift\\results\\Siemens-SO-GE.csv')\n",
    "print(f'ACC: {df.Acc_Source.mean()*100} / DP: {df.Acc_Source.std()*100}')\n",
    "print(f'AUC: {df.AUC_Source.mean()*100} / DP: {df.AUC_Source.std()*100}')\n",
    "print(f'ACC: {df.Acc_Target.mean()*100} / DP: {df.Acc_Target.std()*100}')\n",
    "print(f'AUC: {df.AUC_Target.mean()*100} / DP: {df.AUC_Target.std()*100}')"
   ]
  },
  {
   "cell_type": "code",
   "execution_count": null,
   "metadata": {},
   "outputs": [],
   "source": [
    "print(df.iloc[df['AUC_Source'].idxmax()]['name'])"
   ]
  },
  {
   "cell_type": "code",
   "execution_count": null,
   "metadata": {},
   "outputs": [],
   "source": [
    "df = pd.read_csv(r'C:\\Users\\doxda\\OneDrive\\Documentos\\Repos\\masters-degree-data-shift\\results\\Siemens-SO-Philips.csv')\n",
    "print(f'ACC: {df.Acc_Source.mean()*100} / DP: {df.Acc_Source.std()*100}')\n",
    "print(f'AUC: {df.AUC_Source.mean()*100} / DP: {df.AUC_Source.std()*100}')\n",
    "print(f'ACC: {df.Acc_Target.mean()*100} / DP: {df.Acc_Target.std()*100}')\n",
    "print(f'AUC: {df.AUC_Target.mean()*100} / DP: {df.AUC_Target.std()*100}')"
   ]
  }
 ],
 "metadata": {
  "kernelspec": {
   "display_name": ".venv",
   "language": "python",
   "name": "python3"
  },
  "language_info": {
   "codemirror_mode": {
    "name": "ipython",
    "version": 3
   },
   "file_extension": ".py",
   "mimetype": "text/x-python",
   "name": "python",
   "nbconvert_exporter": "python",
   "pygments_lexer": "ipython3",
   "version": "3.11.5"
  }
 },
 "nbformat": 4,
 "nbformat_minor": 2
}
